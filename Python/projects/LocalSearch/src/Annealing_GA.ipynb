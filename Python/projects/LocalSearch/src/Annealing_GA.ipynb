{
 "cells": [
  {
   "cell_type": "code",
   "execution_count": 1,
   "metadata": {
    "collapsed": true
   },
   "outputs": [],
   "source": [
    "import numpy as np\n",
    "import pandas as pd\n",
    "import matplotlib.pyplot as plt\n",
    "from math import sqrt, exp\n",
    "import random\n",
    "from random import shuffle"
   ]
  },
  {
   "cell_type": "code",
   "execution_count": 2,
   "metadata": {
    "collapsed": false
   },
   "outputs": [
    {
     "data": {
      "text/html": [
       "<div>\n",
       "<table border=\"1\" class=\"dataframe\">\n",
       "  <thead>\n",
       "    <tr style=\"text-align: right;\">\n",
       "      <th></th>\n",
       "      <th>index</th>\n",
       "      <th>x</th>\n",
       "      <th>y</th>\n",
       "    </tr>\n",
       "  </thead>\n",
       "  <tbody>\n",
       "    <tr>\n",
       "      <th>0</th>\n",
       "      <td>1</td>\n",
       "      <td>565</td>\n",
       "      <td>575</td>\n",
       "    </tr>\n",
       "    <tr>\n",
       "      <th>1</th>\n",
       "      <td>2</td>\n",
       "      <td>25</td>\n",
       "      <td>185</td>\n",
       "    </tr>\n",
       "    <tr>\n",
       "      <th>2</th>\n",
       "      <td>3</td>\n",
       "      <td>345</td>\n",
       "      <td>750</td>\n",
       "    </tr>\n",
       "    <tr>\n",
       "      <th>3</th>\n",
       "      <td>4</td>\n",
       "      <td>945</td>\n",
       "      <td>685</td>\n",
       "    </tr>\n",
       "    <tr>\n",
       "      <th>4</th>\n",
       "      <td>5</td>\n",
       "      <td>845</td>\n",
       "      <td>655</td>\n",
       "    </tr>\n",
       "    <tr>\n",
       "      <th>5</th>\n",
       "      <td>6</td>\n",
       "      <td>880</td>\n",
       "      <td>660</td>\n",
       "    </tr>\n",
       "    <tr>\n",
       "      <th>6</th>\n",
       "      <td>7</td>\n",
       "      <td>25</td>\n",
       "      <td>230</td>\n",
       "    </tr>\n",
       "    <tr>\n",
       "      <th>7</th>\n",
       "      <td>8</td>\n",
       "      <td>525</td>\n",
       "      <td>1000</td>\n",
       "    </tr>\n",
       "    <tr>\n",
       "      <th>8</th>\n",
       "      <td>9</td>\n",
       "      <td>580</td>\n",
       "      <td>1175</td>\n",
       "    </tr>\n",
       "    <tr>\n",
       "      <th>9</th>\n",
       "      <td>10</td>\n",
       "      <td>650</td>\n",
       "      <td>1130</td>\n",
       "    </tr>\n",
       "  </tbody>\n",
       "</table>\n",
       "</div>"
      ],
      "text/plain": [
       "   index    x     y\n",
       "0      1  565   575\n",
       "1      2   25   185\n",
       "2      3  345   750\n",
       "3      4  945   685\n",
       "4      5  845   655\n",
       "5      6  880   660\n",
       "6      7   25   230\n",
       "7      8  525  1000\n",
       "8      9  580  1175\n",
       "9     10  650  1130"
      ]
     },
     "execution_count": 2,
     "metadata": {},
     "output_type": "execute_result"
    }
   ],
   "source": [
    "# Loading Data\n",
    "data = pd.read_csv('../data/TSP.csv')\n",
    "data.head(10)"
   ]
  },
  {
   "cell_type": "code",
   "execution_count": 3,
   "metadata": {
    "collapsed": false
   },
   "outputs": [
    {
     "name": "stdout",
     "output_type": "stream",
     "text": [
      "(52, 3)\n"
     ]
    }
   ],
   "source": [
    "print(data.shape)"
   ]
  },
  {
   "cell_type": "code",
   "execution_count": 4,
   "metadata": {
    "collapsed": true
   },
   "outputs": [],
   "source": [
    "I = data['index'].tolist()\n",
    "X = data['x'].tolist()\n",
    "Y = data['y'].tolist()"
   ]
  },
  {
   "cell_type": "code",
   "execution_count": 5,
   "metadata": {
    "collapsed": true
   },
   "outputs": [],
   "source": [
    "def plot_path(points):\n",
    "    max_length = len(points)\n",
    "    for i in range(max_length):\n",
    "        point = points[i] - 1\n",
    "        i1, x1, y1 = I[point], X[point], Y[point]\n",
    "        plt.plot(x1, y1, \"o\", color='r')\n",
    "        plt.text(x1, y1, i1)\n",
    "        if (i + 1) < 51:\n",
    "            j = points[i + 1] - 1\n",
    "            i2, x2, y2 = I[j], X[j], Y[j]\n",
    "        else:\n",
    "            i2, x2, y2 = I[0], X[0], Y[0]\n",
    "        plt.plot([x1, x1], [y1, y2], linestyle='-', color='b', linewidth=1)\n",
    "        plt.plot([x1, x2], [y2, y2], linestyle='-', color='b', linewidth=1)\n",
    "    plt.axis([-50, 2000, -50, 1300])\n",
    "    plt.show()  "
   ]
  },
  {
   "cell_type": "code",
   "execution_count": 6,
   "metadata": {
    "collapsed": true
   },
   "outputs": [],
   "source": [
    "def get_distance(points):\n",
    "    dist = 0\n",
    "    manhattan = lambda x1, x2, y1, y2: abs(x1 - x2) + abs(y1 - y2)\n",
    "    max_length = len(points)\n",
    "    for i in range(max_length):\n",
    "        point = points[i] - 1\n",
    "        x1, y1 = X[point], Y[point]\n",
    "        if (i + 1) < 51:\n",
    "            j = points[i + 1] - 1\n",
    "            x2, y2 = X[j], Y[j]\n",
    "        else:\n",
    "            x2, y2 = X[0], Y[0]\n",
    "        dist += manhattan(x1, x2, y1, y2)\n",
    "    return dist"
   ]
  },
  {
   "cell_type": "code",
   "execution_count": 7,
   "metadata": {
    "collapsed": false
   },
   "outputs": [
    {
     "name": "stdout",
     "output_type": "stream",
     "text": [
      "[7, 1, 34, 16, 17, 6, 41, 51, 20, 43, 46, 48, 15, 33, 3, 50, 13, 24, 19, 35, 44, 31, 25, 27, 38, 21, 30, 23, 18, 8, 12, 36, 26, 37, 28, 47, 39, 11, 42, 2, 14, 52, 9, 22, 32, 4, 10, 45, 40, 49, 5, 29]\n"
     ]
    }
   ],
   "source": [
    "test_points = list(I)\n",
    "shuffle(test_points)\n",
    "print(test_points)"
   ]
  },
  {
   "cell_type": "code",
   "execution_count": 8,
   "metadata": {
    "collapsed": false
   },
   "outputs": [
    {
     "name": "stdout",
     "output_type": "stream",
     "text": [
      "34265\n"
     ]
    }
   ],
   "source": [
    "print(get_distance(test_points))"
   ]
  },
  {
   "cell_type": "code",
   "execution_count": 9,
   "metadata": {
    "collapsed": false
   },
   "outputs": [
    {
     "data": {
      "image/png": "[encoded data removed]",
      "text/plain": [
       "<matplotlib.figure.Figure at 0x7f681b1bb748>"
      ]
     },
     "metadata": {},
     "output_type": "display_data"
    }
   ],
   "source": [
    "plot_path(test_points)"
   ]
  },
  {
   "cell_type": "code",
   "execution_count": 10,
   "metadata": {
    "collapsed": true
   },
   "outputs": [],
   "source": [
    "# Task 3 (Simulated Annealing)"
   ]
  },
  {
   "cell_type": "code",
   "execution_count": 11,
   "metadata": {
    "collapsed": true
   },
   "outputs": [],
   "source": [
    "def get_probability(prev_score, next_score, temperature):\n",
    "    if next_score < prev_score:\n",
    "        return 1.0\n",
    "    else:\n",
    "        return exp(-abs(next_score - prev_score) / temperature )"
   ]
  },
  {
   "cell_type": "code",
   "execution_count": 12,
   "metadata": {
    "collapsed": true
   },
   "outputs": [],
   "source": [
    "def get_permutation(points):\n",
    "    bound = len(points) - 1\n",
    "    item = list(points)\n",
    "    i = random.randint(0, bound)\n",
    "    j = random.randint(0, bound)\n",
    "    item[i], item[j] = item[j], item[i]\n",
    "    return item"
   ]
  },
  {
   "cell_type": "code",
   "execution_count": 13,
   "metadata": {
    "collapsed": true
   },
   "outputs": [],
   "source": [
    "def kirkpatrick_cooling(start_temp, alpha):\n",
    "    T = start_temp\n",
    "    while True:\n",
    "        yield T\n",
    "        T=alpha * T"
   ]
  },
  {
   "cell_type": "code",
   "execution_count": 23,
   "metadata": {
    "collapsed": true
   },
   "outputs": [],
   "source": [
    "temperatue = kirkpatrick_cooling(100, 0.98)"
   ]
  },
  {
   "cell_type": "code",
   "execution_count": 24,
   "metadata": {
    "collapsed": false
   },
   "outputs": [],
   "source": [
    "prev = list(I)\n",
    "shuffle(prev)"
   ]
  },
  {
   "cell_type": "code",
   "execution_count": 25,
   "metadata": {
    "collapsed": false
   },
   "outputs": [
    {
     "name": "stdout",
     "output_type": "stream",
     "text": [
      "Temperature: 9.963056005479233e-05\n",
      "Distance: 16845\n",
      "Temperature: 9.963056005479233e-05\n",
      "Distance: 14040\n",
      "Temperature: 9.963056005479233e-05\n",
      "Distance: 12520\n",
      "Temperature: 9.963056005479233e-05\n",
      "Distance: 11855\n"
     ]
    }
   ],
   "source": [
    "for i in range(1,5):\n",
    "    temperatue = kirkpatrick_cooling(100, 0.99)\n",
    "    for temp in temperatue:\n",
    "        if temp < 0.0001:\n",
    "            break;\n",
    "        neighbour = get_permutation(prev)\n",
    "        prev_score = get_distance(prev)\n",
    "        next_score = get_distance(neighbour)\n",
    "        P = get_probability(prev_score, next_score, temp)\n",
    "        if random.random() < P:\n",
    "            prev = list(neighbour)\n",
    "    print(\"Temperature:\", temp)\n",
    "    print(\"Distance:\", get_distance(prev))"
   ]
  },
  {
   "cell_type": "code",
   "execution_count": 26,
   "metadata": {
    "collapsed": false
   },
   "outputs": [
    {
     "data": {
      "image/png": "[encoded data removed]",
      "text/plain": [
       "<matplotlib.figure.Figure at 0x7f67eaf89470>"
      ]
     },
     "metadata": {},
     "output_type": "display_data"
    }
   ],
   "source": [
    "plot_path(prev)"
   ]
  },
  {
   "cell_type": "code",
   "execution_count": 27,
   "metadata": {
    "collapsed": false
   },
   "outputs": [
    {
     "name": "stdout",
     "output_type": "stream",
     "text": [
      "Distance: 11855\n"
     ]
    }
   ],
   "source": [
    "print(\"Distance:\", get_distance(prev))"
   ]
  },
  {
   "cell_type": "code",
   "execution_count": 28,
   "metadata": {
    "collapsed": true
   },
   "outputs": [],
   "source": [
    "# Task 4 (GA)"
   ]
  },
  {
   "cell_type": "code",
   "execution_count": 29,
   "metadata": {
    "collapsed": true
   },
   "outputs": [],
   "source": [
    "def generate(amount):\n",
    "    population = []\n",
    "    prev = list(I)\n",
    "    shuffle(prev)\n",
    "    for i in range(amount):\n",
    "        population.append(get_permutation(prev))\n",
    "    return list(population)"
   ]
  },
  {
   "cell_type": "code",
   "execution_count": 30,
   "metadata": {
    "collapsed": true
   },
   "outputs": [],
   "source": [
    "def get_top(path_array, amount):\n",
    "    return list(sorted(path_array, key=lambda x: get_distance(x), reverse=False)[:amount])"
   ]
  },
  {
   "cell_type": "code",
   "execution_count": 31,
   "metadata": {
    "collapsed": false
   },
   "outputs": [],
   "source": [
    "def mutate(a_array, b_array):\n",
    "    result = []\n",
    "    a_ind = 0\n",
    "    b_ind = 0\n",
    "    for i in range(0, len(a_array)):\n",
    "        take = random.randint(0, 1)\n",
    "        if take == 0 and a_ind < len(a_array):\n",
    "            add_elem(result, a_array, a_ind)\n",
    "            a_ind += 1\n",
    "        else:\n",
    "            add_elem(result, b_array, b_ind)\n",
    "            b_ind += 1\n",
    "    return result"
   ]
  },
  {
   "cell_type": "code",
   "execution_count": 32,
   "metadata": {
    "collapsed": true
   },
   "outputs": [],
   "source": [
    "def add_elem(result, source, index):\n",
    "    elems = set(result)\n",
    "    for i in range(index, len(source)):\n",
    "        if source[i] not in elems:\n",
    "            result.append(source[i])\n",
    "            break"
   ]
  },
  {
   "cell_type": "code",
   "execution_count": 33,
   "metadata": {
    "collapsed": false
   },
   "outputs": [],
   "source": [
    "def get_mutations(path_array):\n",
    "    result = []\n",
    "    for i in range(0, len(path_array) - 1):\n",
    "        for j in range(i, len(path_array) - 1):\n",
    "            result.append(mutate(path_array[i], path_array[j]))\n",
    "    return list(result)"
   ]
  },
  {
   "cell_type": "code",
   "execution_count": 34,
   "metadata": {
    "collapsed": true
   },
   "outputs": [],
   "source": [
    "def get_permutations(path_array):\n",
    "    result = []\n",
    "    for i in path_array:\n",
    "        result.append(get_permutation(i))\n",
    "    return result"
   ]
  },
  {
   "cell_type": "code",
   "execution_count": 35,
   "metadata": {
    "collapsed": false
   },
   "outputs": [],
   "source": [
    "start_500 = generate(500)\n",
    "prev = get_top(start_500, 100)"
   ]
  },
  {
   "cell_type": "code",
   "execution_count": 36,
   "metadata": {
    "collapsed": false
   },
   "outputs": [
    {
     "name": "stdout",
     "output_type": "stream",
     "text": [
      "0 : 33570\n",
      "1 : 29960\n",
      "2 : 26550\n",
      "3 : 24460\n",
      "4 : 22890\n",
      "5 : 21240\n",
      "6 : 19670\n",
      "7 : 18830\n",
      "8 : 18680\n",
      "9 : 18590\n",
      "10 : 18320\n",
      "11 : 17750\n",
      "12 : 17380\n",
      "13 : 16970\n",
      "14 : 16760\n",
      "15 : 16750\n",
      "16 : 16520\n",
      "17 : 16460\n",
      "18 : 16390\n",
      "19 : 15820\n",
      "20 : 15420\n",
      "21 : 14750\n",
      "22 : 14720\n",
      "23 : 14640\n",
      "24 : 14320\n",
      "25 : 14240\n",
      "26 : 14155\n",
      "27 : 14155\n",
      "28 : 14155\n",
      "29 : 13930\n",
      "30 : 13840\n",
      "31 : 13760\n",
      "32 : 13685\n",
      "33 : 13685\n",
      "34 : 13685\n",
      "35 : 13650\n",
      "36 : 13640\n",
      "37 : 13510\n",
      "38 : 13510\n",
      "39 : 13510\n",
      "40 : 13510\n",
      "41 : 13440\n",
      "42 : 13430\n",
      "43 : 13340\n",
      "44 : 13150\n",
      "45 : 13050\n",
      "46 : 13050\n",
      "47 : 13025\n",
      "48 : 12995\n",
      "49 : 12765\n",
      "50 : 12765\n",
      "51 : 12765\n",
      "52 : 12640\n",
      "53 : 12640\n",
      "54 : 12640\n",
      "55 : 12640\n",
      "56 : 12640\n",
      "57 : 12610\n",
      "58 : 12610\n",
      "59 : 12610\n",
      "60 : 12580\n",
      "61 : 12580\n",
      "62 : 12480\n",
      "63 : 12480\n",
      "64 : 12380\n",
      "65 : 12350\n",
      "66 : 12255\n",
      "67 : 12240\n",
      "68 : 12190\n",
      "69 : 12180\n",
      "70 : 12180\n",
      "71 : 12180\n",
      "72 : 12130\n",
      "73 : 12040\n",
      "74 : 11990\n"
     ]
    }
   ],
   "source": [
    "for i in range(75):\n",
    "    mutations = list(get_mutations(prev))\n",
    "    perms = get_permutations(prev)\n",
    "    all_items = list(prev + mutations + perms)\n",
    "    prev = list(get_top(all_items, 100))\n",
    "    \n",
    "    print(i,\":\",get_distance(prev[0]))"
   ]
  },
  {
   "cell_type": "code",
   "execution_count": 400,
   "metadata": {
    "collapsed": false
   },
   "outputs": [
    {
     "name": "stdout",
     "output_type": "stream",
     "text": [
      "12455\n"
     ]
    }
   ],
   "source": [
    "print(get_distance(prev[0]))"
   ]
  },
  {
   "cell_type": "code",
   "execution_count": 401,
   "metadata": {
    "collapsed": false
   },
   "outputs": [
    {
     "data": {
      "image/png": "[encoded data removed]",
      "text/plain": [
       "<matplotlib.figure.Figure at 0x7ff87a19f6d8>"
      ]
     },
     "metadata": {},
     "output_type": "display_data"
    }
   ],
   "source": [
    "plot_path(prev[0])"
   ]
  }
 ],
 "metadata": {
  "kernelspec": {
   "display_name": "Python 3",
   "language": "python",
   "name": "python3"
  },
  "language_info": {
   "codemirror_mode": {
    "name": "ipython",
    "version": 3
   },
   "file_extension": ".py",
   "mimetype": "text/x-python",
   "name": "python",
   "nbconvert_exporter": "python",
   "pygments_lexer": "ipython3",
   "version": "3.5.2"
  }
 },
 "nbformat": 4,
 "nbformat_minor": 1
}
