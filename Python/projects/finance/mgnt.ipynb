{
 "cells": [
  {
   "cell_type": "markdown",
   "metadata": {},
   "source": [
    "# Stocks\n",
    "### Using Google Finance API"
   ]
  },
  {
   "cell_type": "code",
   "execution_count": 26,
   "metadata": {},
   "outputs": [],
   "source": [
    "from googlefinance.client import get_price_data, get_prices_data, get_prices_time_data\n",
    "from datetime import datetime"
   ]
  },
  {
   "cell_type": "code",
   "execution_count": 27,
   "metadata": {},
   "outputs": [],
   "source": [
    "import plotly.plotly as py\n",
    "import plotly.graph_objs as plotly_go\n",
    "import plotly"
   ]
  },
  {
   "cell_type": "code",
   "execution_count": 28,
   "metadata": {},
   "outputs": [],
   "source": [
    "# Logging to plotly\n",
    "plotly.tools.set_credentials_file(username='', api_key='')"
   ]
  },
  {
   "cell_type": "code",
   "execution_count": 29,
   "metadata": {},
   "outputs": [
    {
     "data": {
      "text/html": [
       "<div>\n",
       "<style scoped>\n",
       "    .dataframe tbody tr th:only-of-type {\n",
       "        vertical-align: middle;\n",
       "    }\n",
       "\n",
       "    .dataframe tbody tr th {\n",
       "        vertical-align: top;\n",
       "    }\n",
       "\n",
       "    .dataframe thead th {\n",
       "        text-align: right;\n",
       "    }\n",
       "</style>\n",
       "<table border=\"1\" class=\"dataframe\">\n",
       "  <thead>\n",
       "    <tr style=\"text-align: right;\">\n",
       "      <th></th>\n",
       "      <th>Open</th>\n",
       "      <th>High</th>\n",
       "      <th>Low</th>\n",
       "      <th>Close</th>\n",
       "      <th>Volume</th>\n",
       "    </tr>\n",
       "  </thead>\n",
       "  <tbody>\n",
       "    <tr>\n",
       "      <th>2017-12-25 19:00:00</th>\n",
       "      <td>6252.0</td>\n",
       "      <td>6287.0</td>\n",
       "      <td>6233.0</td>\n",
       "      <td>6237.0</td>\n",
       "      <td>49113</td>\n",
       "    </tr>\n",
       "    <tr>\n",
       "      <th>2017-12-26 19:00:00</th>\n",
       "      <td>6231.0</td>\n",
       "      <td>6290.0</td>\n",
       "      <td>6220.0</td>\n",
       "      <td>6244.0</td>\n",
       "      <td>81942</td>\n",
       "    </tr>\n",
       "    <tr>\n",
       "      <th>2017-12-27 19:00:00</th>\n",
       "      <td>6204.0</td>\n",
       "      <td>6280.0</td>\n",
       "      <td>6202.0</td>\n",
       "      <td>6265.0</td>\n",
       "      <td>201003</td>\n",
       "    </tr>\n",
       "    <tr>\n",
       "      <th>2017-12-28 19:00:00</th>\n",
       "      <td>6265.0</td>\n",
       "      <td>6290.0</td>\n",
       "      <td>6250.0</td>\n",
       "      <td>6270.0</td>\n",
       "      <td>119102</td>\n",
       "    </tr>\n",
       "    <tr>\n",
       "      <th>2017-12-29 19:00:00</th>\n",
       "      <td>6252.0</td>\n",
       "      <td>6377.0</td>\n",
       "      <td>6251.0</td>\n",
       "      <td>6340.0</td>\n",
       "      <td>155918</td>\n",
       "    </tr>\n",
       "  </tbody>\n",
       "</table>\n",
       "</div>"
      ],
      "text/plain": [
       "                       Open    High     Low   Close  Volume\n",
       "2017-12-25 19:00:00  6252.0  6287.0  6233.0  6237.0   49113\n",
       "2017-12-26 19:00:00  6231.0  6290.0  6220.0  6244.0   81942\n",
       "2017-12-27 19:00:00  6204.0  6280.0  6202.0  6265.0  201003\n",
       "2017-12-28 19:00:00  6265.0  6290.0  6250.0  6270.0  119102\n",
       "2017-12-29 19:00:00  6252.0  6377.0  6251.0  6340.0  155918"
      ]
     },
     "execution_count": 29,
     "metadata": {},
     "output_type": "execute_result"
    }
   ],
   "source": [
    "# MGNT daily infromation\n",
    "mgnt_param_daily = {\n",
    "    'q': \"MGNT\",  # Stock symbol \n",
    "    'i': \"86400\", # Interval size in seconds (\"86400\" = 1 day intervals)\n",
    "    'x': \"MCX\",   # Stock exchange symbol on which stock is traded (ex: \"NASD\")\n",
    "    'p': \"3M\"     # Period (Ex: \"1Y\" = 1 year)\n",
    "}\n",
    "mgnt_df = get_price_data(mgnt_param_daily)\n",
    "mgnt_df.head()"
   ]
  },
  {
   "cell_type": "code",
   "execution_count": 30,
   "metadata": {},
   "outputs": [],
   "source": [
    "# MGNT candle sticks\n",
    "trace = plotly_go.Candlestick(x=mgnt_df.index\n",
    "                             , open=mgnt_df.Open\n",
    "                             , high=mgnt_df.High\n",
    "                             , low=mgnt_df.Low\n",
    "                             , close=mgnt_df.Close)"
   ]
  },
  {
   "cell_type": "code",
   "execution_count": 31,
   "metadata": {},
   "outputs": [
    {
     "name": "stdout",
     "output_type": "stream",
     "text": [
      "High five! You successfully sent some data to your account on plotly. View your plot in your browser at https://plot.ly/~airvan21/0 or inside your plot.ly account where it is named 'simple_candlestick'\n"
     ]
    },
    {
     "data": {
      "text/html": [
       "<iframe id=\"igraph\" scrolling=\"no\" style=\"border:none;\" seamless=\"seamless\" src=\"https://plot.ly/~airvan21/0.embed\" height=\"525px\" width=\"100%\"></iframe>"
      ],
      "text/plain": [
       "<plotly.tools.PlotlyDisplay object>"
      ]
     },
     "execution_count": 31,
     "metadata": {},
     "output_type": "execute_result"
    }
   ],
   "source": [
    "py.iplot([trace], filename='simple_candlestick')"
   ]
  },
  {
   "cell_type": "code",
   "execution_count": 32,
   "metadata": {},
   "outputs": [],
   "source": [
    "# MGNT turnover\n",
    "turnover = plotly_go.Scatter(\n",
    "      x = mgnt_df.index\n",
    "    , y = mgnt_df.Volume\n",
    "    , mode = 'lines+markers'\n",
    "    , name = 'lines+markers'\n",
    ")"
   ]
  },
  {
   "cell_type": "code",
   "execution_count": 33,
   "metadata": {},
   "outputs": [
    {
     "data": {
      "text/html": [
       "<iframe id=\"igraph\" scrolling=\"no\" style=\"border:none;\" seamless=\"seamless\" src=\"https://plot.ly/~airvan21/2.embed\" height=\"525px\" width=\"100%\"></iframe>"
      ],
      "text/plain": [
       "<plotly.tools.PlotlyDisplay object>"
      ]
     },
     "execution_count": 33,
     "metadata": {},
     "output_type": "execute_result"
    }
   ],
   "source": [
    "py.iplot([turnover], filename='line-mode')"
   ]
  },
  {
   "cell_type": "code",
   "execution_count": 34,
   "metadata": {},
   "outputs": [],
   "source": [
    "# MGNT close price\n",
    "close_price = plotly_go.Scatter(\n",
    "      x = mgnt_df.index\n",
    "    , y = mgnt_df.Close\n",
    "    , mode = 'lines+markers')"
   ]
  },
  {
   "cell_type": "code",
   "execution_count": 19,
   "metadata": {},
   "outputs": [
    {
     "data": {
      "text/html": [
       "<iframe id=\"igraph\" scrolling=\"no\" style=\"border:none;\" seamless=\"seamless\" src=\"https://plot.ly/~airvan21/2.embed\" height=\"525px\" width=\"100%\"></iframe>"
      ],
      "text/plain": [
       "<plotly.tools.PlotlyDisplay object>"
      ]
     },
     "execution_count": 19,
     "metadata": {},
     "output_type": "execute_result"
    }
   ],
   "source": [
    "py.iplot([close_price], filename='line-mode')"
   ]
  }
 ],
 "metadata": {
  "kernelspec": {
   "display_name": "Python 3",
   "language": "python",
   "name": "python3"
  },
  "language_info": {
   "codemirror_mode": {
    "name": "ipython",
    "version": 3
   },
   "file_extension": ".py",
   "mimetype": "text/x-python",
   "name": "python",
   "nbconvert_exporter": "python",
   "pygments_lexer": "ipython3",
   "version": "3.5.2"
  }
 },
 "nbformat": 4,
 "nbformat_minor": 1
}
