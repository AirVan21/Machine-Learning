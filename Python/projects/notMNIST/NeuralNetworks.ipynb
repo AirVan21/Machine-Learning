{
 "cells": [
  {
   "cell_type": "code",
   "execution_count": 1,
   "metadata": {
    "collapsed": false
   },
   "outputs": [],
   "source": [
    "# Import Images from local path\n",
    "from scipy import ndimage\n",
    "from os.path import join\n",
    "import numpy as np\n",
    "from os import walk\n",
    "from sklearn.model_selection import train_test_split"
   ]
  },
  {
   "cell_type": "code",
   "execution_count": 2,
   "metadata": {
    "collapsed": false
   },
   "outputs": [],
   "source": [
    "# Setting storage objects\n",
    "PATH = 'data'\n",
    "LETTER_COUNT = 10\n",
    "FILES_COUNT = 1873 * LETTER_COUNT\n",
    "X = np.zeros((FILES_COUNT, 28, 28, 1))\n",
    "Y = np.zeros((FILES_COUNT, LETTER_COUNT))"
   ]
  },
  {
   "cell_type": "code",
   "execution_count": 3,
   "metadata": {
    "collapsed": false
   },
   "outputs": [],
   "source": [
    "# Loading data\n",
    "# (deleted 2 images)\n",
    "def saveImage(X, Y, img, i):\n",
    "    X[i] = img.reshape((28, 28, 1))\n",
    "    index = ord(root.split('/')[-1]) - ord('A')\n",
    "    line = [0] * 10\n",
    "    line[index] = 1\n",
    "    Y[i] = line\n",
    "    \n",
    "i = 0\n",
    "for root, dirs, files in walk(PATH):\n",
    "    for file_name in files:\n",
    "        img = ndimage.imread(join(root, file_name))\n",
    "        saveImage(X, Y, img, i)\n",
    "        i += 1"
   ]
  },
  {
   "cell_type": "code",
   "execution_count": 4,
   "metadata": {
    "collapsed": true
   },
   "outputs": [],
   "source": [
    "# Data split\n",
    "X_train, X_test, Y_train, Y_test = train_test_split(X, Y, test_size=0.2, random_state=2016)\n",
    "X_valid, X_test, Y_valid, Y_test = train_test_split(X_test, Y_test, test_size=0.5, random_state=2016)"
   ]
  },
  {
   "cell_type": "code",
   "execution_count": 5,
   "metadata": {
    "collapsed": false
   },
   "outputs": [
    {
     "name": "stderr",
     "output_type": "stream",
     "text": [
      "Using Theano backend.\n"
     ]
    }
   ],
   "source": [
    "# Import Keras moduls\n",
    "from keras.models import Sequential\n",
    "from keras.layers import Dense, Activation, Convolution2D, Flatten, MaxPooling2D, Dropout"
   ]
  },
  {
   "cell_type": "code",
   "execution_count": 6,
   "metadata": {
    "collapsed": true
   },
   "outputs": [],
   "source": [
    "# Compile logic\n",
    "def compile(model):\n",
    "    model.compile(loss='categorical_crossentropy'\n",
    "                  , optimizer='adagrad'\n",
    "                  , metrics=['accuracy'])\n",
    "\n",
    "    model.fit(X_train.reshape((len(X_train), 28 * 28))\n",
    "              , Y_train\n",
    "              , nb_epoch=10     # Number of times to iterate over the training data arrays \n",
    "              , batch_size=256) # Number of samples per gradient update    \n",
    "\n",
    "    loss, acc = model.evaluate(X_valid.reshape((len(X_valid), 28 * 28))\n",
    "                                      , Y_valid\n",
    "                                      , batch_size=256)\n",
    "    print(\"\\nLoss =\", loss)\n",
    "    print(\"Accuracy =\", acc)"
   ]
  },
  {
   "cell_type": "code",
   "execution_count": 7,
   "metadata": {
    "collapsed": false
   },
   "outputs": [
    {
     "name": "stdout",
     "output_type": "stream",
     "text": [
      "____________________________________________________________________________________________________\n",
      "Layer (type)                     Output Shape          Param #     Connected to                     \n",
      "====================================================================================================\n",
      "dense_1 (Dense)                  (None, 10)            7850        dense_input_1[0][0]              \n",
      "____________________________________________________________________________________________________\n",
      "activation_1 (Activation)        (None, 10)            0           dense_1[0][0]                    \n",
      "====================================================================================================\n",
      "Total params: 7850\n",
      "____________________________________________________________________________________________________\n"
     ]
    }
   ],
   "source": [
    "# Task 1. Build NN with Softmax activation\n",
    "model = Sequential()\n",
    "\n",
    "model.add(Dense(output_dim=10, input_shape=(28 * 28,)))\n",
    "model.add(Activation(\"softmax\"))\n",
    "\n",
    "model.summary()"
   ]
  },
  {
   "cell_type": "code",
   "execution_count": 8,
   "metadata": {
    "collapsed": false
   },
   "outputs": [
    {
     "name": "stdout",
     "output_type": "stream",
     "text": [
      "Epoch 1/10\n",
      "14984/14984 [==============================] - 0s - loss: 12.3098 - acc: 0.2347     \n",
      "Epoch 2/10\n",
      "14984/14984 [==============================] - 0s - loss: 11.6506 - acc: 0.2760     \n",
      "Epoch 3/10\n",
      "14984/14984 [==============================] - 0s - loss: 11.6300 - acc: 0.2776     \n",
      "Epoch 4/10\n",
      "14984/14984 [==============================] - 0s - loss: 11.6385 - acc: 0.2770     \n",
      "Epoch 5/10\n",
      "14984/14984 [==============================] - 0s - loss: 11.6467 - acc: 0.2766     \n",
      "Epoch 6/10\n",
      "14984/14984 [==============================] - 0s - loss: 11.5732 - acc: 0.2809     \n",
      "Epoch 7/10\n",
      "14984/14984 [==============================] - 0s - loss: 11.5600 - acc: 0.2819     \n",
      "Epoch 8/10\n",
      "14984/14984 [==============================] - 0s - loss: 11.5473 - acc: 0.2830     \n",
      "Epoch 9/10\n",
      "14984/14984 [==============================] - 0s - loss: 11.5288 - acc: 0.2840     \n",
      "Epoch 10/10\n",
      "14984/14984 [==============================] - 0s - loss: 11.5471 - acc: 0.2829     \n",
      "1873/1873 [==============================] - 0s     \n",
      "\n",
      "Loss = 11.5119500764\n",
      "Accuracy = 0.285104111465\n"
     ]
    }
   ],
   "source": [
    "compile(model)"
   ]
  },
  {
   "cell_type": "code",
   "execution_count": 9,
   "metadata": {
    "collapsed": false
   },
   "outputs": [
    {
     "name": "stdout",
     "output_type": "stream",
     "text": [
      "____________________________________________________________________________________________________\n",
      "Layer (type)                     Output Shape          Param #     Connected to                     \n",
      "====================================================================================================\n",
      "dense_2 (Dense)                  (None, 1024)          803840      dense_input_2[0][0]              \n",
      "____________________________________________________________________________________________________\n",
      "activation_2 (Activation)        (None, 1024)          0           dense_2[0][0]                    \n",
      "____________________________________________________________________________________________________\n",
      "dense_3 (Dense)                  (None, 10)            10250       activation_2[0][0]               \n",
      "____________________________________________________________________________________________________\n",
      "activation_3 (Activation)        (None, 10)            0           dense_3[0][0]                    \n",
      "====================================================================================================\n",
      "Total params: 814090\n",
      "____________________________________________________________________________________________________\n"
     ]
    }
   ],
   "source": [
    "# Task 2. Build NN with Tanh and Softmax Activation \n",
    "\n",
    "model = Sequential()\n",
    "\n",
    "model.add(Dense(output_dim=1024, input_shape=(28 * 28,)))\n",
    "model.add(Activation(\"tanh\"))\n",
    "\n",
    "model.add(Dense(output_dim=10))\n",
    "model.add(Activation(\"softmax\"))\n",
    "\n",
    "model.summary()"
   ]
  },
  {
   "cell_type": "code",
   "execution_count": 10,
   "metadata": {
    "collapsed": false
   },
   "outputs": [
    {
     "name": "stdout",
     "output_type": "stream",
     "text": [
      "Epoch 1/10\n",
      "14984/14984 [==============================] - 4s - loss: 1.6002 - acc: 0.6240     \n",
      "Epoch 2/10\n",
      "14984/14984 [==============================] - 4s - loss: 0.6995 - acc: 0.8248     \n",
      "Epoch 3/10\n",
      "14984/14984 [==============================] - 4s - loss: 0.6050 - acc: 0.8496     \n",
      "Epoch 4/10\n",
      "14984/14984 [==============================] - 4s - loss: 0.5568 - acc: 0.8618     \n",
      "Epoch 5/10\n",
      "14984/14984 [==============================] - 4s - loss: 0.5247 - acc: 0.8679     \n",
      "Epoch 6/10\n",
      "14984/14984 [==============================] - 4s - loss: 0.5184 - acc: 0.8694     \n",
      "Epoch 7/10\n",
      "14984/14984 [==============================] - 4s - loss: 0.5003 - acc: 0.8731     \n",
      "Epoch 8/10\n",
      "14984/14984 [==============================] - 4s - loss: 0.4861 - acc: 0.8743     \n",
      "Epoch 9/10\n",
      "14984/14984 [==============================] - 4s - loss: 0.4635 - acc: 0.8787     \n",
      "Epoch 10/10\n",
      "14984/14984 [==============================] - 4s - loss: 0.4417 - acc: 0.8821     \n",
      "1873/1873 [==============================] - 0s     \n",
      "\n",
      "Loss = 0.464101973474\n",
      "Accuracy = 0.876668445324\n"
     ]
    }
   ],
   "source": [
    "compile(model)"
   ]
  },
  {
   "cell_type": "code",
   "execution_count": 11,
   "metadata": {
    "collapsed": false
   },
   "outputs": [
    {
     "name": "stdout",
     "output_type": "stream",
     "text": [
      "____________________________________________________________________________________________________\n",
      "Layer (type)                     Output Shape          Param #     Connected to                     \n",
      "====================================================================================================\n",
      "convolution2d_1 (Convolution2D)  (None, 32, 14, 1)     22432       convolution2d_input_1[0][0]      \n",
      "____________________________________________________________________________________________________\n",
      "activation_4 (Activation)        (None, 32, 14, 1)     0           convolution2d_1[0][0]            \n",
      "____________________________________________________________________________________________________\n",
      "flatten_1 (Flatten)              (None, 448)           0           activation_4[0][0]               \n",
      "____________________________________________________________________________________________________\n",
      "dense_4 (Dense)                  (None, 1024)          459776      flatten_1[0][0]                  \n",
      "____________________________________________________________________________________________________\n",
      "activation_5 (Activation)        (None, 1024)          0           dense_4[0][0]                    \n",
      "____________________________________________________________________________________________________\n",
      "dense_5 (Dense)                  (None, 10)            10250       activation_5[0][0]               \n",
      "____________________________________________________________________________________________________\n",
      "activation_6 (Activation)        (None, 10)            0           dense_5[0][0]                    \n",
      "====================================================================================================\n",
      "Total params: 492458\n",
      "____________________________________________________________________________________________________\n"
     ]
    }
   ],
   "source": [
    "# Task 3. Build NN with Tanh and Softmax Activation and Conv on ReLU\n",
    "model = Sequential()\n",
    "model.add(Convolution2D(\n",
    "                    32\n",
    "                  , 5\n",
    "                  , 5\n",
    "                  , init='normal'\n",
    "                  , subsample=(2,2)\n",
    "                  , border_mode='same'\n",
    "                  , input_shape=(28, 28, 1)))\n",
    "model.add(Activation(\"relu\"))\n",
    "model.add(Flatten())\n",
    "\n",
    "model.add(Dense(output_dim=1024))\n",
    "model.add(Activation(\"tanh\"))\n",
    "\n",
    "model.add(Dense(output_dim=10))\n",
    "model.add(Activation(\"softmax\"))\n",
    "\n",
    "model.summary()"
   ]
  },
  {
   "cell_type": "code",
   "execution_count": 12,
   "metadata": {
    "collapsed": false
   },
   "outputs": [],
   "source": [
    "def compileOther(model):\n",
    "    model.compile(loss='categorical_crossentropy'\n",
    "              , optimizer='adagrad'\n",
    "              , metrics=['accuracy'])\n",
    "\n",
    "    model.fit(X_train\n",
    "          , Y_train\n",
    "          , nb_epoch=10     # Number of times to iterate over the training data arrays \n",
    "          , batch_size=512) # Number of samples per gradient update    \n",
    "\n",
    "    loss, acc = model.evaluate(X_valid, Y_valid, batch_size=256)\n",
    "    print(\"\\nLoss =\", loss)\n",
    "    print(\"Accuracy =\", acc)"
   ]
  },
  {
   "cell_type": "code",
   "execution_count": 13,
   "metadata": {
    "collapsed": false
   },
   "outputs": [
    {
     "name": "stdout",
     "output_type": "stream",
     "text": [
      "Epoch 1/10\n",
      "14984/14984 [==============================] - 9s - loss: 3.0630 - acc: 0.5585     \n",
      "Epoch 2/10\n",
      "14984/14984 [==============================] - 8s - loss: 0.4637 - acc: 0.8705     \n",
      "Epoch 3/10\n",
      "14984/14984 [==============================] - 7s - loss: 0.3876 - acc: 0.8898     \n",
      "Epoch 4/10\n",
      "14984/14984 [==============================] - 9s - loss: 0.3402 - acc: 0.9024     \n",
      "Epoch 5/10\n",
      "14984/14984 [==============================] - 8s - loss: 0.3054 - acc: 0.9130     \n",
      "Epoch 6/10\n",
      "14984/14984 [==============================] - 9s - loss: 0.2780 - acc: 0.9204     \n",
      "Epoch 7/10\n",
      "14984/14984 [==============================] - 11s - loss: 0.2568 - acc: 0.9247    \n",
      "Epoch 8/10\n",
      "14984/14984 [==============================] - 8s - loss: 0.2364 - acc: 0.9328     \n",
      "Epoch 9/10\n",
      "14984/14984 [==============================] - 8s - loss: 0.2195 - acc: 0.9371     \n",
      "Epoch 10/10\n",
      "14984/14984 [==============================] - 7s - loss: 0.2058 - acc: 0.9431     \n",
      "1873/1873 [==============================] - 0s     \n",
      "\n",
      "Loss = 0.305125495201\n",
      "Accuracy = 0.909236518922\n"
     ]
    }
   ],
   "source": [
    "compileOther(model)"
   ]
  },
  {
   "cell_type": "code",
   "execution_count": 14,
   "metadata": {
    "collapsed": false
   },
   "outputs": [
    {
     "name": "stdout",
     "output_type": "stream",
     "text": [
      "____________________________________________________________________________________________________\n",
      "Layer (type)                     Output Shape          Param #     Connected to                     \n",
      "====================================================================================================\n",
      "convolution2d_2 (Convolution2D)  (None, 32, 14, 1)     22432       convolution2d_input_2[0][0]      \n",
      "____________________________________________________________________________________________________\n",
      "maxpooling2d_1 (MaxPooling2D)    (None, 32, 14, 1)     0           convolution2d_2[0][0]            \n",
      "____________________________________________________________________________________________________\n",
      "activation_7 (Activation)        (None, 32, 14, 1)     0           maxpooling2d_1[0][0]             \n",
      "____________________________________________________________________________________________________\n",
      "flatten_2 (Flatten)              (None, 448)           0           activation_7[0][0]               \n",
      "____________________________________________________________________________________________________\n",
      "dense_6 (Dense)                  (None, 1024)          459776      flatten_2[0][0]                  \n",
      "____________________________________________________________________________________________________\n",
      "activation_8 (Activation)        (None, 1024)          0           dense_6[0][0]                    \n",
      "____________________________________________________________________________________________________\n",
      "dense_7 (Dense)                  (None, 10)            10250       activation_8[0][0]               \n",
      "____________________________________________________________________________________________________\n",
      "activation_9 (Activation)        (None, 10)            0           dense_7[0][0]                    \n",
      "====================================================================================================\n",
      "Total params: 492458\n",
      "____________________________________________________________________________________________________\n"
     ]
    }
   ],
   "source": [
    "# Task 4. Build NN with Tanh and Softmax Activation and Conv on ReLU + MaxPool\n",
    "model = Sequential()\n",
    "model.add(Convolution2D(\n",
    "                    32\n",
    "                  , 5\n",
    "                  , 5\n",
    "                  , init='normal'\n",
    "                  , subsample=(2,2)\n",
    "                  , border_mode='same'\n",
    "                  , input_shape=(28, 28, 1)))\n",
    "model.add(MaxPooling2D(pool_size=(2, 2)\n",
    "                       , strides=(1, 1), border_mode='same'\n",
    "                       , dim_ordering='th'))\n",
    "model.add(Activation(\"relu\"))\n",
    "model.add(Flatten())\n",
    "\n",
    "model.add(Dense(output_dim=1024))\n",
    "model.add(Activation(\"tanh\"))\n",
    "\n",
    "model.add(Dense(output_dim=10))\n",
    "model.add(Activation(\"softmax\"))\n",
    "\n",
    "model.summary()"
   ]
  },
  {
   "cell_type": "code",
   "execution_count": 15,
   "metadata": {
    "collapsed": false
   },
   "outputs": [
    {
     "name": "stdout",
     "output_type": "stream",
     "text": [
      "Epoch 1/10\n",
      "14984/14984 [==============================] - 8s - loss: 4.5535 - acc: 0.3620     \n",
      "Epoch 2/10\n",
      "14984/14984 [==============================] - 9s - loss: 2.2659 - acc: 0.7223     \n",
      "Epoch 3/10\n",
      "14984/14984 [==============================] - 9s - loss: 2.0651 - acc: 0.7824     \n",
      "Epoch 4/10\n",
      "14984/14984 [==============================] - 8s - loss: 1.9907 - acc: 0.7951     \n",
      "Epoch 5/10\n",
      "14984/14984 [==============================] - 9s - loss: 1.9507 - acc: 0.8044     \n",
      "Epoch 6/10\n",
      "14984/14984 [==============================] - 8s - loss: 1.9316 - acc: 0.8091     \n",
      "Epoch 7/10\n",
      "14984/14984 [==============================] - 9s - loss: 1.9141 - acc: 0.8165     \n",
      "Epoch 8/10\n",
      "14984/14984 [==============================] - 9s - loss: 1.8938 - acc: 0.8223     \n",
      "Epoch 9/10\n",
      "14984/14984 [==============================] - 9s - loss: 1.8890 - acc: 0.8208     \n",
      "Epoch 10/10\n",
      "14984/14984 [==============================] - 9s - loss: 1.8728 - acc: 0.8271     \n",
      "1873/1873 [==============================] - 0s     \n",
      "\n",
      "Loss = 1.85310914182\n",
      "Accuracy = 0.828617191607\n"
     ]
    }
   ],
   "source": [
    "compileOther(model)"
   ]
  },
  {
   "cell_type": "code",
   "execution_count": 16,
   "metadata": {
    "collapsed": true
   },
   "outputs": [],
   "source": [
    "# Task 5. Build NN with Tanh and Softmax Activation + Conv on ReLU + MaxPool (setting optimal Dropout value)\n",
    "\n",
    "def getModel(dropout):\n",
    "    model = Sequential()\n",
    "    model.add(Convolution2D(\n",
    "                        32\n",
    "                      , 5\n",
    "                      , 5\n",
    "                      , init='normal'\n",
    "                      , subsample=(2,2)\n",
    "                      , border_mode='same'\n",
    "                      , input_shape=(28, 28, 1)))\n",
    "    model.add(MaxPooling2D(pool_size=(2, 2)\n",
    "                           , strides=(1, 1), border_mode='same'\n",
    "                           , dim_ordering='th'))\n",
    "    model.add(Activation(\"relu\"))\n",
    "    model.add(Flatten())\n",
    "    model.add(Dropout(dropout))\n",
    "    \n",
    "    model.add(Dense(output_dim=1024))\n",
    "    model.add(Activation(\"tanh\"))\n",
    "\n",
    "    model.add(Dense(output_dim=10))\n",
    "    model.add(Activation(\"softmax\"))\n",
    "    \n",
    "    return model    "
   ]
  },
  {
   "cell_type": "code",
   "execution_count": 17,
   "metadata": {
    "collapsed": false
   },
   "outputs": [
    {
     "name": "stdout",
     "output_type": "stream",
     "text": [
      "Epoch 1/10\n",
      "14984/14984 [==============================] - 11s - loss: 4.3213 - acc: 0.4005    \n",
      "Epoch 2/10\n",
      "14984/14984 [==============================] - 8s - loss: 2.1157 - acc: 0.7583     \n",
      "Epoch 3/10\n",
      "14984/14984 [==============================] - 8s - loss: 1.9895 - acc: 0.7917     \n",
      "Epoch 4/10\n",
      "14984/14984 [==============================] - 8s - loss: 1.9464 - acc: 0.7995     \n",
      "Epoch 5/10\n",
      "14984/14984 [==============================] - 8s - loss: 1.9209 - acc: 0.8073     \n",
      "Epoch 6/10\n",
      "14984/14984 [==============================] - 8s - loss: 1.8995 - acc: 0.8122     \n",
      "Epoch 7/10\n",
      "14984/14984 [==============================] - 8s - loss: 1.8869 - acc: 0.8163     \n",
      "Epoch 8/10\n",
      "14984/14984 [==============================] - 8s - loss: 1.8713 - acc: 0.8217     \n",
      "Epoch 9/10\n",
      "14984/14984 [==============================] - 8s - loss: 1.8608 - acc: 0.8232     \n",
      "Epoch 10/10\n",
      "14984/14984 [==============================] - 9s - loss: 1.8462 - acc: 0.8269     \n",
      "1873/1873 [==============================] - 0s     \n",
      "\n",
      "Loss = 2.04943782521\n",
      "Accuracy = 0.810464496671\n",
      "Dropout = 0\n",
      "Epoch 1/10\n",
      "14984/14984 [==============================] - 9s - loss: 3.9213 - acc: 0.4168     \n",
      "Epoch 2/10\n",
      "14984/14984 [==============================] - 9s - loss: 0.5974 - acc: 0.8266     \n",
      "Epoch 3/10\n",
      "14984/14984 [==============================] - 9s - loss: 0.4735 - acc: 0.8667     \n",
      "Epoch 4/10\n",
      "14984/14984 [==============================] - 9s - loss: 0.4239 - acc: 0.8809     \n",
      "Epoch 5/10\n",
      "14984/14984 [==============================] - 9s - loss: 0.3968 - acc: 0.8881     \n",
      "Epoch 6/10\n",
      "14984/14984 [==============================] - 9s - loss: 0.3782 - acc: 0.8909     \n",
      "Epoch 7/10\n",
      "14984/14984 [==============================] - 9s - loss: 0.3594 - acc: 0.8967     \n",
      "Epoch 8/10\n",
      "14984/14984 [==============================] - 11s - loss: 0.3445 - acc: 0.9029    \n",
      "Epoch 9/10\n",
      "14984/14984 [==============================] - 9s - loss: 0.3338 - acc: 0.9058     \n",
      "Epoch 10/10\n",
      "14984/14984 [==============================] - 9s - loss: 0.3273 - acc: 0.9044     \n",
      "1873/1873 [==============================] - 0s     \n",
      "\n",
      "Loss = 0.33721299152\n",
      "Accuracy = 0.903897490625\n",
      "Dropout = 0.2\n",
      "Epoch 1/10\n",
      "14984/14984 [==============================] - 10s - loss: 2.4012 - acc: 0.5543    \n",
      "Epoch 2/10\n",
      "14984/14984 [==============================] - 12s - loss: 0.5906 - acc: 0.8322    \n",
      "Epoch 3/10\n",
      "14984/14984 [==============================] - 9s - loss: 0.5055 - acc: 0.8581     \n",
      "Epoch 4/10\n",
      "14984/14984 [==============================] - 10s - loss: 0.4759 - acc: 0.8657    \n",
      "Epoch 5/10\n",
      "14984/14984 [==============================] - 10s - loss: 0.4422 - acc: 0.8747    \n",
      "Epoch 6/10\n",
      "14984/14984 [==============================] - 9s - loss: 0.4184 - acc: 0.8784     \n",
      "Epoch 7/10\n",
      "14984/14984 [==============================] - 10s - loss: 0.4062 - acc: 0.8854    \n",
      "Epoch 8/10\n",
      "14984/14984 [==============================] - 12s - loss: 0.3963 - acc: 0.8861    \n",
      "Epoch 9/10\n",
      "14984/14984 [==============================] - 11s - loss: 0.3897 - acc: 0.8873    \n",
      "Epoch 10/10\n",
      "14984/14984 [==============================] - 9s - loss: 0.3779 - acc: 0.8918     \n",
      "1873/1873 [==============================] - 0s     \n",
      "\n",
      "Loss = 0.341359236424\n",
      "Accuracy = 0.90282968592\n",
      "Dropout = 0.4\n",
      "Epoch 1/10\n",
      "14984/14984 [==============================] - 9s - loss: 2.0741 - acc: 0.5324     \n",
      "Epoch 2/10\n",
      "14984/14984 [==============================] - 12s - loss: 0.7451 - acc: 0.7757    \n",
      "Epoch 3/10\n",
      "14984/14984 [==============================] - 10s - loss: 0.6481 - acc: 0.8107    \n",
      "Epoch 4/10\n",
      "14984/14984 [==============================] - 14s - loss: 0.5851 - acc: 0.8333    \n",
      "Epoch 5/10\n",
      "14984/14984 [==============================] - 14s - loss: 0.5508 - acc: 0.8401    \n",
      "Epoch 6/10\n",
      "14984/14984 [==============================] - 11s - loss: 0.5228 - acc: 0.8480    \n",
      "Epoch 7/10\n",
      "14984/14984 [==============================] - 11s - loss: 0.5049 - acc: 0.8569    \n",
      "Epoch 8/10\n",
      "14984/14984 [==============================] - 11s - loss: 0.4965 - acc: 0.8569    \n",
      "Epoch 9/10\n",
      "14984/14984 [==============================] - 12s - loss: 0.4822 - acc: 0.8629    \n",
      "Epoch 10/10\n",
      "14984/14984 [==============================] - 9s - loss: 0.4768 - acc: 0.8647     \n",
      "1873/1873 [==============================] - 0s     \n",
      "\n",
      "Loss = 0.370045700353\n",
      "Accuracy = 0.895355046305\n",
      "Dropout = 0.6000000000000001\n",
      "Epoch 1/10\n",
      "14984/14984 [==============================] - 9s - loss: 2.0725 - acc: 0.3767     \n",
      "Epoch 2/10\n",
      "14984/14984 [==============================] - 9s - loss: 1.1655 - acc: 0.6258     \n",
      "Epoch 3/10\n",
      "14984/14984 [==============================] - 8s - loss: 0.9902 - acc: 0.6939     \n",
      "Epoch 4/10\n",
      "14984/14984 [==============================] - 8s - loss: 0.9199 - acc: 0.7246     \n",
      "Epoch 5/10\n",
      "14984/14984 [==============================] - 8s - loss: 0.8636 - acc: 0.7423     \n",
      "Epoch 6/10\n",
      "14984/14984 [==============================] - 8s - loss: 0.8165 - acc: 0.7629     \n",
      "Epoch 7/10\n",
      "14984/14984 [==============================] - 8s - loss: 0.7849 - acc: 0.7711     \n",
      "Epoch 8/10\n",
      "14984/14984 [==============================] - 8s - loss: 0.7718 - acc: 0.7748     \n",
      "Epoch 9/10\n",
      "14984/14984 [==============================] - 8s - loss: 0.7461 - acc: 0.7846     \n",
      "Epoch 10/10\n",
      "14984/14984 [==============================] - 8s - loss: 0.7407 - acc: 0.7871     \n",
      "1873/1873 [==============================] - 0s     \n",
      "\n",
      "Loss = 0.487478914009\n",
      "Accuracy = 0.875066738777\n",
      "Dropout = 0.8\n"
     ]
    }
   ],
   "source": [
    "dropout = 0\n",
    "while dropout < 1:\n",
    "    model = getModel(dropout)\n",
    "    compileOther(model)\n",
    "    print(\"Dropout =\", dropout)\n",
    "    dropout = dropout + 0.2"
   ]
  },
  {
   "cell_type": "code",
   "execution_count": 22,
   "metadata": {
    "collapsed": false
   },
   "outputs": [
    {
     "name": "stdout",
     "output_type": "stream",
     "text": [
      "____________________________________________________________________________________________________\n",
      "Layer (type)                     Output Shape          Param #     Connected to                     \n",
      "====================================================================================================\n",
      "convolution2d_12 (Convolution2D) (None, 32, 14, 1)     22432       convolution2d_input_10[0][0]     \n",
      "____________________________________________________________________________________________________\n",
      "maxpooling2d_11 (MaxPooling2D)   (None, 32, 14, 1)     0           convolution2d_12[0][0]           \n",
      "____________________________________________________________________________________________________\n",
      "activation_33 (Activation)       (None, 32, 14, 1)     0           maxpooling2d_11[0][0]            \n",
      "____________________________________________________________________________________________________\n",
      "convolution2d_13 (Convolution2D) (None, 32, 7, 1)      9248        activation_33[0][0]              \n",
      "____________________________________________________________________________________________________\n",
      "maxpooling2d_12 (MaxPooling2D)   (None, 32, 7, 1)      0           convolution2d_13[0][0]           \n",
      "____________________________________________________________________________________________________\n",
      "flatten_10 (Flatten)             (None, 224)           0           maxpooling2d_12[0][0]            \n",
      "____________________________________________________________________________________________________\n",
      "dropout_8 (Dropout)              (None, 224)           0           flatten_10[0][0]                 \n",
      "____________________________________________________________________________________________________\n",
      "dense_22 (Dense)                 (None, 1024)          230400      dropout_8[0][0]                  \n",
      "____________________________________________________________________________________________________\n",
      "activation_34 (Activation)       (None, 1024)          0           dense_22[0][0]                   \n",
      "____________________________________________________________________________________________________\n",
      "dense_23 (Dense)                 (None, 10)            10250       activation_34[0][0]              \n",
      "____________________________________________________________________________________________________\n",
      "activation_35 (Activation)       (None, 10)            0           dense_23[0][0]                   \n",
      "====================================================================================================\n",
      "Total params: 272330\n",
      "____________________________________________________________________________________________________\n"
     ]
    }
   ],
   "source": [
    "# Task 6. Build NN with Tanh and Softmax Activation + Conv on ReLU + MaxPool + Extra Conv with MaxPool\n",
    "\n",
    "model = Sequential()\n",
    "# 5 x 5\n",
    "model.add(Convolution2D(\n",
    "                    32\n",
    "                  , 5\n",
    "                  , 5\n",
    "                  , init='normal'\n",
    "                  , subsample=(2,2)\n",
    "                  , border_mode='same'\n",
    "                  , input_shape=(28, 28, 1)))\n",
    "model.add(MaxPooling2D(pool_size=(2, 2)\n",
    "                       , strides=(1, 1), border_mode='same'\n",
    "                       , dim_ordering='th'))\n",
    "model.add(Activation(\"relu\"))\n",
    "\n",
    "# 3 x 3\n",
    "model.add(Convolution2D(\n",
    "                    32\n",
    "                  , 3\n",
    "                  , 3\n",
    "                  , init='normal'\n",
    "                  , subsample=(2,2)\n",
    "                  , border_mode='same'))\n",
    "model.add(MaxPooling2D(pool_size=(2, 2)\n",
    "                       , strides=(1, 1), border_mode='same'\n",
    "                       , dim_ordering='th'))\n",
    "\n",
    "model.add(Flatten())\n",
    "model.add(Dropout(0.2))\n",
    "\n",
    "model.add(Dense(output_dim=1024))\n",
    "model.add(Activation(\"tanh\"))\n",
    "\n",
    "model.add(Dense(output_dim=10))\n",
    "model.add(Activation(\"softmax\"))\n",
    "\n",
    "model.summary()"
   ]
  },
  {
   "cell_type": "code",
   "execution_count": 23,
   "metadata": {
    "collapsed": false
   },
   "outputs": [
    {
     "name": "stdout",
     "output_type": "stream",
     "text": [
      "Epoch 1/10\n",
      "14984/14984 [==============================] - 10s - loss: 8.4332 - acc: 0.2192    \n",
      "Epoch 2/10\n",
      "14984/14984 [==============================] - 10s - loss: 4.4840 - acc: 0.4890    \n",
      "Epoch 3/10\n",
      "14984/14984 [==============================] - 10s - loss: 3.7406 - acc: 0.6393    \n",
      "Epoch 4/10\n",
      "14984/14984 [==============================] - 10s - loss: 3.6323 - acc: 0.6803    \n",
      "Epoch 5/10\n",
      "14984/14984 [==============================] - 10s - loss: 3.4015 - acc: 0.6879    \n",
      "Epoch 6/10\n",
      "14984/14984 [==============================] - 10s - loss: 0.8271 - acc: 0.7959    \n",
      "Epoch 7/10\n",
      "14984/14984 [==============================] - 10s - loss: 0.5521 - acc: 0.8488    \n",
      "Epoch 8/10\n",
      "14984/14984 [==============================] - 11s - loss: 0.5023 - acc: 0.8606    \n",
      "Epoch 9/10\n",
      "14984/14984 [==============================] - 11s - loss: 0.4652 - acc: 0.8679    \n",
      "Epoch 10/10\n",
      "14984/14984 [==============================] - 12s - loss: 0.4394 - acc: 0.8773    \n",
      "1873/1873 [==============================] - 0s     \n",
      "\n",
      "Loss = 0.39752895792\n",
      "Accuracy = 0.887346501918\n"
     ]
    }
   ],
   "source": [
    "compileOther(model)"
   ]
  },
  {
   "cell_type": "code",
   "execution_count": null,
   "metadata": {
    "collapsed": true
   },
   "outputs": [],
   "source": []
  }
 ],
 "metadata": {
  "kernelspec": {
   "display_name": "Python 3",
   "language": "python",
   "name": "python3"
  },
  "language_info": {
   "codemirror_mode": {
    "name": "ipython",
    "version": 3
   },
   "file_extension": ".py",
   "mimetype": "text/x-python",
   "name": "python",
   "nbconvert_exporter": "python",
   "pygments_lexer": "ipython3",
   "version": "3.5.2"
  }
 },
 "nbformat": 4,
 "nbformat_minor": 1
}
