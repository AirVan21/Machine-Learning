{
 "cells": [
  {
   "cell_type": "code",
   "execution_count": 10,
   "metadata": {
    "collapsed": false
   },
   "outputs": [],
   "source": [
    "# Import Images from local path\n",
    "from scipy import ndimage\n",
    "from os.path import join\n",
    "import numpy as np\n",
    "from os import walk\n",
    "from sklearn.model_selection import train_test_split"
   ]
  },
  {
   "cell_type": "code",
   "execution_count": 11,
   "metadata": {
    "collapsed": false
   },
   "outputs": [],
   "source": [
    "# Setting storage objects\n",
    "PATH = 'data'\n",
    "LETTER_COUNT = 10\n",
    "FILES_COUNT = 1873 * LETTER_COUNT\n",
    "X = np.zeros((FILES_COUNT, 28, 28, 1))\n",
    "Y = np.zeros((FILES_COUNT, LETTER_COUNT))"
   ]
  },
  {
   "cell_type": "code",
   "execution_count": 12,
   "metadata": {
    "collapsed": false
   },
   "outputs": [],
   "source": [
    "# Loading data\n",
    "def saveImage(X, Y, img, i):\n",
    "    X[i] = img.reshape((28, 28, 1))\n",
    "    index = ord(root.split('/')[-1]) - ord('A')\n",
    "    line = [0] * 10\n",
    "    line[index] = 1\n",
    "    Y[i] = line\n",
    "    \n",
    "i = 0\n",
    "for root, dirs, files in walk(PATH):\n",
    "    for file_name in files:\n",
    "        img = ndimage.imread(join(root, file_name))\n",
    "        saveImage(X, Y, img, i)\n",
    "        i += 1"
   ]
  },
  {
   "cell_type": "code",
   "execution_count": 13,
   "metadata": {
    "collapsed": true
   },
   "outputs": [],
   "source": [
    "# Data split\n",
    "X_train, X_test, Y_train, Y_test = train_test_split(X, Y, test_size=0.2, random_state=2016)\n",
    "X_valid, X_test, Y_valid, Y_test = train_test_split(X_test, Y_test, test_size=0.5, random_state=42)"
   ]
  },
  {
   "cell_type": "code",
   "execution_count": 14,
   "metadata": {
    "collapsed": false
   },
   "outputs": [],
   "source": [
    "# Import Keras moduls\n",
    "from keras.models import Sequential\n",
    "from keras.layers import Dense, Activation, Convolution2D, Flatten, MaxPooling2D, Dropout"
   ]
  },
  {
   "cell_type": "code",
   "execution_count": 38,
   "metadata": {
    "collapsed": false
   },
   "outputs": [
    {
     "name": "stdout",
     "output_type": "stream",
     "text": [
      "____________________________________________________________________________________________________\n",
      "Layer (type)                     Output Shape          Param #     Connected to                     \n",
      "====================================================================================================\n",
      "dense_22 (Dense)                 (None, 10)            7850        dense_input_15[0][0]             \n",
      "____________________________________________________________________________________________________\n",
      "activation_19 (Activation)       (None, 10)            0           dense_22[0][0]                   \n",
      "====================================================================================================\n",
      "Total params: 7850\n",
      "____________________________________________________________________________________________________\n"
     ]
    }
   ],
   "source": [
    "# Task 1. Build NN with Softmax activation\n",
    "model = Sequential()\n",
    "\n",
    "model.add(Dense(output_dim=10, input_shape=(28 * 28,)))\n",
    "model.add(Activation(\"softmax\"))\n",
    "\n",
    "model.summary()"
   ]
  },
  {
   "cell_type": "code",
   "execution_count": 41,
   "metadata": {
    "collapsed": false
   },
   "outputs": [
    {
     "name": "stdout",
     "output_type": "stream",
     "text": [
      "Epoch 1/10\n",
      "14984/14984 [==============================] - 0s - loss: 11.5549 - acc: 0.2824     \n",
      "Epoch 2/10\n",
      "14984/14984 [==============================] - 0s - loss: 11.5030 - acc: 0.2856     \n",
      "Epoch 3/10\n",
      "14984/14984 [==============================] - 0s - loss: 11.5452 - acc: 0.2834     \n",
      "Epoch 4/10\n",
      "14984/14984 [==============================] - 0s - loss: 11.5427 - acc: 0.2836     \n",
      "Epoch 5/10\n",
      "14984/14984 [==============================] - 0s - loss: 11.4715 - acc: 0.2882     \n",
      "Epoch 6/10\n",
      "14984/14984 [==============================] - 0s - loss: 11.4839 - acc: 0.2871     \n",
      "Epoch 7/10\n",
      "14984/14984 [==============================] - 0s - loss: 11.4780 - acc: 0.2877     \n",
      "Epoch 8/10\n",
      "14984/14984 [==============================] - 0s - loss: 11.4719 - acc: 0.2880     \n",
      "Epoch 9/10\n",
      "14984/14984 [==============================] - 0s - loss: 11.4697 - acc: 0.2883     \n",
      "Epoch 10/10\n",
      "14984/14984 [==============================] - 0s - loss: 11.4741 - acc: 0.2880     \n",
      "1536/1873 [=======================>......] - ETA: 0s\n",
      "Loss = 11.5152057626\n",
      "Accuracy = 0.285104111465\n"
     ]
    }
   ],
   "source": [
    "model.compile(loss='categorical_crossentropy'\n",
    "              , optimizer='adagrad'\n",
    "              , metrics=['accuracy'])\n",
    "\n",
    "model.fit(X_train.reshape((len(X_train), 28 * 28))\n",
    "          , Y_train\n",
    "          , nb_epoch=10     # Number of times to iterate over the training data arrays \n",
    "          , batch_size=256) # Number of samples per gradient update    \n",
    "\n",
    "loss, acc = model.evaluate(X_val.reshape((len(X_val), 28 * 28))\n",
    "                                  , Y_val\n",
    "                                  , batch_size=256)\n",
    "\n",
    "print(\"\\nLoss =\", loss)\n",
    "print(\"Accuracy =\", acc)"
   ]
  },
  {
   "cell_type": "code",
   "execution_count": 43,
   "metadata": {
    "collapsed": false
   },
   "outputs": [
    {
     "name": "stdout",
     "output_type": "stream",
     "text": [
      "____________________________________________________________________________________________________\n",
      "Layer (type)                     Output Shape          Param #     Connected to                     \n",
      "====================================================================================================\n",
      "dense_23 (Dense)                 (None, 1024)          803840      dense_input_16[0][0]             \n",
      "____________________________________________________________________________________________________\n",
      "activation_20 (Activation)       (None, 1024)          0           dense_23[0][0]                   \n",
      "____________________________________________________________________________________________________\n",
      "dense_24 (Dense)                 (None, 10)            10250       activation_20[0][0]              \n",
      "____________________________________________________________________________________________________\n",
      "activation_21 (Activation)       (None, 10)            0           dense_24[0][0]                   \n",
      "====================================================================================================\n",
      "Total params: 814090\n",
      "____________________________________________________________________________________________________\n"
     ]
    }
   ],
   "source": [
    "# Task 2. Build NN with Tanh and Softmax Activation \n",
    "\n",
    "model = Sequential()\n",
    "\n",
    "model.add(Dense(output_dim=1024, input_shape=(28 * 28,)))\n",
    "model.add(Activation(\"tanh\"))\n",
    "\n",
    "model.add(Dense(output_dim=10))\n",
    "model.add(Activation(\"softmax\"))\n",
    "\n",
    "model.summary()"
   ]
  },
  {
   "cell_type": "code",
   "execution_count": 44,
   "metadata": {
    "collapsed": false
   },
   "outputs": [
    {
     "name": "stdout",
     "output_type": "stream",
     "text": [
      "Epoch 1/10\n",
      "14984/14984 [==============================] - 6s - loss: 1.8154 - acc: 0.5963     \n",
      "Epoch 2/10\n",
      "14984/14984 [==============================] - 5s - loss: 0.7104 - acc: 0.8245     \n",
      "Epoch 3/10\n",
      "14984/14984 [==============================] - 4s - loss: 0.6024 - acc: 0.8525     \n",
      "Epoch 4/10\n",
      "14984/14984 [==============================] - 4s - loss: 0.5642 - acc: 0.8607     \n",
      "Epoch 5/10\n",
      "14984/14984 [==============================] - 4s - loss: 0.5314 - acc: 0.8657     \n",
      "Epoch 6/10\n",
      "14984/14984 [==============================] - 4s - loss: 0.5069 - acc: 0.8716     \n",
      "Epoch 7/10\n",
      "14984/14984 [==============================] - 4s - loss: 0.4886 - acc: 0.8773     \n",
      "Epoch 8/10\n",
      "14984/14984 [==============================] - 4s - loss: 0.4812 - acc: 0.8776     \n",
      "Epoch 9/10\n",
      "14984/14984 [==============================] - 6s - loss: 0.4567 - acc: 0.8807     \n",
      "Epoch 10/10\n",
      "14984/14984 [==============================] - 6s - loss: 0.4394 - acc: 0.8821     \n",
      "1873/1873 [==============================] - 0s     \n",
      "Loss = 0.441157767003\n",
      "Accuracy = 0.88681260103\n"
     ]
    }
   ],
   "source": [
    "model.compile(loss='categorical_crossentropy'\n",
    "              , optimizer='adagrad'\n",
    "              , metrics=['accuracy'])\n",
    "\n",
    "model.fit(X_train.reshape((len(X_train), 28 * 28))\n",
    "          , Y_train\n",
    "          , nb_epoch=10     # Number of times to iterate over the training data arrays \n",
    "          , batch_size=256) # Number of samples per gradient update    \n",
    "\n",
    "loss, acc = model.evaluate(X_val.reshape((len(X_val), 28 * 28))\n",
    "                                  , Y_val\n",
    "                                  , batch_size=256)\n",
    "print(\"Loss =\", loss)\n",
    "print(\"Accuracy =\", acc)"
   ]
  },
  {
   "cell_type": "code",
   "execution_count": null,
   "metadata": {
    "collapsed": true
   },
   "outputs": [],
   "source": []
  }
 ],
 "metadata": {
  "kernelspec": {
   "display_name": "Python 3",
   "language": "python",
   "name": "python3"
  },
  "language_info": {
   "codemirror_mode": {
    "name": "ipython",
    "version": 3
   },
   "file_extension": ".py",
   "mimetype": "text/x-python",
   "name": "python",
   "nbconvert_exporter": "python",
   "pygments_lexer": "ipython3",
   "version": "3.5.2"
  }
 },
 "nbformat": 4,
 "nbformat_minor": 1
}
