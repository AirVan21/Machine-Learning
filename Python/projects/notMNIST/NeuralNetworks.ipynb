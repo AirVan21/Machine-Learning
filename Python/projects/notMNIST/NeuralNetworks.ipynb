{
 "cells": [
  {
   "cell_type": "code",
   "execution_count": 3,
   "metadata": {
    "collapsed": false
   },
   "outputs": [],
   "source": [
    "# Import Images from local path\n",
    "from scipy import ndimage\n",
    "from os.path import join\n",
    "import numpy as np\n",
    "from os import walk\n",
    "from sklearn.model_selection import train_test_split"
   ]
  },
  {
   "cell_type": "code",
   "execution_count": 4,
   "metadata": {
    "collapsed": false
   },
   "outputs": [],
   "source": [
    "# Setting storage objects\n",
    "PATH = 'data'\n",
    "LETTER_COUNT = 10\n",
    "FILES_COUNT = 1873 * LETTER_COUNT\n",
    "X = np.zeros((FILES_COUNT, 28, 28, 1))\n",
    "Y = np.zeros((FILES_COUNT, LETTER_COUNT))"
   ]
  },
  {
   "cell_type": "code",
   "execution_count": 13,
   "metadata": {
    "collapsed": false
   },
   "outputs": [],
   "source": [
    "# Loading data\n",
    "def saveImage(X, Y, img, i):\n",
    "    X[i] = img.reshape((28, 28, 1))\n",
    "    index = ord(root.split('/')[-1]) - ord('A')\n",
    "    line = [0] * 10\n",
    "    line[index] = 1\n",
    "    Y[i] = line\n",
    "    \n",
    "i = 0\n",
    "for root, dirs, files in walk(PATH):\n",
    "    for file_name in files:\n",
    "        img = ndimage.imread(join(root, file_name))\n",
    "        saveImage(X, Y, img, i)\n",
    "        i += 1"
   ]
  },
  {
   "cell_type": "code",
   "execution_count": 14,
   "metadata": {
    "collapsed": true
   },
   "outputs": [],
   "source": [
    "# Data split\n",
    "X_train, X_test, Y_train, Y_test = train_test_split(X, Y, test_size=0.2, random_state=2016)\n",
    "X_valid, X_test, Y_valid, Y_test = train_test_split(X_test, Y_test, test_size=0.5, random_state=42)"
   ]
  },
  {
   "cell_type": "code",
   "execution_count": 15,
   "metadata": {
    "collapsed": false
   },
   "outputs": [],
   "source": [
    "# Import Keras moduls\n",
    "from keras.models import Sequential\n",
    "from keras.layers import Dense, Activation, Convolution2D, Flatten, MaxPooling2D, Dropout"
   ]
  },
  {
   "cell_type": "code",
   "execution_count": 16,
   "metadata": {
    "collapsed": true
   },
   "outputs": [],
   "source": [
    "# Compile logic\n",
    "def compile(model):\n",
    "    model.compile(loss='categorical_crossentropy'\n",
    "                  , optimizer='adagrad'\n",
    "                  , metrics=['accuracy'])\n",
    "\n",
    "    model.fit(X_train.reshape((len(X_train), 28 * 28))\n",
    "              , Y_train\n",
    "              , nb_epoch=10     # Number of times to iterate over the training data arrays \n",
    "              , batch_size=256) # Number of samples per gradient update    \n",
    "\n",
    "    loss, acc = model.evaluate(X_valid.reshape((len(X_valid), 28 * 28))\n",
    "                                      , Y_valid\n",
    "                                      , batch_size=256)\n",
    "    print(\"\\nLoss =\", loss)\n",
    "    print(\"Accuracy =\", acc)"
   ]
  },
  {
   "cell_type": "code",
   "execution_count": 17,
   "metadata": {
    "collapsed": false
   },
   "outputs": [
    {
     "name": "stdout",
     "output_type": "stream",
     "text": [
      "____________________________________________________________________________________________________\n",
      "Layer (type)                     Output Shape          Param #     Connected to                     \n",
      "====================================================================================================\n",
      "dense_3 (Dense)                  (None, 10)            7850        dense_input_3[0][0]              \n",
      "____________________________________________________________________________________________________\n",
      "activation_3 (Activation)        (None, 10)            0           dense_3[0][0]                    \n",
      "====================================================================================================\n",
      "Total params: 7850\n",
      "____________________________________________________________________________________________________\n"
     ]
    }
   ],
   "source": [
    "# Task 1. Build NN with Softmax activation\n",
    "model = Sequential()\n",
    "\n",
    "model.add(Dense(output_dim=10, input_shape=(28 * 28,)))\n",
    "model.add(Activation(\"softmax\"))\n",
    "\n",
    "model.summary()"
   ]
  },
  {
   "cell_type": "code",
   "execution_count": 18,
   "metadata": {
    "collapsed": false
   },
   "outputs": [
    {
     "name": "stdout",
     "output_type": "stream",
     "text": [
      "Epoch 1/10\n",
      "14984/14984 [==============================] - 0s - loss: 14.4803 - acc: 0.1010     \n",
      "Epoch 2/10\n",
      "14984/14984 [==============================] - 0s - loss: 14.4558 - acc: 0.1026     \n",
      "Epoch 3/10\n",
      "14984/14984 [==============================] - 0s - loss: 14.4497 - acc: 0.1030     \n",
      "Epoch 4/10\n",
      "14984/14984 [==============================] - 0s - loss: 14.4224 - acc: 0.1045     \n",
      "Epoch 5/10\n",
      "14984/14984 [==============================] - 0s - loss: 14.4286 - acc: 0.1043     \n",
      "Epoch 6/10\n",
      "14984/14984 [==============================] - 0s - loss: 14.4416 - acc: 0.1036     \n",
      "Epoch 7/10\n",
      "14984/14984 [==============================] - 0s - loss: 14.4399 - acc: 0.1036     \n",
      "Epoch 8/10\n",
      "14984/14984 [==============================] - 0s - loss: 14.4454 - acc: 0.1034     \n",
      "Epoch 9/10\n",
      "14984/14984 [==============================] - 0s - loss: 14.4454 - acc: 0.1034     \n",
      "Epoch 10/10\n",
      "14984/14984 [==============================] - 0s - loss: 14.4454 - acc: 0.1034     \n",
      "1792/1873 [===========================>..] - ETA: 0s\n",
      "Loss = 14.4228123916\n",
      "Accuracy = 0.105178857468\n"
     ]
    }
   ],
   "source": [
    "compile(model)"
   ]
  },
  {
   "cell_type": "code",
   "execution_count": 19,
   "metadata": {
    "collapsed": false
   },
   "outputs": [
    {
     "name": "stdout",
     "output_type": "stream",
     "text": [
      "____________________________________________________________________________________________________\n",
      "Layer (type)                     Output Shape          Param #     Connected to                     \n",
      "====================================================================================================\n",
      "dense_4 (Dense)                  (None, 1024)          803840      dense_input_4[0][0]              \n",
      "____________________________________________________________________________________________________\n",
      "activation_4 (Activation)        (None, 1024)          0           dense_4[0][0]                    \n",
      "____________________________________________________________________________________________________\n",
      "dense_5 (Dense)                  (None, 10)            10250       activation_4[0][0]               \n",
      "____________________________________________________________________________________________________\n",
      "activation_5 (Activation)        (None, 10)            0           dense_5[0][0]                    \n",
      "====================================================================================================\n",
      "Total params: 814090\n",
      "____________________________________________________________________________________________________\n"
     ]
    }
   ],
   "source": [
    "# Task 2. Build NN with Tanh and Softmax Activation \n",
    "\n",
    "model = Sequential()\n",
    "\n",
    "model.add(Dense(output_dim=1024, input_shape=(28 * 28,)))\n",
    "model.add(Activation(\"tanh\"))\n",
    "\n",
    "model.add(Dense(output_dim=10))\n",
    "model.add(Activation(\"softmax\"))\n",
    "\n",
    "model.summary()"
   ]
  },
  {
   "cell_type": "code",
   "execution_count": 20,
   "metadata": {
    "collapsed": false
   },
   "outputs": [
    {
     "name": "stdout",
     "output_type": "stream",
     "text": [
      "Epoch 1/10\n",
      "14984/14984 [==============================] - 3s - loss: 1.8873 - acc: 0.6042     \n",
      "Epoch 2/10\n",
      "14984/14984 [==============================] - 4s - loss: 0.7192 - acc: 0.8257     \n",
      "Epoch 3/10\n",
      "14984/14984 [==============================] - 4s - loss: 0.6005 - acc: 0.8558     \n",
      "Epoch 4/10\n",
      "14984/14984 [==============================] - 4s - loss: 0.5631 - acc: 0.8632     \n",
      "Epoch 5/10\n",
      "14984/14984 [==============================] - 4s - loss: 0.5246 - acc: 0.8702     \n",
      "Epoch 6/10\n",
      "14984/14984 [==============================] - 4s - loss: 0.5033 - acc: 0.8715     \n",
      "Epoch 7/10\n",
      "14984/14984 [==============================] - 4s - loss: 0.4874 - acc: 0.8763     \n",
      "Epoch 8/10\n",
      "14984/14984 [==============================] - 4s - loss: 0.4739 - acc: 0.8779     \n",
      "Epoch 9/10\n",
      "14984/14984 [==============================] - 4s - loss: 0.4603 - acc: 0.8831     \n",
      "Epoch 10/10\n",
      "14984/14984 [==============================] - 4s - loss: 0.4496 - acc: 0.8843     \n",
      "1873/1873 [==============================] - 0s     \n",
      "\n",
      "Loss = 0.453651872918\n",
      "Accuracy = 0.872397222687\n"
     ]
    }
   ],
   "source": [
    "compile(model)"
   ]
  },
  {
   "cell_type": "code",
   "execution_count": 21,
   "metadata": {
    "collapsed": false
   },
   "outputs": [
    {
     "name": "stdout",
     "output_type": "stream",
     "text": [
      "____________________________________________________________________________________________________\n",
      "Layer (type)                     Output Shape          Param #     Connected to                     \n",
      "====================================================================================================\n",
      "convolution2d_1 (Convolution2D)  (None, 32, 14, 1)     22432       convolution2d_input_1[0][0]      \n",
      "____________________________________________________________________________________________________\n",
      "activation_6 (Activation)        (None, 32, 14, 1)     0           convolution2d_1[0][0]            \n",
      "____________________________________________________________________________________________________\n",
      "flatten_1 (Flatten)              (None, 448)           0           activation_6[0][0]               \n",
      "____________________________________________________________________________________________________\n",
      "dense_6 (Dense)                  (None, 1024)          459776      flatten_1[0][0]                  \n",
      "____________________________________________________________________________________________________\n",
      "activation_7 (Activation)        (None, 1024)          0           dense_6[0][0]                    \n",
      "____________________________________________________________________________________________________\n",
      "dense_7 (Dense)                  (None, 10)            10250       activation_7[0][0]               \n",
      "____________________________________________________________________________________________________\n",
      "activation_8 (Activation)        (None, 10)            0           dense_7[0][0]                    \n",
      "====================================================================================================\n",
      "Total params: 492458\n",
      "____________________________________________________________________________________________________\n"
     ]
    }
   ],
   "source": [
    "# Task 3. Build NN with Tanh and Softmax Activation and Conv on ReLU\n",
    "model = Sequential()\n",
    "model.add(Convolution2D(\n",
    "                    32\n",
    "                  , 5\n",
    "                  , 5\n",
    "                  , init='normal'\n",
    "                  , subsample=(2,2)\n",
    "                  , border_mode='same'\n",
    "                  , input_shape=(28, 28, 1)))\n",
    "model.add(Activation(\"relu\"))\n",
    "model.add(Flatten())\n",
    "\n",
    "model.add(Dense(output_dim=1024))\n",
    "model.add(Activation(\"tanh\"))\n",
    "\n",
    "model.add(Dense(output_dim=10))\n",
    "model.add(Activation(\"softmax\"))\n",
    "\n",
    "model.summary()"
   ]
  },
  {
   "cell_type": "code",
   "execution_count": 23,
   "metadata": {
    "collapsed": false
   },
   "outputs": [
    {
     "name": "stdout",
     "output_type": "stream",
     "text": [
      "Epoch 1/10\n",
      "14984/14984 [==============================] - 8s - loss: 1.1717 - acc: 0.7995     \n",
      "Epoch 2/10\n",
      "14984/14984 [==============================] - 8s - loss: 0.3245 - acc: 0.9046     \n",
      "Epoch 3/10\n",
      "14984/14984 [==============================] - 9s - loss: 0.2892 - acc: 0.9163     \n",
      "Epoch 4/10\n",
      "14984/14984 [==============================] - 9s - loss: 0.2680 - acc: 0.9215     \n",
      "Epoch 5/10\n",
      "14984/14984 [==============================] - 10s - loss: 0.2477 - acc: 0.9288    \n",
      "Epoch 6/10\n",
      "14984/14984 [==============================] - 9s - loss: 0.2314 - acc: 0.9328     \n",
      "Epoch 7/10\n",
      "14984/14984 [==============================] - 8s - loss: 0.2142 - acc: 0.9389     \n",
      "Epoch 8/10\n",
      "14984/14984 [==============================] - 8s - loss: 0.2012 - acc: 0.9421     \n",
      "Epoch 9/10\n",
      "14984/14984 [==============================] - 9s - loss: 0.1872 - acc: 0.9460     \n",
      "Epoch 10/10\n",
      "14984/14984 [==============================] - 9s - loss: 0.1780 - acc: 0.9496     \n",
      "1873/1873 [==============================] - 0s     \n",
      "\n",
      "Loss = 0.277311268444\n",
      "Accuracy = 0.918846769856\n"
     ]
    }
   ],
   "source": [
    "model.compile(loss='categorical_crossentropy'\n",
    "              , optimizer='adagrad'\n",
    "              , metrics=['accuracy'])\n",
    "\n",
    "model.fit(X_train\n",
    "          , Y_train\n",
    "          , nb_epoch=10     # Number of times to iterate over the training data arrays \n",
    "          , batch_size=512) # Number of samples per gradient update    \n",
    "\n",
    "loss, acc = model.evaluate(X_valid, Y_valid, batch_size=256)\n",
    "print(\"\\nLoss =\", loss)\n",
    "print(\"Accuracy =\", acc)"
   ]
  },
  {
   "cell_type": "code",
   "execution_count": null,
   "metadata": {
    "collapsed": true
   },
   "outputs": [],
   "source": [
    "# Task 4."
   ]
  }
 ],
 "metadata": {
  "kernelspec": {
   "display_name": "Python 3",
   "language": "python",
   "name": "python3"
  },
  "language_info": {
   "codemirror_mode": {
    "name": "ipython",
    "version": 3
   },
   "file_extension": ".py",
   "mimetype": "text/x-python",
   "name": "python",
   "nbconvert_exporter": "python",
   "pygments_lexer": "ipython3",
   "version": "3.5.2"
  }
 },
 "nbformat": 4,
 "nbformat_minor": 1
}
