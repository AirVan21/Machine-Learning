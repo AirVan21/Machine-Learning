{
 "metadata": {
  "name": "",
  "signature": "sha256:dfec33282a120feba14466de799f6dd456fa7684b1ff2e59799bc421bc8ff019"
 },
 "nbformat": 3,
 "nbformat_minor": 0,
 "worksheets": [
  {
   "cells": [
    {
     "cell_type": "code",
     "collapsed": false,
     "input": [
      "import numpy as np\n",
      "from keras.datasets import mnist\n",
      "from keras.models import Sequential\n",
      "from keras.layers.core import Dense, Dropout, Activation\n",
      "from keras.utils import np_utils"
     ],
     "language": "python",
     "metadata": {},
     "outputs": [],
     "prompt_number": 62
    },
    {
     "cell_type": "code",
     "collapsed": false,
     "input": [
      "# Loading data\n",
      "\n",
      "(X_train, y_train), (X_test, y_test) = mnist.load_data()\n",
      "\n",
      "print('X_train shape =', X_train.shape)\n",
      "print('y_train shape =', y_train.shape)\n",
      "print('X_test shape =', X_test.shape)\n",
      "print('y_test shape =', y_test.shape)"
     ],
     "language": "python",
     "metadata": {},
     "outputs": [
      {
       "output_type": "stream",
       "stream": "stdout",
       "text": [
        "X_train shape = (60000, 28, 28)\n",
        "y_train shape = (60000,)\n",
        "X_test shape = (10000, 28, 28)\n",
        "y_test shape = (10000,)\n"
       ]
      }
     ],
     "prompt_number": 63
    },
    {
     "cell_type": "code",
     "collapsed": false,
     "input": [
      "# Reshape 28x28 matrix to vector 784\n",
      "\n",
      "n_train = X_train.shape[0]\n",
      "n_test  = X_test.shape[0]\n",
      "vector_dimension = 28 * 28\n",
      "\n",
      "X_train = X_train.reshape(n_train, vector_dimension)\n",
      "X_test = X_test.reshape(n_test, vector_dimension)\n",
      "\n",
      "print('X_train shape =', X_train.shape)\n",
      "print('X_test shape =', X_test.shape)"
     ],
     "language": "python",
     "metadata": {},
     "outputs": [
      {
       "output_type": "stream",
       "stream": "stdout",
       "text": [
        "X_train shape = (60000, 784)\n",
        "X_test shape = (10000, 784)\n"
       ]
      }
     ],
     "prompt_number": 64
    },
    {
     "cell_type": "code",
     "collapsed": false,
     "input": [
      "# Scale image to [0-1]\n",
      "\n",
      "X_train  = X_train.astype('float32')\n",
      "X_test   = X_test.astype('float32')\n",
      "X_train /= 255\n",
      "X_test  /= 255"
     ],
     "language": "python",
     "metadata": {},
     "outputs": [],
     "prompt_number": 65
    },
    {
     "cell_type": "code",
     "collapsed": false,
     "input": [
      "# Transform lables to categorical labels\n",
      "\n",
      "n_classes = 10\n",
      "y_train = np_utils.to_categorical(y_train, n_classes)\n",
      "y_test  = np_utils.to_categorical(y_test, n_classes)\n",
      "\n",
      "print('y_train shape =', y_train.shape)\n",
      "print('y_test shape =', y_test.shape)"
     ],
     "language": "python",
     "metadata": {},
     "outputs": [
      {
       "output_type": "stream",
       "stream": "stdout",
       "text": [
        "y_train shape = (60000, 10)\n",
        "y_test shape = (10000, 10)\n"
       ]
      }
     ],
     "prompt_number": 66
    },
    {
     "cell_type": "code",
     "collapsed": false,
     "input": [
      "# Create model\n",
      "\n",
      "model = Sequential()\n",
      "\n",
      "# Fully connected layer\n",
      "\n",
      "model.add(Dense(256, input_shape=(784,)))\n",
      "model.add(Activation('sigmoid'))                                                \n",
      "model.add(Dropout(0.1)) # Prevent overfitting \n",
      "\n",
      "model.add(Dense(256))\n",
      "model.add(Activation('sigmoid'))\n",
      "model.add(Dropout(0.1))\n",
      "\n",
      "model.add(Dense(10))\n",
      "model.add(Activation('softmax')) # Values are all non-negative and sum to 1.\n",
      "\n",
      "model.summary()"
     ],
     "language": "python",
     "metadata": {},
     "outputs": [
      {
       "output_type": "stream",
       "stream": "stdout",
       "text": [
        "____________________________________________________________________________________________________\n",
        "Layer (type)                     Output Shape          Param #     Connected to                     \n",
        "====================================================================================================\n",
        "dense_28 (Dense)                 (None, 256)           200960      dense_input_10[0][0]             \n",
        "____________________________________________________________________________________________________\n",
        "activation_25 (Activation)       (None, 256)           0           dense_28[0][0]                   \n",
        "____________________________________________________________________________________________________\n",
        "dropout_19 (Dropout)             (None, 256)           0           activation_25[0][0]              \n",
        "____________________________________________________________________________________________________\n",
        "dense_29 (Dense)                 (None, 256)           65792       dropout_19[0][0]                 "
       ]
      },
      {
       "output_type": "stream",
       "stream": "stdout",
       "text": [
        "\n",
        "____________________________________________________________________________________________________\n",
        "activation_26 (Activation)       (None, 256)           0           dense_29[0][0]                   \n",
        "____________________________________________________________________________________________________\n",
        "dropout_20 (Dropout)             (None, 256)           0           activation_26[0][0]              \n",
        "____________________________________________________________________________________________________\n",
        "dense_30 (Dense)                 (None, 10)            2570        dropout_20[0][0]                 "
       ]
      },
      {
       "output_type": "stream",
       "stream": "stdout",
       "text": [
        "\n",
        "____________________________________________________________________________________________________\n",
        "activation_27 (Activation)       (None, 10)            0           dense_30[0][0]                   \n",
        "====================================================================================================\n",
        "Total params: 269322\n",
        "____________________________________________________________________________________________________\n"
       ]
      }
     ],
     "prompt_number": 67
    },
    {
     "cell_type": "code",
     "collapsed": false,
     "input": [
      "model.compile(loss = 'categorical_crossentropy' # Loss function\n",
      "             , metrics=['accuracy']\n",
      "             , optimizer = 'adam')\n",
      "\n",
      "model.fit(X_train\n",
      "        , y_train\n",
      "        , batch_size = 128 # Number of samples per gradient update\n",
      "        , nb_epoch = 3     # Number of times to iterate over the training data arrays\n",
      "        , verbose = 1\n",
      "        , validation_data = (X_test, y_test))"
     ],
     "language": "python",
     "metadata": {},
     "outputs": [
      {
       "output_type": "stream",
       "stream": "stdout",
       "text": [
        "Train on 60000 samples, validate on 10000 samples\n",
        "Epoch 1/3\n",
        "\r",
        "  128/60000 [..............................] - ETA: 11s - loss: 2.4750 - acc: 0.1406"
       ]
      },
      {
       "output_type": "stream",
       "stream": "stdout",
       "text": [
        "\b\b\b\b\b\b\b\b\b\b\b\b\b\b\b\b\b\b\b\b\b\b\b\b\b\b\b\b\b\b\b\b\b\b\b\b\b\b\b\b\b\b\b\b\b\b\b\b\b\b\b\b\b\b\b\b\b\b\b\b\b\b\b\b\b\b\b\b\b\b\b\b\b\b\b\b\b\b\b\b\b\b\b\b\r",
        "  256/60000 [..............................] - ETA: 12s - loss: 2.4435 - acc: 0.1172"
       ]
      },
      {
       "output_type": "stream",
       "stream": "stdout",
       "text": [
        "\b\b\b\b\b\b\b\b\b\b\b\b\b\b\b\b\b\b\b\b\b\b\b\b\b\b\b\b\b\b\b\b\b\b\b\b\b\b\b\b\b\b\b\b\b\b\b\b\b\b\b\b\b\b\b\b\b\b\b\b\b\b\b\b\b\b\b\b\b\b\b\b\b\b\b\b\b\b\b\b\b\b\b\b\r",
        "  384/60000 [..............................] - ETA: 13s - loss: 2.4282 - acc: 0.1250"
       ]
      },
      {
       "output_type": "stream",
       "stream": "stdout",
       "text": [
        "\b\b\b\b\b\b\b\b\b\b\b\b\b\b\b\b\b\b\b\b\b\b\b\b\b\b\b\b\b\b\b\b\b\b\b\b\b\b\b\b\b\b\b\b\b\b\b\b\b\b\b\b\b\b\b\b\b\b\b\b\b\b\b\b\b\b\b\b\b\b\b\b\b\b\b\b\b\b\b\b\b\b\b\b\r",
        "  512/60000 [..............................] - ETA: 13s - loss: 2.3989 - acc: 0.1211"
       ]
      },
      {
       "output_type": "stream",
       "stream": "stdout",
       "text": [
        "\b\b\b\b\b\b\b\b\b\b\b\b\b\b\b\b\b\b\b\b\b\b\b\b\b\b\b\b\b\b\b\b\b\b\b\b\b\b\b\b\b\b\b\b\b\b\b\b\b\b\b\b\b\b\b\b\b\b\b\b\b\b\b\b\b\b\b\b\b\b\b\b\b\b\b\b\b\b\b\b\b\b\b\b\r",
        "  640/60000 [..............................] - ETA: 13s - loss: 2.3794 - acc: 0.1250"
       ]
      },
      {
       "output_type": "stream",
       "stream": "stdout",
       "text": [
        "\b\b\b\b\b\b\b\b\b\b\b\b\b\b\b\b\b\b\b\b\b\b\b\b\b\b\b\b\b\b\b\b\b\b\b\b\b\b\b\b\b\b\b\b\b\b\b\b\b\b\b\b\b\b\b\b\b\b\b\b\b\b\b\b\b\b\b\b\b\b\b\b\b\b\b\b\b\b\b\b\b\b\b\b\r",
        "  768/60000 [..............................] - ETA: 13s - loss: 2.3630 - acc: 0.1302"
       ]
      },
      {
       "output_type": "stream",
       "stream": "stdout",
       "text": [
        "\b\b\b\b\b\b\b\b\b\b\b\b\b\b\b\b\b\b\b\b\b\b\b\b\b\b\b\b\b\b\b\b\b\b\b\b\b\b\b\b\b\b\b\b\b\b\b\b\b\b\b\b\b\b\b\b\b\b\b\b\b\b\b\b\b\b\b\b\b\b\b\b\b\b\b\b\b\b\b\b\b\b\b\b\r",
        "  896/60000 [..............................] - ETA: 13s - loss: 2.3541 - acc: 0.1295"
       ]
      },
      {
       "output_type": "stream",
       "stream": "stdout",
       "text": [
        "\b\b\b\b\b\b\b\b\b\b\b\b\b\b\b\b\b\b\b\b\b\b\b\b\b\b\b\b\b\b\b\b\b\b\b\b\b\b\b\b\b\b\b\b\b\b\b\b\b\b\b\b\b\b\b\b\b\b\b\b\b\b\b\b\b\b\b\b\b\b\b\b\b\b\b\b\b\b\b\b\b\b\b\b\r",
        " 1024/60000 [..............................] - ETA: 13s - loss: 2.3400 - acc: 0.1406"
       ]
      },
      {
       "output_type": "stream",
       "stream": "stdout",
       "text": [
        "\b\b\b\b\b\b\b\b\b\b\b\b\b\b\b\b\b\b\b\b\b\b\b\b\b\b\b\b\b\b\b\b\b\b\b\b\b\b\b\b\b\b\b\b\b\b\b\b\b\b\b\b\b\b\b\b\b\b\b\b\b\b\b\b\b\b\b\b\b\b\b\b\b\b\b\b\b\b\b\b\b\b\b\b\r",
        " 1152/60000 [..............................] - ETA: 13s - loss: 2.3349 - acc: 0.1406"
       ]
      },
      {
       "output_type": "stream",
       "stream": "stdout",
       "text": [
        "\b\b\b\b\b\b\b\b\b\b\b\b\b\b\b\b\b\b\b\b\b\b\b\b\b\b\b\b\b\b\b\b\b\b\b\b\b\b\b\b\b\b\b\b\b\b\b\b\b\b\b\b\b\b\b\b\b\b\b\b\b\b\b\b\b\b\b\b\b\b\b\b\b\b\b\b\b\b\b\b\b\b\b\b\r",
        " 1280/60000 [..............................] - ETA: 13s - loss: 2.3299 - acc: 0.1391"
       ]
      },
      {
       "output_type": "stream",
       "stream": "stdout",
       "text": [
        "\b\b\b\b\b\b\b\b\b\b\b\b\b\b\b\b\b\b\b\b\b\b\b\b\b\b\b\b\b\b\b\b\b\b\b\b\b\b\b\b\b\b\b\b\b\b\b\b\b\b\b\b\b\b\b\b\b\b\b\b\b\b\b\b\b\b\b\b\b\b\b\b\b\b\b\b\b\b\b\b\b\b\b\b\r",
        " 1408/60000 [..............................] - ETA: 13s - loss: 2.3269 - acc: 0.1364"
       ]
      },
      {
       "output_type": "stream",
       "stream": "stdout",
       "text": [
        "\b\b\b\b\b\b\b\b\b\b\b\b\b\b\b\b\b\b\b\b\b\b\b\b\b\b\b\b\b\b\b\b\b\b\b\b\b\b\b\b\b\b\b\b\b\b\b\b\b\b\b\b\b\b\b\b\b\b\b\b\b\b\b\b\b\b\b\b\b\b\b\b\b\b\b\b\b\b\b\b\b\b\b\b\r",
        " 1536/60000 [..............................] - ETA: 12s - loss: 2.3148 - acc: 0.1413"
       ]
      },
      {
       "output_type": "stream",
       "stream": "stdout",
       "text": [
        "\b\b\b\b\b\b\b\b\b\b\b\b\b\b\b\b\b\b\b\b\b\b\b\b\b\b\b\b\b\b\b\b\b\b\b\b\b\b\b\b\b\b\b\b\b\b\b\b\b\b\b\b\b\b\b\b\b\b\b\b\b\b\b\b\b\b\b\b\b\b\b\b\b\b\b\b\b\b\b\b\b\b\b\b\r",
        " 1664/60000 [..............................] - ETA: 12s - loss: 2.3050 - acc: 0.1460"
       ]
      },
      {
       "output_type": "stream",
       "stream": "stdout",
       "text": [
        "\b\b\b\b\b\b\b\b\b\b\b\b\b\b\b\b\b\b\b\b\b\b\b\b\b\b\b\b\b\b\b\b\b\b\b\b\b\b\b\b\b\b\b\b\b\b\b\b\b\b\b\b\b\b\b\b\b\b\b\b\b\b\b\b\b\b\b\b\b\b\b\b\b\b\b\b\b\b\b\b\b\b\b\b\r",
        " 1792/60000 [..............................] - ETA: 12s - loss: 2.2953 - acc: 0.1568"
       ]
      },
      {
       "output_type": "stream",
       "stream": "stdout",
       "text": [
        "\b\b\b\b\b\b\b\b\b\b\b\b\b\b\b\b\b\b\b\b\b\b\b\b\b\b\b\b\b\b\b\b\b\b\b\b\b\b\b\b\b\b\b\b\b\b\b\b\b\b\b\b\b\b\b\b\b\b\b\b\b\b\b\b\b\b\b\b\b\b\b\b\b\b\b\b\b\b\b\b\b\b\b\b\r",
        " 1920/60000 [..............................] - ETA: 12s - loss: 2.2843 - acc: 0.1651"
       ]
      },
      {
       "output_type": "stream",
       "stream": "stdout",
       "text": [
        "\b\b\b\b\b\b\b\b\b\b\b\b\b\b\b\b\b\b\b\b\b\b\b\b\b\b\b\b\b\b\b\b\b\b\b\b\b\b\b\b\b\b\b\b\b\b\b\b\b\b\b\b\b\b\b\b\b\b\b\b\b\b\b\b\b\b\b\b\b\b\b\b\b\b\b\b\b\b\b\b\b\b\b\b\r",
        " 2048/60000 [>.............................] - ETA: 12s - loss: 2.2737 - acc: 0.1753"
       ]
      },
      {
       "output_type": "stream",
       "stream": "stdout",
       "text": [
        "\b\b\b\b\b\b\b\b\b\b\b\b\b\b\b\b\b\b\b\b\b\b\b\b\b\b\b\b\b\b\b\b\b\b\b\b\b\b\b\b\b\b\b\b\b\b\b\b\b\b\b\b\b\b\b\b\b\b\b\b\b\b\b\b\b\b\b\b\b\b\b\b\b\b\b\b\b\b\b\b\b\b\b\b\r",
        " 2176/60000 [>.............................] - ETA: 12s - loss: 2.2601 - acc: 0.1829"
       ]
      },
      {
       "output_type": "stream",
       "stream": "stdout",
       "text": [
        "\b\b\b\b\b\b\b\b\b\b\b\b\b\b\b\b\b\b\b\b\b\b\b\b\b\b\b\b\b\b\b\b\b\b\b\b\b\b\b\b\b\b\b\b\b\b\b\b\b\b\b\b\b\b\b\b\b\b\b\b\b\b\b\b\b\b\b\b\b\b\b\b\b\b\b\b\b\b\b\b\b\b\b\b\r",
        " 2304/60000 [>.............................] - ETA: 12s - loss: 2.2483 - acc: 0.1905"
       ]
      },
      {
       "output_type": "stream",
       "stream": "stdout",
       "text": [
        "\b\b\b\b\b\b\b\b\b\b\b\b\b\b\b\b\b\b\b\b\b\b\b\b\b\b\b\b\b\b\b\b\b\b\b\b\b\b\b\b\b\b\b\b\b\b\b\b\b\b\b\b\b\b\b\b\b\b\b\b\b\b\b\b\b\b\b\b\b\b\b\b\b\b\b\b\b\b\b\b\b\b\b\b\r",
        " 2432/60000 [>.............................] - ETA: 12s - loss: 2.2375 - acc: 0.1994"
       ]
      },
      {
       "output_type": "stream",
       "stream": "stdout",
       "text": [
        "\b\b\b\b\b\b\b\b\b\b\b\b\b\b\b\b\b\b\b\b\b\b\b\b\b\b\b\b\b\b\b\b\b\b\b\b\b\b\b\b\b\b\b\b\b\b\b\b\b\b\b\b\b\b\b\b\b\b\b\b\b\b\b\b\b\b\b\b\b\b\b\b\b\b\b\b\b\b\b\b\b\b\b\b\r",
        " 2560/60000 [>.............................] - ETA: 12s - loss: 2.2263 - acc: 0.2051"
       ]
      },
      {
       "output_type": "stream",
       "stream": "stdout",
       "text": [
        "\b\b\b\b\b\b\b\b\b\b\b\b\b\b\b\b\b\b\b\b\b\b\b\b\b\b\b\b\b\b\b\b\b\b\b\b\b\b\b\b\b\b\b\b\b\b\b\b\b\b\b\b\b\b\b\b\b\b\b\b\b\b\b\b\b\b\b\b\b\b\b\b\b\b\b\b\b\b\b\b\b\b\b\b\r",
        " 2688/60000 [>.............................] - ETA: 12s - loss: 2.2150 - acc: 0.2121"
       ]
      },
      {
       "output_type": "stream",
       "stream": "stdout",
       "text": [
        "\b\b\b\b\b\b\b\b\b\b\b\b\b\b\b\b\b\b\b\b\b\b\b\b\b\b\b\b\b\b\b\b\b\b\b\b\b\b\b\b\b\b\b\b\b\b\b\b\b\b\b\b\b\b\b\b\b\b\b\b\b\b\b\b\b\b\b\b\b\b\b\b\b\b\b\b\b\b\b\b\b\b\b\b\r",
        " 2816/60000 [>.............................] - ETA: 12s - loss: 2.2051 - acc: 0.2170"
       ]
      },
      {
       "output_type": "stream",
       "stream": "stdout",
       "text": [
        "\b\b\b\b\b\b\b\b\b\b\b\b\b\b\b\b\b\b\b\b\b\b\b\b\b\b\b\b\b\b\b\b\b\b\b\b\b\b\b\b\b\b\b\b\b\b\b\b\b\b\b\b\b\b\b\b\b\b\b\b\b\b\b\b\b\b\b\b\b\b\b\b\b\b\b\b\b\b\b\b\b\b\b\b\r",
        " 2944/60000 [>.............................] - ETA: 12s - loss: 2.1936 - acc: 0.2255"
       ]
      },
      {
       "output_type": "stream",
       "stream": "stdout",
       "text": [
        "\b\b\b\b\b\b\b\b\b\b\b\b\b\b\b\b\b\b\b\b\b\b\b\b\b\b\b\b\b\b\b\b\b\b\b\b\b\b\b\b\b\b\b\b\b\b\b\b\b\b\b\b\b\b\b\b\b\b\b\b\b\b\b\b\b\b\b\b\b\b\b\b\b\b\b\b\b\b\b\b\b\b\b\b\r",
        " 3072/60000 [>.............................] - ETA: 12s - loss: 2.1828 - acc: 0.2367"
       ]
      },
      {
       "output_type": "stream",
       "stream": "stdout",
       "text": [
        "\b\b\b\b\b\b\b\b\b\b\b\b\b\b\b\b\b\b\b\b\b\b\b\b\b\b\b\b\b\b\b\b\b\b\b\b\b\b\b\b\b\b\b\b\b\b\b\b\b\b\b\b\b\b\b\b\b\b\b\b\b\b\b\b\b\b\b\b\b\b\b\b\b\b\b\b\b\b\b\b\b\b\b\b\r",
        " 3200/60000 [>.............................] - ETA: 12s - loss: 2.1716 - acc: 0.2475"
       ]
      },
      {
       "output_type": "stream",
       "stream": "stdout",
       "text": [
        "\b\b\b\b\b\b\b\b\b\b\b\b\b\b\b\b\b\b\b\b\b\b\b\b\b\b\b\b\b\b\b\b\b\b\b\b\b\b\b\b\b\b\b\b\b\b\b\b\b\b\b\b\b\b\b\b\b\b\b\b\b\b\b\b\b\b\b\b\b\b\b\b\b\b\b\b\b\b\b\b\b\b\b\b\r",
        " 3328/60000 [>.............................] - ETA: 12s - loss: 2.1630 - acc: 0.2551"
       ]
      },
      {
       "output_type": "stream",
       "stream": "stdout",
       "text": [
        "\b\b\b\b\b\b\b\b\b\b\b\b\b\b\b\b\b\b\b\b\b\b\b\b\b\b\b\b\b\b\b\b\b\b\b\b\b\b\b\b\b\b\b\b\b\b\b\b\b\b\b\b\b\b\b\b\b\b\b\b\b\b\b\b\b\b\b\b\b\b\b\b\b\b\b\b\b\b\b\b\b\b\b\b\r",
        " 3456/60000 [>.............................] - ETA: 12s - loss: 2.1496 - acc: 0.2665"
       ]
      },
      {
       "output_type": "stream",
       "stream": "stdout",
       "text": [
        "\b\b\b\b\b\b\b\b\b\b\b\b\b\b\b\b\b\b\b\b\b\b\b\b\b\b\b\b\b\b\b\b\b\b\b\b\b\b\b\b\b\b\b\b\b\b\b\b\b\b\b\b\b\b\b\b\b\b\b\b\b\b\b\b\b\b\b\b\b\b\b\b\b\b\b\b\b\b\b\b\b\b\b\b\r",
        " 3584/60000 [>.............................] - ETA: 12s - loss: 2.1406 - acc: 0.2751"
       ]
      },
      {
       "output_type": "stream",
       "stream": "stdout",
       "text": [
        "\b\b\b\b\b\b\b\b\b\b\b\b\b\b\b\b\b\b\b\b\b\b\b\b\b\b\b\b\b\b\b\b\b\b\b\b\b\b\b\b\b\b\b\b\b\b\b\b\b\b\b\b\b\b\b\b\b\b\b\b\b\b\b\b\b\b\b\b\b\b\b\b\b\b\b\b\b\b\b\b\b\b\b\b\r",
        " 3712/60000 [>.............................] - ETA: 12s - loss: 2.1282 - acc: 0.2858"
       ]
      },
      {
       "output_type": "stream",
       "stream": "stdout",
       "text": [
        "\b\b\b\b\b\b\b\b\b\b\b\b\b\b\b\b\b\b\b\b\b\b\b\b\b\b\b\b\b\b\b\b\b\b\b\b\b\b\b\b\b\b\b\b\b\b\b\b\b\b\b\b\b\b\b\b\b\b\b\b\b\b\b\b\b\b\b\b\b\b\b\b\b\b\b\b\b\b\b\b\b\b\b\b\r",
        " 3840/60000 [>.............................] - ETA: 12s - loss: 2.1166 - acc: 0.2951"
       ]
      },
      {
       "output_type": "stream",
       "stream": "stdout",
       "text": [
        "\b\b\b\b\b\b\b\b\b\b\b\b\b\b\b\b\b\b\b\b\b\b\b\b\b\b\b\b\b\b\b\b\b\b\b\b\b\b\b\b\b\b\b\b\b\b\b\b\b\b\b\b\b\b\b\b\b\b\b\b\b\b\b\b\b\b\b\b\b\b\b\b\b\b\b\b\b\b\b\b\b\b\b\b\r",
        " 3968/60000 [>.............................] - ETA: 12s - loss: 2.1050 - acc: 0.3029"
       ]
      },
      {
       "output_type": "stream",
       "stream": "stdout",
       "text": [
        "\b\b\b\b\b\b\b\b\b\b\b\b\b\b\b\b\b\b\b\b\b\b\b\b\b\b\b\b\b\b\b\b\b\b\b\b\b\b\b\b\b\b\b\b\b\b\b\b\b\b\b\b\b\b\b\b\b\b\b\b\b\b\b\b\b\b\b\b\b\b\b\b\b\b\b\b\b\b\b\b\b\b\b\b\r",
        " 4096/60000 [=>............................] - ETA: 12s - loss: 2.0927 - acc: 0.3113"
       ]
      },
      {
       "output_type": "stream",
       "stream": "stdout",
       "text": [
        "\b\b\b\b\b\b\b\b\b\b\b\b\b\b\b\b\b\b\b\b\b\b\b\b\b\b\b\b\b\b\b\b\b\b\b\b\b\b\b\b\b\b\b\b\b\b\b\b\b\b\b\b\b\b\b\b\b\b\b\b\b\b\b\b\b\b\b\b\b\b\b\b\b\b\b\b\b\b\b\b\b\b\b\b\r",
        " 4224/60000 [=>............................] - ETA: 12s - loss: 2.0803 - acc: 0.3205"
       ]
      },
      {
       "output_type": "stream",
       "stream": "stdout",
       "text": [
        "\b\b\b\b\b\b\b\b\b\b\b\b\b\b\b\b\b\b\b\b\b\b\b\b\b\b\b\b\b\b\b\b\b\b\b\b\b\b\b\b\b\b\b\b\b\b\b\b\b\b\b\b\b\b\b\b\b\b\b\b\b\b\b\b\b\b\b\b\b\b\b\b\b\b\b\b\b\b\b\b\b\b\b\b\r",
        " 4352/60000 [=>............................] - ETA: 12s - loss: 2.0680 - acc: 0.3300"
       ]
      },
      {
       "output_type": "stream",
       "stream": "stdout",
       "text": [
        "\b\b\b\b\b\b\b\b\b\b\b\b\b\b\b\b\b\b\b\b\b\b\b\b\b\b\b\b\b\b\b\b\b\b\b\b\b\b\b\b\b\b\b\b\b\b\b\b\b\b\b\b\b\b\b\b\b\b\b\b\b\b\b\b\b\b\b\b\b\b\b\b\b\b\b\b\b\b\b\b\b\b\b\b\r",
        " 4480/60000 [=>............................] - ETA: 12s - loss: 2.0570 - acc: 0.3377"
       ]
      },
      {
       "output_type": "stream",
       "stream": "stdout",
       "text": [
        "\b\b\b\b\b\b\b\b\b\b\b\b\b\b\b\b\b\b\b\b\b\b\b\b\b\b\b\b\b\b\b\b\b\b\b\b\b\b\b\b\b\b\b\b\b\b\b\b\b\b\b\b\b\b\b\b\b\b\b\b\b\b\b\b\b\b\b\b\b\b\b\b\b\b\b\b\b\b\b\b\b\b\b\b\r",
        " 4608/60000 [=>............................] - ETA: 12s - loss: 2.0456 - acc: 0.3442"
       ]
      },
      {
       "output_type": "stream",
       "stream": "stdout",
       "text": [
        "\b\b\b\b\b\b\b\b\b\b\b\b\b\b\b\b\b\b\b\b\b\b\b\b\b\b\b\b\b\b\b\b\b\b\b\b\b\b\b\b\b\b\b\b\b\b\b\b\b\b\b\b\b\b\b\b\b\b\b\b\b\b\b\b\b\b\b\b\b\b\b\b\b\b\b\b\b\b\b\b\b\b\b\b\r",
        " 4736/60000 [=>............................] - ETA: 12s - loss: 2.0331 - acc: 0.3511"
       ]
      },
      {
       "output_type": "stream",
       "stream": "stdout",
       "text": [
        "\b\b\b\b\b\b\b\b\b\b\b\b\b\b\b\b\b\b\b\b\b\b\b\b\b\b\b\b\b\b\b\b\b\b\b\b\b\b\b\b\b\b\b\b\b\b\b\b\b\b\b\b\b\b\b\b\b\b\b\b\b\b\b\b\b\b\b\b\b\b\b\b\b\b\b\b\b\b\b\b\b\b\b\b\r",
        " 4864/60000 [=>............................] - ETA: 12s - loss: 2.0184 - acc: 0.3602"
       ]
      },
      {
       "output_type": "stream",
       "stream": "stdout",
       "text": [
        "\b\b\b\b\b\b\b\b\b\b\b\b\b\b\b\b\b\b\b\b\b\b\b\b\b\b\b\b\b\b\b\b\b\b\b\b\b\b\b\b\b\b\b\b\b\b\b\b\b\b\b\b\b\b\b\b\b\b\b\b\b\b\b\b\b\b\b\b\b\b\b\b\b\b\b\b\b\b\b\b\b\b\b\b\r",
        " 4992/60000 [=>............................] - ETA: 12s - loss: 2.0059 - acc: 0.3668"
       ]
      },
      {
       "output_type": "stream",
       "stream": "stdout",
       "text": [
        "\b\b\b\b\b\b\b\b\b\b\b\b\b\b\b\b\b\b\b\b\b\b\b\b\b\b\b\b\b\b\b\b\b\b\b\b\b\b\b\b\b\b\b\b\b\b\b\b\b\b\b\b\b\b\b\b\b\b\b\b\b\b\b\b\b\b\b\b\b\b\b\b\b\b\b\b\b\b\b\b\b\b\b\b\r",
        " 5120/60000 [=>............................] - ETA: 12s - loss: 1.9936 - acc: 0.3729"
       ]
      },
      {
       "output_type": "stream",
       "stream": "stdout",
       "text": [
        "\b\b\b\b\b\b\b\b\b\b\b\b\b\b\b\b\b\b\b\b\b\b\b\b\b\b\b\b\b\b\b\b\b\b\b\b\b\b\b\b\b\b\b\b\b\b\b\b\b\b\b\b\b\b\b\b\b\b\b\b\b\b\b\b\b\b\b\b\b\b\b\b\b\b\b\b\b\b\b\b\b\b\b\b\r",
        " 5248/60000 [=>............................] - ETA: 12s - loss: 1.9807 - acc: 0.3798"
       ]
      },
      {
       "output_type": "stream",
       "stream": "stdout",
       "text": [
        "\b\b\b\b\b\b\b\b\b\b\b\b\b\b\b\b\b\b\b\b\b\b\b\b\b\b\b\b\b\b\b\b\b\b\b\b\b\b\b\b\b\b\b\b\b\b\b\b\b\b\b\b\b\b\b\b\b\b\b\b\b\b\b\b\b\b\b\b\b\b\b\b\b\b\b\b\b\b\b\b\b\b\b\b\r",
        " 5376/60000 [=>............................] - ETA: 12s - loss: 1.9660 - acc: 0.3873"
       ]
      },
      {
       "output_type": "stream",
       "stream": "stdout",
       "text": [
        "\b\b\b\b\b\b\b\b\b\b\b\b\b\b\b\b\b\b\b\b\b\b\b\b\b\b\b\b\b\b\b\b\b\b\b\b\b\b\b\b\b\b\b\b\b\b\b\b\b\b\b\b\b\b\b\b\b\b\b\b\b\b\b\b\b\b\b\b\b\b\b\b\b\b\b\b\b\b\b\b\b\b\b\b\r",
        " 5504/60000 [=>............................] - ETA: 12s - loss: 1.9519 - acc: 0.3948"
       ]
      },
      {
       "output_type": "stream",
       "stream": "stdout",
       "text": [
        "\b\b\b\b\b\b\b\b\b\b\b\b\b\b\b\b\b\b\b\b\b\b\b\b\b\b\b\b\b\b\b\b\b\b\b\b\b\b\b\b\b\b\b\b\b\b\b\b\b\b\b\b\b\b\b\b\b\b\b\b\b\b\b\b\b\b\b\b\b\b\b\b\b\b\b\b\b\b\b\b\b\b\b\b\r",
        " 5632/60000 [=>............................] - ETA: 11s - loss: 1.9378 - acc: 0.4015"
       ]
      },
      {
       "output_type": "stream",
       "stream": "stdout",
       "text": [
        "\b\b\b\b\b\b\b\b\b\b\b\b\b\b\b\b\b\b\b\b\b\b\b\b\b\b\b\b\b\b\b\b\b\b\b\b\b\b\b\b\b\b\b\b\b\b\b\b\b\b\b\b\b\b\b\b\b\b\b\b\b\b\b\b\b\b\b\b\b\b\b\b\b\b\b\b\b\b\b\b\b\b\b\b\r",
        " 5760/60000 [=>............................] - ETA: 11s - loss: 1.9240 - acc: 0.4087"
       ]
      },
      {
       "output_type": "stream",
       "stream": "stdout",
       "text": [
        "\b\b\b\b\b\b\b\b\b\b\b\b\b\b\b\b\b\b\b\b\b\b\b\b\b\b\b\b\b\b\b\b\b\b\b\b\b\b\b\b\b\b\b\b\b\b\b\b\b\b\b\b\b\b\b\b\b\b\b\b\b\b\b\b\b\b\b\b\b\b\b\b\b\b\b\b\b\b\b\b\b\b\b\b\r",
        " 5888/60000 [=>............................] - ETA: 12s - loss: 1.9130 - acc: 0.4132"
       ]
      },
      {
       "output_type": "stream",
       "stream": "stdout",
       "text": [
        "\b\b\b\b\b\b\b\b\b\b\b\b\b\b\b\b\b\b\b\b\b\b\b\b\b\b\b\b\b\b\b\b\b\b\b\b\b\b\b\b\b\b\b\b\b\b\b\b\b\b\b\b\b\b\b\b\b\b\b\b\b\b\b\b\b\b\b\b\b\b\b\b\b\b\b\b\b\b\b\b\b\b\b\b\r",
        " 6016/60000 [==>...........................] - ETA: 12s - loss: 1.8994 - acc: 0.4200"
       ]
      },
      {
       "output_type": "stream",
       "stream": "stdout",
       "text": [
        "\b\b\b\b\b\b\b\b\b\b\b\b\b\b\b\b\b\b\b\b\b\b\b\b\b\b\b\b\b\b\b\b\b\b\b\b\b\b\b\b\b\b\b\b\b\b\b\b\b\b\b\b\b\b\b\b\b\b\b\b\b\b\b\b\b\b\b\b\b\b\b\b\b\b\b\b\b\b\b\b\b\b\b\b\r",
        " 6144/60000 [==>...........................] - ETA: 12s - loss: 1.8862 - acc: 0.4266"
       ]
      },
      {
       "output_type": "stream",
       "stream": "stdout",
       "text": [
        "\b\b\b\b\b\b\b\b\b\b\b\b\b\b\b\b\b\b\b\b\b\b\b\b\b\b\b\b\b\b\b\b\b\b\b\b\b\b\b\b\b\b\b\b\b\b\b\b\b\b\b\b\b\b\b\b\b\b\b\b\b\b\b\b\b\b\b\b\b\b\b\b\b\b\b\b\b\b\b\b\b\b\b\b\r",
        " 6272/60000 [==>...........................] - ETA: 11s - loss: 1.8736 - acc: 0.4321"
       ]
      },
      {
       "output_type": "stream",
       "stream": "stdout",
       "text": [
        "\b\b\b\b\b\b\b\b\b\b\b\b\b\b\b\b\b\b\b\b\b\b\b\b\b\b\b\b\b\b\b\b\b\b\b\b\b\b\b\b\b\b\b\b\b\b\b\b\b\b\b\b\b\b\b\b\b\b\b\b\b\b\b\b\b\b\b\b\b\b\b\b\b\b\b\b\b\b\b\b\b\b\b\b\r",
        " 6400/60000 [==>...........................] - ETA: 11s - loss: 1.8588 - acc: 0.4392"
       ]
      },
      {
       "output_type": "stream",
       "stream": "stdout",
       "text": [
        "\b\b\b\b\b\b\b\b\b\b\b\b\b\b\b\b\b\b\b\b\b\b\b\b\b\b\b\b\b\b\b\b\b\b\b\b\b\b\b\b\b\b\b\b\b\b\b\b\b\b\b\b\b\b\b\b\b\b\b\b\b\b\b\b\b\b\b\b\b\b\b\b\b\b\b\b\b\b\b\b\b\b\b\b\r",
        " 6528/60000 [==>...........................] - ETA: 11s - loss: 1.8473 - acc: 0.4441"
       ]
      },
      {
       "output_type": "stream",
       "stream": "stdout",
       "text": [
        "\b\b\b\b\b\b\b\b\b\b\b\b\b\b\b\b\b\b\b\b\b\b\b\b\b\b\b\b\b\b\b\b\b\b\b\b\b\b\b\b\b\b\b\b\b\b\b\b\b\b\b\b\b\b\b\b\b\b\b\b\b\b\b\b\b\b\b\b\b\b\b\b\b\b\b\b\b\b\b\b\b\b\b\b\r",
        " 6656/60000 [==>...........................] - ETA: 11s - loss: 1.8348 - acc: 0.4500"
       ]
      },
      {
       "output_type": "stream",
       "stream": "stdout",
       "text": [
        "\b\b\b\b\b\b\b\b\b\b\b\b\b\b\b\b\b\b\b\b\b\b\b\b\b\b\b\b\b\b\b\b\b\b\b\b\b\b\b\b\b\b\b\b\b\b\b\b\b\b\b\b\b\b\b\b\b\b\b\b\b\b\b\b\b\b\b\b\b\b\b\b\b\b\b\b\b\b\b\b\b\b\b\b\r",
        " 6784/60000 [==>...........................] - ETA: 11s - loss: 1.8211 - acc: 0.4565"
       ]
      },
      {
       "output_type": "stream",
       "stream": "stdout",
       "text": [
        "\b\b\b\b\b\b\b\b\b\b\b\b\b\b\b\b\b\b\b\b\b\b\b\b\b\b\b\b\b\b\b\b\b\b\b\b\b\b\b\b\b\b\b\b\b\b\b\b\b\b\b\b\b\b\b\b\b\b\b\b\b\b\b\b\b\b\b\b\b\b\b\b\b\b\b\b\b\b\b\b\b\b\b\b\r",
        " 6912/60000 [==>...........................] - ETA: 11s - loss: 1.8090 - acc: 0.4605"
       ]
      },
      {
       "output_type": "stream",
       "stream": "stdout",
       "text": [
        "\b\b\b\b\b\b\b\b\b\b\b\b\b\b\b\b\b\b\b\b\b\b\b\b\b\b\b\b\b\b\b\b\b\b\b\b\b\b\b\b\b\b\b\b\b\b\b\b\b\b\b\b\b\b\b\b\b\b\b\b\b\b\b\b\b\b\b\b\b\b\b\b\b\b\b\b\b\b\b\b\b\b\b\b\r",
        " 7040/60000 [==>...........................] - ETA: 11s - loss: 1.7977 - acc: 0.4645"
       ]
      },
      {
       "output_type": "stream",
       "stream": "stdout",
       "text": [
        "\b\b\b\b\b\b\b\b\b\b\b\b\b\b\b\b\b\b\b\b\b\b\b\b\b\b\b\b\b\b\b\b\b\b\b\b\b\b\b\b\b\b\b\b\b\b\b\b\b\b\b\b\b\b\b\b\b\b\b\b\b\b\b\b\b\b\b\b\b\b\b\b\b\b\b\b\b\b\b\b\b\b\b\b\r",
        " 7168/60000 [==>...........................] - ETA: 11s - loss: 1.7852 - acc: 0.4692"
       ]
      },
      {
       "output_type": "stream",
       "stream": "stdout",
       "text": [
        "\b\b\b\b\b\b\b\b\b\b\b\b\b\b\b\b\b\b\b\b\b\b\b\b\b\b\b\b\b\b\b\b\b\b\b\b\b\b\b\b\b\b\b\b\b\b\b\b\b\b\b\b\b\b\b\b\b\b\b\b\b\b\b\b\b\b\b\b\b\b\b\b\b\b\b\b\b\b\b\b\b\b\b\b\r",
        " 7296/60000 [==>...........................] - ETA: 11s - loss: 1.7739 - acc: 0.4727"
       ]
      },
      {
       "output_type": "stream",
       "stream": "stdout",
       "text": [
        "\b\b\b\b\b\b\b\b\b\b\b\b\b\b\b\b\b\b\b\b\b\b\b\b\b\b\b\b\b\b\b\b\b\b\b\b\b\b\b\b\b\b\b\b\b\b\b\b\b\b\b\b\b\b\b\b\b\b\b\b\b\b\b\b\b\b\b\b\b\b\b\b\b\b\b\b\b\b\b\b\b\b\b\b\r",
        " 7424/60000 [==>...........................] - ETA: 11s - loss: 1.7602 - acc: 0.4782"
       ]
      },
      {
       "output_type": "stream",
       "stream": "stdout",
       "text": [
        "\b\b\b\b\b\b\b\b\b\b\b\b\b\b\b\b\b\b\b\b\b\b\b\b\b\b\b\b\b\b\b\b\b\b\b\b\b\b\b\b\b\b\b\b\b\b\b\b\b\b\b\b\b\b\b\b\b\b\b\b\b\b\b\b\b\b\b\b\b\b\b\b\b\b\b\b\b\b\b\b\b\b\b\b\r",
        " 7552/60000 [==>...........................] - ETA: 11s - loss: 1.7486 - acc: 0.4821"
       ]
      },
      {
       "output_type": "stream",
       "stream": "stdout",
       "text": [
        "\b\b\b\b\b\b\b\b\b\b\b\b\b\b\b\b\b\b\b\b\b\b\b\b\b\b\b\b\b\b\b\b\b\b\b\b\b\b\b\b\b\b\b\b\b\b\b\b\b\b\b\b\b\b\b\b\b\b\b\b\b\b\b\b\b\b\b\b\b\b\b\b\b\b\b\b\b\b\b\b\b\b\b\b\r",
        " 7680/60000 [==>...........................] - ETA: 11s - loss: 1.7380 - acc: 0.4857"
       ]
      },
      {
       "output_type": "stream",
       "stream": "stdout",
       "text": [
        "\b\b\b\b\b\b\b\b\b\b\b\b\b\b\b\b\b\b\b\b\b\b\b\b\b\b\b\b\b\b\b\b\b\b\b\b\b\b\b\b\b\b\b\b\b\b\b\b\b\b\b\b\b\b\b\b\b\b\b\b\b\b\b\b\b\b\b\b\b\b\b\b\b\b\b\b\b\b\b\b\b\b\b\b\r",
        " 7808/60000 [==>...........................] - ETA: 11s - loss: 1.7248 - acc: 0.4917"
       ]
      },
      {
       "output_type": "stream",
       "stream": "stdout",
       "text": [
        "\b\b\b\b\b\b\b\b\b\b\b\b\b\b\b\b\b\b\b\b\b\b\b\b\b\b\b\b\b\b\b\b\b\b\b\b\b\b\b\b\b\b\b\b\b\b\b\b\b\b\b\b\b\b\b\b\b\b\b\b\b\b\b\b\b\b\b\b\b\b\b\b\b\b\b\b\b\b\b\b\b\b\b\b\r",
        " 7936/60000 [==>...........................] - ETA: 11s - loss: 1.7143 - acc: 0.4956"
       ]
      },
      {
       "output_type": "stream",
       "stream": "stdout",
       "text": [
        "\b\b\b\b\b\b\b\b\b\b\b\b\b\b\b\b\b\b\b\b\b\b\b\b\b\b\b\b\b\b\b\b\b\b\b\b\b\b\b\b\b\b\b\b\b\b\b\b\b\b\b\b\b\b\b\b\b\b\b\b\b\b\b\b\b\b\b\b\b\b\b\b\b\b\b\b\b\b\b\b\b\b\b\b\r",
        " 8064/60000 [===>..........................] - ETA: 11s - loss: 1.7039 - acc: 0.4996"
       ]
      },
      {
       "output_type": "stream",
       "stream": "stdout",
       "text": [
        "\b\b\b\b\b\b\b\b\b\b\b\b\b\b\b\b\b\b\b\b\b\b\b\b\b\b\b\b\b\b\b\b\b\b\b\b\b\b\b\b\b\b\b\b\b\b\b\b\b\b\b\b\b\b\b\b\b\b\b\b\b\b\b\b\b\b\b\b\b\b\b\b\b\b\b\b\b\b\b\b\b\b\b\b\r",
        " 8192/60000 [===>..........................] - ETA: 11s - loss: 1.6914 - acc: 0.5048"
       ]
      },
      {
       "output_type": "stream",
       "stream": "stdout",
       "text": [
        "\b\b\b\b\b\b\b\b\b\b\b\b\b\b\b\b\b\b\b\b\b\b\b\b\b\b\b\b\b\b\b\b\b\b\b\b\b\b\b\b\b\b\b\b\b\b\b\b\b\b\b\b\b\b\b\b\b\b\b\b\b\b\b\b\b\b\b\b\b\b\b\b\b\b\b\b\b\b\b\b\b\b\b\b\r",
        " 8320/60000 [===>..........................] - ETA: 11s - loss: 1.6796 - acc: 0.5095"
       ]
      },
      {
       "output_type": "stream",
       "stream": "stdout",
       "text": [
        "\b\b\b\b\b\b\b\b\b\b\b\b\b\b\b\b\b\b\b\b\b\b\b\b\b\b\b\b\b\b\b\b\b\b\b\b\b\b\b\b\b\b\b\b\b\b\b\b\b\b\b\b\b\b\b\b\b\b\b\b\b\b\b\b\b\b\b\b\b\b\b\b\b\b\b\b\b\b\b\b\b\b\b\b\r",
        " 8448/60000 [===>..........................] - ETA: 11s - loss: 1.6682 - acc: 0.5136"
       ]
      },
      {
       "output_type": "stream",
       "stream": "stdout",
       "text": [
        "\b\b\b\b\b\b\b\b\b\b\b\b\b\b\b\b\b\b\b\b\b\b\b\b\b\b\b\b\b\b\b\b\b\b\b\b\b\b\b\b\b\b\b\b\b\b\b\b\b\b\b\b\b\b\b\b\b\b\b\b\b\b\b\b\b\b\b\b\b\b\b\b\b\b\b\b\b\b\b\b\b\b\b\b\r",
        " 8576/60000 [===>..........................] - ETA: 11s - loss: 1.6582 - acc: 0.5175"
       ]
      },
      {
       "output_type": "stream",
       "stream": "stdout",
       "text": [
        "\b\b\b\b\b\b\b\b\b\b\b\b\b\b\b\b\b\b\b\b\b\b\b\b\b\b\b\b\b\b\b\b\b\b\b\b\b\b\b\b\b\b\b\b\b\b\b\b\b\b\b\b\b\b\b\b\b\b\b\b\b\b\b\b\b\b\b\b\b\b\b\b\b\b\b\b\b\b\b\b\b\b\b\b\r",
        " 8704/60000 [===>..........................] - ETA: 11s - loss: 1.6470 - acc: 0.5216"
       ]
      },
      {
       "output_type": "stream",
       "stream": "stdout",
       "text": [
        "\b\b\b\b\b\b\b\b\b\b\b\b\b\b\b\b\b\b\b\b\b\b\b\b\b\b\b\b\b\b\b\b\b\b\b\b\b\b\b\b\b\b\b\b\b\b\b\b\b\b\b\b\b\b\b\b\b\b\b\b\b\b\b\b\b\b\b\b\b\b\b\b\b\b\b\b\b\b\b\b\b\b\b\b\r",
        " 8832/60000 [===>..........................] - ETA: 11s - loss: 1.6363 - acc: 0.5250"
       ]
      },
      {
       "output_type": "stream",
       "stream": "stdout",
       "text": [
        "\b\b\b\b\b\b\b\b\b\b\b\b\b\b\b\b\b\b\b\b\b\b\b\b\b\b\b\b\b\b\b\b\b\b\b\b\b\b\b\b\b\b\b\b\b\b\b\b\b\b\b\b\b\b\b\b\b\b\b\b\b\b\b\b\b\b\b\b\b\b\b\b\b\b\b\b\b\b\b\b\b\b\b\b\r",
        " 8960/60000 [===>..........................] - ETA: 11s - loss: 1.6257 - acc: 0.5281"
       ]
      },
      {
       "output_type": "stream",
       "stream": "stdout",
       "text": [
        "\b\b\b\b\b\b\b\b\b\b\b\b\b\b\b\b\b\b\b\b\b\b\b\b\b\b\b\b\b\b\b\b\b\b\b\b\b\b\b\b\b\b\b\b\b\b\b\b\b\b\b\b\b\b\b\b\b\b\b\b\b\b\b\b\b\b\b\b\b\b\b\b\b\b\b\b\b\b\b\b\b\b\b\b\r",
        " 9088/60000 [===>..........................] - ETA: 11s - loss: 1.6148 - acc: 0.5317"
       ]
      },
      {
       "output_type": "stream",
       "stream": "stdout",
       "text": [
        "\b\b\b\b\b\b\b\b\b\b\b\b\b\b\b\b\b\b\b\b\b\b\b\b\b\b\b\b\b\b\b\b\b\b\b\b\b\b\b\b\b\b\b\b\b\b\b\b\b\b\b\b\b\b\b\b\b\b\b\b\b\b\b\b\b\b\b\b\b\b\b\b\b\b\b\b\b\b\b\b\b\b\b\b\r",
        " 9216/60000 [===>..........................] - ETA: 11s - loss: 1.6052 - acc: 0.5346"
       ]
      },
      {
       "output_type": "stream",
       "stream": "stdout",
       "text": [
        "\b\b\b\b\b\b\b\b\b\b\b\b\b\b\b\b\b\b\b\b\b\b\b\b\b\b\b\b\b\b\b\b\b\b\b\b\b\b\b\b\b\b\b\b\b\b\b\b\b\b\b\b\b\b\b\b\b\b\b\b\b\b\b\b\b\b\b\b\b\b\b\b\b\b\b\b\b\b\b\b\b\b\b\b\r",
        " 9344/60000 [===>..........................] - ETA: 11s - loss: 1.5945 - acc: 0.5391"
       ]
      },
      {
       "output_type": "stream",
       "stream": "stdout",
       "text": [
        "\b\b\b\b\b\b\b\b\b\b\b\b\b\b\b\b\b\b\b\b\b\b\b\b\b\b\b\b\b\b\b\b\b\b\b\b\b\b\b\b\b\b\b\b\b\b\b\b\b\b\b\b\b\b\b\b\b\b\b\b\b\b\b\b\b\b\b\b\b\b\b\b\b\b\b\b\b\b\b\b\b\b\b\b\r",
        " 9472/60000 [===>..........................] - ETA: 11s - loss: 1.5840 - acc: 0.5423"
       ]
      },
      {
       "output_type": "stream",
       "stream": "stdout",
       "text": [
        "\b\b\b\b\b\b\b\b\b\b\b\b\b\b\b\b\b\b\b\b\b\b\b\b\b\b\b\b\b\b\b\b\b\b\b\b\b\b\b\b\b\b\b\b\b\b\b\b\b\b\b\b\b\b\b\b\b\b\b\b\b\b\b\b\b\b\b\b\b\b\b\b\b\b\b\b\b\b\b\b\b\b\b\b\r",
        " 9600/60000 [===>..........................] - ETA: 11s - loss: 1.5741 - acc: 0.5453"
       ]
      },
      {
       "output_type": "stream",
       "stream": "stdout",
       "text": [
        "\b\b\b\b\b\b\b\b\b\b\b\b\b\b\b\b\b\b\b\b\b\b\b\b\b\b\b\b\b\b\b\b\b\b\b\b\b\b\b\b\b\b\b\b\b\b\b\b\b\b\b\b\b\b\b\b\b\b\b\b\b\b\b\b\b\b\b\b\b\b\b\b\b\b\b\b\b\b\b\b\b\b\b\b\r",
        " 9728/60000 [===>..........................] - ETA: 11s - loss: 1.5644 - acc: 0.5483"
       ]
      },
      {
       "output_type": "stream",
       "stream": "stdout",
       "text": [
        "\b\b\b\b\b\b\b\b\b\b\b\b\b\b\b\b\b\b\b\b\b\b\b\b\b\b\b\b\b\b\b\b\b\b\b\b\b\b\b\b\b\b\b\b\b\b\b\b\b\b\b\b\b\b\b\b\b\b\b\b\b\b\b\b\b\b\b\b\b\b\b\b\b\b\b\b\b\b\b\b\b\b\b\b\r",
        " 9856/60000 [===>..........................] - ETA: 11s - loss: 1.5556 - acc: 0.5507"
       ]
      },
      {
       "output_type": "stream",
       "stream": "stdout",
       "text": [
        "\b\b\b\b\b\b\b\b\b\b\b\b\b\b\b\b\b\b\b\b\b\b\b\b\b\b\b\b\b\b\b\b\b\b\b\b\b\b\b\b\b\b\b\b\b\b\b\b\b\b\b\b\b\b\b\b\b\b\b\b\b\b\b\b\b\b\b\b\b\b\b\b\b\b\b\b\b\b\b\b\b\b\b\b\r",
        " 9984/60000 [===>..........................] - ETA: 11s - loss: 1.5471 - acc: 0.5534"
       ]
      },
      {
       "output_type": "stream",
       "stream": "stdout",
       "text": [
        "\b\b\b\b\b\b\b\b\b\b\b\b\b\b\b\b\b\b\b\b\b\b\b\b\b\b\b\b\b\b\b\b\b\b\b\b\b\b\b\b\b\b\b\b\b\b\b\b\b\b\b\b\b\b\b\b\b\b\b\b\b\b\b\b\b\b\b\b\b\b\b\b\b\b\b\b\b\b\b\b\b\b\b\b\r",
        "10112/60000 [====>.........................] - ETA: 11s - loss: 1.5374 - acc: 0.5567"
       ]
      },
      {
       "output_type": "stream",
       "stream": "stdout",
       "text": [
        "\b\b\b\b\b\b\b\b\b\b\b\b\b\b\b\b\b\b\b\b\b\b\b\b\b\b\b\b\b\b\b\b\b\b\b\b\b\b\b\b\b\b\b\b\b\b\b\b\b\b\b\b\b\b\b\b\b\b\b\b\b\b\b\b\b\b\b\b\b\b\b\b\b\b\b\b\b\b\b\b\b\b\b\b\r",
        "10240/60000 [====>.........................] - ETA: 11s - loss: 1.5300 - acc: 0.5590"
       ]
      },
      {
       "output_type": "stream",
       "stream": "stdout",
       "text": [
        "\b\b\b\b\b\b\b\b\b\b\b\b\b\b\b\b\b\b\b\b\b\b\b\b\b\b\b\b\b\b\b\b\b\b\b\b\b\b\b\b\b\b\b\b\b\b\b\b\b\b\b\b\b\b\b\b\b\b\b\b\b\b\b\b\b\b\b\b\b\b\b\b\b\b\b\b\b\b\b\b\b\b\b\b\r",
        "10368/60000 [====>.........................] - ETA: 10s - loss: 1.5207 - acc: 0.5621"
       ]
      },
      {
       "output_type": "stream",
       "stream": "stdout",
       "text": [
        "\b\b\b\b\b\b\b\b\b\b\b\b\b\b\b\b\b\b\b\b\b\b\b\b\b\b\b\b\b\b\b\b\b\b\b\b\b\b\b\b\b\b\b\b\b\b\b\b\b\b\b\b\b\b\b\b\b\b\b\b\b\b\b\b\b\b\b\b\b\b\b\b\b\b\b\b\b\b\b\b\b\b\b\b\r",
        "10496/60000 [====>.........................] - ETA: 10s - loss: 1.5118 - acc: 0.5652"
       ]
      },
      {
       "output_type": "stream",
       "stream": "stdout",
       "text": [
        "\b\b\b\b\b\b\b\b\b\b\b\b\b\b\b\b\b\b\b\b\b\b\b\b\b\b\b\b\b\b\b\b\b\b\b\b\b\b\b\b\b\b\b\b\b\b\b\b\b\b\b\b\b\b\b\b\b\b\b\b\b\b\b\b\b\b\b\b\b\b\b\b\b\b\b\b\b\b\b\b\b\b\b\b\r",
        "10624/60000 [====>.........................] - ETA: 10s - loss: 1.5035 - acc: 0.5676"
       ]
      },
      {
       "output_type": "stream",
       "stream": "stdout",
       "text": [
        "\b\b\b\b\b\b\b\b\b\b\b\b\b\b\b\b\b\b\b\b\b\b\b\b\b\b\b\b\b\b\b\b\b\b\b\b\b\b\b\b\b\b\b\b\b\b\b\b\b\b\b\b\b\b\b\b\b\b\b\b\b\b\b\b\b\b\b\b\b\b\b\b\b\b\b\b\b\b\b\b\b\b\b\b\r",
        "10752/60000 [====>.........................] - ETA: 10s - loss: 1.4939 - acc: 0.5709"
       ]
      },
      {
       "output_type": "stream",
       "stream": "stdout",
       "text": [
        "\b\b\b\b\b\b\b\b\b\b\b\b\b\b\b\b\b\b\b\b\b\b\b\b\b\b\b\b\b\b\b\b\b\b\b\b\b\b\b\b\b\b\b\b\b\b\b\b\b\b\b\b\b\b\b\b\b\b\b\b\b\b\b\b\b\b\b\b\b\b\b\b\b\b\b\b\b\b\b\b\b\b\b\b\r",
        "10880/60000 [====>.........................] - ETA: 10s - loss: 1.4850 - acc: 0.5741"
       ]
      },
      {
       "output_type": "stream",
       "stream": "stdout",
       "text": [
        "\b\b\b\b\b\b\b\b\b\b\b\b\b\b\b\b\b\b\b\b\b\b\b\b\b\b\b\b\b\b\b\b\b\b\b\b\b\b\b\b\b\b\b\b\b\b\b\b\b\b\b\b\b\b\b\b\b\b\b\b\b\b\b\b\b\b\b\b\b\b\b\b\b\b\b\b\b\b\b\b\b\b\b\b\r",
        "11008/60000 [====>.........................] - ETA: 10s - loss: 1.4758 - acc: 0.5769"
       ]
      },
      {
       "output_type": "stream",
       "stream": "stdout",
       "text": [
        "\b\b\b\b\b\b\b\b\b\b\b\b\b\b\b\b\b\b\b\b\b\b\b\b\b\b\b\b\b\b\b\b\b\b\b\b\b\b\b\b\b\b\b\b\b\b\b\b\b\b\b\b\b\b\b\b\b\b\b\b\b\b\b\b\b\b\b\b\b\b\b\b\b\b\b\b\b\b\b\b\b\b\b\b\r",
        "11136/60000 [====>.........................] - ETA: 10s - loss: 1.4681 - acc: 0.5790"
       ]
      },
      {
       "output_type": "stream",
       "stream": "stdout",
       "text": [
        "\b\b\b\b\b\b\b\b\b\b\b\b\b\b\b\b\b\b\b\b\b\b\b\b\b\b\b\b\b\b\b\b\b\b\b\b\b\b\b\b\b\b\b\b\b\b\b\b\b\b\b\b\b\b\b\b\b\b\b\b\b\b\b\b\b\b\b\b\b\b\b\b\b\b\b\b\b\b\b\b\b\b\b\b\r",
        "11264/60000 [====>.........................] - ETA: 10s - loss: 1.4583 - acc: 0.5822"
       ]
      },
      {
       "output_type": "stream",
       "stream": "stdout",
       "text": [
        "\b\b\b\b\b\b\b\b\b\b\b\b\b\b\b\b\b\b\b\b\b\b\b\b\b\b\b\b\b\b\b\b\b\b\b\b\b\b\b\b\b\b\b\b\b\b\b\b\b\b\b\b\b\b\b\b\b\b\b\b\b\b\b\b\b\b\b\b\b\b\b\b\b\b\b\b\b\b\b\b\b\b\b\b\r",
        "11392/60000 [====>.........................] - ETA: 10s - loss: 1.4500 - acc: 0.5845"
       ]
      },
      {
       "output_type": "stream",
       "stream": "stdout",
       "text": [
        "\b\b\b\b\b\b\b\b\b\b\b\b\b\b\b\b\b\b\b\b\b\b\b\b\b\b\b\b\b\b\b\b\b\b\b\b\b\b\b\b\b\b\b\b\b\b\b\b\b\b\b\b\b\b\b\b\b\b\b\b\b\b\b\b\b\b\b\b\b\b\b\b\b\b\b\b\b\b\b\b\b\b\b\b\r",
        "11520/60000 [====>.........................] - ETA: 10s - loss: 1.4422 - acc: 0.5874"
       ]
      },
      {
       "output_type": "stream",
       "stream": "stdout",
       "text": [
        "\b\b\b\b\b\b\b\b\b\b\b\b\b\b\b\b\b\b\b\b\b\b\b\b\b\b\b\b\b\b\b\b\b\b\b\b\b\b\b\b\b\b\b\b\b\b\b\b\b\b\b\b\b\b\b\b\b\b\b\b\b\b\b\b\b\b\b\b\b\b\b\b\b\b\b\b\b\b\b\b\b\b\b\b\r",
        "11648/60000 [====>.........................] - ETA: 10s - loss: 1.4341 - acc: 0.5900"
       ]
      },
      {
       "output_type": "stream",
       "stream": "stdout",
       "text": [
        "\b\b\b\b\b\b\b\b\b\b\b\b\b\b\b\b\b\b\b\b\b\b\b\b\b\b\b\b\b\b\b\b\b\b\b\b\b\b\b\b\b\b\b\b\b\b\b\b\b\b\b\b\b\b\b\b\b\b\b\b\b\b\b\b\b\b\b\b\b\b\b\b\b\b\b\b\b\b\b\b\b\b\b\b\r",
        "11776/60000 [====>.........................] - ETA: 10s - loss: 1.4268 - acc: 0.5919"
       ]
      },
      {
       "output_type": "stream",
       "stream": "stdout",
       "text": [
        "\b\b\b\b\b\b\b\b\b\b\b\b\b\b\b\b\b\b\b\b\b\b\b\b\b\b\b\b\b\b\b\b\b\b\b\b\b\b\b\b\b\b\b\b\b\b\b\b\b\b\b\b\b\b\b\b\b\b\b\b\b\b\b\b\b\b\b\b\b\b\b\b\b\b\b\b\b\b\b\b\b\b\b\b\r",
        "11904/60000 [====>.........................] - ETA: 10s - loss: 1.4182 - acc: 0.5947"
       ]
      },
      {
       "output_type": "stream",
       "stream": "stdout",
       "text": [
        "\b\b\b\b\b\b\b\b\b\b\b\b\b\b\b\b\b\b\b\b\b\b\b\b\b\b\b\b\b\b\b\b\b\b\b\b\b\b\b\b\b\b\b\b\b\b\b\b\b\b\b\b\b\b\b\b\b\b\b\b\b\b\b\b\b\b\b\b\b\b\b\b\b\b\b\b\b\b\b\b\b\b\b\b\r",
        "12032/60000 [=====>........................] - ETA: 10s - loss: 1.4101 - acc: 0.5973"
       ]
      },
      {
       "output_type": "stream",
       "stream": "stdout",
       "text": [
        "\b\b\b\b\b\b\b\b\b\b\b\b\b\b\b\b\b\b\b\b\b\b\b\b\b\b\b\b\b\b\b\b\b\b\b\b\b\b\b\b\b\b\b\b\b\b\b\b\b\b\b\b\b\b\b\b\b\b\b\b\b\b\b\b\b\b\b\b\b\b\b\b\b\b\b\b\b\b\b\b\b\b\b\b\r",
        "12160/60000 [=====>........................] - ETA: 10s - loss: 1.4024 - acc: 0.5997"
       ]
      },
      {
       "output_type": "stream",
       "stream": "stdout",
       "text": [
        "\b\b\b\b\b\b\b\b\b\b\b\b\b\b\b\b\b\b\b\b\b\b\b\b\b\b\b\b\b\b\b\b\b\b\b\b\b\b\b\b\b\b\b\b\b\b\b\b\b\b\b\b\b\b\b\b\b\b\b\b\b\b\b\b\b\b\b\b\b\b\b\b\b\b\b\b\b\b\b\b\b\b\b\b\r",
        "12288/60000 [=====>........................] - ETA: 10s - loss: 1.3946 - acc: 0.6022"
       ]
      },
      {
       "output_type": "stream",
       "stream": "stdout",
       "text": [
        "\b\b\b\b\b\b\b\b\b\b\b\b\b\b\b\b\b\b\b\b\b\b\b\b\b\b\b\b\b\b\b\b\b\b\b\b\b\b\b\b\b\b\b\b\b\b\b\b\b\b\b\b\b\b\b\b\b\b\b\b\b\b\b\b\b\b\b\b\b\b\b\b\b\b\b\b\b\b\b\b\b\b\b\b\r",
        "12416/60000 [=====>........................] - ETA: 10s - loss: 1.3863 - acc: 0.6049"
       ]
      },
      {
       "output_type": "stream",
       "stream": "stdout",
       "text": [
        "\b\b\b\b\b\b\b\b\b\b\b\b\b\b\b\b\b\b\b\b\b\b\b\b\b\b\b\b\b\b\b\b\b\b\b\b\b\b\b\b\b\b\b\b\b\b\b\b\b\b\b\b\b\b\b\b\b\b\b\b\b\b\b\b\b\b\b\b\b\b\b\b\b\b\b\b\b\b\b\b\b\b\b\b\r",
        "12544/60000 [=====>........................] - ETA: 10s - loss: 1.3793 - acc: 0.6075"
       ]
      },
      {
       "output_type": "stream",
       "stream": "stdout",
       "text": [
        "\b\b\b\b\b\b\b\b\b\b\b\b\b\b\b\b\b\b\b\b\b\b\b\b\b\b\b\b\b\b\b\b\b\b\b\b\b\b\b\b\b\b\b\b\b\b\b\b\b\b\b\b\b\b\b\b\b\b\b\b\b\b\b\b\b\b\b\b\b\b\b\b\b\b\b\b\b\b\b\b\b\b\b\b\r",
        "12672/60000 [=====>........................] - ETA: 10s - loss: 1.3717 - acc: 0.6099"
       ]
      },
      {
       "output_type": "stream",
       "stream": "stdout",
       "text": [
        "\b\b\b\b\b\b\b\b\b\b\b\b\b\b\b\b\b\b\b\b\b\b\b\b\b\b\b\b\b\b\b\b\b\b\b\b\b\b\b\b\b\b\b\b\b\b\b\b\b\b\b\b\b\b\b\b\b\b\b\b\b\b\b\b\b\b\b\b\b\b\b\b\b\b\b\b\b\b\b\b\b\b\b\b\r",
        "12800/60000 [=====>........................] - ETA: 10s - loss: 1.3646 - acc: 0.6123"
       ]
      },
      {
       "output_type": "stream",
       "stream": "stdout",
       "text": [
        "\b\b\b\b\b\b\b\b\b\b\b\b\b\b\b\b\b\b\b\b\b\b\b\b\b\b\b\b\b\b\b\b\b\b\b\b\b\b\b\b\b\b\b\b\b\b\b\b\b\b\b\b\b\b\b\b\b\b\b\b\b\b\b\b\b\b\b\b\b\b\b\b\b\b\b\b\b\b\b\b\b\b\b\b\r",
        "12928/60000 [=====>........................] - ETA: 10s - loss: 1.3581 - acc: 0.6142"
       ]
      },
      {
       "output_type": "stream",
       "stream": "stdout",
       "text": [
        "\b\b\b\b\b\b\b\b\b\b\b\b\b\b\b\b\b\b\b\b\b\b\b\b\b\b\b\b\b\b\b\b\b\b\b\b\b\b\b\b\b\b\b\b\b\b\b\b\b\b\b\b\b\b\b\b\b\b\b\b\b\b\b\b\b\b\b\b\b\b\b\b\b\b\b\b\b\b\b\b\b\b\b\b\r",
        "13056/60000 [=====>........................] - ETA: 10s - loss: 1.3514 - acc: 0.6163"
       ]
      },
      {
       "output_type": "stream",
       "stream": "stdout",
       "text": [
        "\b\b\b\b\b\b\b\b\b\b\b\b\b\b\b\b\b\b\b\b\b\b\b\b\b\b\b\b\b\b\b\b\b\b\b\b\b\b\b\b\b\b\b\b\b\b\b\b\b\b\b\b\b\b\b\b\b\b\b\b\b\b\b\b\b\b\b\b\b\b\b\b\b\b\b\b\b\b\b\b\b\b\b\b\r",
        "13184/60000 [=====>........................] - ETA: 10s - loss: 1.3436 - acc: 0.6191"
       ]
      },
      {
       "output_type": "stream",
       "stream": "stdout",
       "text": [
        "\b\b\b\b\b\b\b\b\b\b\b\b\b\b\b\b\b\b\b\b\b\b\b\b\b\b\b\b\b\b\b\b\b\b\b\b\b\b\b\b\b\b\b\b\b\b\b\b\b\b\b\b\b\b\b\b\b\b\b\b\b\b\b\b\b\b\b\b\b\b\b\b\b\b\b\b\b\b\b\b\b\b\b\b\r",
        "13312/60000 [=====>........................] - ETA: 10s - loss: 1.3357 - acc: 0.6216"
       ]
      },
      {
       "output_type": "stream",
       "stream": "stdout",
       "text": [
        "\b\b\b\b\b\b\b\b\b\b\b\b\b\b\b\b\b\b\b\b\b\b\b\b\b\b\b\b\b\b\b\b\b\b\b\b\b\b\b\b\b\b\b\b\b\b\b\b\b\b\b\b\b\b\b\b\b\b\b\b\b\b\b\b\b\b\b\b\b\b\b\b\b\b\b\b\b\b\b\b\b\b\b\b\r",
        "13440/60000 [=====>........................] - ETA: 10s - loss: 1.3292 - acc: 0.6234"
       ]
      },
      {
       "output_type": "stream",
       "stream": "stdout",
       "text": [
        "\b\b\b\b\b\b\b\b\b\b\b\b\b\b\b\b\b\b\b\b\b\b\b\b\b\b\b\b\b\b\b\b\b\b\b\b\b\b\b\b\b\b\b\b\b\b\b\b\b\b\b\b\b\b\b\b\b\b\b\b\b\b\b\b\b\b\b\b\b\b\b\b\b\b\b\b\b\b\b\b\b\b\b\b\r",
        "13568/60000 [=====>........................] - ETA: 10s - loss: 1.3238 - acc: 0.6249"
       ]
      },
      {
       "output_type": "stream",
       "stream": "stdout",
       "text": [
        "\b\b\b\b\b\b\b\b\b\b\b\b\b\b\b\b\b\b\b\b\b\b\b\b\b\b\b\b\b\b\b\b\b\b\b\b\b\b\b\b\b\b\b\b\b\b\b\b\b\b\b\b\b\b\b\b\b\b\b\b\b\b\b\b\b\b\b\b\b\b\b\b\b\b\b\b\b\b\b\b\b\b\b\b\r",
        "13696/60000 [=====>........................] - ETA: 10s - loss: 1.3176 - acc: 0.6266"
       ]
      },
      {
       "output_type": "stream",
       "stream": "stdout",
       "text": [
        "\b\b\b\b\b\b\b\b\b\b\b\b\b\b\b\b\b\b\b\b\b\b\b\b\b\b\b\b\b\b\b\b\b\b\b\b\b\b\b\b\b\b\b\b\b\b\b\b\b\b\b\b\b\b\b\b\b\b\b\b\b\b\b\b\b\b\b\b\b\b\b\b\b\b\b\b\b\b\b\b\b\b\b\b\r",
        "13824/60000 [=====>........................] - ETA: 10s - loss: 1.3104 - acc: 0.6285"
       ]
      },
      {
       "output_type": "stream",
       "stream": "stdout",
       "text": [
        "\b\b\b\b\b\b\b\b\b\b\b\b\b\b\b\b\b\b\b\b\b\b\b\b\b\b\b\b\b\b\b\b\b\b\b\b\b\b\b\b\b\b\b\b\b\b\b\b\b\b\b\b\b\b\b\b\b\b\b\b\b\b\b\b\b\b\b\b\b\b\b\b\b\b\b\b\b\b\b\b\b\b\b\b\r",
        "13952/60000 [=====>........................] - ETA: 10s - loss: 1.3040 - acc: 0.6305"
       ]
      },
      {
       "output_type": "stream",
       "stream": "stdout",
       "text": [
        "\b\b\b\b\b\b\b\b\b\b\b\b\b\b\b\b\b\b\b\b\b\b\b\b\b\b\b\b\b\b\b\b\b\b\b\b\b\b\b\b\b\b\b\b\b\b\b\b\b\b\b\b\b\b\b\b\b\b\b\b\b\b\b\b\b\b\b\b\b\b\b\b\b\b\b\b\b\b\b\b\b\b\b\b\r",
        "14080/60000 [======>.......................] - ETA: 10s - loss: 1.2975 - acc: 0.6328"
       ]
      },
      {
       "output_type": "stream",
       "stream": "stdout",
       "text": [
        "\b\b\b\b\b\b\b\b\b\b\b\b\b\b\b\b\b\b\b\b\b\b\b\b\b\b\b\b\b\b\b\b\b\b\b\b\b\b\b\b\b\b\b\b\b\b\b\b\b\b\b\b\b\b\b\b\b\b\b\b\b\b\b\b\b\b\b\b\b\b\b\b\b\b\b\b\b\b\b\b\b\b\b\b\r",
        "14208/60000 [======>.......................] - ETA: 10s - loss: 1.2919 - acc: 0.6345"
       ]
      },
      {
       "output_type": "stream",
       "stream": "stdout",
       "text": [
        "\b\b\b\b\b\b\b\b\b\b\b\b\b\b\b\b\b\b\b\b\b\b\b\b\b\b\b\b\b\b\b\b\b\b\b\b\b\b\b\b\b\b\b\b\b\b\b\b\b\b\b\b\b\b\b\b\b\b\b\b\b\b\b\b\b\b\b\b\b\b\b\b\b\b\b\b\b\b\b\b\b\b\b\b\r",
        "14336/60000 [======>.......................] - ETA: 10s - loss: 1.2859 - acc: 0.6364"
       ]
      },
      {
       "output_type": "stream",
       "stream": "stdout",
       "text": [
        "\b\b\b\b\b\b\b\b\b\b\b\b\b\b\b\b\b\b\b\b\b\b\b\b\b\b\b\b\b\b\b\b\b\b\b\b\b\b\b\b\b\b\b\b\b\b\b\b\b\b\b\b\b\b\b\b\b\b\b\b\b\b\b\b\b\b\b\b\b\b\b\b\b\b\b\b\b\b\b\b\b\b\b\b\r",
        "14464/60000 [======>.......................] - ETA: 10s - loss: 1.2792 - acc: 0.6383"
       ]
      },
      {
       "output_type": "stream",
       "stream": "stdout",
       "text": [
        "\b\b\b\b\b\b\b\b\b\b\b\b\b\b\b\b\b\b\b\b\b\b\b\b\b\b\b\b\b\b\b\b\b\b\b\b\b\b\b\b\b\b\b\b\b\b\b\b\b\b\b\b\b\b\b\b\b\b\b\b\b\b\b\b\b\b\b\b\b\b\b\b\b\b\b\b\b\b\b\b\b\b\b\b\r",
        "14592/60000 [======>.......................] - ETA: 10s - loss: 1.2733 - acc: 0.6401"
       ]
      },
      {
       "output_type": "stream",
       "stream": "stdout",
       "text": [
        "\b\b\b\b\b\b\b\b\b\b\b\b\b\b\b\b\b\b\b\b\b\b\b\b\b\b\b\b\b\b\b\b\b\b\b\b\b\b\b\b\b\b\b\b\b\b\b\b\b\b\b\b\b\b\b\b\b\b\b\b\b\b\b\b\b\b\b\b\b\b\b\b\b\b\b\b\b\b\b\b\b\b\b\b\r",
        "14720/60000 [======>.......................] - ETA: 10s - loss: 1.2670 - acc: 0.6416"
       ]
      },
      {
       "output_type": "stream",
       "stream": "stdout",
       "text": [
        "\b\b\b\b\b\b\b\b\b\b\b\b\b\b\b\b\b\b\b\b\b\b\b\b\b\b\b\b\b\b\b\b\b\b\b\b\b\b\b\b\b\b\b\b\b\b\b\b\b\b\b\b\b\b\b\b\b\b\b\b\b\b\b\b\b\b\b\b\b\b\b\b\b\b\b\b\b\b\b\b\b\b\b\b\r",
        "14848/60000 [======>.......................] - ETA: 9s - loss: 1.2614 - acc: 0.6434 "
       ]
      },
      {
       "output_type": "stream",
       "stream": "stdout",
       "text": [
        "\b\b\b\b\b\b\b\b\b\b\b\b\b\b\b\b\b\b\b\b\b\b\b\b\b\b\b\b\b\b\b\b\b\b\b\b\b\b\b\b\b\b\b\b\b\b\b\b\b\b\b\b\b\b\b\b\b\b\b\b\b\b\b\b\b\b\b\b\b\b\b\b\b\b\b\b\b\b\b\b\b\b\b\r",
        "14976/60000 [======>.......................] - ETA: 9s - loss: 1.2555 - acc: 0.6452"
       ]
      },
      {
       "output_type": "stream",
       "stream": "stdout",
       "text": [
        "\b\b\b\b\b\b\b\b\b\b\b\b\b\b\b\b\b\b\b\b\b\b\b\b\b\b\b\b\b\b\b\b\b\b\b\b\b\b\b\b\b\b\b\b\b\b\b\b\b\b\b\b\b\b\b\b\b\b\b\b\b\b\b\b\b\b\b\b\b\b\b\b\b\b\b\b\b\b\b\b\b\b\b\r",
        "15104/60000 [======>.......................] - ETA: 9s - loss: 1.2492 - acc: 0.6470"
       ]
      },
      {
       "output_type": "stream",
       "stream": "stdout",
       "text": [
        "\b\b\b\b\b\b\b\b\b\b\b\b\b\b\b\b\b\b\b\b\b\b\b\b\b\b\b\b\b\b\b\b\b\b\b\b\b\b\b\b\b\b\b\b\b\b\b\b\b\b\b\b\b\b\b\b\b\b\b\b\b\b\b\b\b\b\b\b\b\b\b\b\b\b\b\b\b\b\b\b\b\b\b\r",
        "15232/60000 [======>.......................] - ETA: 9s - loss: 1.2428 - acc: 0.6492"
       ]
      },
      {
       "output_type": "stream",
       "stream": "stdout",
       "text": [
        "\b\b\b\b\b\b\b\b\b\b\b\b\b\b\b\b\b\b\b\b\b\b\b\b\b\b\b\b\b\b\b\b\b\b\b\b\b\b\b\b\b\b\b\b\b\b\b\b\b\b\b\b\b\b\b\b\b\b\b\b\b\b\b\b\b\b\b\b\b\b\b\b\b\b\b\b\b\b\b\b\b\b\b\r",
        "15360/60000 [======>.......................] - ETA: 9s - loss: 1.2365 - acc: 0.6509"
       ]
      },
      {
       "output_type": "stream",
       "stream": "stdout",
       "text": [
        "\b\b\b\b\b\b\b\b\b\b\b\b\b\b\b\b\b\b\b\b\b\b\b\b\b\b\b\b\b\b\b\b\b\b\b\b\b\b\b\b\b\b\b\b\b\b\b\b\b\b\b\b\b\b\b\b\b\b\b\b\b\b\b\b\b\b\b\b\b\b\b\b\b\b\b\b\b\b\b\b\b\b\b\r",
        "15488/60000 [======>.......................] - ETA: 9s - loss: 1.2314 - acc: 0.6524"
       ]
      },
      {
       "output_type": "stream",
       "stream": "stdout",
       "text": [
        "\b\b\b\b\b\b\b\b\b\b\b\b\b\b\b\b\b\b\b\b\b\b\b\b\b\b\b\b\b\b\b\b\b\b\b\b\b\b\b\b\b\b\b\b\b\b\b\b\b\b\b\b\b\b\b\b\b\b\b\b\b\b\b\b\b\b\b\b\b\b\b\b\b\b\b\b\b\b\b\b\b\b\b\r",
        "15616/60000 [======>.......................] - ETA: 9s - loss: 1.2257 - acc: 0.6540"
       ]
      },
      {
       "output_type": "stream",
       "stream": "stdout",
       "text": [
        "\b\b\b\b\b\b\b\b\b\b\b\b\b\b\b\b\b\b\b\b\b\b\b\b\b\b\b\b\b\b\b\b\b\b\b\b\b\b\b\b\b\b\b\b\b\b\b\b\b\b\b\b\b\b\b\b\b\b\b\b\b\b\b\b\b\b\b\b\b\b\b\b\b\b\b\b\b\b\b\b\b\b\b\r",
        "15744/60000 [======>.......................] - ETA: 9s - loss: 1.2211 - acc: 0.6551"
       ]
      },
      {
       "output_type": "stream",
       "stream": "stdout",
       "text": [
        "\b\b\b\b\b\b\b\b\b\b\b\b\b\b\b\b\b\b\b\b\b\b\b\b\b\b\b\b\b\b\b\b\b\b\b\b\b\b\b\b\b\b\b\b\b\b\b\b\b\b\b\b\b\b\b\b\b\b\b\b\b\b\b\b\b\b\b\b\b\b\b\b\b\b\b\b\b\b\b\b\b\b\b\r",
        "15872/60000 [======>.......................] - ETA: 9s - loss: 1.2159 - acc: 0.6566"
       ]
      },
      {
       "output_type": "stream",
       "stream": "stdout",
       "text": [
        "\b\b\b\b\b\b\b\b\b\b\b\b\b\b\b\b\b\b\b\b\b\b\b\b\b\b\b\b\b\b\b\b\b\b\b\b\b\b\b\b\b\b\b\b\b\b\b\b\b\b\b\b\b\b\b\b\b\b\b\b\b\b\b\b\b\b\b\b\b\b\b\b\b\b\b\b\b\b\b\b\b\b\b\r",
        "16000/60000 [=======>......................] - ETA: 9s - loss: 1.2111 - acc: 0.6583"
       ]
      },
      {
       "output_type": "stream",
       "stream": "stdout",
       "text": [
        "\b\b\b\b\b\b\b\b\b\b\b\b\b\b\b\b\b\b\b\b\b\b\b\b\b\b\b\b\b\b\b\b\b\b\b\b\b\b\b\b\b\b\b\b\b\b\b\b\b\b\b\b\b\b\b\b\b\b\b\b\b\b\b\b\b\b\b\b\b\b\b\b\b\b\b\b\b\b\b\b\b\b\b\r",
        "16128/60000 [=======>......................] - ETA: 9s - loss: 1.2054 - acc: 0.6600"
       ]
      },
      {
       "output_type": "stream",
       "stream": "stdout",
       "text": [
        "\b\b\b\b\b\b\b\b\b\b\b\b\b\b\b\b\b\b\b\b\b\b\b\b\b\b\b\b\b\b\b\b\b\b\b\b\b\b\b\b\b\b\b\b\b\b\b\b\b\b\b\b\b\b\b\b\b\b\b\b\b\b\b\b\b\b\b\b\b\b\b\b\b\b\b\b\b\b\b\b\b\b\b\r",
        "16256/60000 [=======>......................] - ETA: 9s - loss: 1.1998 - acc: 0.6617"
       ]
      },
      {
       "output_type": "stream",
       "stream": "stdout",
       "text": [
        "\b\b\b\b\b\b\b\b\b\b\b\b\b\b\b\b\b\b\b\b\b\b\b\b\b\b\b\b\b\b\b\b\b\b\b\b\b\b\b\b\b\b\b\b\b\b\b\b\b\b\b\b\b\b\b\b\b\b\b\b\b\b\b\b\b\b\b\b\b\b\b\b\b\b\b\b\b\b\b\b\b\b\b\r",
        "16384/60000 [=======>......................] - ETA: 9s - loss: 1.1948 - acc: 0.6633"
       ]
      },
      {
       "output_type": "stream",
       "stream": "stdout",
       "text": [
        "\b\b\b\b\b\b\b\b\b\b\b\b\b\b\b\b\b\b\b\b\b\b\b\b\b\b\b\b\b\b\b\b\b\b\b\b\b\b\b\b\b\b\b\b\b\b\b\b\b\b\b\b\b\b\b\b\b\b\b\b\b\b\b\b\b\b\b\b\b\b\b\b\b\b\b\b\b\b\b\b\b\b\b\r",
        "16512/60000 [=======>......................] - ETA: 9s - loss: 1.1895 - acc: 0.6648"
       ]
      },
      {
       "output_type": "stream",
       "stream": "stdout",
       "text": [
        "\b\b\b\b\b\b\b\b\b\b\b\b\b\b\b\b\b\b\b\b\b\b\b\b\b\b\b\b\b\b\b\b\b\b\b\b\b\b\b\b\b\b\b\b\b\b\b\b\b\b\b\b\b\b\b\b\b\b\b\b\b\b\b\b\b\b\b\b\b\b\b\b\b\b\b\b\b\b\b\b\b\b\b\r",
        "16640/60000 [=======>......................] - ETA: 9s - loss: 1.1840 - acc: 0.6666"
       ]
      },
      {
       "output_type": "stream",
       "stream": "stdout",
       "text": [
        "\b\b\b\b\b\b\b\b\b\b\b\b\b\b\b\b\b\b\b\b\b\b\b\b\b\b\b\b\b\b\b\b\b\b\b\b\b\b\b\b\b\b\b\b\b\b\b\b\b\b\b\b\b\b\b\b\b\b\b\b\b\b\b\b\b\b\b\b\b\b\b\b\b\b\b\b\b\b\b\b\b\b\b\r",
        "16768/60000 [=======>......................] - ETA: 9s - loss: 1.1788 - acc: 0.6681"
       ]
      },
      {
       "output_type": "stream",
       "stream": "stdout",
       "text": [
        "\b\b\b\b\b\b\b\b\b\b\b\b\b\b\b\b\b\b\b\b\b\b\b\b\b\b\b\b\b\b\b\b\b\b\b\b\b\b\b\b\b\b\b\b\b\b\b\b\b\b\b\b\b\b\b\b\b\b\b\b\b\b\b\b\b\b\b\b\b\b\b\b\b\b\b\b\b\b\b\b\b\b\b\r",
        "16896/60000 [=======>......................] - ETA: 9s - loss: 1.1736 - acc: 0.6697"
       ]
      },
      {
       "output_type": "stream",
       "stream": "stdout",
       "text": [
        "\b\b\b\b\b\b\b\b\b\b\b\b\b\b\b\b\b\b\b\b\b\b\b\b\b\b\b\b\b\b\b\b\b\b\b\b\b\b\b\b\b\b\b\b\b\b\b\b\b\b\b\b\b\b\b\b\b\b\b\b\b\b\b\b\b\b\b\b\b\b\b\b\b\b\b\b\b\b\b\b\b\b\b\r",
        "17024/60000 [=======>......................] - ETA: 9s - loss: 1.1681 - acc: 0.6712"
       ]
      },
      {
       "output_type": "stream",
       "stream": "stdout",
       "text": [
        "\b\b\b\b\b\b\b\b\b\b\b\b\b\b\b\b\b\b\b\b\b\b\b\b\b\b\b\b\b\b\b\b\b\b\b\b\b\b\b\b\b\b\b\b\b\b\b\b\b\b\b\b\b\b\b\b\b\b\b\b\b\b\b\b\b\b\b\b\b\b\b\b\b\b\b\b\b\b\b\b\b\b\b\r",
        "17152/60000 [=======>......................] - ETA: 9s - loss: 1.1626 - acc: 0.6729"
       ]
      },
      {
       "output_type": "stream",
       "stream": "stdout",
       "text": [
        "\b\b\b\b\b\b\b\b\b\b\b\b\b\b\b\b\b\b\b\b\b\b\b\b\b\b\b\b\b\b\b\b\b\b\b\b\b\b\b\b\b\b\b\b\b\b\b\b\b\b\b\b\b\b\b\b\b\b\b\b\b\b\b\b\b\b\b\b\b\b\b\b\b\b\b\b\b\b\b\b\b\b\b\r",
        "17280/60000 [=======>......................] - ETA: 9s - loss: 1.1582 - acc: 0.6742"
       ]
      },
      {
       "output_type": "stream",
       "stream": "stdout",
       "text": [
        "\b\b\b\b\b\b\b\b\b\b\b\b\b\b\b\b\b\b\b\b\b\b\b\b\b\b\b\b\b\b\b\b\b\b\b\b\b\b\b\b\b\b\b\b\b\b\b\b\b\b\b\b\b\b\b\b\b\b\b\b\b\b\b\b\b\b\b\b\b\b\b\b\b\b\b\b\b\b\b\b\b\b\b\r",
        "17408/60000 [=======>......................] - ETA: 9s - loss: 1.1540 - acc: 0.6757"
       ]
      },
      {
       "output_type": "stream",
       "stream": "stdout",
       "text": [
        "\b\b\b\b\b\b\b\b\b\b\b\b\b\b\b\b\b\b\b\b\b\b\b\b\b\b\b\b\b\b\b\b\b\b\b\b\b\b\b\b\b\b\b\b\b\b\b\b\b\b\b\b\b\b\b\b\b\b\b\b\b\b\b\b\b\b\b\b\b\b\b\b\b\b\b\b\b\b\b\b\b\b\b\r",
        "17536/60000 [=======>......................] - ETA: 9s - loss: 1.1494 - acc: 0.6771"
       ]
      },
      {
       "output_type": "stream",
       "stream": "stdout",
       "text": [
        "\b\b\b\b\b\b\b\b\b\b\b\b\b\b\b\b\b\b\b\b\b\b\b\b\b\b\b\b\b\b\b\b\b\b\b\b\b\b\b\b\b\b\b\b\b\b\b\b\b\b\b\b\b\b\b\b\b\b\b\b\b\b\b\b\b\b\b\b\b\b\b\b\b\b\b\b\b\b\b\b\b\b\b\r",
        "17664/60000 [=======>......................] - ETA: 9s - loss: 1.1448 - acc: 0.6783"
       ]
      },
      {
       "output_type": "stream",
       "stream": "stdout",
       "text": [
        "\b\b\b\b\b\b\b\b\b\b\b\b\b\b\b\b\b\b\b\b\b\b\b\b\b\b\b\b\b\b\b\b\b\b\b\b\b\b\b\b\b\b\b\b\b\b\b\b\b\b\b\b\b\b\b\b\b\b\b\b\b\b\b\b\b\b\b\b\b\b\b\b\b\b\b\b\b\b\b\b\b\b\b\r",
        "17792/60000 [=======>......................] - ETA: 9s - loss: 1.1407 - acc: 0.6794"
       ]
      },
      {
       "output_type": "stream",
       "stream": "stdout",
       "text": [
        "\b\b\b\b\b\b\b\b\b\b\b\b\b\b\b\b\b\b\b\b\b\b\b\b\b\b\b\b\b\b\b\b\b\b\b\b\b\b\b\b\b\b\b\b\b\b\b\b\b\b\b\b\b\b\b\b\b\b\b\b\b\b\b\b\b\b\b\b\b\b\b\b\b\b\b\b\b\b\b\b\b\b\b\r",
        "17920/60000 [=======>......................] - ETA: 9s - loss: 1.1354 - acc: 0.6809"
       ]
      },
      {
       "output_type": "stream",
       "stream": "stdout",
       "text": [
        "\b\b\b\b\b\b\b\b\b\b\b\b\b\b\b\b\b\b\b\b\b\b\b\b\b\b\b\b\b\b\b\b\b\b\b\b\b\b\b\b\b\b\b\b\b\b\b\b\b\b\b\b\b\b\b\b\b\b\b\b\b\b\b\b\b\b\b\b\b\b\b\b\b\b\b\b\b\b\b\b\b\b\b\r",
        "18048/60000 [========>.....................] - ETA: 9s - loss: 1.1310 - acc: 0.6822"
       ]
      },
      {
       "output_type": "stream",
       "stream": "stdout",
       "text": [
        "\b\b\b\b\b\b\b\b\b\b\b\b\b\b\b\b\b\b\b\b\b\b\b\b\b\b\b\b\b\b\b\b\b\b\b\b\b\b\b\b\b\b\b\b\b\b\b\b\b\b\b\b\b\b\b\b\b\b\b\b\b\b\b\b\b\b\b\b\b\b\b\b\b\b\b\b\b\b\b\b\b\b\b\r",
        "18176/60000 [========>.....................] - ETA: 9s - loss: 1.1267 - acc: 0.6834"
       ]
      },
      {
       "output_type": "stream",
       "stream": "stdout",
       "text": [
        "\b\b\b\b\b\b\b\b\b\b\b\b\b\b\b\b\b\b\b\b\b\b\b\b\b\b\b\b\b\b\b\b\b\b\b\b\b\b\b\b\b\b\b\b\b\b\b\b\b\b\b\b\b\b\b\b\b\b\b\b\b\b\b\b\b\b\b\b\b\b\b\b\b\b\b\b\b\b\b\b\b\b\b\r",
        "18304/60000 [========>.....................] - ETA: 9s - loss: 1.1225 - acc: 0.6844"
       ]
      },
      {
       "output_type": "stream",
       "stream": "stdout",
       "text": [
        "\b\b\b\b\b\b\b\b\b\b\b\b\b\b\b\b\b\b\b\b\b\b\b\b\b\b\b\b\b\b\b\b\b\b\b\b\b\b\b\b\b\b\b\b\b\b\b\b\b\b\b\b\b\b\b\b\b\b\b\b\b\b\b\b\b\b\b\b\b\b\b\b\b\b\b\b\b\b\b\b\b\b\b\r",
        "18432/60000 [========>.....................] - ETA: 9s - loss: 1.1173 - acc: 0.6861"
       ]
      },
      {
       "output_type": "stream",
       "stream": "stdout",
       "text": [
        "\b\b\b\b\b\b\b\b\b\b\b\b\b\b\b\b\b\b\b\b\b\b\b\b\b\b\b\b\b\b\b\b\b\b\b\b\b\b\b\b\b\b\b\b\b\b\b\b\b\b\b\b\b\b\b\b\b\b\b\b\b\b\b\b\b\b\b\b\b\b\b\b\b\b\b\b\b\b\b\b\b\b\b\r",
        "18560/60000 [========>.....................] - ETA: 9s - loss: 1.1124 - acc: 0.6876"
       ]
      },
      {
       "output_type": "stream",
       "stream": "stdout",
       "text": [
        "\b\b\b\b\b\b\b\b\b\b\b\b\b\b\b\b\b\b\b\b\b\b\b\b\b\b\b\b\b\b\b\b\b\b\b\b\b\b\b\b\b\b\b\b\b\b\b\b\b\b\b\b\b\b\b\b\b\b\b\b\b\b\b\b\b\b\b\b\b\b\b\b\b\b\b\b\b\b\b\b\b\b\b\r",
        "18688/60000 [========>.....................] - ETA: 9s - loss: 1.1085 - acc: 0.6886"
       ]
      },
      {
       "output_type": "stream",
       "stream": "stdout",
       "text": [
        "\b\b\b\b\b\b\b\b\b\b\b\b\b\b\b\b\b\b\b\b\b\b\b\b\b\b\b\b\b\b\b\b\b\b\b\b\b\b\b\b\b\b\b\b\b\b\b\b\b\b\b\b\b\b\b\b\b\b\b\b\b\b\b\b\b\b\b\b\b\b\b\b\b\b\b\b\b\b\b\b\b\b\b\r",
        "18816/60000 [========>.....................] - ETA: 9s - loss: 1.1036 - acc: 0.6901"
       ]
      },
      {
       "output_type": "stream",
       "stream": "stdout",
       "text": [
        "\b\b\b\b\b\b\b\b\b\b\b\b\b\b\b\b\b\b\b\b\b\b\b\b\b\b\b\b\b\b\b\b\b\b\b\b\b\b\b\b\b\b\b\b\b\b\b\b\b\b\b\b\b\b\b\b\b\b\b\b\b\b\b\b\b\b\b\b\b\b\b\b\b\b\b\b\b\b\b\b\b\b\b\r",
        "18944/60000 [========>.....................] - ETA: 9s - loss: 1.1001 - acc: 0.6911"
       ]
      },
      {
       "output_type": "stream",
       "stream": "stdout",
       "text": [
        "\b\b\b\b\b\b\b\b\b\b\b\b\b\b\b\b\b\b\b\b\b\b\b\b\b\b\b\b\b\b\b\b\b\b\b\b\b\b\b\b\b\b\b\b\b\b\b\b\b\b\b\b\b\b\b\b\b\b\b\b\b\b\b\b\b\b\b\b\b\b\b\b\b\b\b\b\b\b\b\b\b\b\b\r",
        "19072/60000 [========>.....................] - ETA: 9s - loss: 1.0960 - acc: 0.6922"
       ]
      },
      {
       "output_type": "stream",
       "stream": "stdout",
       "text": [
        "\b\b\b\b\b\b\b\b\b\b\b\b\b\b\b\b\b\b\b\b\b\b\b\b\b\b\b\b\b\b\b\b\b\b\b\b\b\b\b\b\b\b\b\b\b\b\b\b\b\b\b\b\b\b\b\b\b\b\b\b\b\b\b\b\b\b\b\b\b\b\b\b\b\b\b\b\b\b\b\b\b\b\b\r",
        "19200/60000 [========>.....................] - ETA: 9s - loss: 1.0921 - acc: 0.6935"
       ]
      },
      {
       "output_type": "stream",
       "stream": "stdout",
       "text": [
        "\b\b\b\b\b\b\b\b\b\b\b\b\b\b\b\b\b\b\b\b\b\b\b\b\b\b\b\b\b\b\b\b\b\b\b\b\b\b\b\b\b\b\b\b\b\b\b\b\b\b\b\b\b\b\b\b\b\b\b\b\b\b\b\b\b\b\b\b\b\b\b\b\b\b\b\b\b\b\b\b\b\b\b\r",
        "19328/60000 [========>.....................] - ETA: 9s - loss: 1.0877 - acc: 0.6946"
       ]
      },
      {
       "output_type": "stream",
       "stream": "stdout",
       "text": [
        "\b\b\b\b\b\b\b\b\b\b\b\b\b\b\b\b\b\b\b\b\b\b\b\b\b\b\b\b\b\b\b\b\b\b\b\b\b\b\b\b\b\b\b\b\b\b\b\b\b\b\b\b\b\b\b\b\b\b\b\b\b\b\b\b\b\b\b\b\b\b\b\b\b\b\b\b\b\b\b\b\b\b\b\r",
        "19456/60000 [========>.....................] - ETA: 9s - loss: 1.0830 - acc: 0.6961"
       ]
      },
      {
       "output_type": "stream",
       "stream": "stdout",
       "text": [
        "\b\b\b\b\b\b\b\b\b\b\b\b\b\b\b\b\b\b\b\b\b\b\b\b\b\b\b\b\b\b\b\b\b\b\b\b\b\b\b\b\b\b\b\b\b\b\b\b\b\b\b\b\b\b\b\b\b\b\b\b\b\b\b\b\b\b\b\b\b\b\b\b\b\b\b\b\b\b\b\b\b\b\b\r",
        "19584/60000 [========>.....................] - ETA: 8s - loss: 1.0789 - acc: 0.6974"
       ]
      },
      {
       "output_type": "stream",
       "stream": "stdout",
       "text": [
        "\b\b\b\b\b\b\b\b\b\b\b\b\b\b\b\b\b\b\b\b\b\b\b\b\b\b\b\b\b\b\b\b\b\b\b\b\b\b\b\b\b\b\b\b\b\b\b\b\b\b\b\b\b\b\b\b\b\b\b\b\b\b\b\b\b\b\b\b\b\b\b\b\b\b\b\b\b\b\b\b\b\b\b\r",
        "19712/60000 [========>.....................] - ETA: 8s - loss: 1.0749 - acc: 0.6986"
       ]
      },
      {
       "output_type": "stream",
       "stream": "stdout",
       "text": [
        "\b\b\b\b\b\b\b\b\b\b\b\b\b\b\b\b\b\b\b\b\b\b\b\b\b\b\b\b\b\b\b\b\b\b\b\b\b\b\b\b\b\b\b\b\b\b\b\b\b\b\b\b\b\b\b\b\b\b\b\b\b\b\b\b\b\b\b\b\b\b\b\b\b\b\b\b\b\b\b\b\b\b\b\r",
        "19840/60000 [========>.....................] - ETA: 8s - loss: 1.0713 - acc: 0.6997"
       ]
      },
      {
       "output_type": "stream",
       "stream": "stdout",
       "text": [
        "\b\b\b\b\b\b\b\b\b\b\b\b\b\b\b\b\b\b\b\b\b\b\b\b\b\b\b\b\b\b\b\b\b\b\b\b\b\b\b\b\b\b\b\b\b\b\b\b\b\b\b\b\b\b\b\b\b\b\b\b\b\b\b\b\b\b\b\b\b\b\b\b\b\b\b\b\b\b\b\b\b\b\b\r",
        "19968/60000 [========>.....................] - ETA: 8s - loss: 1.0680 - acc: 0.7008"
       ]
      },
      {
       "output_type": "stream",
       "stream": "stdout",
       "text": [
        "\b\b\b\b\b\b\b\b\b\b\b\b\b\b\b\b\b\b\b\b\b\b\b\b\b\b\b\b\b\b\b\b\b\b\b\b\b\b\b\b\b\b\b\b\b\b\b\b\b\b\b\b\b\b\b\b\b\b\b\b\b\b\b\b\b\b\b\b\b\b\b\b\b\b\b\b\b\b\b\b\b\b\b\r",
        "20096/60000 [=========>....................] - ETA: 8s - loss: 1.0637 - acc: 0.7021"
       ]
      },
      {
       "output_type": "stream",
       "stream": "stdout",
       "text": [
        "\b\b\b\b\b\b\b\b\b\b\b\b\b\b\b\b\b\b\b\b\b\b\b\b\b\b\b\b\b\b\b\b\b\b\b\b\b\b\b\b\b\b\b\b\b\b\b\b\b\b\b\b\b\b\b\b\b\b\b\b\b\b\b\b\b\b\b\b\b\b\b\b\b\b\b\b\b\b\b\b\b\b\b\r",
        "20224/60000 [=========>....................] - ETA: 8s - loss: 1.0606 - acc: 0.7031"
       ]
      },
      {
       "output_type": "stream",
       "stream": "stdout",
       "text": [
        "\b\b\b\b\b\b\b\b\b\b\b\b\b\b\b\b\b\b\b\b\b\b\b\b\b\b\b\b\b\b\b\b\b\b\b\b\b\b\b\b\b\b\b\b\b\b\b\b\b\b\b\b\b\b\b\b\b\b\b\b\b\b\b\b\b\b\b\b\b\b\b\b\b\b\b\b\b\b\b\b\b\b\b\r",
        "20352/60000 [=========>....................] - ETA: 8s - loss: 1.0566 - acc: 0.7042"
       ]
      },
      {
       "output_type": "stream",
       "stream": "stdout",
       "text": [
        "\b\b\b\b\b\b\b\b\b\b\b\b\b\b\b\b\b\b\b\b\b\b\b\b\b\b\b\b\b\b\b\b\b\b\b\b\b\b\b\b\b\b\b\b\b\b\b\b\b\b\b\b\b\b\b\b\b\b\b\b\b\b\b\b\b\b\b\b\b\b\b\b\b\b\b\b\b\b\b\b\b\b\b\r",
        "20480/60000 [=========>....................] - ETA: 8s - loss: 1.0537 - acc: 0.7048"
       ]
      },
      {
       "output_type": "stream",
       "stream": "stdout",
       "text": [
        "\b\b\b\b\b\b\b\b\b\b\b\b\b\b\b\b\b\b\b\b\b\b\b\b\b\b\b\b\b\b\b\b\b\b\b\b\b\b\b\b\b\b\b\b\b\b\b\b\b\b\b\b\b\b\b\b\b\b\b\b\b\b\b\b\b\b\b\b\b\b\b\b\b\b\b\b\b\b\b\b\b\b\b\r",
        "20608/60000 [=========>....................] - ETA: 8s - loss: 1.0500 - acc: 0.7060"
       ]
      },
      {
       "output_type": "stream",
       "stream": "stdout",
       "text": [
        "\b\b\b\b\b\b\b\b\b\b\b\b\b\b\b\b\b\b\b\b\b\b\b\b\b\b\b\b\b\b\b\b\b\b\b\b\b\b\b\b\b\b\b\b\b\b\b\b\b\b\b\b\b\b\b\b\b\b\b\b\b\b\b\b\b\b\b\b\b\b\b\b\b\b\b\b\b\b\b\b\b\b\b\r",
        "20736/60000 [=========>....................] - ETA: 8s - loss: 1.0457 - acc: 0.7072"
       ]
      },
      {
       "output_type": "stream",
       "stream": "stdout",
       "text": [
        "\b\b\b\b\b\b\b\b\b\b\b\b\b\b\b\b\b\b\b\b\b\b\b\b\b\b\b\b\b\b\b\b\b\b\b\b\b\b\b\b\b\b\b\b\b\b\b\b\b\b\b\b\b\b\b\b\b\b\b\b\b\b\b\b\b\b\b\b\b\b\b\b\b\b\b\b\b\b\b\b\b\b\b\r",
        "20864/60000 [=========>....................] - ETA: 8s - loss: 1.0420 - acc: 0.7084"
       ]
      },
      {
       "output_type": "stream",
       "stream": "stdout",
       "text": [
        "\b\b\b\b\b\b\b\b\b\b\b\b\b\b\b\b\b\b\b\b\b\b\b\b\b\b\b\b\b\b\b\b\b\b\b\b\b\b\b\b\b\b\b\b\b\b\b\b\b\b\b\b\b\b\b\b\b\b\b\b\b\b\b\b\b\b\b\b\b\b\b\b\b\b\b\b\b\b\b\b\b\b\b\r",
        "20992/60000 [=========>....................] - ETA: 8s - loss: 1.0383 - acc: 0.7094"
       ]
      },
      {
       "output_type": "stream",
       "stream": "stdout",
       "text": [
        "\b\b\b\b\b\b\b\b\b\b\b\b\b\b\b\b\b\b\b\b\b\b\b\b\b\b\b\b\b\b\b\b\b\b\b\b\b\b\b\b\b\b\b\b\b\b\b\b\b\b\b\b\b\b\b\b\b\b\b\b\b\b\b\b\b\b\b\b\b\b\b\b\b\b\b\b\b\b\b\b\b\b\b\r",
        "21120/60000 [=========>....................] - ETA: 8s - loss: 1.0341 - acc: 0.7108"
       ]
      },
      {
       "output_type": "stream",
       "stream": "stdout",
       "text": [
        "\b\b\b\b\b\b\b\b\b\b\b\b\b\b\b\b\b\b\b\b\b\b\b\b\b\b\b\b\b\b\b\b\b\b\b\b\b\b\b\b\b\b\b\b\b\b\b\b\b\b\b\b\b\b\b\b\b\b\b\b\b\b\b\b\b\b\b\b\b\b\b\b\b\b\b\b\b\b\b\b\b\b\b\r",
        "21248/60000 [=========>....................] - ETA: 8s - loss: 1.0320 - acc: 0.7114"
       ]
      },
      {
       "output_type": "stream",
       "stream": "stdout",
       "text": [
        "\b\b\b\b\b\b\b\b\b\b\b\b\b\b\b\b\b\b\b\b\b\b\b\b\b\b\b\b\b\b\b\b\b\b\b\b\b\b\b\b\b\b\b\b\b\b\b\b\b\b\b\b\b\b\b\b\b\b\b\b\b\b\b\b\b\b\b\b\b\b\b\b\b\b\b\b\b\b\b\b\b\b\b\r",
        "21376/60000 [=========>....................] - ETA: 8s - loss: 1.0288 - acc: 0.7122"
       ]
      },
      {
       "output_type": "stream",
       "stream": "stdout",
       "text": [
        "\b\b\b\b\b\b\b\b\b\b\b\b\b\b\b\b\b\b\b\b\b\b\b\b\b\b\b\b\b\b\b\b\b\b\b\b\b\b\b\b\b\b\b\b\b\b\b\b\b\b\b\b\b\b\b\b\b\b\b\b\b\b\b\b\b\b\b\b\b\b\b\b\b\b\b\b\b\b\b\b\b\b\b\r",
        "21504/60000 [=========>....................] - ETA: 8s - loss: 1.0254 - acc: 0.7134"
       ]
      },
      {
       "output_type": "stream",
       "stream": "stdout",
       "text": [
        "\b\b\b\b\b\b\b\b\b\b\b\b\b\b\b\b\b\b\b\b\b\b\b\b\b\b\b\b\b\b\b\b\b\b\b\b\b\b\b\b\b\b\b\b\b\b\b\b\b\b\b\b\b\b\b\b\b\b\b\b\b\b\b\b\b\b\b\b\b\b\b\b\b\b\b\b\b\b\b\b\b\b\b\r",
        "21632/60000 [=========>....................] - ETA: 8s - loss: 1.0225 - acc: 0.7142"
       ]
      },
      {
       "output_type": "stream",
       "stream": "stdout",
       "text": [
        "\b\b\b\b\b\b\b\b\b\b\b\b\b\b\b\b\b\b\b\b\b\b\b\b\b\b\b\b\b\b\b\b\b\b\b\b\b\b\b\b\b\b\b\b\b\b\b\b\b\b\b\b\b\b\b\b\b\b\b\b\b\b\b\b\b\b\b\b\b\b\b\b\b\b\b\b\b\b\b\b\b\b\b\r",
        "21760/60000 [=========>....................] - ETA: 8s - loss: 1.0190 - acc: 0.7153"
       ]
      },
      {
       "output_type": "stream",
       "stream": "stdout",
       "text": [
        "\b\b\b\b\b\b\b\b\b\b\b\b\b\b\b\b\b\b\b\b\b\b\b\b\b\b\b\b\b\b\b\b\b\b\b\b\b\b\b\b\b\b\b\b\b\b\b\b\b\b\b\b\b\b\b\b\b\b\b\b\b\b\b\b\b\b\b\b\b\b\b\b\b\b\b\b\b\b\b\b\b\b\b\r",
        "21888/60000 [=========>....................] - ETA: 8s - loss: 1.0155 - acc: 0.7163"
       ]
      },
      {
       "output_type": "stream",
       "stream": "stdout",
       "text": [
        "\b\b\b\b\b\b\b\b\b\b\b\b\b\b\b\b\b\b\b\b\b\b\b\b\b\b\b\b\b\b\b\b\b\b\b\b\b\b\b\b\b\b\b\b\b\b\b\b\b\b\b\b\b\b\b\b\b\b\b\b\b\b\b\b\b\b\b\b\b\b\b\b\b\b\b\b\b\b\b\b\b\b\b\r",
        "22016/60000 [==========>...................] - ETA: 8s - loss: 1.0124 - acc: 0.7173"
       ]
      },
      {
       "output_type": "stream",
       "stream": "stdout",
       "text": [
        "\b\b\b\b\b\b\b\b\b\b\b\b\b\b\b\b\b\b\b\b\b\b\b\b\b\b\b\b\b\b\b\b\b\b\b\b\b\b\b\b\b\b\b\b\b\b\b\b\b\b\b\b\b\b\b\b\b\b\b\b\b\b\b\b\b\b\b\b\b\b\b\b\b\b\b\b\b\b\b\b\b\b\b\r",
        "22144/60000 [==========>...................] - ETA: 8s - loss: 1.0089 - acc: 0.7183"
       ]
      },
      {
       "output_type": "stream",
       "stream": "stdout",
       "text": [
        "\b\b\b\b\b\b\b\b\b\b\b\b\b\b\b\b\b\b\b\b\b\b\b\b\b\b\b\b\b\b\b\b\b\b\b\b\b\b\b\b\b\b\b\b\b\b\b\b\b\b\b\b\b\b\b\b\b\b\b\b\b\b\b\b\b\b\b\b\b\b\b\b\b\b\b\b\b\b\b\b\b\b\b\r",
        "22272/60000 [==========>...................] - ETA: 8s - loss: 1.0054 - acc: 0.7193"
       ]
      },
      {
       "output_type": "stream",
       "stream": "stdout",
       "text": [
        "\b\b\b\b\b\b\b\b\b\b\b\b\b\b\b\b\b\b\b\b\b\b\b\b\b\b\b\b\b\b\b\b\b\b\b\b\b\b\b\b\b\b\b\b\b\b\b\b\b\b\b\b\b\b\b\b\b\b\b\b\b\b\b\b\b\b\b\b\b\b\b\b\b\b\b\b\b\b\b\b\b\b\b\r",
        "22400/60000 [==========>...................] - ETA: 8s - loss: 1.0018 - acc: 0.7203"
       ]
      },
      {
       "output_type": "stream",
       "stream": "stdout",
       "text": [
        "\b\b\b\b\b\b\b\b\b\b\b\b\b\b\b\b\b\b\b\b\b\b\b\b\b\b\b\b\b\b\b\b\b\b\b\b\b\b\b\b\b\b\b\b\b\b\b\b\b\b\b\b\b\b\b\b\b\b\b\b\b\b\b\b\b\b\b\b\b\b\b\b\b\b\b\b\b\b\b\b\b\b\b\r",
        "22528/60000 [==========>...................] - ETA: 8s - loss: 0.9980 - acc: 0.7214"
       ]
      },
      {
       "output_type": "stream",
       "stream": "stdout",
       "text": [
        "\b\b\b\b\b\b\b\b\b\b\b\b\b\b\b\b\b\b\b\b\b\b\b\b\b\b\b\b\b\b\b\b\b\b\b\b\b\b\b\b\b\b\b\b\b\b\b\b\b\b\b\b\b\b\b\b\b\b\b\b\b\b\b\b\b\b\b\b\b\b\b\b\b\b\b\b\b\b\b\b\b\b\b\r",
        "22656/60000 [==========>...................] - ETA: 8s - loss: 0.9947 - acc: 0.7223"
       ]
      },
      {
       "output_type": "stream",
       "stream": "stdout",
       "text": [
        "\b\b\b\b\b\b\b\b\b\b\b\b\b\b\b\b\b\b\b\b\b\b\b\b\b\b\b\b\b\b\b\b\b\b\b\b\b\b\b\b\b\b\b\b\b\b\b\b\b\b\b\b\b\b\b\b\b\b\b\b\b\b\b\b\b\b\b\b\b\b\b\b\b\b\b\b\b\b\b\b\b\b\b\r",
        "22784/60000 [==========>...................] - ETA: 8s - loss: 0.9920 - acc: 0.7230"
       ]
      },
      {
       "output_type": "stream",
       "stream": "stdout",
       "text": [
        "\b\b\b\b\b\b\b\b\b\b\b\b\b\b\b\b\b\b\b\b\b\b\b\b\b\b\b\b\b\b\b\b\b\b\b\b\b\b\b\b\b\b\b\b\b\b\b\b\b\b\b\b\b\b\b\b\b\b\b\b\b\b\b\b\b\b\b\b\b\b\b\b\b\b\b\b\b\b\b\b\b\b\b\r",
        "22912/60000 [==========>...................] - ETA: 8s - loss: 0.9881 - acc: 0.7241"
       ]
      },
      {
       "output_type": "stream",
       "stream": "stdout",
       "text": [
        "\b\b\b\b\b\b\b\b\b\b\b\b\b\b\b\b\b\b\b\b\b\b\b\b\b\b\b\b\b\b\b\b\b\b\b\b\b\b\b\b\b\b\b\b\b\b\b\b\b\b\b\b\b\b\b\b\b\b\b\b\b\b\b\b\b\b\b\b\b\b\b\b\b\b\b\b\b\b\b\b\b\b\b\r",
        "23040/60000 [==========>...................] - ETA: 8s - loss: 0.9865 - acc: 0.7247"
       ]
      },
      {
       "output_type": "stream",
       "stream": "stdout",
       "text": [
        "\b\b\b\b\b\b\b\b\b\b\b\b\b\b\b\b\b\b\b\b\b\b\b\b\b\b\b\b\b\b\b\b\b\b\b\b\b\b\b\b\b\b\b\b\b\b\b\b\b\b\b\b\b\b\b\b\b\b\b\b\b\b\b\b\b\b\b\b\b\b\b\b\b\b\b\b\b\b\b\b\b\b\b\r",
        "23168/60000 [==========>...................] - ETA: 8s - loss: 0.9833 - acc: 0.7257"
       ]
      },
      {
       "output_type": "stream",
       "stream": "stdout",
       "text": [
        "\b\b\b\b\b\b\b\b\b\b\b\b\b\b\b\b\b\b\b\b\b\b\b\b\b\b\b\b\b\b\b\b\b\b\b\b\b\b\b\b\b\b\b\b\b\b\b\b\b\b\b\b\b\b\b\b\b\b\b\b\b\b\b\b\b\b\b\b\b\b\b\b\b\b\b\b\b\b\b\b\b\b\b\r",
        "23296/60000 [==========>...................] - ETA: 8s - loss: 0.9800 - acc: 0.7267"
       ]
      },
      {
       "output_type": "stream",
       "stream": "stdout",
       "text": [
        "\b\b\b\b\b\b\b\b\b\b\b\b\b\b\b\b\b\b\b\b\b\b\b\b\b\b\b\b\b\b\b\b\b\b\b\b\b\b\b\b\b\b\b\b\b\b\b\b\b\b\b\b\b\b\b\b\b\b\b\b\b\b\b\b\b\b\b\b\b\b\b\b\b\b\b\b\b\b\b\b\b\b\b\r",
        "23424/60000 [==========>...................] - ETA: 8s - loss: 0.9773 - acc: 0.7275"
       ]
      },
      {
       "output_type": "stream",
       "stream": "stdout",
       "text": [
        "\b\b\b\b\b\b\b\b\b\b\b\b\b\b\b\b\b\b\b\b\b\b\b\b\b\b\b\b\b\b\b\b\b\b\b\b\b\b\b\b\b\b\b\b\b\b\b\b\b\b\b\b\b\b\b\b\b\b\b\b\b\b\b\b\b\b\b\b\b\b\b\b\b\b\b\b\b\b\b\b\b\b\b\r",
        "23552/60000 [==========>...................] - ETA: 8s - loss: 0.9751 - acc: 0.7280"
       ]
      },
      {
       "output_type": "stream",
       "stream": "stdout",
       "text": [
        "\b\b\b\b\b\b\b\b\b\b\b\b\b\b\b\b\b\b\b\b\b\b\b\b\b\b\b\b\b\b\b\b\b\b\b\b\b\b\b\b\b\b\b\b\b\b\b\b\b\b\b\b\b\b\b\b\b\b\b\b\b\b\b\b\b\b\b\b\b\b\b\b\b\b\b\b\b\b\b\b\b\b\b\r",
        "23680/60000 [==========>...................] - ETA: 8s - loss: 0.9723 - acc: 0.7288"
       ]
      },
      {
       "output_type": "stream",
       "stream": "stdout",
       "text": [
        "\b\b\b\b\b\b\b\b\b\b\b\b\b\b\b\b\b\b\b\b\b\b\b\b\b\b\b\b\b\b\b\b\b\b\b\b\b\b\b\b\b\b\b\b\b\b\b\b\b\b\b\b\b\b\b\b\b\b\b\b\b\b\b\b\b\b\b\b\b\b\b\b\b\b\b\b\b\b\b\b\b\b\b\r",
        "23808/60000 [==========>...................] - ETA: 8s - loss: 0.9687 - acc: 0.7297"
       ]
      },
      {
       "output_type": "stream",
       "stream": "stdout",
       "text": [
        "\b\b\b\b\b\b\b\b\b\b\b\b\b\b\b\b\b\b\b\b\b\b\b\b\b\b\b\b\b\b\b\b\b\b\b\b\b\b\b\b\b\b\b\b\b\b\b\b\b\b\b\b\b\b\b\b\b\b\b\b\b\b\b\b\b\b\b\b\b\b\b\b\b\b\b\b\b\b\b\b\b\b\b\r",
        "23936/60000 [==========>...................] - ETA: 8s - loss: 0.9656 - acc: 0.7307"
       ]
      },
      {
       "output_type": "stream",
       "stream": "stdout",
       "text": [
        "\b\b\b\b\b\b\b\b\b\b\b\b\b\b\b\b\b\b\b\b\b\b\b\b\b\b\b\b\b\b\b\b\b\b\b\b\b\b\b\b\b\b\b\b\b\b\b\b\b\b\b\b\b\b\b\b\b\b\b\b\b\b\b\b\b\b\b\b\b\b\b\b\b\b\b\b\b\b\b\b\b\b\b\r",
        "24064/60000 [===========>..................] - ETA: 7s - loss: 0.9631 - acc: 0.7313"
       ]
      },
      {
       "output_type": "stream",
       "stream": "stdout",
       "text": [
        "\b\b\b\b\b\b\b\b\b\b\b\b\b\b\b\b\b\b\b\b\b\b\b\b\b\b\b\b\b\b\b\b\b\b\b\b\b\b\b\b\b\b\b\b\b\b\b\b\b\b\b\b\b\b\b\b\b\b\b\b\b\b\b\b\b\b\b\b\b\b\b\b\b\b\b\b\b\b\b\b\b\b\b\r",
        "24192/60000 [===========>..................] - ETA: 7s - loss: 0.9607 - acc: 0.7319"
       ]
      },
      {
       "output_type": "stream",
       "stream": "stdout",
       "text": [
        "\b\b\b\b\b\b\b\b\b\b\b\b\b\b\b\b\b\b\b\b\b\b\b\b\b\b\b\b\b\b\b\b\b\b\b\b\b\b\b\b\b\b\b\b\b\b\b\b\b\b\b\b\b\b\b\b\b\b\b\b\b\b\b\b\b\b\b\b\b\b\b\b\b\b\b\b\b\b\b\b\b\b\b\r",
        "24320/60000 [===========>..................] - ETA: 7s - loss: 0.9576 - acc: 0.7329"
       ]
      },
      {
       "output_type": "stream",
       "stream": "stdout",
       "text": [
        "\b\b\b\b\b\b\b\b\b\b\b\b\b\b\b\b\b\b\b\b\b\b\b\b\b\b\b\b\b\b\b\b\b\b\b\b\b\b\b\b\b\b\b\b\b\b\b\b\b\b\b\b\b\b\b\b\b\b\b\b\b\b\b\b\b\b\b\b\b\b\b\b\b\b\b\b\b\b\b\b\b\b\b\r",
        "24448/60000 [===========>..................] - ETA: 7s - loss: 0.9549 - acc: 0.7338"
       ]
      },
      {
       "output_type": "stream",
       "stream": "stdout",
       "text": [
        "\b\b\b\b\b\b\b\b\b\b\b\b\b\b\b\b\b\b\b\b\b\b\b\b\b\b\b\b\b\b\b\b\b\b\b\b\b\b\b\b\b\b\b\b\b\b\b\b\b\b\b\b\b\b\b\b\b\b\b\b\b\b\b\b\b\b\b\b\b\b\b\b\b\b\b\b\b\b\b\b\b\b\b\r",
        "24576/60000 [===========>..................] - ETA: 7s - loss: 0.9525 - acc: 0.7343"
       ]
      },
      {
       "output_type": "stream",
       "stream": "stdout",
       "text": [
        "\b\b\b\b\b\b\b\b\b\b\b\b\b\b\b\b\b\b\b\b\b\b\b\b\b\b\b\b\b\b\b\b\b\b\b\b\b\b\b\b\b\b\b\b\b\b\b\b\b\b\b\b\b\b\b\b\b\b\b\b\b\b\b\b\b\b\b\b\b\b\b\b\b\b\b\b\b\b\b\b\b\b\b\r",
        "24704/60000 [===========>..................] - ETA: 7s - loss: 0.9500 - acc: 0.7352"
       ]
      },
      {
       "output_type": "stream",
       "stream": "stdout",
       "text": [
        "\b\b\b\b\b\b\b\b\b\b\b\b\b\b\b\b\b\b\b\b\b\b\b\b\b\b\b\b\b\b\b\b\b\b\b\b\b\b\b\b\b\b\b\b\b\b\b\b\b\b\b\b\b\b\b\b\b\b\b\b\b\b\b\b\b\b\b\b\b\b\b\b\b\b\b\b\b\b\b\b\b\b\b\r",
        "24832/60000 [===========>..................] - ETA: 7s - loss: 0.9471 - acc: 0.7361"
       ]
      },
      {
       "output_type": "stream",
       "stream": "stdout",
       "text": [
        "\b\b\b\b\b\b\b\b\b\b\b\b\b\b\b\b\b\b\b\b\b\b\b\b\b\b\b\b\b\b\b\b\b\b\b\b\b\b\b\b\b\b\b\b\b\b\b\b\b\b\b\b\b\b\b\b\b\b\b\b\b\b\b\b\b\b\b\b\b\b\b\b\b\b\b\b\b\b\b\b\b\b\b\r",
        "24960/60000 [===========>..................] - ETA: 7s - loss: 0.9447 - acc: 0.7367"
       ]
      },
      {
       "output_type": "stream",
       "stream": "stdout",
       "text": [
        "\b\b\b\b\b\b\b\b\b\b\b\b\b\b\b\b\b\b\b\b\b\b\b\b\b\b\b\b\b\b\b\b\b\b\b\b\b\b\b\b\b\b\b\b\b\b\b\b\b\b\b\b\b\b\b\b\b\b\b\b\b\b\b\b\b\b\b\b\b\b\b\b\b\b\b\b\b\b\b\b\b\b\b\r",
        "25088/60000 [===========>..................] - ETA: 7s - loss: 0.9420 - acc: 0.7375"
       ]
      },
      {
       "output_type": "stream",
       "stream": "stdout",
       "text": [
        "\b\b\b\b\b\b\b\b\b\b\b\b\b\b\b\b\b\b\b\b\b\b\b\b\b\b\b\b\b\b\b\b\b\b\b\b\b\b\b\b\b\b\b\b\b\b\b\b\b\b\b\b\b\b\b\b\b\b\b\b\b\b\b\b\b\b\b\b\b\b\b\b\b\b\b\b\b\b\b\b\b\b\b\r",
        "25216/60000 [===========>..................] - ETA: 7s - loss: 0.9397 - acc: 0.7383"
       ]
      },
      {
       "output_type": "stream",
       "stream": "stdout",
       "text": [
        "\b\b\b\b\b\b\b\b\b\b\b\b\b\b\b\b\b\b\b\b\b\b\b\b\b\b\b\b\b\b\b\b\b\b\b\b\b\b\b\b\b\b\b\b\b\b\b\b\b\b\b\b\b\b\b\b\b\b\b\b\b\b\b\b\b\b\b\b\b\b\b\b\b\b\b\b\b\b\b\b\b\b\b\r",
        "25344/60000 [===========>..................] - ETA: 7s - loss: 0.9372 - acc: 0.7391"
       ]
      },
      {
       "output_type": "stream",
       "stream": "stdout",
       "text": [
        "\b\b\b\b\b\b\b\b\b\b\b\b\b\b\b\b\b\b\b\b\b\b\b\b\b\b\b\b\b\b\b\b\b\b\b\b\b\b\b\b\b\b\b\b\b\b\b\b\b\b\b\b\b\b\b\b\b\b\b\b\b\b\b\b\b\b\b\b\b\b\b\b\b\b\b\b\b\b\b\b\b\b\b\r",
        "25472/60000 [===========>..................] - ETA: 7s - loss: 0.9345 - acc: 0.7400"
       ]
      },
      {
       "output_type": "stream",
       "stream": "stdout",
       "text": [
        "\b\b\b\b\b\b\b\b\b\b\b\b\b\b\b\b\b\b\b\b\b\b\b\b\b\b\b\b\b\b\b\b\b\b\b\b\b\b\b\b\b\b\b\b\b\b\b\b\b\b\b\b\b\b\b\b\b\b\b\b\b\b\b\b\b\b\b\b\b\b\b\b\b\b\b\b\b\b\b\b\b\b\b\r",
        "25600/60000 [===========>..................] - ETA: 7s - loss: 0.9314 - acc: 0.7409"
       ]
      },
      {
       "output_type": "stream",
       "stream": "stdout",
       "text": [
        "\b\b\b\b\b\b\b\b\b\b\b\b\b\b\b\b\b\b\b\b\b\b\b\b\b\b\b\b\b\b\b\b\b\b\b\b\b\b\b\b\b\b\b\b\b\b\b\b\b\b\b\b\b\b\b\b\b\b\b\b\b\b\b\b\b\b\b\b\b\b\b\b\b\b\b\b\b\b\b\b\b\b\b\r",
        "25728/60000 [===========>..................] - ETA: 7s - loss: 0.9290 - acc: 0.7415"
       ]
      },
      {
       "output_type": "stream",
       "stream": "stdout",
       "text": [
        "\b\b\b\b\b\b\b\b\b\b\b\b\b\b\b\b\b\b\b\b\b\b\b\b\b\b\b\b\b\b\b\b\b\b\b\b\b\b\b\b\b\b\b\b\b\b\b\b\b\b\b\b\b\b\b\b\b\b\b\b\b\b\b\b\b\b\b\b\b\b\b\b\b\b\b\b\b\b\b\b\b\b\b\r",
        "25856/60000 [===========>..................] - ETA: 7s - loss: 0.9267 - acc: 0.7422"
       ]
      },
      {
       "output_type": "stream",
       "stream": "stdout",
       "text": [
        "\b\b\b\b\b\b\b\b\b\b\b\b\b\b\b\b\b\b\b\b\b\b\b\b\b\b\b\b\b\b\b\b\b\b\b\b\b\b\b\b\b\b\b\b\b\b\b\b\b\b\b\b\b\b\b\b\b\b\b\b\b\b\b\b\b\b\b\b\b\b\b\b\b\b\b\b\b\b\b\b\b\b\b\r",
        "25984/60000 [===========>..................] - ETA: 7s - loss: 0.9245 - acc: 0.7427"
       ]
      },
      {
       "output_type": "stream",
       "stream": "stdout",
       "text": [
        "\b\b\b\b\b\b\b\b\b\b\b\b\b\b\b\b\b\b\b\b\b\b\b\b\b\b\b\b\b\b\b\b\b\b\b\b\b\b\b\b\b\b\b\b\b\b\b\b\b\b\b\b\b\b\b\b\b\b\b\b\b\b\b\b\b\b\b\b\b\b\b\b\b\b\b\b\b\b\b\b\b\b\b\r",
        "26112/60000 [============>.................] - ETA: 7s - loss: 0.9220 - acc: 0.7434"
       ]
      },
      {
       "output_type": "stream",
       "stream": "stdout",
       "text": [
        "\b\b\b\b\b\b\b\b\b\b\b\b\b\b\b\b\b\b\b\b\b\b\b\b\b\b\b\b\b\b\b\b\b\b\b\b\b\b\b\b\b\b\b\b\b\b\b\b\b\b\b\b\b\b\b\b\b\b\b\b\b\b\b\b\b\b\b\b\b\b\b\b\b\b\b\b\b\b\b\b\b\b\b\r",
        "26240/60000 [============>.................] - ETA: 7s - loss: 0.9192 - acc: 0.7441"
       ]
      },
      {
       "output_type": "stream",
       "stream": "stdout",
       "text": [
        "\b\b\b\b\b\b\b\b\b\b\b\b\b\b\b\b\b\b\b\b\b\b\b\b\b\b\b\b\b\b\b\b\b\b\b\b\b\b\b\b\b\b\b\b\b\b\b\b\b\b\b\b\b\b\b\b\b\b\b\b\b\b\b\b\b\b\b\b\b\b\b\b\b\b\b\b\b\b\b\b\b\b\b\r",
        "26368/60000 [============>.................] - ETA: 7s - loss: 0.9165 - acc: 0.7448"
       ]
      },
      {
       "output_type": "stream",
       "stream": "stdout",
       "text": [
        "\b\b\b\b\b\b\b\b\b\b\b\b\b\b\b\b\b\b\b\b\b\b\b\b\b\b\b\b\b\b\b\b\b\b\b\b\b\b\b\b\b\b\b\b\b\b\b\b\b\b\b\b\b\b\b\b\b\b\b\b\b\b\b\b\b\b\b\b\b\b\b\b\b\b\b\b\b\b\b\b\b\b\b\r",
        "26496/60000 [============>.................] - ETA: 7s - loss: 0.9140 - acc: 0.7455"
       ]
      },
      {
       "output_type": "stream",
       "stream": "stdout",
       "text": [
        "\b\b\b\b\b\b\b\b\b\b\b\b\b\b\b\b\b\b\b\b\b\b\b\b\b\b\b\b\b\b\b\b\b\b\b\b\b\b\b\b\b\b\b\b\b\b\b\b\b\b\b\b\b\b\b\b\b\b\b\b\b\b\b\b\b\b\b\b\b\b\b\b\b\b\b\b\b\b\b\b\b\b\b\r",
        "26624/60000 [============>.................] - ETA: 7s - loss: 0.9119 - acc: 0.7462"
       ]
      },
      {
       "output_type": "stream",
       "stream": "stdout",
       "text": [
        "\b\b\b\b\b\b\b\b\b\b\b\b\b\b\b\b\b\b\b\b\b\b\b\b\b\b\b\b\b\b\b\b\b\b\b\b\b\b\b\b\b\b\b\b\b\b\b\b\b\b\b\b\b\b\b\b\b\b\b\b\b\b\b\b\b\b\b\b\b\b\b\b\b\b\b\b\b\b\b\b\b\b\b\r",
        "26752/60000 [============>.................] - ETA: 7s - loss: 0.9090 - acc: 0.7470"
       ]
      },
      {
       "output_type": "stream",
       "stream": "stdout",
       "text": [
        "\b\b\b\b\b\b\b\b\b\b\b\b\b\b\b\b\b\b\b\b\b\b\b\b\b\b\b\b\b\b\b\b\b\b\b\b\b\b\b\b\b\b\b\b\b\b\b\b\b\b\b\b\b\b\b\b\b\b\b\b\b\b\b\b\b\b\b\b\b\b\b\b\b\b\b\b\b\b\b\b\b\b\b\r",
        "26880/60000 [============>.................] - ETA: 7s - loss: 0.9062 - acc: 0.7477"
       ]
      },
      {
       "output_type": "stream",
       "stream": "stdout",
       "text": [
        "\b\b\b\b\b\b\b\b\b\b\b\b\b\b\b\b\b\b\b\b\b\b\b\b\b\b\b\b\b\b\b\b\b\b\b\b\b\b\b\b\b\b\b\b\b\b\b\b\b\b\b\b\b\b\b\b\b\b\b\b\b\b\b\b\b\b\b\b\b\b\b\b\b\b\b\b\b\b\b\b\b\b\b\r",
        "27008/60000 [============>.................] - ETA: 7s - loss: 0.9035 - acc: 0.7484"
       ]
      },
      {
       "output_type": "stream",
       "stream": "stdout",
       "text": [
        "\b\b\b\b\b\b\b\b\b\b\b\b\b\b\b\b\b\b\b\b\b\b\b\b\b\b\b\b\b\b\b\b\b\b\b\b\b\b\b\b\b\b\b\b\b\b\b\b\b\b\b\b\b\b\b\b\b\b\b\b\b\b\b\b\b\b\b\b\b\b\b\b\b\b\b\b\b\b\b\b\b\b\b\r",
        "27136/60000 [============>.................] - ETA: 7s - loss: 0.9010 - acc: 0.7491"
       ]
      },
      {
       "output_type": "stream",
       "stream": "stdout",
       "text": [
        "\b\b\b\b\b\b\b\b\b\b\b\b\b\b\b\b\b\b\b\b\b\b\b\b\b\b\b\b\b\b\b\b\b\b\b\b\b\b\b\b\b\b\b\b\b\b\b\b\b\b\b\b\b\b\b\b\b\b\b\b\b\b\b\b\b\b\b\b\b\b\b\b\b\b\b\b\b\b\b\b\b\b\b\r",
        "27264/60000 [============>.................] - ETA: 7s - loss: 0.8985 - acc: 0.7497"
       ]
      },
      {
       "output_type": "stream",
       "stream": "stdout",
       "text": [
        "\b\b\b\b\b\b\b\b\b\b\b\b\b\b\b\b\b\b\b\b\b\b\b\b\b\b\b\b\b\b\b\b\b\b\b\b\b\b\b\b\b\b\b\b\b\b\b\b\b\b\b\b\b\b\b\b\b\b\b\b\b\b\b\b\b\b\b\b\b\b\b\b\b\b\b\b\b\b\b\b\b\b\b\r",
        "27392/60000 [============>.................] - ETA: 7s - loss: 0.8960 - acc: 0.7505"
       ]
      },
      {
       "output_type": "stream",
       "stream": "stdout",
       "text": [
        "\b\b\b\b\b\b\b\b\b\b\b\b\b\b\b\b\b\b\b\b\b\b\b\b\b\b\b\b\b\b\b\b\b\b\b\b\b\b\b\b\b\b\b\b\b\b\b\b\b\b\b\b\b\b\b\b\b\b\b\b\b\b\b\b\b\b\b\b\b\b\b\b\b\b\b\b\b\b\b\b\b\b\b\r",
        "27520/60000 [============>.................] - ETA: 7s - loss: 0.8937 - acc: 0.7511"
       ]
      },
      {
       "output_type": "stream",
       "stream": "stdout",
       "text": [
        "\b\b\b\b\b\b\b\b\b\b\b\b\b\b\b\b\b\b\b\b\b\b\b\b\b\b\b\b\b\b\b\b\b\b\b\b\b\b\b\b\b\b\b\b\b\b\b\b\b\b\b\b\b\b\b\b\b\b\b\b\b\b\b\b\b\b\b\b\b\b\b\b\b\b\b\b\b\b\b\b\b\b\b\r",
        "27648/60000 [============>.................] - ETA: 7s - loss: 0.8923 - acc: 0.7514"
       ]
      },
      {
       "output_type": "stream",
       "stream": "stdout",
       "text": [
        "\b\b\b\b\b\b\b\b\b\b\b\b\b\b\b\b\b\b\b\b\b\b\b\b\b\b\b\b\b\b\b\b\b\b\b\b\b\b\b\b\b\b\b\b\b\b\b\b\b\b\b\b\b\b\b\b\b\b\b\b\b\b\b\b\b\b\b\b\b\b\b\b\b\b\b\b\b\b\b\b\b\b\b\r",
        "27776/60000 [============>.................] - ETA: 7s - loss: 0.8903 - acc: 0.7519"
       ]
      },
      {
       "output_type": "stream",
       "stream": "stdout",
       "text": [
        "\b\b\b\b\b\b\b\b\b\b\b\b\b\b\b\b\b\b\b\b\b\b\b\b\b\b\b\b\b\b\b\b\b\b\b\b\b\b\b\b\b\b\b\b\b\b\b\b\b\b\b\b\b\b\b\b\b\b\b\b\b\b\b\b\b\b\b\b\b\b\b\b\b\b\b\b\b\b\b\b\b\b\b\r",
        "27904/60000 [============>.................] - ETA: 7s - loss: 0.8880 - acc: 0.7526"
       ]
      },
      {
       "output_type": "stream",
       "stream": "stdout",
       "text": [
        "\b\b\b\b\b\b\b\b\b\b\b\b\b\b\b\b\b\b\b\b\b\b\b\b\b\b\b\b\b\b\b\b\b\b\b\b\b\b\b\b\b\b\b\b\b\b\b\b\b\b\b\b\b\b\b\b\b\b\b\b\b\b\b\b\b\b\b\b\b\b\b\b\b\b\b\b\b\b\b\b\b\b\b\r",
        "28032/60000 [=============>................] - ETA: 7s - loss: 0.8858 - acc: 0.7532"
       ]
      },
      {
       "output_type": "stream",
       "stream": "stdout",
       "text": [
        "\b\b\b\b\b\b\b\b\b\b\b\b\b\b\b\b\b\b\b\b\b\b\b\b\b\b\b\b\b\b\b\b\b\b\b\b\b\b\b\b\b\b\b\b\b\b\b\b\b\b\b\b\b\b\b\b\b\b\b\b\b\b\b\b\b\b\b\b\b\b\b\b\b\b\b\b\b\b\b\b\b\b\b\r",
        "28160/60000 [=============>................] - ETA: 7s - loss: 0.8833 - acc: 0.7539"
       ]
      },
      {
       "output_type": "stream",
       "stream": "stdout",
       "text": [
        "\b\b\b\b\b\b\b\b\b\b\b\b\b\b\b\b\b\b\b\b\b\b\b\b\b\b\b\b\b\b\b\b\b\b\b\b\b\b\b\b\b\b\b\b\b\b\b\b\b\b\b\b\b\b\b\b\b\b\b\b\b\b\b\b\b\b\b\b\b\b\b\b\b\b\b\b\b\b\b\b\b\b\b\r",
        "28288/60000 [=============>................] - ETA: 7s - loss: 0.8814 - acc: 0.7544"
       ]
      },
      {
       "output_type": "stream",
       "stream": "stdout",
       "text": [
        "\b\b\b\b\b\b\b\b\b\b\b\b\b\b\b\b\b\b\b\b\b\b\b\b\b\b\b\b\b\b\b\b\b\b\b\b\b\b\b\b\b\b\b\b\b\b\b\b\b\b\b\b\b\b\b\b\b\b\b\b\b\b\b\b\b\b\b\b\b\b\b\b\b\b\b\b\b\b\b\b\b\b\b\r",
        "28416/60000 [=============>................] - ETA: 7s - loss: 0.8791 - acc: 0.7550"
       ]
      },
      {
       "output_type": "stream",
       "stream": "stdout",
       "text": [
        "\b\b\b\b\b\b\b\b\b\b\b\b\b\b\b\b\b\b\b\b\b\b\b\b\b\b\b\b\b\b\b\b\b\b\b\b\b\b\b\b\b\b\b\b\b\b\b\b\b\b\b\b\b\b\b\b\b\b\b\b\b\b\b\b\b\b\b\b\b\b\b\b\b\b\b\b\b\b\b\b\b\b\b\r",
        "28544/60000 [=============>................] - ETA: 7s - loss: 0.8768 - acc: 0.7556"
       ]
      },
      {
       "output_type": "stream",
       "stream": "stdout",
       "text": [
        "\b\b\b\b\b\b\b\b\b\b\b\b\b\b\b\b\b\b\b\b\b\b\b\b\b\b\b\b\b\b\b\b\b\b\b\b\b\b\b\b\b\b\b\b\b\b\b\b\b\b\b\b\b\b\b\b\b\b\b\b\b\b\b\b\b\b\b\b\b\b\b\b\b\b\b\b\b\b\b\b\b\b\b\r",
        "28672/60000 [=============>................] - ETA: 6s - loss: 0.8745 - acc: 0.7563"
       ]
      },
      {
       "output_type": "stream",
       "stream": "stdout",
       "text": [
        "\b\b\b\b\b\b\b\b\b\b\b\b\b\b\b\b\b\b\b\b\b\b\b\b\b\b\b\b\b\b\b\b\b\b\b\b\b\b\b\b\b\b\b\b\b\b\b\b\b\b\b\b\b\b\b\b\b\b\b\b\b\b\b\b\b\b\b\b\b\b\b\b\b\b\b\b\b\b\b\b\b\b\b\r",
        "28800/60000 [=============>................] - ETA: 6s - loss: 0.8725 - acc: 0.7568"
       ]
      },
      {
       "output_type": "stream",
       "stream": "stdout",
       "text": [
        "\b\b\b\b\b\b\b\b\b\b\b\b\b\b\b\b\b\b\b\b\b\b\b\b\b\b\b\b\b\b\b\b\b\b\b\b\b\b\b\b\b\b\b\b\b\b\b\b\b\b\b\b\b\b\b\b\b\b\b\b\b\b\b\b\b\b\b\b\b\b\b\b\b\b\b\b\b\b\b\b\b\b\b\r",
        "28928/60000 [=============>................] - ETA: 6s - loss: 0.8698 - acc: 0.7576"
       ]
      },
      {
       "output_type": "stream",
       "stream": "stdout",
       "text": [
        "\b\b\b\b\b\b\b\b\b\b\b\b\b\b\b\b\b\b\b\b\b\b\b\b\b\b\b\b\b\b\b\b\b\b\b\b\b\b\b\b\b\b\b\b\b\b\b\b\b\b\b\b\b\b\b\b\b\b\b\b\b\b\b\b\b\b\b\b\b\b\b\b\b\b\b\b\b\b\b\b\b\b\b\r",
        "29056/60000 [=============>................] - ETA: 6s - loss: 0.8677 - acc: 0.7582"
       ]
      },
      {
       "output_type": "stream",
       "stream": "stdout",
       "text": [
        "\b\b\b\b\b\b\b\b\b\b\b\b\b\b\b\b\b\b\b\b\b\b\b\b\b\b\b\b\b\b\b\b\b\b\b\b\b\b\b\b\b\b\b\b\b\b\b\b\b\b\b\b\b\b\b\b\b\b\b\b\b\b\b\b\b\b\b\b\b\b\b\b\b\b\b\b\b\b\b\b\b\b\b\r",
        "29184/60000 [=============>................] - ETA: 6s - loss: 0.8654 - acc: 0.7587"
       ]
      },
      {
       "output_type": "stream",
       "stream": "stdout",
       "text": [
        "\b\b\b\b\b\b\b\b\b\b\b\b\b\b\b\b\b\b\b\b\b\b\b\b\b\b\b\b\b\b\b\b\b\b\b\b\b\b\b\b\b\b\b\b\b\b\b\b\b\b\b\b\b\b\b\b\b\b\b\b\b\b\b\b\b\b\b\b\b\b\b\b\b\b\b\b\b\b\b\b\b\b\b\r",
        "29312/60000 [=============>................] - ETA: 6s - loss: 0.8630 - acc: 0.7594"
       ]
      },
      {
       "output_type": "stream",
       "stream": "stdout",
       "text": [
        "\b\b\b\b\b\b\b\b\b\b\b\b\b\b\b\b\b\b\b\b\b\b\b\b\b\b\b\b\b\b\b\b\b\b\b\b\b\b\b\b\b\b\b\b\b\b\b\b\b\b\b\b\b\b\b\b\b\b\b\b\b\b\b\b\b\b\b\b\b\b\b\b\b\b\b\b\b\b\b\b\b\b\b\r",
        "29440/60000 [=============>................] - ETA: 6s - loss: 0.8610 - acc: 0.7599"
       ]
      },
      {
       "output_type": "stream",
       "stream": "stdout",
       "text": [
        "\b\b\b\b\b\b\b\b\b\b\b\b\b\b\b\b\b\b\b\b\b\b\b\b\b\b\b\b\b\b\b\b\b\b\b\b\b\b\b\b\b\b\b\b\b\b\b\b\b\b\b\b\b\b\b\b\b\b\b\b\b\b\b\b\b\b\b\b\b\b\b\b\b\b\b\b\b\b\b\b\b\b\b\r",
        "29568/60000 [=============>................] - ETA: 6s - loss: 0.8586 - acc: 0.7607"
       ]
      },
      {
       "output_type": "stream",
       "stream": "stdout",
       "text": [
        "\b\b\b\b\b\b\b\b\b\b\b\b\b\b\b\b\b\b\b\b\b\b\b\b\b\b\b\b\b\b\b\b\b\b\b\b\b\b\b\b\b\b\b\b\b\b\b\b\b\b\b\b\b\b\b\b\b\b\b\b\b\b\b\b\b\b\b\b\b\b\b\b\b\b\b\b\b\b\b\b\b\b\b\r",
        "29696/60000 [=============>................] - ETA: 6s - loss: 0.8568 - acc: 0.7611"
       ]
      },
      {
       "output_type": "stream",
       "stream": "stdout",
       "text": [
        "\b\b\b\b\b\b\b\b\b\b\b\b\b\b\b\b\b\b\b\b\b\b\b\b\b\b\b\b\b\b\b\b\b\b\b\b\b\b\b\b\b\b\b\b\b\b\b\b\b\b\b\b\b\b\b\b\b\b\b\b\b\b\b\b\b\b\b\b\b\b\b\b\b\b\b\b\b\b\b\b\b\b\b\r",
        "29824/60000 [=============>................] - ETA: 6s - loss: 0.8545 - acc: 0.7618"
       ]
      },
      {
       "output_type": "stream",
       "stream": "stdout",
       "text": [
        "\b\b\b\b\b\b\b\b\b\b\b\b\b\b\b\b\b\b\b\b\b\b\b\b\b\b\b\b\b\b\b\b\b\b\b\b\b\b\b\b\b\b\b\b\b\b\b\b\b\b\b\b\b\b\b\b\b\b\b\b\b\b\b\b\b\b\b\b\b\b\b\b\b\b\b\b\b\b\b\b\b\b\b\r",
        "29952/60000 [=============>................] - ETA: 6s - loss: 0.8528 - acc: 0.7622"
       ]
      },
      {
       "output_type": "stream",
       "stream": "stdout",
       "text": [
        "\b\b\b\b\b\b\b\b\b\b\b\b\b\b\b\b\b\b\b\b\b\b\b\b\b\b\b\b\b\b\b\b\b\b\b\b\b\b\b\b\b\b\b\b\b\b\b\b\b\b\b\b\b\b\b\b\b\b\b\b\b\b\b\b\b\b\b\b\b\b\b\b\b\b\b\b\b\b\b\b\b\b\b\r",
        "30080/60000 [==============>...............] - ETA: 6s - loss: 0.8511 - acc: 0.7627"
       ]
      },
      {
       "output_type": "stream",
       "stream": "stdout",
       "text": [
        "\b\b\b\b\b\b\b\b\b\b\b\b\b\b\b\b\b\b\b\b\b\b\b\b\b\b\b\b\b\b\b\b\b\b\b\b\b\b\b\b\b\b\b\b\b\b\b\b\b\b\b\b\b\b\b\b\b\b\b\b\b\b\b\b\b\b\b\b\b\b\b\b\b\b\b\b\b\b\b\b\b\b\b\r",
        "30208/60000 [==============>...............] - ETA: 6s - loss: 0.8490 - acc: 0.7633"
       ]
      },
      {
       "output_type": "stream",
       "stream": "stdout",
       "text": [
        "\b\b\b\b\b\b\b\b\b\b\b\b\b\b\b\b\b\b\b\b\b\b\b\b\b\b\b\b\b\b\b\b\b\b\b\b\b\b\b\b\b\b\b\b\b\b\b\b\b\b\b\b\b\b\b\b\b\b\b\b\b\b\b\b\b\b\b\b\b\b\b\b\b\b\b\b\b\b\b\b\b\b\b\r",
        "30336/60000 [==============>...............] - ETA: 6s - loss: 0.8473 - acc: 0.7636"
       ]
      },
      {
       "output_type": "stream",
       "stream": "stdout",
       "text": [
        "\b\b\b\b\b\b\b\b\b\b\b\b\b\b\b\b\b\b\b\b\b\b\b\b\b\b\b\b\b\b\b\b\b\b\b\b\b\b\b\b\b\b\b\b\b\b\b\b\b\b\b\b\b\b\b\b\b\b\b\b\b\b\b\b\b\b\b\b\b\b\b\b\b\b\b\b\b\b\b\b\b\b\b\r",
        "30464/60000 [==============>...............] - ETA: 6s - loss: 0.8455 - acc: 0.7642"
       ]
      },
      {
       "output_type": "stream",
       "stream": "stdout",
       "text": [
        "\b\b\b\b\b\b\b\b\b\b\b\b\b\b\b\b\b\b\b\b\b\b\b\b\b\b\b\b\b\b\b\b\b\b\b\b\b\b\b\b\b\b\b\b\b\b\b\b\b\b\b\b\b\b\b\b\b\b\b\b\b\b\b\b\b\b\b\b\b\b\b\b\b\b\b\b\b\b\b\b\b\b\b\r",
        "30592/60000 [==============>...............] - ETA: 6s - loss: 0.8437 - acc: 0.7648"
       ]
      },
      {
       "output_type": "stream",
       "stream": "stdout",
       "text": [
        "\b\b\b\b\b\b\b\b\b\b\b\b\b\b\b\b\b\b\b\b\b\b\b\b\b\b\b\b\b\b\b\b\b\b\b\b\b\b\b\b\b\b\b\b\b\b\b\b\b\b\b\b\b\b\b\b\b\b\b\b\b\b\b\b\b\b\b\b\b\b\b\b\b\b\b\b\b\b\b\b\b\b\b\r",
        "30720/60000 [==============>...............] - ETA: 6s - loss: 0.8413 - acc: 0.7655"
       ]
      },
      {
       "output_type": "stream",
       "stream": "stdout",
       "text": [
        "\b\b\b\b\b\b\b\b\b\b\b\b\b\b\b\b\b\b\b\b\b\b\b\b\b\b\b\b\b\b\b\b\b\b\b\b\b\b\b\b\b\b\b\b\b\b\b\b\b\b\b\b\b\b\b\b\b\b\b\b\b\b\b\b\b\b\b\b\b\b\b\b\b\b\b\b\b\b\b\b\b\b\b\r",
        "30848/60000 [==============>...............] - ETA: 6s - loss: 0.8399 - acc: 0.7659"
       ]
      },
      {
       "output_type": "stream",
       "stream": "stdout",
       "text": [
        "\b\b\b\b\b\b\b\b\b\b\b\b\b\b\b\b\b\b\b\b\b\b\b\b\b\b\b\b\b\b\b\b\b\b\b\b\b\b\b\b\b\b\b\b\b\b\b\b\b\b\b\b\b\b\b\b\b\b\b\b\b\b\b\b\b\b\b\b\b\b\b\b\b\b\b\b\b\b\b\b\b\b\b\r",
        "30976/60000 [==============>...............] - ETA: 6s - loss: 0.8377 - acc: 0.7667"
       ]
      },
      {
       "output_type": "stream",
       "stream": "stdout",
       "text": [
        "\b\b\b\b\b\b\b\b\b\b\b\b\b\b\b\b\b\b\b\b\b\b\b\b\b\b\b\b\b\b\b\b\b\b\b\b\b\b\b\b\b\b\b\b\b\b\b\b\b\b\b\b\b\b\b\b\b\b\b\b\b\b\b\b\b\b\b\b\b\b\b\b\b\b\b\b\b\b\b\b\b\b\b\r",
        "31104/60000 [==============>...............] - ETA: 6s - loss: 0.8356 - acc: 0.7673"
       ]
      },
      {
       "output_type": "stream",
       "stream": "stdout",
       "text": [
        "\b\b\b\b\b\b\b\b\b\b\b\b\b\b\b\b\b\b\b\b\b\b\b\b\b\b\b\b\b\b\b\b\b\b\b\b\b\b\b\b\b\b\b\b\b\b\b\b\b\b\b\b\b\b\b\b\b\b\b\b\b\b\b\b\b\b\b\b\b\b\b\b\b\b\b\b\b\b\b\b\b\b\b\r",
        "31232/60000 [==============>...............] - ETA: 6s - loss: 0.8339 - acc: 0.7678"
       ]
      },
      {
       "output_type": "stream",
       "stream": "stdout",
       "text": [
        "\b\b\b\b\b\b\b\b\b\b\b\b\b\b\b\b\b\b\b\b\b\b\b\b\b\b\b\b\b\b\b\b\b\b\b\b\b\b\b\b\b\b\b\b\b\b\b\b\b\b\b\b\b\b\b\b\b\b\b\b\b\b\b\b\b\b\b\b\b\b\b\b\b\b\b\b\b\b\b\b\b\b\b\r",
        "31360/60000 [==============>...............] - ETA: 6s - loss: 0.8324 - acc: 0.7681"
       ]
      },
      {
       "output_type": "stream",
       "stream": "stdout",
       "text": [
        "\b\b\b\b\b\b\b\b\b\b\b\b\b\b\b\b\b\b\b\b\b\b\b\b\b\b\b\b\b\b\b\b\b\b\b\b\b\b\b\b\b\b\b\b\b\b\b\b\b\b\b\b\b\b\b\b\b\b\b\b\b\b\b\b\b\b\b\b\b\b\b\b\b\b\b\b\b\b\b\b\b\b\b\r",
        "31488/60000 [==============>...............] - ETA: 6s - loss: 0.8304 - acc: 0.7685"
       ]
      },
      {
       "output_type": "stream",
       "stream": "stdout",
       "text": [
        "\b\b\b\b\b\b\b\b\b\b\b\b\b\b\b\b\b\b\b\b\b\b\b\b\b\b\b\b\b\b\b\b\b\b\b\b\b\b\b\b\b\b\b\b\b\b\b\b\b\b\b\b\b\b\b\b\b\b\b\b\b\b\b\b\b\b\b\b\b\b\b\b\b\b\b\b\b\b\b\b\b\b\b\r",
        "31616/60000 [==============>...............] - ETA: 6s - loss: 0.8285 - acc: 0.7691"
       ]
      },
      {
       "output_type": "stream",
       "stream": "stdout",
       "text": [
        "\b\b\b\b\b\b\b\b\b\b\b\b\b\b\b\b\b\b\b\b\b\b\b\b\b\b\b\b\b\b\b\b\b\b\b\b\b\b\b\b\b\b\b\b\b\b\b\b\b\b\b\b\b\b\b\b\b\b\b\b\b\b\b\b\b\b\b\b\b\b\b\b\b\b\b\b\b\b\b\b\b\b\b\r",
        "31744/60000 [==============>...............] - ETA: 6s - loss: 0.8267 - acc: 0.7695"
       ]
      },
      {
       "output_type": "stream",
       "stream": "stdout",
       "text": [
        "\b\b\b\b\b\b\b\b\b\b\b\b\b\b\b\b\b\b\b\b\b\b\b\b\b\b\b\b\b\b\b\b\b\b\b\b\b\b\b\b\b\b\b\b\b\b\b\b\b\b\b\b\b\b\b\b\b\b\b\b\b\b\b\b\b\b\b\b\b\b\b\b\b\b\b\b\b\b\b\b\b\b\b\r",
        "31872/60000 [==============>...............] - ETA: 6s - loss: 0.8246 - acc: 0.7700"
       ]
      },
      {
       "output_type": "stream",
       "stream": "stdout",
       "text": [
        "\b\b\b\b\b\b\b\b\b\b\b\b\b\b\b\b\b\b\b\b\b\b\b\b\b\b\b\b\b\b\b\b\b\b\b\b\b\b\b\b\b\b\b\b\b\b\b\b\b\b\b\b\b\b\b\b\b\b\b\b\b\b\b\b\b\b\b\b\b\b\b\b\b\b\b\b\b\b\b\b\b\b\b\r",
        "32000/60000 [===============>..............] - ETA: 6s - loss: 0.8229 - acc: 0.7704"
       ]
      },
      {
       "output_type": "stream",
       "stream": "stdout",
       "text": [
        "\b\b\b\b\b\b\b\b\b\b\b\b\b\b\b\b\b\b\b\b\b\b\b\b\b\b\b\b\b\b\b\b\b\b\b\b\b\b\b\b\b\b\b\b\b\b\b\b\b\b\b\b\b\b\b\b\b\b\b\b\b\b\b\b\b\b\b\b\b\b\b\b\b\b\b\b\b\b\b\b\b\b\b\r",
        "32128/60000 [===============>..............] - ETA: 6s - loss: 0.8214 - acc: 0.7708"
       ]
      },
      {
       "output_type": "stream",
       "stream": "stdout",
       "text": [
        "\b\b\b\b\b\b\b\b\b\b\b\b\b\b\b\b\b\b\b\b\b\b\b\b\b\b\b\b\b\b\b\b\b\b\b\b\b\b\b\b\b\b\b\b\b\b\b\b\b\b\b\b\b\b\b\b\b\b\b\b\b\b\b\b\b\b\b\b\b\b\b\b\b\b\b\b\b\b\b\b\b\b\b\r",
        "32256/60000 [===============>..............] - ETA: 6s - loss: 0.8192 - acc: 0.7715"
       ]
      },
      {
       "output_type": "stream",
       "stream": "stdout",
       "text": [
        "\b\b\b\b\b\b\b\b\b\b\b\b\b\b\b\b\b\b\b\b\b\b\b\b\b\b\b\b\b\b\b\b\b\b\b\b\b\b\b\b\b\b\b\b\b\b\b\b\b\b\b\b\b\b\b\b\b\b\b\b\b\b\b\b\b\b\b\b\b\b\b\b\b\b\b\b\b\b\b\b\b\b\b\r",
        "32384/60000 [===============>..............] - ETA: 6s - loss: 0.8172 - acc: 0.7719"
       ]
      },
      {
       "output_type": "stream",
       "stream": "stdout",
       "text": [
        "\b\b\b\b\b\b\b\b\b\b\b\b\b\b\b\b\b\b\b\b\b\b\b\b\b\b\b\b\b\b\b\b\b\b\b\b\b\b\b\b\b\b\b\b\b\b\b\b\b\b\b\b\b\b\b\b\b\b\b\b\b\b\b\b\b\b\b\b\b\b\b\b\b\b\b\b\b\b\b\b\b\b\b\r",
        "32512/60000 [===============>..............] - ETA: 6s - loss: 0.8157 - acc: 0.7722"
       ]
      },
      {
       "output_type": "stream",
       "stream": "stdout",
       "text": [
        "\b\b\b\b\b\b\b\b\b\b\b\b\b\b\b\b\b\b\b\b\b\b\b\b\b\b\b\b\b\b\b\b\b\b\b\b\b\b\b\b\b\b\b\b\b\b\b\b\b\b\b\b\b\b\b\b\b\b\b\b\b\b\b\b\b\b\b\b\b\b\b\b\b\b\b\b\b\b\b\b\b\b\b\r",
        "32640/60000 [===============>..............] - ETA: 6s - loss: 0.8136 - acc: 0.7729"
       ]
      },
      {
       "output_type": "stream",
       "stream": "stdout",
       "text": [
        "\b\b\b\b\b\b\b\b\b\b\b\b\b\b\b\b\b\b\b\b\b\b\b\b\b\b\b\b\b\b\b\b\b\b\b\b\b\b\b\b\b\b\b\b\b\b\b\b\b\b\b\b\b\b\b\b\b\b\b\b\b\b\b\b\b\b\b\b\b\b\b\b\b\b\b\b\b\b\b\b\b\b\b\r",
        "32768/60000 [===============>..............] - ETA: 6s - loss: 0.8117 - acc: 0.7735"
       ]
      },
      {
       "output_type": "stream",
       "stream": "stdout",
       "text": [
        "\b\b\b\b\b\b\b\b\b\b\b\b\b\b\b\b\b\b\b\b\b\b\b\b\b\b\b\b\b\b\b\b\b\b\b\b\b\b\b\b\b\b\b\b\b\b\b\b\b\b\b\b\b\b\b\b\b\b\b\b\b\b\b\b\b\b\b\b\b\b\b\b\b\b\b\b\b\b\b\b\b\b\b\r",
        "32896/60000 [===============>..............] - ETA: 6s - loss: 0.8101 - acc: 0.7739"
       ]
      },
      {
       "output_type": "stream",
       "stream": "stdout",
       "text": [
        "\b\b\b\b\b\b\b\b\b\b\b\b\b\b\b\b\b\b\b\b\b\b\b\b\b\b\b\b\b\b\b\b\b\b\b\b\b\b\b\b\b\b\b\b\b\b\b\b\b\b\b\b\b\b\b\b\b\b\b\b\b\b\b\b\b\b\b\b\b\b\b\b\b\b\b\b\b\b\b\b\b\b\b\r",
        "33024/60000 [===============>..............] - ETA: 6s - loss: 0.8085 - acc: 0.7743"
       ]
      },
      {
       "output_type": "stream",
       "stream": "stdout",
       "text": [
        "\b\b\b\b\b\b\b\b\b\b\b\b\b\b\b\b\b\b\b\b\b\b\b\b\b\b\b\b\b\b\b\b\b\b\b\b\b\b\b\b\b\b\b\b\b\b\b\b\b\b\b\b\b\b\b\b\b\b\b\b\b\b\b\b\b\b\b\b\b\b\b\b\b\b\b\b\b\b\b\b\b\b\b\r",
        "33152/60000 [===============>..............] - ETA: 5s - loss: 0.8070 - acc: 0.7746"
       ]
      },
      {
       "output_type": "stream",
       "stream": "stdout",
       "text": [
        "\b\b\b\b\b\b\b\b\b\b\b\b\b\b\b\b\b\b\b\b\b\b\b\b\b\b\b\b\b\b\b\b\b\b\b\b\b\b\b\b\b\b\b\b\b\b\b\b\b\b\b\b\b\b\b\b\b\b\b\b\b\b\b\b\b\b\b\b\b\b\b\b\b\b\b\b\b\b\b\b\b\b\b\r",
        "33280/60000 [===============>..............] - ETA: 5s - loss: 0.8053 - acc: 0.7752"
       ]
      },
      {
       "output_type": "stream",
       "stream": "stdout",
       "text": [
        "\b\b\b\b\b\b\b\b\b\b\b\b\b\b\b\b\b\b\b\b\b\b\b\b\b\b\b\b\b\b\b\b\b\b\b\b\b\b\b\b\b\b\b\b\b\b\b\b\b\b\b\b\b\b\b\b\b\b\b\b\b\b\b\b\b\b\b\b\b\b\b\b\b\b\b\b\b\b\b\b\b\b\b\r",
        "33408/60000 [===============>..............] - ETA: 5s - loss: 0.8037 - acc: 0.7756"
       ]
      },
      {
       "output_type": "stream",
       "stream": "stdout",
       "text": [
        "\b\b\b\b\b\b\b\b\b\b\b\b\b\b\b\b\b\b\b\b\b\b\b\b\b\b\b\b\b\b\b\b\b\b\b\b\b\b\b\b\b\b\b\b\b\b\b\b\b\b\b\b\b\b\b\b\b\b\b\b\b\b\b\b\b\b\b\b\b\b\b\b\b\b\b\b\b\b\b\b\b\b\b\r",
        "33536/60000 [===============>..............] - ETA: 5s - loss: 0.8021 - acc: 0.7760"
       ]
      },
      {
       "output_type": "stream",
       "stream": "stdout",
       "text": [
        "\b\b\b\b\b\b\b\b\b\b\b\b\b\b\b\b\b\b\b\b\b\b\b\b\b\b\b\b\b\b\b\b\b\b\b\b\b\b\b\b\b\b\b\b\b\b\b\b\b\b\b\b\b\b\b\b\b\b\b\b\b\b\b\b\b\b\b\b\b\b\b\b\b\b\b\b\b\b\b\b\b\b\b\r",
        "33664/60000 [===============>..............] - ETA: 5s - loss: 0.8003 - acc: 0.7764"
       ]
      },
      {
       "output_type": "stream",
       "stream": "stdout",
       "text": [
        "\b\b\b\b\b\b\b\b\b\b\b\b\b\b\b\b\b\b\b\b\b\b\b\b\b\b\b\b\b\b\b\b\b\b\b\b\b\b\b\b\b\b\b\b\b\b\b\b\b\b\b\b\b\b\b\b\b\b\b\b\b\b\b\b\b\b\b\b\b\b\b\b\b\b\b\b\b\b\b\b\b\b\b\r",
        "33792/60000 [===============>..............] - ETA: 5s - loss: 0.7983 - acc: 0.7770"
       ]
      },
      {
       "output_type": "stream",
       "stream": "stdout",
       "text": [
        "\b\b\b\b\b\b\b\b\b\b\b\b\b\b\b\b\b\b\b\b\b\b\b\b\b\b\b\b\b\b\b\b\b\b\b\b\b\b\b\b\b\b\b\b\b\b\b\b\b\b\b\b\b\b\b\b\b\b\b\b\b\b\b\b\b\b\b\b\b\b\b\b\b\b\b\b\b\b\b\b\b\b\b\r",
        "33920/60000 [===============>..............] - ETA: 5s - loss: 0.7965 - acc: 0.7776"
       ]
      },
      {
       "output_type": "stream",
       "stream": "stdout",
       "text": [
        "\b\b\b\b\b\b\b\b\b\b\b\b\b\b\b\b\b\b\b\b\b\b\b\b\b\b\b\b\b\b\b\b\b\b\b\b\b\b\b\b\b\b\b\b\b\b\b\b\b\b\b\b\b\b\b\b\b\b\b\b\b\b\b\b\b\b\b\b\b\b\b\b\b\b\b\b\b\b\b\b\b\b\b\r",
        "34048/60000 [================>.............] - ETA: 5s - loss: 0.7946 - acc: 0.7781"
       ]
      },
      {
       "output_type": "stream",
       "stream": "stdout",
       "text": [
        "\b\b\b\b\b\b\b\b\b\b\b\b\b\b\b\b\b\b\b\b\b\b\b\b\b\b\b\b\b\b\b\b\b\b\b\b\b\b\b\b\b\b\b\b\b\b\b\b\b\b\b\b\b\b\b\b\b\b\b\b\b\b\b\b\b\b\b\b\b\b\b\b\b\b\b\b\b\b\b\b\b\b\b\r",
        "34176/60000 [================>.............] - ETA: 5s - loss: 0.7927 - acc: 0.7786"
       ]
      },
      {
       "output_type": "stream",
       "stream": "stdout",
       "text": [
        "\b\b\b\b\b\b\b\b\b\b\b\b\b\b\b\b\b\b\b\b\b\b\b\b\b\b\b\b\b\b\b\b\b\b\b\b\b\b\b\b\b\b\b\b\b\b\b\b\b\b\b\b\b\b\b\b\b\b\b\b\b\b\b\b\b\b\b\b\b\b\b\b\b\b\b\b\b\b\b\b\b\b\b\r",
        "34304/60000 [================>.............] - ETA: 5s - loss: 0.7916 - acc: 0.7789"
       ]
      },
      {
       "output_type": "stream",
       "stream": "stdout",
       "text": [
        "\b\b\b\b\b\b\b\b\b\b\b\b\b\b\b\b\b\b\b\b\b\b\b\b\b\b\b\b\b\b\b\b\b\b\b\b\b\b\b\b\b\b\b\b\b\b\b\b\b\b\b\b\b\b\b\b\b\b\b\b\b\b\b\b\b\b\b\b\b\b\b\b\b\b\b\b\b\b\b\b\b\b\b\r",
        "34432/60000 [================>.............] - ETA: 5s - loss: 0.7900 - acc: 0.7793"
       ]
      },
      {
       "output_type": "stream",
       "stream": "stdout",
       "text": [
        "\b\b\b\b\b\b\b\b\b\b\b\b\b\b\b\b\b\b\b\b\b\b\b\b\b\b\b\b\b\b\b\b\b\b\b\b\b\b\b\b\b\b\b\b\b\b\b\b\b\b\b\b\b\b\b\b\b\b\b\b\b\b\b\b\b\b\b\b\b\b\b\b\b\b\b\b\b\b\b\b\b\b\b\r",
        "34560/60000 [================>.............] - ETA: 5s - loss: 0.7888 - acc: 0.7797"
       ]
      },
      {
       "output_type": "stream",
       "stream": "stdout",
       "text": [
        "\b\b\b\b\b\b\b\b\b\b\b\b\b\b\b\b\b\b\b\b\b\b\b\b\b\b\b\b\b\b\b\b\b\b\b\b\b\b\b\b\b\b\b\b\b\b\b\b\b\b\b\b\b\b\b\b\b\b\b\b\b\b\b\b\b\b\b\b\b\b\b\b\b\b\b\b\b\b\b\b\b\b\b\r",
        "34688/60000 [================>.............] - ETA: 5s - loss: 0.7873 - acc: 0.7802"
       ]
      },
      {
       "output_type": "stream",
       "stream": "stdout",
       "text": [
        "\b\b\b\b\b\b\b\b\b\b\b\b\b\b\b\b\b\b\b\b\b\b\b\b\b\b\b\b\b\b\b\b\b\b\b\b\b\b\b\b\b\b\b\b\b\b\b\b\b\b\b\b\b\b\b\b\b\b\b\b\b\b\b\b\b\b\b\b\b\b\b\b\b\b\b\b\b\b\b\b\b\b\b\r",
        "34816/60000 [================>.............] - ETA: 5s - loss: 0.7856 - acc: 0.7807"
       ]
      },
      {
       "output_type": "stream",
       "stream": "stdout",
       "text": [
        "\b\b\b\b\b\b\b\b\b\b\b\b\b\b\b\b\b\b\b\b\b\b\b\b\b\b\b\b\b\b\b\b\b\b\b\b\b\b\b\b\b\b\b\b\b\b\b\b\b\b\b\b\b\b\b\b\b\b\b\b\b\b\b\b\b\b\b\b\b\b\b\b\b\b\b\b\b\b\b\b\b\b\b\r",
        "34944/60000 [================>.............] - ETA: 5s - loss: 0.7842 - acc: 0.7811"
       ]
      },
      {
       "output_type": "stream",
       "stream": "stdout",
       "text": [
        "\b\b\b\b\b\b\b\b\b\b\b\b\b\b\b\b\b\b\b\b\b\b\b\b\b\b\b\b\b\b\b\b\b\b\b\b\b\b\b\b\b\b\b\b\b\b\b\b\b\b\b\b\b\b\b\b\b\b\b\b\b\b\b\b\b\b\b\b\b\b\b\b\b\b\b\b\b\b\b\b\b\b\b\r",
        "35072/60000 [================>.............] - ETA: 5s - loss: 0.7828 - acc: 0.7815"
       ]
      },
      {
       "output_type": "stream",
       "stream": "stdout",
       "text": [
        "\b\b\b\b\b\b\b\b\b\b\b\b\b\b\b\b\b\b\b\b\b\b\b\b\b\b\b\b\b\b\b\b\b\b\b\b\b\b\b\b\b\b\b\b\b\b\b\b\b\b\b\b\b\b\b\b\b\b\b\b\b\b\b\b\b\b\b\b\b\b\b\b\b\b\b\b\b\b\b\b\b\b\b\r",
        "35200/60000 [================>.............] - ETA: 5s - loss: 0.7810 - acc: 0.7820"
       ]
      },
      {
       "output_type": "stream",
       "stream": "stdout",
       "text": [
        "\b\b\b\b\b\b\b\b\b\b\b\b\b\b\b\b\b\b\b\b\b\b\b\b\b\b\b\b\b\b\b\b\b\b\b\b\b\b\b\b\b\b\b\b\b\b\b\b\b\b\b\b\b\b\b\b\b\b\b\b\b\b\b\b\b\b\b\b\b\b\b\b\b\b\b\b\b\b\b\b\b\b\b\r",
        "35328/60000 [================>.............] - ETA: 5s - loss: 0.7796 - acc: 0.7824"
       ]
      },
      {
       "output_type": "stream",
       "stream": "stdout",
       "text": [
        "\b\b\b\b\b\b\b\b\b\b\b\b\b\b\b\b\b\b\b\b\b\b\b\b\b\b\b\b\b\b\b\b\b\b\b\b\b\b\b\b\b\b\b\b\b\b\b\b\b\b\b\b\b\b\b\b\b\b\b\b\b\b\b\b\b\b\b\b\b\b\b\b\b\b\b\b\b\b\b\b\b\b\b\r",
        "35456/60000 [================>.............] - ETA: 5s - loss: 0.7777 - acc: 0.7829"
       ]
      },
      {
       "output_type": "stream",
       "stream": "stdout",
       "text": [
        "\b\b\b\b\b\b\b\b\b\b\b\b\b\b\b\b\b\b\b\b\b\b\b\b\b\b\b\b\b\b\b\b\b\b\b\b\b\b\b\b\b\b\b\b\b\b\b\b\b\b\b\b\b\b\b\b\b\b\b\b\b\b\b\b\b\b\b\b\b\b\b\b\b\b\b\b\b\b\b\b\b\b\b\r",
        "35584/60000 [================>.............] - ETA: 5s - loss: 0.7758 - acc: 0.7835"
       ]
      },
      {
       "output_type": "stream",
       "stream": "stdout",
       "text": [
        "\b\b\b\b\b\b\b\b\b\b\b\b\b\b\b\b\b\b\b\b\b\b\b\b\b\b\b\b\b\b\b\b\b\b\b\b\b\b\b\b\b\b\b\b\b\b\b\b\b\b\b\b\b\b\b\b\b\b\b\b\b\b\b\b\b\b\b\b\b\b\b\b\b\b\b\b\b\b\b\b\b\b\b\r",
        "35712/60000 [================>.............] - ETA: 5s - loss: 0.7744 - acc: 0.7839"
       ]
      },
      {
       "output_type": "stream",
       "stream": "stdout",
       "text": [
        "\b\b\b\b\b\b\b\b\b\b\b\b\b\b\b\b\b\b\b\b\b\b\b\b\b\b\b\b\b\b\b\b\b\b\b\b\b\b\b\b\b\b\b\b\b\b\b\b\b\b\b\b\b\b\b\b\b\b\b\b\b\b\b\b\b\b\b\b\b\b\b\b\b\b\b\b\b\b\b\b\b\b\b\r",
        "35840/60000 [================>.............] - ETA: 5s - loss: 0.7727 - acc: 0.7844"
       ]
      },
      {
       "output_type": "stream",
       "stream": "stdout",
       "text": [
        "\b\b\b\b\b\b\b\b\b\b\b\b\b\b\b\b\b\b\b\b\b\b\b\b\b\b\b\b\b\b\b\b\b\b\b\b\b\b\b\b\b\b\b\b\b\b\b\b\b\b\b\b\b\b\b\b\b\b\b\b\b\b\b\b\b\b\b\b\b\b\b\b\b\b\b\b\b\b\b\b\b\b\b\r",
        "35968/60000 [================>.............] - ETA: 5s - loss: 0.7711 - acc: 0.7848"
       ]
      },
      {
       "output_type": "stream",
       "stream": "stdout",
       "text": [
        "\b\b\b\b\b\b\b\b\b\b\b\b\b\b\b\b\b\b\b\b\b\b\b\b\b\b\b\b\b\b\b\b\b\b\b\b\b\b\b\b\b\b\b\b\b\b\b\b\b\b\b\b\b\b\b\b\b\b\b\b\b\b\b\b\b\b\b\b\b\b\b\b\b\b\b\b\b\b\b\b\b\b\b\r",
        "36096/60000 [=================>............] - ETA: 5s - loss: 0.7703 - acc: 0.7849"
       ]
      },
      {
       "output_type": "stream",
       "stream": "stdout",
       "text": [
        "\b\b\b\b\b\b\b\b\b\b\b\b\b\b\b\b\b\b\b\b\b\b\b\b\b\b\b\b\b\b\b\b\b\b\b\b\b\b\b\b\b\b\b\b\b\b\b\b\b\b\b\b\b\b\b\b\b\b\b\b\b\b\b\b\b\b\b\b\b\b\b\b\b\b\b\b\b\b\b\b\b\b\b\r",
        "36224/60000 [=================>............] - ETA: 5s - loss: 0.7685 - acc: 0.7854"
       ]
      },
      {
       "output_type": "stream",
       "stream": "stdout",
       "text": [
        "\b\b\b\b\b\b\b\b\b\b\b\b\b\b\b\b\b\b\b\b\b\b\b\b\b\b\b\b\b\b\b\b\b\b\b\b\b\b\b\b\b\b\b\b\b\b\b\b\b\b\b\b\b\b\b\b\b\b\b\b\b\b\b\b\b\b\b\b\b\b\b\b\b\b\b\b\b\b\b\b\b\b\b\r",
        "36352/60000 [=================>............] - ETA: 5s - loss: 0.7670 - acc: 0.7859"
       ]
      },
      {
       "output_type": "stream",
       "stream": "stdout",
       "text": [
        "\b\b\b\b\b\b\b\b\b\b\b\b\b\b\b\b\b\b\b\b\b\b\b\b\b\b\b\b\b\b\b\b\b\b\b\b\b\b\b\b\b\b\b\b\b\b\b\b\b\b\b\b\b\b\b\b\b\b\b\b\b\b\b\b\b\b\b\b\b\b\b\b\b\b\b\b\b\b\b\b\b\b\b\r",
        "36480/60000 [=================>............] - ETA: 5s - loss: 0.7652 - acc: 0.7864"
       ]
      },
      {
       "output_type": "stream",
       "stream": "stdout",
       "text": [
        "\b\b\b\b\b\b\b\b\b\b\b\b\b\b\b\b\b\b\b\b\b\b\b\b\b\b\b\b\b\b\b\b\b\b\b\b\b\b\b\b\b\b\b\b\b\b\b\b\b\b\b\b\b\b\b\b\b\b\b\b\b\b\b\b\b\b\b\b\b\b\b\b\b\b\b\b\b\b\b\b\b\b\b\r",
        "36608/60000 [=================>............] - ETA: 5s - loss: 0.7638 - acc: 0.7867"
       ]
      },
      {
       "output_type": "stream",
       "stream": "stdout",
       "text": [
        "\b\b\b\b\b\b\b\b\b\b\b\b\b\b\b\b\b\b\b\b\b\b\b\b\b\b\b\b\b\b\b\b\b\b\b\b\b\b\b\b\b\b\b\b\b\b\b\b\b\b\b\b\b\b\b\b\b\b\b\b\b\b\b\b\b\b\b\b\b\b\b\b\b\b\b\b\b\b\b\b\b\b\b\r",
        "36736/60000 [=================>............] - ETA: 5s - loss: 0.7621 - acc: 0.7872"
       ]
      },
      {
       "output_type": "stream",
       "stream": "stdout",
       "text": [
        "\b\b\b\b\b\b\b\b\b\b\b\b\b\b\b\b\b\b\b\b\b\b\b\b\b\b\b\b\b\b\b\b\b\b\b\b\b\b\b\b\b\b\b\b\b\b\b\b\b\b\b\b\b\b\b\b\b\b\b\b\b\b\b\b\b\b\b\b\b\b\b\b\b\b\b\b\b\b\b\b\b\b\b\r",
        "36864/60000 [=================>............] - ETA: 5s - loss: 0.7608 - acc: 0.7875"
       ]
      },
      {
       "output_type": "stream",
       "stream": "stdout",
       "text": [
        "\b\b\b\b\b\b\b\b\b\b\b\b\b\b\b\b\b\b\b\b\b\b\b\b\b\b\b\b\b\b\b\b\b\b\b\b\b\b\b\b\b\b\b\b\b\b\b\b\b\b\b\b\b\b\b\b\b\b\b\b\b\b\b\b\b\b\b\b\b\b\b\b\b\b\b\b\b\b\b\b\b\b\b\r",
        "36992/60000 [=================>............] - ETA: 5s - loss: 0.7592 - acc: 0.7879"
       ]
      },
      {
       "output_type": "stream",
       "stream": "stdout",
       "text": [
        "\b\b\b\b\b\b\b\b\b\b\b\b\b\b\b\b\b\b\b\b\b\b\b\b\b\b\b\b\b\b\b\b\b\b\b\b\b\b\b\b\b\b\b\b\b\b\b\b\b\b\b\b\b\b\b\b\b\b\b\b\b\b\b\b\b\b\b\b\b\b\b\b\b\b\b\b\b\b\b\b\b\b\b\r",
        "37120/60000 [=================>............] - ETA: 5s - loss: 0.7578 - acc: 0.7884"
       ]
      },
      {
       "output_type": "stream",
       "stream": "stdout",
       "text": [
        "\b\b\b\b\b\b\b\b\b\b\b\b\b\b\b\b\b\b\b\b\b\b\b\b\b\b\b\b\b\b\b\b\b\b\b\b\b\b\b\b\b\b\b\b\b\b\b\b\b\b\b\b\b\b\b\b\b\b\b\b\b\b\b\b\b\b\b\b\b\b\b\b\b\b\b\b\b\b\b\b\b\b\b\r",
        "37248/60000 [=================>............] - ETA: 5s - loss: 0.7565 - acc: 0.7888"
       ]
      },
      {
       "output_type": "stream",
       "stream": "stdout",
       "text": [
        "\b\b\b\b\b\b\b\b\b\b\b\b\b\b\b\b\b\b\b\b\b\b\b\b\b\b\b\b\b\b\b\b\b\b\b\b\b\b\b\b\b\b\b\b\b\b\b\b\b\b\b\b\b\b\b\b\b\b\b\b\b\b\b\b\b\b\b\b\b\b\b\b\b\b\b\b\b\b\b\b\b\b\b\r",
        "37376/60000 [=================>............] - ETA: 5s - loss: 0.7548 - acc: 0.7893"
       ]
      },
      {
       "output_type": "stream",
       "stream": "stdout",
       "text": [
        "\b\b\b\b\b\b\b\b\b\b\b\b\b\b\b\b\b\b\b\b\b\b\b\b\b\b\b\b\b\b\b\b\b\b\b\b\b\b\b\b\b\b\b\b\b\b\b\b\b\b\b\b\b\b\b\b\b\b\b\b\b\b\b\b\b\b\b\b\b\b\b\b\b\b\b\b\b\b\b\b\b\b\b\r",
        "37504/60000 [=================>............] - ETA: 5s - loss: 0.7534 - acc: 0.7896"
       ]
      },
      {
       "output_type": "stream",
       "stream": "stdout",
       "text": [
        "\b\b\b\b\b\b\b\b\b\b\b\b\b\b\b\b\b\b\b\b\b\b\b\b\b\b\b\b\b\b\b\b\b\b\b\b\b\b\b\b\b\b\b\b\b\b\b\b\b\b\b\b\b\b\b\b\b\b\b\b\b\b\b\b\b\b\b\b\b\b\b\b\b\b\b\b\b\b\b\b\b\b\b\r",
        "37632/60000 [=================>............] - ETA: 5s - loss: 0.7520 - acc: 0.7900"
       ]
      },
      {
       "output_type": "stream",
       "stream": "stdout",
       "text": [
        "\b\b\b\b\b\b\b\b\b\b\b\b\b\b\b\b\b\b\b\b\b\b\b\b\b\b\b\b\b\b\b\b\b\b\b\b\b\b\b\b\b\b\b\b\b\b\b\b\b\b\b\b\b\b\b\b\b\b\b\b\b\b\b\b\b\b\b\b\b\b\b\b\b\b\b\b\b\b\b\b\b\b\b\r",
        "37760/60000 [=================>............] - ETA: 5s - loss: 0.7503 - acc: 0.7904"
       ]
      },
      {
       "output_type": "stream",
       "stream": "stdout",
       "text": [
        "\b\b\b\b\b\b\b\b\b\b\b\b\b\b\b\b\b\b\b\b\b\b\b\b\b\b\b\b\b\b\b\b\b\b\b\b\b\b\b\b\b\b\b\b\b\b\b\b\b\b\b\b\b\b\b\b\b\b\b\b\b\b\b\b\b\b\b\b\b\b\b\b\b\b\b\b\b\b\b\b\b\b\b\r",
        "37888/60000 [=================>............] - ETA: 5s - loss: 0.7490 - acc: 0.7908"
       ]
      },
      {
       "output_type": "stream",
       "stream": "stdout",
       "text": [
        "\b\b\b\b\b\b\b\b\b\b\b\b\b\b\b\b\b\b\b\b\b\b\b\b\b\b\b\b\b\b\b\b\b\b\b\b\b\b\b\b\b\b\b\b\b\b\b\b\b\b\b\b\b\b\b\b\b\b\b\b\b\b\b\b\b\b\b\b\b\b\b\b\b\b\b\b\b\b\b\b\b\b\b\r",
        "38016/60000 [==================>...........] - ETA: 5s - loss: 0.7477 - acc: 0.7910"
       ]
      },
      {
       "output_type": "stream",
       "stream": "stdout",
       "text": [
        "\b\b\b\b\b\b\b\b\b\b\b\b\b\b\b\b\b\b\b\b\b\b\b\b\b\b\b\b\b\b\b\b\b\b\b\b\b\b\b\b\b\b\b\b\b\b\b\b\b\b\b\b\b\b\b\b\b\b\b\b\b\b\b\b\b\b\b\b\b\b\b\b\b\b\b\b\b\b\b\b\b\b\b\r",
        "38144/60000 [==================>...........] - ETA: 4s - loss: 0.7463 - acc: 0.7914"
       ]
      },
      {
       "output_type": "stream",
       "stream": "stdout",
       "text": [
        "\b\b\b\b\b\b\b\b\b\b\b\b\b\b\b\b\b\b\b\b\b\b\b\b\b\b\b\b\b\b\b\b\b\b\b\b\b\b\b\b\b\b\b\b\b\b\b\b\b\b\b\b\b\b\b\b\b\b\b\b\b\b\b\b\b\b\b\b\b\b\b\b\b\b\b\b\b\b\b\b\b\b\b\r",
        "38272/60000 [==================>...........] - ETA: 4s - loss: 0.7449 - acc: 0.7918"
       ]
      },
      {
       "output_type": "stream",
       "stream": "stdout",
       "text": [
        "\b\b\b\b\b\b\b\b\b\b\b\b\b\b\b\b\b\b\b\b\b\b\b\b\b\b\b\b\b\b\b\b\b\b\b\b\b\b\b\b\b\b\b\b\b\b\b\b\b\b\b\b\b\b\b\b\b\b\b\b\b\b\b\b\b\b\b\b\b\b\b\b\b\b\b\b\b\b\b\b\b\b\b\r",
        "38400/60000 [==================>...........] - ETA: 4s - loss: 0.7440 - acc: 0.7919"
       ]
      },
      {
       "output_type": "stream",
       "stream": "stdout",
       "text": [
        "\b\b\b\b\b\b\b\b\b\b\b\b\b\b\b\b\b\b\b\b\b\b\b\b\b\b\b\b\b\b\b\b\b\b\b\b\b\b\b\b\b\b\b\b\b\b\b\b\b\b\b\b\b\b\b\b\b\b\b\b\b\b\b\b\b\b\b\b\b\b\b\b\b\b\b\b\b\b\b\b\b\b\b\r",
        "38528/60000 [==================>...........] - ETA: 4s - loss: 0.7430 - acc: 0.7922"
       ]
      },
      {
       "output_type": "stream",
       "stream": "stdout",
       "text": [
        "\b\b\b\b\b\b\b\b\b\b\b\b\b\b\b\b\b\b\b\b\b\b\b\b\b\b\b\b\b\b\b\b\b\b\b\b\b\b\b\b\b\b\b\b\b\b\b\b\b\b\b\b\b\b\b\b\b\b\b\b\b\b\b\b\b\b\b\b\b\b\b\b\b\b\b\b\b\b\b\b\b\b\b\r",
        "38656/60000 [==================>...........] - ETA: 4s - loss: 0.7416 - acc: 0.7927"
       ]
      },
      {
       "output_type": "stream",
       "stream": "stdout",
       "text": [
        "\b\b\b\b\b\b\b\b\b\b\b\b\b\b\b\b\b\b\b\b\b\b\b\b\b\b\b\b\b\b\b\b\b\b\b\b\b\b\b\b\b\b\b\b\b\b\b\b\b\b\b\b\b\b\b\b\b\b\b\b\b\b\b\b\b\b\b\b\b\b\b\b\b\b\b\b\b\b\b\b\b\b\b\r",
        "38784/60000 [==================>...........] - ETA: 4s - loss: 0.7403 - acc: 0.7931"
       ]
      },
      {
       "output_type": "stream",
       "stream": "stdout",
       "text": [
        "\b\b\b\b\b\b\b\b\b\b\b\b\b\b\b\b\b\b\b\b\b\b\b\b\b\b\b\b\b\b\b\b\b\b\b\b\b\b\b\b\b\b\b\b\b\b\b\b\b\b\b\b\b\b\b\b\b\b\b\b\b\b\b\b\b\b\b\b\b\b\b\b\b\b\b\b\b\b\b\b\b\b\b\r",
        "38912/60000 [==================>...........] - ETA: 4s - loss: 0.7389 - acc: 0.7935"
       ]
      },
      {
       "output_type": "stream",
       "stream": "stdout",
       "text": [
        "\b\b\b\b\b\b\b\b\b\b\b\b\b\b\b\b\b\b\b\b\b\b\b\b\b\b\b\b\b\b\b\b\b\b\b\b\b\b\b\b\b\b\b\b\b\b\b\b\b\b\b\b\b\b\b\b\b\b\b\b\b\b\b\b\b\b\b\b\b\b\b\b\b\b\b\b\b\b\b\b\b\b\b\r",
        "39040/60000 [==================>...........] - ETA: 4s - loss: 0.7381 - acc: 0.7937"
       ]
      },
      {
       "output_type": "stream",
       "stream": "stdout",
       "text": [
        "\b\b\b\b\b\b\b\b\b\b\b\b\b\b\b\b\b\b\b\b\b\b\b\b\b\b\b\b\b\b\b\b\b\b\b\b\b\b\b\b\b\b\b\b\b\b\b\b\b\b\b\b\b\b\b\b\b\b\b\b\b\b\b\b\b\b\b\b\b\b\b\b\b\b\b\b\b\b\b\b\b\b\b\r",
        "39168/60000 [==================>...........] - ETA: 4s - loss: 0.7369 - acc: 0.7940"
       ]
      },
      {
       "output_type": "stream",
       "stream": "stdout",
       "text": [
        "\b\b\b\b\b\b\b\b\b\b\b\b\b\b\b\b\b\b\b\b\b\b\b\b\b\b\b\b\b\b\b\b\b\b\b\b\b\b\b\b\b\b\b\b\b\b\b\b\b\b\b\b\b\b\b\b\b\b\b\b\b\b\b\b\b\b\b\b\b\b\b\b\b\b\b\b\b\b\b\b\b\b\b\r",
        "39296/60000 [==================>...........] - ETA: 4s - loss: 0.7353 - acc: 0.7943"
       ]
      },
      {
       "output_type": "stream",
       "stream": "stdout",
       "text": [
        "\b\b\b\b\b\b\b\b\b\b\b\b\b\b\b\b\b\b\b\b\b\b\b\b\b\b\b\b\b\b\b\b\b\b\b\b\b\b\b\b\b\b\b\b\b\b\b\b\b\b\b\b\b\b\b\b\b\b\b\b\b\b\b\b\b\b\b\b\b\b\b\b\b\b\b\b\b\b\b\b\b\b\b\r",
        "39424/60000 [==================>...........] - ETA: 4s - loss: 0.7337 - acc: 0.7948"
       ]
      },
      {
       "output_type": "stream",
       "stream": "stdout",
       "text": [
        "\b\b\b\b\b\b\b\b\b\b\b\b\b\b\b\b\b\b\b\b\b\b\b\b\b\b\b\b\b\b\b\b\b\b\b\b\b\b\b\b\b\b\b\b\b\b\b\b\b\b\b\b\b\b\b\b\b\b\b\b\b\b\b\b\b\b\b\b\b\b\b\b\b\b\b\b\b\b\b\b\b\b\b\r",
        "39552/60000 [==================>...........] - ETA: 4s - loss: 0.7326 - acc: 0.7951"
       ]
      },
      {
       "output_type": "stream",
       "stream": "stdout",
       "text": [
        "\b\b\b\b\b\b\b\b\b\b\b\b\b\b\b\b\b\b\b\b\b\b\b\b\b\b\b\b\b\b\b\b\b\b\b\b\b\b\b\b\b\b\b\b\b\b\b\b\b\b\b\b\b\b\b\b\b\b\b\b\b\b\b\b\b\b\b\b\b\b\b\b\b\b\b\b\b\b\b\b\b\b\b\r",
        "39680/60000 [==================>...........] - ETA: 4s - loss: 0.7310 - acc: 0.7955"
       ]
      },
      {
       "output_type": "stream",
       "stream": "stdout",
       "text": [
        "\b\b\b\b\b\b\b\b\b\b\b\b\b\b\b\b\b\b\b\b\b\b\b\b\b\b\b\b\b\b\b\b\b\b\b\b\b\b\b\b\b\b\b\b\b\b\b\b\b\b\b\b\b\b\b\b\b\b\b\b\b\b\b\b\b\b\b\b\b\b\b\b\b\b\b\b\b\b\b\b\b\b\b\r",
        "39808/60000 [==================>...........] - ETA: 4s - loss: 0.7298 - acc: 0.7957"
       ]
      },
      {
       "output_type": "stream",
       "stream": "stdout",
       "text": [
        "\b\b\b\b\b\b\b\b\b\b\b\b\b\b\b\b\b\b\b\b\b\b\b\b\b\b\b\b\b\b\b\b\b\b\b\b\b\b\b\b\b\b\b\b\b\b\b\b\b\b\b\b\b\b\b\b\b\b\b\b\b\b\b\b\b\b\b\b\b\b\b\b\b\b\b\b\b\b\b\b\b\b\b\r",
        "39936/60000 [==================>...........] - ETA: 4s - loss: 0.7285 - acc: 0.7961"
       ]
      },
      {
       "output_type": "stream",
       "stream": "stdout",
       "text": [
        "\b\b\b\b\b\b\b\b\b\b\b\b\b\b\b\b\b\b\b\b\b\b\b\b\b\b\b\b\b\b\b\b\b\b\b\b\b\b\b\b\b\b\b\b\b\b\b\b\b\b\b\b\b\b\b\b\b\b\b\b\b\b\b\b\b\b\b\b\b\b\b\b\b\b\b\b\b\b\b\b\b\b\b\r",
        "40064/60000 [===================>..........] - ETA: 4s - loss: 0.7270 - acc: 0.7966"
       ]
      },
      {
       "output_type": "stream",
       "stream": "stdout",
       "text": [
        "\b\b\b\b\b\b\b\b\b\b\b\b\b\b\b\b\b\b\b\b\b\b\b\b\b\b\b\b\b\b\b\b\b\b\b\b\b\b\b\b\b\b\b\b\b\b\b\b\b\b\b\b\b\b\b\b\b\b\b\b\b\b\b\b\b\b\b\b\b\b\b\b\b\b\b\b\b\b\b\b\b\b\b\r",
        "40192/60000 [===================>..........] - ETA: 4s - loss: 0.7258 - acc: 0.7969"
       ]
      },
      {
       "output_type": "stream",
       "stream": "stdout",
       "text": [
        "\b\b\b\b\b\b\b\b\b\b\b\b\b\b\b\b\b\b\b\b\b\b\b\b\b\b\b\b\b\b\b\b\b\b\b\b\b\b\b\b\b\b\b\b\b\b\b\b\b\b\b\b\b\b\b\b\b\b\b\b\b\b\b\b\b\b\b\b\b\b\b\b\b\b\b\b\b\b\b\b\b\b\b\r",
        "40320/60000 [===================>..........] - ETA: 4s - loss: 0.7246 - acc: 0.7972"
       ]
      },
      {
       "output_type": "stream",
       "stream": "stdout",
       "text": [
        "\b\b\b\b\b\b\b\b\b\b\b\b\b\b\b\b\b\b\b\b\b\b\b\b\b\b\b\b\b\b\b\b\b\b\b\b\b\b\b\b\b\b\b\b\b\b\b\b\b\b\b\b\b\b\b\b\b\b\b\b\b\b\b\b\b\b\b\b\b\b\b\b\b\b\b\b\b\b\b\b\b\b\b\r",
        "40448/60000 [===================>..........] - ETA: 4s - loss: 0.7234 - acc: 0.7974"
       ]
      },
      {
       "output_type": "stream",
       "stream": "stdout",
       "text": [
        "\b\b\b\b\b\b\b\b\b\b\b\b\b\b\b\b\b\b\b\b\b\b\b\b\b\b\b\b\b\b\b\b\b\b\b\b\b\b\b\b\b\b\b\b\b\b\b\b\b\b\b\b\b\b\b\b\b\b\b\b\b\b\b\b\b\b\b\b\b\b\b\b\b\b\b\b\b\b\b\b\b\b\b\r",
        "40576/60000 [===================>..........] - ETA: 4s - loss: 0.7225 - acc: 0.7978"
       ]
      },
      {
       "output_type": "stream",
       "stream": "stdout",
       "text": [
        "\b\b\b\b\b\b\b\b\b\b\b\b\b\b\b\b\b\b\b\b\b\b\b\b\b\b\b\b\b\b\b\b\b\b\b\b\b\b\b\b\b\b\b\b\b\b\b\b\b\b\b\b\b\b\b\b\b\b\b\b\b\b\b\b\b\b\b\b\b\b\b\b\b\b\b\b\b\b\b\b\b\b\b\r",
        "40704/60000 [===================>..........] - ETA: 4s - loss: 0.7212 - acc: 0.7981"
       ]
      },
      {
       "output_type": "stream",
       "stream": "stdout",
       "text": [
        "\b\b\b\b\b\b\b\b\b\b\b\b\b\b\b\b\b\b\b\b\b\b\b\b\b\b\b\b\b\b\b\b\b\b\b\b\b\b\b\b\b\b\b\b\b\b\b\b\b\b\b\b\b\b\b\b\b\b\b\b\b\b\b\b\b\b\b\b\b\b\b\b\b\b\b\b\b\b\b\b\b\b\b\r",
        "40832/60000 [===================>..........] - ETA: 4s - loss: 0.7202 - acc: 0.7983"
       ]
      },
      {
       "output_type": "stream",
       "stream": "stdout",
       "text": [
        "\b\b\b\b\b\b\b\b\b\b\b\b\b\b\b\b\b\b\b\b\b\b\b\b\b\b\b\b\b\b\b\b\b\b\b\b\b\b\b\b\b\b\b\b\b\b\b\b\b\b\b\b\b\b\b\b\b\b\b\b\b\b\b\b\b\b\b\b\b\b\b\b\b\b\b\b\b\b\b\b\b\b\b\r",
        "40960/60000 [===================>..........] - ETA: 4s - loss: 0.7191 - acc: 0.7987"
       ]
      },
      {
       "output_type": "stream",
       "stream": "stdout",
       "text": [
        "\b\b\b\b\b\b\b\b\b\b\b\b\b\b\b\b\b\b\b\b\b\b\b\b\b\b\b\b\b\b\b\b\b\b\b\b\b\b\b\b\b\b\b\b\b\b\b\b\b\b\b\b\b\b\b\b\b\b\b\b\b\b\b\b\b\b\b\b\b\b\b\b\b\b\b\b\b\b\b\b\b\b\b\r",
        "41088/60000 [===================>..........] - ETA: 4s - loss: 0.7177 - acc: 0.7990"
       ]
      },
      {
       "output_type": "stream",
       "stream": "stdout",
       "text": [
        "\b\b\b\b\b\b\b\b\b\b\b\b\b\b\b\b\b\b\b\b\b\b\b\b\b\b\b\b\b\b\b\b\b\b\b\b\b\b\b\b\b\b\b\b\b\b\b\b\b\b\b\b\b\b\b\b\b\b\b\b\b\b\b\b\b\b\b\b\b\b\b\b\b\b\b\b\b\b\b\b\b\b\b\r",
        "41216/60000 [===================>..........] - ETA: 4s - loss: 0.7168 - acc: 0.7993"
       ]
      },
      {
       "output_type": "stream",
       "stream": "stdout",
       "text": [
        "\b\b\b\b\b\b\b\b\b\b\b\b\b\b\b\b\b\b\b\b\b\b\b\b\b\b\b\b\b\b\b\b\b\b\b\b\b\b\b\b\b\b\b\b\b\b\b\b\b\b\b\b\b\b\b\b\b\b\b\b\b\b\b\b\b\b\b\b\b\b\b\b\b\b\b\b\b\b\b\b\b\b\b\r",
        "41344/60000 [===================>..........] - ETA: 4s - loss: 0.7155 - acc: 0.7996"
       ]
      },
      {
       "output_type": "stream",
       "stream": "stdout",
       "text": [
        "\b\b\b\b\b\b\b\b\b\b\b\b\b\b\b\b\b\b\b\b\b\b\b\b\b\b\b\b\b\b\b\b\b\b\b\b\b\b\b\b\b\b\b\b\b\b\b\b\b\b\b\b\b\b\b\b\b\b\b\b\b\b\b\b\b\b\b\b\b\b\b\b\b\b\b\b\b\b\b\b\b\b\b\r",
        "41472/60000 [===================>..........] - ETA: 4s - loss: 0.7141 - acc: 0.8001"
       ]
      },
      {
       "output_type": "stream",
       "stream": "stdout",
       "text": [
        "\b\b\b\b\b\b\b\b\b\b\b\b\b\b\b\b\b\b\b\b\b\b\b\b\b\b\b\b\b\b\b\b\b\b\b\b\b\b\b\b\b\b\b\b\b\b\b\b\b\b\b\b\b\b\b\b\b\b\b\b\b\b\b\b\b\b\b\b\b\b\b\b\b\b\b\b\b\b\b\b\b\b\b\r",
        "41600/60000 [===================>..........] - ETA: 4s - loss: 0.7126 - acc: 0.8005"
       ]
      },
      {
       "output_type": "stream",
       "stream": "stdout",
       "text": [
        "\b\b\b\b\b\b\b\b\b\b\b\b\b\b\b\b\b\b\b\b\b\b\b\b\b\b\b\b\b\b\b\b\b\b\b\b\b\b\b\b\b\b\b\b\b\b\b\b\b\b\b\b\b\b\b\b\b\b\b\b\b\b\b\b\b\b\b\b\b\b\b\b\b\b\b\b\b\b\b\b\b\b\b\r",
        "41728/60000 [===================>..........] - ETA: 4s - loss: 0.7114 - acc: 0.8008"
       ]
      },
      {
       "output_type": "stream",
       "stream": "stdout",
       "text": [
        "\b\b\b\b\b\b\b\b\b\b\b\b\b\b\b\b\b\b\b\b\b\b\b\b\b\b\b\b\b\b\b\b\b\b\b\b\b\b\b\b\b\b\b\b\b\b\b\b\b\b\b\b\b\b\b\b\b\b\b\b\b\b\b\b\b\b\b\b\b\b\b\b\b\b\b\b\b\b\b\b\b\b\b\r",
        "41856/60000 [===================>..........] - ETA: 4s - loss: 0.7107 - acc: 0.8009"
       ]
      },
      {
       "output_type": "stream",
       "stream": "stdout",
       "text": [
        "\b\b\b\b\b\b\b\b\b\b\b\b\b\b\b\b\b\b\b\b\b\b\b\b\b\b\b\b\b\b\b\b\b\b\b\b\b\b\b\b\b\b\b\b\b\b\b\b\b\b\b\b\b\b\b\b\b\b\b\b\b\b\b\b\b\b\b\b\b\b\b\b\b\b\b\b\b\b\b\b\b\b\b\r",
        "41984/60000 [===================>..........] - ETA: 4s - loss: 0.7095 - acc: 0.8011"
       ]
      },
      {
       "output_type": "stream",
       "stream": "stdout",
       "text": [
        "\b\b\b\b\b\b\b\b\b\b\b\b\b\b\b\b\b\b\b\b\b\b\b\b\b\b\b\b\b\b\b\b\b\b\b\b\b\b\b\b\b\b\b\b\b\b\b\b\b\b\b\b\b\b\b\b\b\b\b\b\b\b\b\b\b\b\b\b\b\b\b\b\b\b\b\b\b\b\b\b\b\b\b\r",
        "42112/60000 [====================>.........] - ETA: 4s - loss: 0.7085 - acc: 0.8015"
       ]
      },
      {
       "output_type": "stream",
       "stream": "stdout",
       "text": [
        "\b\b\b\b\b\b\b\b\b\b\b\b\b\b\b\b\b\b\b\b\b\b\b\b\b\b\b\b\b\b\b\b\b\b\b\b\b\b\b\b\b\b\b\b\b\b\b\b\b\b\b\b\b\b\b\b\b\b\b\b\b\b\b\b\b\b\b\b\b\b\b\b\b\b\b\b\b\b\b\b\b\b\b\r",
        "42240/60000 [====================>.........] - ETA: 4s - loss: 0.7072 - acc: 0.8018"
       ]
      },
      {
       "output_type": "stream",
       "stream": "stdout",
       "text": [
        "\b\b\b\b\b\b\b\b\b\b\b\b\b\b\b\b\b\b\b\b\b\b\b\b\b\b\b\b\b\b\b\b\b\b\b\b\b\b\b\b\b\b\b\b\b\b\b\b\b\b\b\b\b\b\b\b\b\b\b\b\b\b\b\b\b\b\b\b\b\b\b\b\b\b\b\b\b\b\b\b\b\b\b\r",
        "42368/60000 [====================>.........] - ETA: 4s - loss: 0.7064 - acc: 0.8020"
       ]
      },
      {
       "output_type": "stream",
       "stream": "stdout",
       "text": [
        "\b\b\b\b\b\b\b\b\b\b\b\b\b\b\b\b\b\b\b\b\b\b\b\b\b\b\b\b\b\b\b\b\b\b\b\b\b\b\b\b\b\b\b\b\b\b\b\b\b\b\b\b\b\b\b\b\b\b\b\b\b\b\b\b\b\b\b\b\b\b\b\b\b\b\b\b\b\b\b\b\b\b\b\r",
        "42496/60000 [====================>.........] - ETA: 4s - loss: 0.7053 - acc: 0.8023"
       ]
      },
      {
       "output_type": "stream",
       "stream": "stdout",
       "text": [
        "\b\b\b\b\b\b\b\b\b\b\b\b\b\b\b\b\b\b\b\b\b\b\b\b\b\b\b\b\b\b\b\b\b\b\b\b\b\b\b\b\b\b\b\b\b\b\b\b\b\b\b\b\b\b\b\b\b\b\b\b\b\b\b\b\b\b\b\b\b\b\b\b\b\b\b\b\b\b\b\b\b\b\b\r",
        "42624/60000 [====================>.........] - ETA: 3s - loss: 0.7045 - acc: 0.8025"
       ]
      },
      {
       "output_type": "stream",
       "stream": "stdout",
       "text": [
        "\b\b\b\b\b\b\b\b\b\b\b\b\b\b\b\b\b\b\b\b\b\b\b\b\b\b\b\b\b\b\b\b\b\b\b\b\b\b\b\b\b\b\b\b\b\b\b\b\b\b\b\b\b\b\b\b\b\b\b\b\b\b\b\b\b\b\b\b\b\b\b\b\b\b\b\b\b\b\b\b\b\b\b\r",
        "42752/60000 [====================>.........] - ETA: 3s - loss: 0.7032 - acc: 0.8027"
       ]
      },
      {
       "output_type": "stream",
       "stream": "stdout",
       "text": [
        "\b\b\b\b\b\b\b\b\b\b\b\b\b\b\b\b\b\b\b\b\b\b\b\b\b\b\b\b\b\b\b\b\b\b\b\b\b\b\b\b\b\b\b\b\b\b\b\b\b\b\b\b\b\b\b\b\b\b\b\b\b\b\b\b\b\b\b\b\b\b\b\b\b\b\b\b\b\b\b\b\b\b\b\r",
        "42880/60000 [====================>.........] - ETA: 3s - loss: 0.7022 - acc: 0.8030"
       ]
      },
      {
       "output_type": "stream",
       "stream": "stdout",
       "text": [
        "\b\b\b\b\b\b\b\b\b\b\b\b\b\b\b\b\b\b\b\b\b\b\b\b\b\b\b\b\b\b\b\b\b\b\b\b\b\b\b\b\b\b\b\b\b\b\b\b\b\b\b\b\b\b\b\b\b\b\b\b\b\b\b\b\b\b\b\b\b\b\b\b\b\b\b\b\b\b\b\b\b\b\b\r",
        "43008/60000 [====================>.........] - ETA: 3s - loss: 0.7010 - acc: 0.8033"
       ]
      },
      {
       "output_type": "stream",
       "stream": "stdout",
       "text": [
        "\b\b\b\b\b\b\b\b\b\b\b\b\b\b\b\b\b\b\b\b\b\b\b\b\b\b\b\b\b\b\b\b\b\b\b\b\b\b\b\b\b\b\b\b\b\b\b\b\b\b\b\b\b\b\b\b\b\b\b\b\b\b\b\b\b\b\b\b\b\b\b\b\b\b\b\b\b\b\b\b\b\b\b\r",
        "43136/60000 [====================>.........] - ETA: 3s - loss: 0.7002 - acc: 0.8035"
       ]
      },
      {
       "output_type": "stream",
       "stream": "stdout",
       "text": [
        "\b\b\b\b\b\b\b\b\b\b\b\b\b\b\b\b\b\b\b\b\b\b\b\b\b\b\b\b\b\b\b\b\b\b\b\b\b\b\b\b\b\b\b\b\b\b\b\b\b\b\b\b\b\b\b\b\b\b\b\b\b\b\b\b\b\b\b\b\b\b\b\b\b\b\b\b\b\b\b\b\b\b\b\r",
        "43264/60000 [====================>.........] - ETA: 3s - loss: 0.6990 - acc: 0.8038"
       ]
      },
      {
       "output_type": "stream",
       "stream": "stdout",
       "text": [
        "\b\b\b\b\b\b\b\b\b\b\b\b\b\b\b\b\b\b\b\b\b\b\b\b\b\b\b\b\b\b\b\b\b\b\b\b\b\b\b\b\b\b\b\b\b\b\b\b\b\b\b\b\b\b\b\b\b\b\b\b\b\b\b\b\b\b\b\b\b\b\b\b\b\b\b\b\b\b\b\b\b\b\b\r",
        "43392/60000 [====================>.........] - ETA: 3s - loss: 0.6981 - acc: 0.8040"
       ]
      },
      {
       "output_type": "stream",
       "stream": "stdout",
       "text": [
        "\b\b\b\b\b\b\b\b\b\b\b\b\b\b\b\b\b\b\b\b\b\b\b\b\b\b\b\b\b\b\b\b\b\b\b\b\b\b\b\b\b\b\b\b\b\b\b\b\b\b\b\b\b\b\b\b\b\b\b\b\b\b\b\b\b\b\b\b\b\b\b\b\b\b\b\b\b\b\b\b\b\b\b\r",
        "43520/60000 [====================>.........] - ETA: 3s - loss: 0.6968 - acc: 0.8044"
       ]
      },
      {
       "output_type": "stream",
       "stream": "stdout",
       "text": [
        "\b\b\b\b\b\b\b\b\b\b\b\b\b\b\b\b\b\b\b\b\b\b\b\b\b\b\b\b\b\b\b\b\b\b\b\b\b\b\b\b\b\b\b\b\b\b\b\b\b\b\b\b\b\b\b\b\b\b\b\b\b\b\b\b\b\b\b\b\b\b\b\b\b\b\b\b\b\b\b\b\b\b\b\r",
        "43648/60000 [====================>.........] - ETA: 3s - loss: 0.6960 - acc: 0.8046"
       ]
      },
      {
       "output_type": "stream",
       "stream": "stdout",
       "text": [
        "\b\b\b\b\b\b\b\b\b\b\b\b\b\b\b\b\b\b\b\b\b\b\b\b\b\b\b\b\b\b\b\b\b\b\b\b\b\b\b\b\b\b\b\b\b\b\b\b\b\b\b\b\b\b\b\b\b\b\b\b\b\b\b\b\b\b\b\b\b\b\b\b\b\b\b\b\b\b\b\b\b\b\b\r",
        "43776/60000 [====================>.........] - ETA: 3s - loss: 0.6949 - acc: 0.8050"
       ]
      },
      {
       "output_type": "stream",
       "stream": "stdout",
       "text": [
        "\b\b\b\b\b\b\b\b\b\b\b\b\b\b\b\b\b\b\b\b\b\b\b\b\b\b\b\b\b\b\b\b\b\b\b\b\b\b\b\b\b\b\b\b\b\b\b\b\b\b\b\b\b\b\b\b\b\b\b\b\b\b\b\b\b\b\b\b\b\b\b\b\b\b\b\b\b\b\b\b\b\b\b\r",
        "43904/60000 [====================>.........] - ETA: 3s - loss: 0.6944 - acc: 0.8051"
       ]
      },
      {
       "output_type": "stream",
       "stream": "stdout",
       "text": [
        "\b\b\b\b\b\b\b\b\b\b\b\b\b\b\b\b\b\b\b\b\b\b\b\b\b\b\b\b\b\b\b\b\b\b\b\b\b\b\b\b\b\b\b\b\b\b\b\b\b\b\b\b\b\b\b\b\b\b\b\b\b\b\b\b\b\b\b\b\b\b\b\b\b\b\b\b\b\b\b\b\b\b\b\r",
        "44032/60000 [=====================>........] - ETA: 3s - loss: 0.6930 - acc: 0.8055"
       ]
      },
      {
       "output_type": "stream",
       "stream": "stdout",
       "text": [
        "\b\b\b\b\b\b\b\b\b\b\b\b\b\b\b\b\b\b\b\b\b\b\b\b\b\b\b\b\b\b\b\b\b\b\b\b\b\b\b\b\b\b\b\b\b\b\b\b\b\b\b\b\b\b\b\b\b\b\b\b\b\b\b\b\b\b\b\b\b\b\b\b\b\b\b\b\b\b\b\b\b\b\b\r",
        "44160/60000 [=====================>........] - ETA: 3s - loss: 0.6918 - acc: 0.8058"
       ]
      },
      {
       "output_type": "stream",
       "stream": "stdout",
       "text": [
        "\b\b\b\b\b\b\b\b\b\b\b\b\b\b\b\b\b\b\b\b\b\b\b\b\b\b\b\b\b\b\b\b\b\b\b\b\b\b\b\b\b\b\b\b\b\b\b\b\b\b\b\b\b\b\b\b\b\b\b\b\b\b\b\b\b\b\b\b\b\b\b\b\b\b\b\b\b\b\b\b\b\b\b\r",
        "44288/60000 [=====================>........] - ETA: 3s - loss: 0.6908 - acc: 0.8061"
       ]
      },
      {
       "output_type": "stream",
       "stream": "stdout",
       "text": [
        "\b\b\b\b\b\b\b\b\b\b\b\b\b\b\b\b\b\b\b\b\b\b\b\b\b\b\b\b\b\b\b\b\b\b\b\b\b\b\b\b\b\b\b\b\b\b\b\b\b\b\b\b\b\b\b\b\b\b\b\b\b\b\b\b\b\b\b\b\b\b\b\b\b\b\b\b\b\b\b\b\b\b\b\r",
        "44416/60000 [=====================>........] - ETA: 3s - loss: 0.6896 - acc: 0.8064"
       ]
      },
      {
       "output_type": "stream",
       "stream": "stdout",
       "text": [
        "\b\b\b\b\b\b\b\b\b\b\b\b\b\b\b\b\b\b\b\b\b\b\b\b\b\b\b\b\b\b\b\b\b\b\b\b\b\b\b\b\b\b\b\b\b\b\b\b\b\b\b\b\b\b\b\b\b\b\b\b\b\b\b\b\b\b\b\b\b\b\b\b\b\b\b\b\b\b\b\b\b\b\b\r",
        "44544/60000 [=====================>........] - ETA: 3s - loss: 0.6882 - acc: 0.8068"
       ]
      },
      {
       "output_type": "stream",
       "stream": "stdout",
       "text": [
        "\b\b\b\b\b\b\b\b\b\b\b\b\b\b\b\b\b\b\b\b\b\b\b\b\b\b\b\b\b\b\b\b\b\b\b\b\b\b\b\b\b\b\b\b\b\b\b\b\b\b\b\b\b\b\b\b\b\b\b\b\b\b\b\b\b\b\b\b\b\b\b\b\b\b\b\b\b\b\b\b\b\b\b\r",
        "44672/60000 [=====================>........] - ETA: 3s - loss: 0.6873 - acc: 0.8070"
       ]
      },
      {
       "output_type": "stream",
       "stream": "stdout",
       "text": [
        "\b\b\b\b\b\b\b\b\b\b\b\b\b\b\b\b\b\b\b\b\b\b\b\b\b\b\b\b\b\b\b\b\b\b\b\b\b\b\b\b\b\b\b\b\b\b\b\b\b\b\b\b\b\b\b\b\b\b\b\b\b\b\b\b\b\b\b\b\b\b\b\b\b\b\b\b\b\b\b\b\b\b\b\r",
        "44800/60000 [=====================>........] - ETA: 3s - loss: 0.6864 - acc: 0.8073"
       ]
      },
      {
       "output_type": "stream",
       "stream": "stdout",
       "text": [
        "\b\b\b\b\b\b\b\b\b\b\b\b\b\b\b\b\b\b\b\b\b\b\b\b\b\b\b\b\b\b\b\b\b\b\b\b\b\b\b\b\b\b\b\b\b\b\b\b\b\b\b\b\b\b\b\b\b\b\b\b\b\b\b\b\b\b\b\b\b\b\b\b\b\b\b\b\b\b\b\b\b\b\b\r",
        "44928/60000 [=====================>........] - ETA: 3s - loss: 0.6855 - acc: 0.8075"
       ]
      },
      {
       "output_type": "stream",
       "stream": "stdout",
       "text": [
        "\b\b\b\b\b\b\b\b\b\b\b\b\b\b\b\b\b\b\b\b\b\b\b\b\b\b\b\b\b\b\b\b\b\b\b\b\b\b\b\b\b\b\b\b\b\b\b\b\b\b\b\b\b\b\b\b\b\b\b\b\b\b\b\b\b\b\b\b\b\b\b\b\b\b\b\b\b\b\b\b\b\b\b\r",
        "45056/60000 [=====================>........] - ETA: 3s - loss: 0.6844 - acc: 0.8078"
       ]
      },
      {
       "output_type": "stream",
       "stream": "stdout",
       "text": [
        "\b\b\b\b\b\b\b\b\b\b\b\b\b\b\b\b\b\b\b\b\b\b\b\b\b\b\b\b\b\b\b\b\b\b\b\b\b\b\b\b\b\b\b\b\b\b\b\b\b\b\b\b\b\b\b\b\b\b\b\b\b\b\b\b\b\b\b\b\b\b\b\b\b\b\b\b\b\b\b\b\b\b\b\r",
        "45184/60000 [=====================>........] - ETA: 3s - loss: 0.6834 - acc: 0.8081"
       ]
      },
      {
       "output_type": "stream",
       "stream": "stdout",
       "text": [
        "\b\b\b\b\b\b\b\b\b\b\b\b\b\b\b\b\b\b\b\b\b\b\b\b\b\b\b\b\b\b\b\b\b\b\b\b\b\b\b\b\b\b\b\b\b\b\b\b\b\b\b\b\b\b\b\b\b\b\b\b\b\b\b\b\b\b\b\b\b\b\b\b\b\b\b\b\b\b\b\b\b\b\b\r",
        "45312/60000 [=====================>........] - ETA: 3s - loss: 0.6823 - acc: 0.8084"
       ]
      },
      {
       "output_type": "stream",
       "stream": "stdout",
       "text": [
        "\b\b\b\b\b\b\b\b\b\b\b\b\b\b\b\b\b\b\b\b\b\b\b\b\b\b\b\b\b\b\b\b\b\b\b\b\b\b\b\b\b\b\b\b\b\b\b\b\b\b\b\b\b\b\b\b\b\b\b\b\b\b\b\b\b\b\b\b\b\b\b\b\b\b\b\b\b\b\b\b\b\b\b\r",
        "45440/60000 [=====================>........] - ETA: 3s - loss: 0.6812 - acc: 0.8087"
       ]
      },
      {
       "output_type": "stream",
       "stream": "stdout",
       "text": [
        "\b\b\b\b\b\b\b\b\b\b\b\b\b\b\b\b\b\b\b\b\b\b\b\b\b\b\b\b\b\b\b\b\b\b\b\b\b\b\b\b\b\b\b\b\b\b\b\b\b\b\b\b\b\b\b\b\b\b\b\b\b\b\b\b\b\b\b\b\b\b\b\b\b\b\b\b\b\b\b\b\b\b\b\r",
        "45568/60000 [=====================>........] - ETA: 3s - loss: 0.6799 - acc: 0.8090"
       ]
      },
      {
       "output_type": "stream",
       "stream": "stdout",
       "text": [
        "\b\b\b\b\b\b\b\b\b\b\b\b\b\b\b\b\b\b\b\b\b\b\b\b\b\b\b\b\b\b\b\b\b\b\b\b\b\b\b\b\b\b\b\b\b\b\b\b\b\b\b\b\b\b\b\b\b\b\b\b\b\b\b\b\b\b\b\b\b\b\b\b\b\b\b\b\b\b\b\b\b\b\b\r",
        "45696/60000 [=====================>........] - ETA: 3s - loss: 0.6785 - acc: 0.8094"
       ]
      },
      {
       "output_type": "stream",
       "stream": "stdout",
       "text": [
        "\b\b\b\b\b\b\b\b\b\b\b\b\b\b\b\b\b\b\b\b\b\b\b\b\b\b\b\b\b\b\b\b\b\b\b\b\b\b\b\b\b\b\b\b\b\b\b\b\b\b\b\b\b\b\b\b\b\b\b\b\b\b\b\b\b\b\b\b\b\b\b\b\b\b\b\b\b\b\b\b\b\b\b\r",
        "45824/60000 [=====================>........] - ETA: 3s - loss: 0.6774 - acc: 0.8098"
       ]
      },
      {
       "output_type": "stream",
       "stream": "stdout",
       "text": [
        "\b\b\b\b\b\b\b\b\b\b\b\b\b\b\b\b\b\b\b\b\b\b\b\b\b\b\b\b\b\b\b\b\b\b\b\b\b\b\b\b\b\b\b\b\b\b\b\b\b\b\b\b\b\b\b\b\b\b\b\b\b\b\b\b\b\b\b\b\b\b\b\b\b\b\b\b\b\b\b\b\b\b\b\r",
        "45952/60000 [=====================>........] - ETA: 3s - loss: 0.6763 - acc: 0.8101"
       ]
      },
      {
       "output_type": "stream",
       "stream": "stdout",
       "text": [
        "\b\b\b\b\b\b\b\b\b\b\b\b\b\b\b\b\b\b\b\b\b\b\b\b\b\b\b\b\b\b\b\b\b\b\b\b\b\b\b\b\b\b\b\b\b\b\b\b\b\b\b\b\b\b\b\b\b\b\b\b\b\b\b\b\b\b\b\b\b\b\b\b\b\b\b\b\b\b\b\b\b\b\b\r",
        "46080/60000 [======================>.......] - ETA: 3s - loss: 0.6752 - acc: 0.8104"
       ]
      },
      {
       "output_type": "stream",
       "stream": "stdout",
       "text": [
        "\b\b\b\b\b\b\b\b\b\b\b\b\b\b\b\b\b\b\b\b\b\b\b\b\b\b\b\b\b\b\b\b\b\b\b\b\b\b\b\b\b\b\b\b\b\b\b\b\b\b\b\b\b\b\b\b\b\b\b\b\b\b\b\b\b\b\b\b\b\b\b\b\b\b\b\b\b\b\b\b\b\b\b\r",
        "46208/60000 [======================>.......] - ETA: 3s - loss: 0.6743 - acc: 0.8107"
       ]
      },
      {
       "output_type": "stream",
       "stream": "stdout",
       "text": [
        "\b\b\b\b\b\b\b\b\b\b\b\b\b\b\b\b\b\b\b\b\b\b\b\b\b\b\b\b\b\b\b\b\b\b\b\b\b\b\b\b\b\b\b\b\b\b\b\b\b\b\b\b\b\b\b\b\b\b\b\b\b\b\b\b\b\b\b\b\b\b\b\b\b\b\b\b\b\b\b\b\b\b\b\r",
        "46336/60000 [======================>.......] - ETA: 3s - loss: 0.6733 - acc: 0.8109"
       ]
      },
      {
       "output_type": "stream",
       "stream": "stdout",
       "text": [
        "\b\b\b\b\b\b\b\b\b\b\b\b\b\b\b\b\b\b\b\b\b\b\b\b\b\b\b\b\b\b\b\b\b\b\b\b\b\b\b\b\b\b\b\b\b\b\b\b\b\b\b\b\b\b\b\b\b\b\b\b\b\b\b\b\b\b\b\b\b\b\b\b\b\b\b\b\b\b\b\b\b\b\b\r",
        "46464/60000 [======================>.......] - ETA: 3s - loss: 0.6722 - acc: 0.8112"
       ]
      },
      {
       "output_type": "stream",
       "stream": "stdout",
       "text": [
        "\b\b\b\b\b\b\b\b\b\b\b\b\b\b\b\b\b\b\b\b\b\b\b\b\b\b\b\b\b\b\b\b\b\b\b\b\b\b\b\b\b\b\b\b\b\b\b\b\b\b\b\b\b\b\b\b\b\b\b\b\b\b\b\b\b\b\b\b\b\b\b\b\b\b\b\b\b\b\b\b\b\b\b\r",
        "46592/60000 [======================>.......] - ETA: 3s - loss: 0.6713 - acc: 0.8114"
       ]
      },
      {
       "output_type": "stream",
       "stream": "stdout",
       "text": [
        "\b\b\b\b\b\b\b\b\b\b\b\b\b\b\b\b\b\b\b\b\b\b\b\b\b\b\b\b\b\b\b\b\b\b\b\b\b\b\b\b\b\b\b\b\b\b\b\b\b\b\b\b\b\b\b\b\b\b\b\b\b\b\b\b\b\b\b\b\b\b\b\b\b\b\b\b\b\b\b\b\b\b\b\r",
        "46720/60000 [======================>.......] - ETA: 3s - loss: 0.6708 - acc: 0.8115"
       ]
      },
      {
       "output_type": "stream",
       "stream": "stdout",
       "text": [
        "\b\b\b\b\b\b\b\b\b\b\b\b\b\b\b\b\b\b\b\b\b\b\b\b\b\b\b\b\b\b\b\b\b\b\b\b\b\b\b\b\b\b\b\b\b\b\b\b\b\b\b\b\b\b\b\b\b\b\b\b\b\b\b\b\b\b\b\b\b\b\b\b\b\b\b\b\b\b\b\b\b\b\b\r",
        "46848/60000 [======================>.......] - ETA: 2s - loss: 0.6699 - acc: 0.8118"
       ]
      },
      {
       "output_type": "stream",
       "stream": "stdout",
       "text": [
        "\b\b\b\b\b\b\b\b\b\b\b\b\b\b\b\b\b\b\b\b\b\b\b\b\b\b\b\b\b\b\b\b\b\b\b\b\b\b\b\b\b\b\b\b\b\b\b\b\b\b\b\b\b\b\b\b\b\b\b\b\b\b\b\b\b\b\b\b\b\b\b\b\b\b\b\b\b\b\b\b\b\b\b\r",
        "46976/60000 [======================>.......] - ETA: 2s - loss: 0.6687 - acc: 0.8122"
       ]
      },
      {
       "output_type": "stream",
       "stream": "stdout",
       "text": [
        "\b\b\b\b\b\b\b\b\b\b\b\b\b\b\b\b\b\b\b\b\b\b\b\b\b\b\b\b\b\b\b\b\b\b\b\b\b\b\b\b\b\b\b\b\b\b\b\b\b\b\b\b\b\b\b\b\b\b\b\b\b\b\b\b\b\b\b\b\b\b\b\b\b\b\b\b\b\b\b\b\b\b\b\r",
        "47104/60000 [======================>.......] - ETA: 2s - loss: 0.6677 - acc: 0.8125"
       ]
      },
      {
       "output_type": "stream",
       "stream": "stdout",
       "text": [
        "\b\b\b\b\b\b\b\b\b\b\b\b\b\b\b\b\b\b\b\b\b\b\b\b\b\b\b\b\b\b\b\b\b\b\b\b\b\b\b\b\b\b\b\b\b\b\b\b\b\b\b\b\b\b\b\b\b\b\b\b\b\b\b\b\b\b\b\b\b\b\b\b\b\b\b\b\b\b\b\b\b\b\b\r",
        "47232/60000 [======================>.......] - ETA: 2s - loss: 0.6667 - acc: 0.8126"
       ]
      },
      {
       "output_type": "stream",
       "stream": "stdout",
       "text": [
        "\b\b\b\b\b\b\b\b\b\b\b\b\b\b\b\b\b\b\b\b\b\b\b\b\b\b\b\b\b\b\b\b\b\b\b\b\b\b\b\b\b\b\b\b\b\b\b\b\b\b\b\b\b\b\b\b\b\b\b\b\b\b\b\b\b\b\b\b\b\b\b\b\b\b\b\b\b\b\b\b\b\b\b\r",
        "47360/60000 [======================>.......] - ETA: 2s - loss: 0.6659 - acc: 0.8129"
       ]
      },
      {
       "output_type": "stream",
       "stream": "stdout",
       "text": [
        "\b\b\b\b\b\b\b\b\b\b\b\b\b\b\b\b\b\b\b\b\b\b\b\b\b\b\b\b\b\b\b\b\b\b\b\b\b\b\b\b\b\b\b\b\b\b\b\b\b\b\b\b\b\b\b\b\b\b\b\b\b\b\b\b\b\b\b\b\b\b\b\b\b\b\b\b\b\b\b\b\b\b\b\r",
        "47488/60000 [======================>.......] - ETA: 2s - loss: 0.6649 - acc: 0.8131"
       ]
      },
      {
       "output_type": "stream",
       "stream": "stdout",
       "text": [
        "\b\b\b\b\b\b\b\b\b\b\b\b\b\b\b\b\b\b\b\b\b\b\b\b\b\b\b\b\b\b\b\b\b\b\b\b\b\b\b\b\b\b\b\b\b\b\b\b\b\b\b\b\b\b\b\b\b\b\b\b\b\b\b\b\b\b\b\b\b\b\b\b\b\b\b\b\b\b\b\b\b\b\b\r",
        "47616/60000 [======================>.......] - ETA: 2s - loss: 0.6642 - acc: 0.8133"
       ]
      },
      {
       "output_type": "stream",
       "stream": "stdout",
       "text": [
        "\b\b\b\b\b\b\b\b\b\b\b\b\b\b\b\b\b\b\b\b\b\b\b\b\b\b\b\b\b\b\b\b\b\b\b\b\b\b\b\b\b\b\b\b\b\b\b\b\b\b\b\b\b\b\b\b\b\b\b\b\b\b\b\b\b\b\b\b\b\b\b\b\b\b\b\b\b\b\b\b\b\b\b\r",
        "47744/60000 [======================>.......] - ETA: 2s - loss: 0.6632 - acc: 0.8136"
       ]
      },
      {
       "output_type": "stream",
       "stream": "stdout",
       "text": [
        "\b\b\b\b\b\b\b\b\b\b\b\b\b\b\b\b\b\b\b\b\b\b\b\b\b\b\b\b\b\b\b\b\b\b\b\b\b\b\b\b\b\b\b\b\b\b\b\b\b\b\b\b\b\b\b\b\b\b\b\b\b\b\b\b\b\b\b\b\b\b\b\b\b\b\b\b\b\b\b\b\b\b\b\r",
        "47872/60000 [======================>.......] - ETA: 2s - loss: 0.6622 - acc: 0.8139"
       ]
      },
      {
       "output_type": "stream",
       "stream": "stdout",
       "text": [
        "\b\b\b\b\b\b\b\b\b\b\b\b\b\b\b\b\b\b\b\b\b\b\b\b\b\b\b\b\b\b\b\b\b\b\b\b\b\b\b\b\b\b\b\b\b\b\b\b\b\b\b\b\b\b\b\b\b\b\b\b\b\b\b\b\b\b\b\b\b\b\b\b\b\b\b\b\b\b\b\b\b\b\b\r",
        "48000/60000 [=======================>......] - ETA: 2s - loss: 0.6613 - acc: 0.8141"
       ]
      },
      {
       "output_type": "stream",
       "stream": "stdout",
       "text": [
        "\b\b\b\b\b\b\b\b\b\b\b\b\b\b\b\b\b\b\b\b\b\b\b\b\b\b\b\b\b\b\b\b\b\b\b\b\b\b\b\b\b\b\b\b\b\b\b\b\b\b\b\b\b\b\b\b\b\b\b\b\b\b\b\b\b\b\b\b\b\b\b\b\b\b\b\b\b\b\b\b\b\b\b\r",
        "48128/60000 [=======================>......] - ETA: 2s - loss: 0.6602 - acc: 0.8144"
       ]
      },
      {
       "output_type": "stream",
       "stream": "stdout",
       "text": [
        "\b\b\b\b\b\b\b\b\b\b\b\b\b\b\b\b\b\b\b\b\b\b\b\b\b\b\b\b\b\b\b\b\b\b\b\b\b\b\b\b\b\b\b\b\b\b\b\b\b\b\b\b\b\b\b\b\b\b\b\b\b\b\b\b\b\b\b\b\b\b\b\b\b\b\b\b\b\b\b\b\b\b\b\r",
        "48256/60000 [=======================>......] - ETA: 2s - loss: 0.6590 - acc: 0.8148"
       ]
      },
      {
       "output_type": "stream",
       "stream": "stdout",
       "text": [
        "\b\b\b\b\b\b\b\b\b\b\b\b\b\b\b\b\b\b\b\b\b\b\b\b\b\b\b\b\b\b\b\b\b\b\b\b\b\b\b\b\b\b\b\b\b\b\b\b\b\b\b\b\b\b\b\b\b\b\b\b\b\b\b\b\b\b\b\b\b\b\b\b\b\b\b\b\b\b\b\b\b\b\b\r",
        "48384/60000 [=======================>......] - ETA: 2s - loss: 0.6579 - acc: 0.8151"
       ]
      },
      {
       "output_type": "stream",
       "stream": "stdout",
       "text": [
        "\b\b\b\b\b\b\b\b\b\b\b\b\b\b\b\b\b\b\b\b\b\b\b\b\b\b\b\b\b\b\b\b\b\b\b\b\b\b\b\b\b\b\b\b\b\b\b\b\b\b\b\b\b\b\b\b\b\b\b\b\b\b\b\b\b\b\b\b\b\b\b\b\b\b\b\b\b\b\b\b\b\b\b\r",
        "48512/60000 [=======================>......] - ETA: 2s - loss: 0.6569 - acc: 0.8154"
       ]
      },
      {
       "output_type": "stream",
       "stream": "stdout",
       "text": [
        "\b\b\b\b\b\b\b\b\b\b\b\b\b\b\b\b\b\b\b\b\b\b\b\b\b\b\b\b\b\b\b\b\b\b\b\b\b\b\b\b\b\b\b\b\b\b\b\b\b\b\b\b\b\b\b\b\b\b\b\b\b\b\b\b\b\b\b\b\b\b\b\b\b\b\b\b\b\b\b\b\b\b\b\r",
        "48640/60000 [=======================>......] - ETA: 2s - loss: 0.6558 - acc: 0.8156"
       ]
      },
      {
       "output_type": "stream",
       "stream": "stdout",
       "text": [
        "\b\b\b\b\b\b\b\b\b\b\b\b\b\b\b\b\b\b\b\b\b\b\b\b\b\b\b\b\b\b\b\b\b\b\b\b\b\b\b\b\b\b\b\b\b\b\b\b\b\b\b\b\b\b\b\b\b\b\b\b\b\b\b\b\b\b\b\b\b\b\b\b\b\b\b\b\b\b\b\b\b\b\b\r",
        "48768/60000 [=======================>......] - ETA: 2s - loss: 0.6551 - acc: 0.8158"
       ]
      },
      {
       "output_type": "stream",
       "stream": "stdout",
       "text": [
        "\b\b\b\b\b\b\b\b\b\b\b\b\b\b\b\b\b\b\b\b\b\b\b\b\b\b\b\b\b\b\b\b\b\b\b\b\b\b\b\b\b\b\b\b\b\b\b\b\b\b\b\b\b\b\b\b\b\b\b\b\b\b\b\b\b\b\b\b\b\b\b\b\b\b\b\b\b\b\b\b\b\b\b\r",
        "48896/60000 [=======================>......] - ETA: 2s - loss: 0.6539 - acc: 0.8162"
       ]
      },
      {
       "output_type": "stream",
       "stream": "stdout",
       "text": [
        "\b\b\b\b\b\b\b\b\b\b\b\b\b\b\b\b\b\b\b\b\b\b\b\b\b\b\b\b\b\b\b\b\b\b\b\b\b\b\b\b\b\b\b\b\b\b\b\b\b\b\b\b\b\b\b\b\b\b\b\b\b\b\b\b\b\b\b\b\b\b\b\b\b\b\b\b\b\b\b\b\b\b\b\r",
        "49024/60000 [=======================>......] - ETA: 2s - loss: 0.6532 - acc: 0.8164"
       ]
      },
      {
       "output_type": "stream",
       "stream": "stdout",
       "text": [
        "\b\b\b\b\b\b\b\b\b\b\b\b\b\b\b\b\b\b\b\b\b\b\b\b\b\b\b\b\b\b\b\b\b\b\b\b\b\b\b\b\b\b\b\b\b\b\b\b\b\b\b\b\b\b\b\b\b\b\b\b\b\b\b\b\b\b\b\b\b\b\b\b\b\b\b\b\b\b\b\b\b\b\b\r",
        "49152/60000 [=======================>......] - ETA: 2s - loss: 0.6523 - acc: 0.8166"
       ]
      },
      {
       "output_type": "stream",
       "stream": "stdout",
       "text": [
        "\b\b\b\b\b\b\b\b\b\b\b\b\b\b\b\b\b\b\b\b\b\b\b\b\b\b\b\b\b\b\b\b\b\b\b\b\b\b\b\b\b\b\b\b\b\b\b\b\b\b\b\b\b\b\b\b\b\b\b\b\b\b\b\b\b\b\b\b\b\b\b\b\b\b\b\b\b\b\b\b\b\b\b\r",
        "49280/60000 [=======================>......] - ETA: 2s - loss: 0.6517 - acc: 0.8168"
       ]
      },
      {
       "output_type": "stream",
       "stream": "stdout",
       "text": [
        "\b\b\b\b\b\b\b\b\b\b\b\b\b\b\b\b\b\b\b\b\b\b\b\b\b\b\b\b\b\b\b\b\b\b\b\b\b\b\b\b\b\b\b\b\b\b\b\b\b\b\b\b\b\b\b\b\b\b\b\b\b\b\b\b\b\b\b\b\b\b\b\b\b\b\b\b\b\b\b\b\b\b\b\r",
        "49408/60000 [=======================>......] - ETA: 2s - loss: 0.6508 - acc: 0.8170"
       ]
      },
      {
       "output_type": "stream",
       "stream": "stdout",
       "text": [
        "\b\b\b\b\b\b\b\b\b\b\b\b\b\b\b\b\b\b\b\b\b\b\b\b\b\b\b\b\b\b\b\b\b\b\b\b\b\b\b\b\b\b\b\b\b\b\b\b\b\b\b\b\b\b\b\b\b\b\b\b\b\b\b\b\b\b\b\b\b\b\b\b\b\b\b\b\b\b\b\b\b\b\b\r",
        "49536/60000 [=======================>......] - ETA: 2s - loss: 0.6500 - acc: 0.8172"
       ]
      },
      {
       "output_type": "stream",
       "stream": "stdout",
       "text": [
        "\b\b\b\b\b\b\b\b\b\b\b\b\b\b\b\b\b\b\b\b\b\b\b\b\b\b\b\b\b\b\b\b\b\b\b\b\b\b\b\b\b\b\b\b\b\b\b\b\b\b\b\b\b\b\b\b\b\b\b\b\b\b\b\b\b\b\b\b\b\b\b\b\b\b\b\b\b\b\b\b\b\b\b\r",
        "49664/60000 [=======================>......] - ETA: 2s - loss: 0.6489 - acc: 0.8175"
       ]
      },
      {
       "output_type": "stream",
       "stream": "stdout",
       "text": [
        "\b\b\b\b\b\b\b\b\b\b\b\b\b\b\b\b\b\b\b\b\b\b\b\b\b\b\b\b\b\b\b\b\b\b\b\b\b\b\b\b\b\b\b\b\b\b\b\b\b\b\b\b\b\b\b\b\b\b\b\b\b\b\b\b\b\b\b\b\b\b\b\b\b\b\b\b\b\b\b\b\b\b\b\r",
        "49792/60000 [=======================>......] - ETA: 2s - loss: 0.6483 - acc: 0.8176"
       ]
      },
      {
       "output_type": "stream",
       "stream": "stdout",
       "text": [
        "\b\b\b\b\b\b\b\b\b\b\b\b\b\b\b\b\b\b\b\b\b\b\b\b\b\b\b\b\b\b\b\b\b\b\b\b\b\b\b\b\b\b\b\b\b\b\b\b\b\b\b\b\b\b\b\b\b\b\b\b\b\b\b\b\b\b\b\b\b\b\b\b\b\b\b\b\b\b\b\b\b\b\b\r",
        "49920/60000 [=======================>......] - ETA: 2s - loss: 0.6478 - acc: 0.8177"
       ]
      },
      {
       "output_type": "stream",
       "stream": "stdout",
       "text": [
        "\b\b\b\b\b\b\b\b\b\b\b\b\b\b\b\b\b\b\b\b\b\b\b\b\b\b\b\b\b\b\b\b\b\b\b\b\b\b\b\b\b\b\b\b\b\b\b\b\b\b\b\b\b\b\b\b\b\b\b\b\b\b\b\b\b\b\b\b\b\b\b\b\b\b\b\b\b\b\b\b\b\b\b\r",
        "50048/60000 [========================>.....] - ETA: 2s - loss: 0.6470 - acc: 0.8179"
       ]
      },
      {
       "output_type": "stream",
       "stream": "stdout",
       "text": [
        "\b\b\b\b\b\b\b\b\b\b\b\b\b\b\b\b\b\b\b\b\b\b\b\b\b\b\b\b\b\b\b\b\b\b\b\b\b\b\b\b\b\b\b\b\b\b\b\b\b\b\b\b\b\b\b\b\b\b\b\b\b\b\b\b\b\b\b\b\b\b\b\b\b\b\b\b\b\b\b\b\b\b\b\r",
        "50176/60000 [========================>.....] - ETA: 2s - loss: 0.6460 - acc: 0.8182"
       ]
      },
      {
       "output_type": "stream",
       "stream": "stdout",
       "text": [
        "\b\b\b\b\b\b\b\b\b\b\b\b\b\b\b\b\b\b\b\b\b\b\b\b\b\b\b\b\b\b\b\b\b\b\b\b\b\b\b\b\b\b\b\b\b\b\b\b\b\b\b\b\b\b\b\b\b\b\b\b\b\b\b\b\b\b\b\b\b\b\b\b\b\b\b\b\b\b\b\b\b\b\b\r",
        "50304/60000 [========================>.....] - ETA: 2s - loss: 0.6448 - acc: 0.8185"
       ]
      },
      {
       "output_type": "stream",
       "stream": "stdout",
       "text": [
        "\b\b\b\b\b\b\b\b\b\b\b\b\b\b\b\b\b\b\b\b\b\b\b\b\b\b\b\b\b\b\b\b\b\b\b\b\b\b\b\b\b\b\b\b\b\b\b\b\b\b\b\b\b\b\b\b\b\b\b\b\b\b\b\b\b\b\b\b\b\b\b\b\b\b\b\b\b\b\b\b\b\b\b\r",
        "50432/60000 [========================>.....] - ETA: 2s - loss: 0.6438 - acc: 0.8188"
       ]
      },
      {
       "output_type": "stream",
       "stream": "stdout",
       "text": [
        "\b\b\b\b\b\b\b\b\b\b\b\b\b\b\b\b\b\b\b\b\b\b\b\b\b\b\b\b\b\b\b\b\b\b\b\b\b\b\b\b\b\b\b\b\b\b\b\b\b\b\b\b\b\b\b\b\b\b\b\b\b\b\b\b\b\b\b\b\b\b\b\b\b\b\b\b\b\b\b\b\b\b\b\r",
        "50560/60000 [========================>.....] - ETA: 2s - loss: 0.6429 - acc: 0.8191"
       ]
      },
      {
       "output_type": "stream",
       "stream": "stdout",
       "text": [
        "\b\b\b\b\b\b\b\b\b\b\b\b\b\b\b\b\b\b\b\b\b\b\b\b\b\b\b\b\b\b\b\b\b\b\b\b\b\b\b\b\b\b\b\b\b\b\b\b\b\b\b\b\b\b\b\b\b\b\b\b\b\b\b\b\b\b\b\b\b\b\b\b\b\b\b\b\b\b\b\b\b\b\b\r",
        "50688/60000 [========================>.....] - ETA: 2s - loss: 0.6421 - acc: 0.8193"
       ]
      },
      {
       "output_type": "stream",
       "stream": "stdout",
       "text": [
        "\b\b\b\b\b\b\b\b\b\b\b\b\b\b\b\b\b\b\b\b\b\b\b\b\b\b\b\b\b\b\b\b\b\b\b\b\b\b\b\b\b\b\b\b\b\b\b\b\b\b\b\b\b\b\b\b\b\b\b\b\b\b\b\b\b\b\b\b\b\b\b\b\b\b\b\b\b\b\b\b\b\b\b\r",
        "50816/60000 [========================>.....] - ETA: 2s - loss: 0.6412 - acc: 0.8195"
       ]
      },
      {
       "output_type": "stream",
       "stream": "stdout",
       "text": [
        "\b\b\b\b\b\b\b\b\b\b\b\b\b\b\b\b\b\b\b\b\b\b\b\b\b\b\b\b\b\b\b\b\b\b\b\b\b\b\b\b\b\b\b\b\b\b\b\b\b\b\b\b\b\b\b\b\b\b\b\b\b\b\b\b\b\b\b\b\b\b\b\b\b\b\b\b\b\b\b\b\b\b\b\r",
        "50944/60000 [========================>.....] - ETA: 2s - loss: 0.6404 - acc: 0.8197"
       ]
      },
      {
       "output_type": "stream",
       "stream": "stdout",
       "text": [
        "\b\b\b\b\b\b\b\b\b\b\b\b\b\b\b\b\b\b\b\b\b\b\b\b\b\b\b\b\b\b\b\b\b\b\b\b\b\b\b\b\b\b\b\b\b\b\b\b\b\b\b\b\b\b\b\b\b\b\b\b\b\b\b\b\b\b\b\b\b\b\b\b\b\b\b\b\b\b\b\b\b\b\b\r",
        "51072/60000 [========================>.....] - ETA: 2s - loss: 0.6395 - acc: 0.8200"
       ]
      },
      {
       "output_type": "stream",
       "stream": "stdout",
       "text": [
        "\b\b\b\b\b\b\b\b\b\b\b\b\b\b\b\b\b\b\b\b\b\b\b\b\b\b\b\b\b\b\b\b\b\b\b\b\b\b\b\b\b\b\b\b\b\b\b\b\b\b\b\b\b\b\b\b\b\b\b\b\b\b\b\b\b\b\b\b\b\b\b\b\b\b\b\b\b\b\b\b\b\b\b\r",
        "51200/60000 [========================>.....] - ETA: 1s - loss: 0.6384 - acc: 0.8203"
       ]
      },
      {
       "output_type": "stream",
       "stream": "stdout",
       "text": [
        "\b\b\b\b\b\b\b\b\b\b\b\b\b\b\b\b\b\b\b\b\b\b\b\b\b\b\b\b\b\b\b\b\b\b\b\b\b\b\b\b\b\b\b\b\b\b\b\b\b\b\b\b\b\b\b\b\b\b\b\b\b\b\b\b\b\b\b\b\b\b\b\b\b\b\b\b\b\b\b\b\b\b\b\r",
        "51328/60000 [========================>.....] - ETA: 1s - loss: 0.6375 - acc: 0.8205"
       ]
      },
      {
       "output_type": "stream",
       "stream": "stdout",
       "text": [
        "\b\b\b\b\b\b\b\b\b\b\b\b\b\b\b\b\b\b\b\b\b\b\b\b\b\b\b\b\b\b\b\b\b\b\b\b\b\b\b\b\b\b\b\b\b\b\b\b\b\b\b\b\b\b\b\b\b\b\b\b\b\b\b\b\b\b\b\b\b\b\b\b\b\b\b\b\b\b\b\b\b\b\b\r",
        "51456/60000 [========================>.....] - ETA: 1s - loss: 0.6363 - acc: 0.8209"
       ]
      },
      {
       "output_type": "stream",
       "stream": "stdout",
       "text": [
        "\b\b\b\b\b\b\b\b\b\b\b\b\b\b\b\b\b\b\b\b\b\b\b\b\b\b\b\b\b\b\b\b\b\b\b\b\b\b\b\b\b\b\b\b\b\b\b\b\b\b\b\b\b\b\b\b\b\b\b\b\b\b\b\b\b\b\b\b\b\b\b\b\b\b\b\b\b\b\b\b\b\b\b\r",
        "51584/60000 [========================>.....] - ETA: 1s - loss: 0.6355 - acc: 0.8210"
       ]
      },
      {
       "output_type": "stream",
       "stream": "stdout",
       "text": [
        "\b\b\b\b\b\b\b\b\b\b\b\b\b\b\b\b\b\b\b\b\b\b\b\b\b\b\b\b\b\b\b\b\b\b\b\b\b\b\b\b\b\b\b\b\b\b\b\b\b\b\b\b\b\b\b\b\b\b\b\b\b\b\b\b\b\b\b\b\b\b\b\b\b\b\b\b\b\b\b\b\b\b\b\r",
        "51712/60000 [========================>.....] - ETA: 1s - loss: 0.6345 - acc: 0.8213"
       ]
      },
      {
       "output_type": "stream",
       "stream": "stdout",
       "text": [
        "\b\b\b\b\b\b\b\b\b\b\b\b\b\b\b\b\b\b\b\b\b\b\b\b\b\b\b\b\b\b\b\b\b\b\b\b\b\b\b\b\b\b\b\b\b\b\b\b\b\b\b\b\b\b\b\b\b\b\b\b\b\b\b\b\b\b\b\b\b\b\b\b\b\b\b\b\b\b\b\b\b\b\b\r",
        "51840/60000 [========================>.....] - ETA: 1s - loss: 0.6339 - acc: 0.8215"
       ]
      },
      {
       "output_type": "stream",
       "stream": "stdout",
       "text": [
        "\b\b\b\b\b\b\b\b\b\b\b\b\b\b\b\b\b\b\b\b\b\b\b\b\b\b\b\b\b\b\b\b\b\b\b\b\b\b\b\b\b\b\b\b\b\b\b\b\b\b\b\b\b\b\b\b\b\b\b\b\b\b\b\b\b\b\b\b\b\b\b\b\b\b\b\b\b\b\b\b\b\b\b\r",
        "51968/60000 [========================>.....] - ETA: 1s - loss: 0.6330 - acc: 0.8218"
       ]
      },
      {
       "output_type": "stream",
       "stream": "stdout",
       "text": [
        "\b\b\b\b\b\b\b\b\b\b\b\b\b\b\b\b\b\b\b\b\b\b\b\b\b\b\b\b\b\b\b\b\b\b\b\b\b\b\b\b\b\b\b\b\b\b\b\b\b\b\b\b\b\b\b\b\b\b\b\b\b\b\b\b\b\b\b\b\b\b\b\b\b\b\b\b\b\b\b\b\b\b\b\r",
        "52096/60000 [=========================>....] - ETA: 1s - loss: 0.6320 - acc: 0.8220"
       ]
      },
      {
       "output_type": "stream",
       "stream": "stdout",
       "text": [
        "\b\b\b\b\b\b\b\b\b\b\b\b\b\b\b\b\b\b\b\b\b\b\b\b\b\b\b\b\b\b\b\b\b\b\b\b\b\b\b\b\b\b\b\b\b\b\b\b\b\b\b\b\b\b\b\b\b\b\b\b\b\b\b\b\b\b\b\b\b\b\b\b\b\b\b\b\b\b\b\b\b\b\b\r",
        "52224/60000 [=========================>....] - ETA: 1s - loss: 0.6313 - acc: 0.8222"
       ]
      },
      {
       "output_type": "stream",
       "stream": "stdout",
       "text": [
        "\b\b\b\b\b\b\b\b\b\b\b\b\b\b\b\b\b\b\b\b\b\b\b\b\b\b\b\b\b\b\b\b\b\b\b\b\b\b\b\b\b\b\b\b\b\b\b\b\b\b\b\b\b\b\b\b\b\b\b\b\b\b\b\b\b\b\b\b\b\b\b\b\b\b\b\b\b\b\b\b\b\b\b\r",
        "52352/60000 [=========================>....] - ETA: 1s - loss: 0.6305 - acc: 0.8224"
       ]
      },
      {
       "output_type": "stream",
       "stream": "stdout",
       "text": [
        "\b\b\b\b\b\b\b\b\b\b\b\b\b\b\b\b\b\b\b\b\b\b\b\b\b\b\b\b\b\b\b\b\b\b\b\b\b\b\b\b\b\b\b\b\b\b\b\b\b\b\b\b\b\b\b\b\b\b\b\b\b\b\b\b\b\b\b\b\b\b\b\b\b\b\b\b\b\b\b\b\b\b\b\r",
        "52480/60000 [=========================>....] - ETA: 1s - loss: 0.6295 - acc: 0.8227"
       ]
      },
      {
       "output_type": "stream",
       "stream": "stdout",
       "text": [
        "\b\b\b\b\b\b\b\b\b\b\b\b\b\b\b\b\b\b\b\b\b\b\b\b\b\b\b\b\b\b\b\b\b\b\b\b\b\b\b\b\b\b\b\b\b\b\b\b\b\b\b\b\b\b\b\b\b\b\b\b\b\b\b\b\b\b\b\b\b\b\b\b\b\b\b\b\b\b\b\b\b\b\b\r",
        "52608/60000 [=========================>....] - ETA: 1s - loss: 0.6288 - acc: 0.8229"
       ]
      },
      {
       "output_type": "stream",
       "stream": "stdout",
       "text": [
        "\b\b\b\b\b\b\b\b\b\b\b\b\b\b\b\b\b\b\b\b\b\b\b\b\b\b\b\b\b\b\b\b\b\b\b\b\b\b\b\b\b\b\b\b\b\b\b\b\b\b\b\b\b\b\b\b\b\b\b\b\b\b\b\b\b\b\b\b\b\b\b\b\b\b\b\b\b\b\b\b\b\b\b\r",
        "52736/60000 [=========================>....] - ETA: 1s - loss: 0.6279 - acc: 0.8231"
       ]
      },
      {
       "output_type": "stream",
       "stream": "stdout",
       "text": [
        "\b\b\b\b\b\b\b\b\b\b\b\b\b\b\b\b\b\b\b\b\b\b\b\b\b\b\b\b\b\b\b\b\b\b\b\b\b\b\b\b\b\b\b\b\b\b\b\b\b\b\b\b\b\b\b\b\b\b\b\b\b\b\b\b\b\b\b\b\b\b\b\b\b\b\b\b\b\b\b\b\b\b\b\r",
        "52864/60000 [=========================>....] - ETA: 1s - loss: 0.6267 - acc: 0.8235"
       ]
      },
      {
       "output_type": "stream",
       "stream": "stdout",
       "text": [
        "\b\b\b\b\b\b\b\b\b\b\b\b\b\b\b\b\b\b\b\b\b\b\b\b\b\b\b\b\b\b\b\b\b\b\b\b\b\b\b\b\b\b\b\b\b\b\b\b\b\b\b\b\b\b\b\b\b\b\b\b\b\b\b\b\b\b\b\b\b\b\b\b\b\b\b\b\b\b\b\b\b\b\b\r",
        "52992/60000 [=========================>....] - ETA: 1s - loss: 0.6258 - acc: 0.8237"
       ]
      },
      {
       "output_type": "stream",
       "stream": "stdout",
       "text": [
        "\b\b\b\b\b\b\b\b\b\b\b\b\b\b\b\b\b\b\b\b\b\b\b\b\b\b\b\b\b\b\b\b\b\b\b\b\b\b\b\b\b\b\b\b\b\b\b\b\b\b\b\b\b\b\b\b\b\b\b\b\b\b\b\b\b\b\b\b\b\b\b\b\b\b\b\b\b\b\b\b\b\b\b\r",
        "53120/60000 [=========================>....] - ETA: 1s - loss: 0.6252 - acc: 0.8240"
       ]
      },
      {
       "output_type": "stream",
       "stream": "stdout",
       "text": [
        "\b\b\b\b\b\b\b\b\b\b\b\b\b\b\b\b\b\b\b\b\b\b\b\b\b\b\b\b\b\b\b\b\b\b\b\b\b\b\b\b\b\b\b\b\b\b\b\b\b\b\b\b\b\b\b\b\b\b\b\b\b\b\b\b\b\b\b\b\b\b\b\b\b\b\b\b\b\b\b\b\b\b\b\r",
        "53248/60000 [=========================>....] - ETA: 1s - loss: 0.6245 - acc: 0.8241"
       ]
      },
      {
       "output_type": "stream",
       "stream": "stdout",
       "text": [
        "\b\b\b\b\b\b\b\b\b\b\b\b\b\b\b\b\b\b\b\b\b\b\b\b\b\b\b\b\b\b\b\b\b\b\b\b\b\b\b\b\b\b\b\b\b\b\b\b\b\b\b\b\b\b\b\b\b\b\b\b\b\b\b\b\b\b\b\b\b\b\b\b\b\b\b\b\b\b\b\b\b\b\b\r",
        "53376/60000 [=========================>....] - ETA: 1s - loss: 0.6234 - acc: 0.8244"
       ]
      },
      {
       "output_type": "stream",
       "stream": "stdout",
       "text": [
        "\b\b\b\b\b\b\b\b\b\b\b\b\b\b\b\b\b\b\b\b\b\b\b\b\b\b\b\b\b\b\b\b\b\b\b\b\b\b\b\b\b\b\b\b\b\b\b\b\b\b\b\b\b\b\b\b\b\b\b\b\b\b\b\b\b\b\b\b\b\b\b\b\b\b\b\b\b\b\b\b\b\b\b\r",
        "53504/60000 [=========================>....] - ETA: 1s - loss: 0.6228 - acc: 0.8246"
       ]
      },
      {
       "output_type": "stream",
       "stream": "stdout",
       "text": [
        "\b\b\b\b\b\b\b\b\b\b\b\b\b\b\b\b\b\b\b\b\b\b\b\b\b\b\b\b\b\b\b\b\b\b\b\b\b\b\b\b\b\b\b\b\b\b\b\b\b\b\b\b\b\b\b\b\b\b\b\b\b\b\b\b\b\b\b\b\b\b\b\b\b\b\b\b\b\b\b\b\b\b\b\r",
        "53632/60000 [=========================>....] - ETA: 1s - loss: 0.6222 - acc: 0.8248"
       ]
      },
      {
       "output_type": "stream",
       "stream": "stdout",
       "text": [
        "\b\b\b\b\b\b\b\b\b\b\b\b\b\b\b\b\b\b\b\b\b\b\b\b\b\b\b\b\b\b\b\b\b\b\b\b\b\b\b\b\b\b\b\b\b\b\b\b\b\b\b\b\b\b\b\b\b\b\b\b\b\b\b\b\b\b\b\b\b\b\b\b\b\b\b\b\b\b\b\b\b\b\b\r",
        "53760/60000 [=========================>....] - ETA: 1s - loss: 0.6217 - acc: 0.8249"
       ]
      },
      {
       "output_type": "stream",
       "stream": "stdout",
       "text": [
        "\b\b\b\b\b\b\b\b\b\b\b\b\b\b\b\b\b\b\b\b\b\b\b\b\b\b\b\b\b\b\b\b\b\b\b\b\b\b\b\b\b\b\b\b\b\b\b\b\b\b\b\b\b\b\b\b\b\b\b\b\b\b\b\b\b\b\b\b\b\b\b\b\b\b\b\b\b\b\b\b\b\b\b\r",
        "53888/60000 [=========================>....] - ETA: 1s - loss: 0.6209 - acc: 0.8253"
       ]
      },
      {
       "output_type": "stream",
       "stream": "stdout",
       "text": [
        "\b\b\b\b\b\b\b\b\b\b\b\b\b\b\b\b\b\b\b\b\b\b\b\b\b\b\b\b\b\b\b\b\b\b\b\b\b\b\b\b\b\b\b\b\b\b\b\b\b\b\b\b\b\b\b\b\b\b\b\b\b\b\b\b\b\b\b\b\b\b\b\b\b\b\b\b\b\b\b\b\b\b\b\r",
        "54016/60000 [==========================>...] - ETA: 1s - loss: 0.6204 - acc: 0.8253"
       ]
      },
      {
       "output_type": "stream",
       "stream": "stdout",
       "text": [
        "\b\b\b\b\b\b\b\b\b\b\b\b\b\b\b\b\b\b\b\b\b\b\b\b\b\b\b\b\b\b\b\b\b\b\b\b\b\b\b\b\b\b\b\b\b\b\b\b\b\b\b\b\b\b\b\b\b\b\b\b\b\b\b\b\b\b\b\b\b\b\b\b\b\b\b\b\b\b\b\b\b\b\b\r",
        "54144/60000 [==========================>...] - ETA: 1s - loss: 0.6196 - acc: 0.8256"
       ]
      },
      {
       "output_type": "stream",
       "stream": "stdout",
       "text": [
        "\b\b\b\b\b\b\b\b\b\b\b\b\b\b\b\b\b\b\b\b\b\b\b\b\b\b\b\b\b\b\b\b\b\b\b\b\b\b\b\b\b\b\b\b\b\b\b\b\b\b\b\b\b\b\b\b\b\b\b\b\b\b\b\b\b\b\b\b\b\b\b\b\b\b\b\b\b\b\b\b\b\b\b\r",
        "54272/60000 [==========================>...] - ETA: 1s - loss: 0.6187 - acc: 0.8258"
       ]
      },
      {
       "output_type": "stream",
       "stream": "stdout",
       "text": [
        "\b\b\b\b\b\b\b\b\b\b\b\b\b\b\b\b\b\b\b\b\b\b\b\b\b\b\b\b\b\b\b\b\b\b\b\b\b\b\b\b\b\b\b\b\b\b\b\b\b\b\b\b\b\b\b\b\b\b\b\b\b\b\b\b\b\b\b\b\b\b\b\b\b\b\b\b\b\b\b\b\b\b\b\r",
        "54400/60000 [==========================>...] - ETA: 1s - loss: 0.6182 - acc: 0.8260"
       ]
      },
      {
       "output_type": "stream",
       "stream": "stdout",
       "text": [
        "\b\b\b\b\b\b\b\b\b\b\b\b\b\b\b\b\b\b\b\b\b\b\b\b\b\b\b\b\b\b\b\b\b\b\b\b\b\b\b\b\b\b\b\b\b\b\b\b\b\b\b\b\b\b\b\b\b\b\b\b\b\b\b\b\b\b\b\b\b\b\b\b\b\b\b\b\b\b\b\b\b\b\b\r",
        "54528/60000 [==========================>...] - ETA: 1s - loss: 0.6172 - acc: 0.8263"
       ]
      },
      {
       "output_type": "stream",
       "stream": "stdout",
       "text": [
        "\b\b\b\b\b\b\b\b\b\b\b\b\b\b\b\b\b\b\b\b\b\b\b\b\b\b\b\b\b\b\b\b\b\b\b\b\b\b\b\b\b\b\b\b\b\b\b\b\b\b\b\b\b\b\b\b\b\b\b\b\b\b\b\b\b\b\b\b\b\b\b\b\b\b\b\b\b\b\b\b\b\b\b\r",
        "54656/60000 [==========================>...] - ETA: 1s - loss: 0.6164 - acc: 0.8265"
       ]
      },
      {
       "output_type": "stream",
       "stream": "stdout",
       "text": [
        "\b\b\b\b\b\b\b\b\b\b\b\b\b\b\b\b\b\b\b\b\b\b\b\b\b\b\b\b\b\b\b\b\b\b\b\b\b\b\b\b\b\b\b\b\b\b\b\b\b\b\b\b\b\b\b\b\b\b\b\b\b\b\b\b\b\b\b\b\b\b\b\b\b\b\b\b\b\b\b\b\b\b\b\r",
        "54784/60000 [==========================>...] - ETA: 1s - loss: 0.6157 - acc: 0.8267"
       ]
      },
      {
       "output_type": "stream",
       "stream": "stdout",
       "text": [
        "\b\b\b\b\b\b\b\b\b\b\b\b\b\b\b\b\b\b\b\b\b\b\b\b\b\b\b\b\b\b\b\b\b\b\b\b\b\b\b\b\b\b\b\b\b\b\b\b\b\b\b\b\b\b\b\b\b\b\b\b\b\b\b\b\b\b\b\b\b\b\b\b\b\b\b\b\b\b\b\b\b\b\b\r",
        "54912/60000 [==========================>...] - ETA: 1s - loss: 0.6151 - acc: 0.8269"
       ]
      },
      {
       "output_type": "stream",
       "stream": "stdout",
       "text": [
        "\b\b\b\b\b\b\b\b\b\b\b\b\b\b\b\b\b\b\b\b\b\b\b\b\b\b\b\b\b\b\b\b\b\b\b\b\b\b\b\b\b\b\b\b\b\b\b\b\b\b\b\b\b\b\b\b\b\b\b\b\b\b\b\b\b\b\b\b\b\b\b\b\b\b\b\b\b\b\b\b\b\b\b\r",
        "55040/60000 [==========================>...] - ETA: 1s - loss: 0.6141 - acc: 0.8272"
       ]
      },
      {
       "output_type": "stream",
       "stream": "stdout",
       "text": [
        "\b\b\b\b\b\b\b\b\b\b\b\b\b\b\b\b\b\b\b\b\b\b\b\b\b\b\b\b\b\b\b\b\b\b\b\b\b\b\b\b\b\b\b\b\b\b\b\b\b\b\b\b\b\b\b\b\b\b\b\b\b\b\b\b\b\b\b\b\b\b\b\b\b\b\b\b\b\b\b\b\b\b\b\r",
        "55168/60000 [==========================>...] - ETA: 1s - loss: 0.6136 - acc: 0.8273"
       ]
      },
      {
       "output_type": "stream",
       "stream": "stdout",
       "text": [
        "\b\b\b\b\b\b\b\b\b\b\b\b\b\b\b\b\b\b\b\b\b\b\b\b\b\b\b\b\b\b\b\b\b\b\b\b\b\b\b\b\b\b\b\b\b\b\b\b\b\b\b\b\b\b\b\b\b\b\b\b\b\b\b\b\b\b\b\b\b\b\b\b\b\b\b\b\b\b\b\b\b\b\b\r",
        "55296/60000 [==========================>...] - ETA: 1s - loss: 0.6131 - acc: 0.8275"
       ]
      },
      {
       "output_type": "stream",
       "stream": "stdout",
       "text": [
        "\b\b\b\b\b\b\b\b\b\b\b\b\b\b\b\b\b\b\b\b\b\b\b\b\b\b\b\b\b\b\b\b\b\b\b\b\b\b\b\b\b\b\b\b\b\b\b\b\b\b\b\b\b\b\b\b\b\b\b\b\b\b\b\b\b\b\b\b\b\b\b\b\b\b\b\b\b\b\b\b\b\b\b\r",
        "55424/60000 [==========================>...] - ETA: 1s - loss: 0.6124 - acc: 0.8277"
       ]
      },
      {
       "output_type": "stream",
       "stream": "stdout",
       "text": [
        "\b\b\b\b\b\b\b\b\b\b\b\b\b\b\b\b\b\b\b\b\b\b\b\b\b\b\b\b\b\b\b\b\b\b\b\b\b\b\b\b\b\b\b\b\b\b\b\b\b\b\b\b\b\b\b\b\b\b\b\b\b\b\b\b\b\b\b\b\b\b\b\b\b\b\b\b\b\b\b\b\b\b\b\r",
        "55552/60000 [==========================>...] - ETA: 0s - loss: 0.6115 - acc: 0.8279"
       ]
      },
      {
       "output_type": "stream",
       "stream": "stdout",
       "text": [
        "\b\b\b\b\b\b\b\b\b\b\b\b\b\b\b\b\b\b\b\b\b\b\b\b\b\b\b\b\b\b\b\b\b\b\b\b\b\b\b\b\b\b\b\b\b\b\b\b\b\b\b\b\b\b\b\b\b\b\b\b\b\b\b\b\b\b\b\b\b\b\b\b\b\b\b\b\b\b\b\b\b\b\b\r",
        "55680/60000 [==========================>...] - ETA: 0s - loss: 0.6108 - acc: 0.8281"
       ]
      },
      {
       "output_type": "stream",
       "stream": "stdout",
       "text": [
        "\b\b\b\b\b\b\b\b\b\b\b\b\b\b\b\b\b\b\b\b\b\b\b\b\b\b\b\b\b\b\b\b\b\b\b\b\b\b\b\b\b\b\b\b\b\b\b\b\b\b\b\b\b\b\b\b\b\b\b\b\b\b\b\b\b\b\b\b\b\b\b\b\b\b\b\b\b\b\b\b\b\b\b\r",
        "55808/60000 [==========================>...] - ETA: 0s - loss: 0.6099 - acc: 0.8283"
       ]
      },
      {
       "output_type": "stream",
       "stream": "stdout",
       "text": [
        "\b\b\b\b\b\b\b\b\b\b\b\b\b\b\b\b\b\b\b\b\b\b\b\b\b\b\b\b\b\b\b\b\b\b\b\b\b\b\b\b\b\b\b\b\b\b\b\b\b\b\b\b\b\b\b\b\b\b\b\b\b\b\b\b\b\b\b\b\b\b\b\b\b\b\b\b\b\b\b\b\b\b\b\r",
        "55936/60000 [==========================>...] - ETA: 0s - loss: 0.6091 - acc: 0.8285"
       ]
      },
      {
       "output_type": "stream",
       "stream": "stdout",
       "text": [
        "\b\b\b\b\b\b\b\b\b\b\b\b\b\b\b\b\b\b\b\b\b\b\b\b\b\b\b\b\b\b\b\b\b\b\b\b\b\b\b\b\b\b\b\b\b\b\b\b\b\b\b\b\b\b\b\b\b\b\b\b\b\b\b\b\b\b\b\b\b\b\b\b\b\b\b\b\b\b\b\b\b\b\b\r",
        "56064/60000 [===========================>..] - ETA: 0s - loss: 0.6085 - acc: 0.8287"
       ]
      },
      {
       "output_type": "stream",
       "stream": "stdout",
       "text": [
        "\b\b\b\b\b\b\b\b\b\b\b\b\b\b\b\b\b\b\b\b\b\b\b\b\b\b\b\b\b\b\b\b\b\b\b\b\b\b\b\b\b\b\b\b\b\b\b\b\b\b\b\b\b\b\b\b\b\b\b\b\b\b\b\b\b\b\b\b\b\b\b\b\b\b\b\b\b\b\b\b\b\b\b\r",
        "56192/60000 [===========================>..] - ETA: 0s - loss: 0.6076 - acc: 0.8290"
       ]
      },
      {
       "output_type": "stream",
       "stream": "stdout",
       "text": [
        "\b\b\b\b\b\b\b\b\b\b\b\b\b\b\b\b\b\b\b\b\b\b\b\b\b\b\b\b\b\b\b\b\b\b\b\b\b\b\b\b\b\b\b\b\b\b\b\b\b\b\b\b\b\b\b\b\b\b\b\b\b\b\b\b\b\b\b\b\b\b\b\b\b\b\b\b\b\b\b\b\b\b\b\r",
        "56320/60000 [===========================>..] - ETA: 0s - loss: 0.6070 - acc: 0.8291"
       ]
      },
      {
       "output_type": "stream",
       "stream": "stdout",
       "text": [
        "\b\b\b\b\b\b\b\b\b\b\b\b\b\b\b\b\b\b\b\b\b\b\b\b\b\b\b\b\b\b\b\b\b\b\b\b\b\b\b\b\b\b\b\b\b\b\b\b\b\b\b\b\b\b\b\b\b\b\b\b\b\b\b\b\b\b\b\b\b\b\b\b\b\b\b\b\b\b\b\b\b\b\b\r",
        "56448/60000 [===========================>..] - ETA: 0s - loss: 0.6063 - acc: 0.8292"
       ]
      },
      {
       "output_type": "stream",
       "stream": "stdout",
       "text": [
        "\b\b\b\b\b\b\b\b\b\b\b\b\b\b\b\b\b\b\b\b\b\b\b\b\b\b\b\b\b\b\b\b\b\b\b\b\b\b\b\b\b\b\b\b\b\b\b\b\b\b\b\b\b\b\b\b\b\b\b\b\b\b\b\b\b\b\b\b\b\b\b\b\b\b\b\b\b\b\b\b\b\b\b\r",
        "56576/60000 [===========================>..] - ETA: 0s - loss: 0.6058 - acc: 0.8294"
       ]
      },
      {
       "output_type": "stream",
       "stream": "stdout",
       "text": [
        "\b\b\b\b\b\b\b\b\b\b\b\b\b\b\b\b\b\b\b\b\b\b\b\b\b\b\b\b\b\b\b\b\b\b\b\b\b\b\b\b\b\b\b\b\b\b\b\b\b\b\b\b\b\b\b\b\b\b\b\b\b\b\b\b\b\b\b\b\b\b\b\b\b\b\b\b\b\b\b\b\b\b\b\r",
        "56704/60000 [===========================>..] - ETA: 0s - loss: 0.6048 - acc: 0.8297"
       ]
      },
      {
       "output_type": "stream",
       "stream": "stdout",
       "text": [
        "\b\b\b\b\b\b\b\b\b\b\b\b\b\b\b\b\b\b\b\b\b\b\b\b\b\b\b\b\b\b\b\b\b\b\b\b\b\b\b\b\b\b\b\b\b\b\b\b\b\b\b\b\b\b\b\b\b\b\b\b\b\b\b\b\b\b\b\b\b\b\b\b\b\b\b\b\b\b\b\b\b\b\b\r",
        "56832/60000 [===========================>..] - ETA: 0s - loss: 0.6043 - acc: 0.8298"
       ]
      },
      {
       "output_type": "stream",
       "stream": "stdout",
       "text": [
        "\b\b\b\b\b\b\b\b\b\b\b\b\b\b\b\b\b\b\b\b\b\b\b\b\b\b\b\b\b\b\b\b\b\b\b\b\b\b\b\b\b\b\b\b\b\b\b\b\b\b\b\b\b\b\b\b\b\b\b\b\b\b\b\b\b\b\b\b\b\b\b\b\b\b\b\b\b\b\b\b\b\b\b\r",
        "56960/60000 [===========================>..] - ETA: 0s - loss: 0.6035 - acc: 0.8300"
       ]
      },
      {
       "output_type": "stream",
       "stream": "stdout",
       "text": [
        "\b\b\b\b\b\b\b\b\b\b\b\b\b\b\b\b\b\b\b\b\b\b\b\b\b\b\b\b\b\b\b\b\b\b\b\b\b\b\b\b\b\b\b\b\b\b\b\b\b\b\b\b\b\b\b\b\b\b\b\b\b\b\b\b\b\b\b\b\b\b\b\b\b\b\b\b\b\b\b\b\b\b\b\r",
        "57088/60000 [===========================>..] - ETA: 0s - loss: 0.6032 - acc: 0.8301"
       ]
      },
      {
       "output_type": "stream",
       "stream": "stdout",
       "text": [
        "\b\b\b\b\b\b\b\b\b\b\b\b\b\b\b\b\b\b\b\b\b\b\b\b\b\b\b\b\b\b\b\b\b\b\b\b\b\b\b\b\b\b\b\b\b\b\b\b\b\b\b\b\b\b\b\b\b\b\b\b\b\b\b\b\b\b\b\b\b\b\b\b\b\b\b\b\b\b\b\b\b\b\b\r",
        "57216/60000 [===========================>..] - ETA: 0s - loss: 0.6024 - acc: 0.8303"
       ]
      },
      {
       "output_type": "stream",
       "stream": "stdout",
       "text": [
        "\b\b\b\b\b\b\b\b\b\b\b\b\b\b\b\b\b\b\b\b\b\b\b\b\b\b\b\b\b\b\b\b\b\b\b\b\b\b\b\b\b\b\b\b\b\b\b\b\b\b\b\b\b\b\b\b\b\b\b\b\b\b\b\b\b\b\b\b\b\b\b\b\b\b\b\b\b\b\b\b\b\b\b\r",
        "57344/60000 [===========================>..] - ETA: 0s - loss: 0.6016 - acc: 0.8305"
       ]
      },
      {
       "output_type": "stream",
       "stream": "stdout",
       "text": [
        "\b\b\b\b\b\b\b\b\b\b\b\b\b\b\b\b\b\b\b\b\b\b\b\b\b\b\b\b\b\b\b\b\b\b\b\b\b\b\b\b\b\b\b\b\b\b\b\b\b\b\b\b\b\b\b\b\b\b\b\b\b\b\b\b\b\b\b\b\b\b\b\b\b\b\b\b\b\b\b\b\b\b\b\r",
        "57472/60000 [===========================>..] - ETA: 0s - loss: 0.6010 - acc: 0.8307"
       ]
      },
      {
       "output_type": "stream",
       "stream": "stdout",
       "text": [
        "\b\b\b\b\b\b\b\b\b\b\b\b\b\b\b\b\b\b\b\b\b\b\b\b\b\b\b\b\b\b\b\b\b\b\b\b\b\b\b\b\b\b\b\b\b\b\b\b\b\b\b\b\b\b\b\b\b\b\b\b\b\b\b\b\b\b\b\b\b\b\b\b\b\b\b\b\b\b\b\b\b\b\b\r",
        "57600/60000 [===========================>..] - ETA: 0s - loss: 0.6005 - acc: 0.8309"
       ]
      },
      {
       "output_type": "stream",
       "stream": "stdout",
       "text": [
        "\b\b\b\b\b\b\b\b\b\b\b\b\b\b\b\b\b\b\b\b\b\b\b\b\b\b\b\b\b\b\b\b\b\b\b\b\b\b\b\b\b\b\b\b\b\b\b\b\b\b\b\b\b\b\b\b\b\b\b\b\b\b\b\b\b\b\b\b\b\b\b\b\b\b\b\b\b\b\b\b\b\b\b\r",
        "57728/60000 [===========================>..] - ETA: 0s - loss: 0.5999 - acc: 0.8310"
       ]
      },
      {
       "output_type": "stream",
       "stream": "stdout",
       "text": [
        "\b\b\b\b\b\b\b\b\b\b\b\b\b\b\b\b\b\b\b\b\b\b\b\b\b\b\b\b\b\b\b\b\b\b\b\b\b\b\b\b\b\b\b\b\b\b\b\b\b\b\b\b\b\b\b\b\b\b\b\b\b\b\b\b\b\b\b\b\b\b\b\b\b\b\b\b\b\b\b\b\b\b\b\r",
        "57856/60000 [===========================>..] - ETA: 0s - loss: 0.5993 - acc: 0.8312"
       ]
      },
      {
       "output_type": "stream",
       "stream": "stdout",
       "text": [
        "\b\b\b\b\b\b\b\b\b\b\b\b\b\b\b\b\b\b\b\b\b\b\b\b\b\b\b\b\b\b\b\b\b\b\b\b\b\b\b\b\b\b\b\b\b\b\b\b\b\b\b\b\b\b\b\b\b\b\b\b\b\b\b\b\b\b\b\b\b\b\b\b\b\b\b\b\b\b\b\b\b\b\b\r",
        "57984/60000 [===========================>..] - ETA: 0s - loss: 0.5987 - acc: 0.8314"
       ]
      },
      {
       "output_type": "stream",
       "stream": "stdout",
       "text": [
        "\b\b\b\b\b\b\b\b\b\b\b\b\b\b\b\b\b\b\b\b\b\b\b\b\b\b\b\b\b\b\b\b\b\b\b\b\b\b\b\b\b\b\b\b\b\b\b\b\b\b\b\b\b\b\b\b\b\b\b\b\b\b\b\b\b\b\b\b\b\b\b\b\b\b\b\b\b\b\b\b\b\b\b\r",
        "58112/60000 [============================>.] - ETA: 0s - loss: 0.5982 - acc: 0.8314"
       ]
      },
      {
       "output_type": "stream",
       "stream": "stdout",
       "text": [
        "\b\b\b\b\b\b\b\b\b\b\b\b\b\b\b\b\b\b\b\b\b\b\b\b\b\b\b\b\b\b\b\b\b\b\b\b\b\b\b\b\b\b\b\b\b\b\b\b\b\b\b\b\b\b\b\b\b\b\b\b\b\b\b\b\b\b\b\b\b\b\b\b\b\b\b\b\b\b\b\b\b\b\b\r",
        "58240/60000 [============================>.] - ETA: 0s - loss: 0.5974 - acc: 0.8316"
       ]
      },
      {
       "output_type": "stream",
       "stream": "stdout",
       "text": [
        "\b\b\b\b\b\b\b\b\b\b\b\b\b\b\b\b\b\b\b\b\b\b\b\b\b\b\b\b\b\b\b\b\b\b\b\b\b\b\b\b\b\b\b\b\b\b\b\b\b\b\b\b\b\b\b\b\b\b\b\b\b\b\b\b\b\b\b\b\b\b\b\b\b\b\b\b\b\b\b\b\b\b\b\r",
        "58368/60000 [============================>.] - ETA: 0s - loss: 0.5966 - acc: 0.8319"
       ]
      },
      {
       "output_type": "stream",
       "stream": "stdout",
       "text": [
        "\b\b\b\b\b\b\b\b\b\b\b\b\b\b\b\b\b\b\b\b\b\b\b\b\b\b\b\b\b\b\b\b\b\b\b\b\b\b\b\b\b\b\b\b\b\b\b\b\b\b\b\b\b\b\b\b\b\b\b\b\b\b\b\b\b\b\b\b\b\b\b\b\b\b\b\b\b\b\b\b\b\b\b\r",
        "58496/60000 [============================>.] - ETA: 0s - loss: 0.5958 - acc: 0.8321"
       ]
      },
      {
       "output_type": "stream",
       "stream": "stdout",
       "text": [
        "\b\b\b\b\b\b\b\b\b\b\b\b\b\b\b\b\b\b\b\b\b\b\b\b\b\b\b\b\b\b\b\b\b\b\b\b\b\b\b\b\b\b\b\b\b\b\b\b\b\b\b\b\b\b\b\b\b\b\b\b\b\b\b\b\b\b\b\b\b\b\b\b\b\b\b\b\b\b\b\b\b\b\b\r",
        "58624/60000 [============================>.] - ETA: 0s - loss: 0.5949 - acc: 0.8324"
       ]
      },
      {
       "output_type": "stream",
       "stream": "stdout",
       "text": [
        "\b\b\b\b\b\b\b\b\b\b\b\b\b\b\b\b\b\b\b\b\b\b\b\b\b\b\b\b\b\b\b\b\b\b\b\b\b\b\b\b\b\b\b\b\b\b\b\b\b\b\b\b\b\b\b\b\b\b\b\b\b\b\b\b\b\b\b\b\b\b\b\b\b\b\b\b\b\b\b\b\b\b\b\r",
        "58752/60000 [============================>.] - ETA: 0s - loss: 0.5943 - acc: 0.8326"
       ]
      },
      {
       "output_type": "stream",
       "stream": "stdout",
       "text": [
        "\b\b\b\b\b\b\b\b\b\b\b\b\b\b\b\b\b\b\b\b\b\b\b\b\b\b\b\b\b\b\b\b\b\b\b\b\b\b\b\b\b\b\b\b\b\b\b\b\b\b\b\b\b\b\b\b\b\b\b\b\b\b\b\b\b\b\b\b\b\b\b\b\b\b\b\b\b\b\b\b\b\b\b\r",
        "58880/60000 [============================>.] - ETA: 0s - loss: 0.5938 - acc: 0.8327"
       ]
      },
      {
       "output_type": "stream",
       "stream": "stdout",
       "text": [
        "\b\b\b\b\b\b\b\b\b\b\b\b\b\b\b\b\b\b\b\b\b\b\b\b\b\b\b\b\b\b\b\b\b\b\b\b\b\b\b\b\b\b\b\b\b\b\b\b\b\b\b\b\b\b\b\b\b\b\b\b\b\b\b\b\b\b\b\b\b\b\b\b\b\b\b\b\b\b\b\b\b\b\b\r",
        "59008/60000 [============================>.] - ETA: 0s - loss: 0.5934 - acc: 0.8328"
       ]
      },
      {
       "output_type": "stream",
       "stream": "stdout",
       "text": [
        "\b\b\b\b\b\b\b\b\b\b\b\b\b\b\b\b\b\b\b\b\b\b\b\b\b\b\b\b\b\b\b\b\b\b\b\b\b\b\b\b\b\b\b\b\b\b\b\b\b\b\b\b\b\b\b\b\b\b\b\b\b\b\b\b\b\b\b\b\b\b\b\b\b\b\b\b\b\b\b\b\b\b\b\r",
        "59136/60000 [============================>.] - ETA: 0s - loss: 0.5927 - acc: 0.8329"
       ]
      },
      {
       "output_type": "stream",
       "stream": "stdout",
       "text": [
        "\b\b\b\b\b\b\b\b\b\b\b\b\b\b\b\b\b\b\b\b\b\b\b\b\b\b\b\b\b\b\b\b\b\b\b\b\b\b\b\b\b\b\b\b\b\b\b\b\b\b\b\b\b\b\b\b\b\b\b\b\b\b\b\b\b\b\b\b\b\b\b\b\b\b\b\b\b\b\b\b\b\b\b\r",
        "59264/60000 [============================>.] - ETA: 0s - loss: 0.5921 - acc: 0.8331"
       ]
      },
      {
       "output_type": "stream",
       "stream": "stdout",
       "text": [
        "\b\b\b\b\b\b\b\b\b\b\b\b\b\b\b\b\b\b\b\b\b\b\b\b\b\b\b\b\b\b\b\b\b\b\b\b\b\b\b\b\b\b\b\b\b\b\b\b\b\b\b\b\b\b\b\b\b\b\b\b\b\b\b\b\b\b\b\b\b\b\b\b\b\b\b\b\b\b\b\b\b\b\b\r",
        "59392/60000 [============================>.] - ETA: 0s - loss: 0.5915 - acc: 0.8332"
       ]
      },
      {
       "output_type": "stream",
       "stream": "stdout",
       "text": [
        "\b\b\b\b\b\b\b\b\b\b\b\b\b\b\b\b\b\b\b\b\b\b\b\b\b\b\b\b\b\b\b\b\b\b\b\b\b\b\b\b\b\b\b\b\b\b\b\b\b\b\b\b\b\b\b\b\b\b\b\b\b\b\b\b\b\b\b\b\b\b\b\b\b\b\b\b\b\b\b\b\b\b\b\r",
        "59520/60000 [============================>.] - ETA: 0s - loss: 0.5910 - acc: 0.8334"
       ]
      },
      {
       "output_type": "stream",
       "stream": "stdout",
       "text": [
        "\b\b\b\b\b\b\b\b\b\b\b\b\b\b\b\b\b\b\b\b\b\b\b\b\b\b\b\b\b\b\b\b\b\b\b\b\b\b\b\b\b\b\b\b\b\b\b\b\b\b\b\b\b\b\b\b\b\b\b\b\b\b\b\b\b\b\b\b\b\b\b\b\b\b\b\b\b\b\b\b\b\b\b\r",
        "59648/60000 [============================>.] - ETA: 0s - loss: 0.5903 - acc: 0.8335"
       ]
      },
      {
       "output_type": "stream",
       "stream": "stdout",
       "text": [
        "\b\b\b\b\b\b\b\b\b\b\b\b\b\b\b\b\b\b\b\b\b\b\b\b\b\b\b\b\b\b\b\b\b\b\b\b\b\b\b\b\b\b\b\b\b\b\b\b\b\b\b\b\b\b\b\b\b\b\b\b\b\b\b\b\b\b\b\b\b\b\b\b\b\b\b\b\b\b\b\b\b\b\b\r",
        "59776/60000 [============================>.] - ETA: 0s - loss: 0.5894 - acc: 0.8338"
       ]
      },
      {
       "output_type": "stream",
       "stream": "stdout",
       "text": [
        "\b\b\b\b\b\b\b\b\b\b\b\b\b\b\b\b\b\b\b\b\b\b\b\b\b\b\b\b\b\b\b\b\b\b\b\b\b\b\b\b\b\b\b\b\b\b\b\b\b\b\b\b\b\b\b\b\b\b\b\b\b\b\b\b\b\b\b\b\b\b\b\b\b\b\b\b\b\b\b\b\b\b\b\r",
        "59904/60000 [============================>.] - ETA: 0s - loss: 0.5888 - acc: 0.8340"
       ]
      },
      {
       "output_type": "stream",
       "stream": "stdout",
       "text": [
        "\b\b\b\b\b\b\b\b\b\b\b\b\b\b\b\b\b\b\b\b\b\b\b\b\b\b\b\b\b\b\b\b\b\b\b\b\b\b\b\b\b\b\b\b\b\b\b\b\b\b\b\b\b\b\b\b\b\b\b\b\b\b\b\b\b\b\b\b\b\b\b\b\b\b\b\b\b\b\b\b\b\b\b\r",
        "60000/60000 [==============================] - 14s - loss: 0.5883 - acc: 0.8341 - val_loss: 0.2625 - val_acc: 0.9225"
       ]
      },
      {
       "output_type": "stream",
       "stream": "stdout",
       "text": [
        "\n",
        "Epoch 2/3\n",
        "\r",
        "  128/60000 [..............................] - ETA: 12s - loss: 0.3931 - acc: 0.9219"
       ]
      },
      {
       "output_type": "stream",
       "stream": "stdout",
       "text": [
        "\b\b\b\b\b\b\b\b\b\b\b\b\b\b\b\b\b\b\b\b\b\b\b\b\b\b\b\b\b\b\b\b\b\b\b\b\b\b\b\b\b\b\b\b\b\b\b\b\b\b\b\b\b\b\b\b\b\b\b\b\b\b\b\b\b\b\b\b\b\b\b\b\b\b\b\b\b\b\b\b\b\b\b\b\r",
        "  256/60000 [..............................] - ETA: 12s - loss: 0.3454 - acc: 0.8984"
       ]
      },
      {
       "output_type": "stream",
       "stream": "stdout",
       "text": [
        "\b\b\b\b\b\b\b\b\b\b\b\b\b\b\b\b\b\b\b\b\b\b\b\b\b\b\b\b\b\b\b\b\b\b\b\b\b\b\b\b\b\b\b\b\b\b\b\b\b\b\b\b\b\b\b\b\b\b\b\b\b\b\b\b\b\b\b\b\b\b\b\b\b\b\b\b\b\b\b\b\b\b\b\b\r",
        "  384/60000 [..............................] - ETA: 11s - loss: 0.3106 - acc: 0.9141"
       ]
      },
      {
       "output_type": "stream",
       "stream": "stdout",
       "text": [
        "\b\b\b\b\b\b\b\b\b\b\b\b\b\b\b\b\b\b\b\b\b\b\b\b\b\b\b\b\b\b\b\b\b\b\b\b\b\b\b\b\b\b\b\b\b\b\b\b\b\b\b\b\b\b\b\b\b\b\b\b\b\b\b\b\b\b\b\b\b\b\b\b\b\b\b\b\b\b\b\b\b\b\b\b\r",
        "  512/60000 [..............................] - ETA: 11s - loss: 0.3441 - acc: 0.8945"
       ]
      },
      {
       "output_type": "stream",
       "stream": "stdout",
       "text": [
        "\b\b\b\b\b\b\b\b\b\b\b\b\b\b\b\b\b\b\b\b\b\b\b\b\b\b\b\b\b\b\b\b\b\b\b\b\b\b\b\b\b\b\b\b\b\b\b\b\b\b\b\b\b\b\b\b\b\b\b\b\b\b\b\b\b\b\b\b\b\b\b\b\b\b\b\b\b\b\b\b\b\b\b\b\r",
        "  640/60000 [..............................] - ETA: 11s - loss: 0.3392 - acc: 0.8984"
       ]
      },
      {
       "output_type": "stream",
       "stream": "stdout",
       "text": [
        "\b\b\b\b\b\b\b\b\b\b\b\b\b\b\b\b\b\b\b\b\b\b\b\b\b\b\b\b\b\b\b\b\b\b\b\b\b\b\b\b\b\b\b\b\b\b\b\b\b\b\b\b\b\b\b\b\b\b\b\b\b\b\b\b\b\b\b\b\b\b\b\b\b\b\b\b\b\b\b\b\b\b\b\b\r",
        "  768/60000 [..............................] - ETA: 11s - loss: 0.3199 - acc: 0.9036"
       ]
      },
      {
       "output_type": "stream",
       "stream": "stdout",
       "text": [
        "\b\b\b\b\b\b\b\b\b\b\b\b\b\b\b\b\b\b\b\b\b\b\b\b\b\b\b\b\b\b\b\b\b\b\b\b\b\b\b\b\b\b\b\b\b\b\b\b\b\b\b\b\b\b\b\b\b\b\b\b\b\b\b\b\b\b\b\b\b\b\b\b\b\b\b\b\b\b\b\b\b\b\b\b\r",
        "  896/60000 [..............................] - ETA: 11s - loss: 0.3201 - acc: 0.9040"
       ]
      },
      {
       "output_type": "stream",
       "stream": "stdout",
       "text": [
        "\b\b\b\b\b\b\b\b\b\b\b\b\b\b\b\b\b\b\b\b\b\b\b\b\b\b\b\b\b\b\b\b\b\b\b\b\b\b\b\b\b\b\b\b\b\b\b\b\b\b\b\b\b\b\b\b\b\b\b\b\b\b\b\b\b\b\b\b\b\b\b\b\b\b\b\b\b\b\b\b\b\b\b\b\r",
        " 1024/60000 [..............................] - ETA: 11s - loss: 0.3115 - acc: 0.9043"
       ]
      },
      {
       "output_type": "stream",
       "stream": "stdout",
       "text": [
        "\b\b\b\b\b\b\b\b\b\b\b\b\b\b\b\b\b\b\b\b\b\b\b\b\b\b\b\b\b\b\b\b\b\b\b\b\b\b\b\b\b\b\b\b\b\b\b\b\b\b\b\b\b\b\b\b\b\b\b\b\b\b\b\b\b\b\b\b\b\b\b\b\b\b\b\b\b\b\b\b\b\b\b\b\r",
        " 1152/60000 [..............................] - ETA: 11s - loss: 0.3081 - acc: 0.9062"
       ]
      },
      {
       "output_type": "stream",
       "stream": "stdout",
       "text": [
        "\b\b\b\b\b\b\b\b\b\b\b\b\b\b\b\b\b\b\b\b\b\b\b\b\b\b\b\b\b\b\b\b\b\b\b\b\b\b\b\b\b\b\b\b\b\b\b\b\b\b\b\b\b\b\b\b\b\b\b\b\b\b\b\b\b\b\b\b\b\b\b\b\b\b\b\b\b\b\b\b\b\b\b\b\r",
        " 1280/60000 [..............................] - ETA: 11s - loss: 0.3104 - acc: 0.9055"
       ]
      },
      {
       "output_type": "stream",
       "stream": "stdout",
       "text": [
        "\b\b\b\b\b\b\b\b\b\b\b\b\b\b\b\b\b\b\b\b\b\b\b\b\b\b\b\b\b\b\b\b\b\b\b\b\b\b\b\b\b\b\b\b\b\b\b\b\b\b\b\b\b\b\b\b\b\b\b\b\b\b\b\b\b\b\b\b\b\b\b\b\b\b\b\b\b\b\b\b\b\b\b\b\r",
        " 1408/60000 [..............................] - ETA: 11s - loss: 0.3071 - acc: 0.9077"
       ]
      },
      {
       "output_type": "stream",
       "stream": "stdout",
       "text": [
        "\b\b\b\b\b\b\b\b\b\b\b\b\b\b\b\b\b\b\b\b\b\b\b\b\b\b\b\b\b\b\b\b\b\b\b\b\b\b\b\b\b\b\b\b\b\b\b\b\b\b\b\b\b\b\b\b\b\b\b\b\b\b\b\b\b\b\b\b\b\b\b\b\b\b\b\b\b\b\b\b\b\b\b\b\r",
        " 1536/60000 [..............................] - ETA: 11s - loss: 0.3019 - acc: 0.9102"
       ]
      },
      {
       "output_type": "stream",
       "stream": "stdout",
       "text": [
        "\b\b\b\b\b\b\b\b\b\b\b\b\b\b\b\b\b\b\b\b\b\b\b\b\b\b\b\b\b\b\b\b\b\b\b\b\b\b\b\b\b\b\b\b\b\b\b\b\b\b\b\b\b\b\b\b\b\b\b\b\b\b\b\b\b\b\b\b\b\b\b\b\b\b\b\b\b\b\b\b\b\b\b\b\r",
        " 1664/60000 [..............................] - ETA: 11s - loss: 0.2989 - acc: 0.9111"
       ]
      },
      {
       "output_type": "stream",
       "stream": "stdout",
       "text": [
        "\b\b\b\b\b\b\b\b\b\b\b\b\b\b\b\b\b\b\b\b\b\b\b\b\b\b\b\b\b\b\b\b\b\b\b\b\b\b\b\b\b\b\b\b\b\b\b\b\b\b\b\b\b\b\b\b\b\b\b\b\b\b\b\b\b\b\b\b\b\b\b\b\b\b\b\b\b\b\b\b\b\b\b\b\r",
        " 1792/60000 [..............................] - ETA: 11s - loss: 0.2896 - acc: 0.9146"
       ]
      },
      {
       "output_type": "stream",
       "stream": "stdout",
       "text": [
        "\b\b\b\b\b\b\b\b\b\b\b\b\b\b\b\b\b\b\b\b\b\b\b\b\b\b\b\b\b\b\b\b\b\b\b\b\b\b\b\b\b\b\b\b\b\b\b\b\b\b\b\b\b\b\b\b\b\b\b\b\b\b\b\b\b\b\b\b\b\b\b\b\b\b\b\b\b\b\b\b\b\b\b\b\r",
        " 1920/60000 [..............................] - ETA: 11s - loss: 0.2898 - acc: 0.9151"
       ]
      },
      {
       "output_type": "stream",
       "stream": "stdout",
       "text": [
        "\b\b\b\b\b\b\b\b\b\b\b\b\b\b\b\b\b\b\b\b\b\b\b\b\b\b\b\b\b\b\b\b\b\b\b\b\b\b\b\b\b\b\b\b\b\b\b\b\b\b\b\b\b\b\b\b\b\b\b\b\b\b\b\b\b\b\b\b\b\b\b\b\b\b\b\b\b\b\b\b\b\b\b\b\r",
        " 2048/60000 [>.............................] - ETA: 11s - loss: 0.2931 - acc: 0.9155"
       ]
      },
      {
       "output_type": "stream",
       "stream": "stdout",
       "text": [
        "\b\b\b\b\b\b\b\b\b\b\b\b\b\b\b\b\b\b\b\b\b\b\b\b\b\b\b\b\b\b\b\b\b\b\b\b\b\b\b\b\b\b\b\b\b\b\b\b\b\b\b\b\b\b\b\b\b\b\b\b\b\b\b\b\b\b\b\b\b\b\b\b\b\b\b\b\b\b\b\b\b\b\b\b\r",
        " 2176/60000 [>.............................] - ETA: 11s - loss: 0.2938 - acc: 0.9141"
       ]
      },
      {
       "output_type": "stream",
       "stream": "stdout",
       "text": [
        "\b\b\b\b\b\b\b\b\b\b\b\b\b\b\b\b\b\b\b\b\b\b\b\b\b\b\b\b\b\b\b\b\b\b\b\b\b\b\b\b\b\b\b\b\b\b\b\b\b\b\b\b\b\b\b\b\b\b\b\b\b\b\b\b\b\b\b\b\b\b\b\b\b\b\b\b\b\b\b\b\b\b\b\b\r",
        " 2304/60000 [>.............................] - ETA: 11s - loss: 0.2940 - acc: 0.9115"
       ]
      },
      {
       "output_type": "stream",
       "stream": "stdout",
       "text": [
        "\b\b\b\b\b\b\b\b\b\b\b\b\b\b\b\b\b\b\b\b\b\b\b\b\b\b\b\b\b\b\b\b\b\b\b\b\b\b\b\b\b\b\b\b\b\b\b\b\b\b\b\b\b\b\b\b\b\b\b\b\b\b\b\b\b\b\b\b\b\b\b\b\b\b\b\b\b\b\b\b\b\b\b\b\r",
        " 2432/60000 [>.............................] - ETA: 11s - loss: 0.2989 - acc: 0.9112"
       ]
      },
      {
       "output_type": "stream",
       "stream": "stdout",
       "text": [
        "\b\b\b\b\b\b\b\b\b\b\b\b\b\b\b\b\b\b\b\b\b\b\b\b\b\b\b\b\b\b\b\b\b\b\b\b\b\b\b\b\b\b\b\b\b\b\b\b\b\b\b\b\b\b\b\b\b\b\b\b\b\b\b\b\b\b\b\b\b\b\b\b\b\b\b\b\b\b\b\b\b\b\b\b\r",
        " 2560/60000 [>.............................] - ETA: 11s - loss: 0.2964 - acc: 0.9129"
       ]
      },
      {
       "output_type": "stream",
       "stream": "stdout",
       "text": [
        "\b\b\b\b\b\b\b\b\b\b\b\b\b\b\b\b\b\b\b\b\b\b\b\b\b\b\b\b\b\b\b\b\b\b\b\b\b\b\b\b\b\b\b\b\b\b\b\b\b\b\b\b\b\b\b\b\b\b\b\b\b\b\b\b\b\b\b\b\b\b\b\b\b\b\b\b\b\b\b\b\b\b\b\b\r",
        " 2688/60000 [>.............................] - ETA: 11s - loss: 0.2977 - acc: 0.9122"
       ]
      },
      {
       "output_type": "stream",
       "stream": "stdout",
       "text": [
        "\b\b\b\b\b\b\b\b\b\b\b\b\b\b\b\b\b\b\b\b\b\b\b\b\b\b\b\b\b\b\b\b\b\b\b\b\b\b\b\b\b\b\b\b\b\b\b\b\b\b\b\b\b\b\b\b\b\b\b\b\b\b\b\b\b\b\b\b\b\b\b\b\b\b\b\b\b\b\b\b\b\b\b\b\r",
        " 2816/60000 [>.............................] - ETA: 11s - loss: 0.2996 - acc: 0.9126"
       ]
      },
      {
       "output_type": "stream",
       "stream": "stdout",
       "text": [
        "\b\b\b\b\b\b\b\b\b\b\b\b\b\b\b\b\b\b\b\b\b\b\b\b\b\b\b\b\b\b\b\b\b\b\b\b\b\b\b\b\b\b\b\b\b\b\b\b\b\b\b\b\b\b\b\b\b\b\b\b\b\b\b\b\b\b\b\b\b\b\b\b\b\b\b\b\b\b\b\b\b\b\b\b\r",
        " 2944/60000 [>.............................] - ETA: 11s - loss: 0.2970 - acc: 0.9130"
       ]
      },
      {
       "output_type": "stream",
       "stream": "stdout",
       "text": [
        "\b\b\b\b\b\b\b\b\b\b\b\b\b\b\b\b\b\b\b\b\b\b\b\b\b\b\b\b\b\b\b\b\b\b\b\b\b\b\b\b\b\b\b\b\b\b\b\b\b\b\b\b\b\b\b\b\b\b\b\b\b\b\b\b\b\b\b\b\b\b\b\b\b\b\b\b\b\b\b\b\b\b\b\b\r",
        " 3072/60000 [>.............................] - ETA: 11s - loss: 0.2984 - acc: 0.9118"
       ]
      },
      {
       "output_type": "stream",
       "stream": "stdout",
       "text": [
        "\b\b\b\b\b\b\b\b\b\b\b\b\b\b\b\b\b\b\b\b\b\b\b\b\b\b\b\b\b\b\b\b\b\b\b\b\b\b\b\b\b\b\b\b\b\b\b\b\b\b\b\b\b\b\b\b\b\b\b\b\b\b\b\b\b\b\b\b\b\b\b\b\b\b\b\b\b\b\b\b\b\b\b\b\r",
        " 3200/60000 [>.............................] - ETA: 11s - loss: 0.3012 - acc: 0.9116"
       ]
      },
      {
       "output_type": "stream",
       "stream": "stdout",
       "text": [
        "\b\b\b\b\b\b\b\b\b\b\b\b\b\b\b\b\b\b\b\b\b\b\b\b\b\b\b\b\b\b\b\b\b\b\b\b\b\b\b\b\b\b\b\b\b\b\b\b\b\b\b\b\b\b\b\b\b\b\b\b\b\b\b\b\b\b\b\b\b\b\b\b\b\b\b\b\b\b\b\b\b\b\b\b\r",
        " 3328/60000 [>.............................] - ETA: 11s - loss: 0.2998 - acc: 0.9120"
       ]
      },
      {
       "output_type": "stream",
       "stream": "stdout",
       "text": [
        "\b\b\b\b\b\b\b\b\b\b\b\b\b\b\b\b\b\b\b\b\b\b\b\b\b\b\b\b\b\b\b\b\b\b\b\b\b\b\b\b\b\b\b\b\b\b\b\b\b\b\b\b\b\b\b\b\b\b\b\b\b\b\b\b\b\b\b\b\b\b\b\b\b\b\b\b\b\b\b\b\b\b\b\b\r",
        " 3456/60000 [>.............................] - ETA: 11s - loss: 0.2996 - acc: 0.9112"
       ]
      },
      {
       "output_type": "stream",
       "stream": "stdout",
       "text": [
        "\b\b\b\b\b\b\b\b\b\b\b\b\b\b\b\b\b\b\b\b\b\b\b\b\b\b\b\b\b\b\b\b\b\b\b\b\b\b\b\b\b\b\b\b\b\b\b\b\b\b\b\b\b\b\b\b\b\b\b\b\b\b\b\b\b\b\b\b\b\b\b\b\b\b\b\b\b\b\b\b\b\b\b\b\r",
        " 3584/60000 [>.............................] - ETA: 10s - loss: 0.2976 - acc: 0.9118"
       ]
      },
      {
       "output_type": "stream",
       "stream": "stdout",
       "text": [
        "\b\b\b\b\b\b\b\b\b\b\b\b\b\b\b\b\b\b\b\b\b\b\b\b\b\b\b\b\b\b\b\b\b\b\b\b\b\b\b\b\b\b\b\b\b\b\b\b\b\b\b\b\b\b\b\b\b\b\b\b\b\b\b\b\b\b\b\b\b\b\b\b\b\b\b\b\b\b\b\b\b\b\b\b\r",
        " 3712/60000 [>.............................] - ETA: 10s - loss: 0.3002 - acc: 0.9116"
       ]
      },
      {
       "output_type": "stream",
       "stream": "stdout",
       "text": [
        "\b\b\b\b\b\b\b\b\b\b\b\b\b\b\b\b\b\b\b\b\b\b\b\b\b\b\b\b\b\b\b\b\b\b\b\b\b\b\b\b\b\b\b\b\b\b\b\b\b\b\b\b\b\b\b\b\b\b\b\b\b\b\b\b\b\b\b\b\b\b\b\b\b\b\b\b\b\b\b\b\b\b\b\b\r",
        " 3840/60000 [>.............................] - ETA: 10s - loss: 0.2995 - acc: 0.9117"
       ]
      },
      {
       "output_type": "stream",
       "stream": "stdout",
       "text": [
        "\b\b\b\b\b\b\b\b\b\b\b\b\b\b\b\b\b\b\b\b\b\b\b\b\b\b\b\b\b\b\b\b\b\b\b\b\b\b\b\b\b\b\b\b\b\b\b\b\b\b\b\b\b\b\b\b\b\b\b\b\b\b\b\b\b\b\b\b\b\b\b\b\b\b\b\b\b\b\b\b\b\b\b\b\r",
        " 3968/60000 [>.............................] - ETA: 10s - loss: 0.2972 - acc: 0.9123"
       ]
      },
      {
       "output_type": "stream",
       "stream": "stdout",
       "text": [
        "\b\b\b\b\b\b\b\b\b\b\b\b\b\b\b\b\b\b\b\b\b\b\b\b\b\b\b\b\b\b\b\b\b\b\b\b\b\b\b\b\b\b\b\b\b\b\b\b\b\b\b\b\b\b\b\b\b\b\b\b\b\b\b\b\b\b\b\b\b\b\b\b\b\b\b\b\b\b\b\b\b\b\b\b\r",
        " 4096/60000 [=>............................] - ETA: 10s - loss: 0.2971 - acc: 0.9126"
       ]
      },
      {
       "output_type": "stream",
       "stream": "stdout",
       "text": [
        "\b\b\b\b\b\b\b\b\b\b\b\b\b\b\b\b\b\b\b\b\b\b\b\b\b\b\b\b\b\b\b\b\b\b\b\b\b\b\b\b\b\b\b\b\b\b\b\b\b\b\b\b\b\b\b\b\b\b\b\b\b\b\b\b\b\b\b\b\b\b\b\b\b\b\b\b\b\b\b\b\b\b\b\b\r",
        " 4224/60000 [=>............................] - ETA: 10s - loss: 0.2985 - acc: 0.9119"
       ]
      },
      {
       "output_type": "stream",
       "stream": "stdout",
       "text": [
        "\b\b\b\b\b\b\b\b\b\b\b\b\b\b\b\b\b\b\b\b\b\b\b\b\b\b\b\b\b\b\b\b\b\b\b\b\b\b\b\b\b\b\b\b\b\b\b\b\b\b\b\b\b\b\b\b\b\b\b\b\b\b\b\b\b\b\b\b\b\b\b\b\b\b\b\b\b\b\b\b\b\b\b\b\r",
        " 4352/60000 [=>............................] - ETA: 10s - loss: 0.2989 - acc: 0.9115"
       ]
      },
      {
       "output_type": "stream",
       "stream": "stdout",
       "text": [
        "\b\b\b\b\b\b\b\b\b\b\b\b\b\b\b\b\b\b\b\b\b\b\b\b\b\b\b\b\b\b\b\b\b\b\b\b\b\b\b\b\b\b\b\b\b\b\b\b\b\b\b\b\b\b\b\b\b\b\b\b\b\b\b\b\b\b\b\b\b\b\b\b\b\b\b\b\b\b\b\b\b\b\b\b\r",
        " 4480/60000 [=>............................] - ETA: 10s - loss: 0.2995 - acc: 0.9107"
       ]
      },
      {
       "output_type": "stream",
       "stream": "stdout",
       "text": [
        "\b\b\b\b\b\b\b\b\b\b\b\b\b\b\b\b\b\b\b\b\b\b\b\b\b\b\b\b\b\b\b\b\b\b\b\b\b\b\b\b\b\b\b\b\b\b\b\b\b\b\b\b\b\b\b\b\b\b\b\b\b\b\b\b\b\b\b\b\b\b\b\b\b\b\b\b\b\b\b\b\b\b\b\b\r",
        " 4608/60000 [=>............................] - ETA: 10s - loss: 0.3008 - acc: 0.9108"
       ]
      },
      {
       "output_type": "stream",
       "stream": "stdout",
       "text": [
        "\b\b\b\b\b\b\b\b\b\b\b\b\b\b\b\b\b\b\b\b\b\b\b\b\b\b\b\b\b\b\b\b\b\b\b\b\b\b\b\b\b\b\b\b\b\b\b\b\b\b\b\b\b\b\b\b\b\b\b\b\b\b\b\b\b\b\b\b\b\b\b\b\b\b\b\b\b\b\b\b\b\b\b\b\r",
        " 4736/60000 [=>............................] - ETA: 10s - loss: 0.2981 - acc: 0.9120"
       ]
      },
      {
       "output_type": "stream",
       "stream": "stdout",
       "text": [
        "\b\b\b\b\b\b\b\b\b\b\b\b\b\b\b\b\b\b\b\b\b\b\b\b\b\b\b\b\b\b\b\b\b\b\b\b\b\b\b\b\b\b\b\b\b\b\b\b\b\b\b\b\b\b\b\b\b\b\b\b\b\b\b\b\b\b\b\b\b\b\b\b\b\b\b\b\b\b\b\b\b\b\b\b\r",
        " 4864/60000 [=>............................] - ETA: 10s - loss: 0.2994 - acc: 0.9118"
       ]
      },
      {
       "output_type": "stream",
       "stream": "stdout",
       "text": [
        "\b\b\b\b\b\b\b\b\b\b\b\b\b\b\b\b\b\b\b\b\b\b\b\b\b\b\b\b\b\b\b\b\b\b\b\b\b\b\b\b\b\b\b\b\b\b\b\b\b\b\b\b\b\b\b\b\b\b\b\b\b\b\b\b\b\b\b\b\b\b\b\b\b\b\b\b\b\b\b\b\b\b\b\b\r",
        " 4992/60000 [=>............................] - ETA: 10s - loss: 0.3000 - acc: 0.9119"
       ]
      },
      {
       "output_type": "stream",
       "stream": "stdout",
       "text": [
        "\b\b\b\b\b\b\b\b\b\b\b\b\b\b\b\b\b\b\b\b\b\b\b\b\b\b\b\b\b\b\b\b\b\b\b\b\b\b\b\b\b\b\b\b\b\b\b\b\b\b\b\b\b\b\b\b\b\b\b\b\b\b\b\b\b\b\b\b\b\b\b\b\b\b\b\b\b\b\b\b\b\b\b\b\r",
        " 5120/60000 [=>............................] - ETA: 10s - loss: 0.2987 - acc: 0.9125"
       ]
      },
      {
       "output_type": "stream",
       "stream": "stdout",
       "text": [
        "\b\b\b\b\b\b\b\b\b\b\b\b\b\b\b\b\b\b\b\b\b\b\b\b\b\b\b\b\b\b\b\b\b\b\b\b\b\b\b\b\b\b\b\b\b\b\b\b\b\b\b\b\b\b\b\b\b\b\b\b\b\b\b\b\b\b\b\b\b\b\b\b\b\b\b\b\b\b\b\b\b\b\b\b\r",
        " 5248/60000 [=>............................] - ETA: 10s - loss: 0.2979 - acc: 0.9127"
       ]
      },
      {
       "output_type": "stream",
       "stream": "stdout",
       "text": [
        "\b\b\b\b\b\b\b\b\b\b\b\b\b\b\b\b\b\b\b\b\b\b\b\b\b\b\b\b\b\b\b\b\b\b\b\b\b\b\b\b\b\b\b\b\b\b\b\b\b\b\b\b\b\b\b\b\b\b\b\b\b\b\b\b\b\b\b\b\b\b\b\b\b\b\b\b\b\b\b\b\b\b\b\b\r",
        " 5376/60000 [=>............................] - ETA: 10s - loss: 0.2981 - acc: 0.9124"
       ]
      },
      {
       "output_type": "stream",
       "stream": "stdout",
       "text": [
        "\b\b\b\b\b\b\b\b\b\b\b\b\b\b\b\b\b\b\b\b\b\b\b\b\b\b\b\b\b\b\b\b\b\b\b\b\b\b\b\b\b\b\b\b\b\b\b\b\b\b\b\b\b\b\b\b\b\b\b\b\b\b\b\b\b\b\b\b\b\b\b\b\b\b\b\b\b\b\b\b\b\b\b\b\r",
        " 5504/60000 [=>............................] - ETA: 10s - loss: 0.2969 - acc: 0.9121"
       ]
      },
      {
       "output_type": "stream",
       "stream": "stdout",
       "text": [
        "\b\b\b\b\b\b\b\b\b\b\b\b\b\b\b\b\b\b\b\b\b\b\b\b\b\b\b\b\b\b\b\b\b\b\b\b\b\b\b\b\b\b\b\b\b\b\b\b\b\b\b\b\b\b\b\b\b\b\b\b\b\b\b\b\b\b\b\b\b\b\b\b\b\b\b\b\b\b\b\b\b\b\b\b\r",
        " 5632/60000 [=>............................] - ETA: 10s - loss: 0.2968 - acc: 0.9118"
       ]
      },
      {
       "output_type": "stream",
       "stream": "stdout",
       "text": [
        "\b\b\b\b\b\b\b\b\b\b\b\b\b\b\b\b\b\b\b\b\b\b\b\b\b\b\b\b\b\b\b\b\b\b\b\b\b\b\b\b\b\b\b\b\b\b\b\b\b\b\b\b\b\b\b\b\b\b\b\b\b\b\b\b\b\b\b\b\b\b\b\b\b\b\b\b\b\b\b\b\b\b\b\b\r",
        " 5760/60000 [=>............................] - ETA: 10s - loss: 0.2980 - acc: 0.9120"
       ]
      },
      {
       "output_type": "stream",
       "stream": "stdout",
       "text": [
        "\b\b\b\b\b\b\b\b\b\b\b\b\b\b\b\b\b\b\b\b\b\b\b\b\b\b\b\b\b\b\b\b\b\b\b\b\b\b\b\b\b\b\b\b\b\b\b\b\b\b\b\b\b\b\b\b\b\b\b\b\b\b\b\b\b\b\b\b\b\b\b\b\b\b\b\b\b\b\b\b\b\b\b\b\r",
        " 5888/60000 [=>............................] - ETA: 10s - loss: 0.2969 - acc: 0.9125"
       ]
      },
      {
       "output_type": "stream",
       "stream": "stdout",
       "text": [
        "\b\b\b\b\b\b\b\b\b\b\b\b\b\b\b\b\b\b\b\b\b\b\b\b\b\b\b\b\b\b\b\b\b\b\b\b\b\b\b\b\b\b\b\b\b\b\b\b\b\b\b\b\b\b\b\b\b\b\b\b\b\b\b\b\b\b\b\b\b\b\b\b\b\b\b\b\b\b\b\b\b\b\b\b\r",
        " 6016/60000 [==>...........................] - ETA: 10s - loss: 0.2967 - acc: 0.9126"
       ]
      },
      {
       "output_type": "stream",
       "stream": "stdout",
       "text": [
        "\b\b\b\b\b\b\b\b\b\b\b\b\b\b\b\b\b\b\b\b\b\b\b\b\b\b\b\b\b\b\b\b\b\b\b\b\b\b\b\b\b\b\b\b\b\b\b\b\b\b\b\b\b\b\b\b\b\b\b\b\b\b\b\b\b\b\b\b\b\b\b\b\b\b\b\b\b\b\b\b\b\b\b\b\r",
        " 6144/60000 [==>...........................] - ETA: 10s - loss: 0.2971 - acc: 0.9124"
       ]
      },
      {
       "output_type": "stream",
       "stream": "stdout",
       "text": [
        "\b\b\b\b\b\b\b\b\b\b\b\b\b\b\b\b\b\b\b\b\b\b\b\b\b\b\b\b\b\b\b\b\b\b\b\b\b\b\b\b\b\b\b\b\b\b\b\b\b\b\b\b\b\b\b\b\b\b\b\b\b\b\b\b\b\b\b\b\b\b\b\b\b\b\b\b\b\b\b\b\b\b\b\b\r",
        " 6272/60000 [==>...........................] - ETA: 10s - loss: 0.2980 - acc: 0.9120"
       ]
      },
      {
       "output_type": "stream",
       "stream": "stdout",
       "text": [
        "\b\b\b\b\b\b\b\b\b\b\b\b\b\b\b\b\b\b\b\b\b\b\b\b\b\b\b\b\b\b\b\b\b\b\b\b\b\b\b\b\b\b\b\b\b\b\b\b\b\b\b\b\b\b\b\b\b\b\b\b\b\b\b\b\b\b\b\b\b\b\b\b\b\b\b\b\b\b\b\b\b\b\b\b\r",
        " 6400/60000 [==>...........................] - ETA: 10s - loss: 0.2960 - acc: 0.9128"
       ]
      },
      {
       "output_type": "stream",
       "stream": "stdout",
       "text": [
        "\b\b\b\b\b\b\b\b\b\b\b\b\b\b\b\b\b\b\b\b\b\b\b\b\b\b\b\b\b\b\b\b\b\b\b\b\b\b\b\b\b\b\b\b\b\b\b\b\b\b\b\b\b\b\b\b\b\b\b\b\b\b\b\b\b\b\b\b\b\b\b\b\b\b\b\b\b\b\b\b\b\b\b\b\r",
        " 6528/60000 [==>...........................] - ETA: 10s - loss: 0.2937 - acc: 0.9131"
       ]
      },
      {
       "output_type": "stream",
       "stream": "stdout",
       "text": [
        "\b\b\b\b\b\b\b\b\b\b\b\b\b\b\b\b\b\b\b\b\b\b\b\b\b\b\b\b\b\b\b\b\b\b\b\b\b\b\b\b\b\b\b\b\b\b\b\b\b\b\b\b\b\b\b\b\b\b\b\b\b\b\b\b\b\b\b\b\b\b\b\b\b\b\b\b\b\b\b\b\b\b\b\b\r",
        " 6656/60000 [==>...........................] - ETA: 10s - loss: 0.2956 - acc: 0.9120"
       ]
      },
      {
       "output_type": "stream",
       "stream": "stdout",
       "text": [
        "\b\b\b\b\b\b\b\b\b\b\b\b\b\b\b\b\b\b\b\b\b\b\b\b\b\b\b\b\b\b\b\b\b\b\b\b\b\b\b\b\b\b\b\b\b\b\b\b\b\b\b\b\b\b\b\b\b\b\b\b\b\b\b\b\b\b\b\b\b\b\b\b\b\b\b\b\b\b\b\b\b\b\b\b\r",
        " 6784/60000 [==>...........................] - ETA: 10s - loss: 0.2956 - acc: 0.9120"
       ]
      },
      {
       "output_type": "stream",
       "stream": "stdout",
       "text": [
        "\b\b\b\b\b\b\b\b\b\b\b\b\b\b\b\b\b\b\b\b\b\b\b\b\b\b\b\b\b\b\b\b\b\b\b\b\b\b\b\b\b\b\b\b\b\b\b\b\b\b\b\b\b\b\b\b\b\b\b\b\b\b\b\b\b\b\b\b\b\b\b\b\b\b\b\b\b\b\b\b\b\b\b\b\r",
        " 6912/60000 [==>...........................] - ETA: 10s - loss: 0.2956 - acc: 0.9122"
       ]
      },
      {
       "output_type": "stream",
       "stream": "stdout",
       "text": [
        "\b\b\b\b\b\b\b\b\b\b\b\b\b\b\b\b\b\b\b\b\b\b\b\b\b\b\b\b\b\b\b\b\b\b\b\b\b\b\b\b\b\b\b\b\b\b\b\b\b\b\b\b\b\b\b\b\b\b\b\b\b\b\b\b\b\b\b\b\b\b\b\b\b\b\b\b\b\b\b\b\b\b\b\b\r",
        " 7040/60000 [==>...........................] - ETA: 10s - loss: 0.2956 - acc: 0.9118"
       ]
      },
      {
       "output_type": "stream",
       "stream": "stdout",
       "text": [
        "\b\b\b\b\b\b\b\b\b\b\b\b\b\b\b\b\b\b\b\b\b\b\b\b\b\b\b\b\b\b\b\b\b\b\b\b\b\b\b\b\b\b\b\b\b\b\b\b\b\b\b\b\b\b\b\b\b\b\b\b\b\b\b\b\b\b\b\b\b\b\b\b\b\b\b\b\b\b\b\b\b\b\b\b\r",
        " 7168/60000 [==>...........................] - ETA: 10s - loss: 0.2941 - acc: 0.9124"
       ]
      },
      {
       "output_type": "stream",
       "stream": "stdout",
       "text": [
        "\b\b\b\b\b\b\b\b\b\b\b\b\b\b\b\b\b\b\b\b\b\b\b\b\b\b\b\b\b\b\b\b\b\b\b\b\b\b\b\b\b\b\b\b\b\b\b\b\b\b\b\b\b\b\b\b\b\b\b\b\b\b\b\b\b\b\b\b\b\b\b\b\b\b\b\b\b\b\b\b\b\b\b\b\r",
        " 7296/60000 [==>...........................] - ETA: 10s - loss: 0.2922 - acc: 0.9132"
       ]
      },
      {
       "output_type": "stream",
       "stream": "stdout",
       "text": [
        "\b\b\b\b\b\b\b\b\b\b\b\b\b\b\b\b\b\b\b\b\b\b\b\b\b\b\b\b\b\b\b\b\b\b\b\b\b\b\b\b\b\b\b\b\b\b\b\b\b\b\b\b\b\b\b\b\b\b\b\b\b\b\b\b\b\b\b\b\b\b\b\b\b\b\b\b\b\b\b\b\b\b\b\b\r",
        " 7424/60000 [==>...........................] - ETA: 10s - loss: 0.2934 - acc: 0.9131"
       ]
      },
      {
       "output_type": "stream",
       "stream": "stdout",
       "text": [
        "\b\b\b\b\b\b\b\b\b\b\b\b\b\b\b\b\b\b\b\b\b\b\b\b\b\b\b\b\b\b\b\b\b\b\b\b\b\b\b\b\b\b\b\b\b\b\b\b\b\b\b\b\b\b\b\b\b\b\b\b\b\b\b\b\b\b\b\b\b\b\b\b\b\b\b\b\b\b\b\b\b\b\b\b\r",
        " 7552/60000 [==>...........................] - ETA: 10s - loss: 0.2918 - acc: 0.9137"
       ]
      },
      {
       "output_type": "stream",
       "stream": "stdout",
       "text": [
        "\b\b\b\b\b\b\b\b\b\b\b\b\b\b\b\b\b\b\b\b\b\b\b\b\b\b\b\b\b\b\b\b\b\b\b\b\b\b\b\b\b\b\b\b\b\b\b\b\b\b\b\b\b\b\b\b\b\b\b\b\b\b\b\b\b\b\b\b\b\b\b\b\b\b\b\b\b\b\b\b\b\b\b\b\r",
        " 7680/60000 [==>...........................] - ETA: 10s - loss: 0.2908 - acc: 0.9142"
       ]
      },
      {
       "output_type": "stream",
       "stream": "stdout",
       "text": [
        "\b\b\b\b\b\b\b\b\b\b\b\b\b\b\b\b\b\b\b\b\b\b\b\b\b\b\b\b\b\b\b\b\b\b\b\b\b\b\b\b\b\b\b\b\b\b\b\b\b\b\b\b\b\b\b\b\b\b\b\b\b\b\b\b\b\b\b\b\b\b\b\b\b\b\b\b\b\b\b\b\b\b\b\b\r",
        " 7808/60000 [==>...........................] - ETA: 10s - loss: 0.2902 - acc: 0.9138"
       ]
      },
      {
       "output_type": "stream",
       "stream": "stdout",
       "text": [
        "\b\b\b\b\b\b\b\b\b\b\b\b\b\b\b\b\b\b\b\b\b\b\b\b\b\b\b\b\b\b\b\b\b\b\b\b\b\b\b\b\b\b\b\b\b\b\b\b\b\b\b\b\b\b\b\b\b\b\b\b\b\b\b\b\b\b\b\b\b\b\b\b\b\b\b\b\b\b\b\b\b\b\b\b\r",
        " 7936/60000 [==>...........................] - ETA: 10s - loss: 0.2888 - acc: 0.9144"
       ]
      },
      {
       "output_type": "stream",
       "stream": "stdout",
       "text": [
        "\b\b\b\b\b\b\b\b\b\b\b\b\b\b\b\b\b\b\b\b\b\b\b\b\b\b\b\b\b\b\b\b\b\b\b\b\b\b\b\b\b\b\b\b\b\b\b\b\b\b\b\b\b\b\b\b\b\b\b\b\b\b\b\b\b\b\b\b\b\b\b\b\b\b\b\b\b\b\b\b\b\b\b\b\r",
        " 8064/60000 [===>..........................] - ETA: 10s - loss: 0.2888 - acc: 0.9142"
       ]
      },
      {
       "output_type": "stream",
       "stream": "stdout",
       "text": [
        "\b\b\b\b\b\b\b\b\b\b\b\b\b\b\b\b\b\b\b\b\b\b\b\b\b\b\b\b\b\b\b\b\b\b\b\b\b\b\b\b\b\b\b\b\b\b\b\b\b\b\b\b\b\b\b\b\b\b\b\b\b\b\b\b\b\b\b\b\b\b\b\b\b\b\b\b\b\b\b\b\b\b\b\b\r",
        " 8192/60000 [===>..........................] - ETA: 10s - loss: 0.2888 - acc: 0.9144"
       ]
      },
      {
       "output_type": "stream",
       "stream": "stdout",
       "text": [
        "\b\b\b\b\b\b\b\b\b\b\b\b\b\b\b\b\b\b\b\b\b\b\b\b\b\b\b\b\b\b\b\b\b\b\b\b\b\b\b\b\b\b\b\b\b\b\b\b\b\b\b\b\b\b\b\b\b\b\b\b\b\b\b\b\b\b\b\b\b\b\b\b\b\b\b\b\b\b\b\b\b\b\b\b\r",
        " 8320/60000 [===>..........................] - ETA: 10s - loss: 0.2870 - acc: 0.9150"
       ]
      },
      {
       "output_type": "stream",
       "stream": "stdout",
       "text": [
        "\b\b\b\b\b\b\b\b\b\b\b\b\b\b\b\b\b\b\b\b\b\b\b\b\b\b\b\b\b\b\b\b\b\b\b\b\b\b\b\b\b\b\b\b\b\b\b\b\b\b\b\b\b\b\b\b\b\b\b\b\b\b\b\b\b\b\b\b\b\b\b\b\b\b\b\b\b\b\b\b\b\b\b\b\r",
        " 8448/60000 [===>..........................] - ETA: 10s - loss: 0.2858 - acc: 0.9150"
       ]
      },
      {
       "output_type": "stream",
       "stream": "stdout",
       "text": [
        "\b\b\b\b\b\b\b\b\b\b\b\b\b\b\b\b\b\b\b\b\b\b\b\b\b\b\b\b\b\b\b\b\b\b\b\b\b\b\b\b\b\b\b\b\b\b\b\b\b\b\b\b\b\b\b\b\b\b\b\b\b\b\b\b\b\b\b\b\b\b\b\b\b\b\b\b\b\b\b\b\b\b\b\b\r",
        " 8576/60000 [===>..........................] - ETA: 10s - loss: 0.2868 - acc: 0.9149"
       ]
      },
      {
       "output_type": "stream",
       "stream": "stdout",
       "text": [
        "\b\b\b\b\b\b\b\b\b\b\b\b\b\b\b\b\b\b\b\b\b\b\b\b\b\b\b\b\b\b\b\b\b\b\b\b\b\b\b\b\b\b\b\b\b\b\b\b\b\b\b\b\b\b\b\b\b\b\b\b\b\b\b\b\b\b\b\b\b\b\b\b\b\b\b\b\b\b\b\b\b\b\b\b\r",
        " 8704/60000 [===>..........................] - ETA: 10s - loss: 0.2858 - acc: 0.9151"
       ]
      },
      {
       "output_type": "stream",
       "stream": "stdout",
       "text": [
        "\b\b\b\b\b\b\b\b\b\b\b\b\b\b\b\b\b\b\b\b\b\b\b\b\b\b\b\b\b\b\b\b\b\b\b\b\b\b\b\b\b\b\b\b\b\b\b\b\b\b\b\b\b\b\b\b\b\b\b\b\b\b\b\b\b\b\b\b\b\b\b\b\b\b\b\b\b\b\b\b\b\b\b\b\r",
        " 8832/60000 [===>..........................] - ETA: 9s - loss: 0.2851 - acc: 0.9151 "
       ]
      },
      {
       "output_type": "stream",
       "stream": "stdout",
       "text": [
        "\b\b\b\b\b\b\b\b\b\b\b\b\b\b\b\b\b\b\b\b\b\b\b\b\b\b\b\b\b\b\b\b\b\b\b\b\b\b\b\b\b\b\b\b\b\b\b\b\b\b\b\b\b\b\b\b\b\b\b\b\b\b\b\b\b\b\b\b\b\b\b\b\b\b\b\b\b\b\b\b\b\b\b\r",
        " 8960/60000 [===>..........................] - ETA: 9s - loss: 0.2845 - acc: 0.9155"
       ]
      },
      {
       "output_type": "stream",
       "stream": "stdout",
       "text": [
        "\b\b\b\b\b\b\b\b\b\b\b\b\b\b\b\b\b\b\b\b\b\b\b\b\b\b\b\b\b\b\b\b\b\b\b\b\b\b\b\b\b\b\b\b\b\b\b\b\b\b\b\b\b\b\b\b\b\b\b\b\b\b\b\b\b\b\b\b\b\b\b\b\b\b\b\b\b\b\b\b\b\b\b\r",
        " 9088/60000 [===>..........................] - ETA: 9s - loss: 0.2848 - acc: 0.9155"
       ]
      },
      {
       "output_type": "stream",
       "stream": "stdout",
       "text": [
        "\b\b\b\b\b\b\b\b\b\b\b\b\b\b\b\b\b\b\b\b\b\b\b\b\b\b\b\b\b\b\b\b\b\b\b\b\b\b\b\b\b\b\b\b\b\b\b\b\b\b\b\b\b\b\b\b\b\b\b\b\b\b\b\b\b\b\b\b\b\b\b\b\b\b\b\b\b\b\b\b\b\b\b\r",
        " 9216/60000 [===>..........................] - ETA: 9s - loss: 0.2848 - acc: 0.9156"
       ]
      },
      {
       "output_type": "stream",
       "stream": "stdout",
       "text": [
        "\b\b\b\b\b\b\b\b\b\b\b\b\b\b\b\b\b\b\b\b\b\b\b\b\b\b\b\b\b\b\b\b\b\b\b\b\b\b\b\b\b\b\b\b\b\b\b\b\b\b\b\b\b\b\b\b\b\b\b\b\b\b\b\b\b\b\b\b\b\b\b\b\b\b\b\b\b\b\b\b\b\b\b\r",
        " 9344/60000 [===>..........................] - ETA: 9s - loss: 0.2839 - acc: 0.9158"
       ]
      },
      {
       "output_type": "stream",
       "stream": "stdout",
       "text": [
        "\b\b\b\b\b\b\b\b\b\b\b\b\b\b\b\b\b\b\b\b\b\b\b\b\b\b\b\b\b\b\b\b\b\b\b\b\b\b\b\b\b\b\b\b\b\b\b\b\b\b\b\b\b\b\b\b\b\b\b\b\b\b\b\b\b\b\b\b\b\b\b\b\b\b\b\b\b\b\b\b\b\b\b\r",
        " 9472/60000 [===>..........................] - ETA: 9s - loss: 0.2823 - acc: 0.9163"
       ]
      },
      {
       "output_type": "stream",
       "stream": "stdout",
       "text": [
        "\b\b\b\b\b\b\b\b\b\b\b\b\b\b\b\b\b\b\b\b\b\b\b\b\b\b\b\b\b\b\b\b\b\b\b\b\b\b\b\b\b\b\b\b\b\b\b\b\b\b\b\b\b\b\b\b\b\b\b\b\b\b\b\b\b\b\b\b\b\b\b\b\b\b\b\b\b\b\b\b\b\b\b\r",
        " 9600/60000 [===>..........................] - ETA: 9s - loss: 0.2809 - acc: 0.9167"
       ]
      },
      {
       "output_type": "stream",
       "stream": "stdout",
       "text": [
        "\b\b\b\b\b\b\b\b\b\b\b\b\b\b\b\b\b\b\b\b\b\b\b\b\b\b\b\b\b\b\b\b\b\b\b\b\b\b\b\b\b\b\b\b\b\b\b\b\b\b\b\b\b\b\b\b\b\b\b\b\b\b\b\b\b\b\b\b\b\b\b\b\b\b\b\b\b\b\b\b\b\b\b\r",
        " 9728/60000 [===>..........................] - ETA: 9s - loss: 0.2828 - acc: 0.9160"
       ]
      },
      {
       "output_type": "stream",
       "stream": "stdout",
       "text": [
        "\b\b\b\b\b\b\b\b\b\b\b\b\b\b\b\b\b\b\b\b\b\b\b\b\b\b\b\b\b\b\b\b\b\b\b\b\b\b\b\b\b\b\b\b\b\b\b\b\b\b\b\b\b\b\b\b\b\b\b\b\b\b\b\b\b\b\b\b\b\b\b\b\b\b\b\b\b\b\b\b\b\b\b\r",
        " 9856/60000 [===>..........................] - ETA: 9s - loss: 0.2818 - acc: 0.9160"
       ]
      },
      {
       "output_type": "stream",
       "stream": "stdout",
       "text": [
        "\b\b\b\b\b\b\b\b\b\b\b\b\b\b\b\b\b\b\b\b\b\b\b\b\b\b\b\b\b\b\b\b\b\b\b\b\b\b\b\b\b\b\b\b\b\b\b\b\b\b\b\b\b\b\b\b\b\b\b\b\b\b\b\b\b\b\b\b\b\b\b\b\b\b\b\b\b\b\b\b\b\b\b\r",
        " 9984/60000 [===>..........................] - ETA: 9s - loss: 0.2820 - acc: 0.9161"
       ]
      },
      {
       "output_type": "stream",
       "stream": "stdout",
       "text": [
        "\b\b\b\b\b\b\b\b\b\b\b\b\b\b\b\b\b\b\b\b\b\b\b\b\b\b\b\b\b\b\b\b\b\b\b\b\b\b\b\b\b\b\b\b\b\b\b\b\b\b\b\b\b\b\b\b\b\b\b\b\b\b\b\b\b\b\b\b\b\b\b\b\b\b\b\b\b\b\b\b\b\b\b\r",
        "10112/60000 [====>.........................] - ETA: 9s - loss: 0.2809 - acc: 0.9161"
       ]
      },
      {
       "output_type": "stream",
       "stream": "stdout",
       "text": [
        "\b\b\b\b\b\b\b\b\b\b\b\b\b\b\b\b\b\b\b\b\b\b\b\b\b\b\b\b\b\b\b\b\b\b\b\b\b\b\b\b\b\b\b\b\b\b\b\b\b\b\b\b\b\b\b\b\b\b\b\b\b\b\b\b\b\b\b\b\b\b\b\b\b\b\b\b\b\b\b\b\b\b\b\r",
        "10240/60000 [====>.........................] - ETA: 9s - loss: 0.2813 - acc: 0.9160"
       ]
      },
      {
       "output_type": "stream",
       "stream": "stdout",
       "text": [
        "\b\b\b\b\b\b\b\b\b\b\b\b\b\b\b\b\b\b\b\b\b\b\b\b\b\b\b\b\b\b\b\b\b\b\b\b\b\b\b\b\b\b\b\b\b\b\b\b\b\b\b\b\b\b\b\b\b\b\b\b\b\b\b\b\b\b\b\b\b\b\b\b\b\b\b\b\b\b\b\b\b\b\b\r",
        "10368/60000 [====>.........................] - ETA: 9s - loss: 0.2808 - acc: 0.9161"
       ]
      },
      {
       "output_type": "stream",
       "stream": "stdout",
       "text": [
        "\b\b\b\b\b\b\b\b\b\b\b\b\b\b\b\b\b\b\b\b\b\b\b\b\b\b\b\b\b\b\b\b\b\b\b\b\b\b\b\b\b\b\b\b\b\b\b\b\b\b\b\b\b\b\b\b\b\b\b\b\b\b\b\b\b\b\b\b\b\b\b\b\b\b\b\b\b\b\b\b\b\b\b\r",
        "10496/60000 [====>.........................] - ETA: 9s - loss: 0.2805 - acc: 0.9160"
       ]
      },
      {
       "output_type": "stream",
       "stream": "stdout",
       "text": [
        "\b\b\b\b\b\b\b\b\b\b\b\b\b\b\b\b\b\b\b\b\b\b\b\b\b\b\b\b\b\b\b\b\b\b\b\b\b\b\b\b\b\b\b\b\b\b\b\b\b\b\b\b\b\b\b\b\b\b\b\b\b\b\b\b\b\b\b\b\b\b\b\b\b\b\b\b\b\b\b\b\b\b\b\r",
        "10624/60000 [====>.........................] - ETA: 9s - loss: 0.2800 - acc: 0.9163"
       ]
      },
      {
       "output_type": "stream",
       "stream": "stdout",
       "text": [
        "\b\b\b\b\b\b\b\b\b\b\b\b\b\b\b\b\b\b\b\b\b\b\b\b\b\b\b\b\b\b\b\b\b\b\b\b\b\b\b\b\b\b\b\b\b\b\b\b\b\b\b\b\b\b\b\b\b\b\b\b\b\b\b\b\b\b\b\b\b\b\b\b\b\b\b\b\b\b\b\b\b\b\b\r",
        "10752/60000 [====>.........................] - ETA: 9s - loss: 0.2796 - acc: 0.9164"
       ]
      },
      {
       "output_type": "stream",
       "stream": "stdout",
       "text": [
        "\b\b\b\b\b\b\b\b\b\b\b\b\b\b\b\b\b\b\b\b\b\b\b\b\b\b\b\b\b\b\b\b\b\b\b\b\b\b\b\b\b\b\b\b\b\b\b\b\b\b\b\b\b\b\b\b\b\b\b\b\b\b\b\b\b\b\b\b\b\b\b\b\b\b\b\b\b\b\b\b\b\b\b\r",
        "10880/60000 [====>.........................] - ETA: 9s - loss: 0.2789 - acc: 0.9167"
       ]
      },
      {
       "output_type": "stream",
       "stream": "stdout",
       "text": [
        "\b\b\b\b\b\b\b\b\b\b\b\b\b\b\b\b\b\b\b\b\b\b\b\b\b\b\b\b\b\b\b\b\b\b\b\b\b\b\b\b\b\b\b\b\b\b\b\b\b\b\b\b\b\b\b\b\b\b\b\b\b\b\b\b\b\b\b\b\b\b\b\b\b\b\b\b\b\b\b\b\b\b\b\r",
        "11008/60000 [====>.........................] - ETA: 9s - loss: 0.2790 - acc: 0.9169"
       ]
      },
      {
       "output_type": "stream",
       "stream": "stdout",
       "text": [
        "\b\b\b\b\b\b\b\b\b\b\b\b\b\b\b\b\b\b\b\b\b\b\b\b\b\b\b\b\b\b\b\b\b\b\b\b\b\b\b\b\b\b\b\b\b\b\b\b\b\b\b\b\b\b\b\b\b\b\b\b\b\b\b\b\b\b\b\b\b\b\b\b\b\b\b\b\b\b\b\b\b\b\b\r",
        "11136/60000 [====>.........................] - ETA: 9s - loss: 0.2784 - acc: 0.9170"
       ]
      },
      {
       "output_type": "stream",
       "stream": "stdout",
       "text": [
        "\b\b\b\b\b\b\b\b\b\b\b\b\b\b\b\b\b\b\b\b\b\b\b\b\b\b\b\b\b\b\b\b\b\b\b\b\b\b\b\b\b\b\b\b\b\b\b\b\b\b\b\b\b\b\b\b\b\b\b\b\b\b\b\b\b\b\b\b\b\b\b\b\b\b\b\b\b\b\b\b\b\b\b\r",
        "11264/60000 [====>.........................] - ETA: 9s - loss: 0.2776 - acc: 0.9174"
       ]
      },
      {
       "output_type": "stream",
       "stream": "stdout",
       "text": [
        "\b\b\b\b\b\b\b\b\b\b\b\b\b\b\b\b\b\b\b\b\b\b\b\b\b\b\b\b\b\b\b\b\b\b\b\b\b\b\b\b\b\b\b\b\b\b\b\b\b\b\b\b\b\b\b\b\b\b\b\b\b\b\b\b\b\b\b\b\b\b\b\b\b\b\b\b\b\b\b\b\b\b\b\r",
        "11392/60000 [====>.........................] - ETA: 9s - loss: 0.2772 - acc: 0.9173"
       ]
      },
      {
       "output_type": "stream",
       "stream": "stdout",
       "text": [
        "\b\b\b\b\b\b\b\b\b\b\b\b\b\b\b\b\b\b\b\b\b\b\b\b\b\b\b\b\b\b\b\b\b\b\b\b\b\b\b\b\b\b\b\b\b\b\b\b\b\b\b\b\b\b\b\b\b\b\b\b\b\b\b\b\b\b\b\b\b\b\b\b\b\b\b\b\b\b\b\b\b\b\b\r",
        "11520/60000 [====>.........................] - ETA: 9s - loss: 0.2780 - acc: 0.9172"
       ]
      },
      {
       "output_type": "stream",
       "stream": "stdout",
       "text": [
        "\b\b\b\b\b\b\b\b\b\b\b\b\b\b\b\b\b\b\b\b\b\b\b\b\b\b\b\b\b\b\b\b\b\b\b\b\b\b\b\b\b\b\b\b\b\b\b\b\b\b\b\b\b\b\b\b\b\b\b\b\b\b\b\b\b\b\b\b\b\b\b\b\b\b\b\b\b\b\b\b\b\b\b\r",
        "11648/60000 [====>.........................] - ETA: 9s - loss: 0.2777 - acc: 0.9172"
       ]
      },
      {
       "output_type": "stream",
       "stream": "stdout",
       "text": [
        "\b\b\b\b\b\b\b\b\b\b\b\b\b\b\b\b\b\b\b\b\b\b\b\b\b\b\b\b\b\b\b\b\b\b\b\b\b\b\b\b\b\b\b\b\b\b\b\b\b\b\b\b\b\b\b\b\b\b\b\b\b\b\b\b\b\b\b\b\b\b\b\b\b\b\b\b\b\b\b\b\b\b\b\r",
        "11776/60000 [====>.........................] - ETA: 9s - loss: 0.2774 - acc: 0.9174"
       ]
      },
      {
       "output_type": "stream",
       "stream": "stdout",
       "text": [
        "\b\b\b\b\b\b\b\b\b\b\b\b\b\b\b\b\b\b\b\b\b\b\b\b\b\b\b\b\b\b\b\b\b\b\b\b\b\b\b\b\b\b\b\b\b\b\b\b\b\b\b\b\b\b\b\b\b\b\b\b\b\b\b\b\b\b\b\b\b\b\b\b\b\b\b\b\b\b\b\b\b\b\b\r",
        "11904/60000 [====>.........................] - ETA: 9s - loss: 0.2778 - acc: 0.9172"
       ]
      },
      {
       "output_type": "stream",
       "stream": "stdout",
       "text": [
        "\b\b\b\b\b\b\b\b\b\b\b\b\b\b\b\b\b\b\b\b\b\b\b\b\b\b\b\b\b\b\b\b\b\b\b\b\b\b\b\b\b\b\b\b\b\b\b\b\b\b\b\b\b\b\b\b\b\b\b\b\b\b\b\b\b\b\b\b\b\b\b\b\b\b\b\b\b\b\b\b\b\b\b\r",
        "12032/60000 [=====>........................] - ETA: 9s - loss: 0.2783 - acc: 0.9171"
       ]
      },
      {
       "output_type": "stream",
       "stream": "stdout",
       "text": [
        "\b\b\b\b\b\b\b\b\b\b\b\b\b\b\b\b\b\b\b\b\b\b\b\b\b\b\b\b\b\b\b\b\b\b\b\b\b\b\b\b\b\b\b\b\b\b\b\b\b\b\b\b\b\b\b\b\b\b\b\b\b\b\b\b\b\b\b\b\b\b\b\b\b\b\b\b\b\b\b\b\b\b\b\r",
        "12160/60000 [=====>........................] - ETA: 9s - loss: 0.2782 - acc: 0.9170"
       ]
      },
      {
       "output_type": "stream",
       "stream": "stdout",
       "text": [
        "\b\b\b\b\b\b\b\b\b\b\b\b\b\b\b\b\b\b\b\b\b\b\b\b\b\b\b\b\b\b\b\b\b\b\b\b\b\b\b\b\b\b\b\b\b\b\b\b\b\b\b\b\b\b\b\b\b\b\b\b\b\b\b\b\b\b\b\b\b\b\b\b\b\b\b\b\b\b\b\b\b\b\b\r",
        "12288/60000 [=====>........................] - ETA: 9s - loss: 0.2787 - acc: 0.9170"
       ]
      },
      {
       "output_type": "stream",
       "stream": "stdout",
       "text": [
        "\b\b\b\b\b\b\b\b\b\b\b\b\b\b\b\b\b\b\b\b\b\b\b\b\b\b\b\b\b\b\b\b\b\b\b\b\b\b\b\b\b\b\b\b\b\b\b\b\b\b\b\b\b\b\b\b\b\b\b\b\b\b\b\b\b\b\b\b\b\b\b\b\b\b\b\b\b\b\b\b\b\b\b\r",
        "12416/60000 [=====>........................] - ETA: 9s - loss: 0.2784 - acc: 0.9170"
       ]
      },
      {
       "output_type": "stream",
       "stream": "stdout",
       "text": [
        "\b\b\b\b\b\b\b\b\b\b\b\b\b\b\b\b\b\b\b\b\b\b\b\b\b\b\b\b\b\b\b\b\b\b\b\b\b\b\b\b\b\b\b\b\b\b\b\b\b\b\b\b\b\b\b\b\b\b\b\b\b\b\b\b\b\b\b\b\b\b\b\b\b\b\b\b\b\b\b\b\b\b\b\r",
        "12544/60000 [=====>........................] - ETA: 9s - loss: 0.2774 - acc: 0.9174"
       ]
      },
      {
       "output_type": "stream",
       "stream": "stdout",
       "text": [
        "\b\b\b\b\b\b\b\b\b\b\b\b\b\b\b\b\b\b\b\b\b\b\b\b\b\b\b\b\b\b\b\b\b\b\b\b\b\b\b\b\b\b\b\b\b\b\b\b\b\b\b\b\b\b\b\b\b\b\b\b\b\b\b\b\b\b\b\b\b\b\b\b\b\b\b\b\b\b\b\b\b\b\b\r",
        "12672/60000 [=====>........................] - ETA: 9s - loss: 0.2771 - acc: 0.9175"
       ]
      },
      {
       "output_type": "stream",
       "stream": "stdout",
       "text": [
        "\b\b\b\b\b\b\b\b\b\b\b\b\b\b\b\b\b\b\b\b\b\b\b\b\b\b\b\b\b\b\b\b\b\b\b\b\b\b\b\b\b\b\b\b\b\b\b\b\b\b\b\b\b\b\b\b\b\b\b\b\b\b\b\b\b\b\b\b\b\b\b\b\b\b\b\b\b\b\b\b\b\b\b\r",
        "12800/60000 [=====>........................] - ETA: 9s - loss: 0.2765 - acc: 0.9177"
       ]
      },
      {
       "output_type": "stream",
       "stream": "stdout",
       "text": [
        "\b\b\b\b\b\b\b\b\b\b\b\b\b\b\b\b\b\b\b\b\b\b\b\b\b\b\b\b\b\b\b\b\b\b\b\b\b\b\b\b\b\b\b\b\b\b\b\b\b\b\b\b\b\b\b\b\b\b\b\b\b\b\b\b\b\b\b\b\b\b\b\b\b\b\b\b\b\b\b\b\b\b\b\r",
        "12928/60000 [=====>........................] - ETA: 9s - loss: 0.2751 - acc: 0.9182"
       ]
      },
      {
       "output_type": "stream",
       "stream": "stdout",
       "text": [
        "\b\b\b\b\b\b\b\b\b\b\b\b\b\b\b\b\b\b\b\b\b\b\b\b\b\b\b\b\b\b\b\b\b\b\b\b\b\b\b\b\b\b\b\b\b\b\b\b\b\b\b\b\b\b\b\b\b\b\b\b\b\b\b\b\b\b\b\b\b\b\b\b\b\b\b\b\b\b\b\b\b\b\b\r",
        "13056/60000 [=====>........................] - ETA: 9s - loss: 0.2759 - acc: 0.9181"
       ]
      },
      {
       "output_type": "stream",
       "stream": "stdout",
       "text": [
        "\b\b\b\b\b\b\b\b\b\b\b\b\b\b\b\b\b\b\b\b\b\b\b\b\b\b\b\b\b\b\b\b\b\b\b\b\b\b\b\b\b\b\b\b\b\b\b\b\b\b\b\b\b\b\b\b\b\b\b\b\b\b\b\b\b\b\b\b\b\b\b\b\b\b\b\b\b\b\b\b\b\b\b\r",
        "13184/60000 [=====>........................] - ETA: 9s - loss: 0.2755 - acc: 0.9181"
       ]
      },
      {
       "output_type": "stream",
       "stream": "stdout",
       "text": [
        "\b\b\b\b\b\b\b\b\b\b\b\b\b\b\b\b\b\b\b\b\b\b\b\b\b\b\b\b\b\b\b\b\b\b\b\b\b\b\b\b\b\b\b\b\b\b\b\b\b\b\b\b\b\b\b\b\b\b\b\b\b\b\b\b\b\b\b\b\b\b\b\b\b\b\b\b\b\b\b\b\b\b\b\r",
        "13312/60000 [=====>........................] - ETA: 9s - loss: 0.2749 - acc: 0.9183"
       ]
      },
      {
       "output_type": "stream",
       "stream": "stdout",
       "text": [
        "\b\b\b\b\b\b\b\b\b\b\b\b\b\b\b\b\b\b\b\b\b\b\b\b\b\b\b\b\b\b\b\b\b\b\b\b\b\b\b\b\b\b\b\b\b\b\b\b\b\b\b\b\b\b\b\b\b\b\b\b\b\b\b\b\b\b\b\b\b\b\b\b\b\b\b\b\b\b\b\b\b\b\b\r",
        "13440/60000 [=====>........................] - ETA: 9s - loss: 0.2749 - acc: 0.9182"
       ]
      },
      {
       "output_type": "stream",
       "stream": "stdout",
       "text": [
        "\b\b\b\b\b\b\b\b\b\b\b\b\b\b\b\b\b\b\b\b\b\b\b\b\b\b\b\b\b\b\b\b\b\b\b\b\b\b\b\b\b\b\b\b\b\b\b\b\b\b\b\b\b\b\b\b\b\b\b\b\b\b\b\b\b\b\b\b\b\b\b\b\b\b\b\b\b\b\b\b\b\b\b\r",
        "13568/60000 [=====>........................] - ETA: 9s - loss: 0.2744 - acc: 0.9181"
       ]
      },
      {
       "output_type": "stream",
       "stream": "stdout",
       "text": [
        "\b\b\b\b\b\b\b\b\b\b\b\b\b\b\b\b\b\b\b\b\b\b\b\b\b\b\b\b\b\b\b\b\b\b\b\b\b\b\b\b\b\b\b\b\b\b\b\b\b\b\b\b\b\b\b\b\b\b\b\b\b\b\b\b\b\b\b\b\b\b\b\b\b\b\b\b\b\b\b\b\b\b\b\r",
        "13696/60000 [=====>........................] - ETA: 9s - loss: 0.2733 - acc: 0.9185"
       ]
      },
      {
       "output_type": "stream",
       "stream": "stdout",
       "text": [
        "\b\b\b\b\b\b\b\b\b\b\b\b\b\b\b\b\b\b\b\b\b\b\b\b\b\b\b\b\b\b\b\b\b\b\b\b\b\b\b\b\b\b\b\b\b\b\b\b\b\b\b\b\b\b\b\b\b\b\b\b\b\b\b\b\b\b\b\b\b\b\b\b\b\b\b\b\b\b\b\b\b\b\b\r",
        "13824/60000 [=====>........................] - ETA: 9s - loss: 0.2725 - acc: 0.9188"
       ]
      },
      {
       "output_type": "stream",
       "stream": "stdout",
       "text": [
        "\b\b\b\b\b\b\b\b\b\b\b\b\b\b\b\b\b\b\b\b\b\b\b\b\b\b\b\b\b\b\b\b\b\b\b\b\b\b\b\b\b\b\b\b\b\b\b\b\b\b\b\b\b\b\b\b\b\b\b\b\b\b\b\b\b\b\b\b\b\b\b\b\b\b\b\b\b\b\b\b\b\b\b\r",
        "13952/60000 [=====>........................] - ETA: 9s - loss: 0.2729 - acc: 0.9188"
       ]
      },
      {
       "output_type": "stream",
       "stream": "stdout",
       "text": [
        "\b\b\b\b\b\b\b\b\b\b\b\b\b\b\b\b\b\b\b\b\b\b\b\b\b\b\b\b\b\b\b\b\b\b\b\b\b\b\b\b\b\b\b\b\b\b\b\b\b\b\b\b\b\b\b\b\b\b\b\b\b\b\b\b\b\b\b\b\b\b\b\b\b\b\b\b\b\b\b\b\b\b\b\r",
        "14080/60000 [======>.......................] - ETA: 8s - loss: 0.2728 - acc: 0.9188"
       ]
      },
      {
       "output_type": "stream",
       "stream": "stdout",
       "text": [
        "\b\b\b\b\b\b\b\b\b\b\b\b\b\b\b\b\b\b\b\b\b\b\b\b\b\b\b\b\b\b\b\b\b\b\b\b\b\b\b\b\b\b\b\b\b\b\b\b\b\b\b\b\b\b\b\b\b\b\b\b\b\b\b\b\b\b\b\b\b\b\b\b\b\b\b\b\b\b\b\b\b\b\b\r",
        "14208/60000 [======>.......................] - ETA: 8s - loss: 0.2736 - acc: 0.9186"
       ]
      },
      {
       "output_type": "stream",
       "stream": "stdout",
       "text": [
        "\b\b\b\b\b\b\b\b\b\b\b\b\b\b\b\b\b\b\b\b\b\b\b\b\b\b\b\b\b\b\b\b\b\b\b\b\b\b\b\b\b\b\b\b\b\b\b\b\b\b\b\b\b\b\b\b\b\b\b\b\b\b\b\b\b\b\b\b\b\b\b\b\b\b\b\b\b\b\b\b\b\b\b\r",
        "14336/60000 [======>.......................] - ETA: 8s - loss: 0.2725 - acc: 0.9188"
       ]
      },
      {
       "output_type": "stream",
       "stream": "stdout",
       "text": [
        "\b\b\b\b\b\b\b\b\b\b\b\b\b\b\b\b\b\b\b\b\b\b\b\b\b\b\b\b\b\b\b\b\b\b\b\b\b\b\b\b\b\b\b\b\b\b\b\b\b\b\b\b\b\b\b\b\b\b\b\b\b\b\b\b\b\b\b\b\b\b\b\b\b\b\b\b\b\b\b\b\b\b\b\r",
        "14464/60000 [======>.......................] - ETA: 8s - loss: 0.2723 - acc: 0.9188"
       ]
      },
      {
       "output_type": "stream",
       "stream": "stdout",
       "text": [
        "\b\b\b\b\b\b\b\b\b\b\b\b\b\b\b\b\b\b\b\b\b\b\b\b\b\b\b\b\b\b\b\b\b\b\b\b\b\b\b\b\b\b\b\b\b\b\b\b\b\b\b\b\b\b\b\b\b\b\b\b\b\b\b\b\b\b\b\b\b\b\b\b\b\b\b\b\b\b\b\b\b\b\b\r",
        "14592/60000 [======>.......................] - ETA: 8s - loss: 0.2727 - acc: 0.9187"
       ]
      },
      {
       "output_type": "stream",
       "stream": "stdout",
       "text": [
        "\b\b\b\b\b\b\b\b\b\b\b\b\b\b\b\b\b\b\b\b\b\b\b\b\b\b\b\b\b\b\b\b\b\b\b\b\b\b\b\b\b\b\b\b\b\b\b\b\b\b\b\b\b\b\b\b\b\b\b\b\b\b\b\b\b\b\b\b\b\b\b\b\b\b\b\b\b\b\b\b\b\b\b\r",
        "14720/60000 [======>.......................] - ETA: 8s - loss: 0.2718 - acc: 0.9190"
       ]
      },
      {
       "output_type": "stream",
       "stream": "stdout",
       "text": [
        "\b\b\b\b\b\b\b\b\b\b\b\b\b\b\b\b\b\b\b\b\b\b\b\b\b\b\b\b\b\b\b\b\b\b\b\b\b\b\b\b\b\b\b\b\b\b\b\b\b\b\b\b\b\b\b\b\b\b\b\b\b\b\b\b\b\b\b\b\b\b\b\b\b\b\b\b\b\b\b\b\b\b\b\r",
        "14848/60000 [======>.......................] - ETA: 8s - loss: 0.2715 - acc: 0.9190"
       ]
      },
      {
       "output_type": "stream",
       "stream": "stdout",
       "text": [
        "\b\b\b\b\b\b\b\b\b\b\b\b\b\b\b\b\b\b\b\b\b\b\b\b\b\b\b\b\b\b\b\b\b\b\b\b\b\b\b\b\b\b\b\b\b\b\b\b\b\b\b\b\b\b\b\b\b\b\b\b\b\b\b\b\b\b\b\b\b\b\b\b\b\b\b\b\b\b\b\b\b\b\b\r",
        "14976/60000 [======>.......................] - ETA: 8s - loss: 0.2719 - acc: 0.9191"
       ]
      },
      {
       "output_type": "stream",
       "stream": "stdout",
       "text": [
        "\b\b\b\b\b\b\b\b\b\b\b\b\b\b\b\b\b\b\b\b\b\b\b\b\b\b\b\b\b\b\b\b\b\b\b\b\b\b\b\b\b\b\b\b\b\b\b\b\b\b\b\b\b\b\b\b\b\b\b\b\b\b\b\b\b\b\b\b\b\b\b\b\b\b\b\b\b\b\b\b\b\b\b\r",
        "15104/60000 [======>.......................] - ETA: 8s - loss: 0.2716 - acc: 0.9192"
       ]
      },
      {
       "output_type": "stream",
       "stream": "stdout",
       "text": [
        "\b\b\b\b\b\b\b\b\b\b\b\b\b\b\b\b\b\b\b\b\b\b\b\b\b\b\b\b\b\b\b\b\b\b\b\b\b\b\b\b\b\b\b\b\b\b\b\b\b\b\b\b\b\b\b\b\b\b\b\b\b\b\b\b\b\b\b\b\b\b\b\b\b\b\b\b\b\b\b\b\b\b\b\r",
        "15232/60000 [======>.......................] - ETA: 8s - loss: 0.2714 - acc: 0.9193"
       ]
      },
      {
       "output_type": "stream",
       "stream": "stdout",
       "text": [
        "\b\b\b\b\b\b\b\b\b\b\b\b\b\b\b\b\b\b\b\b\b\b\b\b\b\b\b\b\b\b\b\b\b\b\b\b\b\b\b\b\b\b\b\b\b\b\b\b\b\b\b\b\b\b\b\b\b\b\b\b\b\b\b\b\b\b\b\b\b\b\b\b\b\b\b\b\b\b\b\b\b\b\b\r",
        "15360/60000 [======>.......................] - ETA: 8s - loss: 0.2719 - acc: 0.9191"
       ]
      },
      {
       "output_type": "stream",
       "stream": "stdout",
       "text": [
        "\b\b\b\b\b\b\b\b\b\b\b\b\b\b\b\b\b\b\b\b\b\b\b\b\b\b\b\b\b\b\b\b\b\b\b\b\b\b\b\b\b\b\b\b\b\b\b\b\b\b\b\b\b\b\b\b\b\b\b\b\b\b\b\b\b\b\b\b\b\b\b\b\b\b\b\b\b\b\b\b\b\b\b\r",
        "15488/60000 [======>.......................] - ETA: 8s - loss: 0.2735 - acc: 0.9188"
       ]
      },
      {
       "output_type": "stream",
       "stream": "stdout",
       "text": [
        "\b\b\b\b\b\b\b\b\b\b\b\b\b\b\b\b\b\b\b\b\b\b\b\b\b\b\b\b\b\b\b\b\b\b\b\b\b\b\b\b\b\b\b\b\b\b\b\b\b\b\b\b\b\b\b\b\b\b\b\b\b\b\b\b\b\b\b\b\b\b\b\b\b\b\b\b\b\b\b\b\b\b\b\r",
        "15616/60000 [======>.......................] - ETA: 8s - loss: 0.2741 - acc: 0.9187"
       ]
      },
      {
       "output_type": "stream",
       "stream": "stdout",
       "text": [
        "\b\b\b\b\b\b\b\b\b\b\b\b\b\b\b\b\b\b\b\b\b\b\b\b\b\b\b\b\b\b\b\b\b\b\b\b\b\b\b\b\b\b\b\b\b\b\b\b\b\b\b\b\b\b\b\b\b\b\b\b\b\b\b\b\b\b\b\b\b\b\b\b\b\b\b\b\b\b\b\b\b\b\b\r",
        "15744/60000 [======>.......................] - ETA: 8s - loss: 0.2734 - acc: 0.9188"
       ]
      },
      {
       "output_type": "stream",
       "stream": "stdout",
       "text": [
        "\b\b\b\b\b\b\b\b\b\b\b\b\b\b\b\b\b\b\b\b\b\b\b\b\b\b\b\b\b\b\b\b\b\b\b\b\b\b\b\b\b\b\b\b\b\b\b\b\b\b\b\b\b\b\b\b\b\b\b\b\b\b\b\b\b\b\b\b\b\b\b\b\b\b\b\b\b\b\b\b\b\b\b\r",
        "15872/60000 [======>.......................] - ETA: 8s - loss: 0.2723 - acc: 0.9190"
       ]
      },
      {
       "output_type": "stream",
       "stream": "stdout",
       "text": [
        "\b\b\b\b\b\b\b\b\b\b\b\b\b\b\b\b\b\b\b\b\b\b\b\b\b\b\b\b\b\b\b\b\b\b\b\b\b\b\b\b\b\b\b\b\b\b\b\b\b\b\b\b\b\b\b\b\b\b\b\b\b\b\b\b\b\b\b\b\b\b\b\b\b\b\b\b\b\b\b\b\b\b\b\r",
        "16000/60000 [=======>......................] - ETA: 8s - loss: 0.2723 - acc: 0.9190"
       ]
      },
      {
       "output_type": "stream",
       "stream": "stdout",
       "text": [
        "\b\b\b\b\b\b\b\b\b\b\b\b\b\b\b\b\b\b\b\b\b\b\b\b\b\b\b\b\b\b\b\b\b\b\b\b\b\b\b\b\b\b\b\b\b\b\b\b\b\b\b\b\b\b\b\b\b\b\b\b\b\b\b\b\b\b\b\b\b\b\b\b\b\b\b\b\b\b\b\b\b\b\b\r",
        "16128/60000 [=======>......................] - ETA: 8s - loss: 0.2730 - acc: 0.9191"
       ]
      },
      {
       "output_type": "stream",
       "stream": "stdout",
       "text": [
        "\b\b\b\b\b\b\b\b\b\b\b\b\b\b\b\b\b\b\b\b\b\b\b\b\b\b\b\b\b\b\b\b\b\b\b\b\b\b\b\b\b\b\b\b\b\b\b\b\b\b\b\b\b\b\b\b\b\b\b\b\b\b\b\b\b\b\b\b\b\b\b\b\b\b\b\b\b\b\b\b\b\b\b\r",
        "16256/60000 [=======>......................] - ETA: 8s - loss: 0.2733 - acc: 0.9191"
       ]
      },
      {
       "output_type": "stream",
       "stream": "stdout",
       "text": [
        "\b\b\b\b\b\b\b\b\b\b\b\b\b\b\b\b\b\b\b\b\b\b\b\b\b\b\b\b\b\b\b\b\b\b\b\b\b\b\b\b\b\b\b\b\b\b\b\b\b\b\b\b\b\b\b\b\b\b\b\b\b\b\b\b\b\b\b\b\b\b\b\b\b\b\b\b\b\b\b\b\b\b\b\r",
        "16384/60000 [=======>......................] - ETA: 8s - loss: 0.2728 - acc: 0.9192"
       ]
      },
      {
       "output_type": "stream",
       "stream": "stdout",
       "text": [
        "\b\b\b\b\b\b\b\b\b\b\b\b\b\b\b\b\b\b\b\b\b\b\b\b\b\b\b\b\b\b\b\b\b\b\b\b\b\b\b\b\b\b\b\b\b\b\b\b\b\b\b\b\b\b\b\b\b\b\b\b\b\b\b\b\b\b\b\b\b\b\b\b\b\b\b\b\b\b\b\b\b\b\b\r",
        "16512/60000 [=======>......................] - ETA: 8s - loss: 0.2720 - acc: 0.9195"
       ]
      },
      {
       "output_type": "stream",
       "stream": "stdout",
       "text": [
        "\b\b\b\b\b\b\b\b\b\b\b\b\b\b\b\b\b\b\b\b\b\b\b\b\b\b\b\b\b\b\b\b\b\b\b\b\b\b\b\b\b\b\b\b\b\b\b\b\b\b\b\b\b\b\b\b\b\b\b\b\b\b\b\b\b\b\b\b\b\b\b\b\b\b\b\b\b\b\b\b\b\b\b\r",
        "16640/60000 [=======>......................] - ETA: 8s - loss: 0.2724 - acc: 0.9192"
       ]
      },
      {
       "output_type": "stream",
       "stream": "stdout",
       "text": [
        "\b\b\b\b\b\b\b\b\b\b\b\b\b\b\b\b\b\b\b\b\b\b\b\b\b\b\b\b\b\b\b\b\b\b\b\b\b\b\b\b\b\b\b\b\b\b\b\b\b\b\b\b\b\b\b\b\b\b\b\b\b\b\b\b\b\b\b\b\b\b\b\b\b\b\b\b\b\b\b\b\b\b\b\r",
        "16768/60000 [=======>......................] - ETA: 8s - loss: 0.2723 - acc: 0.9190"
       ]
      },
      {
       "output_type": "stream",
       "stream": "stdout",
       "text": [
        "\b\b\b\b\b\b\b\b\b\b\b\b\b\b\b\b\b\b\b\b\b\b\b\b\b\b\b\b\b\b\b\b\b\b\b\b\b\b\b\b\b\b\b\b\b\b\b\b\b\b\b\b\b\b\b\b\b\b\b\b\b\b\b\b\b\b\b\b\b\b\b\b\b\b\b\b\b\b\b\b\b\b\b\r",
        "16896/60000 [=======>......................] - ETA: 8s - loss: 0.2716 - acc: 0.9193"
       ]
      },
      {
       "output_type": "stream",
       "stream": "stdout",
       "text": [
        "\b\b\b\b\b\b\b\b\b\b\b\b\b\b\b\b\b\b\b\b\b\b\b\b\b\b\b\b\b\b\b\b\b\b\b\b\b\b\b\b\b\b\b\b\b\b\b\b\b\b\b\b\b\b\b\b\b\b\b\b\b\b\b\b\b\b\b\b\b\b\b\b\b\b\b\b\b\b\b\b\b\b\b\r",
        "17024/60000 [=======>......................] - ETA: 8s - loss: 0.2714 - acc: 0.9193"
       ]
      },
      {
       "output_type": "stream",
       "stream": "stdout",
       "text": [
        "\b\b\b\b\b\b\b\b\b\b\b\b\b\b\b\b\b\b\b\b\b\b\b\b\b\b\b\b\b\b\b\b\b\b\b\b\b\b\b\b\b\b\b\b\b\b\b\b\b\b\b\b\b\b\b\b\b\b\b\b\b\b\b\b\b\b\b\b\b\b\b\b\b\b\b\b\b\b\b\b\b\b\b\r",
        "17152/60000 [=======>......................] - ETA: 8s - loss: 0.2715 - acc: 0.9194"
       ]
      },
      {
       "output_type": "stream",
       "stream": "stdout",
       "text": [
        "\b\b\b\b\b\b\b\b\b\b\b\b\b\b\b\b\b\b\b\b\b\b\b\b\b\b\b\b\b\b\b\b\b\b\b\b\b\b\b\b\b\b\b\b\b\b\b\b\b\b\b\b\b\b\b\b\b\b\b\b\b\b\b\b\b\b\b\b\b\b\b\b\b\b\b\b\b\b\b\b\b\b\b\r",
        "17280/60000 [=======>......................] - ETA: 8s - loss: 0.2711 - acc: 0.9194"
       ]
      },
      {
       "output_type": "stream",
       "stream": "stdout",
       "text": [
        "\b\b\b\b\b\b\b\b\b\b\b\b\b\b\b\b\b\b\b\b\b\b\b\b\b\b\b\b\b\b\b\b\b\b\b\b\b\b\b\b\b\b\b\b\b\b\b\b\b\b\b\b\b\b\b\b\b\b\b\b\b\b\b\b\b\b\b\b\b\b\b\b\b\b\b\b\b\b\b\b\b\b\b\r",
        "17408/60000 [=======>......................] - ETA: 8s - loss: 0.2706 - acc: 0.9196"
       ]
      },
      {
       "output_type": "stream",
       "stream": "stdout",
       "text": [
        "\b\b\b\b\b\b\b\b\b\b\b\b\b\b\b\b\b\b\b\b\b\b\b\b\b\b\b\b\b\b\b\b\b\b\b\b\b\b\b\b\b\b\b\b\b\b\b\b\b\b\b\b\b\b\b\b\b\b\b\b\b\b\b\b\b\b\b\b\b\b\b\b\b\b\b\b\b\b\b\b\b\b\b\r",
        "17536/60000 [=======>......................] - ETA: 8s - loss: 0.2704 - acc: 0.9197"
       ]
      },
      {
       "output_type": "stream",
       "stream": "stdout",
       "text": [
        "\b\b\b\b\b\b\b\b\b\b\b\b\b\b\b\b\b\b\b\b\b\b\b\b\b\b\b\b\b\b\b\b\b\b\b\b\b\b\b\b\b\b\b\b\b\b\b\b\b\b\b\b\b\b\b\b\b\b\b\b\b\b\b\b\b\b\b\b\b\b\b\b\b\b\b\b\b\b\b\b\b\b\b\r",
        "17664/60000 [=======>......................] - ETA: 8s - loss: 0.2707 - acc: 0.9196"
       ]
      },
      {
       "output_type": "stream",
       "stream": "stdout",
       "text": [
        "\b\b\b\b\b\b\b\b\b\b\b\b\b\b\b\b\b\b\b\b\b\b\b\b\b\b\b\b\b\b\b\b\b\b\b\b\b\b\b\b\b\b\b\b\b\b\b\b\b\b\b\b\b\b\b\b\b\b\b\b\b\b\b\b\b\b\b\b\b\b\b\b\b\b\b\b\b\b\b\b\b\b\b\r",
        "17792/60000 [=======>......................] - ETA: 8s - loss: 0.2709 - acc: 0.9196"
       ]
      },
      {
       "output_type": "stream",
       "stream": "stdout",
       "text": [
        "\b\b\b\b\b\b\b\b\b\b\b\b\b\b\b\b\b\b\b\b\b\b\b\b\b\b\b\b\b\b\b\b\b\b\b\b\b\b\b\b\b\b\b\b\b\b\b\b\b\b\b\b\b\b\b\b\b\b\b\b\b\b\b\b\b\b\b\b\b\b\b\b\b\b\b\b\b\b\b\b\b\b\b\r",
        "17920/60000 [=======>......................] - ETA: 8s - loss: 0.2710 - acc: 0.9195"
       ]
      },
      {
       "output_type": "stream",
       "stream": "stdout",
       "text": [
        "\b\b\b\b\b\b\b\b\b\b\b\b\b\b\b\b\b\b\b\b\b\b\b\b\b\b\b\b\b\b\b\b\b\b\b\b\b\b\b\b\b\b\b\b\b\b\b\b\b\b\b\b\b\b\b\b\b\b\b\b\b\b\b\b\b\b\b\b\b\b\b\b\b\b\b\b\b\b\b\b\b\b\b\r",
        "18048/60000 [========>.....................] - ETA: 8s - loss: 0.2710 - acc: 0.9194"
       ]
      },
      {
       "output_type": "stream",
       "stream": "stdout",
       "text": [
        "\b\b\b\b\b\b\b\b\b\b\b\b\b\b\b\b\b\b\b\b\b\b\b\b\b\b\b\b\b\b\b\b\b\b\b\b\b\b\b\b\b\b\b\b\b\b\b\b\b\b\b\b\b\b\b\b\b\b\b\b\b\b\b\b\b\b\b\b\b\b\b\b\b\b\b\b\b\b\b\b\b\b\b\r",
        "18176/60000 [========>.....................] - ETA: 8s - loss: 0.2710 - acc: 0.9192"
       ]
      },
      {
       "output_type": "stream",
       "stream": "stdout",
       "text": [
        "\b\b\b\b\b\b\b\b\b\b\b\b\b\b\b\b\b\b\b\b\b\b\b\b\b\b\b\b\b\b\b\b\b\b\b\b\b\b\b\b\b\b\b\b\b\b\b\b\b\b\b\b\b\b\b\b\b\b\b\b\b\b\b\b\b\b\b\b\b\b\b\b\b\b\b\b\b\b\b\b\b\b\b\r",
        "18304/60000 [========>.....................] - ETA: 8s - loss: 0.2711 - acc: 0.9191"
       ]
      },
      {
       "output_type": "stream",
       "stream": "stdout",
       "text": [
        "\b\b\b\b\b\b\b\b\b\b\b\b\b\b\b\b\b\b\b\b\b\b\b\b\b\b\b\b\b\b\b\b\b\b\b\b\b\b\b\b\b\b\b\b\b\b\b\b\b\b\b\b\b\b\b\b\b\b\b\b\b\b\b\b\b\b\b\b\b\b\b\b\b\b\b\b\b\b\b\b\b\b\b\r",
        "18432/60000 [========>.....................] - ETA: 8s - loss: 0.2706 - acc: 0.9193"
       ]
      },
      {
       "output_type": "stream",
       "stream": "stdout",
       "text": [
        "\b\b\b\b\b\b\b\b\b\b\b\b\b\b\b\b\b\b\b\b\b\b\b\b\b\b\b\b\b\b\b\b\b\b\b\b\b\b\b\b\b\b\b\b\b\b\b\b\b\b\b\b\b\b\b\b\b\b\b\b\b\b\b\b\b\b\b\b\b\b\b\b\b\b\b\b\b\b\b\b\b\b\b\r",
        "18560/60000 [========>.....................] - ETA: 8s - loss: 0.2708 - acc: 0.9191"
       ]
      },
      {
       "output_type": "stream",
       "stream": "stdout",
       "text": [
        "\b\b\b\b\b\b\b\b\b\b\b\b\b\b\b\b\b\b\b\b\b\b\b\b\b\b\b\b\b\b\b\b\b\b\b\b\b\b\b\b\b\b\b\b\b\b\b\b\b\b\b\b\b\b\b\b\b\b\b\b\b\b\b\b\b\b\b\b\b\b\b\b\b\b\b\b\b\b\b\b\b\b\b\r",
        "18688/60000 [========>.....................] - ETA: 8s - loss: 0.2712 - acc: 0.9190"
       ]
      },
      {
       "output_type": "stream",
       "stream": "stdout",
       "text": [
        "\b\b\b\b\b\b\b\b\b\b\b\b\b\b\b\b\b\b\b\b\b\b\b\b\b\b\b\b\b\b\b\b\b\b\b\b\b\b\b\b\b\b\b\b\b\b\b\b\b\b\b\b\b\b\b\b\b\b\b\b\b\b\b\b\b\b\b\b\b\b\b\b\b\b\b\b\b\b\b\b\b\b\b\r",
        "18816/60000 [========>.....................] - ETA: 8s - loss: 0.2717 - acc: 0.9190"
       ]
      },
      {
       "output_type": "stream",
       "stream": "stdout",
       "text": [
        "\b\b\b\b\b\b\b\b\b\b\b\b\b\b\b\b\b\b\b\b\b\b\b\b\b\b\b\b\b\b\b\b\b\b\b\b\b\b\b\b\b\b\b\b\b\b\b\b\b\b\b\b\b\b\b\b\b\b\b\b\b\b\b\b\b\b\b\b\b\b\b\b\b\b\b\b\b\b\b\b\b\b\b\r",
        "18944/60000 [========>.....................] - ETA: 8s - loss: 0.2712 - acc: 0.9192"
       ]
      },
      {
       "output_type": "stream",
       "stream": "stdout",
       "text": [
        "\b\b\b\b\b\b\b\b\b\b\b\b\b\b\b\b\b\b\b\b\b\b\b\b\b\b\b\b\b\b\b\b\b\b\b\b\b\b\b\b\b\b\b\b\b\b\b\b\b\b\b\b\b\b\b\b\b\b\b\b\b\b\b\b\b\b\b\b\b\b\b\b\b\b\b\b\b\b\b\b\b\b\b\r",
        "19072/60000 [========>.....................] - ETA: 8s - loss: 0.2701 - acc: 0.9196"
       ]
      },
      {
       "output_type": "stream",
       "stream": "stdout",
       "text": [
        "\b\b\b\b\b\b\b\b\b\b\b\b\b\b\b\b\b\b\b\b\b\b\b\b\b\b\b\b\b\b\b\b\b\b\b\b\b\b\b\b\b\b\b\b\b\b\b\b\b\b\b\b\b\b\b\b\b\b\b\b\b\b\b\b\b\b\b\b\b\b\b\b\b\b\b\b\b\b\b\b\b\b\b\r",
        "19200/60000 [========>.....................] - ETA: 7s - loss: 0.2706 - acc: 0.9194"
       ]
      },
      {
       "output_type": "stream",
       "stream": "stdout",
       "text": [
        "\b\b\b\b\b\b\b\b\b\b\b\b\b\b\b\b\b\b\b\b\b\b\b\b\b\b\b\b\b\b\b\b\b\b\b\b\b\b\b\b\b\b\b\b\b\b\b\b\b\b\b\b\b\b\b\b\b\b\b\b\b\b\b\b\b\b\b\b\b\b\b\b\b\b\b\b\b\b\b\b\b\b\b\r",
        "19328/60000 [========>.....................] - ETA: 7s - loss: 0.2713 - acc: 0.9193"
       ]
      },
      {
       "output_type": "stream",
       "stream": "stdout",
       "text": [
        "\b\b\b\b\b\b\b\b\b\b\b\b\b\b\b\b\b\b\b\b\b\b\b\b\b\b\b\b\b\b\b\b\b\b\b\b\b\b\b\b\b\b\b\b\b\b\b\b\b\b\b\b\b\b\b\b\b\b\b\b\b\b\b\b\b\b\b\b\b\b\b\b\b\b\b\b\b\b\b\b\b\b\b\r",
        "19456/60000 [========>.....................] - ETA: 7s - loss: 0.2710 - acc: 0.9194"
       ]
      },
      {
       "output_type": "stream",
       "stream": "stdout",
       "text": [
        "\b\b\b\b\b\b\b\b\b\b\b\b\b\b\b\b\b\b\b\b\b\b\b\b\b\b\b\b\b\b\b\b\b\b\b\b\b\b\b\b\b\b\b\b\b\b\b\b\b\b\b\b\b\b\b\b\b\b\b\b\b\b\b\b\b\b\b\b\b\b\b\b\b\b\b\b\b\b\b\b\b\b\b\r",
        "19584/60000 [========>.....................] - ETA: 7s - loss: 0.2711 - acc: 0.9193"
       ]
      },
      {
       "output_type": "stream",
       "stream": "stdout",
       "text": [
        "\b\b\b\b\b\b\b\b\b\b\b\b\b\b\b\b\b\b\b\b\b\b\b\b\b\b\b\b\b\b\b\b\b\b\b\b\b\b\b\b\b\b\b\b\b\b\b\b\b\b\b\b\b\b\b\b\b\b\b\b\b\b\b\b\b\b\b\b\b\b\b\b\b\b\b\b\b\b\b\b\b\b\b\r",
        "19712/60000 [========>.....................] - ETA: 7s - loss: 0.2708 - acc: 0.9194"
       ]
      },
      {
       "output_type": "stream",
       "stream": "stdout",
       "text": [
        "\b\b\b\b\b\b\b\b\b\b\b\b\b\b\b\b\b\b\b\b\b\b\b\b\b\b\b\b\b\b\b\b\b\b\b\b\b\b\b\b\b\b\b\b\b\b\b\b\b\b\b\b\b\b\b\b\b\b\b\b\b\b\b\b\b\b\b\b\b\b\b\b\b\b\b\b\b\b\b\b\b\b\b\r",
        "19840/60000 [========>.....................] - ETA: 7s - loss: 0.2706 - acc: 0.9194"
       ]
      },
      {
       "output_type": "stream",
       "stream": "stdout",
       "text": [
        "\b\b\b\b\b\b\b\b\b\b\b\b\b\b\b\b\b\b\b\b\b\b\b\b\b\b\b\b\b\b\b\b\b\b\b\b\b\b\b\b\b\b\b\b\b\b\b\b\b\b\b\b\b\b\b\b\b\b\b\b\b\b\b\b\b\b\b\b\b\b\b\b\b\b\b\b\b\b\b\b\b\b\b\r",
        "19968/60000 [========>.....................] - ETA: 7s - loss: 0.2700 - acc: 0.9195"
       ]
      },
      {
       "output_type": "stream",
       "stream": "stdout",
       "text": [
        "\b\b\b\b\b\b\b\b\b\b\b\b\b\b\b\b\b\b\b\b\b\b\b\b\b\b\b\b\b\b\b\b\b\b\b\b\b\b\b\b\b\b\b\b\b\b\b\b\b\b\b\b\b\b\b\b\b\b\b\b\b\b\b\b\b\b\b\b\b\b\b\b\b\b\b\b\b\b\b\b\b\b\b\r",
        "20096/60000 [=========>....................] - ETA: 7s - loss: 0.2697 - acc: 0.9196"
       ]
      },
      {
       "output_type": "stream",
       "stream": "stdout",
       "text": [
        "\b\b\b\b\b\b\b\b\b\b\b\b\b\b\b\b\b\b\b\b\b\b\b\b\b\b\b\b\b\b\b\b\b\b\b\b\b\b\b\b\b\b\b\b\b\b\b\b\b\b\b\b\b\b\b\b\b\b\b\b\b\b\b\b\b\b\b\b\b\b\b\b\b\b\b\b\b\b\b\b\b\b\b\r",
        "20224/60000 [=========>....................] - ETA: 7s - loss: 0.2702 - acc: 0.9195"
       ]
      },
      {
       "output_type": "stream",
       "stream": "stdout",
       "text": [
        "\b\b\b\b\b\b\b\b\b\b\b\b\b\b\b\b\b\b\b\b\b\b\b\b\b\b\b\b\b\b\b\b\b\b\b\b\b\b\b\b\b\b\b\b\b\b\b\b\b\b\b\b\b\b\b\b\b\b\b\b\b\b\b\b\b\b\b\b\b\b\b\b\b\b\b\b\b\b\b\b\b\b\b\r",
        "20352/60000 [=========>....................] - ETA: 7s - loss: 0.2700 - acc: 0.9196"
       ]
      },
      {
       "output_type": "stream",
       "stream": "stdout",
       "text": [
        "\b\b\b\b\b\b\b\b\b\b\b\b\b\b\b\b\b\b\b\b\b\b\b\b\b\b\b\b\b\b\b\b\b\b\b\b\b\b\b\b\b\b\b\b\b\b\b\b\b\b\b\b\b\b\b\b\b\b\b\b\b\b\b\b\b\b\b\b\b\b\b\b\b\b\b\b\b\b\b\b\b\b\b\r",
        "20480/60000 [=========>....................] - ETA: 7s - loss: 0.2700 - acc: 0.9195"
       ]
      },
      {
       "output_type": "stream",
       "stream": "stdout",
       "text": [
        "\b\b\b\b\b\b\b\b\b\b\b\b\b\b\b\b\b\b\b\b\b\b\b\b\b\b\b\b\b\b\b\b\b\b\b\b\b\b\b\b\b\b\b\b\b\b\b\b\b\b\b\b\b\b\b\b\b\b\b\b\b\b\b\b\b\b\b\b\b\b\b\b\b\b\b\b\b\b\b\b\b\b\b\r",
        "20608/60000 [=========>....................] - ETA: 7s - loss: 0.2700 - acc: 0.9195"
       ]
      },
      {
       "output_type": "stream",
       "stream": "stdout",
       "text": [
        "\b\b\b\b\b\b\b\b\b\b\b\b\b\b\b\b\b\b\b\b\b\b\b\b\b\b\b\b\b\b\b\b\b\b\b\b\b\b\b\b\b\b\b\b\b\b\b\b\b\b\b\b\b\b\b\b\b\b\b\b\b\b\b\b\b\b\b\b\b\b\b\b\b\b\b\b\b\b\b\b\b\b\b\r",
        "20736/60000 [=========>....................] - ETA: 7s - loss: 0.2698 - acc: 0.9195"
       ]
      },
      {
       "output_type": "stream",
       "stream": "stdout",
       "text": [
        "\b\b\b\b\b\b\b\b\b\b\b\b\b\b\b\b\b\b\b\b\b\b\b\b\b\b\b\b\b\b\b\b\b\b\b\b\b\b\b\b\b\b\b\b\b\b\b\b\b\b\b\b\b\b\b\b\b\b\b\b\b\b\b\b\b\b\b\b\b\b\b\b\b\b\b\b\b\b\b\b\b\b\b\r",
        "20864/60000 [=========>....................] - ETA: 7s - loss: 0.2699 - acc: 0.9195"
       ]
      },
      {
       "output_type": "stream",
       "stream": "stdout",
       "text": [
        "\b\b\b\b\b\b\b\b\b\b\b\b\b\b\b\b\b\b\b\b\b\b\b\b\b\b\b\b\b\b\b\b\b\b\b\b\b\b\b\b\b\b\b\b\b\b\b\b\b\b\b\b\b\b\b\b\b\b\b\b\b\b\b\b\b\b\b\b\b\b\b\b\b\b\b\b\b\b\b\b\b\b\b\r",
        "20992/60000 [=========>....................] - ETA: 7s - loss: 0.2701 - acc: 0.9195"
       ]
      },
      {
       "output_type": "stream",
       "stream": "stdout",
       "text": [
        "\b\b\b\b\b\b\b\b\b\b\b\b\b\b\b\b\b\b\b\b\b\b\b\b\b\b\b\b\b\b\b\b\b\b\b\b\b\b\b\b\b\b\b\b\b\b\b\b\b\b\b\b\b\b\b\b\b\b\b\b\b\b\b\b\b\b\b\b\b\b\b\b\b\b\b\b\b\b\b\b\b\b\b\r",
        "21120/60000 [=========>....................] - ETA: 7s - loss: 0.2702 - acc: 0.9195"
       ]
      },
      {
       "output_type": "stream",
       "stream": "stdout",
       "text": [
        "\b\b\b\b\b\b\b\b\b\b\b\b\b\b\b\b\b\b\b\b\b\b\b\b\b\b\b\b\b\b\b\b\b\b\b\b\b\b\b\b\b\b\b\b\b\b\b\b\b\b\b\b\b\b\b\b\b\b\b\b\b\b\b\b\b\b\b\b\b\b\b\b\b\b\b\b\b\b\b\b\b\b\b\r",
        "21248/60000 [=========>....................] - ETA: 7s - loss: 0.2699 - acc: 0.9196"
       ]
      },
      {
       "output_type": "stream",
       "stream": "stdout",
       "text": [
        "\b\b\b\b\b\b\b\b\b\b\b\b\b\b\b\b\b\b\b\b\b\b\b\b\b\b\b\b\b\b\b\b\b\b\b\b\b\b\b\b\b\b\b\b\b\b\b\b\b\b\b\b\b\b\b\b\b\b\b\b\b\b\b\b\b\b\b\b\b\b\b\b\b\b\b\b\b\b\b\b\b\b\b\r",
        "21376/60000 [=========>....................] - ETA: 7s - loss: 0.2697 - acc: 0.9197"
       ]
      },
      {
       "output_type": "stream",
       "stream": "stdout",
       "text": [
        "\b\b\b\b\b\b\b\b\b\b\b\b\b\b\b\b\b\b\b\b\b\b\b\b\b\b\b\b\b\b\b\b\b\b\b\b\b\b\b\b\b\b\b\b\b\b\b\b\b\b\b\b\b\b\b\b\b\b\b\b\b\b\b\b\b\b\b\b\b\b\b\b\b\b\b\b\b\b\b\b\b\b\b\r",
        "21504/60000 [=========>....................] - ETA: 7s - loss: 0.2689 - acc: 0.9199"
       ]
      },
      {
       "output_type": "stream",
       "stream": "stdout",
       "text": [
        "\b\b\b\b\b\b\b\b\b\b\b\b\b\b\b\b\b\b\b\b\b\b\b\b\b\b\b\b\b\b\b\b\b\b\b\b\b\b\b\b\b\b\b\b\b\b\b\b\b\b\b\b\b\b\b\b\b\b\b\b\b\b\b\b\b\b\b\b\b\b\b\b\b\b\b\b\b\b\b\b\b\b\b\r",
        "21632/60000 [=========>....................] - ETA: 7s - loss: 0.2685 - acc: 0.9200"
       ]
      },
      {
       "output_type": "stream",
       "stream": "stdout",
       "text": [
        "\b\b\b\b\b\b\b\b\b\b\b\b\b\b\b\b\b\b\b\b\b\b\b\b\b\b\b\b\b\b\b\b\b\b\b\b\b\b\b\b\b\b\b\b\b\b\b\b\b\b\b\b\b\b\b\b\b\b\b\b\b\b\b\b\b\b\b\b\b\b\b\b\b\b\b\b\b\b\b\b\b\b\b\r",
        "21760/60000 [=========>....................] - ETA: 7s - loss: 0.2682 - acc: 0.9198"
       ]
      },
      {
       "output_type": "stream",
       "stream": "stdout",
       "text": [
        "\b\b\b\b\b\b\b\b\b\b\b\b\b\b\b\b\b\b\b\b\b\b\b\b\b\b\b\b\b\b\b\b\b\b\b\b\b\b\b\b\b\b\b\b\b\b\b\b\b\b\b\b\b\b\b\b\b\b\b\b\b\b\b\b\b\b\b\b\b\b\b\b\b\b\b\b\b\b\b\b\b\b\b\r",
        "21888/60000 [=========>....................] - ETA: 7s - loss: 0.2677 - acc: 0.9201"
       ]
      },
      {
       "output_type": "stream",
       "stream": "stdout",
       "text": [
        "\b\b\b\b\b\b\b\b\b\b\b\b\b\b\b\b\b\b\b\b\b\b\b\b\b\b\b\b\b\b\b\b\b\b\b\b\b\b\b\b\b\b\b\b\b\b\b\b\b\b\b\b\b\b\b\b\b\b\b\b\b\b\b\b\b\b\b\b\b\b\b\b\b\b\b\b\b\b\b\b\b\b\b\r",
        "22016/60000 [==========>...................] - ETA: 7s - loss: 0.2676 - acc: 0.9201"
       ]
      },
      {
       "output_type": "stream",
       "stream": "stdout",
       "text": [
        "\b\b\b\b\b\b\b\b\b\b\b\b\b\b\b\b\b\b\b\b\b\b\b\b\b\b\b\b\b\b\b\b\b\b\b\b\b\b\b\b\b\b\b\b\b\b\b\b\b\b\b\b\b\b\b\b\b\b\b\b\b\b\b\b\b\b\b\b\b\b\b\b\b\b\b\b\b\b\b\b\b\b\b\r",
        "22144/60000 [==========>...................] - ETA: 7s - loss: 0.2677 - acc: 0.9201"
       ]
      },
      {
       "output_type": "stream",
       "stream": "stdout",
       "text": [
        "\b\b\b\b\b\b\b\b\b\b\b\b\b\b\b\b\b\b\b\b\b\b\b\b\b\b\b\b\b\b\b\b\b\b\b\b\b\b\b\b\b\b\b\b\b\b\b\b\b\b\b\b\b\b\b\b\b\b\b\b\b\b\b\b\b\b\b\b\b\b\b\b\b\b\b\b\b\b\b\b\b\b\b\r",
        "22272/60000 [==========>...................] - ETA: 7s - loss: 0.2676 - acc: 0.9202"
       ]
      },
      {
       "output_type": "stream",
       "stream": "stdout",
       "text": [
        "\b\b\b\b\b\b\b\b\b\b\b\b\b\b\b\b\b\b\b\b\b\b\b\b\b\b\b\b\b\b\b\b\b\b\b\b\b\b\b\b\b\b\b\b\b\b\b\b\b\b\b\b\b\b\b\b\b\b\b\b\b\b\b\b\b\b\b\b\b\b\b\b\b\b\b\b\b\b\b\b\b\b\b\r",
        "22400/60000 [==========>...................] - ETA: 7s - loss: 0.2679 - acc: 0.9200"
       ]
      },
      {
       "output_type": "stream",
       "stream": "stdout",
       "text": [
        "\b\b\b\b\b\b\b\b\b\b\b\b\b\b\b\b\b\b\b\b\b\b\b\b\b\b\b\b\b\b\b\b\b\b\b\b\b\b\b\b\b\b\b\b\b\b\b\b\b\b\b\b\b\b\b\b\b\b\b\b\b\b\b\b\b\b\b\b\b\b\b\b\b\b\b\b\b\b\b\b\b\b\b\r",
        "22528/60000 [==========>...................] - ETA: 7s - loss: 0.2674 - acc: 0.9200"
       ]
      },
      {
       "output_type": "stream",
       "stream": "stdout",
       "text": [
        "\b\b\b\b\b\b\b\b\b\b\b\b\b\b\b\b\b\b\b\b\b\b\b\b\b\b\b\b\b\b\b\b\b\b\b\b\b\b\b\b\b\b\b\b\b\b\b\b\b\b\b\b\b\b\b\b\b\b\b\b\b\b\b\b\b\b\b\b\b\b\b\b\b\b\b\b\b\b\b\b\b\b\b\r",
        "22656/60000 [==========>...................] - ETA: 7s - loss: 0.2670 - acc: 0.9202"
       ]
      },
      {
       "output_type": "stream",
       "stream": "stdout",
       "text": [
        "\b\b\b\b\b\b\b\b\b\b\b\b\b\b\b\b\b\b\b\b\b\b\b\b\b\b\b\b\b\b\b\b\b\b\b\b\b\b\b\b\b\b\b\b\b\b\b\b\b\b\b\b\b\b\b\b\b\b\b\b\b\b\b\b\b\b\b\b\b\b\b\b\b\b\b\b\b\b\b\b\b\b\b\r",
        "22784/60000 [==========>...................] - ETA: 7s - loss: 0.2668 - acc: 0.9203"
       ]
      },
      {
       "output_type": "stream",
       "stream": "stdout",
       "text": [
        "\b\b\b\b\b\b\b\b\b\b\b\b\b\b\b\b\b\b\b\b\b\b\b\b\b\b\b\b\b\b\b\b\b\b\b\b\b\b\b\b\b\b\b\b\b\b\b\b\b\b\b\b\b\b\b\b\b\b\b\b\b\b\b\b\b\b\b\b\b\b\b\b\b\b\b\b\b\b\b\b\b\b\b\r",
        "22912/60000 [==========>...................] - ETA: 7s - loss: 0.2666 - acc: 0.9203"
       ]
      },
      {
       "output_type": "stream",
       "stream": "stdout",
       "text": [
        "\b\b\b\b\b\b\b\b\b\b\b\b\b\b\b\b\b\b\b\b\b\b\b\b\b\b\b\b\b\b\b\b\b\b\b\b\b\b\b\b\b\b\b\b\b\b\b\b\b\b\b\b\b\b\b\b\b\b\b\b\b\b\b\b\b\b\b\b\b\b\b\b\b\b\b\b\b\b\b\b\b\b\b\r",
        "23040/60000 [==========>...................] - ETA: 7s - loss: 0.2664 - acc: 0.9204"
       ]
      },
      {
       "output_type": "stream",
       "stream": "stdout",
       "text": [
        "\b\b\b\b\b\b\b\b\b\b\b\b\b\b\b\b\b\b\b\b\b\b\b\b\b\b\b\b\b\b\b\b\b\b\b\b\b\b\b\b\b\b\b\b\b\b\b\b\b\b\b\b\b\b\b\b\b\b\b\b\b\b\b\b\b\b\b\b\b\b\b\b\b\b\b\b\b\b\b\b\b\b\b\r",
        "23168/60000 [==========>...................] - ETA: 7s - loss: 0.2659 - acc: 0.9206"
       ]
      },
      {
       "output_type": "stream",
       "stream": "stdout",
       "text": [
        "\b\b\b\b\b\b\b\b\b\b\b\b\b\b\b\b\b\b\b\b\b\b\b\b\b\b\b\b\b\b\b\b\b\b\b\b\b\b\b\b\b\b\b\b\b\b\b\b\b\b\b\b\b\b\b\b\b\b\b\b\b\b\b\b\b\b\b\b\b\b\b\b\b\b\b\b\b\b\b\b\b\b\b\r",
        "23296/60000 [==========>...................] - ETA: 7s - loss: 0.2656 - acc: 0.9206"
       ]
      },
      {
       "output_type": "stream",
       "stream": "stdout",
       "text": [
        "\b\b\b\b\b\b\b\b\b\b\b\b\b\b\b\b\b\b\b\b\b\b\b\b\b\b\b\b\b\b\b\b\b\b\b\b\b\b\b\b\b\b\b\b\b\b\b\b\b\b\b\b\b\b\b\b\b\b\b\b\b\b\b\b\b\b\b\b\b\b\b\b\b\b\b\b\b\b\b\b\b\b\b\r",
        "23424/60000 [==========>...................] - ETA: 7s - loss: 0.2659 - acc: 0.9206"
       ]
      },
      {
       "output_type": "stream",
       "stream": "stdout",
       "text": [
        "\b\b\b\b\b\b\b\b\b\b\b\b\b\b\b\b\b\b\b\b\b\b\b\b\b\b\b\b\b\b\b\b\b\b\b\b\b\b\b\b\b\b\b\b\b\b\b\b\b\b\b\b\b\b\b\b\b\b\b\b\b\b\b\b\b\b\b\b\b\b\b\b\b\b\b\b\b\b\b\b\b\b\b\r",
        "23552/60000 [==========>...................] - ETA: 7s - loss: 0.2658 - acc: 0.9206"
       ]
      },
      {
       "output_type": "stream",
       "stream": "stdout",
       "text": [
        "\b\b\b\b\b\b\b\b\b\b\b\b\b\b\b\b\b\b\b\b\b\b\b\b\b\b\b\b\b\b\b\b\b\b\b\b\b\b\b\b\b\b\b\b\b\b\b\b\b\b\b\b\b\b\b\b\b\b\b\b\b\b\b\b\b\b\b\b\b\b\b\b\b\b\b\b\b\b\b\b\b\b\b\r",
        "23680/60000 [==========>...................] - ETA: 7s - loss: 0.2658 - acc: 0.9207"
       ]
      },
      {
       "output_type": "stream",
       "stream": "stdout",
       "text": [
        "\b\b\b\b\b\b\b\b\b\b\b\b\b\b\b\b\b\b\b\b\b\b\b\b\b\b\b\b\b\b\b\b\b\b\b\b\b\b\b\b\b\b\b\b\b\b\b\b\b\b\b\b\b\b\b\b\b\b\b\b\b\b\b\b\b\b\b\b\b\b\b\b\b\b\b\b\b\b\b\b\b\b\b\r",
        "23808/60000 [==========>...................] - ETA: 7s - loss: 0.2659 - acc: 0.9208"
       ]
      },
      {
       "output_type": "stream",
       "stream": "stdout",
       "text": [
        "\b\b\b\b\b\b\b\b\b\b\b\b\b\b\b\b\b\b\b\b\b\b\b\b\b\b\b\b\b\b\b\b\b\b\b\b\b\b\b\b\b\b\b\b\b\b\b\b\b\b\b\b\b\b\b\b\b\b\b\b\b\b\b\b\b\b\b\b\b\b\b\b\b\b\b\b\b\b\b\b\b\b\b\r",
        "23936/60000 [==========>...................] - ETA: 7s - loss: 0.2662 - acc: 0.9207"
       ]
      },
      {
       "output_type": "stream",
       "stream": "stdout",
       "text": [
        "\b\b\b\b\b\b\b\b\b\b\b\b\b\b\b\b\b\b\b\b\b\b\b\b\b\b\b\b\b\b\b\b\b\b\b\b\b\b\b\b\b\b\b\b\b\b\b\b\b\b\b\b\b\b\b\b\b\b\b\b\b\b\b\b\b\b\b\b\b\b\b\b\b\b\b\b\b\b\b\b\b\b\b\r",
        "24064/60000 [===========>..................] - ETA: 7s - loss: 0.2668 - acc: 0.9205"
       ]
      },
      {
       "output_type": "stream",
       "stream": "stdout",
       "text": [
        "\b\b\b\b\b\b\b\b\b\b\b\b\b\b\b\b\b\b\b\b\b\b\b\b\b\b\b\b\b\b\b\b\b\b\b\b\b\b\b\b\b\b\b\b\b\b\b\b\b\b\b\b\b\b\b\b\b\b\b\b\b\b\b\b\b\b\b\b\b\b\b\b\b\b\b\b\b\b\b\b\b\b\b\r",
        "24192/60000 [===========>..................] - ETA: 7s - loss: 0.2670 - acc: 0.9205"
       ]
      },
      {
       "output_type": "stream",
       "stream": "stdout",
       "text": [
        "\b\b\b\b\b\b\b\b\b\b\b\b\b\b\b\b\b\b\b\b\b\b\b\b\b\b\b\b\b\b\b\b\b\b\b\b\b\b\b\b\b\b\b\b\b\b\b\b\b\b\b\b\b\b\b\b\b\b\b\b\b\b\b\b\b\b\b\b\b\b\b\b\b\b\b\b\b\b\b\b\b\b\b\r",
        "24320/60000 [===========>..................] - ETA: 7s - loss: 0.2669 - acc: 0.9205"
       ]
      },
      {
       "output_type": "stream",
       "stream": "stdout",
       "text": [
        "\b\b\b\b\b\b\b\b\b\b\b\b\b\b\b\b\b\b\b\b\b\b\b\b\b\b\b\b\b\b\b\b\b\b\b\b\b\b\b\b\b\b\b\b\b\b\b\b\b\b\b\b\b\b\b\b\b\b\b\b\b\b\b\b\b\b\b\b\b\b\b\b\b\b\b\b\b\b\b\b\b\b\b\r",
        "24448/60000 [===========>..................] - ETA: 6s - loss: 0.2667 - acc: 0.9207"
       ]
      },
      {
       "output_type": "stream",
       "stream": "stdout",
       "text": [
        "\b\b\b\b\b\b\b\b\b\b\b\b\b\b\b\b\b\b\b\b\b\b\b\b\b\b\b\b\b\b\b\b\b\b\b\b\b\b\b\b\b\b\b\b\b\b\b\b\b\b\b\b\b\b\b\b\b\b\b\b\b\b\b\b\b\b\b\b\b\b\b\b\b\b\b\b\b\b\b\b\b\b\b\r",
        "24576/60000 [===========>..................] - ETA: 6s - loss: 0.2665 - acc: 0.9208"
       ]
      },
      {
       "output_type": "stream",
       "stream": "stdout",
       "text": [
        "\b\b\b\b\b\b\b\b\b\b\b\b\b\b\b\b\b\b\b\b\b\b\b\b\b\b\b\b\b\b\b\b\b\b\b\b\b\b\b\b\b\b\b\b\b\b\b\b\b\b\b\b\b\b\b\b\b\b\b\b\b\b\b\b\b\b\b\b\b\b\b\b\b\b\b\b\b\b\b\b\b\b\b\r",
        "24704/60000 [===========>..................] - ETA: 6s - loss: 0.2659 - acc: 0.9210"
       ]
      },
      {
       "output_type": "stream",
       "stream": "stdout",
       "text": [
        "\b\b\b\b\b\b\b\b\b\b\b\b\b\b\b\b\b\b\b\b\b\b\b\b\b\b\b\b\b\b\b\b\b\b\b\b\b\b\b\b\b\b\b\b\b\b\b\b\b\b\b\b\b\b\b\b\b\b\b\b\b\b\b\b\b\b\b\b\b\b\b\b\b\b\b\b\b\b\b\b\b\b\b\r",
        "24832/60000 [===========>..................] - ETA: 6s - loss: 0.2657 - acc: 0.9211"
       ]
      },
      {
       "output_type": "stream",
       "stream": "stdout",
       "text": [
        "\b\b\b\b\b\b\b\b\b\b\b\b\b\b\b\b\b\b\b\b\b\b\b\b\b\b\b\b\b\b\b\b\b\b\b\b\b\b\b\b\b\b\b\b\b\b\b\b\b\b\b\b\b\b\b\b\b\b\b\b\b\b\b\b\b\b\b\b\b\b\b\b\b\b\b\b\b\b\b\b\b\b\b\r",
        "24960/60000 [===========>..................] - ETA: 6s - loss: 0.2659 - acc: 0.9208"
       ]
      },
      {
       "output_type": "stream",
       "stream": "stdout",
       "text": [
        "\b\b\b\b\b\b\b\b\b\b\b\b\b\b\b\b\b\b\b\b\b\b\b\b\b\b\b\b\b\b\b\b\b\b\b\b\b\b\b\b\b\b\b\b\b\b\b\b\b\b\b\b\b\b\b\b\b\b\b\b\b\b\b\b\b\b\b\b\b\b\b\b\b\b\b\b\b\b\b\b\b\b\b\r",
        "25088/60000 [===========>..................] - ETA: 6s - loss: 0.2657 - acc: 0.9209"
       ]
      },
      {
       "output_type": "stream",
       "stream": "stdout",
       "text": [
        "\b\b\b\b\b\b\b\b\b\b\b\b\b\b\b\b\b\b\b\b\b\b\b\b\b\b\b\b\b\b\b\b\b\b\b\b\b\b\b\b\b\b\b\b\b\b\b\b\b\b\b\b\b\b\b\b\b\b\b\b\b\b\b\b\b\b\b\b\b\b\b\b\b\b\b\b\b\b\b\b\b\b\b\r",
        "25216/60000 [===========>..................] - ETA: 6s - loss: 0.2654 - acc: 0.9210"
       ]
      },
      {
       "output_type": "stream",
       "stream": "stdout",
       "text": [
        "\b\b\b\b\b\b\b\b\b\b\b\b\b\b\b\b\b\b\b\b\b\b\b\b\b\b\b\b\b\b\b\b\b\b\b\b\b\b\b\b\b\b\b\b\b\b\b\b\b\b\b\b\b\b\b\b\b\b\b\b\b\b\b\b\b\b\b\b\b\b\b\b\b\b\b\b\b\b\b\b\b\b\b\r",
        "25344/60000 [===========>..................] - ETA: 6s - loss: 0.2654 - acc: 0.9209"
       ]
      },
      {
       "output_type": "stream",
       "stream": "stdout",
       "text": [
        "\b\b\b\b\b\b\b\b\b\b\b\b\b\b\b\b\b\b\b\b\b\b\b\b\b\b\b\b\b\b\b\b\b\b\b\b\b\b\b\b\b\b\b\b\b\b\b\b\b\b\b\b\b\b\b\b\b\b\b\b\b\b\b\b\b\b\b\b\b\b\b\b\b\b\b\b\b\b\b\b\b\b\b\r",
        "25472/60000 [===========>..................] - ETA: 6s - loss: 0.2654 - acc: 0.9210"
       ]
      },
      {
       "output_type": "stream",
       "stream": "stdout",
       "text": [
        "\b\b\b\b\b\b\b\b\b\b\b\b\b\b\b\b\b\b\b\b\b\b\b\b\b\b\b\b\b\b\b\b\b\b\b\b\b\b\b\b\b\b\b\b\b\b\b\b\b\b\b\b\b\b\b\b\b\b\b\b\b\b\b\b\b\b\b\b\b\b\b\b\b\b\b\b\b\b\b\b\b\b\b\r",
        "25600/60000 [===========>..................] - ETA: 6s - loss: 0.2650 - acc: 0.9212"
       ]
      },
      {
       "output_type": "stream",
       "stream": "stdout",
       "text": [
        "\b\b\b\b\b\b\b\b\b\b\b\b\b\b\b\b\b\b\b\b\b\b\b\b\b\b\b\b\b\b\b\b\b\b\b\b\b\b\b\b\b\b\b\b\b\b\b\b\b\b\b\b\b\b\b\b\b\b\b\b\b\b\b\b\b\b\b\b\b\b\b\b\b\b\b\b\b\b\b\b\b\b\b\r",
        "25728/60000 [===========>..................] - ETA: 6s - loss: 0.2652 - acc: 0.9211"
       ]
      },
      {
       "output_type": "stream",
       "stream": "stdout",
       "text": [
        "\b\b\b\b\b\b\b\b\b\b\b\b\b\b\b\b\b\b\b\b\b\b\b\b\b\b\b\b\b\b\b\b\b\b\b\b\b\b\b\b\b\b\b\b\b\b\b\b\b\b\b\b\b\b\b\b\b\b\b\b\b\b\b\b\b\b\b\b\b\b\b\b\b\b\b\b\b\b\b\b\b\b\b\r",
        "25856/60000 [===========>..................] - ETA: 6s - loss: 0.2655 - acc: 0.9210"
       ]
      },
      {
       "output_type": "stream",
       "stream": "stdout",
       "text": [
        "\b\b\b\b\b\b\b\b\b\b\b\b\b\b\b\b\b\b\b\b\b\b\b\b\b\b\b\b\b\b\b\b\b\b\b\b\b\b\b\b\b\b\b\b\b\b\b\b\b\b\b\b\b\b\b\b\b\b\b\b\b\b\b\b\b\b\b\b\b\b\b\b\b\b\b\b\b\b\b\b\b\b\b\r",
        "25984/60000 [===========>..................] - ETA: 6s - loss: 0.2651 - acc: 0.9210"
       ]
      },
      {
       "output_type": "stream",
       "stream": "stdout",
       "text": [
        "\b\b\b\b\b\b\b\b\b\b\b\b\b\b\b\b\b\b\b\b\b\b\b\b\b\b\b\b\b\b\b\b\b\b\b\b\b\b\b\b\b\b\b\b\b\b\b\b\b\b\b\b\b\b\b\b\b\b\b\b\b\b\b\b\b\b\b\b\b\b\b\b\b\b\b\b\b\b\b\b\b\b\b\r",
        "26112/60000 [============>.................] - ETA: 6s - loss: 0.2647 - acc: 0.9211"
       ]
      },
      {
       "output_type": "stream",
       "stream": "stdout",
       "text": [
        "\b\b\b\b\b\b\b\b\b\b\b\b\b\b\b\b\b\b\b\b\b\b\b\b\b\b\b\b\b\b\b\b\b\b\b\b\b\b\b\b\b\b\b\b\b\b\b\b\b\b\b\b\b\b\b\b\b\b\b\b\b\b\b\b\b\b\b\b\b\b\b\b\b\b\b\b\b\b\b\b\b\b\b\r",
        "26240/60000 [============>.................] - ETA: 6s - loss: 0.2645 - acc: 0.9211"
       ]
      },
      {
       "output_type": "stream",
       "stream": "stdout",
       "text": [
        "\b\b\b\b\b\b\b\b\b\b\b\b\b\b\b\b\b\b\b\b\b\b\b\b\b\b\b\b\b\b\b\b\b\b\b\b\b\b\b\b\b\b\b\b\b\b\b\b\b\b\b\b\b\b\b\b\b\b\b\b\b\b\b\b\b\b\b\b\b\b\b\b\b\b\b\b\b\b\b\b\b\b\b\r",
        "26368/60000 [============>.................] - ETA: 6s - loss: 0.2642 - acc: 0.9212"
       ]
      },
      {
       "output_type": "stream",
       "stream": "stdout",
       "text": [
        "\b\b\b\b\b\b\b\b\b\b\b\b\b\b\b\b\b\b\b\b\b\b\b\b\b\b\b\b\b\b\b\b\b\b\b\b\b\b\b\b\b\b\b\b\b\b\b\b\b\b\b\b\b\b\b\b\b\b\b\b\b\b\b\b\b\b\b\b\b\b\b\b\b\b\b\b\b\b\b\b\b\b\b\r",
        "26496/60000 [============>.................] - ETA: 6s - loss: 0.2647 - acc: 0.9212"
       ]
      },
      {
       "output_type": "stream",
       "stream": "stdout",
       "text": [
        "\b\b\b\b\b\b\b\b\b\b\b\b\b\b\b\b\b\b\b\b\b\b\b\b\b\b\b\b\b\b\b\b\b\b\b\b\b\b\b\b\b\b\b\b\b\b\b\b\b\b\b\b\b\b\b\b\b\b\b\b\b\b\b\b\b\b\b\b\b\b\b\b\b\b\b\b\b\b\b\b\b\b\b\r",
        "26624/60000 [============>.................] - ETA: 6s - loss: 0.2647 - acc: 0.9212"
       ]
      },
      {
       "output_type": "stream",
       "stream": "stdout",
       "text": [
        "\b\b\b\b\b\b\b\b\b\b\b\b\b\b\b\b\b\b\b\b\b\b\b\b\b\b\b\b\b\b\b\b\b\b\b\b\b\b\b\b\b\b\b\b\b\b\b\b\b\b\b\b\b\b\b\b\b\b\b\b\b\b\b\b\b\b\b\b\b\b\b\b\b\b\b\b\b\b\b\b\b\b\b\r",
        "26752/60000 [============>.................] - ETA: 6s - loss: 0.2644 - acc: 0.9212"
       ]
      },
      {
       "output_type": "stream",
       "stream": "stdout",
       "text": [
        "\b\b\b\b\b\b\b\b\b\b\b\b\b\b\b\b\b\b\b\b\b\b\b\b\b\b\b\b\b\b\b\b\b\b\b\b\b\b\b\b\b\b\b\b\b\b\b\b\b\b\b\b\b\b\b\b\b\b\b\b\b\b\b\b\b\b\b\b\b\b\b\b\b\b\b\b\b\b\b\b\b\b\b\r",
        "26880/60000 [============>.................] - ETA: 6s - loss: 0.2648 - acc: 0.9211"
       ]
      },
      {
       "output_type": "stream",
       "stream": "stdout",
       "text": [
        "\b\b\b\b\b\b\b\b\b\b\b\b\b\b\b\b\b\b\b\b\b\b\b\b\b\b\b\b\b\b\b\b\b\b\b\b\b\b\b\b\b\b\b\b\b\b\b\b\b\b\b\b\b\b\b\b\b\b\b\b\b\b\b\b\b\b\b\b\b\b\b\b\b\b\b\b\b\b\b\b\b\b\b\r",
        "27008/60000 [============>.................] - ETA: 6s - loss: 0.2654 - acc: 0.9209"
       ]
      },
      {
       "output_type": "stream",
       "stream": "stdout",
       "text": [
        "\b\b\b\b\b\b\b\b\b\b\b\b\b\b\b\b\b\b\b\b\b\b\b\b\b\b\b\b\b\b\b\b\b\b\b\b\b\b\b\b\b\b\b\b\b\b\b\b\b\b\b\b\b\b\b\b\b\b\b\b\b\b\b\b\b\b\b\b\b\b\b\b\b\b\b\b\b\b\b\b\b\b\b\r",
        "27136/60000 [============>.................] - ETA: 6s - loss: 0.2656 - acc: 0.9210"
       ]
      },
      {
       "output_type": "stream",
       "stream": "stdout",
       "text": [
        "\b\b\b\b\b\b\b\b\b\b\b\b\b\b\b\b\b\b\b\b\b\b\b\b\b\b\b\b\b\b\b\b\b\b\b\b\b\b\b\b\b\b\b\b\b\b\b\b\b\b\b\b\b\b\b\b\b\b\b\b\b\b\b\b\b\b\b\b\b\b\b\b\b\b\b\b\b\b\b\b\b\b\b\r",
        "27264/60000 [============>.................] - ETA: 6s - loss: 0.2656 - acc: 0.9209"
       ]
      },
      {
       "output_type": "stream",
       "stream": "stdout",
       "text": [
        "\b\b\b\b\b\b\b\b\b\b\b\b\b\b\b\b\b\b\b\b\b\b\b\b\b\b\b\b\b\b\b\b\b\b\b\b\b\b\b\b\b\b\b\b\b\b\b\b\b\b\b\b\b\b\b\b\b\b\b\b\b\b\b\b\b\b\b\b\b\b\b\b\b\b\b\b\b\b\b\b\b\b\b\r",
        "27392/60000 [============>.................] - ETA: 6s - loss: 0.2655 - acc: 0.9210"
       ]
      },
      {
       "output_type": "stream",
       "stream": "stdout",
       "text": [
        "\b\b\b\b\b\b\b\b\b\b\b\b\b\b\b\b\b\b\b\b\b\b\b\b\b\b\b\b\b\b\b\b\b\b\b\b\b\b\b\b\b\b\b\b\b\b\b\b\b\b\b\b\b\b\b\b\b\b\b\b\b\b\b\b\b\b\b\b\b\b\b\b\b\b\b\b\b\b\b\b\b\b\b\r",
        "27520/60000 [============>.................] - ETA: 6s - loss: 0.2652 - acc: 0.9210"
       ]
      },
      {
       "output_type": "stream",
       "stream": "stdout",
       "text": [
        "\b\b\b\b\b\b\b\b\b\b\b\b\b\b\b\b\b\b\b\b\b\b\b\b\b\b\b\b\b\b\b\b\b\b\b\b\b\b\b\b\b\b\b\b\b\b\b\b\b\b\b\b\b\b\b\b\b\b\b\b\b\b\b\b\b\b\b\b\b\b\b\b\b\b\b\b\b\b\b\b\b\b\b\r",
        "27648/60000 [============>.................] - ETA: 6s - loss: 0.2651 - acc: 0.9210"
       ]
      },
      {
       "output_type": "stream",
       "stream": "stdout",
       "text": [
        "\b\b\b\b\b\b\b\b\b\b\b\b\b\b\b\b\b\b\b\b\b\b\b\b\b\b\b\b\b\b\b\b\b\b\b\b\b\b\b\b\b\b\b\b\b\b\b\b\b\b\b\b\b\b\b\b\b\b\b\b\b\b\b\b\b\b\b\b\b\b\b\b\b\b\b\b\b\b\b\b\b\b\b\r",
        "27776/60000 [============>.................] - ETA: 6s - loss: 0.2652 - acc: 0.9210"
       ]
      },
      {
       "output_type": "stream",
       "stream": "stdout",
       "text": [
        "\b\b\b\b\b\b\b\b\b\b\b\b\b\b\b\b\b\b\b\b\b\b\b\b\b\b\b\b\b\b\b\b\b\b\b\b\b\b\b\b\b\b\b\b\b\b\b\b\b\b\b\b\b\b\b\b\b\b\b\b\b\b\b\b\b\b\b\b\b\b\b\b\b\b\b\b\b\b\b\b\b\b\b\r",
        "27904/60000 [============>.................] - ETA: 6s - loss: 0.2650 - acc: 0.9211"
       ]
      },
      {
       "output_type": "stream",
       "stream": "stdout",
       "text": [
        "\b\b\b\b\b\b\b\b\b\b\b\b\b\b\b\b\b\b\b\b\b\b\b\b\b\b\b\b\b\b\b\b\b\b\b\b\b\b\b\b\b\b\b\b\b\b\b\b\b\b\b\b\b\b\b\b\b\b\b\b\b\b\b\b\b\b\b\b\b\b\b\b\b\b\b\b\b\b\b\b\b\b\b\r",
        "28032/60000 [=============>................] - ETA: 6s - loss: 0.2646 - acc: 0.9213"
       ]
      },
      {
       "output_type": "stream",
       "stream": "stdout",
       "text": [
        "\b\b\b\b\b\b\b\b\b\b\b\b\b\b\b\b\b\b\b\b\b\b\b\b\b\b\b\b\b\b\b\b\b\b\b\b\b\b\b\b\b\b\b\b\b\b\b\b\b\b\b\b\b\b\b\b\b\b\b\b\b\b\b\b\b\b\b\b\b\b\b\b\b\b\b\b\b\b\b\b\b\b\b\r",
        "28160/60000 [=============>................] - ETA: 6s - loss: 0.2641 - acc: 0.9214"
       ]
      },
      {
       "output_type": "stream",
       "stream": "stdout",
       "text": [
        "\b\b\b\b\b\b\b\b\b\b\b\b\b\b\b\b\b\b\b\b\b\b\b\b\b\b\b\b\b\b\b\b\b\b\b\b\b\b\b\b\b\b\b\b\b\b\b\b\b\b\b\b\b\b\b\b\b\b\b\b\b\b\b\b\b\b\b\b\b\b\b\b\b\b\b\b\b\b\b\b\b\b\b\r",
        "28288/60000 [=============>................] - ETA: 6s - loss: 0.2641 - acc: 0.9215"
       ]
      },
      {
       "output_type": "stream",
       "stream": "stdout",
       "text": [
        "\b\b\b\b\b\b\b\b\b\b\b\b\b\b\b\b\b\b\b\b\b\b\b\b\b\b\b\b\b\b\b\b\b\b\b\b\b\b\b\b\b\b\b\b\b\b\b\b\b\b\b\b\b\b\b\b\b\b\b\b\b\b\b\b\b\b\b\b\b\b\b\b\b\b\b\b\b\b\b\b\b\b\b\r",
        "28416/60000 [=============>................] - ETA: 6s - loss: 0.2637 - acc: 0.9216"
       ]
      },
      {
       "output_type": "stream",
       "stream": "stdout",
       "text": [
        "\b\b\b\b\b\b\b\b\b\b\b\b\b\b\b\b\b\b\b\b\b\b\b\b\b\b\b\b\b\b\b\b\b\b\b\b\b\b\b\b\b\b\b\b\b\b\b\b\b\b\b\b\b\b\b\b\b\b\b\b\b\b\b\b\b\b\b\b\b\b\b\b\b\b\b\b\b\b\b\b\b\b\b\r",
        "28544/60000 [=============>................] - ETA: 6s - loss: 0.2636 - acc: 0.9216"
       ]
      },
      {
       "output_type": "stream",
       "stream": "stdout",
       "text": [
        "\b\b\b\b\b\b\b\b\b\b\b\b\b\b\b\b\b\b\b\b\b\b\b\b\b\b\b\b\b\b\b\b\b\b\b\b\b\b\b\b\b\b\b\b\b\b\b\b\b\b\b\b\b\b\b\b\b\b\b\b\b\b\b\b\b\b\b\b\b\b\b\b\b\b\b\b\b\b\b\b\b\b\b\r",
        "28672/60000 [=============>................] - ETA: 6s - loss: 0.2631 - acc: 0.9217"
       ]
      },
      {
       "output_type": "stream",
       "stream": "stdout",
       "text": [
        "\b\b\b\b\b\b\b\b\b\b\b\b\b\b\b\b\b\b\b\b\b\b\b\b\b\b\b\b\b\b\b\b\b\b\b\b\b\b\b\b\b\b\b\b\b\b\b\b\b\b\b\b\b\b\b\b\b\b\b\b\b\b\b\b\b\b\b\b\b\b\b\b\b\b\b\b\b\b\b\b\b\b\b\r",
        "28800/60000 [=============>................] - ETA: 6s - loss: 0.2630 - acc: 0.9217"
       ]
      },
      {
       "output_type": "stream",
       "stream": "stdout",
       "text": [
        "\b\b\b\b\b\b\b\b\b\b\b\b\b\b\b\b\b\b\b\b\b\b\b\b\b\b\b\b\b\b\b\b\b\b\b\b\b\b\b\b\b\b\b\b\b\b\b\b\b\b\b\b\b\b\b\b\b\b\b\b\b\b\b\b\b\b\b\b\b\b\b\b\b\b\b\b\b\b\b\b\b\b\b\r",
        "28928/60000 [=============>................] - ETA: 6s - loss: 0.2628 - acc: 0.9218"
       ]
      },
      {
       "output_type": "stream",
       "stream": "stdout",
       "text": [
        "\b\b\b\b\b\b\b\b\b\b\b\b\b\b\b\b\b\b\b\b\b\b\b\b\b\b\b\b\b\b\b\b\b\b\b\b\b\b\b\b\b\b\b\b\b\b\b\b\b\b\b\b\b\b\b\b\b\b\b\b\b\b\b\b\b\b\b\b\b\b\b\b\b\b\b\b\b\b\b\b\b\b\b\r",
        "29056/60000 [=============>................] - ETA: 6s - loss: 0.2629 - acc: 0.9217"
       ]
      },
      {
       "output_type": "stream",
       "stream": "stdout",
       "text": [
        "\b\b\b\b\b\b\b\b\b\b\b\b\b\b\b\b\b\b\b\b\b\b\b\b\b\b\b\b\b\b\b\b\b\b\b\b\b\b\b\b\b\b\b\b\b\b\b\b\b\b\b\b\b\b\b\b\b\b\b\b\b\b\b\b\b\b\b\b\b\b\b\b\b\b\b\b\b\b\b\b\b\b\b\r",
        "29184/60000 [=============>................] - ETA: 6s - loss: 0.2626 - acc: 0.9218"
       ]
      },
      {
       "output_type": "stream",
       "stream": "stdout",
       "text": [
        "\b\b\b\b\b\b\b\b\b\b\b\b\b\b\b\b\b\b\b\b\b\b\b\b\b\b\b\b\b\b\b\b\b\b\b\b\b\b\b\b\b\b\b\b\b\b\b\b\b\b\b\b\b\b\b\b\b\b\b\b\b\b\b\b\b\b\b\b\b\b\b\b\b\b\b\b\b\b\b\b\b\b\b\r",
        "29312/60000 [=============>................] - ETA: 6s - loss: 0.2627 - acc: 0.9217"
       ]
      },
      {
       "output_type": "stream",
       "stream": "stdout",
       "text": [
        "\b\b\b\b\b\b\b\b\b\b\b\b\b\b\b\b\b\b\b\b\b\b\b\b\b\b\b\b\b\b\b\b\b\b\b\b\b\b\b\b\b\b\b\b\b\b\b\b\b\b\b\b\b\b\b\b\b\b\b\b\b\b\b\b\b\b\b\b\b\b\b\b\b\b\b\b\b\b\b\b\b\b\b\r",
        "29440/60000 [=============>................] - ETA: 6s - loss: 0.2630 - acc: 0.9216"
       ]
      },
      {
       "output_type": "stream",
       "stream": "stdout",
       "text": [
        "\b\b\b\b\b\b\b\b\b\b\b\b\b\b\b\b\b\b\b\b\b\b\b\b\b\b\b\b\b\b\b\b\b\b\b\b\b\b\b\b\b\b\b\b\b\b\b\b\b\b\b\b\b\b\b\b\b\b\b\b\b\b\b\b\b\b\b\b\b\b\b\b\b\b\b\b\b\b\b\b\b\b\b\r",
        "29568/60000 [=============>................] - ETA: 6s - loss: 0.2635 - acc: 0.9216"
       ]
      },
      {
       "output_type": "stream",
       "stream": "stdout",
       "text": [
        "\b\b\b\b\b\b\b\b\b\b\b\b\b\b\b\b\b\b\b\b\b\b\b\b\b\b\b\b\b\b\b\b\b\b\b\b\b\b\b\b\b\b\b\b\b\b\b\b\b\b\b\b\b\b\b\b\b\b\b\b\b\b\b\b\b\b\b\b\b\b\b\b\b\b\b\b\b\b\b\b\b\b\b\r",
        "29696/60000 [=============>................] - ETA: 5s - loss: 0.2640 - acc: 0.9214"
       ]
      },
      {
       "output_type": "stream",
       "stream": "stdout",
       "text": [
        "\b\b\b\b\b\b\b\b\b\b\b\b\b\b\b\b\b\b\b\b\b\b\b\b\b\b\b\b\b\b\b\b\b\b\b\b\b\b\b\b\b\b\b\b\b\b\b\b\b\b\b\b\b\b\b\b\b\b\b\b\b\b\b\b\b\b\b\b\b\b\b\b\b\b\b\b\b\b\b\b\b\b\b\r",
        "29824/60000 [=============>................] - ETA: 5s - loss: 0.2646 - acc: 0.9213"
       ]
      },
      {
       "output_type": "stream",
       "stream": "stdout",
       "text": [
        "\b\b\b\b\b\b\b\b\b\b\b\b\b\b\b\b\b\b\b\b\b\b\b\b\b\b\b\b\b\b\b\b\b\b\b\b\b\b\b\b\b\b\b\b\b\b\b\b\b\b\b\b\b\b\b\b\b\b\b\b\b\b\b\b\b\b\b\b\b\b\b\b\b\b\b\b\b\b\b\b\b\b\b\r",
        "29952/60000 [=============>................] - ETA: 5s - loss: 0.2647 - acc: 0.9212"
       ]
      },
      {
       "output_type": "stream",
       "stream": "stdout",
       "text": [
        "\b\b\b\b\b\b\b\b\b\b\b\b\b\b\b\b\b\b\b\b\b\b\b\b\b\b\b\b\b\b\b\b\b\b\b\b\b\b\b\b\b\b\b\b\b\b\b\b\b\b\b\b\b\b\b\b\b\b\b\b\b\b\b\b\b\b\b\b\b\b\b\b\b\b\b\b\b\b\b\b\b\b\b\r",
        "30080/60000 [==============>...............] - ETA: 5s - loss: 0.2648 - acc: 0.9211"
       ]
      },
      {
       "output_type": "stream",
       "stream": "stdout",
       "text": [
        "\b\b\b\b\b\b\b\b\b\b\b\b\b\b\b\b\b\b\b\b\b\b\b\b\b\b\b\b\b\b\b\b\b\b\b\b\b\b\b\b\b\b\b\b\b\b\b\b\b\b\b\b\b\b\b\b\b\b\b\b\b\b\b\b\b\b\b\b\b\b\b\b\b\b\b\b\b\b\b\b\b\b\b\r",
        "30208/60000 [==============>...............] - ETA: 5s - loss: 0.2648 - acc: 0.9210"
       ]
      },
      {
       "output_type": "stream",
       "stream": "stdout",
       "text": [
        "\b\b\b\b\b\b\b\b\b\b\b\b\b\b\b\b\b\b\b\b\b\b\b\b\b\b\b\b\b\b\b\b\b\b\b\b\b\b\b\b\b\b\b\b\b\b\b\b\b\b\b\b\b\b\b\b\b\b\b\b\b\b\b\b\b\b\b\b\b\b\b\b\b\b\b\b\b\b\b\b\b\b\b\r",
        "30336/60000 [==============>...............] - ETA: 5s - loss: 0.2646 - acc: 0.9211"
       ]
      },
      {
       "output_type": "stream",
       "stream": "stdout",
       "text": [
        "\b\b\b\b\b\b\b\b\b\b\b\b\b\b\b\b\b\b\b\b\b\b\b\b\b\b\b\b\b\b\b\b\b\b\b\b\b\b\b\b\b\b\b\b\b\b\b\b\b\b\b\b\b\b\b\b\b\b\b\b\b\b\b\b\b\b\b\b\b\b\b\b\b\b\b\b\b\b\b\b\b\b\b\r",
        "30464/60000 [==============>...............] - ETA: 5s - loss: 0.2652 - acc: 0.9208"
       ]
      },
      {
       "output_type": "stream",
       "stream": "stdout",
       "text": [
        "\b\b\b\b\b\b\b\b\b\b\b\b\b\b\b\b\b\b\b\b\b\b\b\b\b\b\b\b\b\b\b\b\b\b\b\b\b\b\b\b\b\b\b\b\b\b\b\b\b\b\b\b\b\b\b\b\b\b\b\b\b\b\b\b\b\b\b\b\b\b\b\b\b\b\b\b\b\b\b\b\b\b\b\r",
        "30592/60000 [==============>...............] - ETA: 5s - loss: 0.2648 - acc: 0.9209"
       ]
      },
      {
       "output_type": "stream",
       "stream": "stdout",
       "text": [
        "\b\b\b\b\b\b\b\b\b\b\b\b\b\b\b\b\b\b\b\b\b\b\b\b\b\b\b\b\b\b\b\b\b\b\b\b\b\b\b\b\b\b\b\b\b\b\b\b\b\b\b\b\b\b\b\b\b\b\b\b\b\b\b\b\b\b\b\b\b\b\b\b\b\b\b\b\b\b\b\b\b\b\b\r",
        "30720/60000 [==============>...............] - ETA: 5s - loss: 0.2647 - acc: 0.9208"
       ]
      },
      {
       "output_type": "stream",
       "stream": "stdout",
       "text": [
        "\b\b\b\b\b\b\b\b\b\b\b\b\b\b\b\b\b\b\b\b\b\b\b\b\b\b\b\b\b\b\b\b\b\b\b\b\b\b\b\b\b\b\b\b\b\b\b\b\b\b\b\b\b\b\b\b\b\b\b\b\b\b\b\b\b\b\b\b\b\b\b\b\b\b\b\b\b\b\b\b\b\b\b\r",
        "30848/60000 [==============>...............] - ETA: 5s - loss: 0.2652 - acc: 0.9207"
       ]
      },
      {
       "output_type": "stream",
       "stream": "stdout",
       "text": [
        "\b\b\b\b\b\b\b\b\b\b\b\b\b\b\b\b\b\b\b\b\b\b\b\b\b\b\b\b\b\b\b\b\b\b\b\b\b\b\b\b\b\b\b\b\b\b\b\b\b\b\b\b\b\b\b\b\b\b\b\b\b\b\b\b\b\b\b\b\b\b\b\b\b\b\b\b\b\b\b\b\b\b\b\r",
        "30976/60000 [==============>...............] - ETA: 5s - loss: 0.2653 - acc: 0.9207"
       ]
      },
      {
       "output_type": "stream",
       "stream": "stdout",
       "text": [
        "\b\b\b\b\b\b\b\b\b\b\b\b\b\b\b\b\b\b\b\b\b\b\b\b\b\b\b\b\b\b\b\b\b\b\b\b\b\b\b\b\b\b\b\b\b\b\b\b\b\b\b\b\b\b\b\b\b\b\b\b\b\b\b\b\b\b\b\b\b\b\b\b\b\b\b\b\b\b\b\b\b\b\b\r",
        "31104/60000 [==============>...............] - ETA: 5s - loss: 0.2655 - acc: 0.9207"
       ]
      },
      {
       "output_type": "stream",
       "stream": "stdout",
       "text": [
        "\b\b\b\b\b\b\b\b\b\b\b\b\b\b\b\b\b\b\b\b\b\b\b\b\b\b\b\b\b\b\b\b\b\b\b\b\b\b\b\b\b\b\b\b\b\b\b\b\b\b\b\b\b\b\b\b\b\b\b\b\b\b\b\b\b\b\b\b\b\b\b\b\b\b\b\b\b\b\b\b\b\b\b\r",
        "31232/60000 [==============>...............] - ETA: 5s - loss: 0.2652 - acc: 0.9208"
       ]
      },
      {
       "output_type": "stream",
       "stream": "stdout",
       "text": [
        "\b\b\b\b\b\b\b\b\b\b\b\b\b\b\b\b\b\b\b\b\b\b\b\b\b\b\b\b\b\b\b\b\b\b\b\b\b\b\b\b\b\b\b\b\b\b\b\b\b\b\b\b\b\b\b\b\b\b\b\b\b\b\b\b\b\b\b\b\b\b\b\b\b\b\b\b\b\b\b\b\b\b\b\r",
        "31360/60000 [==============>...............] - ETA: 5s - loss: 0.2651 - acc: 0.9208"
       ]
      },
      {
       "output_type": "stream",
       "stream": "stdout",
       "text": [
        "\b\b\b\b\b\b\b\b\b\b\b\b\b\b\b\b\b\b\b\b\b\b\b\b\b\b\b\b\b\b\b\b\b\b\b\b\b\b\b\b\b\b\b\b\b\b\b\b\b\b\b\b\b\b\b\b\b\b\b\b\b\b\b\b\b\b\b\b\b\b\b\b\b\b\b\b\b\b\b\b\b\b\b\r",
        "31488/60000 [==============>...............] - ETA: 5s - loss: 0.2649 - acc: 0.9208"
       ]
      },
      {
       "output_type": "stream",
       "stream": "stdout",
       "text": [
        "\b\b\b\b\b\b\b\b\b\b\b\b\b\b\b\b\b\b\b\b\b\b\b\b\b\b\b\b\b\b\b\b\b\b\b\b\b\b\b\b\b\b\b\b\b\b\b\b\b\b\b\b\b\b\b\b\b\b\b\b\b\b\b\b\b\b\b\b\b\b\b\b\b\b\b\b\b\b\b\b\b\b\b\r",
        "31616/60000 [==============>...............] - ETA: 5s - loss: 0.2648 - acc: 0.9208"
       ]
      },
      {
       "output_type": "stream",
       "stream": "stdout",
       "text": [
        "\b\b\b\b\b\b\b\b\b\b\b\b\b\b\b\b\b\b\b\b\b\b\b\b\b\b\b\b\b\b\b\b\b\b\b\b\b\b\b\b\b\b\b\b\b\b\b\b\b\b\b\b\b\b\b\b\b\b\b\b\b\b\b\b\b\b\b\b\b\b\b\b\b\b\b\b\b\b\b\b\b\b\b\r",
        "31744/60000 [==============>...............] - ETA: 5s - loss: 0.2652 - acc: 0.9207"
       ]
      },
      {
       "output_type": "stream",
       "stream": "stdout",
       "text": [
        "\b\b\b\b\b\b\b\b\b\b\b\b\b\b\b\b\b\b\b\b\b\b\b\b\b\b\b\b\b\b\b\b\b\b\b\b\b\b\b\b\b\b\b\b\b\b\b\b\b\b\b\b\b\b\b\b\b\b\b\b\b\b\b\b\b\b\b\b\b\b\b\b\b\b\b\b\b\b\b\b\b\b\b\r",
        "31872/60000 [==============>...............] - ETA: 5s - loss: 0.2654 - acc: 0.9207"
       ]
      },
      {
       "output_type": "stream",
       "stream": "stdout",
       "text": [
        "\b\b\b\b\b\b\b\b\b\b\b\b\b\b\b\b\b\b\b\b\b\b\b\b\b\b\b\b\b\b\b\b\b\b\b\b\b\b\b\b\b\b\b\b\b\b\b\b\b\b\b\b\b\b\b\b\b\b\b\b\b\b\b\b\b\b\b\b\b\b\b\b\b\b\b\b\b\b\b\b\b\b\b\r",
        "32000/60000 [===============>..............] - ETA: 5s - loss: 0.2650 - acc: 0.9209"
       ]
      },
      {
       "output_type": "stream",
       "stream": "stdout",
       "text": [
        "\b\b\b\b\b\b\b\b\b\b\b\b\b\b\b\b\b\b\b\b\b\b\b\b\b\b\b\b\b\b\b\b\b\b\b\b\b\b\b\b\b\b\b\b\b\b\b\b\b\b\b\b\b\b\b\b\b\b\b\b\b\b\b\b\b\b\b\b\b\b\b\b\b\b\b\b\b\b\b\b\b\b\b\r",
        "32128/60000 [===============>..............] - ETA: 5s - loss: 0.2646 - acc: 0.9210"
       ]
      },
      {
       "output_type": "stream",
       "stream": "stdout",
       "text": [
        "\b\b\b\b\b\b\b\b\b\b\b\b\b\b\b\b\b\b\b\b\b\b\b\b\b\b\b\b\b\b\b\b\b\b\b\b\b\b\b\b\b\b\b\b\b\b\b\b\b\b\b\b\b\b\b\b\b\b\b\b\b\b\b\b\b\b\b\b\b\b\b\b\b\b\b\b\b\b\b\b\b\b\b\r",
        "32256/60000 [===============>..............] - ETA: 5s - loss: 0.2641 - acc: 0.9212"
       ]
      },
      {
       "output_type": "stream",
       "stream": "stdout",
       "text": [
        "\b\b\b\b\b\b\b\b\b\b\b\b\b\b\b\b\b\b\b\b\b\b\b\b\b\b\b\b\b\b\b\b\b\b\b\b\b\b\b\b\b\b\b\b\b\b\b\b\b\b\b\b\b\b\b\b\b\b\b\b\b\b\b\b\b\b\b\b\b\b\b\b\b\b\b\b\b\b\b\b\b\b\b\r",
        "32384/60000 [===============>..............] - ETA: 5s - loss: 0.2643 - acc: 0.9211"
       ]
      },
      {
       "output_type": "stream",
       "stream": "stdout",
       "text": [
        "\b\b\b\b\b\b\b\b\b\b\b\b\b\b\b\b\b\b\b\b\b\b\b\b\b\b\b\b\b\b\b\b\b\b\b\b\b\b\b\b\b\b\b\b\b\b\b\b\b\b\b\b\b\b\b\b\b\b\b\b\b\b\b\b\b\b\b\b\b\b\b\b\b\b\b\b\b\b\b\b\b\b\b\r",
        "32512/60000 [===============>..............] - ETA: 5s - loss: 0.2645 - acc: 0.9211"
       ]
      },
      {
       "output_type": "stream",
       "stream": "stdout",
       "text": [
        "\b\b\b\b\b\b\b\b\b\b\b\b\b\b\b\b\b\b\b\b\b\b\b\b\b\b\b\b\b\b\b\b\b\b\b\b\b\b\b\b\b\b\b\b\b\b\b\b\b\b\b\b\b\b\b\b\b\b\b\b\b\b\b\b\b\b\b\b\b\b\b\b\b\b\b\b\b\b\b\b\b\b\b\r",
        "32640/60000 [===============>..............] - ETA: 5s - loss: 0.2641 - acc: 0.9212"
       ]
      },
      {
       "output_type": "stream",
       "stream": "stdout",
       "text": [
        "\b\b\b\b\b\b\b\b\b\b\b\b\b\b\b\b\b\b\b\b\b\b\b\b\b\b\b\b\b\b\b\b\b\b\b\b\b\b\b\b\b\b\b\b\b\b\b\b\b\b\b\b\b\b\b\b\b\b\b\b\b\b\b\b\b\b\b\b\b\b\b\b\b\b\b\b\b\b\b\b\b\b\b\r",
        "32768/60000 [===============>..............] - ETA: 5s - loss: 0.2641 - acc: 0.9212"
       ]
      },
      {
       "output_type": "stream",
       "stream": "stdout",
       "text": [
        "\b\b\b\b\b\b\b\b\b\b\b\b\b\b\b\b\b\b\b\b\b\b\b\b\b\b\b\b\b\b\b\b\b\b\b\b\b\b\b\b\b\b\b\b\b\b\b\b\b\b\b\b\b\b\b\b\b\b\b\b\b\b\b\b\b\b\b\b\b\b\b\b\b\b\b\b\b\b\b\b\b\b\b\r",
        "32896/60000 [===============>..............] - ETA: 5s - loss: 0.2639 - acc: 0.9212"
       ]
      },
      {
       "output_type": "stream",
       "stream": "stdout",
       "text": [
        "\b\b\b\b\b\b\b\b\b\b\b\b\b\b\b\b\b\b\b\b\b\b\b\b\b\b\b\b\b\b\b\b\b\b\b\b\b\b\b\b\b\b\b\b\b\b\b\b\b\b\b\b\b\b\b\b\b\b\b\b\b\b\b\b\b\b\b\b\b\b\b\b\b\b\b\b\b\b\b\b\b\b\b\r",
        "33024/60000 [===============>..............] - ETA: 5s - loss: 0.2637 - acc: 0.9213"
       ]
      },
      {
       "output_type": "stream",
       "stream": "stdout",
       "text": [
        "\b\b\b\b\b\b\b\b\b\b\b\b\b\b\b\b\b\b\b\b\b\b\b\b\b\b\b\b\b\b\b\b\b\b\b\b\b\b\b\b\b\b\b\b\b\b\b\b\b\b\b\b\b\b\b\b\b\b\b\b\b\b\b\b\b\b\b\b\b\b\b\b\b\b\b\b\b\b\b\b\b\b\b\r",
        "33152/60000 [===============>..............] - ETA: 5s - loss: 0.2634 - acc: 0.9214"
       ]
      },
      {
       "output_type": "stream",
       "stream": "stdout",
       "text": [
        "\b\b\b\b\b\b\b\b\b\b\b\b\b\b\b\b\b\b\b\b\b\b\b\b\b\b\b\b\b\b\b\b\b\b\b\b\b\b\b\b\b\b\b\b\b\b\b\b\b\b\b\b\b\b\b\b\b\b\b\b\b\b\b\b\b\b\b\b\b\b\b\b\b\b\b\b\b\b\b\b\b\b\b\r",
        "33280/60000 [===============>..............] - ETA: 5s - loss: 0.2633 - acc: 0.9214"
       ]
      },
      {
       "output_type": "stream",
       "stream": "stdout",
       "text": [
        "\b\b\b\b\b\b\b\b\b\b\b\b\b\b\b\b\b\b\b\b\b\b\b\b\b\b\b\b\b\b\b\b\b\b\b\b\b\b\b\b\b\b\b\b\b\b\b\b\b\b\b\b\b\b\b\b\b\b\b\b\b\b\b\b\b\b\b\b\b\b\b\b\b\b\b\b\b\b\b\b\b\b\b\r",
        "33408/60000 [===============>..............] - ETA: 5s - loss: 0.2629 - acc: 0.9215"
       ]
      },
      {
       "output_type": "stream",
       "stream": "stdout",
       "text": [
        "\b\b\b\b\b\b\b\b\b\b\b\b\b\b\b\b\b\b\b\b\b\b\b\b\b\b\b\b\b\b\b\b\b\b\b\b\b\b\b\b\b\b\b\b\b\b\b\b\b\b\b\b\b\b\b\b\b\b\b\b\b\b\b\b\b\b\b\b\b\b\b\b\b\b\b\b\b\b\b\b\b\b\b\r",
        "33536/60000 [===============>..............] - ETA: 5s - loss: 0.2628 - acc: 0.9216"
       ]
      },
      {
       "output_type": "stream",
       "stream": "stdout",
       "text": [
        "\b\b\b\b\b\b\b\b\b\b\b\b\b\b\b\b\b\b\b\b\b\b\b\b\b\b\b\b\b\b\b\b\b\b\b\b\b\b\b\b\b\b\b\b\b\b\b\b\b\b\b\b\b\b\b\b\b\b\b\b\b\b\b\b\b\b\b\b\b\b\b\b\b\b\b\b\b\b\b\b\b\b\b\r",
        "33664/60000 [===============>..............] - ETA: 5s - loss: 0.2624 - acc: 0.9218"
       ]
      },
      {
       "output_type": "stream",
       "stream": "stdout",
       "text": [
        "\b\b\b\b\b\b\b\b\b\b\b\b\b\b\b\b\b\b\b\b\b\b\b\b\b\b\b\b\b\b\b\b\b\b\b\b\b\b\b\b\b\b\b\b\b\b\b\b\b\b\b\b\b\b\b\b\b\b\b\b\b\b\b\b\b\b\b\b\b\b\b\b\b\b\b\b\b\b\b\b\b\b\b\r",
        "33792/60000 [===============>..............] - ETA: 5s - loss: 0.2621 - acc: 0.9218"
       ]
      },
      {
       "output_type": "stream",
       "stream": "stdout",
       "text": [
        "\b\b\b\b\b\b\b\b\b\b\b\b\b\b\b\b\b\b\b\b\b\b\b\b\b\b\b\b\b\b\b\b\b\b\b\b\b\b\b\b\b\b\b\b\b\b\b\b\b\b\b\b\b\b\b\b\b\b\b\b\b\b\b\b\b\b\b\b\b\b\b\b\b\b\b\b\b\b\b\b\b\b\b\r",
        "33920/60000 [===============>..............] - ETA: 5s - loss: 0.2617 - acc: 0.9219"
       ]
      },
      {
       "output_type": "stream",
       "stream": "stdout",
       "text": [
        "\b\b\b\b\b\b\b\b\b\b\b\b\b\b\b\b\b\b\b\b\b\b\b\b\b\b\b\b\b\b\b\b\b\b\b\b\b\b\b\b\b\b\b\b\b\b\b\b\b\b\b\b\b\b\b\b\b\b\b\b\b\b\b\b\b\b\b\b\b\b\b\b\b\b\b\b\b\b\b\b\b\b\b\r",
        "34048/60000 [================>.............] - ETA: 5s - loss: 0.2613 - acc: 0.9220"
       ]
      },
      {
       "output_type": "stream",
       "stream": "stdout",
       "text": [
        "\b\b\b\b\b\b\b\b\b\b\b\b\b\b\b\b\b\b\b\b\b\b\b\b\b\b\b\b\b\b\b\b\b\b\b\b\b\b\b\b\b\b\b\b\b\b\b\b\b\b\b\b\b\b\b\b\b\b\b\b\b\b\b\b\b\b\b\b\b\b\b\b\b\b\b\b\b\b\b\b\b\b\b\r",
        "34176/60000 [================>.............] - ETA: 5s - loss: 0.2616 - acc: 0.9220"
       ]
      },
      {
       "output_type": "stream",
       "stream": "stdout",
       "text": [
        "\b\b\b\b\b\b\b\b\b\b\b\b\b\b\b\b\b\b\b\b\b\b\b\b\b\b\b\b\b\b\b\b\b\b\b\b\b\b\b\b\b\b\b\b\b\b\b\b\b\b\b\b\b\b\b\b\b\b\b\b\b\b\b\b\b\b\b\b\b\b\b\b\b\b\b\b\b\b\b\b\b\b\b\r",
        "34304/60000 [================>.............] - ETA: 5s - loss: 0.2615 - acc: 0.9219"
       ]
      },
      {
       "output_type": "stream",
       "stream": "stdout",
       "text": [
        "\b\b\b\b\b\b\b\b\b\b\b\b\b\b\b\b\b\b\b\b\b\b\b\b\b\b\b\b\b\b\b\b\b\b\b\b\b\b\b\b\b\b\b\b\b\b\b\b\b\b\b\b\b\b\b\b\b\b\b\b\b\b\b\b\b\b\b\b\b\b\b\b\b\b\b\b\b\b\b\b\b\b\b\r",
        "34432/60000 [================>.............] - ETA: 5s - loss: 0.2615 - acc: 0.9219"
       ]
      },
      {
       "output_type": "stream",
       "stream": "stdout",
       "text": [
        "\b\b\b\b\b\b\b\b\b\b\b\b\b\b\b\b\b\b\b\b\b\b\b\b\b\b\b\b\b\b\b\b\b\b\b\b\b\b\b\b\b\b\b\b\b\b\b\b\b\b\b\b\b\b\b\b\b\b\b\b\b\b\b\b\b\b\b\b\b\b\b\b\b\b\b\b\b\b\b\b\b\b\b\r",
        "34560/60000 [================>.............] - ETA: 5s - loss: 0.2614 - acc: 0.9220"
       ]
      },
      {
       "output_type": "stream",
       "stream": "stdout",
       "text": [
        "\b\b\b\b\b\b\b\b\b\b\b\b\b\b\b\b\b\b\b\b\b\b\b\b\b\b\b\b\b\b\b\b\b\b\b\b\b\b\b\b\b\b\b\b\b\b\b\b\b\b\b\b\b\b\b\b\b\b\b\b\b\b\b\b\b\b\b\b\b\b\b\b\b\b\b\b\b\b\b\b\b\b\b\r",
        "34688/60000 [================>.............] - ETA: 5s - loss: 0.2609 - acc: 0.9221"
       ]
      },
      {
       "output_type": "stream",
       "stream": "stdout",
       "text": [
        "\b\b\b\b\b\b\b\b\b\b\b\b\b\b\b\b\b\b\b\b\b\b\b\b\b\b\b\b\b\b\b\b\b\b\b\b\b\b\b\b\b\b\b\b\b\b\b\b\b\b\b\b\b\b\b\b\b\b\b\b\b\b\b\b\b\b\b\b\b\b\b\b\b\b\b\b\b\b\b\b\b\b\b\r",
        "34816/60000 [================>.............] - ETA: 4s - loss: 0.2605 - acc: 0.9222"
       ]
      },
      {
       "output_type": "stream",
       "stream": "stdout",
       "text": [
        "\b\b\b\b\b\b\b\b\b\b\b\b\b\b\b\b\b\b\b\b\b\b\b\b\b\b\b\b\b\b\b\b\b\b\b\b\b\b\b\b\b\b\b\b\b\b\b\b\b\b\b\b\b\b\b\b\b\b\b\b\b\b\b\b\b\b\b\b\b\b\b\b\b\b\b\b\b\b\b\b\b\b\b\r",
        "34944/60000 [================>.............] - ETA: 4s - loss: 0.2601 - acc: 0.9223"
       ]
      },
      {
       "output_type": "stream",
       "stream": "stdout",
       "text": [
        "\b\b\b\b\b\b\b\b\b\b\b\b\b\b\b\b\b\b\b\b\b\b\b\b\b\b\b\b\b\b\b\b\b\b\b\b\b\b\b\b\b\b\b\b\b\b\b\b\b\b\b\b\b\b\b\b\b\b\b\b\b\b\b\b\b\b\b\b\b\b\b\b\b\b\b\b\b\b\b\b\b\b\b\r",
        "35072/60000 [================>.............] - ETA: 4s - loss: 0.2600 - acc: 0.9223"
       ]
      },
      {
       "output_type": "stream",
       "stream": "stdout",
       "text": [
        "\b\b\b\b\b\b\b\b\b\b\b\b\b\b\b\b\b\b\b\b\b\b\b\b\b\b\b\b\b\b\b\b\b\b\b\b\b\b\b\b\b\b\b\b\b\b\b\b\b\b\b\b\b\b\b\b\b\b\b\b\b\b\b\b\b\b\b\b\b\b\b\b\b\b\b\b\b\b\b\b\b\b\b\r",
        "35200/60000 [================>.............] - ETA: 4s - loss: 0.2599 - acc: 0.9223"
       ]
      },
      {
       "output_type": "stream",
       "stream": "stdout",
       "text": [
        "\b\b\b\b\b\b\b\b\b\b\b\b\b\b\b\b\b\b\b\b\b\b\b\b\b\b\b\b\b\b\b\b\b\b\b\b\b\b\b\b\b\b\b\b\b\b\b\b\b\b\b\b\b\b\b\b\b\b\b\b\b\b\b\b\b\b\b\b\b\b\b\b\b\b\b\b\b\b\b\b\b\b\b\r",
        "35328/60000 [================>.............] - ETA: 4s - loss: 0.2597 - acc: 0.9223"
       ]
      },
      {
       "output_type": "stream",
       "stream": "stdout",
       "text": [
        "\b\b\b\b\b\b\b\b\b\b\b\b\b\b\b\b\b\b\b\b\b\b\b\b\b\b\b\b\b\b\b\b\b\b\b\b\b\b\b\b\b\b\b\b\b\b\b\b\b\b\b\b\b\b\b\b\b\b\b\b\b\b\b\b\b\b\b\b\b\b\b\b\b\b\b\b\b\b\b\b\b\b\b\r",
        "35456/60000 [================>.............] - ETA: 4s - loss: 0.2596 - acc: 0.9224"
       ]
      },
      {
       "output_type": "stream",
       "stream": "stdout",
       "text": [
        "\b\b\b\b\b\b\b\b\b\b\b\b\b\b\b\b\b\b\b\b\b\b\b\b\b\b\b\b\b\b\b\b\b\b\b\b\b\b\b\b\b\b\b\b\b\b\b\b\b\b\b\b\b\b\b\b\b\b\b\b\b\b\b\b\b\b\b\b\b\b\b\b\b\b\b\b\b\b\b\b\b\b\b\r",
        "35584/60000 [================>.............] - ETA: 4s - loss: 0.2593 - acc: 0.9226"
       ]
      },
      {
       "output_type": "stream",
       "stream": "stdout",
       "text": [
        "\b\b\b\b\b\b\b\b\b\b\b\b\b\b\b\b\b\b\b\b\b\b\b\b\b\b\b\b\b\b\b\b\b\b\b\b\b\b\b\b\b\b\b\b\b\b\b\b\b\b\b\b\b\b\b\b\b\b\b\b\b\b\b\b\b\b\b\b\b\b\b\b\b\b\b\b\b\b\b\b\b\b\b\r",
        "35712/60000 [================>.............] - ETA: 4s - loss: 0.2592 - acc: 0.9226"
       ]
      },
      {
       "output_type": "stream",
       "stream": "stdout",
       "text": [
        "\b\b\b\b\b\b\b\b\b\b\b\b\b\b\b\b\b\b\b\b\b\b\b\b\b\b\b\b\b\b\b\b\b\b\b\b\b\b\b\b\b\b\b\b\b\b\b\b\b\b\b\b\b\b\b\b\b\b\b\b\b\b\b\b\b\b\b\b\b\b\b\b\b\b\b\b\b\b\b\b\b\b\b\r",
        "35840/60000 [================>.............] - ETA: 4s - loss: 0.2590 - acc: 0.9227"
       ]
      },
      {
       "output_type": "stream",
       "stream": "stdout",
       "text": [
        "\b\b\b\b\b\b\b\b\b\b\b\b\b\b\b\b\b\b\b\b\b\b\b\b\b\b\b\b\b\b\b\b\b\b\b\b\b\b\b\b\b\b\b\b\b\b\b\b\b\b\b\b\b\b\b\b\b\b\b\b\b\b\b\b\b\b\b\b\b\b\b\b\b\b\b\b\b\b\b\b\b\b\b\r",
        "35968/60000 [================>.............] - ETA: 4s - loss: 0.2588 - acc: 0.9227"
       ]
      },
      {
       "output_type": "stream",
       "stream": "stdout",
       "text": [
        "\b\b\b\b\b\b\b\b\b\b\b\b\b\b\b\b\b\b\b\b\b\b\b\b\b\b\b\b\b\b\b\b\b\b\b\b\b\b\b\b\b\b\b\b\b\b\b\b\b\b\b\b\b\b\b\b\b\b\b\b\b\b\b\b\b\b\b\b\b\b\b\b\b\b\b\b\b\b\b\b\b\b\b\r",
        "36096/60000 [=================>............] - ETA: 4s - loss: 0.2586 - acc: 0.9228"
       ]
      },
      {
       "output_type": "stream",
       "stream": "stdout",
       "text": [
        "\b\b\b\b\b\b\b\b\b\b\b\b\b\b\b\b\b\b\b\b\b\b\b\b\b\b\b\b\b\b\b\b\b\b\b\b\b\b\b\b\b\b\b\b\b\b\b\b\b\b\b\b\b\b\b\b\b\b\b\b\b\b\b\b\b\b\b\b\b\b\b\b\b\b\b\b\b\b\b\b\b\b\b\r",
        "36224/60000 [=================>............] - ETA: 4s - loss: 0.2581 - acc: 0.9230"
       ]
      },
      {
       "output_type": "stream",
       "stream": "stdout",
       "text": [
        "\b\b\b\b\b\b\b\b\b\b\b\b\b\b\b\b\b\b\b\b\b\b\b\b\b\b\b\b\b\b\b\b\b\b\b\b\b\b\b\b\b\b\b\b\b\b\b\b\b\b\b\b\b\b\b\b\b\b\b\b\b\b\b\b\b\b\b\b\b\b\b\b\b\b\b\b\b\b\b\b\b\b\b\r",
        "36352/60000 [=================>............] - ETA: 4s - loss: 0.2576 - acc: 0.9231"
       ]
      },
      {
       "output_type": "stream",
       "stream": "stdout",
       "text": [
        "\b\b\b\b\b\b\b\b\b\b\b\b\b\b\b\b\b\b\b\b\b\b\b\b\b\b\b\b\b\b\b\b\b\b\b\b\b\b\b\b\b\b\b\b\b\b\b\b\b\b\b\b\b\b\b\b\b\b\b\b\b\b\b\b\b\b\b\b\b\b\b\b\b\b\b\b\b\b\b\b\b\b\b\r",
        "36480/60000 [=================>............] - ETA: 4s - loss: 0.2575 - acc: 0.9231"
       ]
      },
      {
       "output_type": "stream",
       "stream": "stdout",
       "text": [
        "\b\b\b\b\b\b\b\b\b\b\b\b\b\b\b\b\b\b\b\b\b\b\b\b\b\b\b\b\b\b\b\b\b\b\b\b\b\b\b\b\b\b\b\b\b\b\b\b\b\b\b\b\b\b\b\b\b\b\b\b\b\b\b\b\b\b\b\b\b\b\b\b\b\b\b\b\b\b\b\b\b\b\b\r",
        "36608/60000 [=================>............] - ETA: 4s - loss: 0.2575 - acc: 0.9232"
       ]
      },
      {
       "output_type": "stream",
       "stream": "stdout",
       "text": [
        "\b\b\b\b\b\b\b\b\b\b\b\b\b\b\b\b\b\b\b\b\b\b\b\b\b\b\b\b\b\b\b\b\b\b\b\b\b\b\b\b\b\b\b\b\b\b\b\b\b\b\b\b\b\b\b\b\b\b\b\b\b\b\b\b\b\b\b\b\b\b\b\b\b\b\b\b\b\b\b\b\b\b\b\r",
        "36736/60000 [=================>............] - ETA: 4s - loss: 0.2573 - acc: 0.9232"
       ]
      },
      {
       "output_type": "stream",
       "stream": "stdout",
       "text": [
        "\b\b\b\b\b\b\b\b\b\b\b\b\b\b\b\b\b\b\b\b\b\b\b\b\b\b\b\b\b\b\b\b\b\b\b\b\b\b\b\b\b\b\b\b\b\b\b\b\b\b\b\b\b\b\b\b\b\b\b\b\b\b\b\b\b\b\b\b\b\b\b\b\b\b\b\b\b\b\b\b\b\b\b\r",
        "36864/60000 [=================>............] - ETA: 4s - loss: 0.2574 - acc: 0.9231"
       ]
      },
      {
       "output_type": "stream",
       "stream": "stdout",
       "text": [
        "\b\b\b\b\b\b\b\b\b\b\b\b\b\b\b\b\b\b\b\b\b\b\b\b\b\b\b\b\b\b\b\b\b\b\b\b\b\b\b\b\b\b\b\b\b\b\b\b\b\b\b\b\b\b\b\b\b\b\b\b\b\b\b\b\b\b\b\b\b\b\b\b\b\b\b\b\b\b\b\b\b\b\b\r",
        "36992/60000 [=================>............] - ETA: 4s - loss: 0.2573 - acc: 0.9233"
       ]
      },
      {
       "output_type": "stream",
       "stream": "stdout",
       "text": [
        "\b\b\b\b\b\b\b\b\b\b\b\b\b\b\b\b\b\b\b\b\b\b\b\b\b\b\b\b\b\b\b\b\b\b\b\b\b\b\b\b\b\b\b\b\b\b\b\b\b\b\b\b\b\b\b\b\b\b\b\b\b\b\b\b\b\b\b\b\b\b\b\b\b\b\b\b\b\b\b\b\b\b\b\r",
        "37120/60000 [=================>............] - ETA: 4s - loss: 0.2568 - acc: 0.9235"
       ]
      },
      {
       "output_type": "stream",
       "stream": "stdout",
       "text": [
        "\b\b\b\b\b\b\b\b\b\b\b\b\b\b\b\b\b\b\b\b\b\b\b\b\b\b\b\b\b\b\b\b\b\b\b\b\b\b\b\b\b\b\b\b\b\b\b\b\b\b\b\b\b\b\b\b\b\b\b\b\b\b\b\b\b\b\b\b\b\b\b\b\b\b\b\b\b\b\b\b\b\b\b\r",
        "37248/60000 [=================>............] - ETA: 4s - loss: 0.2570 - acc: 0.9234"
       ]
      },
      {
       "output_type": "stream",
       "stream": "stdout",
       "text": [
        "\b\b\b\b\b\b\b\b\b\b\b\b\b\b\b\b\b\b\b\b\b\b\b\b\b\b\b\b\b\b\b\b\b\b\b\b\b\b\b\b\b\b\b\b\b\b\b\b\b\b\b\b\b\b\b\b\b\b\b\b\b\b\b\b\b\b\b\b\b\b\b\b\b\b\b\b\b\b\b\b\b\b\b\r",
        "37376/60000 [=================>............] - ETA: 4s - loss: 0.2572 - acc: 0.9233"
       ]
      },
      {
       "output_type": "stream",
       "stream": "stdout",
       "text": [
        "\b\b\b\b\b\b\b\b\b\b\b\b\b\b\b\b\b\b\b\b\b\b\b\b\b\b\b\b\b\b\b\b\b\b\b\b\b\b\b\b\b\b\b\b\b\b\b\b\b\b\b\b\b\b\b\b\b\b\b\b\b\b\b\b\b\b\b\b\b\b\b\b\b\b\b\b\b\b\b\b\b\b\b\r",
        "37504/60000 [=================>............] - ETA: 4s - loss: 0.2572 - acc: 0.9233"
       ]
      },
      {
       "output_type": "stream",
       "stream": "stdout",
       "text": [
        "\b\b\b\b\b\b\b\b\b\b\b\b\b\b\b\b\b\b\b\b\b\b\b\b\b\b\b\b\b\b\b\b\b\b\b\b\b\b\b\b\b\b\b\b\b\b\b\b\b\b\b\b\b\b\b\b\b\b\b\b\b\b\b\b\b\b\b\b\b\b\b\b\b\b\b\b\b\b\b\b\b\b\b\r",
        "37632/60000 [=================>............] - ETA: 4s - loss: 0.2569 - acc: 0.9233"
       ]
      },
      {
       "output_type": "stream",
       "stream": "stdout",
       "text": [
        "\b\b\b\b\b\b\b\b\b\b\b\b\b\b\b\b\b\b\b\b\b\b\b\b\b\b\b\b\b\b\b\b\b\b\b\b\b\b\b\b\b\b\b\b\b\b\b\b\b\b\b\b\b\b\b\b\b\b\b\b\b\b\b\b\b\b\b\b\b\b\b\b\b\b\b\b\b\b\b\b\b\b\b\r",
        "37760/60000 [=================>............] - ETA: 4s - loss: 0.2570 - acc: 0.9233"
       ]
      },
      {
       "output_type": "stream",
       "stream": "stdout",
       "text": [
        "\b\b\b\b\b\b\b\b\b\b\b\b\b\b\b\b\b\b\b\b\b\b\b\b\b\b\b\b\b\b\b\b\b\b\b\b\b\b\b\b\b\b\b\b\b\b\b\b\b\b\b\b\b\b\b\b\b\b\b\b\b\b\b\b\b\b\b\b\b\b\b\b\b\b\b\b\b\b\b\b\b\b\b\r",
        "37888/60000 [=================>............] - ETA: 4s - loss: 0.2568 - acc: 0.9233"
       ]
      },
      {
       "output_type": "stream",
       "stream": "stdout",
       "text": [
        "\b\b\b\b\b\b\b\b\b\b\b\b\b\b\b\b\b\b\b\b\b\b\b\b\b\b\b\b\b\b\b\b\b\b\b\b\b\b\b\b\b\b\b\b\b\b\b\b\b\b\b\b\b\b\b\b\b\b\b\b\b\b\b\b\b\b\b\b\b\b\b\b\b\b\b\b\b\b\b\b\b\b\b\r",
        "38016/60000 [==================>...........] - ETA: 4s - loss: 0.2563 - acc: 0.9235"
       ]
      },
      {
       "output_type": "stream",
       "stream": "stdout",
       "text": [
        "\b\b\b\b\b\b\b\b\b\b\b\b\b\b\b\b\b\b\b\b\b\b\b\b\b\b\b\b\b\b\b\b\b\b\b\b\b\b\b\b\b\b\b\b\b\b\b\b\b\b\b\b\b\b\b\b\b\b\b\b\b\b\b\b\b\b\b\b\b\b\b\b\b\b\b\b\b\b\b\b\b\b\b\r",
        "38144/60000 [==================>...........] - ETA: 4s - loss: 0.2564 - acc: 0.9234"
       ]
      },
      {
       "output_type": "stream",
       "stream": "stdout",
       "text": [
        "\b\b\b\b\b\b\b\b\b\b\b\b\b\b\b\b\b\b\b\b\b\b\b\b\b\b\b\b\b\b\b\b\b\b\b\b\b\b\b\b\b\b\b\b\b\b\b\b\b\b\b\b\b\b\b\b\b\b\b\b\b\b\b\b\b\b\b\b\b\b\b\b\b\b\b\b\b\b\b\b\b\b\b\r",
        "38272/60000 [==================>...........] - ETA: 4s - loss: 0.2562 - acc: 0.9235"
       ]
      },
      {
       "output_type": "stream",
       "stream": "stdout",
       "text": [
        "\b\b\b\b\b\b\b\b\b\b\b\b\b\b\b\b\b\b\b\b\b\b\b\b\b\b\b\b\b\b\b\b\b\b\b\b\b\b\b\b\b\b\b\b\b\b\b\b\b\b\b\b\b\b\b\b\b\b\b\b\b\b\b\b\b\b\b\b\b\b\b\b\b\b\b\b\b\b\b\b\b\b\b\r",
        "38400/60000 [==================>...........] - ETA: 4s - loss: 0.2561 - acc: 0.9235"
       ]
      },
      {
       "output_type": "stream",
       "stream": "stdout",
       "text": [
        "\b\b\b\b\b\b\b\b\b\b\b\b\b\b\b\b\b\b\b\b\b\b\b\b\b\b\b\b\b\b\b\b\b\b\b\b\b\b\b\b\b\b\b\b\b\b\b\b\b\b\b\b\b\b\b\b\b\b\b\b\b\b\b\b\b\b\b\b\b\b\b\b\b\b\b\b\b\b\b\b\b\b\b\r",
        "38528/60000 [==================>...........] - ETA: 4s - loss: 0.2558 - acc: 0.9236"
       ]
      },
      {
       "output_type": "stream",
       "stream": "stdout",
       "text": [
        "\b\b\b\b\b\b\b\b\b\b\b\b\b\b\b\b\b\b\b\b\b\b\b\b\b\b\b\b\b\b\b\b\b\b\b\b\b\b\b\b\b\b\b\b\b\b\b\b\b\b\b\b\b\b\b\b\b\b\b\b\b\b\b\b\b\b\b\b\b\b\b\b\b\b\b\b\b\b\b\b\b\b\b\r",
        "38656/60000 [==================>...........] - ETA: 4s - loss: 0.2558 - acc: 0.9237"
       ]
      },
      {
       "output_type": "stream",
       "stream": "stdout",
       "text": [
        "\b\b\b\b\b\b\b\b\b\b\b\b\b\b\b\b\b\b\b\b\b\b\b\b\b\b\b\b\b\b\b\b\b\b\b\b\b\b\b\b\b\b\b\b\b\b\b\b\b\b\b\b\b\b\b\b\b\b\b\b\b\b\b\b\b\b\b\b\b\b\b\b\b\b\b\b\b\b\b\b\b\b\b\r",
        "38784/60000 [==================>...........] - ETA: 4s - loss: 0.2558 - acc: 0.9237"
       ]
      },
      {
       "output_type": "stream",
       "stream": "stdout",
       "text": [
        "\b\b\b\b\b\b\b\b\b\b\b\b\b\b\b\b\b\b\b\b\b\b\b\b\b\b\b\b\b\b\b\b\b\b\b\b\b\b\b\b\b\b\b\b\b\b\b\b\b\b\b\b\b\b\b\b\b\b\b\b\b\b\b\b\b\b\b\b\b\b\b\b\b\b\b\b\b\b\b\b\b\b\b\r",
        "38912/60000 [==================>...........] - ETA: 4s - loss: 0.2558 - acc: 0.9236"
       ]
      },
      {
       "output_type": "stream",
       "stream": "stdout",
       "text": [
        "\b\b\b\b\b\b\b\b\b\b\b\b\b\b\b\b\b\b\b\b\b\b\b\b\b\b\b\b\b\b\b\b\b\b\b\b\b\b\b\b\b\b\b\b\b\b\b\b\b\b\b\b\b\b\b\b\b\b\b\b\b\b\b\b\b\b\b\b\b\b\b\b\b\b\b\b\b\b\b\b\b\b\b\r",
        "39040/60000 [==================>...........] - ETA: 4s - loss: 0.2557 - acc: 0.9237"
       ]
      },
      {
       "output_type": "stream",
       "stream": "stdout",
       "text": [
        "\b\b\b\b\b\b\b\b\b\b\b\b\b\b\b\b\b\b\b\b\b\b\b\b\b\b\b\b\b\b\b\b\b\b\b\b\b\b\b\b\b\b\b\b\b\b\b\b\b\b\b\b\b\b\b\b\b\b\b\b\b\b\b\b\b\b\b\b\b\b\b\b\b\b\b\b\b\b\b\b\b\b\b\r",
        "39168/60000 [==================>...........] - ETA: 4s - loss: 0.2558 - acc: 0.9236"
       ]
      },
      {
       "output_type": "stream",
       "stream": "stdout",
       "text": [
        "\b\b\b\b\b\b\b\b\b\b\b\b\b\b\b\b\b\b\b\b\b\b\b\b\b\b\b\b\b\b\b\b\b\b\b\b\b\b\b\b\b\b\b\b\b\b\b\b\b\b\b\b\b\b\b\b\b\b\b\b\b\b\b\b\b\b\b\b\b\b\b\b\b\b\b\b\b\b\b\b\b\b\b\r",
        "39296/60000 [==================>...........] - ETA: 4s - loss: 0.2561 - acc: 0.9236"
       ]
      },
      {
       "output_type": "stream",
       "stream": "stdout",
       "text": [
        "\b\b\b\b\b\b\b\b\b\b\b\b\b\b\b\b\b\b\b\b\b\b\b\b\b\b\b\b\b\b\b\b\b\b\b\b\b\b\b\b\b\b\b\b\b\b\b\b\b\b\b\b\b\b\b\b\b\b\b\b\b\b\b\b\b\b\b\b\b\b\b\b\b\b\b\b\b\b\b\b\b\b\b\r",
        "39424/60000 [==================>...........] - ETA: 4s - loss: 0.2563 - acc: 0.9236"
       ]
      },
      {
       "output_type": "stream",
       "stream": "stdout",
       "text": [
        "\b\b\b\b\b\b\b\b\b\b\b\b\b\b\b\b\b\b\b\b\b\b\b\b\b\b\b\b\b\b\b\b\b\b\b\b\b\b\b\b\b\b\b\b\b\b\b\b\b\b\b\b\b\b\b\b\b\b\b\b\b\b\b\b\b\b\b\b\b\b\b\b\b\b\b\b\b\b\b\b\b\b\b\r",
        "39552/60000 [==================>...........] - ETA: 4s - loss: 0.2559 - acc: 0.9237"
       ]
      },
      {
       "output_type": "stream",
       "stream": "stdout",
       "text": [
        "\b\b\b\b\b\b\b\b\b\b\b\b\b\b\b\b\b\b\b\b\b\b\b\b\b\b\b\b\b\b\b\b\b\b\b\b\b\b\b\b\b\b\b\b\b\b\b\b\b\b\b\b\b\b\b\b\b\b\b\b\b\b\b\b\b\b\b\b\b\b\b\b\b\b\b\b\b\b\b\b\b\b\b\r",
        "39680/60000 [==================>...........] - ETA: 4s - loss: 0.2562 - acc: 0.9236"
       ]
      },
      {
       "output_type": "stream",
       "stream": "stdout",
       "text": [
        "\b\b\b\b\b\b\b\b\b\b\b\b\b\b\b\b\b\b\b\b\b\b\b\b\b\b\b\b\b\b\b\b\b\b\b\b\b\b\b\b\b\b\b\b\b\b\b\b\b\b\b\b\b\b\b\b\b\b\b\b\b\b\b\b\b\b\b\b\b\b\b\b\b\b\b\b\b\b\b\b\b\b\b\r",
        "39808/60000 [==================>...........] - ETA: 3s - loss: 0.2567 - acc: 0.9235"
       ]
      },
      {
       "output_type": "stream",
       "stream": "stdout",
       "text": [
        "\b\b\b\b\b\b\b\b\b\b\b\b\b\b\b\b\b\b\b\b\b\b\b\b\b\b\b\b\b\b\b\b\b\b\b\b\b\b\b\b\b\b\b\b\b\b\b\b\b\b\b\b\b\b\b\b\b\b\b\b\b\b\b\b\b\b\b\b\b\b\b\b\b\b\b\b\b\b\b\b\b\b\b\r",
        "39936/60000 [==================>...........] - ETA: 3s - loss: 0.2565 - acc: 0.9235"
       ]
      },
      {
       "output_type": "stream",
       "stream": "stdout",
       "text": [
        "\b\b\b\b\b\b\b\b\b\b\b\b\b\b\b\b\b\b\b\b\b\b\b\b\b\b\b\b\b\b\b\b\b\b\b\b\b\b\b\b\b\b\b\b\b\b\b\b\b\b\b\b\b\b\b\b\b\b\b\b\b\b\b\b\b\b\b\b\b\b\b\b\b\b\b\b\b\b\b\b\b\b\b\r",
        "40064/60000 [===================>..........] - ETA: 3s - loss: 0.2561 - acc: 0.9236"
       ]
      },
      {
       "output_type": "stream",
       "stream": "stdout",
       "text": [
        "\b\b\b\b\b\b\b\b\b\b\b\b\b\b\b\b\b\b\b\b\b\b\b\b\b\b\b\b\b\b\b\b\b\b\b\b\b\b\b\b\b\b\b\b\b\b\b\b\b\b\b\b\b\b\b\b\b\b\b\b\b\b\b\b\b\b\b\b\b\b\b\b\b\b\b\b\b\b\b\b\b\b\b\r",
        "40192/60000 [===================>..........] - ETA: 3s - loss: 0.2559 - acc: 0.9236"
       ]
      },
      {
       "output_type": "stream",
       "stream": "stdout",
       "text": [
        "\b\b\b\b\b\b\b\b\b\b\b\b\b\b\b\b\b\b\b\b\b\b\b\b\b\b\b\b\b\b\b\b\b\b\b\b\b\b\b\b\b\b\b\b\b\b\b\b\b\b\b\b\b\b\b\b\b\b\b\b\b\b\b\b\b\b\b\b\b\b\b\b\b\b\b\b\b\b\b\b\b\b\b\r",
        "40320/60000 [===================>..........] - ETA: 3s - loss: 0.2556 - acc: 0.9237"
       ]
      },
      {
       "output_type": "stream",
       "stream": "stdout",
       "text": [
        "\b\b\b\b\b\b\b\b\b\b\b\b\b\b\b\b\b\b\b\b\b\b\b\b\b\b\b\b\b\b\b\b\b\b\b\b\b\b\b\b\b\b\b\b\b\b\b\b\b\b\b\b\b\b\b\b\b\b\b\b\b\b\b\b\b\b\b\b\b\b\b\b\b\b\b\b\b\b\b\b\b\b\b\r",
        "40448/60000 [===================>..........] - ETA: 3s - loss: 0.2555 - acc: 0.9236"
       ]
      },
      {
       "output_type": "stream",
       "stream": "stdout",
       "text": [
        "\b\b\b\b\b\b\b\b\b\b\b\b\b\b\b\b\b\b\b\b\b\b\b\b\b\b\b\b\b\b\b\b\b\b\b\b\b\b\b\b\b\b\b\b\b\b\b\b\b\b\b\b\b\b\b\b\b\b\b\b\b\b\b\b\b\b\b\b\b\b\b\b\b\b\b\b\b\b\b\b\b\b\b\r",
        "40576/60000 [===================>..........] - ETA: 3s - loss: 0.2555 - acc: 0.9236"
       ]
      },
      {
       "output_type": "stream",
       "stream": "stdout",
       "text": [
        "\b\b\b\b\b\b\b\b\b\b\b\b\b\b\b\b\b\b\b\b\b\b\b\b\b\b\b\b\b\b\b\b\b\b\b\b\b\b\b\b\b\b\b\b\b\b\b\b\b\b\b\b\b\b\b\b\b\b\b\b\b\b\b\b\b\b\b\b\b\b\b\b\b\b\b\b\b\b\b\b\b\b\b\r",
        "40704/60000 [===================>..........] - ETA: 3s - loss: 0.2554 - acc: 0.9236"
       ]
      },
      {
       "output_type": "stream",
       "stream": "stdout",
       "text": [
        "\b\b\b\b\b\b\b\b\b\b\b\b\b\b\b\b\b\b\b\b\b\b\b\b\b\b\b\b\b\b\b\b\b\b\b\b\b\b\b\b\b\b\b\b\b\b\b\b\b\b\b\b\b\b\b\b\b\b\b\b\b\b\b\b\b\b\b\b\b\b\b\b\b\b\b\b\b\b\b\b\b\b\b\r",
        "40832/60000 [===================>..........] - ETA: 3s - loss: 0.2555 - acc: 0.9236"
       ]
      },
      {
       "output_type": "stream",
       "stream": "stdout",
       "text": [
        "\b\b\b\b\b\b\b\b\b\b\b\b\b\b\b\b\b\b\b\b\b\b\b\b\b\b\b\b\b\b\b\b\b\b\b\b\b\b\b\b\b\b\b\b\b\b\b\b\b\b\b\b\b\b\b\b\b\b\b\b\b\b\b\b\b\b\b\b\b\b\b\b\b\b\b\b\b\b\b\b\b\b\b\r",
        "40960/60000 [===================>..........] - ETA: 3s - loss: 0.2553 - acc: 0.9237"
       ]
      },
      {
       "output_type": "stream",
       "stream": "stdout",
       "text": [
        "\b\b\b\b\b\b\b\b\b\b\b\b\b\b\b\b\b\b\b\b\b\b\b\b\b\b\b\b\b\b\b\b\b\b\b\b\b\b\b\b\b\b\b\b\b\b\b\b\b\b\b\b\b\b\b\b\b\b\b\b\b\b\b\b\b\b\b\b\b\b\b\b\b\b\b\b\b\b\b\b\b\b\b\r",
        "41088/60000 [===================>..........] - ETA: 3s - loss: 0.2553 - acc: 0.9237"
       ]
      },
      {
       "output_type": "stream",
       "stream": "stdout",
       "text": [
        "\b\b\b\b\b\b\b\b\b\b\b\b\b\b\b\b\b\b\b\b\b\b\b\b\b\b\b\b\b\b\b\b\b\b\b\b\b\b\b\b\b\b\b\b\b\b\b\b\b\b\b\b\b\b\b\b\b\b\b\b\b\b\b\b\b\b\b\b\b\b\b\b\b\b\b\b\b\b\b\b\b\b\b\r",
        "41216/60000 [===================>..........] - ETA: 3s - loss: 0.2552 - acc: 0.9237"
       ]
      },
      {
       "output_type": "stream",
       "stream": "stdout",
       "text": [
        "\b\b\b\b\b\b\b\b\b\b\b\b\b\b\b\b\b\b\b\b\b\b\b\b\b\b\b\b\b\b\b\b\b\b\b\b\b\b\b\b\b\b\b\b\b\b\b\b\b\b\b\b\b\b\b\b\b\b\b\b\b\b\b\b\b\b\b\b\b\b\b\b\b\b\b\b\b\b\b\b\b\b\b\r",
        "41344/60000 [===================>..........] - ETA: 3s - loss: 0.2551 - acc: 0.9237"
       ]
      },
      {
       "output_type": "stream",
       "stream": "stdout",
       "text": [
        "\b\b\b\b\b\b\b\b\b\b\b\b\b\b\b\b\b\b\b\b\b\b\b\b\b\b\b\b\b\b\b\b\b\b\b\b\b\b\b\b\b\b\b\b\b\b\b\b\b\b\b\b\b\b\b\b\b\b\b\b\b\b\b\b\b\b\b\b\b\b\b\b\b\b\b\b\b\b\b\b\b\b\b\r",
        "41472/60000 [===================>..........] - ETA: 3s - loss: 0.2547 - acc: 0.9238"
       ]
      },
      {
       "output_type": "stream",
       "stream": "stdout",
       "text": [
        "\b\b\b\b\b\b\b\b\b\b\b\b\b\b\b\b\b\b\b\b\b\b\b\b\b\b\b\b\b\b\b\b\b\b\b\b\b\b\b\b\b\b\b\b\b\b\b\b\b\b\b\b\b\b\b\b\b\b\b\b\b\b\b\b\b\b\b\b\b\b\b\b\b\b\b\b\b\b\b\b\b\b\b\r",
        "41600/60000 [===================>..........] - ETA: 3s - loss: 0.2549 - acc: 0.9237"
       ]
      },
      {
       "output_type": "stream",
       "stream": "stdout",
       "text": [
        "\b\b\b\b\b\b\b\b\b\b\b\b\b\b\b\b\b\b\b\b\b\b\b\b\b\b\b\b\b\b\b\b\b\b\b\b\b\b\b\b\b\b\b\b\b\b\b\b\b\b\b\b\b\b\b\b\b\b\b\b\b\b\b\b\b\b\b\b\b\b\b\b\b\b\b\b\b\b\b\b\b\b\b\r",
        "41728/60000 [===================>..........] - ETA: 3s - loss: 0.2546 - acc: 0.9238"
       ]
      },
      {
       "output_type": "stream",
       "stream": "stdout",
       "text": [
        "\b\b\b\b\b\b\b\b\b\b\b\b\b\b\b\b\b\b\b\b\b\b\b\b\b\b\b\b\b\b\b\b\b\b\b\b\b\b\b\b\b\b\b\b\b\b\b\b\b\b\b\b\b\b\b\b\b\b\b\b\b\b\b\b\b\b\b\b\b\b\b\b\b\b\b\b\b\b\b\b\b\b\b\r",
        "41856/60000 [===================>..........] - ETA: 3s - loss: 0.2546 - acc: 0.9238"
       ]
      },
      {
       "output_type": "stream",
       "stream": "stdout",
       "text": [
        "\b\b\b\b\b\b\b\b\b\b\b\b\b\b\b\b\b\b\b\b\b\b\b\b\b\b\b\b\b\b\b\b\b\b\b\b\b\b\b\b\b\b\b\b\b\b\b\b\b\b\b\b\b\b\b\b\b\b\b\b\b\b\b\b\b\b\b\b\b\b\b\b\b\b\b\b\b\b\b\b\b\b\b\r",
        "41984/60000 [===================>..........] - ETA: 3s - loss: 0.2543 - acc: 0.9239"
       ]
      },
      {
       "output_type": "stream",
       "stream": "stdout",
       "text": [
        "\b\b\b\b\b\b\b\b\b\b\b\b\b\b\b\b\b\b\b\b\b\b\b\b\b\b\b\b\b\b\b\b\b\b\b\b\b\b\b\b\b\b\b\b\b\b\b\b\b\b\b\b\b\b\b\b\b\b\b\b\b\b\b\b\b\b\b\b\b\b\b\b\b\b\b\b\b\b\b\b\b\b\b\r",
        "42112/60000 [====================>.........] - ETA: 3s - loss: 0.2545 - acc: 0.9238"
       ]
      },
      {
       "output_type": "stream",
       "stream": "stdout",
       "text": [
        "\b\b\b\b\b\b\b\b\b\b\b\b\b\b\b\b\b\b\b\b\b\b\b\b\b\b\b\b\b\b\b\b\b\b\b\b\b\b\b\b\b\b\b\b\b\b\b\b\b\b\b\b\b\b\b\b\b\b\b\b\b\b\b\b\b\b\b\b\b\b\b\b\b\b\b\b\b\b\b\b\b\b\b\r",
        "42240/60000 [====================>.........] - ETA: 3s - loss: 0.2545 - acc: 0.9238"
       ]
      },
      {
       "output_type": "stream",
       "stream": "stdout",
       "text": [
        "\b\b\b\b\b\b\b\b\b\b\b\b\b\b\b\b\b\b\b\b\b\b\b\b\b\b\b\b\b\b\b\b\b\b\b\b\b\b\b\b\b\b\b\b\b\b\b\b\b\b\b\b\b\b\b\b\b\b\b\b\b\b\b\b\b\b\b\b\b\b\b\b\b\b\b\b\b\b\b\b\b\b\b\r",
        "42368/60000 [====================>.........] - ETA: 3s - loss: 0.2543 - acc: 0.9239"
       ]
      },
      {
       "output_type": "stream",
       "stream": "stdout",
       "text": [
        "\b\b\b\b\b\b\b\b\b\b\b\b\b\b\b\b\b\b\b\b\b\b\b\b\b\b\b\b\b\b\b\b\b\b\b\b\b\b\b\b\b\b\b\b\b\b\b\b\b\b\b\b\b\b\b\b\b\b\b\b\b\b\b\b\b\b\b\b\b\b\b\b\b\b\b\b\b\b\b\b\b\b\b\r",
        "42496/60000 [====================>.........] - ETA: 3s - loss: 0.2543 - acc: 0.9239"
       ]
      },
      {
       "output_type": "stream",
       "stream": "stdout",
       "text": [
        "\b\b\b\b\b\b\b\b\b\b\b\b\b\b\b\b\b\b\b\b\b\b\b\b\b\b\b\b\b\b\b\b\b\b\b\b\b\b\b\b\b\b\b\b\b\b\b\b\b\b\b\b\b\b\b\b\b\b\b\b\b\b\b\b\b\b\b\b\b\b\b\b\b\b\b\b\b\b\b\b\b\b\b\r",
        "42624/60000 [====================>.........] - ETA: 3s - loss: 0.2540 - acc: 0.9239"
       ]
      },
      {
       "output_type": "stream",
       "stream": "stdout",
       "text": [
        "\b\b\b\b\b\b\b\b\b\b\b\b\b\b\b\b\b\b\b\b\b\b\b\b\b\b\b\b\b\b\b\b\b\b\b\b\b\b\b\b\b\b\b\b\b\b\b\b\b\b\b\b\b\b\b\b\b\b\b\b\b\b\b\b\b\b\b\b\b\b\b\b\b\b\b\b\b\b\b\b\b\b\b\r",
        "42752/60000 [====================>.........] - ETA: 3s - loss: 0.2542 - acc: 0.9238"
       ]
      },
      {
       "output_type": "stream",
       "stream": "stdout",
       "text": [
        "\b\b\b\b\b\b\b\b\b\b\b\b\b\b\b\b\b\b\b\b\b\b\b\b\b\b\b\b\b\b\b\b\b\b\b\b\b\b\b\b\b\b\b\b\b\b\b\b\b\b\b\b\b\b\b\b\b\b\b\b\b\b\b\b\b\b\b\b\b\b\b\b\b\b\b\b\b\b\b\b\b\b\b\r",
        "42880/60000 [====================>.........] - ETA: 3s - loss: 0.2542 - acc: 0.9239"
       ]
      },
      {
       "output_type": "stream",
       "stream": "stdout",
       "text": [
        "\b\b\b\b\b\b\b\b\b\b\b\b\b\b\b\b\b\b\b\b\b\b\b\b\b\b\b\b\b\b\b\b\b\b\b\b\b\b\b\b\b\b\b\b\b\b\b\b\b\b\b\b\b\b\b\b\b\b\b\b\b\b\b\b\b\b\b\b\b\b\b\b\b\b\b\b\b\b\b\b\b\b\b\r",
        "43008/60000 [====================>.........] - ETA: 3s - loss: 0.2543 - acc: 0.9238"
       ]
      },
      {
       "output_type": "stream",
       "stream": "stdout",
       "text": [
        "\b\b\b\b\b\b\b\b\b\b\b\b\b\b\b\b\b\b\b\b\b\b\b\b\b\b\b\b\b\b\b\b\b\b\b\b\b\b\b\b\b\b\b\b\b\b\b\b\b\b\b\b\b\b\b\b\b\b\b\b\b\b\b\b\b\b\b\b\b\b\b\b\b\b\b\b\b\b\b\b\b\b\b\r",
        "43136/60000 [====================>.........] - ETA: 3s - loss: 0.2541 - acc: 0.9240"
       ]
      },
      {
       "output_type": "stream",
       "stream": "stdout",
       "text": [
        "\b\b\b\b\b\b\b\b\b\b\b\b\b\b\b\b\b\b\b\b\b\b\b\b\b\b\b\b\b\b\b\b\b\b\b\b\b\b\b\b\b\b\b\b\b\b\b\b\b\b\b\b\b\b\b\b\b\b\b\b\b\b\b\b\b\b\b\b\b\b\b\b\b\b\b\b\b\b\b\b\b\b\b\r",
        "43264/60000 [====================>.........] - ETA: 3s - loss: 0.2537 - acc: 0.9240"
       ]
      },
      {
       "output_type": "stream",
       "stream": "stdout",
       "text": [
        "\b\b\b\b\b\b\b\b\b\b\b\b\b\b\b\b\b\b\b\b\b\b\b\b\b\b\b\b\b\b\b\b\b\b\b\b\b\b\b\b\b\b\b\b\b\b\b\b\b\b\b\b\b\b\b\b\b\b\b\b\b\b\b\b\b\b\b\b\b\b\b\b\b\b\b\b\b\b\b\b\b\b\b\r",
        "43392/60000 [====================>.........] - ETA: 3s - loss: 0.2536 - acc: 0.9240"
       ]
      },
      {
       "output_type": "stream",
       "stream": "stdout",
       "text": [
        "\b\b\b\b\b\b\b\b\b\b\b\b\b\b\b\b\b\b\b\b\b\b\b\b\b\b\b\b\b\b\b\b\b\b\b\b\b\b\b\b\b\b\b\b\b\b\b\b\b\b\b\b\b\b\b\b\b\b\b\b\b\b\b\b\b\b\b\b\b\b\b\b\b\b\b\b\b\b\b\b\b\b\b\r",
        "43520/60000 [====================>.........] - ETA: 3s - loss: 0.2535 - acc: 0.9241"
       ]
      },
      {
       "output_type": "stream",
       "stream": "stdout",
       "text": [
        "\b\b\b\b\b\b\b\b\b\b\b\b\b\b\b\b\b\b\b\b\b\b\b\b\b\b\b\b\b\b\b\b\b\b\b\b\b\b\b\b\b\b\b\b\b\b\b\b\b\b\b\b\b\b\b\b\b\b\b\b\b\b\b\b\b\b\b\b\b\b\b\b\b\b\b\b\b\b\b\b\b\b\b\r",
        "43648/60000 [====================>.........] - ETA: 3s - loss: 0.2533 - acc: 0.9241"
       ]
      },
      {
       "output_type": "stream",
       "stream": "stdout",
       "text": [
        "\b\b\b\b\b\b\b\b\b\b\b\b\b\b\b\b\b\b\b\b\b\b\b\b\b\b\b\b\b\b\b\b\b\b\b\b\b\b\b\b\b\b\b\b\b\b\b\b\b\b\b\b\b\b\b\b\b\b\b\b\b\b\b\b\b\b\b\b\b\b\b\b\b\b\b\b\b\b\b\b\b\b\b\r",
        "43776/60000 [====================>.........] - ETA: 3s - loss: 0.2533 - acc: 0.9242"
       ]
      },
      {
       "output_type": "stream",
       "stream": "stdout",
       "text": [
        "\b\b\b\b\b\b\b\b\b\b\b\b\b\b\b\b\b\b\b\b\b\b\b\b\b\b\b\b\b\b\b\b\b\b\b\b\b\b\b\b\b\b\b\b\b\b\b\b\b\b\b\b\b\b\b\b\b\b\b\b\b\b\b\b\b\b\b\b\b\b\b\b\b\b\b\b\b\b\b\b\b\b\b\r",
        "43904/60000 [====================>.........] - ETA: 3s - loss: 0.2534 - acc: 0.9241"
       ]
      },
      {
       "output_type": "stream",
       "stream": "stdout",
       "text": [
        "\b\b\b\b\b\b\b\b\b\b\b\b\b\b\b\b\b\b\b\b\b\b\b\b\b\b\b\b\b\b\b\b\b\b\b\b\b\b\b\b\b\b\b\b\b\b\b\b\b\b\b\b\b\b\b\b\b\b\b\b\b\b\b\b\b\b\b\b\b\b\b\b\b\b\b\b\b\b\b\b\b\b\b\r",
        "44032/60000 [=====================>........] - ETA: 3s - loss: 0.2530 - acc: 0.9242"
       ]
      },
      {
       "output_type": "stream",
       "stream": "stdout",
       "text": [
        "\b\b\b\b\b\b\b\b\b\b\b\b\b\b\b\b\b\b\b\b\b\b\b\b\b\b\b\b\b\b\b\b\b\b\b\b\b\b\b\b\b\b\b\b\b\b\b\b\b\b\b\b\b\b\b\b\b\b\b\b\b\b\b\b\b\b\b\b\b\b\b\b\b\b\b\b\b\b\b\b\b\b\b\r",
        "44160/60000 [=====================>........] - ETA: 3s - loss: 0.2528 - acc: 0.9243"
       ]
      },
      {
       "output_type": "stream",
       "stream": "stdout",
       "text": [
        "\b\b\b\b\b\b\b\b\b\b\b\b\b\b\b\b\b\b\b\b\b\b\b\b\b\b\b\b\b\b\b\b\b\b\b\b\b\b\b\b\b\b\b\b\b\b\b\b\b\b\b\b\b\b\b\b\b\b\b\b\b\b\b\b\b\b\b\b\b\b\b\b\b\b\b\b\b\b\b\b\b\b\b\r",
        "44288/60000 [=====================>........] - ETA: 3s - loss: 0.2527 - acc: 0.9243"
       ]
      },
      {
       "output_type": "stream",
       "stream": "stdout",
       "text": [
        "\b\b\b\b\b\b\b\b\b\b\b\b\b\b\b\b\b\b\b\b\b\b\b\b\b\b\b\b\b\b\b\b\b\b\b\b\b\b\b\b\b\b\b\b\b\b\b\b\b\b\b\b\b\b\b\b\b\b\b\b\b\b\b\b\b\b\b\b\b\b\b\b\b\b\b\b\b\b\b\b\b\b\b\r",
        "44416/60000 [=====================>........] - ETA: 3s - loss: 0.2529 - acc: 0.9244"
       ]
      },
      {
       "output_type": "stream",
       "stream": "stdout",
       "text": [
        "\b\b\b\b\b\b\b\b\b\b\b\b\b\b\b\b\b\b\b\b\b\b\b\b\b\b\b\b\b\b\b\b\b\b\b\b\b\b\b\b\b\b\b\b\b\b\b\b\b\b\b\b\b\b\b\b\b\b\b\b\b\b\b\b\b\b\b\b\b\b\b\b\b\b\b\b\b\b\b\b\b\b\b\r",
        "44544/60000 [=====================>........] - ETA: 3s - loss: 0.2531 - acc: 0.9243"
       ]
      },
      {
       "output_type": "stream",
       "stream": "stdout",
       "text": [
        "\b\b\b\b\b\b\b\b\b\b\b\b\b\b\b\b\b\b\b\b\b\b\b\b\b\b\b\b\b\b\b\b\b\b\b\b\b\b\b\b\b\b\b\b\b\b\b\b\b\b\b\b\b\b\b\b\b\b\b\b\b\b\b\b\b\b\b\b\b\b\b\b\b\b\b\b\b\b\b\b\b\b\b\r",
        "44672/60000 [=====================>........] - ETA: 3s - loss: 0.2531 - acc: 0.9243"
       ]
      },
      {
       "output_type": "stream",
       "stream": "stdout",
       "text": [
        "\b\b\b\b\b\b\b\b\b\b\b\b\b\b\b\b\b\b\b\b\b\b\b\b\b\b\b\b\b\b\b\b\b\b\b\b\b\b\b\b\b\b\b\b\b\b\b\b\b\b\b\b\b\b\b\b\b\b\b\b\b\b\b\b\b\b\b\b\b\b\b\b\b\b\b\b\b\b\b\b\b\b\b\r",
        "44800/60000 [=====================>........] - ETA: 3s - loss: 0.2529 - acc: 0.9244"
       ]
      },
      {
       "output_type": "stream",
       "stream": "stdout",
       "text": [
        "\b\b\b\b\b\b\b\b\b\b\b\b\b\b\b\b\b\b\b\b\b\b\b\b\b\b\b\b\b\b\b\b\b\b\b\b\b\b\b\b\b\b\b\b\b\b\b\b\b\b\b\b\b\b\b\b\b\b\b\b\b\b\b\b\b\b\b\b\b\b\b\b\b\b\b\b\b\b\b\b\b\b\b\r",
        "44928/60000 [=====================>........] - ETA: 2s - loss: 0.2525 - acc: 0.9245"
       ]
      },
      {
       "output_type": "stream",
       "stream": "stdout",
       "text": [
        "\b\b\b\b\b\b\b\b\b\b\b\b\b\b\b\b\b\b\b\b\b\b\b\b\b\b\b\b\b\b\b\b\b\b\b\b\b\b\b\b\b\b\b\b\b\b\b\b\b\b\b\b\b\b\b\b\b\b\b\b\b\b\b\b\b\b\b\b\b\b\b\b\b\b\b\b\b\b\b\b\b\b\b\r",
        "45056/60000 [=====================>........] - ETA: 2s - loss: 0.2524 - acc: 0.9246"
       ]
      },
      {
       "output_type": "stream",
       "stream": "stdout",
       "text": [
        "\b\b\b\b\b\b\b\b\b\b\b\b\b\b\b\b\b\b\b\b\b\b\b\b\b\b\b\b\b\b\b\b\b\b\b\b\b\b\b\b\b\b\b\b\b\b\b\b\b\b\b\b\b\b\b\b\b\b\b\b\b\b\b\b\b\b\b\b\b\b\b\b\b\b\b\b\b\b\b\b\b\b\b\r",
        "45184/60000 [=====================>........] - ETA: 2s - loss: 0.2525 - acc: 0.9245"
       ]
      },
      {
       "output_type": "stream",
       "stream": "stdout",
       "text": [
        "\b\b\b\b\b\b\b\b\b\b\b\b\b\b\b\b\b\b\b\b\b\b\b\b\b\b\b\b\b\b\b\b\b\b\b\b\b\b\b\b\b\b\b\b\b\b\b\b\b\b\b\b\b\b\b\b\b\b\b\b\b\b\b\b\b\b\b\b\b\b\b\b\b\b\b\b\b\b\b\b\b\b\b\r",
        "45312/60000 [=====================>........] - ETA: 2s - loss: 0.2524 - acc: 0.9245"
       ]
      },
      {
       "output_type": "stream",
       "stream": "stdout",
       "text": [
        "\b\b\b\b\b\b\b\b\b\b\b\b\b\b\b\b\b\b\b\b\b\b\b\b\b\b\b\b\b\b\b\b\b\b\b\b\b\b\b\b\b\b\b\b\b\b\b\b\b\b\b\b\b\b\b\b\b\b\b\b\b\b\b\b\b\b\b\b\b\b\b\b\b\b\b\b\b\b\b\b\b\b\b\r",
        "45440/60000 [=====================>........] - ETA: 2s - loss: 0.2521 - acc: 0.9246"
       ]
      },
      {
       "output_type": "stream",
       "stream": "stdout",
       "text": [
        "\b\b\b\b\b\b\b\b\b\b\b\b\b\b\b\b\b\b\b\b\b\b\b\b\b\b\b\b\b\b\b\b\b\b\b\b\b\b\b\b\b\b\b\b\b\b\b\b\b\b\b\b\b\b\b\b\b\b\b\b\b\b\b\b\b\b\b\b\b\b\b\b\b\b\b\b\b\b\b\b\b\b\b\r",
        "45568/60000 [=====================>........] - ETA: 2s - loss: 0.2521 - acc: 0.9246"
       ]
      },
      {
       "output_type": "stream",
       "stream": "stdout",
       "text": [
        "\b\b\b\b\b\b\b\b\b\b\b\b\b\b\b\b\b\b\b\b\b\b\b\b\b\b\b\b\b\b\b\b\b\b\b\b\b\b\b\b\b\b\b\b\b\b\b\b\b\b\b\b\b\b\b\b\b\b\b\b\b\b\b\b\b\b\b\b\b\b\b\b\b\b\b\b\b\b\b\b\b\b\b\r",
        "45696/60000 [=====================>........] - ETA: 2s - loss: 0.2520 - acc: 0.9246"
       ]
      },
      {
       "output_type": "stream",
       "stream": "stdout",
       "text": [
        "\b\b\b\b\b\b\b\b\b\b\b\b\b\b\b\b\b\b\b\b\b\b\b\b\b\b\b\b\b\b\b\b\b\b\b\b\b\b\b\b\b\b\b\b\b\b\b\b\b\b\b\b\b\b\b\b\b\b\b\b\b\b\b\b\b\b\b\b\b\b\b\b\b\b\b\b\b\b\b\b\b\b\b\r",
        "45824/60000 [=====================>........] - ETA: 2s - loss: 0.2522 - acc: 0.9245"
       ]
      },
      {
       "output_type": "stream",
       "stream": "stdout",
       "text": [
        "\b\b\b\b\b\b\b\b\b\b\b\b\b\b\b\b\b\b\b\b\b\b\b\b\b\b\b\b\b\b\b\b\b\b\b\b\b\b\b\b\b\b\b\b\b\b\b\b\b\b\b\b\b\b\b\b\b\b\b\b\b\b\b\b\b\b\b\b\b\b\b\b\b\b\b\b\b\b\b\b\b\b\b\r",
        "45952/60000 [=====================>........] - ETA: 2s - loss: 0.2524 - acc: 0.9244"
       ]
      },
      {
       "output_type": "stream",
       "stream": "stdout",
       "text": [
        "\b\b\b\b\b\b\b\b\b\b\b\b\b\b\b\b\b\b\b\b\b\b\b\b\b\b\b\b\b\b\b\b\b\b\b\b\b\b\b\b\b\b\b\b\b\b\b\b\b\b\b\b\b\b\b\b\b\b\b\b\b\b\b\b\b\b\b\b\b\b\b\b\b\b\b\b\b\b\b\b\b\b\b\r",
        "46080/60000 [======================>.......] - ETA: 2s - loss: 0.2521 - acc: 0.9245"
       ]
      },
      {
       "output_type": "stream",
       "stream": "stdout",
       "text": [
        "\b\b\b\b\b\b\b\b\b\b\b\b\b\b\b\b\b\b\b\b\b\b\b\b\b\b\b\b\b\b\b\b\b\b\b\b\b\b\b\b\b\b\b\b\b\b\b\b\b\b\b\b\b\b\b\b\b\b\b\b\b\b\b\b\b\b\b\b\b\b\b\b\b\b\b\b\b\b\b\b\b\b\b\r",
        "46208/60000 [======================>.......] - ETA: 2s - loss: 0.2518 - acc: 0.9246"
       ]
      },
      {
       "output_type": "stream",
       "stream": "stdout",
       "text": [
        "\b\b\b\b\b\b\b\b\b\b\b\b\b\b\b\b\b\b\b\b\b\b\b\b\b\b\b\b\b\b\b\b\b\b\b\b\b\b\b\b\b\b\b\b\b\b\b\b\b\b\b\b\b\b\b\b\b\b\b\b\b\b\b\b\b\b\b\b\b\b\b\b\b\b\b\b\b\b\b\b\b\b\b\r",
        "46336/60000 [======================>.......] - ETA: 2s - loss: 0.2516 - acc: 0.9246"
       ]
      },
      {
       "output_type": "stream",
       "stream": "stdout",
       "text": [
        "\b\b\b\b\b\b\b\b\b\b\b\b\b\b\b\b\b\b\b\b\b\b\b\b\b\b\b\b\b\b\b\b\b\b\b\b\b\b\b\b\b\b\b\b\b\b\b\b\b\b\b\b\b\b\b\b\b\b\b\b\b\b\b\b\b\b\b\b\b\b\b\b\b\b\b\b\b\b\b\b\b\b\b\r",
        "46464/60000 [======================>.......] - ETA: 2s - loss: 0.2515 - acc: 0.9246"
       ]
      },
      {
       "output_type": "stream",
       "stream": "stdout",
       "text": [
        "\b\b\b\b\b\b\b\b\b\b\b\b\b\b\b\b\b\b\b\b\b\b\b\b\b\b\b\b\b\b\b\b\b\b\b\b\b\b\b\b\b\b\b\b\b\b\b\b\b\b\b\b\b\b\b\b\b\b\b\b\b\b\b\b\b\b\b\b\b\b\b\b\b\b\b\b\b\b\b\b\b\b\b\r",
        "46592/60000 [======================>.......] - ETA: 2s - loss: 0.2513 - acc: 0.9246"
       ]
      },
      {
       "output_type": "stream",
       "stream": "stdout",
       "text": [
        "\b\b\b\b\b\b\b\b\b\b\b\b\b\b\b\b\b\b\b\b\b\b\b\b\b\b\b\b\b\b\b\b\b\b\b\b\b\b\b\b\b\b\b\b\b\b\b\b\b\b\b\b\b\b\b\b\b\b\b\b\b\b\b\b\b\b\b\b\b\b\b\b\b\b\b\b\b\b\b\b\b\b\b\r",
        "46720/60000 [======================>.......] - ETA: 2s - loss: 0.2512 - acc: 0.9247"
       ]
      },
      {
       "output_type": "stream",
       "stream": "stdout",
       "text": [
        "\b\b\b\b\b\b\b\b\b\b\b\b\b\b\b\b\b\b\b\b\b\b\b\b\b\b\b\b\b\b\b\b\b\b\b\b\b\b\b\b\b\b\b\b\b\b\b\b\b\b\b\b\b\b\b\b\b\b\b\b\b\b\b\b\b\b\b\b\b\b\b\b\b\b\b\b\b\b\b\b\b\b\b\r",
        "46848/60000 [======================>.......] - ETA: 2s - loss: 0.2511 - acc: 0.9248"
       ]
      },
      {
       "output_type": "stream",
       "stream": "stdout",
       "text": [
        "\b\b\b\b\b\b\b\b\b\b\b\b\b\b\b\b\b\b\b\b\b\b\b\b\b\b\b\b\b\b\b\b\b\b\b\b\b\b\b\b\b\b\b\b\b\b\b\b\b\b\b\b\b\b\b\b\b\b\b\b\b\b\b\b\b\b\b\b\b\b\b\b\b\b\b\b\b\b\b\b\b\b\b\r",
        "46976/60000 [======================>.......] - ETA: 2s - loss: 0.2511 - acc: 0.9248"
       ]
      },
      {
       "output_type": "stream",
       "stream": "stdout",
       "text": [
        "\b\b\b\b\b\b\b\b\b\b\b\b\b\b\b\b\b\b\b\b\b\b\b\b\b\b\b\b\b\b\b\b\b\b\b\b\b\b\b\b\b\b\b\b\b\b\b\b\b\b\b\b\b\b\b\b\b\b\b\b\b\b\b\b\b\b\b\b\b\b\b\b\b\b\b\b\b\b\b\b\b\b\b\r",
        "47104/60000 [======================>.......] - ETA: 2s - loss: 0.2508 - acc: 0.9249"
       ]
      },
      {
       "output_type": "stream",
       "stream": "stdout",
       "text": [
        "\b\b\b\b\b\b\b\b\b\b\b\b\b\b\b\b\b\b\b\b\b\b\b\b\b\b\b\b\b\b\b\b\b\b\b\b\b\b\b\b\b\b\b\b\b\b\b\b\b\b\b\b\b\b\b\b\b\b\b\b\b\b\b\b\b\b\b\b\b\b\b\b\b\b\b\b\b\b\b\b\b\b\b\r",
        "47232/60000 [======================>.......] - ETA: 2s - loss: 0.2507 - acc: 0.9249"
       ]
      },
      {
       "output_type": "stream",
       "stream": "stdout",
       "text": [
        "\b\b\b\b\b\b\b\b\b\b\b\b\b\b\b\b\b\b\b\b\b\b\b\b\b\b\b\b\b\b\b\b\b\b\b\b\b\b\b\b\b\b\b\b\b\b\b\b\b\b\b\b\b\b\b\b\b\b\b\b\b\b\b\b\b\b\b\b\b\b\b\b\b\b\b\b\b\b\b\b\b\b\b\r",
        "47360/60000 [======================>.......] - ETA: 2s - loss: 0.2506 - acc: 0.9249"
       ]
      },
      {
       "output_type": "stream",
       "stream": "stdout",
       "text": [
        "\b\b\b\b\b\b\b\b\b\b\b\b\b\b\b\b\b\b\b\b\b\b\b\b\b\b\b\b\b\b\b\b\b\b\b\b\b\b\b\b\b\b\b\b\b\b\b\b\b\b\b\b\b\b\b\b\b\b\b\b\b\b\b\b\b\b\b\b\b\b\b\b\b\b\b\b\b\b\b\b\b\b\b\r",
        "47488/60000 [======================>.......] - ETA: 2s - loss: 0.2505 - acc: 0.9250"
       ]
      },
      {
       "output_type": "stream",
       "stream": "stdout",
       "text": [
        "\b\b\b\b\b\b\b\b\b\b\b\b\b\b\b\b\b\b\b\b\b\b\b\b\b\b\b\b\b\b\b\b\b\b\b\b\b\b\b\b\b\b\b\b\b\b\b\b\b\b\b\b\b\b\b\b\b\b\b\b\b\b\b\b\b\b\b\b\b\b\b\b\b\b\b\b\b\b\b\b\b\b\b\r",
        "47616/60000 [======================>.......] - ETA: 2s - loss: 0.2503 - acc: 0.9251"
       ]
      },
      {
       "output_type": "stream",
       "stream": "stdout",
       "text": [
        "\b\b\b\b\b\b\b\b\b\b\b\b\b\b\b\b\b\b\b\b\b\b\b\b\b\b\b\b\b\b\b\b\b\b\b\b\b\b\b\b\b\b\b\b\b\b\b\b\b\b\b\b\b\b\b\b\b\b\b\b\b\b\b\b\b\b\b\b\b\b\b\b\b\b\b\b\b\b\b\b\b\b\b\r",
        "47744/60000 [======================>.......] - ETA: 2s - loss: 0.2503 - acc: 0.9251"
       ]
      },
      {
       "output_type": "stream",
       "stream": "stdout",
       "text": [
        "\b\b\b\b\b\b\b\b\b\b\b\b\b\b\b\b\b\b\b\b\b\b\b\b\b\b\b\b\b\b\b\b\b\b\b\b\b\b\b\b\b\b\b\b\b\b\b\b\b\b\b\b\b\b\b\b\b\b\b\b\b\b\b\b\b\b\b\b\b\b\b\b\b\b\b\b\b\b\b\b\b\b\b\r",
        "47872/60000 [======================>.......] - ETA: 2s - loss: 0.2501 - acc: 0.9251"
       ]
      },
      {
       "output_type": "stream",
       "stream": "stdout",
       "text": [
        "\b\b\b\b\b\b\b\b\b\b\b\b\b\b\b\b\b\b\b\b\b\b\b\b\b\b\b\b\b\b\b\b\b\b\b\b\b\b\b\b\b\b\b\b\b\b\b\b\b\b\b\b\b\b\b\b\b\b\b\b\b\b\b\b\b\b\b\b\b\b\b\b\b\b\b\b\b\b\b\b\b\b\b\r",
        "48000/60000 [=======================>......] - ETA: 2s - loss: 0.2498 - acc: 0.9252"
       ]
      },
      {
       "output_type": "stream",
       "stream": "stdout",
       "text": [
        "\b\b\b\b\b\b\b\b\b\b\b\b\b\b\b\b\b\b\b\b\b\b\b\b\b\b\b\b\b\b\b\b\b\b\b\b\b\b\b\b\b\b\b\b\b\b\b\b\b\b\b\b\b\b\b\b\b\b\b\b\b\b\b\b\b\b\b\b\b\b\b\b\b\b\b\b\b\b\b\b\b\b\b\r",
        "48128/60000 [=======================>......] - ETA: 2s - loss: 0.2499 - acc: 0.9251"
       ]
      },
      {
       "output_type": "stream",
       "stream": "stdout",
       "text": [
        "\b\b\b\b\b\b\b\b\b\b\b\b\b\b\b\b\b\b\b\b\b\b\b\b\b\b\b\b\b\b\b\b\b\b\b\b\b\b\b\b\b\b\b\b\b\b\b\b\b\b\b\b\b\b\b\b\b\b\b\b\b\b\b\b\b\b\b\b\b\b\b\b\b\b\b\b\b\b\b\b\b\b\b\r",
        "48256/60000 [=======================>......] - ETA: 2s - loss: 0.2496 - acc: 0.9252"
       ]
      },
      {
       "output_type": "stream",
       "stream": "stdout",
       "text": [
        "\b\b\b\b\b\b\b\b\b\b\b\b\b\b\b\b\b\b\b\b\b\b\b\b\b\b\b\b\b\b\b\b\b\b\b\b\b\b\b\b\b\b\b\b\b\b\b\b\b\b\b\b\b\b\b\b\b\b\b\b\b\b\b\b\b\b\b\b\b\b\b\b\b\b\b\b\b\b\b\b\b\b\b\r",
        "48384/60000 [=======================>......] - ETA: 2s - loss: 0.2495 - acc: 0.9252"
       ]
      },
      {
       "output_type": "stream",
       "stream": "stdout",
       "text": [
        "\b\b\b\b\b\b\b\b\b\b\b\b\b\b\b\b\b\b\b\b\b\b\b\b\b\b\b\b\b\b\b\b\b\b\b\b\b\b\b\b\b\b\b\b\b\b\b\b\b\b\b\b\b\b\b\b\b\b\b\b\b\b\b\b\b\b\b\b\b\b\b\b\b\b\b\b\b\b\b\b\b\b\b\r",
        "48512/60000 [=======================>......] - ETA: 2s - loss: 0.2496 - acc: 0.9252"
       ]
      },
      {
       "output_type": "stream",
       "stream": "stdout",
       "text": [
        "\b\b\b\b\b\b\b\b\b\b\b\b\b\b\b\b\b\b\b\b\b\b\b\b\b\b\b\b\b\b\b\b\b\b\b\b\b\b\b\b\b\b\b\b\b\b\b\b\b\b\b\b\b\b\b\b\b\b\b\b\b\b\b\b\b\b\b\b\b\b\b\b\b\b\b\b\b\b\b\b\b\b\b\r",
        "48640/60000 [=======================>......] - ETA: 2s - loss: 0.2499 - acc: 0.9251"
       ]
      },
      {
       "output_type": "stream",
       "stream": "stdout",
       "text": [
        "\b\b\b\b\b\b\b\b\b\b\b\b\b\b\b\b\b\b\b\b\b\b\b\b\b\b\b\b\b\b\b\b\b\b\b\b\b\b\b\b\b\b\b\b\b\b\b\b\b\b\b\b\b\b\b\b\b\b\b\b\b\b\b\b\b\b\b\b\b\b\b\b\b\b\b\b\b\b\b\b\b\b\b\r",
        "48768/60000 [=======================>......] - ETA: 2s - loss: 0.2497 - acc: 0.9252"
       ]
      },
      {
       "output_type": "stream",
       "stream": "stdout",
       "text": [
        "\b\b\b\b\b\b\b\b\b\b\b\b\b\b\b\b\b\b\b\b\b\b\b\b\b\b\b\b\b\b\b\b\b\b\b\b\b\b\b\b\b\b\b\b\b\b\b\b\b\b\b\b\b\b\b\b\b\b\b\b\b\b\b\b\b\b\b\b\b\b\b\b\b\b\b\b\b\b\b\b\b\b\b\r",
        "48896/60000 [=======================>......] - ETA: 2s - loss: 0.2496 - acc: 0.9252"
       ]
      },
      {
       "output_type": "stream",
       "stream": "stdout",
       "text": [
        "\b\b\b\b\b\b\b\b\b\b\b\b\b\b\b\b\b\b\b\b\b\b\b\b\b\b\b\b\b\b\b\b\b\b\b\b\b\b\b\b\b\b\b\b\b\b\b\b\b\b\b\b\b\b\b\b\b\b\b\b\b\b\b\b\b\b\b\b\b\b\b\b\b\b\b\b\b\b\b\b\b\b\b\r",
        "49024/60000 [=======================>......] - ETA: 2s - loss: 0.2495 - acc: 0.9252"
       ]
      },
      {
       "output_type": "stream",
       "stream": "stdout",
       "text": [
        "\b\b\b\b\b\b\b\b\b\b\b\b\b\b\b\b\b\b\b\b\b\b\b\b\b\b\b\b\b\b\b\b\b\b\b\b\b\b\b\b\b\b\b\b\b\b\b\b\b\b\b\b\b\b\b\b\b\b\b\b\b\b\b\b\b\b\b\b\b\b\b\b\b\b\b\b\b\b\b\b\b\b\b\r",
        "49152/60000 [=======================>......] - ETA: 2s - loss: 0.2493 - acc: 0.9252"
       ]
      },
      {
       "output_type": "stream",
       "stream": "stdout",
       "text": [
        "\b\b\b\b\b\b\b\b\b\b\b\b\b\b\b\b\b\b\b\b\b\b\b\b\b\b\b\b\b\b\b\b\b\b\b\b\b\b\b\b\b\b\b\b\b\b\b\b\b\b\b\b\b\b\b\b\b\b\b\b\b\b\b\b\b\b\b\b\b\b\b\b\b\b\b\b\b\b\b\b\b\b\b\r",
        "49280/60000 [=======================>......] - ETA: 2s - loss: 0.2493 - acc: 0.9252"
       ]
      },
      {
       "output_type": "stream",
       "stream": "stdout",
       "text": [
        "\b\b\b\b\b\b\b\b\b\b\b\b\b\b\b\b\b\b\b\b\b\b\b\b\b\b\b\b\b\b\b\b\b\b\b\b\b\b\b\b\b\b\b\b\b\b\b\b\b\b\b\b\b\b\b\b\b\b\b\b\b\b\b\b\b\b\b\b\b\b\b\b\b\b\b\b\b\b\b\b\b\b\b\r",
        "49408/60000 [=======================>......] - ETA: 2s - loss: 0.2492 - acc: 0.9253"
       ]
      },
      {
       "output_type": "stream",
       "stream": "stdout",
       "text": [
        "\b\b\b\b\b\b\b\b\b\b\b\b\b\b\b\b\b\b\b\b\b\b\b\b\b\b\b\b\b\b\b\b\b\b\b\b\b\b\b\b\b\b\b\b\b\b\b\b\b\b\b\b\b\b\b\b\b\b\b\b\b\b\b\b\b\b\b\b\b\b\b\b\b\b\b\b\b\b\b\b\b\b\b\r",
        "49536/60000 [=======================>......] - ETA: 2s - loss: 0.2489 - acc: 0.9253"
       ]
      },
      {
       "output_type": "stream",
       "stream": "stdout",
       "text": [
        "\b\b\b\b\b\b\b\b\b\b\b\b\b\b\b\b\b\b\b\b\b\b\b\b\b\b\b\b\b\b\b\b\b\b\b\b\b\b\b\b\b\b\b\b\b\b\b\b\b\b\b\b\b\b\b\b\b\b\b\b\b\b\b\b\b\b\b\b\b\b\b\b\b\b\b\b\b\b\b\b\b\b\b\r",
        "49664/60000 [=======================>......] - ETA: 2s - loss: 0.2488 - acc: 0.9254"
       ]
      },
      {
       "output_type": "stream",
       "stream": "stdout",
       "text": [
        "\b\b\b\b\b\b\b\b\b\b\b\b\b\b\b\b\b\b\b\b\b\b\b\b\b\b\b\b\b\b\b\b\b\b\b\b\b\b\b\b\b\b\b\b\b\b\b\b\b\b\b\b\b\b\b\b\b\b\b\b\b\b\b\b\b\b\b\b\b\b\b\b\b\b\b\b\b\b\b\b\b\b\b\r",
        "49792/60000 [=======================>......] - ETA: 2s - loss: 0.2486 - acc: 0.9254"
       ]
      },
      {
       "output_type": "stream",
       "stream": "stdout",
       "text": [
        "\b\b\b\b\b\b\b\b\b\b\b\b\b\b\b\b\b\b\b\b\b\b\b\b\b\b\b\b\b\b\b\b\b\b\b\b\b\b\b\b\b\b\b\b\b\b\b\b\b\b\b\b\b\b\b\b\b\b\b\b\b\b\b\b\b\b\b\b\b\b\b\b\b\b\b\b\b\b\b\b\b\b\b\r",
        "49920/60000 [=======================>......] - ETA: 1s - loss: 0.2491 - acc: 0.9252"
       ]
      },
      {
       "output_type": "stream",
       "stream": "stdout",
       "text": [
        "\b\b\b\b\b\b\b\b\b\b\b\b\b\b\b\b\b\b\b\b\b\b\b\b\b\b\b\b\b\b\b\b\b\b\b\b\b\b\b\b\b\b\b\b\b\b\b\b\b\b\b\b\b\b\b\b\b\b\b\b\b\b\b\b\b\b\b\b\b\b\b\b\b\b\b\b\b\b\b\b\b\b\b\r",
        "50048/60000 [========================>.....] - ETA: 1s - loss: 0.2488 - acc: 0.9254"
       ]
      },
      {
       "output_type": "stream",
       "stream": "stdout",
       "text": [
        "\b\b\b\b\b\b\b\b\b\b\b\b\b\b\b\b\b\b\b\b\b\b\b\b\b\b\b\b\b\b\b\b\b\b\b\b\b\b\b\b\b\b\b\b\b\b\b\b\b\b\b\b\b\b\b\b\b\b\b\b\b\b\b\b\b\b\b\b\b\b\b\b\b\b\b\b\b\b\b\b\b\b\b\r",
        "50176/60000 [========================>.....] - ETA: 1s - loss: 0.2487 - acc: 0.9254"
       ]
      },
      {
       "output_type": "stream",
       "stream": "stdout",
       "text": [
        "\b\b\b\b\b\b\b\b\b\b\b\b\b\b\b\b\b\b\b\b\b\b\b\b\b\b\b\b\b\b\b\b\b\b\b\b\b\b\b\b\b\b\b\b\b\b\b\b\b\b\b\b\b\b\b\b\b\b\b\b\b\b\b\b\b\b\b\b\b\b\b\b\b\b\b\b\b\b\b\b\b\b\b\r",
        "50304/60000 [========================>.....] - ETA: 1s - loss: 0.2488 - acc: 0.9254"
       ]
      },
      {
       "output_type": "stream",
       "stream": "stdout",
       "text": [
        "\b\b\b\b\b\b\b\b\b\b\b\b\b\b\b\b\b\b\b\b\b\b\b\b\b\b\b\b\b\b\b\b\b\b\b\b\b\b\b\b\b\b\b\b\b\b\b\b\b\b\b\b\b\b\b\b\b\b\b\b\b\b\b\b\b\b\b\b\b\b\b\b\b\b\b\b\b\b\b\b\b\b\b\r",
        "50432/60000 [========================>.....] - ETA: 1s - loss: 0.2486 - acc: 0.9255"
       ]
      },
      {
       "output_type": "stream",
       "stream": "stdout",
       "text": [
        "\b\b\b\b\b\b\b\b\b\b\b\b\b\b\b\b\b\b\b\b\b\b\b\b\b\b\b\b\b\b\b\b\b\b\b\b\b\b\b\b\b\b\b\b\b\b\b\b\b\b\b\b\b\b\b\b\b\b\b\b\b\b\b\b\b\b\b\b\b\b\b\b\b\b\b\b\b\b\b\b\b\b\b\r",
        "50560/60000 [========================>.....] - ETA: 1s - loss: 0.2484 - acc: 0.9256"
       ]
      },
      {
       "output_type": "stream",
       "stream": "stdout",
       "text": [
        "\b\b\b\b\b\b\b\b\b\b\b\b\b\b\b\b\b\b\b\b\b\b\b\b\b\b\b\b\b\b\b\b\b\b\b\b\b\b\b\b\b\b\b\b\b\b\b\b\b\b\b\b\b\b\b\b\b\b\b\b\b\b\b\b\b\b\b\b\b\b\b\b\b\b\b\b\b\b\b\b\b\b\b\r",
        "50688/60000 [========================>.....] - ETA: 1s - loss: 0.2486 - acc: 0.9255"
       ]
      },
      {
       "output_type": "stream",
       "stream": "stdout",
       "text": [
        "\b\b\b\b\b\b\b\b\b\b\b\b\b\b\b\b\b\b\b\b\b\b\b\b\b\b\b\b\b\b\b\b\b\b\b\b\b\b\b\b\b\b\b\b\b\b\b\b\b\b\b\b\b\b\b\b\b\b\b\b\b\b\b\b\b\b\b\b\b\b\b\b\b\b\b\b\b\b\b\b\b\b\b\r",
        "50816/60000 [========================>.....] - ETA: 1s - loss: 0.2483 - acc: 0.9256"
       ]
      },
      {
       "output_type": "stream",
       "stream": "stdout",
       "text": [
        "\b\b\b\b\b\b\b\b\b\b\b\b\b\b\b\b\b\b\b\b\b\b\b\b\b\b\b\b\b\b\b\b\b\b\b\b\b\b\b\b\b\b\b\b\b\b\b\b\b\b\b\b\b\b\b\b\b\b\b\b\b\b\b\b\b\b\b\b\b\b\b\b\b\b\b\b\b\b\b\b\b\b\b\r",
        "50944/60000 [========================>.....] - ETA: 1s - loss: 0.2486 - acc: 0.9255"
       ]
      },
      {
       "output_type": "stream",
       "stream": "stdout",
       "text": [
        "\b\b\b\b\b\b\b\b\b\b\b\b\b\b\b\b\b\b\b\b\b\b\b\b\b\b\b\b\b\b\b\b\b\b\b\b\b\b\b\b\b\b\b\b\b\b\b\b\b\b\b\b\b\b\b\b\b\b\b\b\b\b\b\b\b\b\b\b\b\b\b\b\b\b\b\b\b\b\b\b\b\b\b\r",
        "51072/60000 [========================>.....] - ETA: 1s - loss: 0.2485 - acc: 0.9256"
       ]
      },
      {
       "output_type": "stream",
       "stream": "stdout",
       "text": [
        "\b\b\b\b\b\b\b\b\b\b\b\b\b\b\b\b\b\b\b\b\b\b\b\b\b\b\b\b\b\b\b\b\b\b\b\b\b\b\b\b\b\b\b\b\b\b\b\b\b\b\b\b\b\b\b\b\b\b\b\b\b\b\b\b\b\b\b\b\b\b\b\b\b\b\b\b\b\b\b\b\b\b\b\r",
        "51200/60000 [========================>.....] - ETA: 1s - loss: 0.2485 - acc: 0.9256"
       ]
      },
      {
       "output_type": "stream",
       "stream": "stdout",
       "text": [
        "\b\b\b\b\b\b\b\b\b\b\b\b\b\b\b\b\b\b\b\b\b\b\b\b\b\b\b\b\b\b\b\b\b\b\b\b\b\b\b\b\b\b\b\b\b\b\b\b\b\b\b\b\b\b\b\b\b\b\b\b\b\b\b\b\b\b\b\b\b\b\b\b\b\b\b\b\b\b\b\b\b\b\b\r",
        "51328/60000 [========================>.....] - ETA: 1s - loss: 0.2482 - acc: 0.9257"
       ]
      },
      {
       "output_type": "stream",
       "stream": "stdout",
       "text": [
        "\b\b\b\b\b\b\b\b\b\b\b\b\b\b\b\b\b\b\b\b\b\b\b\b\b\b\b\b\b\b\b\b\b\b\b\b\b\b\b\b\b\b\b\b\b\b\b\b\b\b\b\b\b\b\b\b\b\b\b\b\b\b\b\b\b\b\b\b\b\b\b\b\b\b\b\b\b\b\b\b\b\b\b\r",
        "51456/60000 [========================>.....] - ETA: 1s - loss: 0.2481 - acc: 0.9257"
       ]
      },
      {
       "output_type": "stream",
       "stream": "stdout",
       "text": [
        "\b\b\b\b\b\b\b\b\b\b\b\b\b\b\b\b\b\b\b\b\b\b\b\b\b\b\b\b\b\b\b\b\b\b\b\b\b\b\b\b\b\b\b\b\b\b\b\b\b\b\b\b\b\b\b\b\b\b\b\b\b\b\b\b\b\b\b\b\b\b\b\b\b\b\b\b\b\b\b\b\b\b\b\r",
        "51584/60000 [========================>.....] - ETA: 1s - loss: 0.2481 - acc: 0.9258"
       ]
      },
      {
       "output_type": "stream",
       "stream": "stdout",
       "text": [
        "\b\b\b\b\b\b\b\b\b\b\b\b\b\b\b\b\b\b\b\b\b\b\b\b\b\b\b\b\b\b\b\b\b\b\b\b\b\b\b\b\b\b\b\b\b\b\b\b\b\b\b\b\b\b\b\b\b\b\b\b\b\b\b\b\b\b\b\b\b\b\b\b\b\b\b\b\b\b\b\b\b\b\b\r",
        "51712/60000 [========================>.....] - ETA: 1s - loss: 0.2478 - acc: 0.9259"
       ]
      },
      {
       "output_type": "stream",
       "stream": "stdout",
       "text": [
        "\b\b\b\b\b\b\b\b\b\b\b\b\b\b\b\b\b\b\b\b\b\b\b\b\b\b\b\b\b\b\b\b\b\b\b\b\b\b\b\b\b\b\b\b\b\b\b\b\b\b\b\b\b\b\b\b\b\b\b\b\b\b\b\b\b\b\b\b\b\b\b\b\b\b\b\b\b\b\b\b\b\b\b\r",
        "51840/60000 [========================>.....] - ETA: 1s - loss: 0.2477 - acc: 0.9259"
       ]
      },
      {
       "output_type": "stream",
       "stream": "stdout",
       "text": [
        "\b\b\b\b\b\b\b\b\b\b\b\b\b\b\b\b\b\b\b\b\b\b\b\b\b\b\b\b\b\b\b\b\b\b\b\b\b\b\b\b\b\b\b\b\b\b\b\b\b\b\b\b\b\b\b\b\b\b\b\b\b\b\b\b\b\b\b\b\b\b\b\b\b\b\b\b\b\b\b\b\b\b\b\r",
        "51968/60000 [========================>.....] - ETA: 1s - loss: 0.2475 - acc: 0.9260"
       ]
      },
      {
       "output_type": "stream",
       "stream": "stdout",
       "text": [
        "\b\b\b\b\b\b\b\b\b\b\b\b\b\b\b\b\b\b\b\b\b\b\b\b\b\b\b\b\b\b\b\b\b\b\b\b\b\b\b\b\b\b\b\b\b\b\b\b\b\b\b\b\b\b\b\b\b\b\b\b\b\b\b\b\b\b\b\b\b\b\b\b\b\b\b\b\b\b\b\b\b\b\b\r",
        "52096/60000 [=========================>....] - ETA: 1s - loss: 0.2476 - acc: 0.9260"
       ]
      },
      {
       "output_type": "stream",
       "stream": "stdout",
       "text": [
        "\b\b\b\b\b\b\b\b\b\b\b\b\b\b\b\b\b\b\b\b\b\b\b\b\b\b\b\b\b\b\b\b\b\b\b\b\b\b\b\b\b\b\b\b\b\b\b\b\b\b\b\b\b\b\b\b\b\b\b\b\b\b\b\b\b\b\b\b\b\b\b\b\b\b\b\b\b\b\b\b\b\b\b\r",
        "52224/60000 [=========================>....] - ETA: 1s - loss: 0.2474 - acc: 0.9260"
       ]
      },
      {
       "output_type": "stream",
       "stream": "stdout",
       "text": [
        "\b\b\b\b\b\b\b\b\b\b\b\b\b\b\b\b\b\b\b\b\b\b\b\b\b\b\b\b\b\b\b\b\b\b\b\b\b\b\b\b\b\b\b\b\b\b\b\b\b\b\b\b\b\b\b\b\b\b\b\b\b\b\b\b\b\b\b\b\b\b\b\b\b\b\b\b\b\b\b\b\b\b\b\r",
        "52352/60000 [=========================>....] - ETA: 1s - loss: 0.2473 - acc: 0.9260"
       ]
      },
      {
       "output_type": "stream",
       "stream": "stdout",
       "text": [
        "\b\b\b\b\b\b\b\b\b\b\b\b\b\b\b\b\b\b\b\b\b\b\b\b\b\b\b\b\b\b\b\b\b\b\b\b\b\b\b\b\b\b\b\b\b\b\b\b\b\b\b\b\b\b\b\b\b\b\b\b\b\b\b\b\b\b\b\b\b\b\b\b\b\b\b\b\b\b\b\b\b\b\b\r",
        "52480/60000 [=========================>....] - ETA: 1s - loss: 0.2474 - acc: 0.9260"
       ]
      },
      {
       "output_type": "stream",
       "stream": "stdout",
       "text": [
        "\b\b\b\b\b\b\b\b\b\b\b\b\b\b\b\b\b\b\b\b\b\b\b\b\b\b\b\b\b\b\b\b\b\b\b\b\b\b\b\b\b\b\b\b\b\b\b\b\b\b\b\b\b\b\b\b\b\b\b\b\b\b\b\b\b\b\b\b\b\b\b\b\b\b\b\b\b\b\b\b\b\b\b\r",
        "52608/60000 [=========================>....] - ETA: 1s - loss: 0.2472 - acc: 0.9261"
       ]
      },
      {
       "output_type": "stream",
       "stream": "stdout",
       "text": [
        "\b\b\b\b\b\b\b\b\b\b\b\b\b\b\b\b\b\b\b\b\b\b\b\b\b\b\b\b\b\b\b\b\b\b\b\b\b\b\b\b\b\b\b\b\b\b\b\b\b\b\b\b\b\b\b\b\b\b\b\b\b\b\b\b\b\b\b\b\b\b\b\b\b\b\b\b\b\b\b\b\b\b\b\r",
        "52736/60000 [=========================>....] - ETA: 1s - loss: 0.2470 - acc: 0.9261"
       ]
      },
      {
       "output_type": "stream",
       "stream": "stdout",
       "text": [
        "\b\b\b\b\b\b\b\b\b\b\b\b\b\b\b\b\b\b\b\b\b\b\b\b\b\b\b\b\b\b\b\b\b\b\b\b\b\b\b\b\b\b\b\b\b\b\b\b\b\b\b\b\b\b\b\b\b\b\b\b\b\b\b\b\b\b\b\b\b\b\b\b\b\b\b\b\b\b\b\b\b\b\b\r",
        "52864/60000 [=========================>....] - ETA: 1s - loss: 0.2468 - acc: 0.9262"
       ]
      },
      {
       "output_type": "stream",
       "stream": "stdout",
       "text": [
        "\b\b\b\b\b\b\b\b\b\b\b\b\b\b\b\b\b\b\b\b\b\b\b\b\b\b\b\b\b\b\b\b\b\b\b\b\b\b\b\b\b\b\b\b\b\b\b\b\b\b\b\b\b\b\b\b\b\b\b\b\b\b\b\b\b\b\b\b\b\b\b\b\b\b\b\b\b\b\b\b\b\b\b\r",
        "52992/60000 [=========================>....] - ETA: 1s - loss: 0.2469 - acc: 0.9262"
       ]
      },
      {
       "output_type": "stream",
       "stream": "stdout",
       "text": [
        "\b\b\b\b\b\b\b\b\b\b\b\b\b\b\b\b\b\b\b\b\b\b\b\b\b\b\b\b\b\b\b\b\b\b\b\b\b\b\b\b\b\b\b\b\b\b\b\b\b\b\b\b\b\b\b\b\b\b\b\b\b\b\b\b\b\b\b\b\b\b\b\b\b\b\b\b\b\b\b\b\b\b\b\r",
        "53120/60000 [=========================>....] - ETA: 1s - loss: 0.2470 - acc: 0.9261"
       ]
      },
      {
       "output_type": "stream",
       "stream": "stdout",
       "text": [
        "\b\b\b\b\b\b\b\b\b\b\b\b\b\b\b\b\b\b\b\b\b\b\b\b\b\b\b\b\b\b\b\b\b\b\b\b\b\b\b\b\b\b\b\b\b\b\b\b\b\b\b\b\b\b\b\b\b\b\b\b\b\b\b\b\b\b\b\b\b\b\b\b\b\b\b\b\b\b\b\b\b\b\b\r",
        "53248/60000 [=========================>....] - ETA: 1s - loss: 0.2472 - acc: 0.9261"
       ]
      },
      {
       "output_type": "stream",
       "stream": "stdout",
       "text": [
        "\b\b\b\b\b\b\b\b\b\b\b\b\b\b\b\b\b\b\b\b\b\b\b\b\b\b\b\b\b\b\b\b\b\b\b\b\b\b\b\b\b\b\b\b\b\b\b\b\b\b\b\b\b\b\b\b\b\b\b\b\b\b\b\b\b\b\b\b\b\b\b\b\b\b\b\b\b\b\b\b\b\b\b\r",
        "53376/60000 [=========================>....] - ETA: 1s - loss: 0.2471 - acc: 0.9261"
       ]
      },
      {
       "output_type": "stream",
       "stream": "stdout",
       "text": [
        "\b\b\b\b\b\b\b\b\b\b\b\b\b\b\b\b\b\b\b\b\b\b\b\b\b\b\b\b\b\b\b\b\b\b\b\b\b\b\b\b\b\b\b\b\b\b\b\b\b\b\b\b\b\b\b\b\b\b\b\b\b\b\b\b\b\b\b\b\b\b\b\b\b\b\b\b\b\b\b\b\b\b\b\r",
        "53504/60000 [=========================>....] - ETA: 1s - loss: 0.2469 - acc: 0.9262"
       ]
      },
      {
       "output_type": "stream",
       "stream": "stdout",
       "text": [
        "\b\b\b\b\b\b\b\b\b\b\b\b\b\b\b\b\b\b\b\b\b\b\b\b\b\b\b\b\b\b\b\b\b\b\b\b\b\b\b\b\b\b\b\b\b\b\b\b\b\b\b\b\b\b\b\b\b\b\b\b\b\b\b\b\b\b\b\b\b\b\b\b\b\b\b\b\b\b\b\b\b\b\b\r",
        "53632/60000 [=========================>....] - ETA: 1s - loss: 0.2467 - acc: 0.9263"
       ]
      },
      {
       "output_type": "stream",
       "stream": "stdout",
       "text": [
        "\b\b\b\b\b\b\b\b\b\b\b\b\b\b\b\b\b\b\b\b\b\b\b\b\b\b\b\b\b\b\b\b\b\b\b\b\b\b\b\b\b\b\b\b\b\b\b\b\b\b\b\b\b\b\b\b\b\b\b\b\b\b\b\b\b\b\b\b\b\b\b\b\b\b\b\b\b\b\b\b\b\b\b\r",
        "53760/60000 [=========================>....] - ETA: 1s - loss: 0.2467 - acc: 0.9262"
       ]
      },
      {
       "output_type": "stream",
       "stream": "stdout",
       "text": [
        "\b\b\b\b\b\b\b\b\b\b\b\b\b\b\b\b\b\b\b\b\b\b\b\b\b\b\b\b\b\b\b\b\b\b\b\b\b\b\b\b\b\b\b\b\b\b\b\b\b\b\b\b\b\b\b\b\b\b\b\b\b\b\b\b\b\b\b\b\b\b\b\b\b\b\b\b\b\b\b\b\b\b\b\r",
        "53888/60000 [=========================>....] - ETA: 1s - loss: 0.2471 - acc: 0.9262"
       ]
      },
      {
       "output_type": "stream",
       "stream": "stdout",
       "text": [
        "\b\b\b\b\b\b\b\b\b\b\b\b\b\b\b\b\b\b\b\b\b\b\b\b\b\b\b\b\b\b\b\b\b\b\b\b\b\b\b\b\b\b\b\b\b\b\b\b\b\b\b\b\b\b\b\b\b\b\b\b\b\b\b\b\b\b\b\b\b\b\b\b\b\b\b\b\b\b\b\b\b\b\b\r",
        "54016/60000 [==========================>...] - ETA: 1s - loss: 0.2476 - acc: 0.9261"
       ]
      },
      {
       "output_type": "stream",
       "stream": "stdout",
       "text": [
        "\b\b\b\b\b\b\b\b\b\b\b\b\b\b\b\b\b\b\b\b\b\b\b\b\b\b\b\b\b\b\b\b\b\b\b\b\b\b\b\b\b\b\b\b\b\b\b\b\b\b\b\b\b\b\b\b\b\b\b\b\b\b\b\b\b\b\b\b\b\b\b\b\b\b\b\b\b\b\b\b\b\b\b\r",
        "54144/60000 [==========================>...] - ETA: 1s - loss: 0.2474 - acc: 0.9261"
       ]
      },
      {
       "output_type": "stream",
       "stream": "stdout",
       "text": [
        "\b\b\b\b\b\b\b\b\b\b\b\b\b\b\b\b\b\b\b\b\b\b\b\b\b\b\b\b\b\b\b\b\b\b\b\b\b\b\b\b\b\b\b\b\b\b\b\b\b\b\b\b\b\b\b\b\b\b\b\b\b\b\b\b\b\b\b\b\b\b\b\b\b\b\b\b\b\b\b\b\b\b\b\r",
        "54272/60000 [==========================>...] - ETA: 1s - loss: 0.2471 - acc: 0.9262"
       ]
      },
      {
       "output_type": "stream",
       "stream": "stdout",
       "text": [
        "\b\b\b\b\b\b\b\b\b\b\b\b\b\b\b\b\b\b\b\b\b\b\b\b\b\b\b\b\b\b\b\b\b\b\b\b\b\b\b\b\b\b\b\b\b\b\b\b\b\b\b\b\b\b\b\b\b\b\b\b\b\b\b\b\b\b\b\b\b\b\b\b\b\b\b\b\b\b\b\b\b\b\b\r",
        "54400/60000 [==========================>...] - ETA: 1s - loss: 0.2472 - acc: 0.9262"
       ]
      },
      {
       "output_type": "stream",
       "stream": "stdout",
       "text": [
        "\b\b\b\b\b\b\b\b\b\b\b\b\b\b\b\b\b\b\b\b\b\b\b\b\b\b\b\b\b\b\b\b\b\b\b\b\b\b\b\b\b\b\b\b\b\b\b\b\b\b\b\b\b\b\b\b\b\b\b\b\b\b\b\b\b\b\b\b\b\b\b\b\b\b\b\b\b\b\b\b\b\b\b\r",
        "54528/60000 [==========================>...] - ETA: 1s - loss: 0.2472 - acc: 0.9263"
       ]
      },
      {
       "output_type": "stream",
       "stream": "stdout",
       "text": [
        "\b\b\b\b\b\b\b\b\b\b\b\b\b\b\b\b\b\b\b\b\b\b\b\b\b\b\b\b\b\b\b\b\b\b\b\b\b\b\b\b\b\b\b\b\b\b\b\b\b\b\b\b\b\b\b\b\b\b\b\b\b\b\b\b\b\b\b\b\b\b\b\b\b\b\b\b\b\b\b\b\b\b\b\r",
        "54656/60000 [==========================>...] - ETA: 1s - loss: 0.2473 - acc: 0.9262"
       ]
      },
      {
       "output_type": "stream",
       "stream": "stdout",
       "text": [
        "\b\b\b\b\b\b\b\b\b\b\b\b\b\b\b\b\b\b\b\b\b\b\b\b\b\b\b\b\b\b\b\b\b\b\b\b\b\b\b\b\b\b\b\b\b\b\b\b\b\b\b\b\b\b\b\b\b\b\b\b\b\b\b\b\b\b\b\b\b\b\b\b\b\b\b\b\b\b\b\b\b\b\b\r",
        "54784/60000 [==========================>...] - ETA: 1s - loss: 0.2472 - acc: 0.9263"
       ]
      },
      {
       "output_type": "stream",
       "stream": "stdout",
       "text": [
        "\b\b\b\b\b\b\b\b\b\b\b\b\b\b\b\b\b\b\b\b\b\b\b\b\b\b\b\b\b\b\b\b\b\b\b\b\b\b\b\b\b\b\b\b\b\b\b\b\b\b\b\b\b\b\b\b\b\b\b\b\b\b\b\b\b\b\b\b\b\b\b\b\b\b\b\b\b\b\b\b\b\b\b\r",
        "54912/60000 [==========================>...] - ETA: 1s - loss: 0.2473 - acc: 0.9262"
       ]
      },
      {
       "output_type": "stream",
       "stream": "stdout",
       "text": [
        "\b\b\b\b\b\b\b\b\b\b\b\b\b\b\b\b\b\b\b\b\b\b\b\b\b\b\b\b\b\b\b\b\b\b\b\b\b\b\b\b\b\b\b\b\b\b\b\b\b\b\b\b\b\b\b\b\b\b\b\b\b\b\b\b\b\b\b\b\b\b\b\b\b\b\b\b\b\b\b\b\b\b\b\r",
        "55040/60000 [==========================>...] - ETA: 0s - loss: 0.2473 - acc: 0.9262"
       ]
      },
      {
       "output_type": "stream",
       "stream": "stdout",
       "text": [
        "\b\b\b\b\b\b\b\b\b\b\b\b\b\b\b\b\b\b\b\b\b\b\b\b\b\b\b\b\b\b\b\b\b\b\b\b\b\b\b\b\b\b\b\b\b\b\b\b\b\b\b\b\b\b\b\b\b\b\b\b\b\b\b\b\b\b\b\b\b\b\b\b\b\b\b\b\b\b\b\b\b\b\b\r",
        "55168/60000 [==========================>...] - ETA: 0s - loss: 0.2472 - acc: 0.9262"
       ]
      },
      {
       "output_type": "stream",
       "stream": "stdout",
       "text": [
        "\b\b\b\b\b\b\b\b\b\b\b\b\b\b\b\b\b\b\b\b\b\b\b\b\b\b\b\b\b\b\b\b\b\b\b\b\b\b\b\b\b\b\b\b\b\b\b\b\b\b\b\b\b\b\b\b\b\b\b\b\b\b\b\b\b\b\b\b\b\b\b\b\b\b\b\b\b\b\b\b\b\b\b\r",
        "55296/60000 [==========================>...] - ETA: 0s - loss: 0.2470 - acc: 0.9263"
       ]
      },
      {
       "output_type": "stream",
       "stream": "stdout",
       "text": [
        "\b\b\b\b\b\b\b\b\b\b\b\b\b\b\b\b\b\b\b\b\b\b\b\b\b\b\b\b\b\b\b\b\b\b\b\b\b\b\b\b\b\b\b\b\b\b\b\b\b\b\b\b\b\b\b\b\b\b\b\b\b\b\b\b\b\b\b\b\b\b\b\b\b\b\b\b\b\b\b\b\b\b\b\r",
        "55424/60000 [==========================>...] - ETA: 0s - loss: 0.2470 - acc: 0.9263"
       ]
      },
      {
       "output_type": "stream",
       "stream": "stdout",
       "text": [
        "\b\b\b\b\b\b\b\b\b\b\b\b\b\b\b\b\b\b\b\b\b\b\b\b\b\b\b\b\b\b\b\b\b\b\b\b\b\b\b\b\b\b\b\b\b\b\b\b\b\b\b\b\b\b\b\b\b\b\b\b\b\b\b\b\b\b\b\b\b\b\b\b\b\b\b\b\b\b\b\b\b\b\b\r",
        "55552/60000 [==========================>...] - ETA: 0s - loss: 0.2469 - acc: 0.9264"
       ]
      },
      {
       "output_type": "stream",
       "stream": "stdout",
       "text": [
        "\b\b\b\b\b\b\b\b\b\b\b\b\b\b\b\b\b\b\b\b\b\b\b\b\b\b\b\b\b\b\b\b\b\b\b\b\b\b\b\b\b\b\b\b\b\b\b\b\b\b\b\b\b\b\b\b\b\b\b\b\b\b\b\b\b\b\b\b\b\b\b\b\b\b\b\b\b\b\b\b\b\b\b\r",
        "55680/60000 [==========================>...] - ETA: 0s - loss: 0.2468 - acc: 0.9264"
       ]
      },
      {
       "output_type": "stream",
       "stream": "stdout",
       "text": [
        "\b\b\b\b\b\b\b\b\b\b\b\b\b\b\b\b\b\b\b\b\b\b\b\b\b\b\b\b\b\b\b\b\b\b\b\b\b\b\b\b\b\b\b\b\b\b\b\b\b\b\b\b\b\b\b\b\b\b\b\b\b\b\b\b\b\b\b\b\b\b\b\b\b\b\b\b\b\b\b\b\b\b\b\r",
        "55808/60000 [==========================>...] - ETA: 0s - loss: 0.2470 - acc: 0.9264"
       ]
      },
      {
       "output_type": "stream",
       "stream": "stdout",
       "text": [
        "\b\b\b\b\b\b\b\b\b\b\b\b\b\b\b\b\b\b\b\b\b\b\b\b\b\b\b\b\b\b\b\b\b\b\b\b\b\b\b\b\b\b\b\b\b\b\b\b\b\b\b\b\b\b\b\b\b\b\b\b\b\b\b\b\b\b\b\b\b\b\b\b\b\b\b\b\b\b\b\b\b\b\b\r",
        "55936/60000 [==========================>...] - ETA: 0s - loss: 0.2470 - acc: 0.9264"
       ]
      },
      {
       "output_type": "stream",
       "stream": "stdout",
       "text": [
        "\b\b\b\b\b\b\b\b\b\b\b\b\b\b\b\b\b\b\b\b\b\b\b\b\b\b\b\b\b\b\b\b\b\b\b\b\b\b\b\b\b\b\b\b\b\b\b\b\b\b\b\b\b\b\b\b\b\b\b\b\b\b\b\b\b\b\b\b\b\b\b\b\b\b\b\b\b\b\b\b\b\b\b\r",
        "56064/60000 [===========================>..] - ETA: 0s - loss: 0.2470 - acc: 0.9263"
       ]
      },
      {
       "output_type": "stream",
       "stream": "stdout",
       "text": [
        "\b\b\b\b\b\b\b\b\b\b\b\b\b\b\b\b\b\b\b\b\b\b\b\b\b\b\b\b\b\b\b\b\b\b\b\b\b\b\b\b\b\b\b\b\b\b\b\b\b\b\b\b\b\b\b\b\b\b\b\b\b\b\b\b\b\b\b\b\b\b\b\b\b\b\b\b\b\b\b\b\b\b\b\r",
        "56192/60000 [===========================>..] - ETA: 0s - loss: 0.2471 - acc: 0.9263"
       ]
      },
      {
       "output_type": "stream",
       "stream": "stdout",
       "text": [
        "\b\b\b\b\b\b\b\b\b\b\b\b\b\b\b\b\b\b\b\b\b\b\b\b\b\b\b\b\b\b\b\b\b\b\b\b\b\b\b\b\b\b\b\b\b\b\b\b\b\b\b\b\b\b\b\b\b\b\b\b\b\b\b\b\b\b\b\b\b\b\b\b\b\b\b\b\b\b\b\b\b\b\b\r",
        "56320/60000 [===========================>..] - ETA: 0s - loss: 0.2469 - acc: 0.9263"
       ]
      },
      {
       "output_type": "stream",
       "stream": "stdout",
       "text": [
        "\b\b\b\b\b\b\b\b\b\b\b\b\b\b\b\b\b\b\b\b\b\b\b\b\b\b\b\b\b\b\b\b\b\b\b\b\b\b\b\b\b\b\b\b\b\b\b\b\b\b\b\b\b\b\b\b\b\b\b\b\b\b\b\b\b\b\b\b\b\b\b\b\b\b\b\b\b\b\b\b\b\b\b\r",
        "56448/60000 [===========================>..] - ETA: 0s - loss: 0.2467 - acc: 0.9264"
       ]
      },
      {
       "output_type": "stream",
       "stream": "stdout",
       "text": [
        "\b\b\b\b\b\b\b\b\b\b\b\b\b\b\b\b\b\b\b\b\b\b\b\b\b\b\b\b\b\b\b\b\b\b\b\b\b\b\b\b\b\b\b\b\b\b\b\b\b\b\b\b\b\b\b\b\b\b\b\b\b\b\b\b\b\b\b\b\b\b\b\b\b\b\b\b\b\b\b\b\b\b\b\r",
        "56576/60000 [===========================>..] - ETA: 0s - loss: 0.2464 - acc: 0.9265"
       ]
      },
      {
       "output_type": "stream",
       "stream": "stdout",
       "text": [
        "\b\b\b\b\b\b\b\b\b\b\b\b\b\b\b\b\b\b\b\b\b\b\b\b\b\b\b\b\b\b\b\b\b\b\b\b\b\b\b\b\b\b\b\b\b\b\b\b\b\b\b\b\b\b\b\b\b\b\b\b\b\b\b\b\b\b\b\b\b\b\b\b\b\b\b\b\b\b\b\b\b\b\b\r",
        "56704/60000 [===========================>..] - ETA: 0s - loss: 0.2465 - acc: 0.9265"
       ]
      },
      {
       "output_type": "stream",
       "stream": "stdout",
       "text": [
        "\b\b\b\b\b\b\b\b\b\b\b\b\b\b\b\b\b\b\b\b\b\b\b\b\b\b\b\b\b\b\b\b\b\b\b\b\b\b\b\b\b\b\b\b\b\b\b\b\b\b\b\b\b\b\b\b\b\b\b\b\b\b\b\b\b\b\b\b\b\b\b\b\b\b\b\b\b\b\b\b\b\b\b\r",
        "56832/60000 [===========================>..] - ETA: 0s - loss: 0.2462 - acc: 0.9266"
       ]
      },
      {
       "output_type": "stream",
       "stream": "stdout",
       "text": [
        "\b\b\b\b\b\b\b\b\b\b\b\b\b\b\b\b\b\b\b\b\b\b\b\b\b\b\b\b\b\b\b\b\b\b\b\b\b\b\b\b\b\b\b\b\b\b\b\b\b\b\b\b\b\b\b\b\b\b\b\b\b\b\b\b\b\b\b\b\b\b\b\b\b\b\b\b\b\b\b\b\b\b\b\r",
        "56960/60000 [===========================>..] - ETA: 0s - loss: 0.2463 - acc: 0.9266"
       ]
      },
      {
       "output_type": "stream",
       "stream": "stdout",
       "text": [
        "\b\b\b\b\b\b\b\b\b\b\b\b\b\b\b\b\b\b\b\b\b\b\b\b\b\b\b\b\b\b\b\b\b\b\b\b\b\b\b\b\b\b\b\b\b\b\b\b\b\b\b\b\b\b\b\b\b\b\b\b\b\b\b\b\b\b\b\b\b\b\b\b\b\b\b\b\b\b\b\b\b\b\b\r",
        "57088/60000 [===========================>..] - ETA: 0s - loss: 0.2461 - acc: 0.9267"
       ]
      },
      {
       "output_type": "stream",
       "stream": "stdout",
       "text": [
        "\b\b\b\b\b\b\b\b\b\b\b\b\b\b\b\b\b\b\b\b\b\b\b\b\b\b\b\b\b\b\b\b\b\b\b\b\b\b\b\b\b\b\b\b\b\b\b\b\b\b\b\b\b\b\b\b\b\b\b\b\b\b\b\b\b\b\b\b\b\b\b\b\b\b\b\b\b\b\b\b\b\b\b\r",
        "57216/60000 [===========================>..] - ETA: 0s - loss: 0.2461 - acc: 0.9266"
       ]
      },
      {
       "output_type": "stream",
       "stream": "stdout",
       "text": [
        "\b\b\b\b\b\b\b\b\b\b\b\b\b\b\b\b\b\b\b\b\b\b\b\b\b\b\b\b\b\b\b\b\b\b\b\b\b\b\b\b\b\b\b\b\b\b\b\b\b\b\b\b\b\b\b\b\b\b\b\b\b\b\b\b\b\b\b\b\b\b\b\b\b\b\b\b\b\b\b\b\b\b\b\r",
        "57344/60000 [===========================>..] - ETA: 0s - loss: 0.2462 - acc: 0.9266"
       ]
      },
      {
       "output_type": "stream",
       "stream": "stdout",
       "text": [
        "\b\b\b\b\b\b\b\b\b\b\b\b\b\b\b\b\b\b\b\b\b\b\b\b\b\b\b\b\b\b\b\b\b\b\b\b\b\b\b\b\b\b\b\b\b\b\b\b\b\b\b\b\b\b\b\b\b\b\b\b\b\b\b\b\b\b\b\b\b\b\b\b\b\b\b\b\b\b\b\b\b\b\b\r",
        "57472/60000 [===========================>..] - ETA: 0s - loss: 0.2461 - acc: 0.9266"
       ]
      },
      {
       "output_type": "stream",
       "stream": "stdout",
       "text": [
        "\b\b\b\b\b\b\b\b\b\b\b\b\b\b\b\b\b\b\b\b\b\b\b\b\b\b\b\b\b\b\b\b\b\b\b\b\b\b\b\b\b\b\b\b\b\b\b\b\b\b\b\b\b\b\b\b\b\b\b\b\b\b\b\b\b\b\b\b\b\b\b\b\b\b\b\b\b\b\b\b\b\b\b\r",
        "57600/60000 [===========================>..] - ETA: 0s - loss: 0.2460 - acc: 0.9267"
       ]
      },
      {
       "output_type": "stream",
       "stream": "stdout",
       "text": [
        "\b\b\b\b\b\b\b\b\b\b\b\b\b\b\b\b\b\b\b\b\b\b\b\b\b\b\b\b\b\b\b\b\b\b\b\b\b\b\b\b\b\b\b\b\b\b\b\b\b\b\b\b\b\b\b\b\b\b\b\b\b\b\b\b\b\b\b\b\b\b\b\b\b\b\b\b\b\b\b\b\b\b\b\r",
        "57728/60000 [===========================>..] - ETA: 0s - loss: 0.2458 - acc: 0.9267"
       ]
      },
      {
       "output_type": "stream",
       "stream": "stdout",
       "text": [
        "\b\b\b\b\b\b\b\b\b\b\b\b\b\b\b\b\b\b\b\b\b\b\b\b\b\b\b\b\b\b\b\b\b\b\b\b\b\b\b\b\b\b\b\b\b\b\b\b\b\b\b\b\b\b\b\b\b\b\b\b\b\b\b\b\b\b\b\b\b\b\b\b\b\b\b\b\b\b\b\b\b\b\b\r",
        "57856/60000 [===========================>..] - ETA: 0s - loss: 0.2459 - acc: 0.9267"
       ]
      },
      {
       "output_type": "stream",
       "stream": "stdout",
       "text": [
        "\b\b\b\b\b\b\b\b\b\b\b\b\b\b\b\b\b\b\b\b\b\b\b\b\b\b\b\b\b\b\b\b\b\b\b\b\b\b\b\b\b\b\b\b\b\b\b\b\b\b\b\b\b\b\b\b\b\b\b\b\b\b\b\b\b\b\b\b\b\b\b\b\b\b\b\b\b\b\b\b\b\b\b\r",
        "57984/60000 [===========================>..] - ETA: 0s - loss: 0.2457 - acc: 0.9268"
       ]
      },
      {
       "output_type": "stream",
       "stream": "stdout",
       "text": [
        "\b\b\b\b\b\b\b\b\b\b\b\b\b\b\b\b\b\b\b\b\b\b\b\b\b\b\b\b\b\b\b\b\b\b\b\b\b\b\b\b\b\b\b\b\b\b\b\b\b\b\b\b\b\b\b\b\b\b\b\b\b\b\b\b\b\b\b\b\b\b\b\b\b\b\b\b\b\b\b\b\b\b\b\r",
        "58112/60000 [============================>.] - ETA: 0s - loss: 0.2456 - acc: 0.9269"
       ]
      },
      {
       "output_type": "stream",
       "stream": "stdout",
       "text": [
        "\b\b\b\b\b\b\b\b\b\b\b\b\b\b\b\b\b\b\b\b\b\b\b\b\b\b\b\b\b\b\b\b\b\b\b\b\b\b\b\b\b\b\b\b\b\b\b\b\b\b\b\b\b\b\b\b\b\b\b\b\b\b\b\b\b\b\b\b\b\b\b\b\b\b\b\b\b\b\b\b\b\b\b\r",
        "58240/60000 [============================>.] - ETA: 0s - loss: 0.2455 - acc: 0.9269"
       ]
      },
      {
       "output_type": "stream",
       "stream": "stdout",
       "text": [
        "\b\b\b\b\b\b\b\b\b\b\b\b\b\b\b\b\b\b\b\b\b\b\b\b\b\b\b\b\b\b\b\b\b\b\b\b\b\b\b\b\b\b\b\b\b\b\b\b\b\b\b\b\b\b\b\b\b\b\b\b\b\b\b\b\b\b\b\b\b\b\b\b\b\b\b\b\b\b\b\b\b\b\b\r",
        "58368/60000 [============================>.] - ETA: 0s - loss: 0.2457 - acc: 0.9269"
       ]
      },
      {
       "output_type": "stream",
       "stream": "stdout",
       "text": [
        "\b\b\b\b\b\b\b\b\b\b\b\b\b\b\b\b\b\b\b\b\b\b\b\b\b\b\b\b\b\b\b\b\b\b\b\b\b\b\b\b\b\b\b\b\b\b\b\b\b\b\b\b\b\b\b\b\b\b\b\b\b\b\b\b\b\b\b\b\b\b\b\b\b\b\b\b\b\b\b\b\b\b\b\r",
        "58496/60000 [============================>.] - ETA: 0s - loss: 0.2455 - acc: 0.9269"
       ]
      },
      {
       "output_type": "stream",
       "stream": "stdout",
       "text": [
        "\b\b\b\b\b\b\b\b\b\b\b\b\b\b\b\b\b\b\b\b\b\b\b\b\b\b\b\b\b\b\b\b\b\b\b\b\b\b\b\b\b\b\b\b\b\b\b\b\b\b\b\b\b\b\b\b\b\b\b\b\b\b\b\b\b\b\b\b\b\b\b\b\b\b\b\b\b\b\b\b\b\b\b\r",
        "58624/60000 [============================>.] - ETA: 0s - loss: 0.2453 - acc: 0.9270"
       ]
      },
      {
       "output_type": "stream",
       "stream": "stdout",
       "text": [
        "\b\b\b\b\b\b\b\b\b\b\b\b\b\b\b\b\b\b\b\b\b\b\b\b\b\b\b\b\b\b\b\b\b\b\b\b\b\b\b\b\b\b\b\b\b\b\b\b\b\b\b\b\b\b\b\b\b\b\b\b\b\b\b\b\b\b\b\b\b\b\b\b\b\b\b\b\b\b\b\b\b\b\b\r",
        "58752/60000 [============================>.] - ETA: 0s - loss: 0.2452 - acc: 0.9270"
       ]
      },
      {
       "output_type": "stream",
       "stream": "stdout",
       "text": [
        "\b\b\b\b\b\b\b\b\b\b\b\b\b\b\b\b\b\b\b\b\b\b\b\b\b\b\b\b\b\b\b\b\b\b\b\b\b\b\b\b\b\b\b\b\b\b\b\b\b\b\b\b\b\b\b\b\b\b\b\b\b\b\b\b\b\b\b\b\b\b\b\b\b\b\b\b\b\b\b\b\b\b\b\r",
        "58880/60000 [============================>.] - ETA: 0s - loss: 0.2451 - acc: 0.9270"
       ]
      },
      {
       "output_type": "stream",
       "stream": "stdout",
       "text": [
        "\b\b\b\b\b\b\b\b\b\b\b\b\b\b\b\b\b\b\b\b\b\b\b\b\b\b\b\b\b\b\b\b\b\b\b\b\b\b\b\b\b\b\b\b\b\b\b\b\b\b\b\b\b\b\b\b\b\b\b\b\b\b\b\b\b\b\b\b\b\b\b\b\b\b\b\b\b\b\b\b\b\b\b\r",
        "59008/60000 [============================>.] - ETA: 0s - loss: 0.2450 - acc: 0.9270"
       ]
      },
      {
       "output_type": "stream",
       "stream": "stdout",
       "text": [
        "\b\b\b\b\b\b\b\b\b\b\b\b\b\b\b\b\b\b\b\b\b\b\b\b\b\b\b\b\b\b\b\b\b\b\b\b\b\b\b\b\b\b\b\b\b\b\b\b\b\b\b\b\b\b\b\b\b\b\b\b\b\b\b\b\b\b\b\b\b\b\b\b\b\b\b\b\b\b\b\b\b\b\b\r",
        "59136/60000 [============================>.] - ETA: 0s - loss: 0.2449 - acc: 0.9271"
       ]
      },
      {
       "output_type": "stream",
       "stream": "stdout",
       "text": [
        "\b\b\b\b\b\b\b\b\b\b\b\b\b\b\b\b\b\b\b\b\b\b\b\b\b\b\b\b\b\b\b\b\b\b\b\b\b\b\b\b\b\b\b\b\b\b\b\b\b\b\b\b\b\b\b\b\b\b\b\b\b\b\b\b\b\b\b\b\b\b\b\b\b\b\b\b\b\b\b\b\b\b\b\r",
        "59264/60000 [============================>.] - ETA: 0s - loss: 0.2448 - acc: 0.9271"
       ]
      },
      {
       "output_type": "stream",
       "stream": "stdout",
       "text": [
        "\b\b\b\b\b\b\b\b\b\b\b\b\b\b\b\b\b\b\b\b\b\b\b\b\b\b\b\b\b\b\b\b\b\b\b\b\b\b\b\b\b\b\b\b\b\b\b\b\b\b\b\b\b\b\b\b\b\b\b\b\b\b\b\b\b\b\b\b\b\b\b\b\b\b\b\b\b\b\b\b\b\b\b\r",
        "59392/60000 [============================>.] - ETA: 0s - loss: 0.2448 - acc: 0.9272"
       ]
      },
      {
       "output_type": "stream",
       "stream": "stdout",
       "text": [
        "\b\b\b\b\b\b\b\b\b\b\b\b\b\b\b\b\b\b\b\b\b\b\b\b\b\b\b\b\b\b\b\b\b\b\b\b\b\b\b\b\b\b\b\b\b\b\b\b\b\b\b\b\b\b\b\b\b\b\b\b\b\b\b\b\b\b\b\b\b\b\b\b\b\b\b\b\b\b\b\b\b\b\b\r",
        "59520/60000 [============================>.] - ETA: 0s - loss: 0.2446 - acc: 0.9273"
       ]
      },
      {
       "output_type": "stream",
       "stream": "stdout",
       "text": [
        "\b\b\b\b\b\b\b\b\b\b\b\b\b\b\b\b\b\b\b\b\b\b\b\b\b\b\b\b\b\b\b\b\b\b\b\b\b\b\b\b\b\b\b\b\b\b\b\b\b\b\b\b\b\b\b\b\b\b\b\b\b\b\b\b\b\b\b\b\b\b\b\b\b\b\b\b\b\b\b\b\b\b\b\r",
        "59648/60000 [============================>.] - ETA: 0s - loss: 0.2444 - acc: 0.9273"
       ]
      },
      {
       "output_type": "stream",
       "stream": "stdout",
       "text": [
        "\b\b\b\b\b\b\b\b\b\b\b\b\b\b\b\b\b\b\b\b\b\b\b\b\b\b\b\b\b\b\b\b\b\b\b\b\b\b\b\b\b\b\b\b\b\b\b\b\b\b\b\b\b\b\b\b\b\b\b\b\b\b\b\b\b\b\b\b\b\b\b\b\b\b\b\b\b\b\b\b\b\b\b\r",
        "59776/60000 [============================>.] - ETA: 0s - loss: 0.2444 - acc: 0.9273"
       ]
      },
      {
       "output_type": "stream",
       "stream": "stdout",
       "text": [
        "\b\b\b\b\b\b\b\b\b\b\b\b\b\b\b\b\b\b\b\b\b\b\b\b\b\b\b\b\b\b\b\b\b\b\b\b\b\b\b\b\b\b\b\b\b\b\b\b\b\b\b\b\b\b\b\b\b\b\b\b\b\b\b\b\b\b\b\b\b\b\b\b\b\b\b\b\b\b\b\b\b\b\b\r",
        "59904/60000 [============================>.] - ETA: 0s - loss: 0.2442 - acc: 0.9274"
       ]
      },
      {
       "output_type": "stream",
       "stream": "stdout",
       "text": [
        "\b\b\b\b\b\b\b\b\b\b\b\b\b\b\b\b\b\b\b\b\b\b\b\b\b\b\b\b\b\b\b\b\b\b\b\b\b\b\b\b\b\b\b\b\b\b\b\b\b\b\b\b\b\b\b\b\b\b\b\b\b\b\b\b\b\b\b\b\b\b\b\b\b\b\b\b\b\b\b\b\b\b\b\r",
        "60000/60000 [==============================] - 12s - loss: 0.2440 - acc: 0.9275 - val_loss: 0.1933 - val_acc: 0.9416"
       ]
      },
      {
       "output_type": "stream",
       "stream": "stdout",
       "text": [
        "\n",
        "Epoch 3/3\n",
        "\r",
        "  128/60000 [..............................] - ETA: 12s - loss: 0.1356 - acc: 0.9766"
       ]
      },
      {
       "output_type": "stream",
       "stream": "stdout",
       "text": [
        "\b\b\b\b\b\b\b\b\b\b\b\b\b\b\b\b\b\b\b\b\b\b\b\b\b\b\b\b\b\b\b\b\b\b\b\b\b\b\b\b\b\b\b\b\b\b\b\b\b\b\b\b\b\b\b\b\b\b\b\b\b\b\b\b\b\b\b\b\b\b\b\b\b\b\b\b\b\b\b\b\b\b\b\b\r",
        "  256/60000 [..............................] - ETA: 13s - loss: 0.2006 - acc: 0.9609"
       ]
      },
      {
       "output_type": "stream",
       "stream": "stdout",
       "text": [
        "\b\b\b\b\b\b\b\b\b\b\b\b\b\b\b\b\b\b\b\b\b\b\b\b\b\b\b\b\b\b\b\b\b\b\b\b\b\b\b\b\b\b\b\b\b\b\b\b\b\b\b\b\b\b\b\b\b\b\b\b\b\b\b\b\b\b\b\b\b\b\b\b\b\b\b\b\b\b\b\b\b\b\b\b\r",
        "  384/60000 [..............................] - ETA: 12s - loss: 0.2158 - acc: 0.9505"
       ]
      },
      {
       "output_type": "stream",
       "stream": "stdout",
       "text": [
        "\b\b\b\b\b\b\b\b\b\b\b\b\b\b\b\b\b\b\b\b\b\b\b\b\b\b\b\b\b\b\b\b\b\b\b\b\b\b\b\b\b\b\b\b\b\b\b\b\b\b\b\b\b\b\b\b\b\b\b\b\b\b\b\b\b\b\b\b\b\b\b\b\b\b\b\b\b\b\b\b\b\b\b\b\r",
        "  512/60000 [..............................] - ETA: 12s - loss: 0.2194 - acc: 0.9473"
       ]
      },
      {
       "output_type": "stream",
       "stream": "stdout",
       "text": [
        "\b\b\b\b\b\b\b\b\b\b\b\b\b\b\b\b\b\b\b\b\b\b\b\b\b\b\b\b\b\b\b\b\b\b\b\b\b\b\b\b\b\b\b\b\b\b\b\b\b\b\b\b\b\b\b\b\b\b\b\b\b\b\b\b\b\b\b\b\b\b\b\b\b\b\b\b\b\b\b\b\b\b\b\b\r",
        "  640/60000 [..............................] - ETA: 12s - loss: 0.2104 - acc: 0.9500"
       ]
      },
      {
       "output_type": "stream",
       "stream": "stdout",
       "text": [
        "\b\b\b\b\b\b\b\b\b\b\b\b\b\b\b\b\b\b\b\b\b\b\b\b\b\b\b\b\b\b\b\b\b\b\b\b\b\b\b\b\b\b\b\b\b\b\b\b\b\b\b\b\b\b\b\b\b\b\b\b\b\b\b\b\b\b\b\b\b\b\b\b\b\b\b\b\b\b\b\b\b\b\b\b\r",
        "  768/60000 [..............................] - ETA: 12s - loss: 0.2024 - acc: 0.9479"
       ]
      },
      {
       "output_type": "stream",
       "stream": "stdout",
       "text": [
        "\b\b\b\b\b\b\b\b\b\b\b\b\b\b\b\b\b\b\b\b\b\b\b\b\b\b\b\b\b\b\b\b\b\b\b\b\b\b\b\b\b\b\b\b\b\b\b\b\b\b\b\b\b\b\b\b\b\b\b\b\b\b\b\b\b\b\b\b\b\b\b\b\b\b\b\b\b\b\b\b\b\b\b\b\r",
        "  896/60000 [..............................] - ETA: 12s - loss: 0.2058 - acc: 0.9453"
       ]
      },
      {
       "output_type": "stream",
       "stream": "stdout",
       "text": [
        "\b\b\b\b\b\b\b\b\b\b\b\b\b\b\b\b\b\b\b\b\b\b\b\b\b\b\b\b\b\b\b\b\b\b\b\b\b\b\b\b\b\b\b\b\b\b\b\b\b\b\b\b\b\b\b\b\b\b\b\b\b\b\b\b\b\b\b\b\b\b\b\b\b\b\b\b\b\b\b\b\b\b\b\b\r",
        " 1024/60000 [..............................] - ETA: 12s - loss: 0.2016 - acc: 0.9443"
       ]
      },
      {
       "output_type": "stream",
       "stream": "stdout",
       "text": [
        "\b\b\b\b\b\b\b\b\b\b\b\b\b\b\b\b\b\b\b\b\b\b\b\b\b\b\b\b\b\b\b\b\b\b\b\b\b\b\b\b\b\b\b\b\b\b\b\b\b\b\b\b\b\b\b\b\b\b\b\b\b\b\b\b\b\b\b\b\b\b\b\b\b\b\b\b\b\b\b\b\b\b\b\b\r",
        " 1152/60000 [..............................] - ETA: 12s - loss: 0.2025 - acc: 0.9427"
       ]
      },
      {
       "output_type": "stream",
       "stream": "stdout",
       "text": [
        "\b\b\b\b\b\b\b\b\b\b\b\b\b\b\b\b\b\b\b\b\b\b\b\b\b\b\b\b\b\b\b\b\b\b\b\b\b\b\b\b\b\b\b\b\b\b\b\b\b\b\b\b\b\b\b\b\b\b\b\b\b\b\b\b\b\b\b\b\b\b\b\b\b\b\b\b\b\b\b\b\b\b\b\b\r",
        " 1280/60000 [..............................] - ETA: 11s - loss: 0.2042 - acc: 0.9398"
       ]
      },
      {
       "output_type": "stream",
       "stream": "stdout",
       "text": [
        "\b\b\b\b\b\b\b\b\b\b\b\b\b\b\b\b\b\b\b\b\b\b\b\b\b\b\b\b\b\b\b\b\b\b\b\b\b\b\b\b\b\b\b\b\b\b\b\b\b\b\b\b\b\b\b\b\b\b\b\b\b\b\b\b\b\b\b\b\b\b\b\b\b\b\b\b\b\b\b\b\b\b\b\b\r",
        " 1408/60000 [..............................] - ETA: 11s - loss: 0.1952 - acc: 0.9425"
       ]
      },
      {
       "output_type": "stream",
       "stream": "stdout",
       "text": [
        "\b\b\b\b\b\b\b\b\b\b\b\b\b\b\b\b\b\b\b\b\b\b\b\b\b\b\b\b\b\b\b\b\b\b\b\b\b\b\b\b\b\b\b\b\b\b\b\b\b\b\b\b\b\b\b\b\b\b\b\b\b\b\b\b\b\b\b\b\b\b\b\b\b\b\b\b\b\b\b\b\b\b\b\b\r",
        " 1536/60000 [..............................] - ETA: 11s - loss: 0.1947 - acc: 0.9408"
       ]
      },
      {
       "output_type": "stream",
       "stream": "stdout",
       "text": [
        "\b\b\b\b\b\b\b\b\b\b\b\b\b\b\b\b\b\b\b\b\b\b\b\b\b\b\b\b\b\b\b\b\b\b\b\b\b\b\b\b\b\b\b\b\b\b\b\b\b\b\b\b\b\b\b\b\b\b\b\b\b\b\b\b\b\b\b\b\b\b\b\b\b\b\b\b\b\b\b\b\b\b\b\b\r",
        " 1664/60000 [..............................] - ETA: 11s - loss: 0.1917 - acc: 0.9417"
       ]
      },
      {
       "output_type": "stream",
       "stream": "stdout",
       "text": [
        "\b\b\b\b\b\b\b\b\b\b\b\b\b\b\b\b\b\b\b\b\b\b\b\b\b\b\b\b\b\b\b\b\b\b\b\b\b\b\b\b\b\b\b\b\b\b\b\b\b\b\b\b\b\b\b\b\b\b\b\b\b\b\b\b\b\b\b\b\b\b\b\b\b\b\b\b\b\b\b\b\b\b\b\b\r",
        " 1792/60000 [..............................] - ETA: 11s - loss: 0.1940 - acc: 0.9420"
       ]
      },
      {
       "output_type": "stream",
       "stream": "stdout",
       "text": [
        "\b\b\b\b\b\b\b\b\b\b\b\b\b\b\b\b\b\b\b\b\b\b\b\b\b\b\b\b\b\b\b\b\b\b\b\b\b\b\b\b\b\b\b\b\b\b\b\b\b\b\b\b\b\b\b\b\b\b\b\b\b\b\b\b\b\b\b\b\b\b\b\b\b\b\b\b\b\b\b\b\b\b\b\b\r",
        " 1920/60000 [..............................] - ETA: 11s - loss: 0.1928 - acc: 0.9427"
       ]
      },
      {
       "output_type": "stream",
       "stream": "stdout",
       "text": [
        "\b\b\b\b\b\b\b\b\b\b\b\b\b\b\b\b\b\b\b\b\b\b\b\b\b\b\b\b\b\b\b\b\b\b\b\b\b\b\b\b\b\b\b\b\b\b\b\b\b\b\b\b\b\b\b\b\b\b\b\b\b\b\b\b\b\b\b\b\b\b\b\b\b\b\b\b\b\b\b\b\b\b\b\b\r",
        " 2048/60000 [>.............................] - ETA: 11s - loss: 0.1965 - acc: 0.9409"
       ]
      },
      {
       "output_type": "stream",
       "stream": "stdout",
       "text": [
        "\b\b\b\b\b\b\b\b\b\b\b\b\b\b\b\b\b\b\b\b\b\b\b\b\b\b\b\b\b\b\b\b\b\b\b\b\b\b\b\b\b\b\b\b\b\b\b\b\b\b\b\b\b\b\b\b\b\b\b\b\b\b\b\b\b\b\b\b\b\b\b\b\b\b\b\b\b\b\b\b\b\b\b\b\r",
        " 2176/60000 [>.............................] - ETA: 11s - loss: 0.1989 - acc: 0.9407"
       ]
      },
      {
       "output_type": "stream",
       "stream": "stdout",
       "text": [
        "\b\b\b\b\b\b\b\b\b\b\b\b\b\b\b\b\b\b\b\b\b\b\b\b\b\b\b\b\b\b\b\b\b\b\b\b\b\b\b\b\b\b\b\b\b\b\b\b\b\b\b\b\b\b\b\b\b\b\b\b\b\b\b\b\b\b\b\b\b\b\b\b\b\b\b\b\b\b\b\b\b\b\b\b\r",
        " 2304/60000 [>.............................] - ETA: 11s - loss: 0.1994 - acc: 0.9397"
       ]
      },
      {
       "output_type": "stream",
       "stream": "stdout",
       "text": [
        "\b\b\b\b\b\b\b\b\b\b\b\b\b\b\b\b\b\b\b\b\b\b\b\b\b\b\b\b\b\b\b\b\b\b\b\b\b\b\b\b\b\b\b\b\b\b\b\b\b\b\b\b\b\b\b\b\b\b\b\b\b\b\b\b\b\b\b\b\b\b\b\b\b\b\b\b\b\b\b\b\b\b\b\b\r",
        " 2432/60000 [>.............................] - ETA: 11s - loss: 0.1995 - acc: 0.9404"
       ]
      },
      {
       "output_type": "stream",
       "stream": "stdout",
       "text": [
        "\b\b\b\b\b\b\b\b\b\b\b\b\b\b\b\b\b\b\b\b\b\b\b\b\b\b\b\b\b\b\b\b\b\b\b\b\b\b\b\b\b\b\b\b\b\b\b\b\b\b\b\b\b\b\b\b\b\b\b\b\b\b\b\b\b\b\b\b\b\b\b\b\b\b\b\b\b\b\b\b\b\b\b\b\r",
        " 2560/60000 [>.............................] - ETA: 11s - loss: 0.1980 - acc: 0.9398"
       ]
      },
      {
       "output_type": "stream",
       "stream": "stdout",
       "text": [
        "\b\b\b\b\b\b\b\b\b\b\b\b\b\b\b\b\b\b\b\b\b\b\b\b\b\b\b\b\b\b\b\b\b\b\b\b\b\b\b\b\b\b\b\b\b\b\b\b\b\b\b\b\b\b\b\b\b\b\b\b\b\b\b\b\b\b\b\b\b\b\b\b\b\b\b\b\b\b\b\b\b\b\b\b\r",
        " 2688/60000 [>.............................] - ETA: 11s - loss: 0.2024 - acc: 0.9390"
       ]
      },
      {
       "output_type": "stream",
       "stream": "stdout",
       "text": [
        "\b\b\b\b\b\b\b\b\b\b\b\b\b\b\b\b\b\b\b\b\b\b\b\b\b\b\b\b\b\b\b\b\b\b\b\b\b\b\b\b\b\b\b\b\b\b\b\b\b\b\b\b\b\b\b\b\b\b\b\b\b\b\b\b\b\b\b\b\b\b\b\b\b\b\b\b\b\b\b\b\b\b\b\b\r",
        " 2816/60000 [>.............................] - ETA: 11s - loss: 0.2049 - acc: 0.9386"
       ]
      },
      {
       "output_type": "stream",
       "stream": "stdout",
       "text": [
        "\b\b\b\b\b\b\b\b\b\b\b\b\b\b\b\b\b\b\b\b\b\b\b\b\b\b\b\b\b\b\b\b\b\b\b\b\b\b\b\b\b\b\b\b\b\b\b\b\b\b\b\b\b\b\b\b\b\b\b\b\b\b\b\b\b\b\b\b\b\b\b\b\b\b\b\b\b\b\b\b\b\b\b\b\r",
        " 2944/60000 [>.............................] - ETA: 11s - loss: 0.2046 - acc: 0.9389"
       ]
      },
      {
       "output_type": "stream",
       "stream": "stdout",
       "text": [
        "\b\b\b\b\b\b\b\b\b\b\b\b\b\b\b\b\b\b\b\b\b\b\b\b\b\b\b\b\b\b\b\b\b\b\b\b\b\b\b\b\b\b\b\b\b\b\b\b\b\b\b\b\b\b\b\b\b\b\b\b\b\b\b\b\b\b\b\b\b\b\b\b\b\b\b\b\b\b\b\b\b\b\b\b\r",
        " 3072/60000 [>.............................] - ETA: 11s - loss: 0.2083 - acc: 0.9378"
       ]
      },
      {
       "output_type": "stream",
       "stream": "stdout",
       "text": [
        "\b\b\b\b\b\b\b\b\b\b\b\b\b\b\b\b\b\b\b\b\b\b\b\b\b\b\b\b\b\b\b\b\b\b\b\b\b\b\b\b\b\b\b\b\b\b\b\b\b\b\b\b\b\b\b\b\b\b\b\b\b\b\b\b\b\b\b\b\b\b\b\b\b\b\b\b\b\b\b\b\b\b\b\b\r",
        " 3200/60000 [>.............................] - ETA: 11s - loss: 0.2081 - acc: 0.9384"
       ]
      },
      {
       "output_type": "stream",
       "stream": "stdout",
       "text": [
        "\b\b\b\b\b\b\b\b\b\b\b\b\b\b\b\b\b\b\b\b\b\b\b\b\b\b\b\b\b\b\b\b\b\b\b\b\b\b\b\b\b\b\b\b\b\b\b\b\b\b\b\b\b\b\b\b\b\b\b\b\b\b\b\b\b\b\b\b\b\b\b\b\b\b\b\b\b\b\b\b\b\b\b\b\r",
        " 3328/60000 [>.............................] - ETA: 11s - loss: 0.2076 - acc: 0.9387"
       ]
      },
      {
       "output_type": "stream",
       "stream": "stdout",
       "text": [
        "\b\b\b\b\b\b\b\b\b\b\b\b\b\b\b\b\b\b\b\b\b\b\b\b\b\b\b\b\b\b\b\b\b\b\b\b\b\b\b\b\b\b\b\b\b\b\b\b\b\b\b\b\b\b\b\b\b\b\b\b\b\b\b\b\b\b\b\b\b\b\b\b\b\b\b\b\b\b\b\b\b\b\b\b\r",
        " 3456/60000 [>.............................] - ETA: 11s - loss: 0.2066 - acc: 0.9392"
       ]
      },
      {
       "output_type": "stream",
       "stream": "stdout",
       "text": [
        "\b\b\b\b\b\b\b\b\b\b\b\b\b\b\b\b\b\b\b\b\b\b\b\b\b\b\b\b\b\b\b\b\b\b\b\b\b\b\b\b\b\b\b\b\b\b\b\b\b\b\b\b\b\b\b\b\b\b\b\b\b\b\b\b\b\b\b\b\b\b\b\b\b\b\b\b\b\b\b\b\b\b\b\b\r",
        " 3584/60000 [>.............................] - ETA: 11s - loss: 0.2040 - acc: 0.9406"
       ]
      },
      {
       "output_type": "stream",
       "stream": "stdout",
       "text": [
        "\b\b\b\b\b\b\b\b\b\b\b\b\b\b\b\b\b\b\b\b\b\b\b\b\b\b\b\b\b\b\b\b\b\b\b\b\b\b\b\b\b\b\b\b\b\b\b\b\b\b\b\b\b\b\b\b\b\b\b\b\b\b\b\b\b\b\b\b\b\b\b\b\b\b\b\b\b\b\b\b\b\b\b\b\r",
        " 3712/60000 [>.............................] - ETA: 11s - loss: 0.2033 - acc: 0.9407"
       ]
      },
      {
       "output_type": "stream",
       "stream": "stdout",
       "text": [
        "\b\b\b\b\b\b\b\b\b\b\b\b\b\b\b\b\b\b\b\b\b\b\b\b\b\b\b\b\b\b\b\b\b\b\b\b\b\b\b\b\b\b\b\b\b\b\b\b\b\b\b\b\b\b\b\b\b\b\b\b\b\b\b\b\b\b\b\b\b\b\b\b\b\b\b\b\b\b\b\b\b\b\b\b\r",
        " 3840/60000 [>.............................] - ETA: 11s - loss: 0.2043 - acc: 0.9401"
       ]
      },
      {
       "output_type": "stream",
       "stream": "stdout",
       "text": [
        "\b\b\b\b\b\b\b\b\b\b\b\b\b\b\b\b\b\b\b\b\b\b\b\b\b\b\b\b\b\b\b\b\b\b\b\b\b\b\b\b\b\b\b\b\b\b\b\b\b\b\b\b\b\b\b\b\b\b\b\b\b\b\b\b\b\b\b\b\b\b\b\b\b\b\b\b\b\b\b\b\b\b\b\b\r",
        " 3968/60000 [>.............................] - ETA: 11s - loss: 0.2014 - acc: 0.9413"
       ]
      },
      {
       "output_type": "stream",
       "stream": "stdout",
       "text": [
        "\b\b\b\b\b\b\b\b\b\b\b\b\b\b\b\b\b\b\b\b\b\b\b\b\b\b\b\b\b\b\b\b\b\b\b\b\b\b\b\b\b\b\b\b\b\b\b\b\b\b\b\b\b\b\b\b\b\b\b\b\b\b\b\b\b\b\b\b\b\b\b\b\b\b\b\b\b\b\b\b\b\b\b\b\r",
        " 4096/60000 [=>............................] - ETA: 11s - loss: 0.1998 - acc: 0.9419"
       ]
      },
      {
       "output_type": "stream",
       "stream": "stdout",
       "text": [
        "\b\b\b\b\b\b\b\b\b\b\b\b\b\b\b\b\b\b\b\b\b\b\b\b\b\b\b\b\b\b\b\b\b\b\b\b\b\b\b\b\b\b\b\b\b\b\b\b\b\b\b\b\b\b\b\b\b\b\b\b\b\b\b\b\b\b\b\b\b\b\b\b\b\b\b\b\b\b\b\b\b\b\b\b\r",
        " 4224/60000 [=>............................] - ETA: 11s - loss: 0.1996 - acc: 0.9420"
       ]
      },
      {
       "output_type": "stream",
       "stream": "stdout",
       "text": [
        "\b\b\b\b\b\b\b\b\b\b\b\b\b\b\b\b\b\b\b\b\b\b\b\b\b\b\b\b\b\b\b\b\b\b\b\b\b\b\b\b\b\b\b\b\b\b\b\b\b\b\b\b\b\b\b\b\b\b\b\b\b\b\b\b\b\b\b\b\b\b\b\b\b\b\b\b\b\b\b\b\b\b\b\b\r",
        " 4352/60000 [=>............................] - ETA: 11s - loss: 0.2000 - acc: 0.9423"
       ]
      },
      {
       "output_type": "stream",
       "stream": "stdout",
       "text": [
        "\b\b\b\b\b\b\b\b\b\b\b\b\b\b\b\b\b\b\b\b\b\b\b\b\b\b\b\b\b\b\b\b\b\b\b\b\b\b\b\b\b\b\b\b\b\b\b\b\b\b\b\b\b\b\b\b\b\b\b\b\b\b\b\b\b\b\b\b\b\b\b\b\b\b\b\b\b\b\b\b\b\b\b\b\r",
        " 4480/60000 [=>............................] - ETA: 11s - loss: 0.1993 - acc: 0.9420"
       ]
      },
      {
       "output_type": "stream",
       "stream": "stdout",
       "text": [
        "\b\b\b\b\b\b\b\b\b\b\b\b\b\b\b\b\b\b\b\b\b\b\b\b\b\b\b\b\b\b\b\b\b\b\b\b\b\b\b\b\b\b\b\b\b\b\b\b\b\b\b\b\b\b\b\b\b\b\b\b\b\b\b\b\b\b\b\b\b\b\b\b\b\b\b\b\b\b\b\b\b\b\b\b\r",
        " 4608/60000 [=>............................] - ETA: 11s - loss: 0.1997 - acc: 0.9421"
       ]
      },
      {
       "output_type": "stream",
       "stream": "stdout",
       "text": [
        "\b\b\b\b\b\b\b\b\b\b\b\b\b\b\b\b\b\b\b\b\b\b\b\b\b\b\b\b\b\b\b\b\b\b\b\b\b\b\b\b\b\b\b\b\b\b\b\b\b\b\b\b\b\b\b\b\b\b\b\b\b\b\b\b\b\b\b\b\b\b\b\b\b\b\b\b\b\b\b\b\b\b\b\b\r",
        " 4736/60000 [=>............................] - ETA: 11s - loss: 0.1991 - acc: 0.9426"
       ]
      },
      {
       "output_type": "stream",
       "stream": "stdout",
       "text": [
        "\b\b\b\b\b\b\b\b\b\b\b\b\b\b\b\b\b\b\b\b\b\b\b\b\b\b\b\b\b\b\b\b\b\b\b\b\b\b\b\b\b\b\b\b\b\b\b\b\b\b\b\b\b\b\b\b\b\b\b\b\b\b\b\b\b\b\b\b\b\b\b\b\b\b\b\b\b\b\b\b\b\b\b\b\r",
        " 4864/60000 [=>............................] - ETA: 11s - loss: 0.2003 - acc: 0.9424"
       ]
      },
      {
       "output_type": "stream",
       "stream": "stdout",
       "text": [
        "\b\b\b\b\b\b\b\b\b\b\b\b\b\b\b\b\b\b\b\b\b\b\b\b\b\b\b\b\b\b\b\b\b\b\b\b\b\b\b\b\b\b\b\b\b\b\b\b\b\b\b\b\b\b\b\b\b\b\b\b\b\b\b\b\b\b\b\b\b\b\b\b\b\b\b\b\b\b\b\b\b\b\b\b\r",
        " 4992/60000 [=>............................] - ETA: 10s - loss: 0.1989 - acc: 0.9427"
       ]
      },
      {
       "output_type": "stream",
       "stream": "stdout",
       "text": [
        "\b\b\b\b\b\b\b\b\b\b\b\b\b\b\b\b\b\b\b\b\b\b\b\b\b\b\b\b\b\b\b\b\b\b\b\b\b\b\b\b\b\b\b\b\b\b\b\b\b\b\b\b\b\b\b\b\b\b\b\b\b\b\b\b\b\b\b\b\b\b\b\b\b\b\b\b\b\b\b\b\b\b\b\b\r",
        " 5120/60000 [=>............................] - ETA: 10s - loss: 0.1979 - acc: 0.9428"
       ]
      },
      {
       "output_type": "stream",
       "stream": "stdout",
       "text": [
        "\b\b\b\b\b\b\b\b\b\b\b\b\b\b\b\b\b\b\b\b\b\b\b\b\b\b\b\b\b\b\b\b\b\b\b\b\b\b\b\b\b\b\b\b\b\b\b\b\b\b\b\b\b\b\b\b\b\b\b\b\b\b\b\b\b\b\b\b\b\b\b\b\b\b\b\b\b\b\b\b\b\b\b\b\r",
        " 5248/60000 [=>............................] - ETA: 10s - loss: 0.1974 - acc: 0.9432"
       ]
      },
      {
       "output_type": "stream",
       "stream": "stdout",
       "text": [
        "\b\b\b\b\b\b\b\b\b\b\b\b\b\b\b\b\b\b\b\b\b\b\b\b\b\b\b\b\b\b\b\b\b\b\b\b\b\b\b\b\b\b\b\b\b\b\b\b\b\b\b\b\b\b\b\b\b\b\b\b\b\b\b\b\b\b\b\b\b\b\b\b\b\b\b\b\b\b\b\b\b\b\b\b\r",
        " 5376/60000 [=>............................] - ETA: 10s - loss: 0.1958 - acc: 0.9435"
       ]
      },
      {
       "output_type": "stream",
       "stream": "stdout",
       "text": [
        "\b\b\b\b\b\b\b\b\b\b\b\b\b\b\b\b\b\b\b\b\b\b\b\b\b\b\b\b\b\b\b\b\b\b\b\b\b\b\b\b\b\b\b\b\b\b\b\b\b\b\b\b\b\b\b\b\b\b\b\b\b\b\b\b\b\b\b\b\b\b\b\b\b\b\b\b\b\b\b\b\b\b\b\b\r",
        " 5504/60000 [=>............................] - ETA: 10s - loss: 0.1942 - acc: 0.9437"
       ]
      },
      {
       "output_type": "stream",
       "stream": "stdout",
       "text": [
        "\b\b\b\b\b\b\b\b\b\b\b\b\b\b\b\b\b\b\b\b\b\b\b\b\b\b\b\b\b\b\b\b\b\b\b\b\b\b\b\b\b\b\b\b\b\b\b\b\b\b\b\b\b\b\b\b\b\b\b\b\b\b\b\b\b\b\b\b\b\b\b\b\b\b\b\b\b\b\b\b\b\b\b\b\r",
        " 5632/60000 [=>............................] - ETA: 10s - loss: 0.1937 - acc: 0.9434"
       ]
      },
      {
       "output_type": "stream",
       "stream": "stdout",
       "text": [
        "\b\b\b\b\b\b\b\b\b\b\b\b\b\b\b\b\b\b\b\b\b\b\b\b\b\b\b\b\b\b\b\b\b\b\b\b\b\b\b\b\b\b\b\b\b\b\b\b\b\b\b\b\b\b\b\b\b\b\b\b\b\b\b\b\b\b\b\b\b\b\b\b\b\b\b\b\b\b\b\b\b\b\b\b\r",
        " 5760/60000 [=>............................] - ETA: 10s - loss: 0.1943 - acc: 0.9429"
       ]
      },
      {
       "output_type": "stream",
       "stream": "stdout",
       "text": [
        "\b\b\b\b\b\b\b\b\b\b\b\b\b\b\b\b\b\b\b\b\b\b\b\b\b\b\b\b\b\b\b\b\b\b\b\b\b\b\b\b\b\b\b\b\b\b\b\b\b\b\b\b\b\b\b\b\b\b\b\b\b\b\b\b\b\b\b\b\b\b\b\b\b\b\b\b\b\b\b\b\b\b\b\b\r",
        " 5888/60000 [=>............................] - ETA: 10s - loss: 0.1957 - acc: 0.9428"
       ]
      },
      {
       "output_type": "stream",
       "stream": "stdout",
       "text": [
        "\b\b\b\b\b\b\b\b\b\b\b\b\b\b\b\b\b\b\b\b\b\b\b\b\b\b\b\b\b\b\b\b\b\b\b\b\b\b\b\b\b\b\b\b\b\b\b\b\b\b\b\b\b\b\b\b\b\b\b\b\b\b\b\b\b\b\b\b\b\b\b\b\b\b\b\b\b\b\b\b\b\b\b\b\r",
        " 6016/60000 [==>...........................] - ETA: 10s - loss: 0.1951 - acc: 0.9427"
       ]
      },
      {
       "output_type": "stream",
       "stream": "stdout",
       "text": [
        "\b\b\b\b\b\b\b\b\b\b\b\b\b\b\b\b\b\b\b\b\b\b\b\b\b\b\b\b\b\b\b\b\b\b\b\b\b\b\b\b\b\b\b\b\b\b\b\b\b\b\b\b\b\b\b\b\b\b\b\b\b\b\b\b\b\b\b\b\b\b\b\b\b\b\b\b\b\b\b\b\b\b\b\b\r",
        " 6144/60000 [==>...........................] - ETA: 10s - loss: 0.1948 - acc: 0.9430"
       ]
      },
      {
       "output_type": "stream",
       "stream": "stdout",
       "text": [
        "\b\b\b\b\b\b\b\b\b\b\b\b\b\b\b\b\b\b\b\b\b\b\b\b\b\b\b\b\b\b\b\b\b\b\b\b\b\b\b\b\b\b\b\b\b\b\b\b\b\b\b\b\b\b\b\b\b\b\b\b\b\b\b\b\b\b\b\b\b\b\b\b\b\b\b\b\b\b\b\b\b\b\b\b\r",
        " 6272/60000 [==>...........................] - ETA: 10s - loss: 0.1961 - acc: 0.9429"
       ]
      },
      {
       "output_type": "stream",
       "stream": "stdout",
       "text": [
        "\b\b\b\b\b\b\b\b\b\b\b\b\b\b\b\b\b\b\b\b\b\b\b\b\b\b\b\b\b\b\b\b\b\b\b\b\b\b\b\b\b\b\b\b\b\b\b\b\b\b\b\b\b\b\b\b\b\b\b\b\b\b\b\b\b\b\b\b\b\b\b\b\b\b\b\b\b\b\b\b\b\b\b\b\r",
        " 6400/60000 [==>...........................] - ETA: 10s - loss: 0.1976 - acc: 0.9422"
       ]
      },
      {
       "output_type": "stream",
       "stream": "stdout",
       "text": [
        "\b\b\b\b\b\b\b\b\b\b\b\b\b\b\b\b\b\b\b\b\b\b\b\b\b\b\b\b\b\b\b\b\b\b\b\b\b\b\b\b\b\b\b\b\b\b\b\b\b\b\b\b\b\b\b\b\b\b\b\b\b\b\b\b\b\b\b\b\b\b\b\b\b\b\b\b\b\b\b\b\b\b\b\b\r",
        " 6528/60000 [==>...........................] - ETA: 10s - loss: 0.1970 - acc: 0.9424"
       ]
      },
      {
       "output_type": "stream",
       "stream": "stdout",
       "text": [
        "\b\b\b\b\b\b\b\b\b\b\b\b\b\b\b\b\b\b\b\b\b\b\b\b\b\b\b\b\b\b\b\b\b\b\b\b\b\b\b\b\b\b\b\b\b\b\b\b\b\b\b\b\b\b\b\b\b\b\b\b\b\b\b\b\b\b\b\b\b\b\b\b\b\b\b\b\b\b\b\b\b\b\b\b\r",
        " 6656/60000 [==>...........................] - ETA: 10s - loss: 0.1966 - acc: 0.9422"
       ]
      },
      {
       "output_type": "stream",
       "stream": "stdout",
       "text": [
        "\b\b\b\b\b\b\b\b\b\b\b\b\b\b\b\b\b\b\b\b\b\b\b\b\b\b\b\b\b\b\b\b\b\b\b\b\b\b\b\b\b\b\b\b\b\b\b\b\b\b\b\b\b\b\b\b\b\b\b\b\b\b\b\b\b\b\b\b\b\b\b\b\b\b\b\b\b\b\b\b\b\b\b\b\r",
        " 6784/60000 [==>...........................] - ETA: 10s - loss: 0.1957 - acc: 0.9427"
       ]
      },
      {
       "output_type": "stream",
       "stream": "stdout",
       "text": [
        "\b\b\b\b\b\b\b\b\b\b\b\b\b\b\b\b\b\b\b\b\b\b\b\b\b\b\b\b\b\b\b\b\b\b\b\b\b\b\b\b\b\b\b\b\b\b\b\b\b\b\b\b\b\b\b\b\b\b\b\b\b\b\b\b\b\b\b\b\b\b\b\b\b\b\b\b\b\b\b\b\b\b\b\b\r",
        " 6912/60000 [==>...........................] - ETA: 10s - loss: 0.1945 - acc: 0.9429"
       ]
      },
      {
       "output_type": "stream",
       "stream": "stdout",
       "text": [
        "\b\b\b\b\b\b\b\b\b\b\b\b\b\b\b\b\b\b\b\b\b\b\b\b\b\b\b\b\b\b\b\b\b\b\b\b\b\b\b\b\b\b\b\b\b\b\b\b\b\b\b\b\b\b\b\b\b\b\b\b\b\b\b\b\b\b\b\b\b\b\b\b\b\b\b\b\b\b\b\b\b\b\b\b\r",
        " 7040/60000 [==>...........................] - ETA: 10s - loss: 0.1950 - acc: 0.9426"
       ]
      },
      {
       "output_type": "stream",
       "stream": "stdout",
       "text": [
        "\b\b\b\b\b\b\b\b\b\b\b\b\b\b\b\b\b\b\b\b\b\b\b\b\b\b\b\b\b\b\b\b\b\b\b\b\b\b\b\b\b\b\b\b\b\b\b\b\b\b\b\b\b\b\b\b\b\b\b\b\b\b\b\b\b\b\b\b\b\b\b\b\b\b\b\b\b\b\b\b\b\b\b\b\r",
        " 7168/60000 [==>...........................] - ETA: 10s - loss: 0.1942 - acc: 0.9427"
       ]
      },
      {
       "output_type": "stream",
       "stream": "stdout",
       "text": [
        "\b\b\b\b\b\b\b\b\b\b\b\b\b\b\b\b\b\b\b\b\b\b\b\b\b\b\b\b\b\b\b\b\b\b\b\b\b\b\b\b\b\b\b\b\b\b\b\b\b\b\b\b\b\b\b\b\b\b\b\b\b\b\b\b\b\b\b\b\b\b\b\b\b\b\b\b\b\b\b\b\b\b\b\b\r",
        " 7296/60000 [==>...........................] - ETA: 10s - loss: 0.1940 - acc: 0.9424"
       ]
      },
      {
       "output_type": "stream",
       "stream": "stdout",
       "text": [
        "\b\b\b\b\b\b\b\b\b\b\b\b\b\b\b\b\b\b\b\b\b\b\b\b\b\b\b\b\b\b\b\b\b\b\b\b\b\b\b\b\b\b\b\b\b\b\b\b\b\b\b\b\b\b\b\b\b\b\b\b\b\b\b\b\b\b\b\b\b\b\b\b\b\b\b\b\b\b\b\b\b\b\b\b\r",
        " 7424/60000 [==>...........................] - ETA: 10s - loss: 0.1939 - acc: 0.9426"
       ]
      },
      {
       "output_type": "stream",
       "stream": "stdout",
       "text": [
        "\b\b\b\b\b\b\b\b\b\b\b\b\b\b\b\b\b\b\b\b\b\b\b\b\b\b\b\b\b\b\b\b\b\b\b\b\b\b\b\b\b\b\b\b\b\b\b\b\b\b\b\b\b\b\b\b\b\b\b\b\b\b\b\b\b\b\b\b\b\b\b\b\b\b\b\b\b\b\b\b\b\b\b\b\r",
        " 7552/60000 [==>...........................] - ETA: 10s - loss: 0.1942 - acc: 0.9425"
       ]
      },
      {
       "output_type": "stream",
       "stream": "stdout",
       "text": [
        "\b\b\b\b\b\b\b\b\b\b\b\b\b\b\b\b\b\b\b\b\b\b\b\b\b\b\b\b\b\b\b\b\b\b\b\b\b\b\b\b\b\b\b\b\b\b\b\b\b\b\b\b\b\b\b\b\b\b\b\b\b\b\b\b\b\b\b\b\b\b\b\b\b\b\b\b\b\b\b\b\b\b\b\b\r",
        " 7680/60000 [==>...........................] - ETA: 10s - loss: 0.1940 - acc: 0.9424"
       ]
      },
      {
       "output_type": "stream",
       "stream": "stdout",
       "text": [
        "\b\b\b\b\b\b\b\b\b\b\b\b\b\b\b\b\b\b\b\b\b\b\b\b\b\b\b\b\b\b\b\b\b\b\b\b\b\b\b\b\b\b\b\b\b\b\b\b\b\b\b\b\b\b\b\b\b\b\b\b\b\b\b\b\b\b\b\b\b\b\b\b\b\b\b\b\b\b\b\b\b\b\b\b\r",
        " 7808/60000 [==>...........................] - ETA: 10s - loss: 0.1929 - acc: 0.9428"
       ]
      },
      {
       "output_type": "stream",
       "stream": "stdout",
       "text": [
        "\b\b\b\b\b\b\b\b\b\b\b\b\b\b\b\b\b\b\b\b\b\b\b\b\b\b\b\b\b\b\b\b\b\b\b\b\b\b\b\b\b\b\b\b\b\b\b\b\b\b\b\b\b\b\b\b\b\b\b\b\b\b\b\b\b\b\b\b\b\b\b\b\b\b\b\b\b\b\b\b\b\b\b\b\r",
        " 7936/60000 [==>...........................] - ETA: 10s - loss: 0.1922 - acc: 0.9425"
       ]
      },
      {
       "output_type": "stream",
       "stream": "stdout",
       "text": [
        "\b\b\b\b\b\b\b\b\b\b\b\b\b\b\b\b\b\b\b\b\b\b\b\b\b\b\b\b\b\b\b\b\b\b\b\b\b\b\b\b\b\b\b\b\b\b\b\b\b\b\b\b\b\b\b\b\b\b\b\b\b\b\b\b\b\b\b\b\b\b\b\b\b\b\b\b\b\b\b\b\b\b\b\b\r",
        " 8064/60000 [===>..........................] - ETA: 10s - loss: 0.1939 - acc: 0.9423"
       ]
      },
      {
       "output_type": "stream",
       "stream": "stdout",
       "text": [
        "\b\b\b\b\b\b\b\b\b\b\b\b\b\b\b\b\b\b\b\b\b\b\b\b\b\b\b\b\b\b\b\b\b\b\b\b\b\b\b\b\b\b\b\b\b\b\b\b\b\b\b\b\b\b\b\b\b\b\b\b\b\b\b\b\b\b\b\b\b\b\b\b\b\b\b\b\b\b\b\b\b\b\b\b\r",
        " 8192/60000 [===>..........................] - ETA: 10s - loss: 0.1935 - acc: 0.9425"
       ]
      },
      {
       "output_type": "stream",
       "stream": "stdout",
       "text": [
        "\b\b\b\b\b\b\b\b\b\b\b\b\b\b\b\b\b\b\b\b\b\b\b\b\b\b\b\b\b\b\b\b\b\b\b\b\b\b\b\b\b\b\b\b\b\b\b\b\b\b\b\b\b\b\b\b\b\b\b\b\b\b\b\b\b\b\b\b\b\b\b\b\b\b\b\b\b\b\b\b\b\b\b\b\r",
        " 8320/60000 [===>..........................] - ETA: 10s - loss: 0.1944 - acc: 0.9422"
       ]
      },
      {
       "output_type": "stream",
       "stream": "stdout",
       "text": [
        "\b\b\b\b\b\b\b\b\b\b\b\b\b\b\b\b\b\b\b\b\b\b\b\b\b\b\b\b\b\b\b\b\b\b\b\b\b\b\b\b\b\b\b\b\b\b\b\b\b\b\b\b\b\b\b\b\b\b\b\b\b\b\b\b\b\b\b\b\b\b\b\b\b\b\b\b\b\b\b\b\b\b\b\b\r",
        " 8448/60000 [===>..........................] - ETA: 10s - loss: 0.1952 - acc: 0.9419"
       ]
      },
      {
       "output_type": "stream",
       "stream": "stdout",
       "text": [
        "\b\b\b\b\b\b\b\b\b\b\b\b\b\b\b\b\b\b\b\b\b\b\b\b\b\b\b\b\b\b\b\b\b\b\b\b\b\b\b\b\b\b\b\b\b\b\b\b\b\b\b\b\b\b\b\b\b\b\b\b\b\b\b\b\b\b\b\b\b\b\b\b\b\b\b\b\b\b\b\b\b\b\b\b\r",
        " 8576/60000 [===>..........................] - ETA: 10s - loss: 0.1947 - acc: 0.9419"
       ]
      },
      {
       "output_type": "stream",
       "stream": "stdout",
       "text": [
        "\b\b\b\b\b\b\b\b\b\b\b\b\b\b\b\b\b\b\b\b\b\b\b\b\b\b\b\b\b\b\b\b\b\b\b\b\b\b\b\b\b\b\b\b\b\b\b\b\b\b\b\b\b\b\b\b\b\b\b\b\b\b\b\b\b\b\b\b\b\b\b\b\b\b\b\b\b\b\b\b\b\b\b\b\r",
        " 8704/60000 [===>..........................] - ETA: 10s - loss: 0.1953 - acc: 0.9416"
       ]
      },
      {
       "output_type": "stream",
       "stream": "stdout",
       "text": [
        "\b\b\b\b\b\b\b\b\b\b\b\b\b\b\b\b\b\b\b\b\b\b\b\b\b\b\b\b\b\b\b\b\b\b\b\b\b\b\b\b\b\b\b\b\b\b\b\b\b\b\b\b\b\b\b\b\b\b\b\b\b\b\b\b\b\b\b\b\b\b\b\b\b\b\b\b\b\b\b\b\b\b\b\b\r",
        " 8832/60000 [===>..........................] - ETA: 10s - loss: 0.1955 - acc: 0.9415"
       ]
      },
      {
       "output_type": "stream",
       "stream": "stdout",
       "text": [
        "\b\b\b\b\b\b\b\b\b\b\b\b\b\b\b\b\b\b\b\b\b\b\b\b\b\b\b\b\b\b\b\b\b\b\b\b\b\b\b\b\b\b\b\b\b\b\b\b\b\b\b\b\b\b\b\b\b\b\b\b\b\b\b\b\b\b\b\b\b\b\b\b\b\b\b\b\b\b\b\b\b\b\b\b\r",
        " 8960/60000 [===>..........................] - ETA: 10s - loss: 0.1975 - acc: 0.9411"
       ]
      },
      {
       "output_type": "stream",
       "stream": "stdout",
       "text": [
        "\b\b\b\b\b\b\b\b\b\b\b\b\b\b\b\b\b\b\b\b\b\b\b\b\b\b\b\b\b\b\b\b\b\b\b\b\b\b\b\b\b\b\b\b\b\b\b\b\b\b\b\b\b\b\b\b\b\b\b\b\b\b\b\b\b\b\b\b\b\b\b\b\b\b\b\b\b\b\b\b\b\b\b\b\r",
        " 9088/60000 [===>..........................] - ETA: 10s - loss: 0.1969 - acc: 0.9411"
       ]
      },
      {
       "output_type": "stream",
       "stream": "stdout",
       "text": [
        "\b\b\b\b\b\b\b\b\b\b\b\b\b\b\b\b\b\b\b\b\b\b\b\b\b\b\b\b\b\b\b\b\b\b\b\b\b\b\b\b\b\b\b\b\b\b\b\b\b\b\b\b\b\b\b\b\b\b\b\b\b\b\b\b\b\b\b\b\b\b\b\b\b\b\b\b\b\b\b\b\b\b\b\b\r",
        " 9216/60000 [===>..........................] - ETA: 10s - loss: 0.1962 - acc: 0.9414"
       ]
      },
      {
       "output_type": "stream",
       "stream": "stdout",
       "text": [
        "\b\b\b\b\b\b\b\b\b\b\b\b\b\b\b\b\b\b\b\b\b\b\b\b\b\b\b\b\b\b\b\b\b\b\b\b\b\b\b\b\b\b\b\b\b\b\b\b\b\b\b\b\b\b\b\b\b\b\b\b\b\b\b\b\b\b\b\b\b\b\b\b\b\b\b\b\b\b\b\b\b\b\b\b\r",
        " 9344/60000 [===>..........................] - ETA: 10s - loss: 0.1966 - acc: 0.9409"
       ]
      },
      {
       "output_type": "stream",
       "stream": "stdout",
       "text": [
        "\b\b\b\b\b\b\b\b\b\b\b\b\b\b\b\b\b\b\b\b\b\b\b\b\b\b\b\b\b\b\b\b\b\b\b\b\b\b\b\b\b\b\b\b\b\b\b\b\b\b\b\b\b\b\b\b\b\b\b\b\b\b\b\b\b\b\b\b\b\b\b\b\b\b\b\b\b\b\b\b\b\b\b\b\r",
        " 9472/60000 [===>..........................] - ETA: 10s - loss: 0.1965 - acc: 0.9410"
       ]
      },
      {
       "output_type": "stream",
       "stream": "stdout",
       "text": [
        "\b\b\b\b\b\b\b\b\b\b\b\b\b\b\b\b\b\b\b\b\b\b\b\b\b\b\b\b\b\b\b\b\b\b\b\b\b\b\b\b\b\b\b\b\b\b\b\b\b\b\b\b\b\b\b\b\b\b\b\b\b\b\b\b\b\b\b\b\b\b\b\b\b\b\b\b\b\b\b\b\b\b\b\b\r",
        " 9600/60000 [===>..........................] - ETA: 10s - loss: 0.1974 - acc: 0.9407"
       ]
      },
      {
       "output_type": "stream",
       "stream": "stdout",
       "text": [
        "\b\b\b\b\b\b\b\b\b\b\b\b\b\b\b\b\b\b\b\b\b\b\b\b\b\b\b\b\b\b\b\b\b\b\b\b\b\b\b\b\b\b\b\b\b\b\b\b\b\b\b\b\b\b\b\b\b\b\b\b\b\b\b\b\b\b\b\b\b\b\b\b\b\b\b\b\b\b\b\b\b\b\b\b\r",
        " 9728/60000 [===>..........................] - ETA: 10s - loss: 0.1976 - acc: 0.9407"
       ]
      },
      {
       "output_type": "stream",
       "stream": "stdout",
       "text": [
        "\b\b\b\b\b\b\b\b\b\b\b\b\b\b\b\b\b\b\b\b\b\b\b\b\b\b\b\b\b\b\b\b\b\b\b\b\b\b\b\b\b\b\b\b\b\b\b\b\b\b\b\b\b\b\b\b\b\b\b\b\b\b\b\b\b\b\b\b\b\b\b\b\b\b\b\b\b\b\b\b\b\b\b\b\r",
        " 9856/60000 [===>..........................] - ETA: 9s - loss: 0.1989 - acc: 0.9403 "
       ]
      },
      {
       "output_type": "stream",
       "stream": "stdout",
       "text": [
        "\b\b\b\b\b\b\b\b\b\b\b\b\b\b\b\b\b\b\b\b\b\b\b\b\b\b\b\b\b\b\b\b\b\b\b\b\b\b\b\b\b\b\b\b\b\b\b\b\b\b\b\b\b\b\b\b\b\b\b\b\b\b\b\b\b\b\b\b\b\b\b\b\b\b\b\b\b\b\b\b\b\b\b\r",
        " 9984/60000 [===>..........................] - ETA: 9s - loss: 0.1992 - acc: 0.9404"
       ]
      },
      {
       "output_type": "stream",
       "stream": "stdout",
       "text": [
        "\b\b\b\b\b\b\b\b\b\b\b\b\b\b\b\b\b\b\b\b\b\b\b\b\b\b\b\b\b\b\b\b\b\b\b\b\b\b\b\b\b\b\b\b\b\b\b\b\b\b\b\b\b\b\b\b\b\b\b\b\b\b\b\b\b\b\b\b\b\b\b\b\b\b\b\b\b\b\b\b\b\b\b\r",
        "10112/60000 [====>.........................] - ETA: 9s - loss: 0.1985 - acc: 0.9408"
       ]
      },
      {
       "output_type": "stream",
       "stream": "stdout",
       "text": [
        "\b\b\b\b\b\b\b\b\b\b\b\b\b\b\b\b\b\b\b\b\b\b\b\b\b\b\b\b\b\b\b\b\b\b\b\b\b\b\b\b\b\b\b\b\b\b\b\b\b\b\b\b\b\b\b\b\b\b\b\b\b\b\b\b\b\b\b\b\b\b\b\b\b\b\b\b\b\b\b\b\b\b\b\r",
        "10240/60000 [====>.........................] - ETA: 9s - loss: 0.1987 - acc: 0.9405"
       ]
      },
      {
       "output_type": "stream",
       "stream": "stdout",
       "text": [
        "\b\b\b\b\b\b\b\b\b\b\b\b\b\b\b\b\b\b\b\b\b\b\b\b\b\b\b\b\b\b\b\b\b\b\b\b\b\b\b\b\b\b\b\b\b\b\b\b\b\b\b\b\b\b\b\b\b\b\b\b\b\b\b\b\b\b\b\b\b\b\b\b\b\b\b\b\b\b\b\b\b\b\b\r",
        "10368/60000 [====>.........................] - ETA: 9s - loss: 0.1996 - acc: 0.9404"
       ]
      },
      {
       "output_type": "stream",
       "stream": "stdout",
       "text": [
        "\b\b\b\b\b\b\b\b\b\b\b\b\b\b\b\b\b\b\b\b\b\b\b\b\b\b\b\b\b\b\b\b\b\b\b\b\b\b\b\b\b\b\b\b\b\b\b\b\b\b\b\b\b\b\b\b\b\b\b\b\b\b\b\b\b\b\b\b\b\b\b\b\b\b\b\b\b\b\b\b\b\b\b\r",
        "10496/60000 [====>.........................] - ETA: 9s - loss: 0.1991 - acc: 0.9404"
       ]
      },
      {
       "output_type": "stream",
       "stream": "stdout",
       "text": [
        "\b\b\b\b\b\b\b\b\b\b\b\b\b\b\b\b\b\b\b\b\b\b\b\b\b\b\b\b\b\b\b\b\b\b\b\b\b\b\b\b\b\b\b\b\b\b\b\b\b\b\b\b\b\b\b\b\b\b\b\b\b\b\b\b\b\b\b\b\b\b\b\b\b\b\b\b\b\b\b\b\b\b\b\r",
        "10624/60000 [====>.........................] - ETA: 9s - loss: 0.2009 - acc: 0.9399"
       ]
      },
      {
       "output_type": "stream",
       "stream": "stdout",
       "text": [
        "\b\b\b\b\b\b\b\b\b\b\b\b\b\b\b\b\b\b\b\b\b\b\b\b\b\b\b\b\b\b\b\b\b\b\b\b\b\b\b\b\b\b\b\b\b\b\b\b\b\b\b\b\b\b\b\b\b\b\b\b\b\b\b\b\b\b\b\b\b\b\b\b\b\b\b\b\b\b\b\b\b\b\b\r",
        "10752/60000 [====>.........................] - ETA: 9s - loss: 0.2003 - acc: 0.9402"
       ]
      },
      {
       "output_type": "stream",
       "stream": "stdout",
       "text": [
        "\b\b\b\b\b\b\b\b\b\b\b\b\b\b\b\b\b\b\b\b\b\b\b\b\b\b\b\b\b\b\b\b\b\b\b\b\b\b\b\b\b\b\b\b\b\b\b\b\b\b\b\b\b\b\b\b\b\b\b\b\b\b\b\b\b\b\b\b\b\b\b\b\b\b\b\b\b\b\b\b\b\b\b\r",
        "10880/60000 [====>.........................] - ETA: 9s - loss: 0.2004 - acc: 0.9401"
       ]
      },
      {
       "output_type": "stream",
       "stream": "stdout",
       "text": [
        "\b\b\b\b\b\b\b\b\b\b\b\b\b\b\b\b\b\b\b\b\b\b\b\b\b\b\b\b\b\b\b\b\b\b\b\b\b\b\b\b\b\b\b\b\b\b\b\b\b\b\b\b\b\b\b\b\b\b\b\b\b\b\b\b\b\b\b\b\b\b\b\b\b\b\b\b\b\b\b\b\b\b\b\r",
        "11008/60000 [====>.........................] - ETA: 9s - loss: 0.1998 - acc: 0.9402"
       ]
      },
      {
       "output_type": "stream",
       "stream": "stdout",
       "text": [
        "\b\b\b\b\b\b\b\b\b\b\b\b\b\b\b\b\b\b\b\b\b\b\b\b\b\b\b\b\b\b\b\b\b\b\b\b\b\b\b\b\b\b\b\b\b\b\b\b\b\b\b\b\b\b\b\b\b\b\b\b\b\b\b\b\b\b\b\b\b\b\b\b\b\b\b\b\b\b\b\b\b\b\b\r",
        "11136/60000 [====>.........................] - ETA: 9s - loss: 0.2020 - acc: 0.9398"
       ]
      },
      {
       "output_type": "stream",
       "stream": "stdout",
       "text": [
        "\b\b\b\b\b\b\b\b\b\b\b\b\b\b\b\b\b\b\b\b\b\b\b\b\b\b\b\b\b\b\b\b\b\b\b\b\b\b\b\b\b\b\b\b\b\b\b\b\b\b\b\b\b\b\b\b\b\b\b\b\b\b\b\b\b\b\b\b\b\b\b\b\b\b\b\b\b\b\b\b\b\b\b\r",
        "11264/60000 [====>.........................] - ETA: 9s - loss: 0.2026 - acc: 0.9399"
       ]
      },
      {
       "output_type": "stream",
       "stream": "stdout",
       "text": [
        "\b\b\b\b\b\b\b\b\b\b\b\b\b\b\b\b\b\b\b\b\b\b\b\b\b\b\b\b\b\b\b\b\b\b\b\b\b\b\b\b\b\b\b\b\b\b\b\b\b\b\b\b\b\b\b\b\b\b\b\b\b\b\b\b\b\b\b\b\b\b\b\b\b\b\b\b\b\b\b\b\b\b\b\r",
        "11392/60000 [====>.........................] - ETA: 9s - loss: 0.2035 - acc: 0.9398"
       ]
      },
      {
       "output_type": "stream",
       "stream": "stdout",
       "text": [
        "\b\b\b\b\b\b\b\b\b\b\b\b\b\b\b\b\b\b\b\b\b\b\b\b\b\b\b\b\b\b\b\b\b\b\b\b\b\b\b\b\b\b\b\b\b\b\b\b\b\b\b\b\b\b\b\b\b\b\b\b\b\b\b\b\b\b\b\b\b\b\b\b\b\b\b\b\b\b\b\b\b\b\b\r",
        "11520/60000 [====>.........................] - ETA: 9s - loss: 0.2027 - acc: 0.9401"
       ]
      },
      {
       "output_type": "stream",
       "stream": "stdout",
       "text": [
        "\b\b\b\b\b\b\b\b\b\b\b\b\b\b\b\b\b\b\b\b\b\b\b\b\b\b\b\b\b\b\b\b\b\b\b\b\b\b\b\b\b\b\b\b\b\b\b\b\b\b\b\b\b\b\b\b\b\b\b\b\b\b\b\b\b\b\b\b\b\b\b\b\b\b\b\b\b\b\b\b\b\b\b\r",
        "11648/60000 [====>.........................] - ETA: 9s - loss: 0.2019 - acc: 0.9402"
       ]
      },
      {
       "output_type": "stream",
       "stream": "stdout",
       "text": [
        "\b\b\b\b\b\b\b\b\b\b\b\b\b\b\b\b\b\b\b\b\b\b\b\b\b\b\b\b\b\b\b\b\b\b\b\b\b\b\b\b\b\b\b\b\b\b\b\b\b\b\b\b\b\b\b\b\b\b\b\b\b\b\b\b\b\b\b\b\b\b\b\b\b\b\b\b\b\b\b\b\b\b\b\r",
        "11776/60000 [====>.........................] - ETA: 9s - loss: 0.2010 - acc: 0.9406"
       ]
      },
      {
       "output_type": "stream",
       "stream": "stdout",
       "text": [
        "\b\b\b\b\b\b\b\b\b\b\b\b\b\b\b\b\b\b\b\b\b\b\b\b\b\b\b\b\b\b\b\b\b\b\b\b\b\b\b\b\b\b\b\b\b\b\b\b\b\b\b\b\b\b\b\b\b\b\b\b\b\b\b\b\b\b\b\b\b\b\b\b\b\b\b\b\b\b\b\b\b\b\b\r",
        "11904/60000 [====>.........................] - ETA: 9s - loss: 0.2005 - acc: 0.9407"
       ]
      },
      {
       "output_type": "stream",
       "stream": "stdout",
       "text": [
        "\b\b\b\b\b\b\b\b\b\b\b\b\b\b\b\b\b\b\b\b\b\b\b\b\b\b\b\b\b\b\b\b\b\b\b\b\b\b\b\b\b\b\b\b\b\b\b\b\b\b\b\b\b\b\b\b\b\b\b\b\b\b\b\b\b\b\b\b\b\b\b\b\b\b\b\b\b\b\b\b\b\b\b\r",
        "12032/60000 [=====>........................] - ETA: 9s - loss: 0.2021 - acc: 0.9402"
       ]
      },
      {
       "output_type": "stream",
       "stream": "stdout",
       "text": [
        "\b\b\b\b\b\b\b\b\b\b\b\b\b\b\b\b\b\b\b\b\b\b\b\b\b\b\b\b\b\b\b\b\b\b\b\b\b\b\b\b\b\b\b\b\b\b\b\b\b\b\b\b\b\b\b\b\b\b\b\b\b\b\b\b\b\b\b\b\b\b\b\b\b\b\b\b\b\b\b\b\b\b\b\r",
        "12160/60000 [=====>........................] - ETA: 9s - loss: 0.2011 - acc: 0.9405"
       ]
      },
      {
       "output_type": "stream",
       "stream": "stdout",
       "text": [
        "\b\b\b\b\b\b\b\b\b\b\b\b\b\b\b\b\b\b\b\b\b\b\b\b\b\b\b\b\b\b\b\b\b\b\b\b\b\b\b\b\b\b\b\b\b\b\b\b\b\b\b\b\b\b\b\b\b\b\b\b\b\b\b\b\b\b\b\b\b\b\b\b\b\b\b\b\b\b\b\b\b\b\b\r",
        "12288/60000 [=====>........................] - ETA: 9s - loss: 0.2014 - acc: 0.9403"
       ]
      },
      {
       "output_type": "stream",
       "stream": "stdout",
       "text": [
        "\b\b\b\b\b\b\b\b\b\b\b\b\b\b\b\b\b\b\b\b\b\b\b\b\b\b\b\b\b\b\b\b\b\b\b\b\b\b\b\b\b\b\b\b\b\b\b\b\b\b\b\b\b\b\b\b\b\b\b\b\b\b\b\b\b\b\b\b\b\b\b\b\b\b\b\b\b\b\b\b\b\b\b\r",
        "12416/60000 [=====>........................] - ETA: 9s - loss: 0.2018 - acc: 0.9400"
       ]
      },
      {
       "output_type": "stream",
       "stream": "stdout",
       "text": [
        "\b\b\b\b\b\b\b\b\b\b\b\b\b\b\b\b\b\b\b\b\b\b\b\b\b\b\b\b\b\b\b\b\b\b\b\b\b\b\b\b\b\b\b\b\b\b\b\b\b\b\b\b\b\b\b\b\b\b\b\b\b\b\b\b\b\b\b\b\b\b\b\b\b\b\b\b\b\b\b\b\b\b\b\r",
        "12544/60000 [=====>........................] - ETA: 9s - loss: 0.2017 - acc: 0.9401"
       ]
      },
      {
       "output_type": "stream",
       "stream": "stdout",
       "text": [
        "\b\b\b\b\b\b\b\b\b\b\b\b\b\b\b\b\b\b\b\b\b\b\b\b\b\b\b\b\b\b\b\b\b\b\b\b\b\b\b\b\b\b\b\b\b\b\b\b\b\b\b\b\b\b\b\b\b\b\b\b\b\b\b\b\b\b\b\b\b\b\b\b\b\b\b\b\b\b\b\b\b\b\b\r",
        "12672/60000 [=====>........................] - ETA: 9s - loss: 0.2008 - acc: 0.9404"
       ]
      },
      {
       "output_type": "stream",
       "stream": "stdout",
       "text": [
        "\b\b\b\b\b\b\b\b\b\b\b\b\b\b\b\b\b\b\b\b\b\b\b\b\b\b\b\b\b\b\b\b\b\b\b\b\b\b\b\b\b\b\b\b\b\b\b\b\b\b\b\b\b\b\b\b\b\b\b\b\b\b\b\b\b\b\b\b\b\b\b\b\b\b\b\b\b\b\b\b\b\b\b\r",
        "12800/60000 [=====>........................] - ETA: 9s - loss: 0.2016 - acc: 0.9405"
       ]
      },
      {
       "output_type": "stream",
       "stream": "stdout",
       "text": [
        "\b\b\b\b\b\b\b\b\b\b\b\b\b\b\b\b\b\b\b\b\b\b\b\b\b\b\b\b\b\b\b\b\b\b\b\b\b\b\b\b\b\b\b\b\b\b\b\b\b\b\b\b\b\b\b\b\b\b\b\b\b\b\b\b\b\b\b\b\b\b\b\b\b\b\b\b\b\b\b\b\b\b\b\r",
        "12928/60000 [=====>........................] - ETA: 9s - loss: 0.2014 - acc: 0.9406"
       ]
      },
      {
       "output_type": "stream",
       "stream": "stdout",
       "text": [
        "\b\b\b\b\b\b\b\b\b\b\b\b\b\b\b\b\b\b\b\b\b\b\b\b\b\b\b\b\b\b\b\b\b\b\b\b\b\b\b\b\b\b\b\b\b\b\b\b\b\b\b\b\b\b\b\b\b\b\b\b\b\b\b\b\b\b\b\b\b\b\b\b\b\b\b\b\b\b\b\b\b\b\b\r",
        "13056/60000 [=====>........................] - ETA: 9s - loss: 0.2020 - acc: 0.9404"
       ]
      },
      {
       "output_type": "stream",
       "stream": "stdout",
       "text": [
        "\b\b\b\b\b\b\b\b\b\b\b\b\b\b\b\b\b\b\b\b\b\b\b\b\b\b\b\b\b\b\b\b\b\b\b\b\b\b\b\b\b\b\b\b\b\b\b\b\b\b\b\b\b\b\b\b\b\b\b\b\b\b\b\b\b\b\b\b\b\b\b\b\b\b\b\b\b\b\b\b\b\b\b\r",
        "13184/60000 [=====>........................] - ETA: 9s - loss: 0.2014 - acc: 0.9406"
       ]
      },
      {
       "output_type": "stream",
       "stream": "stdout",
       "text": [
        "\b\b\b\b\b\b\b\b\b\b\b\b\b\b\b\b\b\b\b\b\b\b\b\b\b\b\b\b\b\b\b\b\b\b\b\b\b\b\b\b\b\b\b\b\b\b\b\b\b\b\b\b\b\b\b\b\b\b\b\b\b\b\b\b\b\b\b\b\b\b\b\b\b\b\b\b\b\b\b\b\b\b\b\r",
        "13312/60000 [=====>........................] - ETA: 9s - loss: 0.2011 - acc: 0.9406"
       ]
      },
      {
       "output_type": "stream",
       "stream": "stdout",
       "text": [
        "\b\b\b\b\b\b\b\b\b\b\b\b\b\b\b\b\b\b\b\b\b\b\b\b\b\b\b\b\b\b\b\b\b\b\b\b\b\b\b\b\b\b\b\b\b\b\b\b\b\b\b\b\b\b\b\b\b\b\b\b\b\b\b\b\b\b\b\b\b\b\b\b\b\b\b\b\b\b\b\b\b\b\b\r",
        "13440/60000 [=====>........................] - ETA: 9s - loss: 0.2009 - acc: 0.9405"
       ]
      },
      {
       "output_type": "stream",
       "stream": "stdout",
       "text": [
        "\b\b\b\b\b\b\b\b\b\b\b\b\b\b\b\b\b\b\b\b\b\b\b\b\b\b\b\b\b\b\b\b\b\b\b\b\b\b\b\b\b\b\b\b\b\b\b\b\b\b\b\b\b\b\b\b\b\b\b\b\b\b\b\b\b\b\b\b\b\b\b\b\b\b\b\b\b\b\b\b\b\b\b\r",
        "13568/60000 [=====>........................] - ETA: 9s - loss: 0.2022 - acc: 0.9400"
       ]
      },
      {
       "output_type": "stream",
       "stream": "stdout",
       "text": [
        "\b\b\b\b\b\b\b\b\b\b\b\b\b\b\b\b\b\b\b\b\b\b\b\b\b\b\b\b\b\b\b\b\b\b\b\b\b\b\b\b\b\b\b\b\b\b\b\b\b\b\b\b\b\b\b\b\b\b\b\b\b\b\b\b\b\b\b\b\b\b\b\b\b\b\b\b\b\b\b\b\b\b\b\r",
        "13696/60000 [=====>........................] - ETA: 9s - loss: 0.2017 - acc: 0.9402"
       ]
      },
      {
       "output_type": "stream",
       "stream": "stdout",
       "text": [
        "\b\b\b\b\b\b\b\b\b\b\b\b\b\b\b\b\b\b\b\b\b\b\b\b\b\b\b\b\b\b\b\b\b\b\b\b\b\b\b\b\b\b\b\b\b\b\b\b\b\b\b\b\b\b\b\b\b\b\b\b\b\b\b\b\b\b\b\b\b\b\b\b\b\b\b\b\b\b\b\b\b\b\b\r",
        "13824/60000 [=====>........................] - ETA: 9s - loss: 0.2021 - acc: 0.9400"
       ]
      },
      {
       "output_type": "stream",
       "stream": "stdout",
       "text": [
        "\b\b\b\b\b\b\b\b\b\b\b\b\b\b\b\b\b\b\b\b\b\b\b\b\b\b\b\b\b\b\b\b\b\b\b\b\b\b\b\b\b\b\b\b\b\b\b\b\b\b\b\b\b\b\b\b\b\b\b\b\b\b\b\b\b\b\b\b\b\b\b\b\b\b\b\b\b\b\b\b\b\b\b\r",
        "13952/60000 [=====>........................] - ETA: 9s - loss: 0.2024 - acc: 0.9399"
       ]
      },
      {
       "output_type": "stream",
       "stream": "stdout",
       "text": [
        "\b\b\b\b\b\b\b\b\b\b\b\b\b\b\b\b\b\b\b\b\b\b\b\b\b\b\b\b\b\b\b\b\b\b\b\b\b\b\b\b\b\b\b\b\b\b\b\b\b\b\b\b\b\b\b\b\b\b\b\b\b\b\b\b\b\b\b\b\b\b\b\b\b\b\b\b\b\b\b\b\b\b\b\r",
        "14080/60000 [======>.......................] - ETA: 9s - loss: 0.2025 - acc: 0.9401"
       ]
      },
      {
       "output_type": "stream",
       "stream": "stdout",
       "text": [
        "\b\b\b\b\b\b\b\b\b\b\b\b\b\b\b\b\b\b\b\b\b\b\b\b\b\b\b\b\b\b\b\b\b\b\b\b\b\b\b\b\b\b\b\b\b\b\b\b\b\b\b\b\b\b\b\b\b\b\b\b\b\b\b\b\b\b\b\b\b\b\b\b\b\b\b\b\b\b\b\b\b\b\b\r",
        "14208/60000 [======>.......................] - ETA: 9s - loss: 0.2024 - acc: 0.9402"
       ]
      },
      {
       "output_type": "stream",
       "stream": "stdout",
       "text": [
        "\b\b\b\b\b\b\b\b\b\b\b\b\b\b\b\b\b\b\b\b\b\b\b\b\b\b\b\b\b\b\b\b\b\b\b\b\b\b\b\b\b\b\b\b\b\b\b\b\b\b\b\b\b\b\b\b\b\b\b\b\b\b\b\b\b\b\b\b\b\b\b\b\b\b\b\b\b\b\b\b\b\b\b\r",
        "14336/60000 [======>.......................] - ETA: 9s - loss: 0.2018 - acc: 0.9405"
       ]
      },
      {
       "output_type": "stream",
       "stream": "stdout",
       "text": [
        "\b\b\b\b\b\b\b\b\b\b\b\b\b\b\b\b\b\b\b\b\b\b\b\b\b\b\b\b\b\b\b\b\b\b\b\b\b\b\b\b\b\b\b\b\b\b\b\b\b\b\b\b\b\b\b\b\b\b\b\b\b\b\b\b\b\b\b\b\b\b\b\b\b\b\b\b\b\b\b\b\b\b\b\r",
        "14464/60000 [======>.......................] - ETA: 9s - loss: 0.2007 - acc: 0.9407"
       ]
      },
      {
       "output_type": "stream",
       "stream": "stdout",
       "text": [
        "\b\b\b\b\b\b\b\b\b\b\b\b\b\b\b\b\b\b\b\b\b\b\b\b\b\b\b\b\b\b\b\b\b\b\b\b\b\b\b\b\b\b\b\b\b\b\b\b\b\b\b\b\b\b\b\b\b\b\b\b\b\b\b\b\b\b\b\b\b\b\b\b\b\b\b\b\b\b\b\b\b\b\b\r",
        "14592/60000 [======>.......................] - ETA: 9s - loss: 0.2008 - acc: 0.9408"
       ]
      },
      {
       "output_type": "stream",
       "stream": "stdout",
       "text": [
        "\b\b\b\b\b\b\b\b\b\b\b\b\b\b\b\b\b\b\b\b\b\b\b\b\b\b\b\b\b\b\b\b\b\b\b\b\b\b\b\b\b\b\b\b\b\b\b\b\b\b\b\b\b\b\b\b\b\b\b\b\b\b\b\b\b\b\b\b\b\b\b\b\b\b\b\b\b\b\b\b\b\b\b\r",
        "14720/60000 [======>.......................] - ETA: 9s - loss: 0.2009 - acc: 0.9404"
       ]
      },
      {
       "output_type": "stream",
       "stream": "stdout",
       "text": [
        "\b\b\b\b\b\b\b\b\b\b\b\b\b\b\b\b\b\b\b\b\b\b\b\b\b\b\b\b\b\b\b\b\b\b\b\b\b\b\b\b\b\b\b\b\b\b\b\b\b\b\b\b\b\b\b\b\b\b\b\b\b\b\b\b\b\b\b\b\b\b\b\b\b\b\b\b\b\b\b\b\b\b\b\r",
        "14848/60000 [======>.......................] - ETA: 8s - loss: 0.2013 - acc: 0.9402"
       ]
      },
      {
       "output_type": "stream",
       "stream": "stdout",
       "text": [
        "\b\b\b\b\b\b\b\b\b\b\b\b\b\b\b\b\b\b\b\b\b\b\b\b\b\b\b\b\b\b\b\b\b\b\b\b\b\b\b\b\b\b\b\b\b\b\b\b\b\b\b\b\b\b\b\b\b\b\b\b\b\b\b\b\b\b\b\b\b\b\b\b\b\b\b\b\b\b\b\b\b\b\b\r",
        "14976/60000 [======>.......................] - ETA: 8s - loss: 0.2014 - acc: 0.9402"
       ]
      },
      {
       "output_type": "stream",
       "stream": "stdout",
       "text": [
        "\b\b\b\b\b\b\b\b\b\b\b\b\b\b\b\b\b\b\b\b\b\b\b\b\b\b\b\b\b\b\b\b\b\b\b\b\b\b\b\b\b\b\b\b\b\b\b\b\b\b\b\b\b\b\b\b\b\b\b\b\b\b\b\b\b\b\b\b\b\b\b\b\b\b\b\b\b\b\b\b\b\b\b\r",
        "15104/60000 [======>.......................] - ETA: 8s - loss: 0.2023 - acc: 0.9398"
       ]
      },
      {
       "output_type": "stream",
       "stream": "stdout",
       "text": [
        "\b\b\b\b\b\b\b\b\b\b\b\b\b\b\b\b\b\b\b\b\b\b\b\b\b\b\b\b\b\b\b\b\b\b\b\b\b\b\b\b\b\b\b\b\b\b\b\b\b\b\b\b\b\b\b\b\b\b\b\b\b\b\b\b\b\b\b\b\b\b\b\b\b\b\b\b\b\b\b\b\b\b\b\r",
        "15232/60000 [======>.......................] - ETA: 8s - loss: 0.2034 - acc: 0.9397"
       ]
      },
      {
       "output_type": "stream",
       "stream": "stdout",
       "text": [
        "\b\b\b\b\b\b\b\b\b\b\b\b\b\b\b\b\b\b\b\b\b\b\b\b\b\b\b\b\b\b\b\b\b\b\b\b\b\b\b\b\b\b\b\b\b\b\b\b\b\b\b\b\b\b\b\b\b\b\b\b\b\b\b\b\b\b\b\b\b\b\b\b\b\b\b\b\b\b\b\b\b\b\b\r",
        "15360/60000 [======>.......................] - ETA: 8s - loss: 0.2028 - acc: 0.9399"
       ]
      },
      {
       "output_type": "stream",
       "stream": "stdout",
       "text": [
        "\b\b\b\b\b\b\b\b\b\b\b\b\b\b\b\b\b\b\b\b\b\b\b\b\b\b\b\b\b\b\b\b\b\b\b\b\b\b\b\b\b\b\b\b\b\b\b\b\b\b\b\b\b\b\b\b\b\b\b\b\b\b\b\b\b\b\b\b\b\b\b\b\b\b\b\b\b\b\b\b\b\b\b\r",
        "15488/60000 [======>.......................] - ETA: 8s - loss: 0.2037 - acc: 0.9397"
       ]
      },
      {
       "output_type": "stream",
       "stream": "stdout",
       "text": [
        "\b\b\b\b\b\b\b\b\b\b\b\b\b\b\b\b\b\b\b\b\b\b\b\b\b\b\b\b\b\b\b\b\b\b\b\b\b\b\b\b\b\b\b\b\b\b\b\b\b\b\b\b\b\b\b\b\b\b\b\b\b\b\b\b\b\b\b\b\b\b\b\b\b\b\b\b\b\b\b\b\b\b\b\r",
        "15616/60000 [======>.......................] - ETA: 8s - loss: 0.2042 - acc: 0.9395"
       ]
      },
      {
       "output_type": "stream",
       "stream": "stdout",
       "text": [
        "\b\b\b\b\b\b\b\b\b\b\b\b\b\b\b\b\b\b\b\b\b\b\b\b\b\b\b\b\b\b\b\b\b\b\b\b\b\b\b\b\b\b\b\b\b\b\b\b\b\b\b\b\b\b\b\b\b\b\b\b\b\b\b\b\b\b\b\b\b\b\b\b\b\b\b\b\b\b\b\b\b\b\b\r",
        "15744/60000 [======>.......................] - ETA: 8s - loss: 0.2048 - acc: 0.9395"
       ]
      },
      {
       "output_type": "stream",
       "stream": "stdout",
       "text": [
        "\b\b\b\b\b\b\b\b\b\b\b\b\b\b\b\b\b\b\b\b\b\b\b\b\b\b\b\b\b\b\b\b\b\b\b\b\b\b\b\b\b\b\b\b\b\b\b\b\b\b\b\b\b\b\b\b\b\b\b\b\b\b\b\b\b\b\b\b\b\b\b\b\b\b\b\b\b\b\b\b\b\b\b\r",
        "15872/60000 [======>.......................] - ETA: 8s - loss: 0.2039 - acc: 0.9397"
       ]
      },
      {
       "output_type": "stream",
       "stream": "stdout",
       "text": [
        "\b\b\b\b\b\b\b\b\b\b\b\b\b\b\b\b\b\b\b\b\b\b\b\b\b\b\b\b\b\b\b\b\b\b\b\b\b\b\b\b\b\b\b\b\b\b\b\b\b\b\b\b\b\b\b\b\b\b\b\b\b\b\b\b\b\b\b\b\b\b\b\b\b\b\b\b\b\b\b\b\b\b\b\r",
        "16000/60000 [=======>......................] - ETA: 8s - loss: 0.2038 - acc: 0.9397"
       ]
      },
      {
       "output_type": "stream",
       "stream": "stdout",
       "text": [
        "\b\b\b\b\b\b\b\b\b\b\b\b\b\b\b\b\b\b\b\b\b\b\b\b\b\b\b\b\b\b\b\b\b\b\b\b\b\b\b\b\b\b\b\b\b\b\b\b\b\b\b\b\b\b\b\b\b\b\b\b\b\b\b\b\b\b\b\b\b\b\b\b\b\b\b\b\b\b\b\b\b\b\b\r",
        "16128/60000 [=======>......................] - ETA: 8s - loss: 0.2031 - acc: 0.9399"
       ]
      },
      {
       "output_type": "stream",
       "stream": "stdout",
       "text": [
        "\b\b\b\b\b\b\b\b\b\b\b\b\b\b\b\b\b\b\b\b\b\b\b\b\b\b\b\b\b\b\b\b\b\b\b\b\b\b\b\b\b\b\b\b\b\b\b\b\b\b\b\b\b\b\b\b\b\b\b\b\b\b\b\b\b\b\b\b\b\b\b\b\b\b\b\b\b\b\b\b\b\b\b\r",
        "16256/60000 [=======>......................] - ETA: 8s - loss: 0.2023 - acc: 0.9400"
       ]
      },
      {
       "output_type": "stream",
       "stream": "stdout",
       "text": [
        "\b\b\b\b\b\b\b\b\b\b\b\b\b\b\b\b\b\b\b\b\b\b\b\b\b\b\b\b\b\b\b\b\b\b\b\b\b\b\b\b\b\b\b\b\b\b\b\b\b\b\b\b\b\b\b\b\b\b\b\b\b\b\b\b\b\b\b\b\b\b\b\b\b\b\b\b\b\b\b\b\b\b\b\r",
        "16384/60000 [=======>......................] - ETA: 8s - loss: 0.2020 - acc: 0.9400"
       ]
      },
      {
       "output_type": "stream",
       "stream": "stdout",
       "text": [
        "\b\b\b\b\b\b\b\b\b\b\b\b\b\b\b\b\b\b\b\b\b\b\b\b\b\b\b\b\b\b\b\b\b\b\b\b\b\b\b\b\b\b\b\b\b\b\b\b\b\b\b\b\b\b\b\b\b\b\b\b\b\b\b\b\b\b\b\b\b\b\b\b\b\b\b\b\b\b\b\b\b\b\b\r",
        "16512/60000 [=======>......................] - ETA: 8s - loss: 0.2028 - acc: 0.9396"
       ]
      },
      {
       "output_type": "stream",
       "stream": "stdout",
       "text": [
        "\b\b\b\b\b\b\b\b\b\b\b\b\b\b\b\b\b\b\b\b\b\b\b\b\b\b\b\b\b\b\b\b\b\b\b\b\b\b\b\b\b\b\b\b\b\b\b\b\b\b\b\b\b\b\b\b\b\b\b\b\b\b\b\b\b\b\b\b\b\b\b\b\b\b\b\b\b\b\b\b\b\b\b\r",
        "16640/60000 [=======>......................] - ETA: 8s - loss: 0.2026 - acc: 0.9397"
       ]
      },
      {
       "output_type": "stream",
       "stream": "stdout",
       "text": [
        "\b\b\b\b\b\b\b\b\b\b\b\b\b\b\b\b\b\b\b\b\b\b\b\b\b\b\b\b\b\b\b\b\b\b\b\b\b\b\b\b\b\b\b\b\b\b\b\b\b\b\b\b\b\b\b\b\b\b\b\b\b\b\b\b\b\b\b\b\b\b\b\b\b\b\b\b\b\b\b\b\b\b\b\r",
        "16768/60000 [=======>......................] - ETA: 8s - loss: 0.2016 - acc: 0.9401"
       ]
      },
      {
       "output_type": "stream",
       "stream": "stdout",
       "text": [
        "\b\b\b\b\b\b\b\b\b\b\b\b\b\b\b\b\b\b\b\b\b\b\b\b\b\b\b\b\b\b\b\b\b\b\b\b\b\b\b\b\b\b\b\b\b\b\b\b\b\b\b\b\b\b\b\b\b\b\b\b\b\b\b\b\b\b\b\b\b\b\b\b\b\b\b\b\b\b\b\b\b\b\b\r",
        "16896/60000 [=======>......................] - ETA: 8s - loss: 0.2015 - acc: 0.9402"
       ]
      },
      {
       "output_type": "stream",
       "stream": "stdout",
       "text": [
        "\b\b\b\b\b\b\b\b\b\b\b\b\b\b\b\b\b\b\b\b\b\b\b\b\b\b\b\b\b\b\b\b\b\b\b\b\b\b\b\b\b\b\b\b\b\b\b\b\b\b\b\b\b\b\b\b\b\b\b\b\b\b\b\b\b\b\b\b\b\b\b\b\b\b\b\b\b\b\b\b\b\b\b\r",
        "17024/60000 [=======>......................] - ETA: 8s - loss: 0.2015 - acc: 0.9401"
       ]
      },
      {
       "output_type": "stream",
       "stream": "stdout",
       "text": [
        "\b\b\b\b\b\b\b\b\b\b\b\b\b\b\b\b\b\b\b\b\b\b\b\b\b\b\b\b\b\b\b\b\b\b\b\b\b\b\b\b\b\b\b\b\b\b\b\b\b\b\b\b\b\b\b\b\b\b\b\b\b\b\b\b\b\b\b\b\b\b\b\b\b\b\b\b\b\b\b\b\b\b\b\r",
        "17152/60000 [=======>......................] - ETA: 8s - loss: 0.2018 - acc: 0.9401"
       ]
      },
      {
       "output_type": "stream",
       "stream": "stdout",
       "text": [
        "\b\b\b\b\b\b\b\b\b\b\b\b\b\b\b\b\b\b\b\b\b\b\b\b\b\b\b\b\b\b\b\b\b\b\b\b\b\b\b\b\b\b\b\b\b\b\b\b\b\b\b\b\b\b\b\b\b\b\b\b\b\b\b\b\b\b\b\b\b\b\b\b\b\b\b\b\b\b\b\b\b\b\b\r",
        "17280/60000 [=======>......................] - ETA: 8s - loss: 0.2025 - acc: 0.9400"
       ]
      },
      {
       "output_type": "stream",
       "stream": "stdout",
       "text": [
        "\b\b\b\b\b\b\b\b\b\b\b\b\b\b\b\b\b\b\b\b\b\b\b\b\b\b\b\b\b\b\b\b\b\b\b\b\b\b\b\b\b\b\b\b\b\b\b\b\b\b\b\b\b\b\b\b\b\b\b\b\b\b\b\b\b\b\b\b\b\b\b\b\b\b\b\b\b\b\b\b\b\b\b\r",
        "17408/60000 [=======>......................] - ETA: 8s - loss: 0.2025 - acc: 0.9401"
       ]
      },
      {
       "output_type": "stream",
       "stream": "stdout",
       "text": [
        "\b\b\b\b\b\b\b\b\b\b\b\b\b\b\b\b\b\b\b\b\b\b\b\b\b\b\b\b\b\b\b\b\b\b\b\b\b\b\b\b\b\b\b\b\b\b\b\b\b\b\b\b\b\b\b\b\b\b\b\b\b\b\b\b\b\b\b\b\b\b\b\b\b\b\b\b\b\b\b\b\b\b\b\r",
        "17536/60000 [=======>......................] - ETA: 8s - loss: 0.2031 - acc: 0.9399"
       ]
      },
      {
       "output_type": "stream",
       "stream": "stdout",
       "text": [
        "\b\b\b\b\b\b\b\b\b\b\b\b\b\b\b\b\b\b\b\b\b\b\b\b\b\b\b\b\b\b\b\b\b\b\b\b\b\b\b\b\b\b\b\b\b\b\b\b\b\b\b\b\b\b\b\b\b\b\b\b\b\b\b\b\b\b\b\b\b\b\b\b\b\b\b\b\b\b\b\b\b\b\b\r",
        "17664/60000 [=======>......................] - ETA: 8s - loss: 0.2025 - acc: 0.9400"
       ]
      },
      {
       "output_type": "stream",
       "stream": "stdout",
       "text": [
        "\b\b\b\b\b\b\b\b\b\b\b\b\b\b\b\b\b\b\b\b\b\b\b\b\b\b\b\b\b\b\b\b\b\b\b\b\b\b\b\b\b\b\b\b\b\b\b\b\b\b\b\b\b\b\b\b\b\b\b\b\b\b\b\b\b\b\b\b\b\b\b\b\b\b\b\b\b\b\b\b\b\b\b\r",
        "17792/60000 [=======>......................] - ETA: 8s - loss: 0.2026 - acc: 0.9399"
       ]
      },
      {
       "output_type": "stream",
       "stream": "stdout",
       "text": [
        "\b\b\b\b\b\b\b\b\b\b\b\b\b\b\b\b\b\b\b\b\b\b\b\b\b\b\b\b\b\b\b\b\b\b\b\b\b\b\b\b\b\b\b\b\b\b\b\b\b\b\b\b\b\b\b\b\b\b\b\b\b\b\b\b\b\b\b\b\b\b\b\b\b\b\b\b\b\b\b\b\b\b\b\r",
        "17920/60000 [=======>......................] - ETA: 8s - loss: 0.2020 - acc: 0.9401"
       ]
      },
      {
       "output_type": "stream",
       "stream": "stdout",
       "text": [
        "\b\b\b\b\b\b\b\b\b\b\b\b\b\b\b\b\b\b\b\b\b\b\b\b\b\b\b\b\b\b\b\b\b\b\b\b\b\b\b\b\b\b\b\b\b\b\b\b\b\b\b\b\b\b\b\b\b\b\b\b\b\b\b\b\b\b\b\b\b\b\b\b\b\b\b\b\b\b\b\b\b\b\b\r",
        "18048/60000 [========>.....................] - ETA: 8s - loss: 0.2018 - acc: 0.9401"
       ]
      },
      {
       "output_type": "stream",
       "stream": "stdout",
       "text": [
        "\b\b\b\b\b\b\b\b\b\b\b\b\b\b\b\b\b\b\b\b\b\b\b\b\b\b\b\b\b\b\b\b\b\b\b\b\b\b\b\b\b\b\b\b\b\b\b\b\b\b\b\b\b\b\b\b\b\b\b\b\b\b\b\b\b\b\b\b\b\b\b\b\b\b\b\b\b\b\b\b\b\b\b\r",
        "18176/60000 [========>.....................] - ETA: 8s - loss: 0.2022 - acc: 0.9401"
       ]
      },
      {
       "output_type": "stream",
       "stream": "stdout",
       "text": [
        "\b\b\b\b\b\b\b\b\b\b\b\b\b\b\b\b\b\b\b\b\b\b\b\b\b\b\b\b\b\b\b\b\b\b\b\b\b\b\b\b\b\b\b\b\b\b\b\b\b\b\b\b\b\b\b\b\b\b\b\b\b\b\b\b\b\b\b\b\b\b\b\b\b\b\b\b\b\b\b\b\b\b\b\r",
        "18304/60000 [========>.....................] - ETA: 8s - loss: 0.2024 - acc: 0.9401"
       ]
      },
      {
       "output_type": "stream",
       "stream": "stdout",
       "text": [
        "\b\b\b\b\b\b\b\b\b\b\b\b\b\b\b\b\b\b\b\b\b\b\b\b\b\b\b\b\b\b\b\b\b\b\b\b\b\b\b\b\b\b\b\b\b\b\b\b\b\b\b\b\b\b\b\b\b\b\b\b\b\b\b\b\b\b\b\b\b\b\b\b\b\b\b\b\b\b\b\b\b\b\b\r",
        "18432/60000 [========>.....................] - ETA: 8s - loss: 0.2024 - acc: 0.9400"
       ]
      },
      {
       "output_type": "stream",
       "stream": "stdout",
       "text": [
        "\b\b\b\b\b\b\b\b\b\b\b\b\b\b\b\b\b\b\b\b\b\b\b\b\b\b\b\b\b\b\b\b\b\b\b\b\b\b\b\b\b\b\b\b\b\b\b\b\b\b\b\b\b\b\b\b\b\b\b\b\b\b\b\b\b\b\b\b\b\b\b\b\b\b\b\b\b\b\b\b\b\b\b\r",
        "18560/60000 [========>.....................] - ETA: 8s - loss: 0.2024 - acc: 0.9400"
       ]
      },
      {
       "output_type": "stream",
       "stream": "stdout",
       "text": [
        "\b\b\b\b\b\b\b\b\b\b\b\b\b\b\b\b\b\b\b\b\b\b\b\b\b\b\b\b\b\b\b\b\b\b\b\b\b\b\b\b\b\b\b\b\b\b\b\b\b\b\b\b\b\b\b\b\b\b\b\b\b\b\b\b\b\b\b\b\b\b\b\b\b\b\b\b\b\b\b\b\b\b\b\r",
        "18688/60000 [========>.....................] - ETA: 8s - loss: 0.2034 - acc: 0.9397"
       ]
      },
      {
       "output_type": "stream",
       "stream": "stdout",
       "text": [
        "\b\b\b\b\b\b\b\b\b\b\b\b\b\b\b\b\b\b\b\b\b\b\b\b\b\b\b\b\b\b\b\b\b\b\b\b\b\b\b\b\b\b\b\b\b\b\b\b\b\b\b\b\b\b\b\b\b\b\b\b\b\b\b\b\b\b\b\b\b\b\b\b\b\b\b\b\b\b\b\b\b\b\b\r",
        "18816/60000 [========>.....................] - ETA: 8s - loss: 0.2029 - acc: 0.9398"
       ]
      },
      {
       "output_type": "stream",
       "stream": "stdout",
       "text": [
        "\b\b\b\b\b\b\b\b\b\b\b\b\b\b\b\b\b\b\b\b\b\b\b\b\b\b\b\b\b\b\b\b\b\b\b\b\b\b\b\b\b\b\b\b\b\b\b\b\b\b\b\b\b\b\b\b\b\b\b\b\b\b\b\b\b\b\b\b\b\b\b\b\b\b\b\b\b\b\b\b\b\b\b\r",
        "18944/60000 [========>.....................] - ETA: 8s - loss: 0.2030 - acc: 0.9397"
       ]
      },
      {
       "output_type": "stream",
       "stream": "stdout",
       "text": [
        "\b\b\b\b\b\b\b\b\b\b\b\b\b\b\b\b\b\b\b\b\b\b\b\b\b\b\b\b\b\b\b\b\b\b\b\b\b\b\b\b\b\b\b\b\b\b\b\b\b\b\b\b\b\b\b\b\b\b\b\b\b\b\b\b\b\b\b\b\b\b\b\b\b\b\b\b\b\b\b\b\b\b\b\r",
        "19072/60000 [========>.....................] - ETA: 8s - loss: 0.2026 - acc: 0.9395"
       ]
      },
      {
       "output_type": "stream",
       "stream": "stdout",
       "text": [
        "\b\b\b\b\b\b\b\b\b\b\b\b\b\b\b\b\b\b\b\b\b\b\b\b\b\b\b\b\b\b\b\b\b\b\b\b\b\b\b\b\b\b\b\b\b\b\b\b\b\b\b\b\b\b\b\b\b\b\b\b\b\b\b\b\b\b\b\b\b\b\b\b\b\b\b\b\b\b\b\b\b\b\b\r",
        "19200/60000 [========>.....................] - ETA: 8s - loss: 0.2021 - acc: 0.9397"
       ]
      },
      {
       "output_type": "stream",
       "stream": "stdout",
       "text": [
        "\b\b\b\b\b\b\b\b\b\b\b\b\b\b\b\b\b\b\b\b\b\b\b\b\b\b\b\b\b\b\b\b\b\b\b\b\b\b\b\b\b\b\b\b\b\b\b\b\b\b\b\b\b\b\b\b\b\b\b\b\b\b\b\b\b\b\b\b\b\b\b\b\b\b\b\b\b\b\b\b\b\b\b\r",
        "19328/60000 [========>.....................] - ETA: 8s - loss: 0.2021 - acc: 0.9396"
       ]
      },
      {
       "output_type": "stream",
       "stream": "stdout",
       "text": [
        "\b\b\b\b\b\b\b\b\b\b\b\b\b\b\b\b\b\b\b\b\b\b\b\b\b\b\b\b\b\b\b\b\b\b\b\b\b\b\b\b\b\b\b\b\b\b\b\b\b\b\b\b\b\b\b\b\b\b\b\b\b\b\b\b\b\b\b\b\b\b\b\b\b\b\b\b\b\b\b\b\b\b\b\r",
        "19456/60000 [========>.....................] - ETA: 8s - loss: 0.2021 - acc: 0.9397"
       ]
      },
      {
       "output_type": "stream",
       "stream": "stdout",
       "text": [
        "\b\b\b\b\b\b\b\b\b\b\b\b\b\b\b\b\b\b\b\b\b\b\b\b\b\b\b\b\b\b\b\b\b\b\b\b\b\b\b\b\b\b\b\b\b\b\b\b\b\b\b\b\b\b\b\b\b\b\b\b\b\b\b\b\b\b\b\b\b\b\b\b\b\b\b\b\b\b\b\b\b\b\b\r",
        "19584/60000 [========>.....................] - ETA: 8s - loss: 0.2031 - acc: 0.9394"
       ]
      },
      {
       "output_type": "stream",
       "stream": "stdout",
       "text": [
        "\b\b\b\b\b\b\b\b\b\b\b\b\b\b\b\b\b\b\b\b\b\b\b\b\b\b\b\b\b\b\b\b\b\b\b\b\b\b\b\b\b\b\b\b\b\b\b\b\b\b\b\b\b\b\b\b\b\b\b\b\b\b\b\b\b\b\b\b\b\b\b\b\b\b\b\b\b\b\b\b\b\b\b\r",
        "19712/60000 [========>.....................] - ETA: 8s - loss: 0.2025 - acc: 0.9396"
       ]
      },
      {
       "output_type": "stream",
       "stream": "stdout",
       "text": [
        "\b\b\b\b\b\b\b\b\b\b\b\b\b\b\b\b\b\b\b\b\b\b\b\b\b\b\b\b\b\b\b\b\b\b\b\b\b\b\b\b\b\b\b\b\b\b\b\b\b\b\b\b\b\b\b\b\b\b\b\b\b\b\b\b\b\b\b\b\b\b\b\b\b\b\b\b\b\b\b\b\b\b\b\r",
        "19840/60000 [========>.....................] - ETA: 7s - loss: 0.2019 - acc: 0.9398"
       ]
      },
      {
       "output_type": "stream",
       "stream": "stdout",
       "text": [
        "\b\b\b\b\b\b\b\b\b\b\b\b\b\b\b\b\b\b\b\b\b\b\b\b\b\b\b\b\b\b\b\b\b\b\b\b\b\b\b\b\b\b\b\b\b\b\b\b\b\b\b\b\b\b\b\b\b\b\b\b\b\b\b\b\b\b\b\b\b\b\b\b\b\b\b\b\b\b\b\b\b\b\b\r",
        "19968/60000 [========>.....................] - ETA: 7s - loss: 0.2021 - acc: 0.9399"
       ]
      },
      {
       "output_type": "stream",
       "stream": "stdout",
       "text": [
        "\b\b\b\b\b\b\b\b\b\b\b\b\b\b\b\b\b\b\b\b\b\b\b\b\b\b\b\b\b\b\b\b\b\b\b\b\b\b\b\b\b\b\b\b\b\b\b\b\b\b\b\b\b\b\b\b\b\b\b\b\b\b\b\b\b\b\b\b\b\b\b\b\b\b\b\b\b\b\b\b\b\b\b\r",
        "20096/60000 [=========>....................] - ETA: 7s - loss: 0.2024 - acc: 0.9399"
       ]
      },
      {
       "output_type": "stream",
       "stream": "stdout",
       "text": [
        "\b\b\b\b\b\b\b\b\b\b\b\b\b\b\b\b\b\b\b\b\b\b\b\b\b\b\b\b\b\b\b\b\b\b\b\b\b\b\b\b\b\b\b\b\b\b\b\b\b\b\b\b\b\b\b\b\b\b\b\b\b\b\b\b\b\b\b\b\b\b\b\b\b\b\b\b\b\b\b\b\b\b\b\r",
        "20224/60000 [=========>....................] - ETA: 7s - loss: 0.2029 - acc: 0.9396"
       ]
      },
      {
       "output_type": "stream",
       "stream": "stdout",
       "text": [
        "\b\b\b\b\b\b\b\b\b\b\b\b\b\b\b\b\b\b\b\b\b\b\b\b\b\b\b\b\b\b\b\b\b\b\b\b\b\b\b\b\b\b\b\b\b\b\b\b\b\b\b\b\b\b\b\b\b\b\b\b\b\b\b\b\b\b\b\b\b\b\b\b\b\b\b\b\b\b\b\b\b\b\b\r",
        "20352/60000 [=========>....................] - ETA: 7s - loss: 0.2027 - acc: 0.9397"
       ]
      },
      {
       "output_type": "stream",
       "stream": "stdout",
       "text": [
        "\b\b\b\b\b\b\b\b\b\b\b\b\b\b\b\b\b\b\b\b\b\b\b\b\b\b\b\b\b\b\b\b\b\b\b\b\b\b\b\b\b\b\b\b\b\b\b\b\b\b\b\b\b\b\b\b\b\b\b\b\b\b\b\b\b\b\b\b\b\b\b\b\b\b\b\b\b\b\b\b\b\b\b\r",
        "20480/60000 [=========>....................] - ETA: 7s - loss: 0.2025 - acc: 0.9397"
       ]
      },
      {
       "output_type": "stream",
       "stream": "stdout",
       "text": [
        "\b\b\b\b\b\b\b\b\b\b\b\b\b\b\b\b\b\b\b\b\b\b\b\b\b\b\b\b\b\b\b\b\b\b\b\b\b\b\b\b\b\b\b\b\b\b\b\b\b\b\b\b\b\b\b\b\b\b\b\b\b\b\b\b\b\b\b\b\b\b\b\b\b\b\b\b\b\b\b\b\b\b\b\r",
        "20608/60000 [=========>....................] - ETA: 7s - loss: 0.2026 - acc: 0.9397"
       ]
      },
      {
       "output_type": "stream",
       "stream": "stdout",
       "text": [
        "\b\b\b\b\b\b\b\b\b\b\b\b\b\b\b\b\b\b\b\b\b\b\b\b\b\b\b\b\b\b\b\b\b\b\b\b\b\b\b\b\b\b\b\b\b\b\b\b\b\b\b\b\b\b\b\b\b\b\b\b\b\b\b\b\b\b\b\b\b\b\b\b\b\b\b\b\b\b\b\b\b\b\b\r",
        "20736/60000 [=========>....................] - ETA: 7s - loss: 0.2021 - acc: 0.9399"
       ]
      },
      {
       "output_type": "stream",
       "stream": "stdout",
       "text": [
        "\b\b\b\b\b\b\b\b\b\b\b\b\b\b\b\b\b\b\b\b\b\b\b\b\b\b\b\b\b\b\b\b\b\b\b\b\b\b\b\b\b\b\b\b\b\b\b\b\b\b\b\b\b\b\b\b\b\b\b\b\b\b\b\b\b\b\b\b\b\b\b\b\b\b\b\b\b\b\b\b\b\b\b\r",
        "20864/60000 [=========>....................] - ETA: 7s - loss: 0.2020 - acc: 0.9400"
       ]
      },
      {
       "output_type": "stream",
       "stream": "stdout",
       "text": [
        "\b\b\b\b\b\b\b\b\b\b\b\b\b\b\b\b\b\b\b\b\b\b\b\b\b\b\b\b\b\b\b\b\b\b\b\b\b\b\b\b\b\b\b\b\b\b\b\b\b\b\b\b\b\b\b\b\b\b\b\b\b\b\b\b\b\b\b\b\b\b\b\b\b\b\b\b\b\b\b\b\b\b\b\r",
        "20992/60000 [=========>....................] - ETA: 7s - loss: 0.2016 - acc: 0.9401"
       ]
      },
      {
       "output_type": "stream",
       "stream": "stdout",
       "text": [
        "\b\b\b\b\b\b\b\b\b\b\b\b\b\b\b\b\b\b\b\b\b\b\b\b\b\b\b\b\b\b\b\b\b\b\b\b\b\b\b\b\b\b\b\b\b\b\b\b\b\b\b\b\b\b\b\b\b\b\b\b\b\b\b\b\b\b\b\b\b\b\b\b\b\b\b\b\b\b\b\b\b\b\b\r",
        "21120/60000 [=========>....................] - ETA: 7s - loss: 0.2016 - acc: 0.9401"
       ]
      },
      {
       "output_type": "stream",
       "stream": "stdout",
       "text": [
        "\b\b\b\b\b\b\b\b\b\b\b\b\b\b\b\b\b\b\b\b\b\b\b\b\b\b\b\b\b\b\b\b\b\b\b\b\b\b\b\b\b\b\b\b\b\b\b\b\b\b\b\b\b\b\b\b\b\b\b\b\b\b\b\b\b\b\b\b\b\b\b\b\b\b\b\b\b\b\b\b\b\b\b\r",
        "21248/60000 [=========>....................] - ETA: 7s - loss: 0.2018 - acc: 0.9399"
       ]
      },
      {
       "output_type": "stream",
       "stream": "stdout",
       "text": [
        "\b\b\b\b\b\b\b\b\b\b\b\b\b\b\b\b\b\b\b\b\b\b\b\b\b\b\b\b\b\b\b\b\b\b\b\b\b\b\b\b\b\b\b\b\b\b\b\b\b\b\b\b\b\b\b\b\b\b\b\b\b\b\b\b\b\b\b\b\b\b\b\b\b\b\b\b\b\b\b\b\b\b\b\r",
        "21376/60000 [=========>....................] - ETA: 7s - loss: 0.2011 - acc: 0.9401"
       ]
      },
      {
       "output_type": "stream",
       "stream": "stdout",
       "text": [
        "\b\b\b\b\b\b\b\b\b\b\b\b\b\b\b\b\b\b\b\b\b\b\b\b\b\b\b\b\b\b\b\b\b\b\b\b\b\b\b\b\b\b\b\b\b\b\b\b\b\b\b\b\b\b\b\b\b\b\b\b\b\b\b\b\b\b\b\b\b\b\b\b\b\b\b\b\b\b\b\b\b\b\b\r",
        "21504/60000 [=========>....................] - ETA: 7s - loss: 0.2016 - acc: 0.9400"
       ]
      },
      {
       "output_type": "stream",
       "stream": "stdout",
       "text": [
        "\b\b\b\b\b\b\b\b\b\b\b\b\b\b\b\b\b\b\b\b\b\b\b\b\b\b\b\b\b\b\b\b\b\b\b\b\b\b\b\b\b\b\b\b\b\b\b\b\b\b\b\b\b\b\b\b\b\b\b\b\b\b\b\b\b\b\b\b\b\b\b\b\b\b\b\b\b\b\b\b\b\b\b\r",
        "21632/60000 [=========>....................] - ETA: 7s - loss: 0.2021 - acc: 0.9399"
       ]
      },
      {
       "output_type": "stream",
       "stream": "stdout",
       "text": [
        "\b\b\b\b\b\b\b\b\b\b\b\b\b\b\b\b\b\b\b\b\b\b\b\b\b\b\b\b\b\b\b\b\b\b\b\b\b\b\b\b\b\b\b\b\b\b\b\b\b\b\b\b\b\b\b\b\b\b\b\b\b\b\b\b\b\b\b\b\b\b\b\b\b\b\b\b\b\b\b\b\b\b\b\r",
        "21760/60000 [=========>....................] - ETA: 7s - loss: 0.2022 - acc: 0.9398"
       ]
      },
      {
       "output_type": "stream",
       "stream": "stdout",
       "text": [
        "\b\b\b\b\b\b\b\b\b\b\b\b\b\b\b\b\b\b\b\b\b\b\b\b\b\b\b\b\b\b\b\b\b\b\b\b\b\b\b\b\b\b\b\b\b\b\b\b\b\b\b\b\b\b\b\b\b\b\b\b\b\b\b\b\b\b\b\b\b\b\b\b\b\b\b\b\b\b\b\b\b\b\b\r",
        "21888/60000 [=========>....................] - ETA: 7s - loss: 0.2026 - acc: 0.9396"
       ]
      },
      {
       "output_type": "stream",
       "stream": "stdout",
       "text": [
        "\b\b\b\b\b\b\b\b\b\b\b\b\b\b\b\b\b\b\b\b\b\b\b\b\b\b\b\b\b\b\b\b\b\b\b\b\b\b\b\b\b\b\b\b\b\b\b\b\b\b\b\b\b\b\b\b\b\b\b\b\b\b\b\b\b\b\b\b\b\b\b\b\b\b\b\b\b\b\b\b\b\b\b\r",
        "22016/60000 [==========>...................] - ETA: 7s - loss: 0.2024 - acc: 0.9397"
       ]
      },
      {
       "output_type": "stream",
       "stream": "stdout",
       "text": [
        "\b\b\b\b\b\b\b\b\b\b\b\b\b\b\b\b\b\b\b\b\b\b\b\b\b\b\b\b\b\b\b\b\b\b\b\b\b\b\b\b\b\b\b\b\b\b\b\b\b\b\b\b\b\b\b\b\b\b\b\b\b\b\b\b\b\b\b\b\b\b\b\b\b\b\b\b\b\b\b\b\b\b\b\r",
        "22144/60000 [==========>...................] - ETA: 7s - loss: 0.2019 - acc: 0.9398"
       ]
      },
      {
       "output_type": "stream",
       "stream": "stdout",
       "text": [
        "\b\b\b\b\b\b\b\b\b\b\b\b\b\b\b\b\b\b\b\b\b\b\b\b\b\b\b\b\b\b\b\b\b\b\b\b\b\b\b\b\b\b\b\b\b\b\b\b\b\b\b\b\b\b\b\b\b\b\b\b\b\b\b\b\b\b\b\b\b\b\b\b\b\b\b\b\b\b\b\b\b\b\b\r",
        "22272/60000 [==========>...................] - ETA: 7s - loss: 0.2015 - acc: 0.9400"
       ]
      },
      {
       "output_type": "stream",
       "stream": "stdout",
       "text": [
        "\b\b\b\b\b\b\b\b\b\b\b\b\b\b\b\b\b\b\b\b\b\b\b\b\b\b\b\b\b\b\b\b\b\b\b\b\b\b\b\b\b\b\b\b\b\b\b\b\b\b\b\b\b\b\b\b\b\b\b\b\b\b\b\b\b\b\b\b\b\b\b\b\b\b\b\b\b\b\b\b\b\b\b\r",
        "22400/60000 [==========>...................] - ETA: 7s - loss: 0.2015 - acc: 0.9398"
       ]
      },
      {
       "output_type": "stream",
       "stream": "stdout",
       "text": [
        "\b\b\b\b\b\b\b\b\b\b\b\b\b\b\b\b\b\b\b\b\b\b\b\b\b\b\b\b\b\b\b\b\b\b\b\b\b\b\b\b\b\b\b\b\b\b\b\b\b\b\b\b\b\b\b\b\b\b\b\b\b\b\b\b\b\b\b\b\b\b\b\b\b\b\b\b\b\b\b\b\b\b\b\r",
        "22528/60000 [==========>...................] - ETA: 7s - loss: 0.2015 - acc: 0.9399"
       ]
      },
      {
       "output_type": "stream",
       "stream": "stdout",
       "text": [
        "\b\b\b\b\b\b\b\b\b\b\b\b\b\b\b\b\b\b\b\b\b\b\b\b\b\b\b\b\b\b\b\b\b\b\b\b\b\b\b\b\b\b\b\b\b\b\b\b\b\b\b\b\b\b\b\b\b\b\b\b\b\b\b\b\b\b\b\b\b\b\b\b\b\b\b\b\b\b\b\b\b\b\b\r",
        "22656/60000 [==========>...................] - ETA: 7s - loss: 0.2015 - acc: 0.9400"
       ]
      },
      {
       "output_type": "stream",
       "stream": "stdout",
       "text": [
        "\b\b\b\b\b\b\b\b\b\b\b\b\b\b\b\b\b\b\b\b\b\b\b\b\b\b\b\b\b\b\b\b\b\b\b\b\b\b\b\b\b\b\b\b\b\b\b\b\b\b\b\b\b\b\b\b\b\b\b\b\b\b\b\b\b\b\b\b\b\b\b\b\b\b\b\b\b\b\b\b\b\b\b\r",
        "22784/60000 [==========>...................] - ETA: 7s - loss: 0.2015 - acc: 0.9400"
       ]
      },
      {
       "output_type": "stream",
       "stream": "stdout",
       "text": [
        "\b\b\b\b\b\b\b\b\b\b\b\b\b\b\b\b\b\b\b\b\b\b\b\b\b\b\b\b\b\b\b\b\b\b\b\b\b\b\b\b\b\b\b\b\b\b\b\b\b\b\b\b\b\b\b\b\b\b\b\b\b\b\b\b\b\b\b\b\b\b\b\b\b\b\b\b\b\b\b\b\b\b\b\r",
        "22912/60000 [==========>...................] - ETA: 7s - loss: 0.2014 - acc: 0.9400"
       ]
      },
      {
       "output_type": "stream",
       "stream": "stdout",
       "text": [
        "\b\b\b\b\b\b\b\b\b\b\b\b\b\b\b\b\b\b\b\b\b\b\b\b\b\b\b\b\b\b\b\b\b\b\b\b\b\b\b\b\b\b\b\b\b\b\b\b\b\b\b\b\b\b\b\b\b\b\b\b\b\b\b\b\b\b\b\b\b\b\b\b\b\b\b\b\b\b\b\b\b\b\b\r",
        "23040/60000 [==========>...................] - ETA: 7s - loss: 0.2013 - acc: 0.9401"
       ]
      },
      {
       "output_type": "stream",
       "stream": "stdout",
       "text": [
        "\b\b\b\b\b\b\b\b\b\b\b\b\b\b\b\b\b\b\b\b\b\b\b\b\b\b\b\b\b\b\b\b\b\b\b\b\b\b\b\b\b\b\b\b\b\b\b\b\b\b\b\b\b\b\b\b\b\b\b\b\b\b\b\b\b\b\b\b\b\b\b\b\b\b\b\b\b\b\b\b\b\b\b\r",
        "23168/60000 [==========>...................] - ETA: 7s - loss: 0.2009 - acc: 0.9402"
       ]
      },
      {
       "output_type": "stream",
       "stream": "stdout",
       "text": [
        "\b\b\b\b\b\b\b\b\b\b\b\b\b\b\b\b\b\b\b\b\b\b\b\b\b\b\b\b\b\b\b\b\b\b\b\b\b\b\b\b\b\b\b\b\b\b\b\b\b\b\b\b\b\b\b\b\b\b\b\b\b\b\b\b\b\b\b\b\b\b\b\b\b\b\b\b\b\b\b\b\b\b\b\r",
        "23296/60000 [==========>...................] - ETA: 7s - loss: 0.2006 - acc: 0.9404"
       ]
      },
      {
       "output_type": "stream",
       "stream": "stdout",
       "text": [
        "\b\b\b\b\b\b\b\b\b\b\b\b\b\b\b\b\b\b\b\b\b\b\b\b\b\b\b\b\b\b\b\b\b\b\b\b\b\b\b\b\b\b\b\b\b\b\b\b\b\b\b\b\b\b\b\b\b\b\b\b\b\b\b\b\b\b\b\b\b\b\b\b\b\b\b\b\b\b\b\b\b\b\b\r",
        "23424/60000 [==========>...................] - ETA: 7s - loss: 0.2006 - acc: 0.9405"
       ]
      },
      {
       "output_type": "stream",
       "stream": "stdout",
       "text": [
        "\b\b\b\b\b\b\b\b\b\b\b\b\b\b\b\b\b\b\b\b\b\b\b\b\b\b\b\b\b\b\b\b\b\b\b\b\b\b\b\b\b\b\b\b\b\b\b\b\b\b\b\b\b\b\b\b\b\b\b\b\b\b\b\b\b\b\b\b\b\b\b\b\b\b\b\b\b\b\b\b\b\b\b\r",
        "23552/60000 [==========>...................] - ETA: 7s - loss: 0.2010 - acc: 0.9403"
       ]
      },
      {
       "output_type": "stream",
       "stream": "stdout",
       "text": [
        "\b\b\b\b\b\b\b\b\b\b\b\b\b\b\b\b\b\b\b\b\b\b\b\b\b\b\b\b\b\b\b\b\b\b\b\b\b\b\b\b\b\b\b\b\b\b\b\b\b\b\b\b\b\b\b\b\b\b\b\b\b\b\b\b\b\b\b\b\b\b\b\b\b\b\b\b\b\b\b\b\b\b\b\r",
        "23680/60000 [==========>...................] - ETA: 7s - loss: 0.2010 - acc: 0.9404"
       ]
      },
      {
       "output_type": "stream",
       "stream": "stdout",
       "text": [
        "\b\b\b\b\b\b\b\b\b\b\b\b\b\b\b\b\b\b\b\b\b\b\b\b\b\b\b\b\b\b\b\b\b\b\b\b\b\b\b\b\b\b\b\b\b\b\b\b\b\b\b\b\b\b\b\b\b\b\b\b\b\b\b\b\b\b\b\b\b\b\b\b\b\b\b\b\b\b\b\b\b\b\b\r",
        "23808/60000 [==========>...................] - ETA: 7s - loss: 0.2008 - acc: 0.9404"
       ]
      },
      {
       "output_type": "stream",
       "stream": "stdout",
       "text": [
        "\b\b\b\b\b\b\b\b\b\b\b\b\b\b\b\b\b\b\b\b\b\b\b\b\b\b\b\b\b\b\b\b\b\b\b\b\b\b\b\b\b\b\b\b\b\b\b\b\b\b\b\b\b\b\b\b\b\b\b\b\b\b\b\b\b\b\b\b\b\b\b\b\b\b\b\b\b\b\b\b\b\b\b\r",
        "23936/60000 [==========>...................] - ETA: 7s - loss: 0.2005 - acc: 0.9405"
       ]
      },
      {
       "output_type": "stream",
       "stream": "stdout",
       "text": [
        "\b\b\b\b\b\b\b\b\b\b\b\b\b\b\b\b\b\b\b\b\b\b\b\b\b\b\b\b\b\b\b\b\b\b\b\b\b\b\b\b\b\b\b\b\b\b\b\b\b\b\b\b\b\b\b\b\b\b\b\b\b\b\b\b\b\b\b\b\b\b\b\b\b\b\b\b\b\b\b\b\b\b\b\r",
        "24064/60000 [===========>..................] - ETA: 7s - loss: 0.2004 - acc: 0.9405"
       ]
      },
      {
       "output_type": "stream",
       "stream": "stdout",
       "text": [
        "\b\b\b\b\b\b\b\b\b\b\b\b\b\b\b\b\b\b\b\b\b\b\b\b\b\b\b\b\b\b\b\b\b\b\b\b\b\b\b\b\b\b\b\b\b\b\b\b\b\b\b\b\b\b\b\b\b\b\b\b\b\b\b\b\b\b\b\b\b\b\b\b\b\b\b\b\b\b\b\b\b\b\b\r",
        "24192/60000 [===========>..................] - ETA: 7s - loss: 0.2008 - acc: 0.9404"
       ]
      },
      {
       "output_type": "stream",
       "stream": "stdout",
       "text": [
        "\b\b\b\b\b\b\b\b\b\b\b\b\b\b\b\b\b\b\b\b\b\b\b\b\b\b\b\b\b\b\b\b\b\b\b\b\b\b\b\b\b\b\b\b\b\b\b\b\b\b\b\b\b\b\b\b\b\b\b\b\b\b\b\b\b\b\b\b\b\b\b\b\b\b\b\b\b\b\b\b\b\b\b\r",
        "24320/60000 [===========>..................] - ETA: 7s - loss: 0.2005 - acc: 0.9404"
       ]
      },
      {
       "output_type": "stream",
       "stream": "stdout",
       "text": [
        "\b\b\b\b\b\b\b\b\b\b\b\b\b\b\b\b\b\b\b\b\b\b\b\b\b\b\b\b\b\b\b\b\b\b\b\b\b\b\b\b\b\b\b\b\b\b\b\b\b\b\b\b\b\b\b\b\b\b\b\b\b\b\b\b\b\b\b\b\b\b\b\b\b\b\b\b\b\b\b\b\b\b\b\r",
        "24448/60000 [===========>..................] - ETA: 7s - loss: 0.2001 - acc: 0.9405"
       ]
      },
      {
       "output_type": "stream",
       "stream": "stdout",
       "text": [
        "\b\b\b\b\b\b\b\b\b\b\b\b\b\b\b\b\b\b\b\b\b\b\b\b\b\b\b\b\b\b\b\b\b\b\b\b\b\b\b\b\b\b\b\b\b\b\b\b\b\b\b\b\b\b\b\b\b\b\b\b\b\b\b\b\b\b\b\b\b\b\b\b\b\b\b\b\b\b\b\b\b\b\b\r",
        "24576/60000 [===========>..................] - ETA: 7s - loss: 0.2006 - acc: 0.9402"
       ]
      },
      {
       "output_type": "stream",
       "stream": "stdout",
       "text": [
        "\b\b\b\b\b\b\b\b\b\b\b\b\b\b\b\b\b\b\b\b\b\b\b\b\b\b\b\b\b\b\b\b\b\b\b\b\b\b\b\b\b\b\b\b\b\b\b\b\b\b\b\b\b\b\b\b\b\b\b\b\b\b\b\b\b\b\b\b\b\b\b\b\b\b\b\b\b\b\b\b\b\b\b\r",
        "24704/60000 [===========>..................] - ETA: 7s - loss: 0.2003 - acc: 0.9404"
       ]
      },
      {
       "output_type": "stream",
       "stream": "stdout",
       "text": [
        "\b\b\b\b\b\b\b\b\b\b\b\b\b\b\b\b\b\b\b\b\b\b\b\b\b\b\b\b\b\b\b\b\b\b\b\b\b\b\b\b\b\b\b\b\b\b\b\b\b\b\b\b\b\b\b\b\b\b\b\b\b\b\b\b\b\b\b\b\b\b\b\b\b\b\b\b\b\b\b\b\b\b\b\r",
        "24832/60000 [===========>..................] - ETA: 7s - loss: 0.2003 - acc: 0.9404"
       ]
      },
      {
       "output_type": "stream",
       "stream": "stdout",
       "text": [
        "\b\b\b\b\b\b\b\b\b\b\b\b\b\b\b\b\b\b\b\b\b\b\b\b\b\b\b\b\b\b\b\b\b\b\b\b\b\b\b\b\b\b\b\b\b\b\b\b\b\b\b\b\b\b\b\b\b\b\b\b\b\b\b\b\b\b\b\b\b\b\b\b\b\b\b\b\b\b\b\b\b\b\b\r",
        "24960/60000 [===========>..................] - ETA: 7s - loss: 0.2004 - acc: 0.9404"
       ]
      },
      {
       "output_type": "stream",
       "stream": "stdout",
       "text": [
        "\b\b\b\b\b\b\b\b\b\b\b\b\b\b\b\b\b\b\b\b\b\b\b\b\b\b\b\b\b\b\b\b\b\b\b\b\b\b\b\b\b\b\b\b\b\b\b\b\b\b\b\b\b\b\b\b\b\b\b\b\b\b\b\b\b\b\b\b\b\b\b\b\b\b\b\b\b\b\b\b\b\b\b\r",
        "25088/60000 [===========>..................] - ETA: 6s - loss: 0.2000 - acc: 0.9406"
       ]
      },
      {
       "output_type": "stream",
       "stream": "stdout",
       "text": [
        "\b\b\b\b\b\b\b\b\b\b\b\b\b\b\b\b\b\b\b\b\b\b\b\b\b\b\b\b\b\b\b\b\b\b\b\b\b\b\b\b\b\b\b\b\b\b\b\b\b\b\b\b\b\b\b\b\b\b\b\b\b\b\b\b\b\b\b\b\b\b\b\b\b\b\b\b\b\b\b\b\b\b\b\r",
        "25216/60000 [===========>..................] - ETA: 6s - loss: 0.2002 - acc: 0.9407"
       ]
      },
      {
       "output_type": "stream",
       "stream": "stdout",
       "text": [
        "\b\b\b\b\b\b\b\b\b\b\b\b\b\b\b\b\b\b\b\b\b\b\b\b\b\b\b\b\b\b\b\b\b\b\b\b\b\b\b\b\b\b\b\b\b\b\b\b\b\b\b\b\b\b\b\b\b\b\b\b\b\b\b\b\b\b\b\b\b\b\b\b\b\b\b\b\b\b\b\b\b\b\b\r",
        "25344/60000 [===========>..................] - ETA: 6s - loss: 0.2001 - acc: 0.9406"
       ]
      },
      {
       "output_type": "stream",
       "stream": "stdout",
       "text": [
        "\b\b\b\b\b\b\b\b\b\b\b\b\b\b\b\b\b\b\b\b\b\b\b\b\b\b\b\b\b\b\b\b\b\b\b\b\b\b\b\b\b\b\b\b\b\b\b\b\b\b\b\b\b\b\b\b\b\b\b\b\b\b\b\b\b\b\b\b\b\b\b\b\b\b\b\b\b\b\b\b\b\b\b\r",
        "25472/60000 [===========>..................] - ETA: 6s - loss: 0.1997 - acc: 0.9407"
       ]
      },
      {
       "output_type": "stream",
       "stream": "stdout",
       "text": [
        "\b\b\b\b\b\b\b\b\b\b\b\b\b\b\b\b\b\b\b\b\b\b\b\b\b\b\b\b\b\b\b\b\b\b\b\b\b\b\b\b\b\b\b\b\b\b\b\b\b\b\b\b\b\b\b\b\b\b\b\b\b\b\b\b\b\b\b\b\b\b\b\b\b\b\b\b\b\b\b\b\b\b\b\r",
        "25600/60000 [===========>..................] - ETA: 6s - loss: 0.1993 - acc: 0.9408"
       ]
      },
      {
       "output_type": "stream",
       "stream": "stdout",
       "text": [
        "\b\b\b\b\b\b\b\b\b\b\b\b\b\b\b\b\b\b\b\b\b\b\b\b\b\b\b\b\b\b\b\b\b\b\b\b\b\b\b\b\b\b\b\b\b\b\b\b\b\b\b\b\b\b\b\b\b\b\b\b\b\b\b\b\b\b\b\b\b\b\b\b\b\b\b\b\b\b\b\b\b\b\b\r",
        "25728/60000 [===========>..................] - ETA: 6s - loss: 0.1993 - acc: 0.9407"
       ]
      },
      {
       "output_type": "stream",
       "stream": "stdout",
       "text": [
        "\b\b\b\b\b\b\b\b\b\b\b\b\b\b\b\b\b\b\b\b\b\b\b\b\b\b\b\b\b\b\b\b\b\b\b\b\b\b\b\b\b\b\b\b\b\b\b\b\b\b\b\b\b\b\b\b\b\b\b\b\b\b\b\b\b\b\b\b\b\b\b\b\b\b\b\b\b\b\b\b\b\b\b\r",
        "25856/60000 [===========>..................] - ETA: 6s - loss: 0.1990 - acc: 0.9408"
       ]
      },
      {
       "output_type": "stream",
       "stream": "stdout",
       "text": [
        "\b\b\b\b\b\b\b\b\b\b\b\b\b\b\b\b\b\b\b\b\b\b\b\b\b\b\b\b\b\b\b\b\b\b\b\b\b\b\b\b\b\b\b\b\b\b\b\b\b\b\b\b\b\b\b\b\b\b\b\b\b\b\b\b\b\b\b\b\b\b\b\b\b\b\b\b\b\b\b\b\b\b\b\r",
        "25984/60000 [===========>..................] - ETA: 6s - loss: 0.1989 - acc: 0.9408"
       ]
      },
      {
       "output_type": "stream",
       "stream": "stdout",
       "text": [
        "\b\b\b\b\b\b\b\b\b\b\b\b\b\b\b\b\b\b\b\b\b\b\b\b\b\b\b\b\b\b\b\b\b\b\b\b\b\b\b\b\b\b\b\b\b\b\b\b\b\b\b\b\b\b\b\b\b\b\b\b\b\b\b\b\b\b\b\b\b\b\b\b\b\b\b\b\b\b\b\b\b\b\b\r",
        "26112/60000 [============>.................] - ETA: 6s - loss: 0.1988 - acc: 0.9408"
       ]
      },
      {
       "output_type": "stream",
       "stream": "stdout",
       "text": [
        "\b\b\b\b\b\b\b\b\b\b\b\b\b\b\b\b\b\b\b\b\b\b\b\b\b\b\b\b\b\b\b\b\b\b\b\b\b\b\b\b\b\b\b\b\b\b\b\b\b\b\b\b\b\b\b\b\b\b\b\b\b\b\b\b\b\b\b\b\b\b\b\b\b\b\b\b\b\b\b\b\b\b\b\r",
        "26240/60000 [============>.................] - ETA: 6s - loss: 0.1987 - acc: 0.9408"
       ]
      },
      {
       "output_type": "stream",
       "stream": "stdout",
       "text": [
        "\b\b\b\b\b\b\b\b\b\b\b\b\b\b\b\b\b\b\b\b\b\b\b\b\b\b\b\b\b\b\b\b\b\b\b\b\b\b\b\b\b\b\b\b\b\b\b\b\b\b\b\b\b\b\b\b\b\b\b\b\b\b\b\b\b\b\b\b\b\b\b\b\b\b\b\b\b\b\b\b\b\b\b\r",
        "26368/60000 [============>.................] - ETA: 6s - loss: 0.1984 - acc: 0.9408"
       ]
      },
      {
       "output_type": "stream",
       "stream": "stdout",
       "text": [
        "\b\b\b\b\b\b\b\b\b\b\b\b\b\b\b\b\b\b\b\b\b\b\b\b\b\b\b\b\b\b\b\b\b\b\b\b\b\b\b\b\b\b\b\b\b\b\b\b\b\b\b\b\b\b\b\b\b\b\b\b\b\b\b\b\b\b\b\b\b\b\b\b\b\b\b\b\b\b\b\b\b\b\b\r",
        "26496/60000 [============>.................] - ETA: 6s - loss: 0.1985 - acc: 0.9408"
       ]
      },
      {
       "output_type": "stream",
       "stream": "stdout",
       "text": [
        "\b\b\b\b\b\b\b\b\b\b\b\b\b\b\b\b\b\b\b\b\b\b\b\b\b\b\b\b\b\b\b\b\b\b\b\b\b\b\b\b\b\b\b\b\b\b\b\b\b\b\b\b\b\b\b\b\b\b\b\b\b\b\b\b\b\b\b\b\b\b\b\b\b\b\b\b\b\b\b\b\b\b\b\r",
        "26624/60000 [============>.................] - ETA: 6s - loss: 0.1982 - acc: 0.9408"
       ]
      },
      {
       "output_type": "stream",
       "stream": "stdout",
       "text": [
        "\b\b\b\b\b\b\b\b\b\b\b\b\b\b\b\b\b\b\b\b\b\b\b\b\b\b\b\b\b\b\b\b\b\b\b\b\b\b\b\b\b\b\b\b\b\b\b\b\b\b\b\b\b\b\b\b\b\b\b\b\b\b\b\b\b\b\b\b\b\b\b\b\b\b\b\b\b\b\b\b\b\b\b\r",
        "26752/60000 [============>.................] - ETA: 6s - loss: 0.1981 - acc: 0.9408"
       ]
      },
      {
       "output_type": "stream",
       "stream": "stdout",
       "text": [
        "\b\b\b\b\b\b\b\b\b\b\b\b\b\b\b\b\b\b\b\b\b\b\b\b\b\b\b\b\b\b\b\b\b\b\b\b\b\b\b\b\b\b\b\b\b\b\b\b\b\b\b\b\b\b\b\b\b\b\b\b\b\b\b\b\b\b\b\b\b\b\b\b\b\b\b\b\b\b\b\b\b\b\b\r",
        "26880/60000 [============>.................] - ETA: 6s - loss: 0.1980 - acc: 0.9408"
       ]
      },
      {
       "output_type": "stream",
       "stream": "stdout",
       "text": [
        "\b\b\b\b\b\b\b\b\b\b\b\b\b\b\b\b\b\b\b\b\b\b\b\b\b\b\b\b\b\b\b\b\b\b\b\b\b\b\b\b\b\b\b\b\b\b\b\b\b\b\b\b\b\b\b\b\b\b\b\b\b\b\b\b\b\b\b\b\b\b\b\b\b\b\b\b\b\b\b\b\b\b\b\r",
        "27008/60000 [============>.................] - ETA: 6s - loss: 0.1975 - acc: 0.9409"
       ]
      },
      {
       "output_type": "stream",
       "stream": "stdout",
       "text": [
        "\b\b\b\b\b\b\b\b\b\b\b\b\b\b\b\b\b\b\b\b\b\b\b\b\b\b\b\b\b\b\b\b\b\b\b\b\b\b\b\b\b\b\b\b\b\b\b\b\b\b\b\b\b\b\b\b\b\b\b\b\b\b\b\b\b\b\b\b\b\b\b\b\b\b\b\b\b\b\b\b\b\b\b\r",
        "27136/60000 [============>.................] - ETA: 6s - loss: 0.1979 - acc: 0.9409"
       ]
      },
      {
       "output_type": "stream",
       "stream": "stdout",
       "text": [
        "\b\b\b\b\b\b\b\b\b\b\b\b\b\b\b\b\b\b\b\b\b\b\b\b\b\b\b\b\b\b\b\b\b\b\b\b\b\b\b\b\b\b\b\b\b\b\b\b\b\b\b\b\b\b\b\b\b\b\b\b\b\b\b\b\b\b\b\b\b\b\b\b\b\b\b\b\b\b\b\b\b\b\b\r",
        "27264/60000 [============>.................] - ETA: 6s - loss: 0.1978 - acc: 0.9409"
       ]
      },
      {
       "output_type": "stream",
       "stream": "stdout",
       "text": [
        "\b\b\b\b\b\b\b\b\b\b\b\b\b\b\b\b\b\b\b\b\b\b\b\b\b\b\b\b\b\b\b\b\b\b\b\b\b\b\b\b\b\b\b\b\b\b\b\b\b\b\b\b\b\b\b\b\b\b\b\b\b\b\b\b\b\b\b\b\b\b\b\b\b\b\b\b\b\b\b\b\b\b\b\r",
        "27392/60000 [============>.................] - ETA: 6s - loss: 0.1980 - acc: 0.9408"
       ]
      },
      {
       "output_type": "stream",
       "stream": "stdout",
       "text": [
        "\b\b\b\b\b\b\b\b\b\b\b\b\b\b\b\b\b\b\b\b\b\b\b\b\b\b\b\b\b\b\b\b\b\b\b\b\b\b\b\b\b\b\b\b\b\b\b\b\b\b\b\b\b\b\b\b\b\b\b\b\b\b\b\b\b\b\b\b\b\b\b\b\b\b\b\b\b\b\b\b\b\b\b\r",
        "27520/60000 [============>.................] - ETA: 6s - loss: 0.1982 - acc: 0.9407"
       ]
      },
      {
       "output_type": "stream",
       "stream": "stdout",
       "text": [
        "\b\b\b\b\b\b\b\b\b\b\b\b\b\b\b\b\b\b\b\b\b\b\b\b\b\b\b\b\b\b\b\b\b\b\b\b\b\b\b\b\b\b\b\b\b\b\b\b\b\b\b\b\b\b\b\b\b\b\b\b\b\b\b\b\b\b\b\b\b\b\b\b\b\b\b\b\b\b\b\b\b\b\b\r",
        "27648/60000 [============>.................] - ETA: 6s - loss: 0.1981 - acc: 0.9407"
       ]
      },
      {
       "output_type": "stream",
       "stream": "stdout",
       "text": [
        "\b\b\b\b\b\b\b\b\b\b\b\b\b\b\b\b\b\b\b\b\b\b\b\b\b\b\b\b\b\b\b\b\b\b\b\b\b\b\b\b\b\b\b\b\b\b\b\b\b\b\b\b\b\b\b\b\b\b\b\b\b\b\b\b\b\b\b\b\b\b\b\b\b\b\b\b\b\b\b\b\b\b\b\r",
        "27776/60000 [============>.................] - ETA: 6s - loss: 0.1979 - acc: 0.9407"
       ]
      },
      {
       "output_type": "stream",
       "stream": "stdout",
       "text": [
        "\b\b\b\b\b\b\b\b\b\b\b\b\b\b\b\b\b\b\b\b\b\b\b\b\b\b\b\b\b\b\b\b\b\b\b\b\b\b\b\b\b\b\b\b\b\b\b\b\b\b\b\b\b\b\b\b\b\b\b\b\b\b\b\b\b\b\b\b\b\b\b\b\b\b\b\b\b\b\b\b\b\b\b\r",
        "27904/60000 [============>.................] - ETA: 6s - loss: 0.1982 - acc: 0.9407"
       ]
      },
      {
       "output_type": "stream",
       "stream": "stdout",
       "text": [
        "\b\b\b\b\b\b\b\b\b\b\b\b\b\b\b\b\b\b\b\b\b\b\b\b\b\b\b\b\b\b\b\b\b\b\b\b\b\b\b\b\b\b\b\b\b\b\b\b\b\b\b\b\b\b\b\b\b\b\b\b\b\b\b\b\b\b\b\b\b\b\b\b\b\b\b\b\b\b\b\b\b\b\b\r",
        "28032/60000 [=============>................] - ETA: 6s - loss: 0.1981 - acc: 0.9406"
       ]
      },
      {
       "output_type": "stream",
       "stream": "stdout",
       "text": [
        "\b\b\b\b\b\b\b\b\b\b\b\b\b\b\b\b\b\b\b\b\b\b\b\b\b\b\b\b\b\b\b\b\b\b\b\b\b\b\b\b\b\b\b\b\b\b\b\b\b\b\b\b\b\b\b\b\b\b\b\b\b\b\b\b\b\b\b\b\b\b\b\b\b\b\b\b\b\b\b\b\b\b\b\r",
        "28160/60000 [=============>................] - ETA: 6s - loss: 0.1981 - acc: 0.9405"
       ]
      },
      {
       "output_type": "stream",
       "stream": "stdout",
       "text": [
        "\b\b\b\b\b\b\b\b\b\b\b\b\b\b\b\b\b\b\b\b\b\b\b\b\b\b\b\b\b\b\b\b\b\b\b\b\b\b\b\b\b\b\b\b\b\b\b\b\b\b\b\b\b\b\b\b\b\b\b\b\b\b\b\b\b\b\b\b\b\b\b\b\b\b\b\b\b\b\b\b\b\b\b\r",
        "28288/60000 [=============>................] - ETA: 6s - loss: 0.1985 - acc: 0.9404"
       ]
      },
      {
       "output_type": "stream",
       "stream": "stdout",
       "text": [
        "\b\b\b\b\b\b\b\b\b\b\b\b\b\b\b\b\b\b\b\b\b\b\b\b\b\b\b\b\b\b\b\b\b\b\b\b\b\b\b\b\b\b\b\b\b\b\b\b\b\b\b\b\b\b\b\b\b\b\b\b\b\b\b\b\b\b\b\b\b\b\b\b\b\b\b\b\b\b\b\b\b\b\b\r",
        "28416/60000 [=============>................] - ETA: 6s - loss: 0.1982 - acc: 0.9404"
       ]
      },
      {
       "output_type": "stream",
       "stream": "stdout",
       "text": [
        "\b\b\b\b\b\b\b\b\b\b\b\b\b\b\b\b\b\b\b\b\b\b\b\b\b\b\b\b\b\b\b\b\b\b\b\b\b\b\b\b\b\b\b\b\b\b\b\b\b\b\b\b\b\b\b\b\b\b\b\b\b\b\b\b\b\b\b\b\b\b\b\b\b\b\b\b\b\b\b\b\b\b\b\r",
        "28544/60000 [=============>................] - ETA: 6s - loss: 0.1982 - acc: 0.9404"
       ]
      },
      {
       "output_type": "stream",
       "stream": "stdout",
       "text": [
        "\b\b\b\b\b\b\b\b\b\b\b\b\b\b\b\b\b\b\b\b\b\b\b\b\b\b\b\b\b\b\b\b\b\b\b\b\b\b\b\b\b\b\b\b\b\b\b\b\b\b\b\b\b\b\b\b\b\b\b\b\b\b\b\b\b\b\b\b\b\b\b\b\b\b\b\b\b\b\b\b\b\b\b\r",
        "28672/60000 [=============>................] - ETA: 6s - loss: 0.1980 - acc: 0.9405"
       ]
      },
      {
       "output_type": "stream",
       "stream": "stdout",
       "text": [
        "\b\b\b\b\b\b\b\b\b\b\b\b\b\b\b\b\b\b\b\b\b\b\b\b\b\b\b\b\b\b\b\b\b\b\b\b\b\b\b\b\b\b\b\b\b\b\b\b\b\b\b\b\b\b\b\b\b\b\b\b\b\b\b\b\b\b\b\b\b\b\b\b\b\b\b\b\b\b\b\b\b\b\b\r",
        "28800/60000 [=============>................] - ETA: 6s - loss: 0.1980 - acc: 0.9404"
       ]
      },
      {
       "output_type": "stream",
       "stream": "stdout",
       "text": [
        "\b\b\b\b\b\b\b\b\b\b\b\b\b\b\b\b\b\b\b\b\b\b\b\b\b\b\b\b\b\b\b\b\b\b\b\b\b\b\b\b\b\b\b\b\b\b\b\b\b\b\b\b\b\b\b\b\b\b\b\b\b\b\b\b\b\b\b\b\b\b\b\b\b\b\b\b\b\b\b\b\b\b\b\r",
        "28928/60000 [=============>................] - ETA: 6s - loss: 0.1981 - acc: 0.9404"
       ]
      },
      {
       "output_type": "stream",
       "stream": "stdout",
       "text": [
        "\b\b\b\b\b\b\b\b\b\b\b\b\b\b\b\b\b\b\b\b\b\b\b\b\b\b\b\b\b\b\b\b\b\b\b\b\b\b\b\b\b\b\b\b\b\b\b\b\b\b\b\b\b\b\b\b\b\b\b\b\b\b\b\b\b\b\b\b\b\b\b\b\b\b\b\b\b\b\b\b\b\b\b\r",
        "29056/60000 [=============>................] - ETA: 6s - loss: 0.1981 - acc: 0.9405"
       ]
      },
      {
       "output_type": "stream",
       "stream": "stdout",
       "text": [
        "\b\b\b\b\b\b\b\b\b\b\b\b\b\b\b\b\b\b\b\b\b\b\b\b\b\b\b\b\b\b\b\b\b\b\b\b\b\b\b\b\b\b\b\b\b\b\b\b\b\b\b\b\b\b\b\b\b\b\b\b\b\b\b\b\b\b\b\b\b\b\b\b\b\b\b\b\b\b\b\b\b\b\b\r",
        "29184/60000 [=============>................] - ETA: 6s - loss: 0.1982 - acc: 0.9404"
       ]
      },
      {
       "output_type": "stream",
       "stream": "stdout",
       "text": [
        "\b\b\b\b\b\b\b\b\b\b\b\b\b\b\b\b\b\b\b\b\b\b\b\b\b\b\b\b\b\b\b\b\b\b\b\b\b\b\b\b\b\b\b\b\b\b\b\b\b\b\b\b\b\b\b\b\b\b\b\b\b\b\b\b\b\b\b\b\b\b\b\b\b\b\b\b\b\b\b\b\b\b\b\r",
        "29312/60000 [=============>................] - ETA: 6s - loss: 0.1981 - acc: 0.9405"
       ]
      },
      {
       "output_type": "stream",
       "stream": "stdout",
       "text": [
        "\b\b\b\b\b\b\b\b\b\b\b\b\b\b\b\b\b\b\b\b\b\b\b\b\b\b\b\b\b\b\b\b\b\b\b\b\b\b\b\b\b\b\b\b\b\b\b\b\b\b\b\b\b\b\b\b\b\b\b\b\b\b\b\b\b\b\b\b\b\b\b\b\b\b\b\b\b\b\b\b\b\b\b\r",
        "29440/60000 [=============>................] - ETA: 6s - loss: 0.1978 - acc: 0.9405"
       ]
      },
      {
       "output_type": "stream",
       "stream": "stdout",
       "text": [
        "\b\b\b\b\b\b\b\b\b\b\b\b\b\b\b\b\b\b\b\b\b\b\b\b\b\b\b\b\b\b\b\b\b\b\b\b\b\b\b\b\b\b\b\b\b\b\b\b\b\b\b\b\b\b\b\b\b\b\b\b\b\b\b\b\b\b\b\b\b\b\b\b\b\b\b\b\b\b\b\b\b\b\b\r",
        "29568/60000 [=============>................] - ETA: 6s - loss: 0.1975 - acc: 0.9407"
       ]
      },
      {
       "output_type": "stream",
       "stream": "stdout",
       "text": [
        "\b\b\b\b\b\b\b\b\b\b\b\b\b\b\b\b\b\b\b\b\b\b\b\b\b\b\b\b\b\b\b\b\b\b\b\b\b\b\b\b\b\b\b\b\b\b\b\b\b\b\b\b\b\b\b\b\b\b\b\b\b\b\b\b\b\b\b\b\b\b\b\b\b\b\b\b\b\b\b\b\b\b\b\r",
        "29696/60000 [=============>................] - ETA: 6s - loss: 0.1975 - acc: 0.9407"
       ]
      },
      {
       "output_type": "stream",
       "stream": "stdout",
       "text": [
        "\b\b\b\b\b\b\b\b\b\b\b\b\b\b\b\b\b\b\b\b\b\b\b\b\b\b\b\b\b\b\b\b\b\b\b\b\b\b\b\b\b\b\b\b\b\b\b\b\b\b\b\b\b\b\b\b\b\b\b\b\b\b\b\b\b\b\b\b\b\b\b\b\b\b\b\b\b\b\b\b\b\b\b\r",
        "29824/60000 [=============>................] - ETA: 6s - loss: 0.1974 - acc: 0.9407"
       ]
      },
      {
       "output_type": "stream",
       "stream": "stdout",
       "text": [
        "\b\b\b\b\b\b\b\b\b\b\b\b\b\b\b\b\b\b\b\b\b\b\b\b\b\b\b\b\b\b\b\b\b\b\b\b\b\b\b\b\b\b\b\b\b\b\b\b\b\b\b\b\b\b\b\b\b\b\b\b\b\b\b\b\b\b\b\b\b\b\b\b\b\b\b\b\b\b\b\b\b\b\b\r",
        "29952/60000 [=============>................] - ETA: 6s - loss: 0.1974 - acc: 0.9407"
       ]
      },
      {
       "output_type": "stream",
       "stream": "stdout",
       "text": [
        "\b\b\b\b\b\b\b\b\b\b\b\b\b\b\b\b\b\b\b\b\b\b\b\b\b\b\b\b\b\b\b\b\b\b\b\b\b\b\b\b\b\b\b\b\b\b\b\b\b\b\b\b\b\b\b\b\b\b\b\b\b\b\b\b\b\b\b\b\b\b\b\b\b\b\b\b\b\b\b\b\b\b\b\r",
        "30080/60000 [==============>...............] - ETA: 5s - loss: 0.1975 - acc: 0.9407"
       ]
      },
      {
       "output_type": "stream",
       "stream": "stdout",
       "text": [
        "\b\b\b\b\b\b\b\b\b\b\b\b\b\b\b\b\b\b\b\b\b\b\b\b\b\b\b\b\b\b\b\b\b\b\b\b\b\b\b\b\b\b\b\b\b\b\b\b\b\b\b\b\b\b\b\b\b\b\b\b\b\b\b\b\b\b\b\b\b\b\b\b\b\b\b\b\b\b\b\b\b\b\b\r",
        "30208/60000 [==============>...............] - ETA: 5s - loss: 0.1977 - acc: 0.9406"
       ]
      },
      {
       "output_type": "stream",
       "stream": "stdout",
       "text": [
        "\b\b\b\b\b\b\b\b\b\b\b\b\b\b\b\b\b\b\b\b\b\b\b\b\b\b\b\b\b\b\b\b\b\b\b\b\b\b\b\b\b\b\b\b\b\b\b\b\b\b\b\b\b\b\b\b\b\b\b\b\b\b\b\b\b\b\b\b\b\b\b\b\b\b\b\b\b\b\b\b\b\b\b\r",
        "30336/60000 [==============>...............] - ETA: 5s - loss: 0.1978 - acc: 0.9405"
       ]
      },
      {
       "output_type": "stream",
       "stream": "stdout",
       "text": [
        "\b\b\b\b\b\b\b\b\b\b\b\b\b\b\b\b\b\b\b\b\b\b\b\b\b\b\b\b\b\b\b\b\b\b\b\b\b\b\b\b\b\b\b\b\b\b\b\b\b\b\b\b\b\b\b\b\b\b\b\b\b\b\b\b\b\b\b\b\b\b\b\b\b\b\b\b\b\b\b\b\b\b\b\r",
        "30464/60000 [==============>...............] - ETA: 5s - loss: 0.1977 - acc: 0.9405"
       ]
      },
      {
       "output_type": "stream",
       "stream": "stdout",
       "text": [
        "\b\b\b\b\b\b\b\b\b\b\b\b\b\b\b\b\b\b\b\b\b\b\b\b\b\b\b\b\b\b\b\b\b\b\b\b\b\b\b\b\b\b\b\b\b\b\b\b\b\b\b\b\b\b\b\b\b\b\b\b\b\b\b\b\b\b\b\b\b\b\b\b\b\b\b\b\b\b\b\b\b\b\b\r",
        "30592/60000 [==============>...............] - ETA: 5s - loss: 0.1974 - acc: 0.9406"
       ]
      },
      {
       "output_type": "stream",
       "stream": "stdout",
       "text": [
        "\b\b\b\b\b\b\b\b\b\b\b\b\b\b\b\b\b\b\b\b\b\b\b\b\b\b\b\b\b\b\b\b\b\b\b\b\b\b\b\b\b\b\b\b\b\b\b\b\b\b\b\b\b\b\b\b\b\b\b\b\b\b\b\b\b\b\b\b\b\b\b\b\b\b\b\b\b\b\b\b\b\b\b\r",
        "30720/60000 [==============>...............] - ETA: 5s - loss: 0.1976 - acc: 0.9405"
       ]
      },
      {
       "output_type": "stream",
       "stream": "stdout",
       "text": [
        "\b\b\b\b\b\b\b\b\b\b\b\b\b\b\b\b\b\b\b\b\b\b\b\b\b\b\b\b\b\b\b\b\b\b\b\b\b\b\b\b\b\b\b\b\b\b\b\b\b\b\b\b\b\b\b\b\b\b\b\b\b\b\b\b\b\b\b\b\b\b\b\b\b\b\b\b\b\b\b\b\b\b\b\r",
        "30848/60000 [==============>...............] - ETA: 5s - loss: 0.1973 - acc: 0.9406"
       ]
      },
      {
       "output_type": "stream",
       "stream": "stdout",
       "text": [
        "\b\b\b\b\b\b\b\b\b\b\b\b\b\b\b\b\b\b\b\b\b\b\b\b\b\b\b\b\b\b\b\b\b\b\b\b\b\b\b\b\b\b\b\b\b\b\b\b\b\b\b\b\b\b\b\b\b\b\b\b\b\b\b\b\b\b\b\b\b\b\b\b\b\b\b\b\b\b\b\b\b\b\b\r",
        "30976/60000 [==============>...............] - ETA: 5s - loss: 0.1971 - acc: 0.9407"
       ]
      },
      {
       "output_type": "stream",
       "stream": "stdout",
       "text": [
        "\b\b\b\b\b\b\b\b\b\b\b\b\b\b\b\b\b\b\b\b\b\b\b\b\b\b\b\b\b\b\b\b\b\b\b\b\b\b\b\b\b\b\b\b\b\b\b\b\b\b\b\b\b\b\b\b\b\b\b\b\b\b\b\b\b\b\b\b\b\b\b\b\b\b\b\b\b\b\b\b\b\b\b\r",
        "31104/60000 [==============>...............] - ETA: 5s - loss: 0.1967 - acc: 0.9409"
       ]
      },
      {
       "output_type": "stream",
       "stream": "stdout",
       "text": [
        "\b\b\b\b\b\b\b\b\b\b\b\b\b\b\b\b\b\b\b\b\b\b\b\b\b\b\b\b\b\b\b\b\b\b\b\b\b\b\b\b\b\b\b\b\b\b\b\b\b\b\b\b\b\b\b\b\b\b\b\b\b\b\b\b\b\b\b\b\b\b\b\b\b\b\b\b\b\b\b\b\b\b\b\r",
        "31232/60000 [==============>...............] - ETA: 5s - loss: 0.1966 - acc: 0.9408"
       ]
      },
      {
       "output_type": "stream",
       "stream": "stdout",
       "text": [
        "\b\b\b\b\b\b\b\b\b\b\b\b\b\b\b\b\b\b\b\b\b\b\b\b\b\b\b\b\b\b\b\b\b\b\b\b\b\b\b\b\b\b\b\b\b\b\b\b\b\b\b\b\b\b\b\b\b\b\b\b\b\b\b\b\b\b\b\b\b\b\b\b\b\b\b\b\b\b\b\b\b\b\b\r",
        "31360/60000 [==============>...............] - ETA: 5s - loss: 0.1964 - acc: 0.9409"
       ]
      },
      {
       "output_type": "stream",
       "stream": "stdout",
       "text": [
        "\b\b\b\b\b\b\b\b\b\b\b\b\b\b\b\b\b\b\b\b\b\b\b\b\b\b\b\b\b\b\b\b\b\b\b\b\b\b\b\b\b\b\b\b\b\b\b\b\b\b\b\b\b\b\b\b\b\b\b\b\b\b\b\b\b\b\b\b\b\b\b\b\b\b\b\b\b\b\b\b\b\b\b\r",
        "31488/60000 [==============>...............] - ETA: 5s - loss: 0.1965 - acc: 0.9409"
       ]
      },
      {
       "output_type": "stream",
       "stream": "stdout",
       "text": [
        "\b\b\b\b\b\b\b\b\b\b\b\b\b\b\b\b\b\b\b\b\b\b\b\b\b\b\b\b\b\b\b\b\b\b\b\b\b\b\b\b\b\b\b\b\b\b\b\b\b\b\b\b\b\b\b\b\b\b\b\b\b\b\b\b\b\b\b\b\b\b\b\b\b\b\b\b\b\b\b\b\b\b\b\r",
        "31616/60000 [==============>...............] - ETA: 5s - loss: 0.1964 - acc: 0.9410"
       ]
      },
      {
       "output_type": "stream",
       "stream": "stdout",
       "text": [
        "\b\b\b\b\b\b\b\b\b\b\b\b\b\b\b\b\b\b\b\b\b\b\b\b\b\b\b\b\b\b\b\b\b\b\b\b\b\b\b\b\b\b\b\b\b\b\b\b\b\b\b\b\b\b\b\b\b\b\b\b\b\b\b\b\b\b\b\b\b\b\b\b\b\b\b\b\b\b\b\b\b\b\b\r",
        "31744/60000 [==============>...............] - ETA: 5s - loss: 0.1966 - acc: 0.9409"
       ]
      },
      {
       "output_type": "stream",
       "stream": "stdout",
       "text": [
        "\b\b\b\b\b\b\b\b\b\b\b\b\b\b\b\b\b\b\b\b\b\b\b\b\b\b\b\b\b\b\b\b\b\b\b\b\b\b\b\b\b\b\b\b\b\b\b\b\b\b\b\b\b\b\b\b\b\b\b\b\b\b\b\b\b\b\b\b\b\b\b\b\b\b\b\b\b\b\b\b\b\b\b\r",
        "31872/60000 [==============>...............] - ETA: 5s - loss: 0.1966 - acc: 0.9410"
       ]
      },
      {
       "output_type": "stream",
       "stream": "stdout",
       "text": [
        "\b\b\b\b\b\b\b\b\b\b\b\b\b\b\b\b\b\b\b\b\b\b\b\b\b\b\b\b\b\b\b\b\b\b\b\b\b\b\b\b\b\b\b\b\b\b\b\b\b\b\b\b\b\b\b\b\b\b\b\b\b\b\b\b\b\b\b\b\b\b\b\b\b\b\b\b\b\b\b\b\b\b\b\r",
        "32000/60000 [===============>..............] - ETA: 5s - loss: 0.1964 - acc: 0.9410"
       ]
      },
      {
       "output_type": "stream",
       "stream": "stdout",
       "text": [
        "\b\b\b\b\b\b\b\b\b\b\b\b\b\b\b\b\b\b\b\b\b\b\b\b\b\b\b\b\b\b\b\b\b\b\b\b\b\b\b\b\b\b\b\b\b\b\b\b\b\b\b\b\b\b\b\b\b\b\b\b\b\b\b\b\b\b\b\b\b\b\b\b\b\b\b\b\b\b\b\b\b\b\b\r",
        "32128/60000 [===============>..............] - ETA: 5s - loss: 0.1960 - acc: 0.9411"
       ]
      },
      {
       "output_type": "stream",
       "stream": "stdout",
       "text": [
        "\b\b\b\b\b\b\b\b\b\b\b\b\b\b\b\b\b\b\b\b\b\b\b\b\b\b\b\b\b\b\b\b\b\b\b\b\b\b\b\b\b\b\b\b\b\b\b\b\b\b\b\b\b\b\b\b\b\b\b\b\b\b\b\b\b\b\b\b\b\b\b\b\b\b\b\b\b\b\b\b\b\b\b\r",
        "32256/60000 [===============>..............] - ETA: 5s - loss: 0.1957 - acc: 0.9411"
       ]
      },
      {
       "output_type": "stream",
       "stream": "stdout",
       "text": [
        "\b\b\b\b\b\b\b\b\b\b\b\b\b\b\b\b\b\b\b\b\b\b\b\b\b\b\b\b\b\b\b\b\b\b\b\b\b\b\b\b\b\b\b\b\b\b\b\b\b\b\b\b\b\b\b\b\b\b\b\b\b\b\b\b\b\b\b\b\b\b\b\b\b\b\b\b\b\b\b\b\b\b\b\r",
        "32384/60000 [===============>..............] - ETA: 5s - loss: 0.1953 - acc: 0.9412"
       ]
      },
      {
       "output_type": "stream",
       "stream": "stdout",
       "text": [
        "\b\b\b\b\b\b\b\b\b\b\b\b\b\b\b\b\b\b\b\b\b\b\b\b\b\b\b\b\b\b\b\b\b\b\b\b\b\b\b\b\b\b\b\b\b\b\b\b\b\b\b\b\b\b\b\b\b\b\b\b\b\b\b\b\b\b\b\b\b\b\b\b\b\b\b\b\b\b\b\b\b\b\b\r",
        "32512/60000 [===============>..............] - ETA: 5s - loss: 0.1953 - acc: 0.9413"
       ]
      },
      {
       "output_type": "stream",
       "stream": "stdout",
       "text": [
        "\b\b\b\b\b\b\b\b\b\b\b\b\b\b\b\b\b\b\b\b\b\b\b\b\b\b\b\b\b\b\b\b\b\b\b\b\b\b\b\b\b\b\b\b\b\b\b\b\b\b\b\b\b\b\b\b\b\b\b\b\b\b\b\b\b\b\b\b\b\b\b\b\b\b\b\b\b\b\b\b\b\b\b\r",
        "32640/60000 [===============>..............] - ETA: 5s - loss: 0.1951 - acc: 0.9415"
       ]
      },
      {
       "output_type": "stream",
       "stream": "stdout",
       "text": [
        "\b\b\b\b\b\b\b\b\b\b\b\b\b\b\b\b\b\b\b\b\b\b\b\b\b\b\b\b\b\b\b\b\b\b\b\b\b\b\b\b\b\b\b\b\b\b\b\b\b\b\b\b\b\b\b\b\b\b\b\b\b\b\b\b\b\b\b\b\b\b\b\b\b\b\b\b\b\b\b\b\b\b\b\r",
        "32768/60000 [===============>..............] - ETA: 5s - loss: 0.1949 - acc: 0.9416"
       ]
      },
      {
       "output_type": "stream",
       "stream": "stdout",
       "text": [
        "\b\b\b\b\b\b\b\b\b\b\b\b\b\b\b\b\b\b\b\b\b\b\b\b\b\b\b\b\b\b\b\b\b\b\b\b\b\b\b\b\b\b\b\b\b\b\b\b\b\b\b\b\b\b\b\b\b\b\b\b\b\b\b\b\b\b\b\b\b\b\b\b\b\b\b\b\b\b\b\b\b\b\b\r",
        "32896/60000 [===============>..............] - ETA: 5s - loss: 0.1955 - acc: 0.9415"
       ]
      },
      {
       "output_type": "stream",
       "stream": "stdout",
       "text": [
        "\b\b\b\b\b\b\b\b\b\b\b\b\b\b\b\b\b\b\b\b\b\b\b\b\b\b\b\b\b\b\b\b\b\b\b\b\b\b\b\b\b\b\b\b\b\b\b\b\b\b\b\b\b\b\b\b\b\b\b\b\b\b\b\b\b\b\b\b\b\b\b\b\b\b\b\b\b\b\b\b\b\b\b\r",
        "33024/60000 [===============>..............] - ETA: 5s - loss: 0.1958 - acc: 0.9414"
       ]
      },
      {
       "output_type": "stream",
       "stream": "stdout",
       "text": [
        "\b\b\b\b\b\b\b\b\b\b\b\b\b\b\b\b\b\b\b\b\b\b\b\b\b\b\b\b\b\b\b\b\b\b\b\b\b\b\b\b\b\b\b\b\b\b\b\b\b\b\b\b\b\b\b\b\b\b\b\b\b\b\b\b\b\b\b\b\b\b\b\b\b\b\b\b\b\b\b\b\b\b\b\r",
        "33152/60000 [===============>..............] - ETA: 5s - loss: 0.1958 - acc: 0.9414"
       ]
      },
      {
       "output_type": "stream",
       "stream": "stdout",
       "text": [
        "\b\b\b\b\b\b\b\b\b\b\b\b\b\b\b\b\b\b\b\b\b\b\b\b\b\b\b\b\b\b\b\b\b\b\b\b\b\b\b\b\b\b\b\b\b\b\b\b\b\b\b\b\b\b\b\b\b\b\b\b\b\b\b\b\b\b\b\b\b\b\b\b\b\b\b\b\b\b\b\b\b\b\b\r",
        "33280/60000 [===============>..............] - ETA: 5s - loss: 0.1958 - acc: 0.9414"
       ]
      },
      {
       "output_type": "stream",
       "stream": "stdout",
       "text": [
        "\b\b\b\b\b\b\b\b\b\b\b\b\b\b\b\b\b\b\b\b\b\b\b\b\b\b\b\b\b\b\b\b\b\b\b\b\b\b\b\b\b\b\b\b\b\b\b\b\b\b\b\b\b\b\b\b\b\b\b\b\b\b\b\b\b\b\b\b\b\b\b\b\b\b\b\b\b\b\b\b\b\b\b\r",
        "33408/60000 [===============>..............] - ETA: 5s - loss: 0.1955 - acc: 0.9415"
       ]
      },
      {
       "output_type": "stream",
       "stream": "stdout",
       "text": [
        "\b\b\b\b\b\b\b\b\b\b\b\b\b\b\b\b\b\b\b\b\b\b\b\b\b\b\b\b\b\b\b\b\b\b\b\b\b\b\b\b\b\b\b\b\b\b\b\b\b\b\b\b\b\b\b\b\b\b\b\b\b\b\b\b\b\b\b\b\b\b\b\b\b\b\b\b\b\b\b\b\b\b\b\r",
        "33536/60000 [===============>..............] - ETA: 5s - loss: 0.1952 - acc: 0.9416"
       ]
      },
      {
       "output_type": "stream",
       "stream": "stdout",
       "text": [
        "\b\b\b\b\b\b\b\b\b\b\b\b\b\b\b\b\b\b\b\b\b\b\b\b\b\b\b\b\b\b\b\b\b\b\b\b\b\b\b\b\b\b\b\b\b\b\b\b\b\b\b\b\b\b\b\b\b\b\b\b\b\b\b\b\b\b\b\b\b\b\b\b\b\b\b\b\b\b\b\b\b\b\b\r",
        "33664/60000 [===============>..............] - ETA: 5s - loss: 0.1953 - acc: 0.9416"
       ]
      },
      {
       "output_type": "stream",
       "stream": "stdout",
       "text": [
        "\b\b\b\b\b\b\b\b\b\b\b\b\b\b\b\b\b\b\b\b\b\b\b\b\b\b\b\b\b\b\b\b\b\b\b\b\b\b\b\b\b\b\b\b\b\b\b\b\b\b\b\b\b\b\b\b\b\b\b\b\b\b\b\b\b\b\b\b\b\b\b\b\b\b\b\b\b\b\b\b\b\b\b\r",
        "33792/60000 [===============>..............] - ETA: 5s - loss: 0.1953 - acc: 0.9416"
       ]
      },
      {
       "output_type": "stream",
       "stream": "stdout",
       "text": [
        "\b\b\b\b\b\b\b\b\b\b\b\b\b\b\b\b\b\b\b\b\b\b\b\b\b\b\b\b\b\b\b\b\b\b\b\b\b\b\b\b\b\b\b\b\b\b\b\b\b\b\b\b\b\b\b\b\b\b\b\b\b\b\b\b\b\b\b\b\b\b\b\b\b\b\b\b\b\b\b\b\b\b\b\r",
        "33920/60000 [===============>..............] - ETA: 5s - loss: 0.1952 - acc: 0.9415"
       ]
      },
      {
       "output_type": "stream",
       "stream": "stdout",
       "text": [
        "\b\b\b\b\b\b\b\b\b\b\b\b\b\b\b\b\b\b\b\b\b\b\b\b\b\b\b\b\b\b\b\b\b\b\b\b\b\b\b\b\b\b\b\b\b\b\b\b\b\b\b\b\b\b\b\b\b\b\b\b\b\b\b\b\b\b\b\b\b\b\b\b\b\b\b\b\b\b\b\b\b\b\b\r",
        "34048/60000 [================>.............] - ETA: 5s - loss: 0.1951 - acc: 0.9415"
       ]
      },
      {
       "output_type": "stream",
       "stream": "stdout",
       "text": [
        "\b\b\b\b\b\b\b\b\b\b\b\b\b\b\b\b\b\b\b\b\b\b\b\b\b\b\b\b\b\b\b\b\b\b\b\b\b\b\b\b\b\b\b\b\b\b\b\b\b\b\b\b\b\b\b\b\b\b\b\b\b\b\b\b\b\b\b\b\b\b\b\b\b\b\b\b\b\b\b\b\b\b\b\r",
        "34176/60000 [================>.............] - ETA: 5s - loss: 0.1952 - acc: 0.9415"
       ]
      },
      {
       "output_type": "stream",
       "stream": "stdout",
       "text": [
        "\b\b\b\b\b\b\b\b\b\b\b\b\b\b\b\b\b\b\b\b\b\b\b\b\b\b\b\b\b\b\b\b\b\b\b\b\b\b\b\b\b\b\b\b\b\b\b\b\b\b\b\b\b\b\b\b\b\b\b\b\b\b\b\b\b\b\b\b\b\b\b\b\b\b\b\b\b\b\b\b\b\b\b\r",
        "34304/60000 [================>.............] - ETA: 5s - loss: 0.1949 - acc: 0.9416"
       ]
      },
      {
       "output_type": "stream",
       "stream": "stdout",
       "text": [
        "\b\b\b\b\b\b\b\b\b\b\b\b\b\b\b\b\b\b\b\b\b\b\b\b\b\b\b\b\b\b\b\b\b\b\b\b\b\b\b\b\b\b\b\b\b\b\b\b\b\b\b\b\b\b\b\b\b\b\b\b\b\b\b\b\b\b\b\b\b\b\b\b\b\b\b\b\b\b\b\b\b\b\b\r",
        "34432/60000 [================>.............] - ETA: 5s - loss: 0.1947 - acc: 0.9417"
       ]
      },
      {
       "output_type": "stream",
       "stream": "stdout",
       "text": [
        "\b\b\b\b\b\b\b\b\b\b\b\b\b\b\b\b\b\b\b\b\b\b\b\b\b\b\b\b\b\b\b\b\b\b\b\b\b\b\b\b\b\b\b\b\b\b\b\b\b\b\b\b\b\b\b\b\b\b\b\b\b\b\b\b\b\b\b\b\b\b\b\b\b\b\b\b\b\b\b\b\b\b\b\r",
        "34560/60000 [================>.............] - ETA: 5s - loss: 0.1944 - acc: 0.9418"
       ]
      },
      {
       "output_type": "stream",
       "stream": "stdout",
       "text": [
        "\b\b\b\b\b\b\b\b\b\b\b\b\b\b\b\b\b\b\b\b\b\b\b\b\b\b\b\b\b\b\b\b\b\b\b\b\b\b\b\b\b\b\b\b\b\b\b\b\b\b\b\b\b\b\b\b\b\b\b\b\b\b\b\b\b\b\b\b\b\b\b\b\b\b\b\b\b\b\b\b\b\b\b\r",
        "34688/60000 [================>.............] - ETA: 5s - loss: 0.1943 - acc: 0.9417"
       ]
      },
      {
       "output_type": "stream",
       "stream": "stdout",
       "text": [
        "\b\b\b\b\b\b\b\b\b\b\b\b\b\b\b\b\b\b\b\b\b\b\b\b\b\b\b\b\b\b\b\b\b\b\b\b\b\b\b\b\b\b\b\b\b\b\b\b\b\b\b\b\b\b\b\b\b\b\b\b\b\b\b\b\b\b\b\b\b\b\b\b\b\b\b\b\b\b\b\b\b\b\b\r",
        "34816/60000 [================>.............] - ETA: 5s - loss: 0.1945 - acc: 0.9417"
       ]
      },
      {
       "output_type": "stream",
       "stream": "stdout",
       "text": [
        "\b\b\b\b\b\b\b\b\b\b\b\b\b\b\b\b\b\b\b\b\b\b\b\b\b\b\b\b\b\b\b\b\b\b\b\b\b\b\b\b\b\b\b\b\b\b\b\b\b\b\b\b\b\b\b\b\b\b\b\b\b\b\b\b\b\b\b\b\b\b\b\b\b\b\b\b\b\b\b\b\b\b\b\r",
        "34944/60000 [================>.............] - ETA: 5s - loss: 0.1944 - acc: 0.9417"
       ]
      },
      {
       "output_type": "stream",
       "stream": "stdout",
       "text": [
        "\b\b\b\b\b\b\b\b\b\b\b\b\b\b\b\b\b\b\b\b\b\b\b\b\b\b\b\b\b\b\b\b\b\b\b\b\b\b\b\b\b\b\b\b\b\b\b\b\b\b\b\b\b\b\b\b\b\b\b\b\b\b\b\b\b\b\b\b\b\b\b\b\b\b\b\b\b\b\b\b\b\b\b\r",
        "35072/60000 [================>.............] - ETA: 4s - loss: 0.1945 - acc: 0.9417"
       ]
      },
      {
       "output_type": "stream",
       "stream": "stdout",
       "text": [
        "\b\b\b\b\b\b\b\b\b\b\b\b\b\b\b\b\b\b\b\b\b\b\b\b\b\b\b\b\b\b\b\b\b\b\b\b\b\b\b\b\b\b\b\b\b\b\b\b\b\b\b\b\b\b\b\b\b\b\b\b\b\b\b\b\b\b\b\b\b\b\b\b\b\b\b\b\b\b\b\b\b\b\b\r",
        "35200/60000 [================>.............] - ETA: 4s - loss: 0.1944 - acc: 0.9418"
       ]
      },
      {
       "output_type": "stream",
       "stream": "stdout",
       "text": [
        "\b\b\b\b\b\b\b\b\b\b\b\b\b\b\b\b\b\b\b\b\b\b\b\b\b\b\b\b\b\b\b\b\b\b\b\b\b\b\b\b\b\b\b\b\b\b\b\b\b\b\b\b\b\b\b\b\b\b\b\b\b\b\b\b\b\b\b\b\b\b\b\b\b\b\b\b\b\b\b\b\b\b\b\r",
        "35328/60000 [================>.............] - ETA: 4s - loss: 0.1942 - acc: 0.9418"
       ]
      },
      {
       "output_type": "stream",
       "stream": "stdout",
       "text": [
        "\b\b\b\b\b\b\b\b\b\b\b\b\b\b\b\b\b\b\b\b\b\b\b\b\b\b\b\b\b\b\b\b\b\b\b\b\b\b\b\b\b\b\b\b\b\b\b\b\b\b\b\b\b\b\b\b\b\b\b\b\b\b\b\b\b\b\b\b\b\b\b\b\b\b\b\b\b\b\b\b\b\b\b\r",
        "35456/60000 [================>.............] - ETA: 4s - loss: 0.1943 - acc: 0.9418"
       ]
      },
      {
       "output_type": "stream",
       "stream": "stdout",
       "text": [
        "\b\b\b\b\b\b\b\b\b\b\b\b\b\b\b\b\b\b\b\b\b\b\b\b\b\b\b\b\b\b\b\b\b\b\b\b\b\b\b\b\b\b\b\b\b\b\b\b\b\b\b\b\b\b\b\b\b\b\b\b\b\b\b\b\b\b\b\b\b\b\b\b\b\b\b\b\b\b\b\b\b\b\b\r",
        "35584/60000 [================>.............] - ETA: 4s - loss: 0.1941 - acc: 0.9419"
       ]
      },
      {
       "output_type": "stream",
       "stream": "stdout",
       "text": [
        "\b\b\b\b\b\b\b\b\b\b\b\b\b\b\b\b\b\b\b\b\b\b\b\b\b\b\b\b\b\b\b\b\b\b\b\b\b\b\b\b\b\b\b\b\b\b\b\b\b\b\b\b\b\b\b\b\b\b\b\b\b\b\b\b\b\b\b\b\b\b\b\b\b\b\b\b\b\b\b\b\b\b\b\r",
        "35712/60000 [================>.............] - ETA: 4s - loss: 0.1939 - acc: 0.9420"
       ]
      },
      {
       "output_type": "stream",
       "stream": "stdout",
       "text": [
        "\b\b\b\b\b\b\b\b\b\b\b\b\b\b\b\b\b\b\b\b\b\b\b\b\b\b\b\b\b\b\b\b\b\b\b\b\b\b\b\b\b\b\b\b\b\b\b\b\b\b\b\b\b\b\b\b\b\b\b\b\b\b\b\b\b\b\b\b\b\b\b\b\b\b\b\b\b\b\b\b\b\b\b\r",
        "35840/60000 [================>.............] - ETA: 4s - loss: 0.1940 - acc: 0.9419"
       ]
      },
      {
       "output_type": "stream",
       "stream": "stdout",
       "text": [
        "\b\b\b\b\b\b\b\b\b\b\b\b\b\b\b\b\b\b\b\b\b\b\b\b\b\b\b\b\b\b\b\b\b\b\b\b\b\b\b\b\b\b\b\b\b\b\b\b\b\b\b\b\b\b\b\b\b\b\b\b\b\b\b\b\b\b\b\b\b\b\b\b\b\b\b\b\b\b\b\b\b\b\b\r",
        "35968/60000 [================>.............] - ETA: 4s - loss: 0.1941 - acc: 0.9419"
       ]
      },
      {
       "output_type": "stream",
       "stream": "stdout",
       "text": [
        "\b\b\b\b\b\b\b\b\b\b\b\b\b\b\b\b\b\b\b\b\b\b\b\b\b\b\b\b\b\b\b\b\b\b\b\b\b\b\b\b\b\b\b\b\b\b\b\b\b\b\b\b\b\b\b\b\b\b\b\b\b\b\b\b\b\b\b\b\b\b\b\b\b\b\b\b\b\b\b\b\b\b\b\r",
        "36096/60000 [=================>............] - ETA: 4s - loss: 0.1942 - acc: 0.9418"
       ]
      },
      {
       "output_type": "stream",
       "stream": "stdout",
       "text": [
        "\b\b\b\b\b\b\b\b\b\b\b\b\b\b\b\b\b\b\b\b\b\b\b\b\b\b\b\b\b\b\b\b\b\b\b\b\b\b\b\b\b\b\b\b\b\b\b\b\b\b\b\b\b\b\b\b\b\b\b\b\b\b\b\b\b\b\b\b\b\b\b\b\b\b\b\b\b\b\b\b\b\b\b\r",
        "36224/60000 [=================>............] - ETA: 4s - loss: 0.1943 - acc: 0.9419"
       ]
      },
      {
       "output_type": "stream",
       "stream": "stdout",
       "text": [
        "\b\b\b\b\b\b\b\b\b\b\b\b\b\b\b\b\b\b\b\b\b\b\b\b\b\b\b\b\b\b\b\b\b\b\b\b\b\b\b\b\b\b\b\b\b\b\b\b\b\b\b\b\b\b\b\b\b\b\b\b\b\b\b\b\b\b\b\b\b\b\b\b\b\b\b\b\b\b\b\b\b\b\b\r",
        "36352/60000 [=================>............] - ETA: 4s - loss: 0.1943 - acc: 0.9419"
       ]
      },
      {
       "output_type": "stream",
       "stream": "stdout",
       "text": [
        "\b\b\b\b\b\b\b\b\b\b\b\b\b\b\b\b\b\b\b\b\b\b\b\b\b\b\b\b\b\b\b\b\b\b\b\b\b\b\b\b\b\b\b\b\b\b\b\b\b\b\b\b\b\b\b\b\b\b\b\b\b\b\b\b\b\b\b\b\b\b\b\b\b\b\b\b\b\b\b\b\b\b\b\r",
        "36480/60000 [=================>............] - ETA: 4s - loss: 0.1942 - acc: 0.9419"
       ]
      },
      {
       "output_type": "stream",
       "stream": "stdout",
       "text": [
        "\b\b\b\b\b\b\b\b\b\b\b\b\b\b\b\b\b\b\b\b\b\b\b\b\b\b\b\b\b\b\b\b\b\b\b\b\b\b\b\b\b\b\b\b\b\b\b\b\b\b\b\b\b\b\b\b\b\b\b\b\b\b\b\b\b\b\b\b\b\b\b\b\b\b\b\b\b\b\b\b\b\b\b\r",
        "36608/60000 [=================>............] - ETA: 4s - loss: 0.1938 - acc: 0.9420"
       ]
      },
      {
       "output_type": "stream",
       "stream": "stdout",
       "text": [
        "\b\b\b\b\b\b\b\b\b\b\b\b\b\b\b\b\b\b\b\b\b\b\b\b\b\b\b\b\b\b\b\b\b\b\b\b\b\b\b\b\b\b\b\b\b\b\b\b\b\b\b\b\b\b\b\b\b\b\b\b\b\b\b\b\b\b\b\b\b\b\b\b\b\b\b\b\b\b\b\b\b\b\b\r",
        "36736/60000 [=================>............] - ETA: 4s - loss: 0.1936 - acc: 0.9421"
       ]
      },
      {
       "output_type": "stream",
       "stream": "stdout",
       "text": [
        "\b\b\b\b\b\b\b\b\b\b\b\b\b\b\b\b\b\b\b\b\b\b\b\b\b\b\b\b\b\b\b\b\b\b\b\b\b\b\b\b\b\b\b\b\b\b\b\b\b\b\b\b\b\b\b\b\b\b\b\b\b\b\b\b\b\b\b\b\b\b\b\b\b\b\b\b\b\b\b\b\b\b\b\r",
        "36864/60000 [=================>............] - ETA: 4s - loss: 0.1935 - acc: 0.9421"
       ]
      },
      {
       "output_type": "stream",
       "stream": "stdout",
       "text": [
        "\b\b\b\b\b\b\b\b\b\b\b\b\b\b\b\b\b\b\b\b\b\b\b\b\b\b\b\b\b\b\b\b\b\b\b\b\b\b\b\b\b\b\b\b\b\b\b\b\b\b\b\b\b\b\b\b\b\b\b\b\b\b\b\b\b\b\b\b\b\b\b\b\b\b\b\b\b\b\b\b\b\b\b\r",
        "36992/60000 [=================>............] - ETA: 4s - loss: 0.1931 - acc: 0.9422"
       ]
      },
      {
       "output_type": "stream",
       "stream": "stdout",
       "text": [
        "\b\b\b\b\b\b\b\b\b\b\b\b\b\b\b\b\b\b\b\b\b\b\b\b\b\b\b\b\b\b\b\b\b\b\b\b\b\b\b\b\b\b\b\b\b\b\b\b\b\b\b\b\b\b\b\b\b\b\b\b\b\b\b\b\b\b\b\b\b\b\b\b\b\b\b\b\b\b\b\b\b\b\b\r",
        "37120/60000 [=================>............] - ETA: 4s - loss: 0.1930 - acc: 0.9423"
       ]
      },
      {
       "output_type": "stream",
       "stream": "stdout",
       "text": [
        "\b\b\b\b\b\b\b\b\b\b\b\b\b\b\b\b\b\b\b\b\b\b\b\b\b\b\b\b\b\b\b\b\b\b\b\b\b\b\b\b\b\b\b\b\b\b\b\b\b\b\b\b\b\b\b\b\b\b\b\b\b\b\b\b\b\b\b\b\b\b\b\b\b\b\b\b\b\b\b\b\b\b\b\r",
        "37248/60000 [=================>............] - ETA: 4s - loss: 0.1928 - acc: 0.9423"
       ]
      },
      {
       "output_type": "stream",
       "stream": "stdout",
       "text": [
        "\b\b\b\b\b\b\b\b\b\b\b\b\b\b\b\b\b\b\b\b\b\b\b\b\b\b\b\b\b\b\b\b\b\b\b\b\b\b\b\b\b\b\b\b\b\b\b\b\b\b\b\b\b\b\b\b\b\b\b\b\b\b\b\b\b\b\b\b\b\b\b\b\b\b\b\b\b\b\b\b\b\b\b\r",
        "37376/60000 [=================>............] - ETA: 4s - loss: 0.1929 - acc: 0.9423"
       ]
      },
      {
       "output_type": "stream",
       "stream": "stdout",
       "text": [
        "\b\b\b\b\b\b\b\b\b\b\b\b\b\b\b\b\b\b\b\b\b\b\b\b\b\b\b\b\b\b\b\b\b\b\b\b\b\b\b\b\b\b\b\b\b\b\b\b\b\b\b\b\b\b\b\b\b\b\b\b\b\b\b\b\b\b\b\b\b\b\b\b\b\b\b\b\b\b\b\b\b\b\b\r",
        "37504/60000 [=================>............] - ETA: 4s - loss: 0.1926 - acc: 0.9424"
       ]
      },
      {
       "output_type": "stream",
       "stream": "stdout",
       "text": [
        "\b\b\b\b\b\b\b\b\b\b\b\b\b\b\b\b\b\b\b\b\b\b\b\b\b\b\b\b\b\b\b\b\b\b\b\b\b\b\b\b\b\b\b\b\b\b\b\b\b\b\b\b\b\b\b\b\b\b\b\b\b\b\b\b\b\b\b\b\b\b\b\b\b\b\b\b\b\b\b\b\b\b\b\r",
        "37632/60000 [=================>............] - ETA: 4s - loss: 0.1927 - acc: 0.9423"
       ]
      },
      {
       "output_type": "stream",
       "stream": "stdout",
       "text": [
        "\b\b\b\b\b\b\b\b\b\b\b\b\b\b\b\b\b\b\b\b\b\b\b\b\b\b\b\b\b\b\b\b\b\b\b\b\b\b\b\b\b\b\b\b\b\b\b\b\b\b\b\b\b\b\b\b\b\b\b\b\b\b\b\b\b\b\b\b\b\b\b\b\b\b\b\b\b\b\b\b\b\b\b\r",
        "37760/60000 [=================>............] - ETA: 4s - loss: 0.1926 - acc: 0.9424"
       ]
      },
      {
       "output_type": "stream",
       "stream": "stdout",
       "text": [
        "\b\b\b\b\b\b\b\b\b\b\b\b\b\b\b\b\b\b\b\b\b\b\b\b\b\b\b\b\b\b\b\b\b\b\b\b\b\b\b\b\b\b\b\b\b\b\b\b\b\b\b\b\b\b\b\b\b\b\b\b\b\b\b\b\b\b\b\b\b\b\b\b\b\b\b\b\b\b\b\b\b\b\b\r",
        "37888/60000 [=================>............] - ETA: 4s - loss: 0.1925 - acc: 0.9424"
       ]
      },
      {
       "output_type": "stream",
       "stream": "stdout",
       "text": [
        "\b\b\b\b\b\b\b\b\b\b\b\b\b\b\b\b\b\b\b\b\b\b\b\b\b\b\b\b\b\b\b\b\b\b\b\b\b\b\b\b\b\b\b\b\b\b\b\b\b\b\b\b\b\b\b\b\b\b\b\b\b\b\b\b\b\b\b\b\b\b\b\b\b\b\b\b\b\b\b\b\b\b\b\r",
        "38016/60000 [==================>...........] - ETA: 4s - loss: 0.1926 - acc: 0.9424"
       ]
      },
      {
       "output_type": "stream",
       "stream": "stdout",
       "text": [
        "\b\b\b\b\b\b\b\b\b\b\b\b\b\b\b\b\b\b\b\b\b\b\b\b\b\b\b\b\b\b\b\b\b\b\b\b\b\b\b\b\b\b\b\b\b\b\b\b\b\b\b\b\b\b\b\b\b\b\b\b\b\b\b\b\b\b\b\b\b\b\b\b\b\b\b\b\b\b\b\b\b\b\b\r",
        "38144/60000 [==================>...........] - ETA: 4s - loss: 0.1925 - acc: 0.9424"
       ]
      },
      {
       "output_type": "stream",
       "stream": "stdout",
       "text": [
        "\b\b\b\b\b\b\b\b\b\b\b\b\b\b\b\b\b\b\b\b\b\b\b\b\b\b\b\b\b\b\b\b\b\b\b\b\b\b\b\b\b\b\b\b\b\b\b\b\b\b\b\b\b\b\b\b\b\b\b\b\b\b\b\b\b\b\b\b\b\b\b\b\b\b\b\b\b\b\b\b\b\b\b\r",
        "38272/60000 [==================>...........] - ETA: 4s - loss: 0.1923 - acc: 0.9425"
       ]
      },
      {
       "output_type": "stream",
       "stream": "stdout",
       "text": [
        "\b\b\b\b\b\b\b\b\b\b\b\b\b\b\b\b\b\b\b\b\b\b\b\b\b\b\b\b\b\b\b\b\b\b\b\b\b\b\b\b\b\b\b\b\b\b\b\b\b\b\b\b\b\b\b\b\b\b\b\b\b\b\b\b\b\b\b\b\b\b\b\b\b\b\b\b\b\b\b\b\b\b\b\r",
        "38400/60000 [==================>...........] - ETA: 4s - loss: 0.1923 - acc: 0.9425"
       ]
      },
      {
       "output_type": "stream",
       "stream": "stdout",
       "text": [
        "\b\b\b\b\b\b\b\b\b\b\b\b\b\b\b\b\b\b\b\b\b\b\b\b\b\b\b\b\b\b\b\b\b\b\b\b\b\b\b\b\b\b\b\b\b\b\b\b\b\b\b\b\b\b\b\b\b\b\b\b\b\b\b\b\b\b\b\b\b\b\b\b\b\b\b\b\b\b\b\b\b\b\b\r",
        "38528/60000 [==================>...........] - ETA: 4s - loss: 0.1923 - acc: 0.9425"
       ]
      },
      {
       "output_type": "stream",
       "stream": "stdout",
       "text": [
        "\b\b\b\b\b\b\b\b\b\b\b\b\b\b\b\b\b\b\b\b\b\b\b\b\b\b\b\b\b\b\b\b\b\b\b\b\b\b\b\b\b\b\b\b\b\b\b\b\b\b\b\b\b\b\b\b\b\b\b\b\b\b\b\b\b\b\b\b\b\b\b\b\b\b\b\b\b\b\b\b\b\b\b\r",
        "38656/60000 [==================>...........] - ETA: 4s - loss: 0.1923 - acc: 0.9424"
       ]
      },
      {
       "output_type": "stream",
       "stream": "stdout",
       "text": [
        "\b\b\b\b\b\b\b\b\b\b\b\b\b\b\b\b\b\b\b\b\b\b\b\b\b\b\b\b\b\b\b\b\b\b\b\b\b\b\b\b\b\b\b\b\b\b\b\b\b\b\b\b\b\b\b\b\b\b\b\b\b\b\b\b\b\b\b\b\b\b\b\b\b\b\b\b\b\b\b\b\b\b\b\r",
        "38784/60000 [==================>...........] - ETA: 4s - loss: 0.1921 - acc: 0.9424"
       ]
      },
      {
       "output_type": "stream",
       "stream": "stdout",
       "text": [
        "\b\b\b\b\b\b\b\b\b\b\b\b\b\b\b\b\b\b\b\b\b\b\b\b\b\b\b\b\b\b\b\b\b\b\b\b\b\b\b\b\b\b\b\b\b\b\b\b\b\b\b\b\b\b\b\b\b\b\b\b\b\b\b\b\b\b\b\b\b\b\b\b\b\b\b\b\b\b\b\b\b\b\b\r",
        "38912/60000 [==================>...........] - ETA: 4s - loss: 0.1921 - acc: 0.9425"
       ]
      },
      {
       "output_type": "stream",
       "stream": "stdout",
       "text": [
        "\b\b\b\b\b\b\b\b\b\b\b\b\b\b\b\b\b\b\b\b\b\b\b\b\b\b\b\b\b\b\b\b\b\b\b\b\b\b\b\b\b\b\b\b\b\b\b\b\b\b\b\b\b\b\b\b\b\b\b\b\b\b\b\b\b\b\b\b\b\b\b\b\b\b\b\b\b\b\b\b\b\b\b\r",
        "39040/60000 [==================>...........] - ETA: 4s - loss: 0.1921 - acc: 0.9424"
       ]
      },
      {
       "output_type": "stream",
       "stream": "stdout",
       "text": [
        "\b\b\b\b\b\b\b\b\b\b\b\b\b\b\b\b\b\b\b\b\b\b\b\b\b\b\b\b\b\b\b\b\b\b\b\b\b\b\b\b\b\b\b\b\b\b\b\b\b\b\b\b\b\b\b\b\b\b\b\b\b\b\b\b\b\b\b\b\b\b\b\b\b\b\b\b\b\b\b\b\b\b\b\r",
        "39168/60000 [==================>...........] - ETA: 4s - loss: 0.1921 - acc: 0.9424"
       ]
      },
      {
       "output_type": "stream",
       "stream": "stdout",
       "text": [
        "\b\b\b\b\b\b\b\b\b\b\b\b\b\b\b\b\b\b\b\b\b\b\b\b\b\b\b\b\b\b\b\b\b\b\b\b\b\b\b\b\b\b\b\b\b\b\b\b\b\b\b\b\b\b\b\b\b\b\b\b\b\b\b\b\b\b\b\b\b\b\b\b\b\b\b\b\b\b\b\b\b\b\b\r",
        "39296/60000 [==================>...........] - ETA: 4s - loss: 0.1919 - acc: 0.9424"
       ]
      },
      {
       "output_type": "stream",
       "stream": "stdout",
       "text": [
        "\b\b\b\b\b\b\b\b\b\b\b\b\b\b\b\b\b\b\b\b\b\b\b\b\b\b\b\b\b\b\b\b\b\b\b\b\b\b\b\b\b\b\b\b\b\b\b\b\b\b\b\b\b\b\b\b\b\b\b\b\b\b\b\b\b\b\b\b\b\b\b\b\b\b\b\b\b\b\b\b\b\b\b\r",
        "39424/60000 [==================>...........] - ETA: 4s - loss: 0.1918 - acc: 0.9425"
       ]
      },
      {
       "output_type": "stream",
       "stream": "stdout",
       "text": [
        "\b\b\b\b\b\b\b\b\b\b\b\b\b\b\b\b\b\b\b\b\b\b\b\b\b\b\b\b\b\b\b\b\b\b\b\b\b\b\b\b\b\b\b\b\b\b\b\b\b\b\b\b\b\b\b\b\b\b\b\b\b\b\b\b\b\b\b\b\b\b\b\b\b\b\b\b\b\b\b\b\b\b\b\r",
        "39552/60000 [==================>...........] - ETA: 4s - loss: 0.1921 - acc: 0.9424"
       ]
      },
      {
       "output_type": "stream",
       "stream": "stdout",
       "text": [
        "\b\b\b\b\b\b\b\b\b\b\b\b\b\b\b\b\b\b\b\b\b\b\b\b\b\b\b\b\b\b\b\b\b\b\b\b\b\b\b\b\b\b\b\b\b\b\b\b\b\b\b\b\b\b\b\b\b\b\b\b\b\b\b\b\b\b\b\b\b\b\b\b\b\b\b\b\b\b\b\b\b\b\b\r",
        "39680/60000 [==================>...........] - ETA: 4s - loss: 0.1922 - acc: 0.9423"
       ]
      },
      {
       "output_type": "stream",
       "stream": "stdout",
       "text": [
        "\b\b\b\b\b\b\b\b\b\b\b\b\b\b\b\b\b\b\b\b\b\b\b\b\b\b\b\b\b\b\b\b\b\b\b\b\b\b\b\b\b\b\b\b\b\b\b\b\b\b\b\b\b\b\b\b\b\b\b\b\b\b\b\b\b\b\b\b\b\b\b\b\b\b\b\b\b\b\b\b\b\b\b\r",
        "39808/60000 [==================>...........] - ETA: 4s - loss: 0.1921 - acc: 0.9424"
       ]
      },
      {
       "output_type": "stream",
       "stream": "stdout",
       "text": [
        "\b\b\b\b\b\b\b\b\b\b\b\b\b\b\b\b\b\b\b\b\b\b\b\b\b\b\b\b\b\b\b\b\b\b\b\b\b\b\b\b\b\b\b\b\b\b\b\b\b\b\b\b\b\b\b\b\b\b\b\b\b\b\b\b\b\b\b\b\b\b\b\b\b\b\b\b\b\b\b\b\b\b\b\r",
        "39936/60000 [==================>...........] - ETA: 4s - loss: 0.1919 - acc: 0.9424"
       ]
      },
      {
       "output_type": "stream",
       "stream": "stdout",
       "text": [
        "\b\b\b\b\b\b\b\b\b\b\b\b\b\b\b\b\b\b\b\b\b\b\b\b\b\b\b\b\b\b\b\b\b\b\b\b\b\b\b\b\b\b\b\b\b\b\b\b\b\b\b\b\b\b\b\b\b\b\b\b\b\b\b\b\b\b\b\b\b\b\b\b\b\b\b\b\b\b\b\b\b\b\b\r",
        "40064/60000 [===================>..........] - ETA: 3s - loss: 0.1917 - acc: 0.9425"
       ]
      },
      {
       "output_type": "stream",
       "stream": "stdout",
       "text": [
        "\b\b\b\b\b\b\b\b\b\b\b\b\b\b\b\b\b\b\b\b\b\b\b\b\b\b\b\b\b\b\b\b\b\b\b\b\b\b\b\b\b\b\b\b\b\b\b\b\b\b\b\b\b\b\b\b\b\b\b\b\b\b\b\b\b\b\b\b\b\b\b\b\b\b\b\b\b\b\b\b\b\b\b\r",
        "40192/60000 [===================>..........] - ETA: 3s - loss: 0.1917 - acc: 0.9425"
       ]
      },
      {
       "output_type": "stream",
       "stream": "stdout",
       "text": [
        "\b\b\b\b\b\b\b\b\b\b\b\b\b\b\b\b\b\b\b\b\b\b\b\b\b\b\b\b\b\b\b\b\b\b\b\b\b\b\b\b\b\b\b\b\b\b\b\b\b\b\b\b\b\b\b\b\b\b\b\b\b\b\b\b\b\b\b\b\b\b\b\b\b\b\b\b\b\b\b\b\b\b\b\r",
        "40320/60000 [===================>..........] - ETA: 3s - loss: 0.1918 - acc: 0.9424"
       ]
      },
      {
       "output_type": "stream",
       "stream": "stdout",
       "text": [
        "\b\b\b\b\b\b\b\b\b\b\b\b\b\b\b\b\b\b\b\b\b\b\b\b\b\b\b\b\b\b\b\b\b\b\b\b\b\b\b\b\b\b\b\b\b\b\b\b\b\b\b\b\b\b\b\b\b\b\b\b\b\b\b\b\b\b\b\b\b\b\b\b\b\b\b\b\b\b\b\b\b\b\b\r",
        "40448/60000 [===================>..........] - ETA: 3s - loss: 0.1916 - acc: 0.9425"
       ]
      },
      {
       "output_type": "stream",
       "stream": "stdout",
       "text": [
        "\b\b\b\b\b\b\b\b\b\b\b\b\b\b\b\b\b\b\b\b\b\b\b\b\b\b\b\b\b\b\b\b\b\b\b\b\b\b\b\b\b\b\b\b\b\b\b\b\b\b\b\b\b\b\b\b\b\b\b\b\b\b\b\b\b\b\b\b\b\b\b\b\b\b\b\b\b\b\b\b\b\b\b\r",
        "40576/60000 [===================>..........] - ETA: 3s - loss: 0.1917 - acc: 0.9425"
       ]
      },
      {
       "output_type": "stream",
       "stream": "stdout",
       "text": [
        "\b\b\b\b\b\b\b\b\b\b\b\b\b\b\b\b\b\b\b\b\b\b\b\b\b\b\b\b\b\b\b\b\b\b\b\b\b\b\b\b\b\b\b\b\b\b\b\b\b\b\b\b\b\b\b\b\b\b\b\b\b\b\b\b\b\b\b\b\b\b\b\b\b\b\b\b\b\b\b\b\b\b\b\r",
        "40704/60000 [===================>..........] - ETA: 3s - loss: 0.1916 - acc: 0.9425"
       ]
      },
      {
       "output_type": "stream",
       "stream": "stdout",
       "text": [
        "\b\b\b\b\b\b\b\b\b\b\b\b\b\b\b\b\b\b\b\b\b\b\b\b\b\b\b\b\b\b\b\b\b\b\b\b\b\b\b\b\b\b\b\b\b\b\b\b\b\b\b\b\b\b\b\b\b\b\b\b\b\b\b\b\b\b\b\b\b\b\b\b\b\b\b\b\b\b\b\b\b\b\b\r",
        "40832/60000 [===================>..........] - ETA: 3s - loss: 0.1917 - acc: 0.9425"
       ]
      },
      {
       "output_type": "stream",
       "stream": "stdout",
       "text": [
        "\b\b\b\b\b\b\b\b\b\b\b\b\b\b\b\b\b\b\b\b\b\b\b\b\b\b\b\b\b\b\b\b\b\b\b\b\b\b\b\b\b\b\b\b\b\b\b\b\b\b\b\b\b\b\b\b\b\b\b\b\b\b\b\b\b\b\b\b\b\b\b\b\b\b\b\b\b\b\b\b\b\b\b\r",
        "40960/60000 [===================>..........] - ETA: 3s - loss: 0.1917 - acc: 0.9425"
       ]
      },
      {
       "output_type": "stream",
       "stream": "stdout",
       "text": [
        "\b\b\b\b\b\b\b\b\b\b\b\b\b\b\b\b\b\b\b\b\b\b\b\b\b\b\b\b\b\b\b\b\b\b\b\b\b\b\b\b\b\b\b\b\b\b\b\b\b\b\b\b\b\b\b\b\b\b\b\b\b\b\b\b\b\b\b\b\b\b\b\b\b\b\b\b\b\b\b\b\b\b\b\r",
        "41088/60000 [===================>..........] - ETA: 3s - loss: 0.1918 - acc: 0.9425"
       ]
      },
      {
       "output_type": "stream",
       "stream": "stdout",
       "text": [
        "\b\b\b\b\b\b\b\b\b\b\b\b\b\b\b\b\b\b\b\b\b\b\b\b\b\b\b\b\b\b\b\b\b\b\b\b\b\b\b\b\b\b\b\b\b\b\b\b\b\b\b\b\b\b\b\b\b\b\b\b\b\b\b\b\b\b\b\b\b\b\b\b\b\b\b\b\b\b\b\b\b\b\b\r",
        "41216/60000 [===================>..........] - ETA: 3s - loss: 0.1918 - acc: 0.9424"
       ]
      },
      {
       "output_type": "stream",
       "stream": "stdout",
       "text": [
        "\b\b\b\b\b\b\b\b\b\b\b\b\b\b\b\b\b\b\b\b\b\b\b\b\b\b\b\b\b\b\b\b\b\b\b\b\b\b\b\b\b\b\b\b\b\b\b\b\b\b\b\b\b\b\b\b\b\b\b\b\b\b\b\b\b\b\b\b\b\b\b\b\b\b\b\b\b\b\b\b\b\b\b\r",
        "41344/60000 [===================>..........] - ETA: 3s - loss: 0.1918 - acc: 0.9425"
       ]
      },
      {
       "output_type": "stream",
       "stream": "stdout",
       "text": [
        "\b\b\b\b\b\b\b\b\b\b\b\b\b\b\b\b\b\b\b\b\b\b\b\b\b\b\b\b\b\b\b\b\b\b\b\b\b\b\b\b\b\b\b\b\b\b\b\b\b\b\b\b\b\b\b\b\b\b\b\b\b\b\b\b\b\b\b\b\b\b\b\b\b\b\b\b\b\b\b\b\b\b\b\r",
        "41472/60000 [===================>..........] - ETA: 3s - loss: 0.1919 - acc: 0.9425"
       ]
      },
      {
       "output_type": "stream",
       "stream": "stdout",
       "text": [
        "\b\b\b\b\b\b\b\b\b\b\b\b\b\b\b\b\b\b\b\b\b\b\b\b\b\b\b\b\b\b\b\b\b\b\b\b\b\b\b\b\b\b\b\b\b\b\b\b\b\b\b\b\b\b\b\b\b\b\b\b\b\b\b\b\b\b\b\b\b\b\b\b\b\b\b\b\b\b\b\b\b\b\b\r",
        "41600/60000 [===================>..........] - ETA: 3s - loss: 0.1918 - acc: 0.9425"
       ]
      },
      {
       "output_type": "stream",
       "stream": "stdout",
       "text": [
        "\b\b\b\b\b\b\b\b\b\b\b\b\b\b\b\b\b\b\b\b\b\b\b\b\b\b\b\b\b\b\b\b\b\b\b\b\b\b\b\b\b\b\b\b\b\b\b\b\b\b\b\b\b\b\b\b\b\b\b\b\b\b\b\b\b\b\b\b\b\b\b\b\b\b\b\b\b\b\b\b\b\b\b\r",
        "41728/60000 [===================>..........] - ETA: 3s - loss: 0.1916 - acc: 0.9426"
       ]
      },
      {
       "output_type": "stream",
       "stream": "stdout",
       "text": [
        "\b\b\b\b\b\b\b\b\b\b\b\b\b\b\b\b\b\b\b\b\b\b\b\b\b\b\b\b\b\b\b\b\b\b\b\b\b\b\b\b\b\b\b\b\b\b\b\b\b\b\b\b\b\b\b\b\b\b\b\b\b\b\b\b\b\b\b\b\b\b\b\b\b\b\b\b\b\b\b\b\b\b\b\r",
        "41856/60000 [===================>..........] - ETA: 3s - loss: 0.1913 - acc: 0.9427"
       ]
      },
      {
       "output_type": "stream",
       "stream": "stdout",
       "text": [
        "\b\b\b\b\b\b\b\b\b\b\b\b\b\b\b\b\b\b\b\b\b\b\b\b\b\b\b\b\b\b\b\b\b\b\b\b\b\b\b\b\b\b\b\b\b\b\b\b\b\b\b\b\b\b\b\b\b\b\b\b\b\b\b\b\b\b\b\b\b\b\b\b\b\b\b\b\b\b\b\b\b\b\b\r",
        "41984/60000 [===================>..........] - ETA: 3s - loss: 0.1913 - acc: 0.9427"
       ]
      },
      {
       "output_type": "stream",
       "stream": "stdout",
       "text": [
        "\b\b\b\b\b\b\b\b\b\b\b\b\b\b\b\b\b\b\b\b\b\b\b\b\b\b\b\b\b\b\b\b\b\b\b\b\b\b\b\b\b\b\b\b\b\b\b\b\b\b\b\b\b\b\b\b\b\b\b\b\b\b\b\b\b\b\b\b\b\b\b\b\b\b\b\b\b\b\b\b\b\b\b\r",
        "42112/60000 [====================>.........] - ETA: 3s - loss: 0.1914 - acc: 0.9427"
       ]
      },
      {
       "output_type": "stream",
       "stream": "stdout",
       "text": [
        "\b\b\b\b\b\b\b\b\b\b\b\b\b\b\b\b\b\b\b\b\b\b\b\b\b\b\b\b\b\b\b\b\b\b\b\b\b\b\b\b\b\b\b\b\b\b\b\b\b\b\b\b\b\b\b\b\b\b\b\b\b\b\b\b\b\b\b\b\b\b\b\b\b\b\b\b\b\b\b\b\b\b\b\r",
        "42240/60000 [====================>.........] - ETA: 3s - loss: 0.1916 - acc: 0.9427"
       ]
      },
      {
       "output_type": "stream",
       "stream": "stdout",
       "text": [
        "\b\b\b\b\b\b\b\b\b\b\b\b\b\b\b\b\b\b\b\b\b\b\b\b\b\b\b\b\b\b\b\b\b\b\b\b\b\b\b\b\b\b\b\b\b\b\b\b\b\b\b\b\b\b\b\b\b\b\b\b\b\b\b\b\b\b\b\b\b\b\b\b\b\b\b\b\b\b\b\b\b\b\b\r",
        "42368/60000 [====================>.........] - ETA: 3s - loss: 0.1915 - acc: 0.9428"
       ]
      },
      {
       "output_type": "stream",
       "stream": "stdout",
       "text": [
        "\b\b\b\b\b\b\b\b\b\b\b\b\b\b\b\b\b\b\b\b\b\b\b\b\b\b\b\b\b\b\b\b\b\b\b\b\b\b\b\b\b\b\b\b\b\b\b\b\b\b\b\b\b\b\b\b\b\b\b\b\b\b\b\b\b\b\b\b\b\b\b\b\b\b\b\b\b\b\b\b\b\b\b\r",
        "42496/60000 [====================>.........] - ETA: 3s - loss: 0.1914 - acc: 0.9428"
       ]
      },
      {
       "output_type": "stream",
       "stream": "stdout",
       "text": [
        "\b\b\b\b\b\b\b\b\b\b\b\b\b\b\b\b\b\b\b\b\b\b\b\b\b\b\b\b\b\b\b\b\b\b\b\b\b\b\b\b\b\b\b\b\b\b\b\b\b\b\b\b\b\b\b\b\b\b\b\b\b\b\b\b\b\b\b\b\b\b\b\b\b\b\b\b\b\b\b\b\b\b\b\r",
        "42624/60000 [====================>.........] - ETA: 3s - loss: 0.1914 - acc: 0.9428"
       ]
      },
      {
       "output_type": "stream",
       "stream": "stdout",
       "text": [
        "\b\b\b\b\b\b\b\b\b\b\b\b\b\b\b\b\b\b\b\b\b\b\b\b\b\b\b\b\b\b\b\b\b\b\b\b\b\b\b\b\b\b\b\b\b\b\b\b\b\b\b\b\b\b\b\b\b\b\b\b\b\b\b\b\b\b\b\b\b\b\b\b\b\b\b\b\b\b\b\b\b\b\b\r",
        "42752/60000 [====================>.........] - ETA: 3s - loss: 0.1912 - acc: 0.9428"
       ]
      },
      {
       "output_type": "stream",
       "stream": "stdout",
       "text": [
        "\b\b\b\b\b\b\b\b\b\b\b\b\b\b\b\b\b\b\b\b\b\b\b\b\b\b\b\b\b\b\b\b\b\b\b\b\b\b\b\b\b\b\b\b\b\b\b\b\b\b\b\b\b\b\b\b\b\b\b\b\b\b\b\b\b\b\b\b\b\b\b\b\b\b\b\b\b\b\b\b\b\b\b\r",
        "42880/60000 [====================>.........] - ETA: 3s - loss: 0.1912 - acc: 0.9428"
       ]
      },
      {
       "output_type": "stream",
       "stream": "stdout",
       "text": [
        "\b\b\b\b\b\b\b\b\b\b\b\b\b\b\b\b\b\b\b\b\b\b\b\b\b\b\b\b\b\b\b\b\b\b\b\b\b\b\b\b\b\b\b\b\b\b\b\b\b\b\b\b\b\b\b\b\b\b\b\b\b\b\b\b\b\b\b\b\b\b\b\b\b\b\b\b\b\b\b\b\b\b\b\r",
        "43008/60000 [====================>.........] - ETA: 3s - loss: 0.1909 - acc: 0.9429"
       ]
      },
      {
       "output_type": "stream",
       "stream": "stdout",
       "text": [
        "\b\b\b\b\b\b\b\b\b\b\b\b\b\b\b\b\b\b\b\b\b\b\b\b\b\b\b\b\b\b\b\b\b\b\b\b\b\b\b\b\b\b\b\b\b\b\b\b\b\b\b\b\b\b\b\b\b\b\b\b\b\b\b\b\b\b\b\b\b\b\b\b\b\b\b\b\b\b\b\b\b\b\b\r",
        "43136/60000 [====================>.........] - ETA: 3s - loss: 0.1911 - acc: 0.9429"
       ]
      },
      {
       "output_type": "stream",
       "stream": "stdout",
       "text": [
        "\b\b\b\b\b\b\b\b\b\b\b\b\b\b\b\b\b\b\b\b\b\b\b\b\b\b\b\b\b\b\b\b\b\b\b\b\b\b\b\b\b\b\b\b\b\b\b\b\b\b\b\b\b\b\b\b\b\b\b\b\b\b\b\b\b\b\b\b\b\b\b\b\b\b\b\b\b\b\b\b\b\b\b\r",
        "43264/60000 [====================>.........] - ETA: 3s - loss: 0.1910 - acc: 0.9429"
       ]
      },
      {
       "output_type": "stream",
       "stream": "stdout",
       "text": [
        "\b\b\b\b\b\b\b\b\b\b\b\b\b\b\b\b\b\b\b\b\b\b\b\b\b\b\b\b\b\b\b\b\b\b\b\b\b\b\b\b\b\b\b\b\b\b\b\b\b\b\b\b\b\b\b\b\b\b\b\b\b\b\b\b\b\b\b\b\b\b\b\b\b\b\b\b\b\b\b\b\b\b\b\r",
        "43392/60000 [====================>.........] - ETA: 3s - loss: 0.1908 - acc: 0.9429"
       ]
      },
      {
       "output_type": "stream",
       "stream": "stdout",
       "text": [
        "\b\b\b\b\b\b\b\b\b\b\b\b\b\b\b\b\b\b\b\b\b\b\b\b\b\b\b\b\b\b\b\b\b\b\b\b\b\b\b\b\b\b\b\b\b\b\b\b\b\b\b\b\b\b\b\b\b\b\b\b\b\b\b\b\b\b\b\b\b\b\b\b\b\b\b\b\b\b\b\b\b\b\b\r",
        "43520/60000 [====================>.........] - ETA: 3s - loss: 0.1907 - acc: 0.9429"
       ]
      },
      {
       "output_type": "stream",
       "stream": "stdout",
       "text": [
        "\b\b\b\b\b\b\b\b\b\b\b\b\b\b\b\b\b\b\b\b\b\b\b\b\b\b\b\b\b\b\b\b\b\b\b\b\b\b\b\b\b\b\b\b\b\b\b\b\b\b\b\b\b\b\b\b\b\b\b\b\b\b\b\b\b\b\b\b\b\b\b\b\b\b\b\b\b\b\b\b\b\b\b\r",
        "43648/60000 [====================>.........] - ETA: 3s - loss: 0.1905 - acc: 0.9430"
       ]
      },
      {
       "output_type": "stream",
       "stream": "stdout",
       "text": [
        "\b\b\b\b\b\b\b\b\b\b\b\b\b\b\b\b\b\b\b\b\b\b\b\b\b\b\b\b\b\b\b\b\b\b\b\b\b\b\b\b\b\b\b\b\b\b\b\b\b\b\b\b\b\b\b\b\b\b\b\b\b\b\b\b\b\b\b\b\b\b\b\b\b\b\b\b\b\b\b\b\b\b\b\r",
        "43776/60000 [====================>.........] - ETA: 3s - loss: 0.1905 - acc: 0.9429"
       ]
      },
      {
       "output_type": "stream",
       "stream": "stdout",
       "text": [
        "\b\b\b\b\b\b\b\b\b\b\b\b\b\b\b\b\b\b\b\b\b\b\b\b\b\b\b\b\b\b\b\b\b\b\b\b\b\b\b\b\b\b\b\b\b\b\b\b\b\b\b\b\b\b\b\b\b\b\b\b\b\b\b\b\b\b\b\b\b\b\b\b\b\b\b\b\b\b\b\b\b\b\b\r",
        "43904/60000 [====================>.........] - ETA: 3s - loss: 0.1906 - acc: 0.9429"
       ]
      },
      {
       "output_type": "stream",
       "stream": "stdout",
       "text": [
        "\b\b\b\b\b\b\b\b\b\b\b\b\b\b\b\b\b\b\b\b\b\b\b\b\b\b\b\b\b\b\b\b\b\b\b\b\b\b\b\b\b\b\b\b\b\b\b\b\b\b\b\b\b\b\b\b\b\b\b\b\b\b\b\b\b\b\b\b\b\b\b\b\b\b\b\b\b\b\b\b\b\b\b\r",
        "44032/60000 [=====================>........] - ETA: 3s - loss: 0.1907 - acc: 0.9429"
       ]
      },
      {
       "output_type": "stream",
       "stream": "stdout",
       "text": [
        "\b\b\b\b\b\b\b\b\b\b\b\b\b\b\b\b\b\b\b\b\b\b\b\b\b\b\b\b\b\b\b\b\b\b\b\b\b\b\b\b\b\b\b\b\b\b\b\b\b\b\b\b\b\b\b\b\b\b\b\b\b\b\b\b\b\b\b\b\b\b\b\b\b\b\b\b\b\b\b\b\b\b\b\r",
        "44160/60000 [=====================>........] - ETA: 3s - loss: 0.1909 - acc: 0.9428"
       ]
      },
      {
       "output_type": "stream",
       "stream": "stdout",
       "text": [
        "\b\b\b\b\b\b\b\b\b\b\b\b\b\b\b\b\b\b\b\b\b\b\b\b\b\b\b\b\b\b\b\b\b\b\b\b\b\b\b\b\b\b\b\b\b\b\b\b\b\b\b\b\b\b\b\b\b\b\b\b\b\b\b\b\b\b\b\b\b\b\b\b\b\b\b\b\b\b\b\b\b\b\b\r",
        "44288/60000 [=====================>........] - ETA: 3s - loss: 0.1908 - acc: 0.9429"
       ]
      },
      {
       "output_type": "stream",
       "stream": "stdout",
       "text": [
        "\b\b\b\b\b\b\b\b\b\b\b\b\b\b\b\b\b\b\b\b\b\b\b\b\b\b\b\b\b\b\b\b\b\b\b\b\b\b\b\b\b\b\b\b\b\b\b\b\b\b\b\b\b\b\b\b\b\b\b\b\b\b\b\b\b\b\b\b\b\b\b\b\b\b\b\b\b\b\b\b\b\b\b\r",
        "44416/60000 [=====================>........] - ETA: 3s - loss: 0.1908 - acc: 0.9429"
       ]
      },
      {
       "output_type": "stream",
       "stream": "stdout",
       "text": [
        "\b\b\b\b\b\b\b\b\b\b\b\b\b\b\b\b\b\b\b\b\b\b\b\b\b\b\b\b\b\b\b\b\b\b\b\b\b\b\b\b\b\b\b\b\b\b\b\b\b\b\b\b\b\b\b\b\b\b\b\b\b\b\b\b\b\b\b\b\b\b\b\b\b\b\b\b\b\b\b\b\b\b\b\r",
        "44544/60000 [=====================>........] - ETA: 3s - loss: 0.1907 - acc: 0.9429"
       ]
      },
      {
       "output_type": "stream",
       "stream": "stdout",
       "text": [
        "\b\b\b\b\b\b\b\b\b\b\b\b\b\b\b\b\b\b\b\b\b\b\b\b\b\b\b\b\b\b\b\b\b\b\b\b\b\b\b\b\b\b\b\b\b\b\b\b\b\b\b\b\b\b\b\b\b\b\b\b\b\b\b\b\b\b\b\b\b\b\b\b\b\b\b\b\b\b\b\b\b\b\b\r",
        "44672/60000 [=====================>........] - ETA: 3s - loss: 0.1907 - acc: 0.9429"
       ]
      },
      {
       "output_type": "stream",
       "stream": "stdout",
       "text": [
        "\b\b\b\b\b\b\b\b\b\b\b\b\b\b\b\b\b\b\b\b\b\b\b\b\b\b\b\b\b\b\b\b\b\b\b\b\b\b\b\b\b\b\b\b\b\b\b\b\b\b\b\b\b\b\b\b\b\b\b\b\b\b\b\b\b\b\b\b\b\b\b\b\b\b\b\b\b\b\b\b\b\b\b\r",
        "44800/60000 [=====================>........] - ETA: 3s - loss: 0.1908 - acc: 0.9429"
       ]
      },
      {
       "output_type": "stream",
       "stream": "stdout",
       "text": [
        "\b\b\b\b\b\b\b\b\b\b\b\b\b\b\b\b\b\b\b\b\b\b\b\b\b\b\b\b\b\b\b\b\b\b\b\b\b\b\b\b\b\b\b\b\b\b\b\b\b\b\b\b\b\b\b\b\b\b\b\b\b\b\b\b\b\b\b\b\b\b\b\b\b\b\b\b\b\b\b\b\b\b\b\r",
        "44928/60000 [=====================>........] - ETA: 3s - loss: 0.1908 - acc: 0.9429"
       ]
      },
      {
       "output_type": "stream",
       "stream": "stdout",
       "text": [
        "\b\b\b\b\b\b\b\b\b\b\b\b\b\b\b\b\b\b\b\b\b\b\b\b\b\b\b\b\b\b\b\b\b\b\b\b\b\b\b\b\b\b\b\b\b\b\b\b\b\b\b\b\b\b\b\b\b\b\b\b\b\b\b\b\b\b\b\b\b\b\b\b\b\b\b\b\b\b\b\b\b\b\b\r",
        "45056/60000 [=====================>........] - ETA: 2s - loss: 0.1906 - acc: 0.9430"
       ]
      },
      {
       "output_type": "stream",
       "stream": "stdout",
       "text": [
        "\b\b\b\b\b\b\b\b\b\b\b\b\b\b\b\b\b\b\b\b\b\b\b\b\b\b\b\b\b\b\b\b\b\b\b\b\b\b\b\b\b\b\b\b\b\b\b\b\b\b\b\b\b\b\b\b\b\b\b\b\b\b\b\b\b\b\b\b\b\b\b\b\b\b\b\b\b\b\b\b\b\b\b\r",
        "45184/60000 [=====================>........] - ETA: 2s - loss: 0.1904 - acc: 0.9431"
       ]
      },
      {
       "output_type": "stream",
       "stream": "stdout",
       "text": [
        "\b\b\b\b\b\b\b\b\b\b\b\b\b\b\b\b\b\b\b\b\b\b\b\b\b\b\b\b\b\b\b\b\b\b\b\b\b\b\b\b\b\b\b\b\b\b\b\b\b\b\b\b\b\b\b\b\b\b\b\b\b\b\b\b\b\b\b\b\b\b\b\b\b\b\b\b\b\b\b\b\b\b\b\r",
        "45312/60000 [=====================>........] - ETA: 2s - loss: 0.1906 - acc: 0.9430"
       ]
      },
      {
       "output_type": "stream",
       "stream": "stdout",
       "text": [
        "\b\b\b\b\b\b\b\b\b\b\b\b\b\b\b\b\b\b\b\b\b\b\b\b\b\b\b\b\b\b\b\b\b\b\b\b\b\b\b\b\b\b\b\b\b\b\b\b\b\b\b\b\b\b\b\b\b\b\b\b\b\b\b\b\b\b\b\b\b\b\b\b\b\b\b\b\b\b\b\b\b\b\b\r",
        "45440/60000 [=====================>........] - ETA: 2s - loss: 0.1905 - acc: 0.9430"
       ]
      },
      {
       "output_type": "stream",
       "stream": "stdout",
       "text": [
        "\b\b\b\b\b\b\b\b\b\b\b\b\b\b\b\b\b\b\b\b\b\b\b\b\b\b\b\b\b\b\b\b\b\b\b\b\b\b\b\b\b\b\b\b\b\b\b\b\b\b\b\b\b\b\b\b\b\b\b\b\b\b\b\b\b\b\b\b\b\b\b\b\b\b\b\b\b\b\b\b\b\b\b\r",
        "45568/60000 [=====================>........] - ETA: 2s - loss: 0.1906 - acc: 0.9430"
       ]
      },
      {
       "output_type": "stream",
       "stream": "stdout",
       "text": [
        "\b\b\b\b\b\b\b\b\b\b\b\b\b\b\b\b\b\b\b\b\b\b\b\b\b\b\b\b\b\b\b\b\b\b\b\b\b\b\b\b\b\b\b\b\b\b\b\b\b\b\b\b\b\b\b\b\b\b\b\b\b\b\b\b\b\b\b\b\b\b\b\b\b\b\b\b\b\b\b\b\b\b\b\r",
        "45696/60000 [=====================>........] - ETA: 2s - loss: 0.1903 - acc: 0.9431"
       ]
      },
      {
       "output_type": "stream",
       "stream": "stdout",
       "text": [
        "\b\b\b\b\b\b\b\b\b\b\b\b\b\b\b\b\b\b\b\b\b\b\b\b\b\b\b\b\b\b\b\b\b\b\b\b\b\b\b\b\b\b\b\b\b\b\b\b\b\b\b\b\b\b\b\b\b\b\b\b\b\b\b\b\b\b\b\b\b\b\b\b\b\b\b\b\b\b\b\b\b\b\b\r",
        "45824/60000 [=====================>........] - ETA: 2s - loss: 0.1903 - acc: 0.9430"
       ]
      },
      {
       "output_type": "stream",
       "stream": "stdout",
       "text": [
        "\b\b\b\b\b\b\b\b\b\b\b\b\b\b\b\b\b\b\b\b\b\b\b\b\b\b\b\b\b\b\b\b\b\b\b\b\b\b\b\b\b\b\b\b\b\b\b\b\b\b\b\b\b\b\b\b\b\b\b\b\b\b\b\b\b\b\b\b\b\b\b\b\b\b\b\b\b\b\b\b\b\b\b\r",
        "45952/60000 [=====================>........] - ETA: 2s - loss: 0.1902 - acc: 0.9431"
       ]
      },
      {
       "output_type": "stream",
       "stream": "stdout",
       "text": [
        "\b\b\b\b\b\b\b\b\b\b\b\b\b\b\b\b\b\b\b\b\b\b\b\b\b\b\b\b\b\b\b\b\b\b\b\b\b\b\b\b\b\b\b\b\b\b\b\b\b\b\b\b\b\b\b\b\b\b\b\b\b\b\b\b\b\b\b\b\b\b\b\b\b\b\b\b\b\b\b\b\b\b\b\r",
        "46080/60000 [======================>.......] - ETA: 2s - loss: 0.1903 - acc: 0.9431"
       ]
      },
      {
       "output_type": "stream",
       "stream": "stdout",
       "text": [
        "\b\b\b\b\b\b\b\b\b\b\b\b\b\b\b\b\b\b\b\b\b\b\b\b\b\b\b\b\b\b\b\b\b\b\b\b\b\b\b\b\b\b\b\b\b\b\b\b\b\b\b\b\b\b\b\b\b\b\b\b\b\b\b\b\b\b\b\b\b\b\b\b\b\b\b\b\b\b\b\b\b\b\b\r",
        "46208/60000 [======================>.......] - ETA: 2s - loss: 0.1901 - acc: 0.9431"
       ]
      },
      {
       "output_type": "stream",
       "stream": "stdout",
       "text": [
        "\b\b\b\b\b\b\b\b\b\b\b\b\b\b\b\b\b\b\b\b\b\b\b\b\b\b\b\b\b\b\b\b\b\b\b\b\b\b\b\b\b\b\b\b\b\b\b\b\b\b\b\b\b\b\b\b\b\b\b\b\b\b\b\b\b\b\b\b\b\b\b\b\b\b\b\b\b\b\b\b\b\b\b\r",
        "46336/60000 [======================>.......] - ETA: 2s - loss: 0.1901 - acc: 0.9432"
       ]
      },
      {
       "output_type": "stream",
       "stream": "stdout",
       "text": [
        "\b\b\b\b\b\b\b\b\b\b\b\b\b\b\b\b\b\b\b\b\b\b\b\b\b\b\b\b\b\b\b\b\b\b\b\b\b\b\b\b\b\b\b\b\b\b\b\b\b\b\b\b\b\b\b\b\b\b\b\b\b\b\b\b\b\b\b\b\b\b\b\b\b\b\b\b\b\b\b\b\b\b\b\r",
        "46464/60000 [======================>.......] - ETA: 2s - loss: 0.1903 - acc: 0.9431"
       ]
      },
      {
       "output_type": "stream",
       "stream": "stdout",
       "text": [
        "\b\b\b\b\b\b\b\b\b\b\b\b\b\b\b\b\b\b\b\b\b\b\b\b\b\b\b\b\b\b\b\b\b\b\b\b\b\b\b\b\b\b\b\b\b\b\b\b\b\b\b\b\b\b\b\b\b\b\b\b\b\b\b\b\b\b\b\b\b\b\b\b\b\b\b\b\b\b\b\b\b\b\b\r",
        "46592/60000 [======================>.......] - ETA: 2s - loss: 0.1903 - acc: 0.9431"
       ]
      },
      {
       "output_type": "stream",
       "stream": "stdout",
       "text": [
        "\b\b\b\b\b\b\b\b\b\b\b\b\b\b\b\b\b\b\b\b\b\b\b\b\b\b\b\b\b\b\b\b\b\b\b\b\b\b\b\b\b\b\b\b\b\b\b\b\b\b\b\b\b\b\b\b\b\b\b\b\b\b\b\b\b\b\b\b\b\b\b\b\b\b\b\b\b\b\b\b\b\b\b\r",
        "46720/60000 [======================>.......] - ETA: 2s - loss: 0.1901 - acc: 0.9431"
       ]
      },
      {
       "output_type": "stream",
       "stream": "stdout",
       "text": [
        "\b\b\b\b\b\b\b\b\b\b\b\b\b\b\b\b\b\b\b\b\b\b\b\b\b\b\b\b\b\b\b\b\b\b\b\b\b\b\b\b\b\b\b\b\b\b\b\b\b\b\b\b\b\b\b\b\b\b\b\b\b\b\b\b\b\b\b\b\b\b\b\b\b\b\b\b\b\b\b\b\b\b\b\r",
        "46848/60000 [======================>.......] - ETA: 2s - loss: 0.1902 - acc: 0.9430"
       ]
      },
      {
       "output_type": "stream",
       "stream": "stdout",
       "text": [
        "\b\b\b\b\b\b\b\b\b\b\b\b\b\b\b\b\b\b\b\b\b\b\b\b\b\b\b\b\b\b\b\b\b\b\b\b\b\b\b\b\b\b\b\b\b\b\b\b\b\b\b\b\b\b\b\b\b\b\b\b\b\b\b\b\b\b\b\b\b\b\b\b\b\b\b\b\b\b\b\b\b\b\b\r",
        "46976/60000 [======================>.......] - ETA: 2s - loss: 0.1902 - acc: 0.9430"
       ]
      },
      {
       "output_type": "stream",
       "stream": "stdout",
       "text": [
        "\b\b\b\b\b\b\b\b\b\b\b\b\b\b\b\b\b\b\b\b\b\b\b\b\b\b\b\b\b\b\b\b\b\b\b\b\b\b\b\b\b\b\b\b\b\b\b\b\b\b\b\b\b\b\b\b\b\b\b\b\b\b\b\b\b\b\b\b\b\b\b\b\b\b\b\b\b\b\b\b\b\b\b\r",
        "47104/60000 [======================>.......] - ETA: 2s - loss: 0.1900 - acc: 0.9431"
       ]
      },
      {
       "output_type": "stream",
       "stream": "stdout",
       "text": [
        "\b\b\b\b\b\b\b\b\b\b\b\b\b\b\b\b\b\b\b\b\b\b\b\b\b\b\b\b\b\b\b\b\b\b\b\b\b\b\b\b\b\b\b\b\b\b\b\b\b\b\b\b\b\b\b\b\b\b\b\b\b\b\b\b\b\b\b\b\b\b\b\b\b\b\b\b\b\b\b\b\b\b\b\r",
        "47232/60000 [======================>.......] - ETA: 2s - loss: 0.1902 - acc: 0.9431"
       ]
      },
      {
       "output_type": "stream",
       "stream": "stdout",
       "text": [
        "\b\b\b\b\b\b\b\b\b\b\b\b\b\b\b\b\b\b\b\b\b\b\b\b\b\b\b\b\b\b\b\b\b\b\b\b\b\b\b\b\b\b\b\b\b\b\b\b\b\b\b\b\b\b\b\b\b\b\b\b\b\b\b\b\b\b\b\b\b\b\b\b\b\b\b\b\b\b\b\b\b\b\b\r",
        "47360/60000 [======================>.......] - ETA: 2s - loss: 0.1903 - acc: 0.9430"
       ]
      },
      {
       "output_type": "stream",
       "stream": "stdout",
       "text": [
        "\b\b\b\b\b\b\b\b\b\b\b\b\b\b\b\b\b\b\b\b\b\b\b\b\b\b\b\b\b\b\b\b\b\b\b\b\b\b\b\b\b\b\b\b\b\b\b\b\b\b\b\b\b\b\b\b\b\b\b\b\b\b\b\b\b\b\b\b\b\b\b\b\b\b\b\b\b\b\b\b\b\b\b\r",
        "47488/60000 [======================>.......] - ETA: 2s - loss: 0.1905 - acc: 0.9429"
       ]
      },
      {
       "output_type": "stream",
       "stream": "stdout",
       "text": [
        "\b\b\b\b\b\b\b\b\b\b\b\b\b\b\b\b\b\b\b\b\b\b\b\b\b\b\b\b\b\b\b\b\b\b\b\b\b\b\b\b\b\b\b\b\b\b\b\b\b\b\b\b\b\b\b\b\b\b\b\b\b\b\b\b\b\b\b\b\b\b\b\b\b\b\b\b\b\b\b\b\b\b\b\r",
        "47616/60000 [======================>.......] - ETA: 2s - loss: 0.1908 - acc: 0.9428"
       ]
      },
      {
       "output_type": "stream",
       "stream": "stdout",
       "text": [
        "\b\b\b\b\b\b\b\b\b\b\b\b\b\b\b\b\b\b\b\b\b\b\b\b\b\b\b\b\b\b\b\b\b\b\b\b\b\b\b\b\b\b\b\b\b\b\b\b\b\b\b\b\b\b\b\b\b\b\b\b\b\b\b\b\b\b\b\b\b\b\b\b\b\b\b\b\b\b\b\b\b\b\b\r",
        "47744/60000 [======================>.......] - ETA: 2s - loss: 0.1910 - acc: 0.9428"
       ]
      },
      {
       "output_type": "stream",
       "stream": "stdout",
       "text": [
        "\b\b\b\b\b\b\b\b\b\b\b\b\b\b\b\b\b\b\b\b\b\b\b\b\b\b\b\b\b\b\b\b\b\b\b\b\b\b\b\b\b\b\b\b\b\b\b\b\b\b\b\b\b\b\b\b\b\b\b\b\b\b\b\b\b\b\b\b\b\b\b\b\b\b\b\b\b\b\b\b\b\b\b\r",
        "47872/60000 [======================>.......] - ETA: 2s - loss: 0.1910 - acc: 0.9428"
       ]
      },
      {
       "output_type": "stream",
       "stream": "stdout",
       "text": [
        "\b\b\b\b\b\b\b\b\b\b\b\b\b\b\b\b\b\b\b\b\b\b\b\b\b\b\b\b\b\b\b\b\b\b\b\b\b\b\b\b\b\b\b\b\b\b\b\b\b\b\b\b\b\b\b\b\b\b\b\b\b\b\b\b\b\b\b\b\b\b\b\b\b\b\b\b\b\b\b\b\b\b\b\r",
        "48000/60000 [=======================>......] - ETA: 2s - loss: 0.1910 - acc: 0.9429"
       ]
      },
      {
       "output_type": "stream",
       "stream": "stdout",
       "text": [
        "\b\b\b\b\b\b\b\b\b\b\b\b\b\b\b\b\b\b\b\b\b\b\b\b\b\b\b\b\b\b\b\b\b\b\b\b\b\b\b\b\b\b\b\b\b\b\b\b\b\b\b\b\b\b\b\b\b\b\b\b\b\b\b\b\b\b\b\b\b\b\b\b\b\b\b\b\b\b\b\b\b\b\b\r",
        "48128/60000 [=======================>......] - ETA: 2s - loss: 0.1908 - acc: 0.9429"
       ]
      },
      {
       "output_type": "stream",
       "stream": "stdout",
       "text": [
        "\b\b\b\b\b\b\b\b\b\b\b\b\b\b\b\b\b\b\b\b\b\b\b\b\b\b\b\b\b\b\b\b\b\b\b\b\b\b\b\b\b\b\b\b\b\b\b\b\b\b\b\b\b\b\b\b\b\b\b\b\b\b\b\b\b\b\b\b\b\b\b\b\b\b\b\b\b\b\b\b\b\b\b\r",
        "48256/60000 [=======================>......] - ETA: 2s - loss: 0.1906 - acc: 0.9429"
       ]
      },
      {
       "output_type": "stream",
       "stream": "stdout",
       "text": [
        "\b\b\b\b\b\b\b\b\b\b\b\b\b\b\b\b\b\b\b\b\b\b\b\b\b\b\b\b\b\b\b\b\b\b\b\b\b\b\b\b\b\b\b\b\b\b\b\b\b\b\b\b\b\b\b\b\b\b\b\b\b\b\b\b\b\b\b\b\b\b\b\b\b\b\b\b\b\b\b\b\b\b\b\r",
        "48384/60000 [=======================>......] - ETA: 2s - loss: 0.1905 - acc: 0.9430"
       ]
      },
      {
       "output_type": "stream",
       "stream": "stdout",
       "text": [
        "\b\b\b\b\b\b\b\b\b\b\b\b\b\b\b\b\b\b\b\b\b\b\b\b\b\b\b\b\b\b\b\b\b\b\b\b\b\b\b\b\b\b\b\b\b\b\b\b\b\b\b\b\b\b\b\b\b\b\b\b\b\b\b\b\b\b\b\b\b\b\b\b\b\b\b\b\b\b\b\b\b\b\b\r",
        "48512/60000 [=======================>......] - ETA: 2s - loss: 0.1903 - acc: 0.9430"
       ]
      },
      {
       "output_type": "stream",
       "stream": "stdout",
       "text": [
        "\b\b\b\b\b\b\b\b\b\b\b\b\b\b\b\b\b\b\b\b\b\b\b\b\b\b\b\b\b\b\b\b\b\b\b\b\b\b\b\b\b\b\b\b\b\b\b\b\b\b\b\b\b\b\b\b\b\b\b\b\b\b\b\b\b\b\b\b\b\b\b\b\b\b\b\b\b\b\b\b\b\b\b\r",
        "48640/60000 [=======================>......] - ETA: 2s - loss: 0.1901 - acc: 0.9431"
       ]
      },
      {
       "output_type": "stream",
       "stream": "stdout",
       "text": [
        "\b\b\b\b\b\b\b\b\b\b\b\b\b\b\b\b\b\b\b\b\b\b\b\b\b\b\b\b\b\b\b\b\b\b\b\b\b\b\b\b\b\b\b\b\b\b\b\b\b\b\b\b\b\b\b\b\b\b\b\b\b\b\b\b\b\b\b\b\b\b\b\b\b\b\b\b\b\b\b\b\b\b\b\r",
        "48768/60000 [=======================>......] - ETA: 2s - loss: 0.1900 - acc: 0.9432"
       ]
      },
      {
       "output_type": "stream",
       "stream": "stdout",
       "text": [
        "\b\b\b\b\b\b\b\b\b\b\b\b\b\b\b\b\b\b\b\b\b\b\b\b\b\b\b\b\b\b\b\b\b\b\b\b\b\b\b\b\b\b\b\b\b\b\b\b\b\b\b\b\b\b\b\b\b\b\b\b\b\b\b\b\b\b\b\b\b\b\b\b\b\b\b\b\b\b\b\b\b\b\b\r",
        "48896/60000 [=======================>......] - ETA: 2s - loss: 0.1901 - acc: 0.9432"
       ]
      },
      {
       "output_type": "stream",
       "stream": "stdout",
       "text": [
        "\b\b\b\b\b\b\b\b\b\b\b\b\b\b\b\b\b\b\b\b\b\b\b\b\b\b\b\b\b\b\b\b\b\b\b\b\b\b\b\b\b\b\b\b\b\b\b\b\b\b\b\b\b\b\b\b\b\b\b\b\b\b\b\b\b\b\b\b\b\b\b\b\b\b\b\b\b\b\b\b\b\b\b\r",
        "49024/60000 [=======================>......] - ETA: 2s - loss: 0.1898 - acc: 0.9433"
       ]
      },
      {
       "output_type": "stream",
       "stream": "stdout",
       "text": [
        "\b\b\b\b\b\b\b\b\b\b\b\b\b\b\b\b\b\b\b\b\b\b\b\b\b\b\b\b\b\b\b\b\b\b\b\b\b\b\b\b\b\b\b\b\b\b\b\b\b\b\b\b\b\b\b\b\b\b\b\b\b\b\b\b\b\b\b\b\b\b\b\b\b\b\b\b\b\b\b\b\b\b\b\r",
        "49152/60000 [=======================>......] - ETA: 2s - loss: 0.1897 - acc: 0.9433"
       ]
      },
      {
       "output_type": "stream",
       "stream": "stdout",
       "text": [
        "\b\b\b\b\b\b\b\b\b\b\b\b\b\b\b\b\b\b\b\b\b\b\b\b\b\b\b\b\b\b\b\b\b\b\b\b\b\b\b\b\b\b\b\b\b\b\b\b\b\b\b\b\b\b\b\b\b\b\b\b\b\b\b\b\b\b\b\b\b\b\b\b\b\b\b\b\b\b\b\b\b\b\b\r",
        "49280/60000 [=======================>......] - ETA: 2s - loss: 0.1897 - acc: 0.9434"
       ]
      },
      {
       "output_type": "stream",
       "stream": "stdout",
       "text": [
        "\b\b\b\b\b\b\b\b\b\b\b\b\b\b\b\b\b\b\b\b\b\b\b\b\b\b\b\b\b\b\b\b\b\b\b\b\b\b\b\b\b\b\b\b\b\b\b\b\b\b\b\b\b\b\b\b\b\b\b\b\b\b\b\b\b\b\b\b\b\b\b\b\b\b\b\b\b\b\b\b\b\b\b\r",
        "49408/60000 [=======================>......] - ETA: 2s - loss: 0.1897 - acc: 0.9433"
       ]
      },
      {
       "output_type": "stream",
       "stream": "stdout",
       "text": [
        "\b\b\b\b\b\b\b\b\b\b\b\b\b\b\b\b\b\b\b\b\b\b\b\b\b\b\b\b\b\b\b\b\b\b\b\b\b\b\b\b\b\b\b\b\b\b\b\b\b\b\b\b\b\b\b\b\b\b\b\b\b\b\b\b\b\b\b\b\b\b\b\b\b\b\b\b\b\b\b\b\b\b\b\r",
        "49536/60000 [=======================>......] - ETA: 2s - loss: 0.1896 - acc: 0.9434"
       ]
      },
      {
       "output_type": "stream",
       "stream": "stdout",
       "text": [
        "\b\b\b\b\b\b\b\b\b\b\b\b\b\b\b\b\b\b\b\b\b\b\b\b\b\b\b\b\b\b\b\b\b\b\b\b\b\b\b\b\b\b\b\b\b\b\b\b\b\b\b\b\b\b\b\b\b\b\b\b\b\b\b\b\b\b\b\b\b\b\b\b\b\b\b\b\b\b\b\b\b\b\b\r",
        "49664/60000 [=======================>......] - ETA: 2s - loss: 0.1897 - acc: 0.9434"
       ]
      },
      {
       "output_type": "stream",
       "stream": "stdout",
       "text": [
        "\b\b\b\b\b\b\b\b\b\b\b\b\b\b\b\b\b\b\b\b\b\b\b\b\b\b\b\b\b\b\b\b\b\b\b\b\b\b\b\b\b\b\b\b\b\b\b\b\b\b\b\b\b\b\b\b\b\b\b\b\b\b\b\b\b\b\b\b\b\b\b\b\b\b\b\b\b\b\b\b\b\b\b\r",
        "49792/60000 [=======================>......] - ETA: 2s - loss: 0.1897 - acc: 0.9434"
       ]
      },
      {
       "output_type": "stream",
       "stream": "stdout",
       "text": [
        "\b\b\b\b\b\b\b\b\b\b\b\b\b\b\b\b\b\b\b\b\b\b\b\b\b\b\b\b\b\b\b\b\b\b\b\b\b\b\b\b\b\b\b\b\b\b\b\b\b\b\b\b\b\b\b\b\b\b\b\b\b\b\b\b\b\b\b\b\b\b\b\b\b\b\b\b\b\b\b\b\b\b\b\r",
        "49920/60000 [=======================>......] - ETA: 2s - loss: 0.1895 - acc: 0.9435"
       ]
      },
      {
       "output_type": "stream",
       "stream": "stdout",
       "text": [
        "\b\b\b\b\b\b\b\b\b\b\b\b\b\b\b\b\b\b\b\b\b\b\b\b\b\b\b\b\b\b\b\b\b\b\b\b\b\b\b\b\b\b\b\b\b\b\b\b\b\b\b\b\b\b\b\b\b\b\b\b\b\b\b\b\b\b\b\b\b\b\b\b\b\b\b\b\b\b\b\b\b\b\b\r",
        "50048/60000 [========================>.....] - ETA: 1s - loss: 0.1894 - acc: 0.9435"
       ]
      },
      {
       "output_type": "stream",
       "stream": "stdout",
       "text": [
        "\b\b\b\b\b\b\b\b\b\b\b\b\b\b\b\b\b\b\b\b\b\b\b\b\b\b\b\b\b\b\b\b\b\b\b\b\b\b\b\b\b\b\b\b\b\b\b\b\b\b\b\b\b\b\b\b\b\b\b\b\b\b\b\b\b\b\b\b\b\b\b\b\b\b\b\b\b\b\b\b\b\b\b\r",
        "50176/60000 [========================>.....] - ETA: 1s - loss: 0.1894 - acc: 0.9434"
       ]
      },
      {
       "output_type": "stream",
       "stream": "stdout",
       "text": [
        "\b\b\b\b\b\b\b\b\b\b\b\b\b\b\b\b\b\b\b\b\b\b\b\b\b\b\b\b\b\b\b\b\b\b\b\b\b\b\b\b\b\b\b\b\b\b\b\b\b\b\b\b\b\b\b\b\b\b\b\b\b\b\b\b\b\b\b\b\b\b\b\b\b\b\b\b\b\b\b\b\b\b\b\r",
        "50304/60000 [========================>.....] - ETA: 1s - loss: 0.1892 - acc: 0.9435"
       ]
      },
      {
       "output_type": "stream",
       "stream": "stdout",
       "text": [
        "\b\b\b\b\b\b\b\b\b\b\b\b\b\b\b\b\b\b\b\b\b\b\b\b\b\b\b\b\b\b\b\b\b\b\b\b\b\b\b\b\b\b\b\b\b\b\b\b\b\b\b\b\b\b\b\b\b\b\b\b\b\b\b\b\b\b\b\b\b\b\b\b\b\b\b\b\b\b\b\b\b\b\b\r",
        "50432/60000 [========================>.....] - ETA: 1s - loss: 0.1892 - acc: 0.9435"
       ]
      },
      {
       "output_type": "stream",
       "stream": "stdout",
       "text": [
        "\b\b\b\b\b\b\b\b\b\b\b\b\b\b\b\b\b\b\b\b\b\b\b\b\b\b\b\b\b\b\b\b\b\b\b\b\b\b\b\b\b\b\b\b\b\b\b\b\b\b\b\b\b\b\b\b\b\b\b\b\b\b\b\b\b\b\b\b\b\b\b\b\b\b\b\b\b\b\b\b\b\b\b\r",
        "50560/60000 [========================>.....] - ETA: 1s - loss: 0.1892 - acc: 0.9436"
       ]
      },
      {
       "output_type": "stream",
       "stream": "stdout",
       "text": [
        "\b\b\b\b\b\b\b\b\b\b\b\b\b\b\b\b\b\b\b\b\b\b\b\b\b\b\b\b\b\b\b\b\b\b\b\b\b\b\b\b\b\b\b\b\b\b\b\b\b\b\b\b\b\b\b\b\b\b\b\b\b\b\b\b\b\b\b\b\b\b\b\b\b\b\b\b\b\b\b\b\b\b\b\r",
        "50688/60000 [========================>.....] - ETA: 1s - loss: 0.1891 - acc: 0.9436"
       ]
      },
      {
       "output_type": "stream",
       "stream": "stdout",
       "text": [
        "\b\b\b\b\b\b\b\b\b\b\b\b\b\b\b\b\b\b\b\b\b\b\b\b\b\b\b\b\b\b\b\b\b\b\b\b\b\b\b\b\b\b\b\b\b\b\b\b\b\b\b\b\b\b\b\b\b\b\b\b\b\b\b\b\b\b\b\b\b\b\b\b\b\b\b\b\b\b\b\b\b\b\b\r",
        "50816/60000 [========================>.....] - ETA: 1s - loss: 0.1890 - acc: 0.9436"
       ]
      },
      {
       "output_type": "stream",
       "stream": "stdout",
       "text": [
        "\b\b\b\b\b\b\b\b\b\b\b\b\b\b\b\b\b\b\b\b\b\b\b\b\b\b\b\b\b\b\b\b\b\b\b\b\b\b\b\b\b\b\b\b\b\b\b\b\b\b\b\b\b\b\b\b\b\b\b\b\b\b\b\b\b\b\b\b\b\b\b\b\b\b\b\b\b\b\b\b\b\b\b\r",
        "50944/60000 [========================>.....] - ETA: 1s - loss: 0.1888 - acc: 0.9437"
       ]
      },
      {
       "output_type": "stream",
       "stream": "stdout",
       "text": [
        "\b\b\b\b\b\b\b\b\b\b\b\b\b\b\b\b\b\b\b\b\b\b\b\b\b\b\b\b\b\b\b\b\b\b\b\b\b\b\b\b\b\b\b\b\b\b\b\b\b\b\b\b\b\b\b\b\b\b\b\b\b\b\b\b\b\b\b\b\b\b\b\b\b\b\b\b\b\b\b\b\b\b\b\r",
        "51072/60000 [========================>.....] - ETA: 1s - loss: 0.1888 - acc: 0.9437"
       ]
      },
      {
       "output_type": "stream",
       "stream": "stdout",
       "text": [
        "\b\b\b\b\b\b\b\b\b\b\b\b\b\b\b\b\b\b\b\b\b\b\b\b\b\b\b\b\b\b\b\b\b\b\b\b\b\b\b\b\b\b\b\b\b\b\b\b\b\b\b\b\b\b\b\b\b\b\b\b\b\b\b\b\b\b\b\b\b\b\b\b\b\b\b\b\b\b\b\b\b\b\b\r",
        "51200/60000 [========================>.....] - ETA: 1s - loss: 0.1890 - acc: 0.9436"
       ]
      },
      {
       "output_type": "stream",
       "stream": "stdout",
       "text": [
        "\b\b\b\b\b\b\b\b\b\b\b\b\b\b\b\b\b\b\b\b\b\b\b\b\b\b\b\b\b\b\b\b\b\b\b\b\b\b\b\b\b\b\b\b\b\b\b\b\b\b\b\b\b\b\b\b\b\b\b\b\b\b\b\b\b\b\b\b\b\b\b\b\b\b\b\b\b\b\b\b\b\b\b\r",
        "51328/60000 [========================>.....] - ETA: 1s - loss: 0.1890 - acc: 0.9436"
       ]
      },
      {
       "output_type": "stream",
       "stream": "stdout",
       "text": [
        "\b\b\b\b\b\b\b\b\b\b\b\b\b\b\b\b\b\b\b\b\b\b\b\b\b\b\b\b\b\b\b\b\b\b\b\b\b\b\b\b\b\b\b\b\b\b\b\b\b\b\b\b\b\b\b\b\b\b\b\b\b\b\b\b\b\b\b\b\b\b\b\b\b\b\b\b\b\b\b\b\b\b\b\r",
        "51456/60000 [========================>.....] - ETA: 1s - loss: 0.1891 - acc: 0.9436"
       ]
      },
      {
       "output_type": "stream",
       "stream": "stdout",
       "text": [
        "\b\b\b\b\b\b\b\b\b\b\b\b\b\b\b\b\b\b\b\b\b\b\b\b\b\b\b\b\b\b\b\b\b\b\b\b\b\b\b\b\b\b\b\b\b\b\b\b\b\b\b\b\b\b\b\b\b\b\b\b\b\b\b\b\b\b\b\b\b\b\b\b\b\b\b\b\b\b\b\b\b\b\b\r",
        "51584/60000 [========================>.....] - ETA: 1s - loss: 0.1890 - acc: 0.9436"
       ]
      },
      {
       "output_type": "stream",
       "stream": "stdout",
       "text": [
        "\b\b\b\b\b\b\b\b\b\b\b\b\b\b\b\b\b\b\b\b\b\b\b\b\b\b\b\b\b\b\b\b\b\b\b\b\b\b\b\b\b\b\b\b\b\b\b\b\b\b\b\b\b\b\b\b\b\b\b\b\b\b\b\b\b\b\b\b\b\b\b\b\b\b\b\b\b\b\b\b\b\b\b\r",
        "51712/60000 [========================>.....] - ETA: 1s - loss: 0.1890 - acc: 0.9436"
       ]
      },
      {
       "output_type": "stream",
       "stream": "stdout",
       "text": [
        "\b\b\b\b\b\b\b\b\b\b\b\b\b\b\b\b\b\b\b\b\b\b\b\b\b\b\b\b\b\b\b\b\b\b\b\b\b\b\b\b\b\b\b\b\b\b\b\b\b\b\b\b\b\b\b\b\b\b\b\b\b\b\b\b\b\b\b\b\b\b\b\b\b\b\b\b\b\b\b\b\b\b\b\r",
        "51840/60000 [========================>.....] - ETA: 1s - loss: 0.1890 - acc: 0.9436"
       ]
      },
      {
       "output_type": "stream",
       "stream": "stdout",
       "text": [
        "\b\b\b\b\b\b\b\b\b\b\b\b\b\b\b\b\b\b\b\b\b\b\b\b\b\b\b\b\b\b\b\b\b\b\b\b\b\b\b\b\b\b\b\b\b\b\b\b\b\b\b\b\b\b\b\b\b\b\b\b\b\b\b\b\b\b\b\b\b\b\b\b\b\b\b\b\b\b\b\b\b\b\b\r",
        "51968/60000 [========================>.....] - ETA: 1s - loss: 0.1888 - acc: 0.9437"
       ]
      },
      {
       "output_type": "stream",
       "stream": "stdout",
       "text": [
        "\b\b\b\b\b\b\b\b\b\b\b\b\b\b\b\b\b\b\b\b\b\b\b\b\b\b\b\b\b\b\b\b\b\b\b\b\b\b\b\b\b\b\b\b\b\b\b\b\b\b\b\b\b\b\b\b\b\b\b\b\b\b\b\b\b\b\b\b\b\b\b\b\b\b\b\b\b\b\b\b\b\b\b\r",
        "52096/60000 [=========================>....] - ETA: 1s - loss: 0.1890 - acc: 0.9436"
       ]
      },
      {
       "output_type": "stream",
       "stream": "stdout",
       "text": [
        "\b\b\b\b\b\b\b\b\b\b\b\b\b\b\b\b\b\b\b\b\b\b\b\b\b\b\b\b\b\b\b\b\b\b\b\b\b\b\b\b\b\b\b\b\b\b\b\b\b\b\b\b\b\b\b\b\b\b\b\b\b\b\b\b\b\b\b\b\b\b\b\b\b\b\b\b\b\b\b\b\b\b\b\r",
        "52224/60000 [=========================>....] - ETA: 1s - loss: 0.1889 - acc: 0.9437"
       ]
      },
      {
       "output_type": "stream",
       "stream": "stdout",
       "text": [
        "\b\b\b\b\b\b\b\b\b\b\b\b\b\b\b\b\b\b\b\b\b\b\b\b\b\b\b\b\b\b\b\b\b\b\b\b\b\b\b\b\b\b\b\b\b\b\b\b\b\b\b\b\b\b\b\b\b\b\b\b\b\b\b\b\b\b\b\b\b\b\b\b\b\b\b\b\b\b\b\b\b\b\b\r",
        "52352/60000 [=========================>....] - ETA: 1s - loss: 0.1888 - acc: 0.9437"
       ]
      },
      {
       "output_type": "stream",
       "stream": "stdout",
       "text": [
        "\b\b\b\b\b\b\b\b\b\b\b\b\b\b\b\b\b\b\b\b\b\b\b\b\b\b\b\b\b\b\b\b\b\b\b\b\b\b\b\b\b\b\b\b\b\b\b\b\b\b\b\b\b\b\b\b\b\b\b\b\b\b\b\b\b\b\b\b\b\b\b\b\b\b\b\b\b\b\b\b\b\b\b\r",
        "52480/60000 [=========================>....] - ETA: 1s - loss: 0.1889 - acc: 0.9436"
       ]
      },
      {
       "output_type": "stream",
       "stream": "stdout",
       "text": [
        "\b\b\b\b\b\b\b\b\b\b\b\b\b\b\b\b\b\b\b\b\b\b\b\b\b\b\b\b\b\b\b\b\b\b\b\b\b\b\b\b\b\b\b\b\b\b\b\b\b\b\b\b\b\b\b\b\b\b\b\b\b\b\b\b\b\b\b\b\b\b\b\b\b\b\b\b\b\b\b\b\b\b\b\r",
        "52608/60000 [=========================>....] - ETA: 1s - loss: 0.1889 - acc: 0.9436"
       ]
      },
      {
       "output_type": "stream",
       "stream": "stdout",
       "text": [
        "\b\b\b\b\b\b\b\b\b\b\b\b\b\b\b\b\b\b\b\b\b\b\b\b\b\b\b\b\b\b\b\b\b\b\b\b\b\b\b\b\b\b\b\b\b\b\b\b\b\b\b\b\b\b\b\b\b\b\b\b\b\b\b\b\b\b\b\b\b\b\b\b\b\b\b\b\b\b\b\b\b\b\b\r",
        "52736/60000 [=========================>....] - ETA: 1s - loss: 0.1888 - acc: 0.9436"
       ]
      },
      {
       "output_type": "stream",
       "stream": "stdout",
       "text": [
        "\b\b\b\b\b\b\b\b\b\b\b\b\b\b\b\b\b\b\b\b\b\b\b\b\b\b\b\b\b\b\b\b\b\b\b\b\b\b\b\b\b\b\b\b\b\b\b\b\b\b\b\b\b\b\b\b\b\b\b\b\b\b\b\b\b\b\b\b\b\b\b\b\b\b\b\b\b\b\b\b\b\b\b\r",
        "52864/60000 [=========================>....] - ETA: 1s - loss: 0.1885 - acc: 0.9437"
       ]
      },
      {
       "output_type": "stream",
       "stream": "stdout",
       "text": [
        "\b\b\b\b\b\b\b\b\b\b\b\b\b\b\b\b\b\b\b\b\b\b\b\b\b\b\b\b\b\b\b\b\b\b\b\b\b\b\b\b\b\b\b\b\b\b\b\b\b\b\b\b\b\b\b\b\b\b\b\b\b\b\b\b\b\b\b\b\b\b\b\b\b\b\b\b\b\b\b\b\b\b\b\r",
        "52992/60000 [=========================>....] - ETA: 1s - loss: 0.1885 - acc: 0.9437"
       ]
      },
      {
       "output_type": "stream",
       "stream": "stdout",
       "text": [
        "\b\b\b\b\b\b\b\b\b\b\b\b\b\b\b\b\b\b\b\b\b\b\b\b\b\b\b\b\b\b\b\b\b\b\b\b\b\b\b\b\b\b\b\b\b\b\b\b\b\b\b\b\b\b\b\b\b\b\b\b\b\b\b\b\b\b\b\b\b\b\b\b\b\b\b\b\b\b\b\b\b\b\b\r",
        "53120/60000 [=========================>....] - ETA: 1s - loss: 0.1883 - acc: 0.9438"
       ]
      },
      {
       "output_type": "stream",
       "stream": "stdout",
       "text": [
        "\b\b\b\b\b\b\b\b\b\b\b\b\b\b\b\b\b\b\b\b\b\b\b\b\b\b\b\b\b\b\b\b\b\b\b\b\b\b\b\b\b\b\b\b\b\b\b\b\b\b\b\b\b\b\b\b\b\b\b\b\b\b\b\b\b\b\b\b\b\b\b\b\b\b\b\b\b\b\b\b\b\b\b\r",
        "53248/60000 [=========================>....] - ETA: 1s - loss: 0.1882 - acc: 0.9439"
       ]
      },
      {
       "output_type": "stream",
       "stream": "stdout",
       "text": [
        "\b\b\b\b\b\b\b\b\b\b\b\b\b\b\b\b\b\b\b\b\b\b\b\b\b\b\b\b\b\b\b\b\b\b\b\b\b\b\b\b\b\b\b\b\b\b\b\b\b\b\b\b\b\b\b\b\b\b\b\b\b\b\b\b\b\b\b\b\b\b\b\b\b\b\b\b\b\b\b\b\b\b\b\r",
        "53376/60000 [=========================>....] - ETA: 1s - loss: 0.1882 - acc: 0.9439"
       ]
      },
      {
       "output_type": "stream",
       "stream": "stdout",
       "text": [
        "\b\b\b\b\b\b\b\b\b\b\b\b\b\b\b\b\b\b\b\b\b\b\b\b\b\b\b\b\b\b\b\b\b\b\b\b\b\b\b\b\b\b\b\b\b\b\b\b\b\b\b\b\b\b\b\b\b\b\b\b\b\b\b\b\b\b\b\b\b\b\b\b\b\b\b\b\b\b\b\b\b\b\b\r",
        "53504/60000 [=========================>....] - ETA: 1s - loss: 0.1880 - acc: 0.9439"
       ]
      },
      {
       "output_type": "stream",
       "stream": "stdout",
       "text": [
        "\b\b\b\b\b\b\b\b\b\b\b\b\b\b\b\b\b\b\b\b\b\b\b\b\b\b\b\b\b\b\b\b\b\b\b\b\b\b\b\b\b\b\b\b\b\b\b\b\b\b\b\b\b\b\b\b\b\b\b\b\b\b\b\b\b\b\b\b\b\b\b\b\b\b\b\b\b\b\b\b\b\b\b\r",
        "53632/60000 [=========================>....] - ETA: 1s - loss: 0.1879 - acc: 0.9440"
       ]
      },
      {
       "output_type": "stream",
       "stream": "stdout",
       "text": [
        "\b\b\b\b\b\b\b\b\b\b\b\b\b\b\b\b\b\b\b\b\b\b\b\b\b\b\b\b\b\b\b\b\b\b\b\b\b\b\b\b\b\b\b\b\b\b\b\b\b\b\b\b\b\b\b\b\b\b\b\b\b\b\b\b\b\b\b\b\b\b\b\b\b\b\b\b\b\b\b\b\b\b\b\r",
        "53760/60000 [=========================>....] - ETA: 1s - loss: 0.1878 - acc: 0.9440"
       ]
      },
      {
       "output_type": "stream",
       "stream": "stdout",
       "text": [
        "\b\b\b\b\b\b\b\b\b\b\b\b\b\b\b\b\b\b\b\b\b\b\b\b\b\b\b\b\b\b\b\b\b\b\b\b\b\b\b\b\b\b\b\b\b\b\b\b\b\b\b\b\b\b\b\b\b\b\b\b\b\b\b\b\b\b\b\b\b\b\b\b\b\b\b\b\b\b\b\b\b\b\b\r",
        "53888/60000 [=========================>....] - ETA: 1s - loss: 0.1878 - acc: 0.9441"
       ]
      },
      {
       "output_type": "stream",
       "stream": "stdout",
       "text": [
        "\b\b\b\b\b\b\b\b\b\b\b\b\b\b\b\b\b\b\b\b\b\b\b\b\b\b\b\b\b\b\b\b\b\b\b\b\b\b\b\b\b\b\b\b\b\b\b\b\b\b\b\b\b\b\b\b\b\b\b\b\b\b\b\b\b\b\b\b\b\b\b\b\b\b\b\b\b\b\b\b\b\b\b\r",
        "54016/60000 [==========================>...] - ETA: 1s - loss: 0.1876 - acc: 0.9441"
       ]
      },
      {
       "output_type": "stream",
       "stream": "stdout",
       "text": [
        "\b\b\b\b\b\b\b\b\b\b\b\b\b\b\b\b\b\b\b\b\b\b\b\b\b\b\b\b\b\b\b\b\b\b\b\b\b\b\b\b\b\b\b\b\b\b\b\b\b\b\b\b\b\b\b\b\b\b\b\b\b\b\b\b\b\b\b\b\b\b\b\b\b\b\b\b\b\b\b\b\b\b\b\r",
        "54144/60000 [==========================>...] - ETA: 1s - loss: 0.1876 - acc: 0.9441"
       ]
      },
      {
       "output_type": "stream",
       "stream": "stdout",
       "text": [
        "\b\b\b\b\b\b\b\b\b\b\b\b\b\b\b\b\b\b\b\b\b\b\b\b\b\b\b\b\b\b\b\b\b\b\b\b\b\b\b\b\b\b\b\b\b\b\b\b\b\b\b\b\b\b\b\b\b\b\b\b\b\b\b\b\b\b\b\b\b\b\b\b\b\b\b\b\b\b\b\b\b\b\b\r",
        "54272/60000 [==========================>...] - ETA: 1s - loss: 0.1875 - acc: 0.9442"
       ]
      },
      {
       "output_type": "stream",
       "stream": "stdout",
       "text": [
        "\b\b\b\b\b\b\b\b\b\b\b\b\b\b\b\b\b\b\b\b\b\b\b\b\b\b\b\b\b\b\b\b\b\b\b\b\b\b\b\b\b\b\b\b\b\b\b\b\b\b\b\b\b\b\b\b\b\b\b\b\b\b\b\b\b\b\b\b\b\b\b\b\b\b\b\b\b\b\b\b\b\b\b\r",
        "54400/60000 [==========================>...] - ETA: 1s - loss: 0.1875 - acc: 0.9442"
       ]
      },
      {
       "output_type": "stream",
       "stream": "stdout",
       "text": [
        "\b\b\b\b\b\b\b\b\b\b\b\b\b\b\b\b\b\b\b\b\b\b\b\b\b\b\b\b\b\b\b\b\b\b\b\b\b\b\b\b\b\b\b\b\b\b\b\b\b\b\b\b\b\b\b\b\b\b\b\b\b\b\b\b\b\b\b\b\b\b\b\b\b\b\b\b\b\b\b\b\b\b\b\r",
        "54528/60000 [==========================>...] - ETA: 1s - loss: 0.1876 - acc: 0.9442"
       ]
      },
      {
       "output_type": "stream",
       "stream": "stdout",
       "text": [
        "\b\b\b\b\b\b\b\b\b\b\b\b\b\b\b\b\b\b\b\b\b\b\b\b\b\b\b\b\b\b\b\b\b\b\b\b\b\b\b\b\b\b\b\b\b\b\b\b\b\b\b\b\b\b\b\b\b\b\b\b\b\b\b\b\b\b\b\b\b\b\b\b\b\b\b\b\b\b\b\b\b\b\b\r",
        "54656/60000 [==========================>...] - ETA: 1s - loss: 0.1874 - acc: 0.9442"
       ]
      },
      {
       "output_type": "stream",
       "stream": "stdout",
       "text": [
        "\b\b\b\b\b\b\b\b\b\b\b\b\b\b\b\b\b\b\b\b\b\b\b\b\b\b\b\b\b\b\b\b\b\b\b\b\b\b\b\b\b\b\b\b\b\b\b\b\b\b\b\b\b\b\b\b\b\b\b\b\b\b\b\b\b\b\b\b\b\b\b\b\b\b\b\b\b\b\b\b\b\b\b\r",
        "54784/60000 [==========================>...] - ETA: 1s - loss: 0.1872 - acc: 0.9443"
       ]
      },
      {
       "output_type": "stream",
       "stream": "stdout",
       "text": [
        "\b\b\b\b\b\b\b\b\b\b\b\b\b\b\b\b\b\b\b\b\b\b\b\b\b\b\b\b\b\b\b\b\b\b\b\b\b\b\b\b\b\b\b\b\b\b\b\b\b\b\b\b\b\b\b\b\b\b\b\b\b\b\b\b\b\b\b\b\b\b\b\b\b\b\b\b\b\b\b\b\b\b\b\r",
        "54912/60000 [==========================>...] - ETA: 1s - loss: 0.1871 - acc: 0.9443"
       ]
      },
      {
       "output_type": "stream",
       "stream": "stdout",
       "text": [
        "\b\b\b\b\b\b\b\b\b\b\b\b\b\b\b\b\b\b\b\b\b\b\b\b\b\b\b\b\b\b\b\b\b\b\b\b\b\b\b\b\b\b\b\b\b\b\b\b\b\b\b\b\b\b\b\b\b\b\b\b\b\b\b\b\b\b\b\b\b\b\b\b\b\b\b\b\b\b\b\b\b\b\b\r",
        "55040/60000 [==========================>...] - ETA: 0s - loss: 0.1873 - acc: 0.9442"
       ]
      },
      {
       "output_type": "stream",
       "stream": "stdout",
       "text": [
        "\b\b\b\b\b\b\b\b\b\b\b\b\b\b\b\b\b\b\b\b\b\b\b\b\b\b\b\b\b\b\b\b\b\b\b\b\b\b\b\b\b\b\b\b\b\b\b\b\b\b\b\b\b\b\b\b\b\b\b\b\b\b\b\b\b\b\b\b\b\b\b\b\b\b\b\b\b\b\b\b\b\b\b\r",
        "55168/60000 [==========================>...] - ETA: 0s - loss: 0.1874 - acc: 0.9443"
       ]
      },
      {
       "output_type": "stream",
       "stream": "stdout",
       "text": [
        "\b\b\b\b\b\b\b\b\b\b\b\b\b\b\b\b\b\b\b\b\b\b\b\b\b\b\b\b\b\b\b\b\b\b\b\b\b\b\b\b\b\b\b\b\b\b\b\b\b\b\b\b\b\b\b\b\b\b\b\b\b\b\b\b\b\b\b\b\b\b\b\b\b\b\b\b\b\b\b\b\b\b\b\r",
        "55296/60000 [==========================>...] - ETA: 0s - loss: 0.1873 - acc: 0.9443"
       ]
      },
      {
       "output_type": "stream",
       "stream": "stdout",
       "text": [
        "\b\b\b\b\b\b\b\b\b\b\b\b\b\b\b\b\b\b\b\b\b\b\b\b\b\b\b\b\b\b\b\b\b\b\b\b\b\b\b\b\b\b\b\b\b\b\b\b\b\b\b\b\b\b\b\b\b\b\b\b\b\b\b\b\b\b\b\b\b\b\b\b\b\b\b\b\b\b\b\b\b\b\b\r",
        "55424/60000 [==========================>...] - ETA: 0s - loss: 0.1873 - acc: 0.9443"
       ]
      },
      {
       "output_type": "stream",
       "stream": "stdout",
       "text": [
        "\b\b\b\b\b\b\b\b\b\b\b\b\b\b\b\b\b\b\b\b\b\b\b\b\b\b\b\b\b\b\b\b\b\b\b\b\b\b\b\b\b\b\b\b\b\b\b\b\b\b\b\b\b\b\b\b\b\b\b\b\b\b\b\b\b\b\b\b\b\b\b\b\b\b\b\b\b\b\b\b\b\b\b\r",
        "55552/60000 [==========================>...] - ETA: 0s - loss: 0.1873 - acc: 0.9443"
       ]
      },
      {
       "output_type": "stream",
       "stream": "stdout",
       "text": [
        "\b\b\b\b\b\b\b\b\b\b\b\b\b\b\b\b\b\b\b\b\b\b\b\b\b\b\b\b\b\b\b\b\b\b\b\b\b\b\b\b\b\b\b\b\b\b\b\b\b\b\b\b\b\b\b\b\b\b\b\b\b\b\b\b\b\b\b\b\b\b\b\b\b\b\b\b\b\b\b\b\b\b\b\r",
        "55680/60000 [==========================>...] - ETA: 0s - loss: 0.1872 - acc: 0.9443"
       ]
      },
      {
       "output_type": "stream",
       "stream": "stdout",
       "text": [
        "\b\b\b\b\b\b\b\b\b\b\b\b\b\b\b\b\b\b\b\b\b\b\b\b\b\b\b\b\b\b\b\b\b\b\b\b\b\b\b\b\b\b\b\b\b\b\b\b\b\b\b\b\b\b\b\b\b\b\b\b\b\b\b\b\b\b\b\b\b\b\b\b\b\b\b\b\b\b\b\b\b\b\b\r",
        "55808/60000 [==========================>...] - ETA: 0s - loss: 0.1870 - acc: 0.9444"
       ]
      },
      {
       "output_type": "stream",
       "stream": "stdout",
       "text": [
        "\b\b\b\b\b\b\b\b\b\b\b\b\b\b\b\b\b\b\b\b\b\b\b\b\b\b\b\b\b\b\b\b\b\b\b\b\b\b\b\b\b\b\b\b\b\b\b\b\b\b\b\b\b\b\b\b\b\b\b\b\b\b\b\b\b\b\b\b\b\b\b\b\b\b\b\b\b\b\b\b\b\b\b\r",
        "55936/60000 [==========================>...] - ETA: 0s - loss: 0.1869 - acc: 0.9444"
       ]
      },
      {
       "output_type": "stream",
       "stream": "stdout",
       "text": [
        "\b\b\b\b\b\b\b\b\b\b\b\b\b\b\b\b\b\b\b\b\b\b\b\b\b\b\b\b\b\b\b\b\b\b\b\b\b\b\b\b\b\b\b\b\b\b\b\b\b\b\b\b\b\b\b\b\b\b\b\b\b\b\b\b\b\b\b\b\b\b\b\b\b\b\b\b\b\b\b\b\b\b\b\r",
        "56064/60000 [===========================>..] - ETA: 0s - loss: 0.1868 - acc: 0.9444"
       ]
      },
      {
       "output_type": "stream",
       "stream": "stdout",
       "text": [
        "\b\b\b\b\b\b\b\b\b\b\b\b\b\b\b\b\b\b\b\b\b\b\b\b\b\b\b\b\b\b\b\b\b\b\b\b\b\b\b\b\b\b\b\b\b\b\b\b\b\b\b\b\b\b\b\b\b\b\b\b\b\b\b\b\b\b\b\b\b\b\b\b\b\b\b\b\b\b\b\b\b\b\b\r",
        "56192/60000 [===========================>..] - ETA: 0s - loss: 0.1867 - acc: 0.9445"
       ]
      },
      {
       "output_type": "stream",
       "stream": "stdout",
       "text": [
        "\b\b\b\b\b\b\b\b\b\b\b\b\b\b\b\b\b\b\b\b\b\b\b\b\b\b\b\b\b\b\b\b\b\b\b\b\b\b\b\b\b\b\b\b\b\b\b\b\b\b\b\b\b\b\b\b\b\b\b\b\b\b\b\b\b\b\b\b\b\b\b\b\b\b\b\b\b\b\b\b\b\b\b\r",
        "56320/60000 [===========================>..] - ETA: 0s - loss: 0.1868 - acc: 0.9444"
       ]
      },
      {
       "output_type": "stream",
       "stream": "stdout",
       "text": [
        "\b\b\b\b\b\b\b\b\b\b\b\b\b\b\b\b\b\b\b\b\b\b\b\b\b\b\b\b\b\b\b\b\b\b\b\b\b\b\b\b\b\b\b\b\b\b\b\b\b\b\b\b\b\b\b\b\b\b\b\b\b\b\b\b\b\b\b\b\b\b\b\b\b\b\b\b\b\b\b\b\b\b\b\r",
        "56448/60000 [===========================>..] - ETA: 0s - loss: 0.1868 - acc: 0.9444"
       ]
      },
      {
       "output_type": "stream",
       "stream": "stdout",
       "text": [
        "\b\b\b\b\b\b\b\b\b\b\b\b\b\b\b\b\b\b\b\b\b\b\b\b\b\b\b\b\b\b\b\b\b\b\b\b\b\b\b\b\b\b\b\b\b\b\b\b\b\b\b\b\b\b\b\b\b\b\b\b\b\b\b\b\b\b\b\b\b\b\b\b\b\b\b\b\b\b\b\b\b\b\b\r",
        "56576/60000 [===========================>..] - ETA: 0s - loss: 0.1865 - acc: 0.9445"
       ]
      },
      {
       "output_type": "stream",
       "stream": "stdout",
       "text": [
        "\b\b\b\b\b\b\b\b\b\b\b\b\b\b\b\b\b\b\b\b\b\b\b\b\b\b\b\b\b\b\b\b\b\b\b\b\b\b\b\b\b\b\b\b\b\b\b\b\b\b\b\b\b\b\b\b\b\b\b\b\b\b\b\b\b\b\b\b\b\b\b\b\b\b\b\b\b\b\b\b\b\b\b\r",
        "56704/60000 [===========================>..] - ETA: 0s - loss: 0.1865 - acc: 0.9445"
       ]
      },
      {
       "output_type": "stream",
       "stream": "stdout",
       "text": [
        "\b\b\b\b\b\b\b\b\b\b\b\b\b\b\b\b\b\b\b\b\b\b\b\b\b\b\b\b\b\b\b\b\b\b\b\b\b\b\b\b\b\b\b\b\b\b\b\b\b\b\b\b\b\b\b\b\b\b\b\b\b\b\b\b\b\b\b\b\b\b\b\b\b\b\b\b\b\b\b\b\b\b\b\r",
        "56832/60000 [===========================>..] - ETA: 0s - loss: 0.1866 - acc: 0.9445"
       ]
      },
      {
       "output_type": "stream",
       "stream": "stdout",
       "text": [
        "\b\b\b\b\b\b\b\b\b\b\b\b\b\b\b\b\b\b\b\b\b\b\b\b\b\b\b\b\b\b\b\b\b\b\b\b\b\b\b\b\b\b\b\b\b\b\b\b\b\b\b\b\b\b\b\b\b\b\b\b\b\b\b\b\b\b\b\b\b\b\b\b\b\b\b\b\b\b\b\b\b\b\b\r",
        "56960/60000 [===========================>..] - ETA: 0s - loss: 0.1866 - acc: 0.9445"
       ]
      },
      {
       "output_type": "stream",
       "stream": "stdout",
       "text": [
        "\b\b\b\b\b\b\b\b\b\b\b\b\b\b\b\b\b\b\b\b\b\b\b\b\b\b\b\b\b\b\b\b\b\b\b\b\b\b\b\b\b\b\b\b\b\b\b\b\b\b\b\b\b\b\b\b\b\b\b\b\b\b\b\b\b\b\b\b\b\b\b\b\b\b\b\b\b\b\b\b\b\b\b\r",
        "57088/60000 [===========================>..] - ETA: 0s - loss: 0.1864 - acc: 0.9446"
       ]
      },
      {
       "output_type": "stream",
       "stream": "stdout",
       "text": [
        "\b\b\b\b\b\b\b\b\b\b\b\b\b\b\b\b\b\b\b\b\b\b\b\b\b\b\b\b\b\b\b\b\b\b\b\b\b\b\b\b\b\b\b\b\b\b\b\b\b\b\b\b\b\b\b\b\b\b\b\b\b\b\b\b\b\b\b\b\b\b\b\b\b\b\b\b\b\b\b\b\b\b\b\r",
        "57216/60000 [===========================>..] - ETA: 0s - loss: 0.1864 - acc: 0.9445"
       ]
      },
      {
       "output_type": "stream",
       "stream": "stdout",
       "text": [
        "\b\b\b\b\b\b\b\b\b\b\b\b\b\b\b\b\b\b\b\b\b\b\b\b\b\b\b\b\b\b\b\b\b\b\b\b\b\b\b\b\b\b\b\b\b\b\b\b\b\b\b\b\b\b\b\b\b\b\b\b\b\b\b\b\b\b\b\b\b\b\b\b\b\b\b\b\b\b\b\b\b\b\b\r",
        "57344/60000 [===========================>..] - ETA: 0s - loss: 0.1864 - acc: 0.9445"
       ]
      },
      {
       "output_type": "stream",
       "stream": "stdout",
       "text": [
        "\b\b\b\b\b\b\b\b\b\b\b\b\b\b\b\b\b\b\b\b\b\b\b\b\b\b\b\b\b\b\b\b\b\b\b\b\b\b\b\b\b\b\b\b\b\b\b\b\b\b\b\b\b\b\b\b\b\b\b\b\b\b\b\b\b\b\b\b\b\b\b\b\b\b\b\b\b\b\b\b\b\b\b\r",
        "57472/60000 [===========================>..] - ETA: 0s - loss: 0.1863 - acc: 0.9446"
       ]
      },
      {
       "output_type": "stream",
       "stream": "stdout",
       "text": [
        "\b\b\b\b\b\b\b\b\b\b\b\b\b\b\b\b\b\b\b\b\b\b\b\b\b\b\b\b\b\b\b\b\b\b\b\b\b\b\b\b\b\b\b\b\b\b\b\b\b\b\b\b\b\b\b\b\b\b\b\b\b\b\b\b\b\b\b\b\b\b\b\b\b\b\b\b\b\b\b\b\b\b\b\r",
        "57600/60000 [===========================>..] - ETA: 0s - loss: 0.1863 - acc: 0.9446"
       ]
      },
      {
       "output_type": "stream",
       "stream": "stdout",
       "text": [
        "\b\b\b\b\b\b\b\b\b\b\b\b\b\b\b\b\b\b\b\b\b\b\b\b\b\b\b\b\b\b\b\b\b\b\b\b\b\b\b\b\b\b\b\b\b\b\b\b\b\b\b\b\b\b\b\b\b\b\b\b\b\b\b\b\b\b\b\b\b\b\b\b\b\b\b\b\b\b\b\b\b\b\b\r",
        "57728/60000 [===========================>..] - ETA: 0s - loss: 0.1863 - acc: 0.9446"
       ]
      },
      {
       "output_type": "stream",
       "stream": "stdout",
       "text": [
        "\b\b\b\b\b\b\b\b\b\b\b\b\b\b\b\b\b\b\b\b\b\b\b\b\b\b\b\b\b\b\b\b\b\b\b\b\b\b\b\b\b\b\b\b\b\b\b\b\b\b\b\b\b\b\b\b\b\b\b\b\b\b\b\b\b\b\b\b\b\b\b\b\b\b\b\b\b\b\b\b\b\b\b\r",
        "57856/60000 [===========================>..] - ETA: 0s - loss: 0.1862 - acc: 0.9446"
       ]
      },
      {
       "output_type": "stream",
       "stream": "stdout",
       "text": [
        "\b\b\b\b\b\b\b\b\b\b\b\b\b\b\b\b\b\b\b\b\b\b\b\b\b\b\b\b\b\b\b\b\b\b\b\b\b\b\b\b\b\b\b\b\b\b\b\b\b\b\b\b\b\b\b\b\b\b\b\b\b\b\b\b\b\b\b\b\b\b\b\b\b\b\b\b\b\b\b\b\b\b\b\r",
        "57984/60000 [===========================>..] - ETA: 0s - loss: 0.1862 - acc: 0.9447"
       ]
      },
      {
       "output_type": "stream",
       "stream": "stdout",
       "text": [
        "\b\b\b\b\b\b\b\b\b\b\b\b\b\b\b\b\b\b\b\b\b\b\b\b\b\b\b\b\b\b\b\b\b\b\b\b\b\b\b\b\b\b\b\b\b\b\b\b\b\b\b\b\b\b\b\b\b\b\b\b\b\b\b\b\b\b\b\b\b\b\b\b\b\b\b\b\b\b\b\b\b\b\b\r",
        "58112/60000 [============================>.] - ETA: 0s - loss: 0.1862 - acc: 0.9447"
       ]
      },
      {
       "output_type": "stream",
       "stream": "stdout",
       "text": [
        "\b\b\b\b\b\b\b\b\b\b\b\b\b\b\b\b\b\b\b\b\b\b\b\b\b\b\b\b\b\b\b\b\b\b\b\b\b\b\b\b\b\b\b\b\b\b\b\b\b\b\b\b\b\b\b\b\b\b\b\b\b\b\b\b\b\b\b\b\b\b\b\b\b\b\b\b\b\b\b\b\b\b\b\r",
        "58240/60000 [============================>.] - ETA: 0s - loss: 0.1861 - acc: 0.9447"
       ]
      },
      {
       "output_type": "stream",
       "stream": "stdout",
       "text": [
        "\b\b\b\b\b\b\b\b\b\b\b\b\b\b\b\b\b\b\b\b\b\b\b\b\b\b\b\b\b\b\b\b\b\b\b\b\b\b\b\b\b\b\b\b\b\b\b\b\b\b\b\b\b\b\b\b\b\b\b\b\b\b\b\b\b\b\b\b\b\b\b\b\b\b\b\b\b\b\b\b\b\b\b\r",
        "58368/60000 [============================>.] - ETA: 0s - loss: 0.1861 - acc: 0.9447"
       ]
      },
      {
       "output_type": "stream",
       "stream": "stdout",
       "text": [
        "\b\b\b\b\b\b\b\b\b\b\b\b\b\b\b\b\b\b\b\b\b\b\b\b\b\b\b\b\b\b\b\b\b\b\b\b\b\b\b\b\b\b\b\b\b\b\b\b\b\b\b\b\b\b\b\b\b\b\b\b\b\b\b\b\b\b\b\b\b\b\b\b\b\b\b\b\b\b\b\b\b\b\b\r",
        "58496/60000 [============================>.] - ETA: 0s - loss: 0.1860 - acc: 0.9447"
       ]
      },
      {
       "output_type": "stream",
       "stream": "stdout",
       "text": [
        "\b\b\b\b\b\b\b\b\b\b\b\b\b\b\b\b\b\b\b\b\b\b\b\b\b\b\b\b\b\b\b\b\b\b\b\b\b\b\b\b\b\b\b\b\b\b\b\b\b\b\b\b\b\b\b\b\b\b\b\b\b\b\b\b\b\b\b\b\b\b\b\b\b\b\b\b\b\b\b\b\b\b\b\r",
        "58624/60000 [============================>.] - ETA: 0s - loss: 0.1858 - acc: 0.9447"
       ]
      },
      {
       "output_type": "stream",
       "stream": "stdout",
       "text": [
        "\b\b\b\b\b\b\b\b\b\b\b\b\b\b\b\b\b\b\b\b\b\b\b\b\b\b\b\b\b\b\b\b\b\b\b\b\b\b\b\b\b\b\b\b\b\b\b\b\b\b\b\b\b\b\b\b\b\b\b\b\b\b\b\b\b\b\b\b\b\b\b\b\b\b\b\b\b\b\b\b\b\b\b\r",
        "58752/60000 [============================>.] - ETA: 0s - loss: 0.1859 - acc: 0.9447"
       ]
      },
      {
       "output_type": "stream",
       "stream": "stdout",
       "text": [
        "\b\b\b\b\b\b\b\b\b\b\b\b\b\b\b\b\b\b\b\b\b\b\b\b\b\b\b\b\b\b\b\b\b\b\b\b\b\b\b\b\b\b\b\b\b\b\b\b\b\b\b\b\b\b\b\b\b\b\b\b\b\b\b\b\b\b\b\b\b\b\b\b\b\b\b\b\b\b\b\b\b\b\b\r",
        "58880/60000 [============================>.] - ETA: 0s - loss: 0.1860 - acc: 0.9447"
       ]
      },
      {
       "output_type": "stream",
       "stream": "stdout",
       "text": [
        "\b\b\b\b\b\b\b\b\b\b\b\b\b\b\b\b\b\b\b\b\b\b\b\b\b\b\b\b\b\b\b\b\b\b\b\b\b\b\b\b\b\b\b\b\b\b\b\b\b\b\b\b\b\b\b\b\b\b\b\b\b\b\b\b\b\b\b\b\b\b\b\b\b\b\b\b\b\b\b\b\b\b\b\r",
        "59008/60000 [============================>.] - ETA: 0s - loss: 0.1859 - acc: 0.9447"
       ]
      },
      {
       "output_type": "stream",
       "stream": "stdout",
       "text": [
        "\b\b\b\b\b\b\b\b\b\b\b\b\b\b\b\b\b\b\b\b\b\b\b\b\b\b\b\b\b\b\b\b\b\b\b\b\b\b\b\b\b\b\b\b\b\b\b\b\b\b\b\b\b\b\b\b\b\b\b\b\b\b\b\b\b\b\b\b\b\b\b\b\b\b\b\b\b\b\b\b\b\b\b\r",
        "59136/60000 [============================>.] - ETA: 0s - loss: 0.1858 - acc: 0.9447"
       ]
      },
      {
       "output_type": "stream",
       "stream": "stdout",
       "text": [
        "\b\b\b\b\b\b\b\b\b\b\b\b\b\b\b\b\b\b\b\b\b\b\b\b\b\b\b\b\b\b\b\b\b\b\b\b\b\b\b\b\b\b\b\b\b\b\b\b\b\b\b\b\b\b\b\b\b\b\b\b\b\b\b\b\b\b\b\b\b\b\b\b\b\b\b\b\b\b\b\b\b\b\b\r",
        "59264/60000 [============================>.] - ETA: 0s - loss: 0.1857 - acc: 0.9448"
       ]
      },
      {
       "output_type": "stream",
       "stream": "stdout",
       "text": [
        "\b\b\b\b\b\b\b\b\b\b\b\b\b\b\b\b\b\b\b\b\b\b\b\b\b\b\b\b\b\b\b\b\b\b\b\b\b\b\b\b\b\b\b\b\b\b\b\b\b\b\b\b\b\b\b\b\b\b\b\b\b\b\b\b\b\b\b\b\b\b\b\b\b\b\b\b\b\b\b\b\b\b\b\r",
        "59392/60000 [============================>.] - ETA: 0s - loss: 0.1859 - acc: 0.9447"
       ]
      },
      {
       "output_type": "stream",
       "stream": "stdout",
       "text": [
        "\b\b\b\b\b\b\b\b\b\b\b\b\b\b\b\b\b\b\b\b\b\b\b\b\b\b\b\b\b\b\b\b\b\b\b\b\b\b\b\b\b\b\b\b\b\b\b\b\b\b\b\b\b\b\b\b\b\b\b\b\b\b\b\b\b\b\b\b\b\b\b\b\b\b\b\b\b\b\b\b\b\b\b\r",
        "59520/60000 [============================>.] - ETA: 0s - loss: 0.1858 - acc: 0.9448"
       ]
      },
      {
       "output_type": "stream",
       "stream": "stdout",
       "text": [
        "\b\b\b\b\b\b\b\b\b\b\b\b\b\b\b\b\b\b\b\b\b\b\b\b\b\b\b\b\b\b\b\b\b\b\b\b\b\b\b\b\b\b\b\b\b\b\b\b\b\b\b\b\b\b\b\b\b\b\b\b\b\b\b\b\b\b\b\b\b\b\b\b\b\b\b\b\b\b\b\b\b\b\b\r",
        "59648/60000 [============================>.] - ETA: 0s - loss: 0.1856 - acc: 0.9449"
       ]
      },
      {
       "output_type": "stream",
       "stream": "stdout",
       "text": [
        "\b\b\b\b\b\b\b\b\b\b\b\b\b\b\b\b\b\b\b\b\b\b\b\b\b\b\b\b\b\b\b\b\b\b\b\b\b\b\b\b\b\b\b\b\b\b\b\b\b\b\b\b\b\b\b\b\b\b\b\b\b\b\b\b\b\b\b\b\b\b\b\b\b\b\b\b\b\b\b\b\b\b\b\r",
        "59776/60000 [============================>.] - ETA: 0s - loss: 0.1855 - acc: 0.9449"
       ]
      },
      {
       "output_type": "stream",
       "stream": "stdout",
       "text": [
        "\b\b\b\b\b\b\b\b\b\b\b\b\b\b\b\b\b\b\b\b\b\b\b\b\b\b\b\b\b\b\b\b\b\b\b\b\b\b\b\b\b\b\b\b\b\b\b\b\b\b\b\b\b\b\b\b\b\b\b\b\b\b\b\b\b\b\b\b\b\b\b\b\b\b\b\b\b\b\b\b\b\b\b\r",
        "59904/60000 [============================>.] - ETA: 0s - loss: 0.1856 - acc: 0.9449"
       ]
      },
      {
       "output_type": "stream",
       "stream": "stdout",
       "text": [
        "\b\b\b\b\b\b\b\b\b\b\b\b\b\b\b\b\b\b\b\b\b\b\b\b\b\b\b\b\b\b\b\b\b\b\b\b\b\b\b\b\b\b\b\b\b\b\b\b\b\b\b\b\b\b\b\b\b\b\b\b\b\b\b\b\b\b\b\b\b\b\b\b\b\b\b\b\b\b\b\b\b\b\b\r",
        "60000/60000 [==============================] - 12s - loss: 0.1856 - acc: 0.9449 - val_loss: 0.1524 - val_acc: 0.9550"
       ]
      },
      {
       "output_type": "stream",
       "stream": "stdout",
       "text": [
        "\n"
       ]
      },
      {
       "metadata": {},
       "output_type": "pyout",
       "prompt_number": 68,
       "text": [
        "<keras.callbacks.History at 0x7faf5caf6438>"
       ]
      }
     ],
     "prompt_number": 68
    },
    {
     "cell_type": "code",
     "collapsed": false,
     "input": [
      "score = model.evaluate(X_test\n",
      "                       , y_test\n",
      "                       , verbose=0)\n",
      "\n",
      "print(\"Accuracy =\", score[1])"
     ],
     "language": "python",
     "metadata": {},
     "outputs": [
      {
       "output_type": "stream",
       "stream": "stdout",
       "text": [
        "Accuracy = 0.955\n"
       ]
      }
     ],
     "prompt_number": 70
    }
   ],
   "metadata": {}
  }
 ]
}